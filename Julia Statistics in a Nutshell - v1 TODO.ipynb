{
 "metadata": {
  "language": "Julia",
  "name": "",
  "signature": "sha256:1b5d499040c9fa24f58ed9d1909a8d74136c270adad57b25f5af0d7552814dce"
 },
 "nbformat": 3,
 "nbformat_minor": 0,
 "worksheets": [
  {
   "cells": [
    {
     "cell_type": "markdown",
     "metadata": {},
     "source": [
      "## [Practice of John Myles White's article](http://www.johnmyleswhite.com/notebook/2012/12/02/the-state-of-statistics-in-julia/)"
     ]
    },
    {
     "cell_type": "code",
     "collapsed": false,
     "input": [],
     "language": "python",
     "metadata": {},
     "outputs": []
    }
   ],
   "metadata": {}
  }
 ]
}