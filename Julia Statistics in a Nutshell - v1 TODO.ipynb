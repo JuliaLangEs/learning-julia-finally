{
 "metadata": {
  "language": "Julia",
  "name": "",
  "signature": "sha256:2795a87edeb2c4ebfc267af72b3f34e5f76c8e12d45b495131d646a679959298"
 },
 "nbformat": 3,
 "nbformat_minor": 0,
 "worksheets": [
  {
   "cells": [
    {
     "cell_type": "markdown",
     "metadata": {},
     "source": [
      "## [Practice of John Myles White's article](http://www.johnmyleswhite.com/notebook/2012/12/02/the-state-of-statistics-in-julia/)"
     ]
    },
    {
     "cell_type": "code",
     "collapsed": false,
     "input": [
      "using DataFrames, Distributions, RDatasets, Gadfly"
     ],
     "language": "python",
     "metadata": {},
     "outputs": [],
     "prompt_number": 1
    },
    {
     "cell_type": "code",
     "collapsed": false,
     "input": [
      "x = rand(Normal(11.0, 3.0), 10_1000);"
     ],
     "language": "python",
     "metadata": {},
     "outputs": [],
     "prompt_number": 7
    },
    {
     "cell_type": "code",
     "collapsed": false,
     "input": [],
     "language": "python",
     "metadata": {},
     "outputs": []
    }
   ],
   "metadata": {}
  }
 ]
}