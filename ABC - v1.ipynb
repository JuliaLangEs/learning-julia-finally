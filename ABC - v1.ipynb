{
 "metadata": {
  "language": "Julia",
  "name": "",
  "signature": "sha256:425b8e4ee114a4d0714986ee64a18b060adb40df9503243710e42facb57dedde"
 },
 "nbformat": 3,
 "nbformat_minor": 0,
 "worksheets": [
  {
   "cells": [
    {
     "cell_type": "markdown",
     "metadata": {},
     "source": [
      "## Resources\n",
      "1. [Scipy 2014 Julia Tutorials](https://github.com/dpsanders/scipy_2014_julia)\n",
      "2. [Learn Julia in Y minutes](http://learnxinyminutes.com/docs/julia/)\n",
      "3. [Julia Manual](http://docs.julialang.org/en/latest/manual/)\n",
      "4. [Julia Machine Learning](https://github.com/josephmisiti/awesome-machine-learning)\n",
      "5. [Julia Parallel Computing](http://www.blog.juliaferraioli.com/2014/02/julia-on-google-compute-engine-parallel.html)\n",
      "6. [Some Libraries](https://github.com/svaksha/Julia.jl)\n",
      "7. [Interactive Programming](https://github.com/JuliaLang/Interact.jl/tree/master/doc/notebooks)\n",
      "\n",
      "TODO:\n",
      "1. Gadfly"
     ]
    },
    {
     "cell_type": "markdown",
     "metadata": {},
     "source": [
      "## Get familiar with the REPL"
     ]
    },
    {
     "cell_type": "code",
     "collapsed": false,
     "input": [
      "## for help using ?"
     ],
     "language": "python",
     "metadata": {},
     "outputs": [],
     "prompt_number": 1
    },
    {
     "cell_type": "code",
     "collapsed": false,
     "input": [
      "?pwd"
     ],
     "language": "python",
     "metadata": {},
     "outputs": [
      {
       "output_type": "stream",
       "stream": "stderr",
       "text": [
        "INFO: Loading help data...\n"
       ]
      },
      {
       "output_type": "stream",
       "stream": "stdout",
       "text": [
        "Base.pwd() -> String\n",
        "\n",
        "   Get the current working directory.\n"
       ]
      }
     ],
     "prompt_number": 2
    },
    {
     "cell_type": "code",
     "collapsed": false,
     "input": [
      "## command line using ;"
     ],
     "language": "python",
     "metadata": {},
     "outputs": [],
     "prompt_number": 3
    },
    {
     "cell_type": "code",
     "collapsed": false,
     "input": [
      ";ls"
     ],
     "language": "python",
     "metadata": {},
     "outputs": [
      {
       "output_type": "stream",
       "stream": "stdout",
       "text": [
        "ABC - v1.ipynb\n",
        "README.md\n"
       ]
      }
     ],
     "prompt_number": 4
    },
    {
     "cell_type": "markdown",
     "metadata": {},
     "source": [
      "## Syntex - with a focus on difference with python"
     ]
    },
    {
     "cell_type": "code",
     "collapsed": false,
     "input": [
      "## you can use markdown unicode as variable names - \\alpha ->\n",
      "\u03b1 = 1\n",
      "\u03b1"
     ],
     "language": "python",
     "metadata": {},
     "outputs": [
      {
       "metadata": {},
       "output_type": "pyout",
       "prompt_number": 5,
       "text": [
        "1"
       ]
      }
     ],
     "prompt_number": 5
    },
    {
     "cell_type": "code",
     "collapsed": false,
     "input": [
      "## there is no command, all are functions, with parenthesis\n",
      "println(\u03b1)"
     ],
     "language": "python",
     "metadata": {},
     "outputs": [
      {
       "output_type": "stream",
       "stream": "stdout",
       "text": [
        "1\n"
       ]
      }
     ],
     "prompt_number": 6
    },
    {
     "cell_type": "code",
     "collapsed": false,
     "input": [
      "## define inline functions by using expressions\n",
      "## julia uses ^ as power\n",
      "f(x) = x^2 + 2*x + 1\n",
      "f(10)"
     ],
     "language": "python",
     "metadata": {},
     "outputs": [
      {
       "metadata": {},
       "output_type": "pyout",
       "prompt_number": 7,
       "text": [
        "121"
       ]
      }
     ],
     "prompt_number": 7
    },
    {
     "cell_type": "code",
     "collapsed": false,
     "input": [
      "## they are the same\n",
      "function g(x)\n",
      "    return x*2\n",
      "end\n",
      "g(11)"
     ],
     "language": "python",
     "metadata": {},
     "outputs": [
      {
       "metadata": {},
       "output_type": "pyout",
       "prompt_number": 8,
       "text": [
        "22"
       ]
      }
     ],
     "prompt_number": 8
    },
    {
     "cell_type": "code",
     "collapsed": false,
     "input": [
      "f"
     ],
     "language": "python",
     "metadata": {},
     "outputs": [
      {
       "metadata": {},
       "output_type": "pyout",
       "prompt_number": 9,
       "text": [
        "f (generic function with 1 method)"
       ]
      }
     ],
     "prompt_number": 9
    },
    {
     "cell_type": "code",
     "collapsed": false,
     "input": [
      "g"
     ],
     "language": "python",
     "metadata": {},
     "outputs": [
      {
       "metadata": {},
       "output_type": "pyout",
       "prompt_number": 10,
       "text": [
        "g (generic function with 1 method)"
       ]
      }
     ],
     "prompt_number": 10
    },
    {
     "cell_type": "code",
     "collapsed": false,
     "input": [
      "## variable substitution\n",
      "println(\"alpha = $\u03b1\")\n",
      "println(\"sin(pi/2) = $(sin(pi/2))\")"
     ],
     "language": "python",
     "metadata": {},
     "outputs": [
      {
       "output_type": "stream",
       "stream": "stdout",
       "text": [
        "alpha = 1\n"
       ]
      },
      {
       "output_type": "stream",
       "stream": "stdout",
       "text": [
        "sin(pi/2) = 1.0\n"
       ]
      }
     ],
     "prompt_number": 11
    },
    {
     "cell_type": "code",
     "collapsed": false,
     "input": [
      "## use big to represent maximum (but NOT arbitrary) precision intergers, as the default integers are just machine intergers, so\n",
      "x = 3\n",
      "println(typeof(x))"
     ],
     "language": "python",
     "metadata": {},
     "outputs": [
      {
       "output_type": "stream",
       "stream": "stdout",
       "text": [
        "Int64\n"
       ]
      }
     ],
     "prompt_number": 12
    },
    {
     "cell_type": "code",
     "collapsed": false,
     "input": [
      "## so,\n",
      "x = int(2^62)\n",
      "println(x*6)\n",
      "## the solution is,\n",
      "x = big(2)^62\n",
      "println(x*6)\n",
      "println(typeof(x))"
     ],
     "language": "python",
     "metadata": {},
     "outputs": [
      {
       "output_type": "stream",
       "stream": "stdout",
       "text": [
        "-9223372036854775808\n"
       ]
      },
      {
       "output_type": "stream",
       "stream": "stdout",
       "text": [
        "27670116110564327424\n",
        "BigInt\n"
       ]
      }
     ],
     "prompt_number": 13
    },
    {
     "cell_type": "code",
     "collapsed": false,
     "input": [
      "## but,\n",
      "x = big(10)^27\n",
      "println(x)\n",
      "## not\n",
      "x = big(10^27)\n",
      "println(x)"
     ],
     "language": "python",
     "metadata": {},
     "outputs": [
      {
       "output_type": "stream",
       "stream": "stdout",
       "text": [
        "1000000000000000000000000000\n"
       ]
      },
      {
       "output_type": "stream",
       "stream": "stdout",
       "text": [
        "-6930898827444486144\n"
       ]
      }
     ],
     "prompt_number": 14
    },
    {
     "cell_type": "code",
     "collapsed": false,
     "input": [
      "typemax(Int64)"
     ],
     "language": "python",
     "metadata": {},
     "outputs": [
      {
       "metadata": {},
       "output_type": "pyout",
       "prompt_number": 15,
       "text": [
        "9223372036854775807"
       ]
      }
     ],
     "prompt_number": 15
    },
    {
     "cell_type": "code",
     "collapsed": false,
     "input": [
      "## Rational numbers\n",
      "x = 3//4 + 1//2\n",
      "typeof(x)"
     ],
     "language": "python",
     "metadata": {},
     "outputs": [
      {
       "metadata": {},
       "output_type": "pyout",
       "prompt_number": 16,
       "text": [
        "Rational{Int64} (constructor with 1 method)"
       ]
      }
     ],
     "prompt_number": 16
    },
    {
     "cell_type": "code",
     "collapsed": false,
     "input": [
      "## by the way the operators are just syntax sugar of functions\n",
      "/(3, 4)"
     ],
     "language": "python",
     "metadata": {},
     "outputs": [
      {
       "metadata": {},
       "output_type": "pyout",
       "prompt_number": 17,
       "text": [
        "0.75"
       ]
      }
     ],
     "prompt_number": 17
    },
    {
     "cell_type": "code",
     "collapsed": false,
     "input": [
      "## methods and functions - or methods of generic functions\n",
      "## MULTIPLE DISPATCH\n",
      "methods(//)"
     ],
     "language": "python",
     "metadata": {},
     "outputs": [
      {
       "html": [
        "8 methods for generic function <b>//</b>:<ul><li> //(n::<b>Integer</b>,d::<b>Integer</b>) at <a href=\"https://github.com/JuliaLang/julia/tree/768187890c2709bf2ff06818f40e1cdc79bd44b0/base/rational.jl#L15\" target=\"_blank\">rational.jl:15</a><li> //(x::<b>Rational{T<:Integer}</b>,y::<b>Integer</b>) at <a href=\"https://github.com/JuliaLang/julia/tree/768187890c2709bf2ff06818f40e1cdc79bd44b0/base/rational.jl#L16\" target=\"_blank\">rational.jl:16</a><li> //(x::<b>Integer</b>,y::<b>Rational{T<:Integer}</b>) at <a href=\"https://github.com/JuliaLang/julia/tree/768187890c2709bf2ff06818f40e1cdc79bd44b0/base/rational.jl#L17\" target=\"_blank\">rational.jl:17</a><li> //(x::<b>Rational{T<:Integer}</b>,y::<b>Rational{T<:Integer}</b>) at <a href=\"https://github.com/JuliaLang/julia/tree/768187890c2709bf2ff06818f40e1cdc79bd44b0/base/rational.jl#L18\" target=\"_blank\">rational.jl:18</a><li> //(x::<b>Complex{T<:Real}</b>,y::<b>Real</b>) at <a href=\"https://github.com/JuliaLang/julia/tree/768187890c2709bf2ff06818f40e1cdc79bd44b0/base/rational.jl#L19\" target=\"_blank\">rational.jl:19</a><li> //(x::<b>Real</b>,y::<b>Complex{T<:Real}</b>) at <a href=\"https://github.com/JuliaLang/julia/tree/768187890c2709bf2ff06818f40e1cdc79bd44b0/base/rational.jl#L20\" target=\"_blank\">rational.jl:20</a><li> //(x::<b>Complex{T<:Real}</b>,y::<b>Complex{T<:Real}</b>) at <a href=\"https://github.com/JuliaLang/julia/tree/768187890c2709bf2ff06818f40e1cdc79bd44b0/base/rational.jl#L23\" target=\"_blank\">rational.jl:23</a><li> //(X::<b>AbstractArray{T,N}</b>,y::<b>Number</b>) at <a href=\"https://github.com/JuliaLang/julia/tree/768187890c2709bf2ff06818f40e1cdc79bd44b0/base/rational.jl#L28\" target=\"_blank\">rational.jl:28</a></ul>"
       ],
       "metadata": {},
       "output_type": "pyout",
       "prompt_number": 18,
       "text": [
        "# 8 methods for generic function \"//\":\n",
        "//(n::Integer,d::Integer) at rational.jl:15\n",
        "//(x::Rational{T<:Integer},y::Integer) at rational.jl:16\n",
        "//(x::Integer,y::Rational{T<:Integer}) at rational.jl:17\n",
        "//(x::Rational{T<:Integer},y::Rational{T<:Integer}) at rational.jl:18\n",
        "//(x::Complex{T<:Real},y::Real) at rational.jl:19\n",
        "//(x::Real,y::Complex{T<:Real}) at rational.jl:20\n",
        "//(x::Complex{T<:Real},y::Complex{T<:Real}) at rational.jl:23\n",
        "//(X::AbstractArray{T,N},y::Number) at rational.jl:28"
       ]
      }
     ],
     "prompt_number": 18
    },
    {
     "cell_type": "markdown",
     "metadata": {},
     "source": [
      "## vectors"
     ]
    },
    {
     "cell_type": "code",
     "collapsed": false,
     "input": [
      "xs = [1, 2, 3]\n",
      "typeof(xs)"
     ],
     "language": "python",
     "metadata": {},
     "outputs": [
      {
       "metadata": {},
       "output_type": "pyout",
       "prompt_number": 21,
       "text": [
        "Array{Int64,1}"
       ]
      }
     ],
     "prompt_number": 21
    },
    {
     "cell_type": "code",
     "collapsed": false,
     "input": [
      "[1 2 3]"
     ],
     "language": "python",
     "metadata": {},
     "outputs": [
      {
       "metadata": {},
       "output_type": "pyout",
       "prompt_number": 20,
       "text": [
        "1x3 Array{Int64,2}:\n",
        " 1  2  3"
       ]
      }
     ],
     "prompt_number": 20
    },
    {
     "cell_type": "code",
     "collapsed": false,
     "input": [
      "xs[0]"
     ],
     "language": "python",
     "metadata": {},
     "outputs": [
      {
       "ename": "LoadError",
       "evalue": "BoundsError()\nwhile loading In[22], in expression starting on line 1",
       "output_type": "pyerr",
       "traceback": [
        "BoundsError()\nwhile loading In[22], in expression starting on line 1",
        " in getindex_3B_376 at /usr/bin/../lib/x86_64-linux-gnu/julia/sys.so"
       ]
      }
     ],
     "prompt_number": 22
    },
    {
     "cell_type": "code",
     "collapsed": false,
     "input": [
      "xs[[3, 1]]"
     ],
     "language": "python",
     "metadata": {},
     "outputs": [
      {
       "metadata": {},
       "output_type": "pyout",
       "prompt_number": 23,
       "text": [
        "2-element Array{Int64,1}:\n",
        " 3\n",
        " 1"
       ]
      }
     ],
     "prompt_number": 23
    },
    {
     "cell_type": "code",
     "collapsed": false,
     "input": [
      "xs[-1]"
     ],
     "language": "python",
     "metadata": {},
     "outputs": [
      {
       "ename": "LoadError",
       "evalue": "BoundsError()\nwhile loading In[24], in expression starting on line 1",
       "output_type": "pyerr",
       "traceback": [
        "BoundsError()\nwhile loading In[24], in expression starting on line 1",
        " in getindex_3B_376 at /usr/bin/../lib/x86_64-linux-gnu/julia/sys.so"
       ]
      }
     ],
     "prompt_number": 24
    },
    {
     "cell_type": "code",
     "collapsed": false,
     "input": [
      "xs = [1, 2, 3]\n",
      "println(xs *2)"
     ],
     "language": "python",
     "metadata": {},
     "outputs": [
      {
       "output_type": "stream",
       "stream": "stdout",
       "text": [
        "[2"
       ]
      },
      {
       "output_type": "stream",
       "stream": "stdout",
       "text": [
        ",4,6]\n"
       ]
      }
     ],
     "prompt_number": 25
    },
    {
     "cell_type": "code",
     "collapsed": false,
     "input": [
      "xs = [1, \"hi\", 2]"
     ],
     "language": "python",
     "metadata": {},
     "outputs": [
      {
       "metadata": {},
       "output_type": "pyout",
       "prompt_number": 26,
       "text": [
        "3-element Array{Any,1}:\n",
        " 1    \n",
        "  \"hi\"\n",
        " 2    "
       ]
      }
     ],
     "prompt_number": 26
    },
    {
     "cell_type": "code",
     "collapsed": false,
     "input": [
      "## in julia, a char and a string are different\n",
      "xs = [1., 'a', ]"
     ],
     "language": "python",
     "metadata": {},
     "outputs": [
      {
       "metadata": {},
       "output_type": "pyout",
       "prompt_number": 27,
       "text": [
        "2-element Array{Float64,1}:\n",
        "  1.0\n",
        " 97.0"
       ]
      }
     ],
     "prompt_number": 27
    },
    {
     "cell_type": "code",
     "collapsed": false,
     "input": [
      "xs = [1., 2, 3]"
     ],
     "language": "python",
     "metadata": {},
     "outputs": [
      {
       "metadata": {},
       "output_type": "pyout",
       "prompt_number": 28,
       "text": [
        "3-element Array{Float64,1}:\n",
        " 1.0\n",
        " 2.0\n",
        " 3.0"
       ]
      }
     ],
     "prompt_number": 28
    },
    {
     "cell_type": "code",
     "collapsed": false,
     "input": [
      "xs[1:end-1]"
     ],
     "language": "python",
     "metadata": {},
     "outputs": [
      {
       "metadata": {},
       "output_type": "pyout",
       "prompt_number": 29,
       "text": [
        "2-element Array{Float64,1}:\n",
        " 1.0\n",
        " 2.0"
       ]
      }
     ],
     "prompt_number": 29
    },
    {
     "cell_type": "markdown",
     "metadata": {},
     "source": [
      "***So unlike python where lists can be heterogeneous, arrays in julia are homogeneous***"
     ]
    },
    {
     "cell_type": "code",
     "collapsed": false,
     "input": [
      "## more about Julia.Arrays - similiar to python.list and numpy.ndarray\n",
      "\n",
      "xs = [1, 2, 3]\n",
      "push!(xs, 5)\n",
      "println(xs)"
     ],
     "language": "python",
     "metadata": {},
     "outputs": [
      {
       "output_type": "stream",
       "stream": "stdout",
       "text": [
        "[1"
       ]
      },
      {
       "output_type": "stream",
       "stream": "stdout",
       "text": [
        ",2,3,5]\n"
       ]
      }
     ],
     "prompt_number": 30
    },
    {
     "cell_type": "code",
     "collapsed": false,
     "input": [
      "xs = [1, 2, 3]\n",
      "append!(xs, [6])\n",
      "println(xs)"
     ],
     "language": "python",
     "metadata": {},
     "outputs": [
      {
       "output_type": "stream",
       "stream": "stdout",
       "text": [
        "[1"
       ]
      },
      {
       "output_type": "stream",
       "stream": "stdout",
       "text": [
        ",2,3,6]\n"
       ]
      }
     ],
     "prompt_number": 31
    },
    {
     "cell_type": "code",
     "collapsed": false,
     "input": [
      "xs * 2"
     ],
     "language": "python",
     "metadata": {},
     "outputs": [
      {
       "metadata": {},
       "output_type": "pyout",
       "prompt_number": 32,
       "text": [
        "4-element Array{Int64,1}:\n",
        "  2\n",
        "  4\n",
        "  6\n",
        " 12"
       ]
      }
     ],
     "prompt_number": 32
    },
    {
     "cell_type": "markdown",
     "metadata": {},
     "source": [
      "***Different from python where lists and arrays have internal functions to that type, Julia objects don't have any methods. There are only functions that can be applied to certain objects***"
     ]
    },
    {
     "cell_type": "code",
     "collapsed": false,
     "input": [
      "methodswith(Array)[1:5]"
     ],
     "language": "python",
     "metadata": {},
     "outputs": [
      {
       "html": [
        "5-element Array{Method,1}:<ul><li> Message(a::<b>Array{T,N}</b>) at <a href=\"https://github.com/JuliaLang/ZMQ.jl/tree/8f1eddbfa8a044513776953d702efb6b9c122beb/src/ZMQ.jl#L405\" target=\"_blank\">/home/dola/.julia/v0.3/ZMQ/src/ZMQ.jl:405</a><li> reinterpret<i>{T,S}</i>(::<b>Type{T}</b>,a::<b>Array{S,N}</b>) at <a href=\"https://github.com/JuliaLang/julia/tree/768187890c2709bf2ff06818f40e1cdc79bd44b0/base/array.jl#L66\" target=\"_blank\">array.jl:66</a><li> reinterpret<i>{T,S,N}</i>(::<b>Type{T}</b>,a::<b>Array{S,N}</b>,dims::<b>NTuple{N,Int64}</b>) at <a href=\"https://github.com/JuliaLang/julia/tree/768187890c2709bf2ff06818f40e1cdc79bd44b0/base/array.jl#L73\" target=\"_blank\">array.jl:73</a><li> msync<i>{T}</i>(A::<b>Array{T,N}</b>) at <a href=\"https://github.com/JuliaLang/julia/tree/768187890c2709bf2ff06818f40e1cdc79bd44b0/base/mmap.jl#L6\" target=\"_blank\">mmap.jl:6</a><li> slicedim(A::<b>Array{T,N}</b>,d::<b>Integer</b>,i::<b>Integer</b>) at <a href=\"https://github.com/JuliaLang/julia/tree/768187890c2709bf2ff06818f40e1cdc79bd44b0/base/array.jl#L843\" target=\"_blank\">array.jl:843</a></ul>"
       ],
       "metadata": {},
       "output_type": "pyout",
       "prompt_number": 33,
       "text": [
        "5-element Array{Method,1}:\n",
        " Message(a::Array{T,N}) at /home/dola/.julia/v0.3/ZMQ/src/ZMQ.jl:405             \n",
        " reinterpret{T,S}(::Type{T},a::Array{S,N}) at array.jl:66                        \n",
        " reinterpret{T,S,N}(::Type{T},a::Array{S,N},dims::NTuple{N,Int64}) at array.jl:73\n",
        " msync{T}(A::Array{T,N}) at mmap.jl:6                                            \n",
        " slicedim(A::Array{T,N},d::Integer,i::Integer) at array.jl:843                   "
       ]
      }
     ],
     "prompt_number": 33
    },
    {
     "cell_type": "code",
     "collapsed": false,
     "input": [
      "xs = [1, 2, 3]\n",
      "xs[xs .== 2]"
     ],
     "language": "python",
     "metadata": {},
     "outputs": [
      {
       "metadata": {},
       "output_type": "pyout",
       "prompt_number": 34,
       "text": [
        "1-element Array{Int64,1}:\n",
        " 2"
       ]
      }
     ],
     "prompt_number": 34
    },
    {
     "cell_type": "code",
     "collapsed": false,
     "input": [
      "xs = [1, 2, 3]\n",
      "ys = [4, 5, 6]\n",
      "println (xs.*ys)\n",
      "println (dot(xs,ys))"
     ],
     "language": "python",
     "metadata": {},
     "outputs": [
      {
       "output_type": "stream",
       "stream": "stdout",
       "text": [
        "[4"
       ]
      },
      {
       "output_type": "stream",
       "stream": "stdout",
       "text": [
        ",10,18]\n",
        "32\n"
       ]
      }
     ],
     "prompt_number": 35
    },
    {
     "cell_type": "code",
     "collapsed": false,
     "input": [
      "transpose(xs) == xs'"
     ],
     "language": "python",
     "metadata": {},
     "outputs": [
      {
       "metadata": {},
       "output_type": "pyout",
       "prompt_number": 36,
       "text": [
        "true"
       ]
      }
     ],
     "prompt_number": 36
    },
    {
     "cell_type": "code",
     "collapsed": false,
     "input": [
      "## How about matrices - BIG suprise to pythonist\n",
      "M = [[1, 2], [3, 4]]"
     ],
     "language": "python",
     "metadata": {},
     "outputs": [
      {
       "metadata": {},
       "output_type": "pyout",
       "prompt_number": 37,
       "text": [
        "4-element Array{Int64,1}:\n",
        " 1\n",
        " 2\n",
        " 3\n",
        " 4"
       ]
      }
     ],
     "prompt_number": 37
    },
    {
     "cell_type": "code",
     "collapsed": false,
     "input": [
      "M = [[1, 2]; [3, 4]]"
     ],
     "language": "python",
     "metadata": {},
     "outputs": [
      {
       "metadata": {},
       "output_type": "pyout",
       "prompt_number": 38,
       "text": [
        "4-element Array{Int64,1}:\n",
        " 1\n",
        " 2\n",
        " 3\n",
        " 4"
       ]
      }
     ],
     "prompt_number": 38
    },
    {
     "cell_type": "code",
     "collapsed": false,
     "input": [
      "# you have to use the matlab style\n",
      "M = [1 2; 3 4]"
     ],
     "language": "python",
     "metadata": {},
     "outputs": [
      {
       "metadata": {},
       "output_type": "pyout",
       "prompt_number": 39,
       "text": [
        "2x2 Array{Int64,2}:\n",
        " 1  2\n",
        " 3  4"
       ]
      }
     ],
     "prompt_number": 39
    },
    {
     "cell_type": "code",
     "collapsed": false,
     "input": [
      "## or even more ugly\n",
      "M = reshape([1, 2, 3, 4], (2, 2))"
     ],
     "language": "python",
     "metadata": {},
     "outputs": [
      {
       "metadata": {},
       "output_type": "pyout",
       "prompt_number": 40,
       "text": [
        "2x2 Array{Int64,2}:\n",
        " 1  3\n",
        " 2  4"
       ]
      }
     ],
     "prompt_number": 40
    },
    {
     "cell_type": "code",
     "collapsed": false,
     "input": [
      "## geeky stuff\n",
      "println(xs, ys)\n",
      "println(xs \u22c5 ys)\n",
      "println(xs \u00d7 ys)"
     ],
     "language": "python",
     "metadata": {},
     "outputs": [
      {
       "output_type": "stream",
       "stream": "stdout",
       "text": [
        "[1"
       ]
      },
      {
       "output_type": "stream",
       "stream": "stdout",
       "text": [
        ",2,3][4,5,6]\n",
        "32\n",
        "[-3,6,-3]\n"
       ]
      }
     ],
     "prompt_number": 41
    },
    {
     "cell_type": "code",
     "collapsed": false,
     "input": [
      "[1:2:10]"
     ],
     "language": "python",
     "metadata": {},
     "outputs": [
      {
       "metadata": {},
       "output_type": "pyout",
       "prompt_number": 42,
       "text": [
        "5-element Array{Int64,1}:\n",
        " 1\n",
        " 3\n",
        " 5\n",
        " 7\n",
        " 9"
       ]
      }
     ],
     "prompt_number": 42
    },
    {
     "cell_type": "code",
     "collapsed": false,
     "input": [
      "## cancat of matrix\n",
      "M = [1 2; 3 4]\n",
      "N = [5 6; 7 8]\n",
      "cat(1, M, N)"
     ],
     "language": "python",
     "metadata": {},
     "outputs": [
      {
       "metadata": {},
       "output_type": "pyout",
       "prompt_number": 48,
       "text": [
        "4x2 Array{Int64,2}:\n",
        " 1  2\n",
        " 3  4\n",
        " 5  6\n",
        " 7  8"
       ]
      }
     ],
     "prompt_number": 48
    },
    {
     "cell_type": "code",
     "collapsed": false,
     "input": [
      "## concat of matrix\n",
      "M = [1 2; 3 4]\n",
      "N = [5 6; 7 8]\n",
      "cat(2, M, N)"
     ],
     "language": "python",
     "metadata": {},
     "outputs": [
      {
       "metadata": {},
       "output_type": "pyout",
       "prompt_number": 49,
       "text": [
        "2x4 Array{Int64,2}:\n",
        " 1  2  5  6\n",
        " 3  4  7  8"
       ]
      }
     ],
     "prompt_number": 49
    },
    {
     "cell_type": "code",
     "collapsed": false,
     "input": [
      "## for loop using and in\n",
      "total = 0\n",
      "for i = 1:10\n",
      "    total += i\n",
      "end\n",
      "print(total)"
     ],
     "language": "python",
     "metadata": {},
     "outputs": [
      {
       "output_type": "stream",
       "stream": "stdout",
       "text": [
        "55"
       ]
      }
     ],
     "prompt_number": 1
    },
    {
     "cell_type": "code",
     "collapsed": false,
     "input": [
      "total = 0\n",
      "for i in 1:10\n",
      "    total += i\n",
      "end\n",
      "print(total)"
     ],
     "language": "python",
     "metadata": {},
     "outputs": [
      {
       "output_type": "stream",
       "stream": "stdout",
       "text": [
        "55"
       ]
      }
     ],
     "prompt_number": 15
    },
    {
     "cell_type": "code",
     "collapsed": false,
     "input": [
      "typeof(1:10)"
     ],
     "language": "python",
     "metadata": {},
     "outputs": [
      {
       "metadata": {},
       "output_type": "pyout",
       "prompt_number": 2,
       "text": [
        "UnitRange{Int64} (constructor with 1 method)"
       ]
      }
     ],
     "prompt_number": 2
    },
    {
     "cell_type": "code",
     "collapsed": false,
     "input": [
      "1:10 == [1:10]"
     ],
     "language": "python",
     "metadata": {},
     "outputs": [
      {
       "metadata": {},
       "output_type": "pyout",
       "prompt_number": 3,
       "text": [
        "false"
       ]
      }
     ],
     "prompt_number": 3
    },
    {
     "cell_type": "code",
     "collapsed": false,
     "input": [
      "collect(1:10) == [1:10]"
     ],
     "language": "python",
     "metadata": {},
     "outputs": [
      {
       "metadata": {},
       "output_type": "pyout",
       "prompt_number": 5,
       "text": [
        "true"
       ]
      }
     ],
     "prompt_number": 5
    },
    {
     "cell_type": "code",
     "collapsed": false,
     "input": [
      "## short circuit evaluation\n",
      "a = 3\n",
      "a < 5 && println(\"Small\")\n",
      "a < 5 || println(\"small\")"
     ],
     "language": "python",
     "metadata": {},
     "outputs": [
      {
       "output_type": "stream",
       "stream": "stdout",
       "text": [
        "Small\n"
       ]
      },
      {
       "metadata": {},
       "output_type": "pyout",
       "prompt_number": 6,
       "text": [
        "true"
       ]
      }
     ],
     "prompt_number": 6
    },
    {
     "cell_type": "code",
     "collapsed": false,
     "input": [
      "a == 3 ? println(\"a == 3\") : println(\"not ture\")"
     ],
     "language": "python",
     "metadata": {},
     "outputs": [
      {
       "output_type": "stream",
       "stream": "stdout",
       "text": [
        "a == 3\n"
       ]
      }
     ],
     "prompt_number": 8
    },
    {
     "cell_type": "code",
     "collapsed": false,
     "input": [
      "## list comprehension\n",
      "squares = [x^2 for x in 1:10]"
     ],
     "language": "python",
     "metadata": {},
     "outputs": [
      {
       "metadata": {},
       "output_type": "pyout",
       "prompt_number": 9,
       "text": [
        "10-element Array{Int64,1}:\n",
        "   1\n",
        "   4\n",
        "   9\n",
        "  16\n",
        "  25\n",
        "  36\n",
        "  49\n",
        "  64\n",
        "  81\n",
        " 100"
       ]
      }
     ],
     "prompt_number": 9
    },
    {
     "cell_type": "code",
     "collapsed": false,
     "input": [
      "map(big, [1 2 3; 4 5 6])"
     ],
     "language": "python",
     "metadata": {},
     "outputs": [
      {
       "metadata": {},
       "output_type": "pyout",
       "prompt_number": 39,
       "text": [
        "2x3 Array{BigInt,2}:\n",
        " 1  2  3\n",
        " 4  5  6"
       ]
      }
     ],
     "prompt_number": 39
    },
    {
     "cell_type": "markdown",
     "metadata": {},
     "source": [
      "**Linear Algebra**"
     ]
    },
    {
     "cell_type": "code",
     "collapsed": false,
     "input": [
      "[i + j for i in 1: 5, j in 1:6]"
     ],
     "language": "python",
     "metadata": {},
     "outputs": [
      {
       "metadata": {},
       "output_type": "pyout",
       "prompt_number": 22,
       "text": [
        "5x6 Array{Int64,2}:\n",
        " 2  3  4  5   6   7\n",
        " 3  4  5  6   7   8\n",
        " 4  5  6  7   8   9\n",
        " 5  6  7  8   9  10\n",
        " 6  7  8  9  10  11"
       ]
      }
     ],
     "prompt_number": 22
    },
    {
     "cell_type": "code",
     "collapsed": false,
     "input": [
      "size([1 2; 3 4])"
     ],
     "language": "python",
     "metadata": {},
     "outputs": [
      {
       "metadata": {},
       "output_type": "pyout",
       "prompt_number": 19,
       "text": [
        "(2,2)"
       ]
      }
     ],
     "prompt_number": 19
    },
    {
     "cell_type": "code",
     "collapsed": false,
     "input": [
      "rand()"
     ],
     "language": "python",
     "metadata": {},
     "outputs": [
      {
       "metadata": {},
       "output_type": "pyout",
       "prompt_number": 20,
       "text": [
        "0.7516325500446117"
       ]
      }
     ],
     "prompt_number": 20
    },
    {
     "cell_type": "code",
     "collapsed": false,
     "input": [
      "M = rand(10, 10)\n",
      "N = M*M'"
     ],
     "language": "python",
     "metadata": {},
     "outputs": [
      {
       "metadata": {},
       "output_type": "pyout",
       "prompt_number": 31,
       "text": [
        "10x10 Array{Float64,2}:\n",
        " 2.8256   2.73023  2.70802  2.26206  \u2026  1.52928  2.42917  2.48265  2.52602\n",
        " 2.73023  3.21403  2.85724  2.38251     1.49186  2.90437  2.76962  2.70457\n",
        " 2.70802  2.85724  4.0792   2.06132     1.5641   2.15369  3.06264  2.57044\n",
        " 2.26206  2.38251  2.06132  2.36447     1.33671  2.28874  2.31637  2.3767 \n",
        " 1.89462  2.03584  2.25007  1.85726     1.38188  2.00154  2.28022  2.35892\n",
        " 2.86398  3.40257  3.66283  2.56428  \u2026  2.00403  3.47278  3.52683  2.64035\n",
        " 1.52928  1.49186  1.5641   1.33671     1.16209  1.68275  1.59878  1.59544\n",
        " 2.42917  2.90437  2.15369  2.28874     1.68275  3.43525  2.629    2.56108\n",
        " 2.48265  2.76962  3.06264  2.31637     1.59878  2.629    3.51701  2.51431\n",
        " 2.52602  2.70457  2.57044  2.3767      1.59544  2.56108  2.51431  3.20627"
       ]
      }
     ],
     "prompt_number": 31
    },
    {
     "cell_type": "code",
     "collapsed": false,
     "input": [
      "eig_values, eig_vects = eig(N)"
     ],
     "language": "python",
     "metadata": {},
     "outputs": [
      {
       "metadata": {},
       "output_type": "pyout",
       "prompt_number": 34,
       "text": [
        "([0.000135972,0.0751821,0.154991,0.285158,0.38891,0.574994,0.841505,1.60008,1.88113,25.1366],\n",
        "10x10 Array{Float64,2}:\n",
        " -0.408897   -0.0862091  -0.0399475  \u2026   0.161027   -0.113898   -0.308451\n",
        "  0.33127    -0.460631   -0.296158      -0.0889904  -0.0872225  -0.339368\n",
        "  0.197025    0.444704   -0.0557153      0.421684    0.603736   -0.34715 \n",
        "  0.178893    0.307729   -0.0869675      0.0589512  -0.30138    -0.276365\n",
        " -0.277926   -0.156526   -0.645603       0.304427   -0.153236   -0.259512\n",
        " -0.328856   -0.271456    0.17018    \u2026  -0.510495    0.412739   -0.405366\n",
        "  0.666331   -0.262262    0.101858      -0.0335602  -0.0816934  -0.194434\n",
        "  0.0114465   0.559698   -0.105336      -0.538594   -0.332019   -0.326171\n",
        "  0.0406531  -0.035051    0.211566       0.0288784   0.196581   -0.341996\n",
        " -0.145158   -0.0804204   0.622922       0.373543   -0.417975   -0.316187)"
       ]
      }
     ],
     "prompt_number": 34
    },
    {
     "cell_type": "code",
     "collapsed": false,
     "input": [
      "print(\"hello\\tworld\")"
     ],
     "language": "python",
     "metadata": {},
     "outputs": [
      {
       "output_type": "stream",
       "stream": "stdout",
       "text": [
        "hello\tworld"
       ]
      }
     ],
     "prompt_number": 4
    },
    {
     "cell_type": "code",
     "collapsed": false,
     "input": [
      "run(`ls`)"
     ],
     "language": "python",
     "metadata": {},
     "outputs": [
      {
       "output_type": "stream",
       "stream": "stdout",
       "text": [
        "ABC - v1.ipynb\n",
        "README.md\n"
       ]
      }
     ],
     "prompt_number": 6
    },
    {
     "cell_type": "code",
     "collapsed": false,
     "input": [
      "\"hello\" * \"world\""
     ],
     "language": "python",
     "metadata": {},
     "outputs": [
      {
       "metadata": {},
       "output_type": "pyout",
       "prompt_number": 7,
       "text": [
        "\"helloworld\""
       ]
      }
     ],
     "prompt_number": 7
    },
    {
     "cell_type": "code",
     "collapsed": false,
     "input": [
      "typeof(\"s\") == String"
     ],
     "language": "python",
     "metadata": {},
     "outputs": [
      {
       "metadata": {},
       "output_type": "pyout",
       "prompt_number": 10,
       "text": [
        "false"
       ]
      }
     ],
     "prompt_number": 10
    },
    {
     "cell_type": "markdown",
     "metadata": {},
     "source": [
      "**customized vector**"
     ]
    },
    {
     "cell_type": "code",
     "collapsed": false,
     "input": [
      "immutable Vector{T <: Real}\n",
      "    x:: T\n",
      "    y:: T\n",
      "end\n",
      "\n",
      "v1 = Vector(3, 4)\n",
      "v2 = Vector(1, 2)\n",
      "v1 + v2"
     ],
     "language": "python",
     "metadata": {},
     "outputs": [
      {
       "ename": "LoadError",
       "evalue": "invalid redefinition of constant Vector\nwhile loading In[24], in expression starting on line 1",
       "output_type": "pyerr",
       "traceback": [
        "invalid redefinition of constant Vector\nwhile loading In[24], in expression starting on line 1",
        ""
       ]
      }
     ],
     "prompt_number": 24
    },
    {
     "cell_type": "code",
     "collapsed": false,
     "input": [
      "+(a::Vector, b::Vector) = Vector(a.x+b.x, a.y+b.y)\n",
      "v1+v2"
     ],
     "language": "python",
     "metadata": {},
     "outputs": [
      {
       "metadata": {},
       "output_type": "pyout",
       "prompt_number": 25,
       "text": [
        "Vector(4.0,6.0)"
       ]
      }
     ],
     "prompt_number": 25
    },
    {
     "cell_type": "code",
     "collapsed": false,
     "input": [
      "print(v1 * 5)\n",
      "print(5 * v1)"
     ],
     "language": "python",
     "metadata": {},
     "outputs": [
      {
       "output_type": "stream",
       "stream": "stdout",
       "text": [
        "Vector("
       ]
      },
      {
       "output_type": "stream",
       "stream": "stdout",
       "text": [
        "15.0,20.0)Vector(15.0,20.0)"
       ]
      }
     ],
     "prompt_number": 26
    },
    {
     "cell_type": "code",
     "collapsed": false,
     "input": [
      "*(s::Number, v::Vector) = Vector(v.x*s, v.y*s)\n",
      "*(v::Vector, s::Number) = s*v"
     ],
     "language": "python",
     "metadata": {},
     "outputs": [
      {
       "metadata": {},
       "output_type": "pyout",
       "prompt_number": 27,
       "text": [
        "* (generic function with 130 methods)"
       ]
      }
     ],
     "prompt_number": 27
    },
    {
     "cell_type": "code",
     "collapsed": false,
     "input": [
      "println(v1 * 5)\n",
      "println(5 * v1)"
     ],
     "language": "python",
     "metadata": {},
     "outputs": [
      {
       "output_type": "stream",
       "stream": "stdout",
       "text": [
        "Vector("
       ]
      },
      {
       "output_type": "stream",
       "stream": "stdout",
       "text": [
        "15.0,20.0)\n",
        "Vector(15.0,20.0)\n"
       ]
      }
     ],
     "prompt_number": 28
    },
    {
     "cell_type": "code",
     "collapsed": false,
     "input": [
      "super(Integer), super(Real), super(Number)"
     ],
     "language": "python",
     "metadata": {},
     "outputs": [
      {
       "metadata": {},
       "output_type": "pyout",
       "prompt_number": 31,
       "text": [
        "(Real,Number,Any)"
       ]
      }
     ],
     "prompt_number": 31
    },
    {
     "cell_type": "code",
     "collapsed": false,
     "input": [
      "Symmetric([1 2; 3 4])"
     ],
     "language": "python",
     "metadata": {},
     "outputs": [
      {
       "metadata": {},
       "output_type": "pyout",
       "prompt_number": 34,
       "text": [
        "2x2 Symmetric{Int64}:\n",
        " 1  2\n",
        " 2  4"
       ]
      }
     ],
     "prompt_number": 34
    },
    {
     "cell_type": "markdown",
     "metadata": {},
     "source": [
      "**plotting**"
     ]
    },
    {
     "cell_type": "code",
     "collapsed": false,
     "input": [
      "using PyPlot"
     ],
     "language": "python",
     "metadata": {},
     "outputs": [],
     "prompt_number": 38
    },
    {
     "cell_type": "code",
     "collapsed": false,
     "input": [
      "x = [1:10]\n",
      "y = x\n",
      "plot(x, y, \"ro-\")"
     ],
     "language": "python",
     "metadata": {},
     "outputs": [
      {
       "metadata": {},
       "output_type": "display_data",
       "png": "[encoded data removed]",
       "text": [
        "Figure(PyObject <matplotlib.figure.Figure object at 0x7fbbea92b090>)"
       ]
      },
      {
       "metadata": {},
       "output_type": "pyout",
       "prompt_number": 45,
       "text": [
        "1-element Array{Any,1}:\n",
        " PyObject <matplotlib.lines.Line2D object at 0x7fbbea742290>"
       ]
      }
     ],
     "prompt_number": 45
    },
    {
     "cell_type": "code",
     "collapsed": false,
     "input": [
      "get({1=>\"hi\"}, 2, nan)"
     ],
     "language": "python",
     "metadata": {},
     "outputs": [
      {
       "metadata": {},
       "output_type": "pyout",
       "prompt_number": 50,
       "text": [
        "nan (generic function with 5 methods)"
       ]
      }
     ],
     "prompt_number": 50
    },
    {
     "cell_type": "code",
     "collapsed": false,
     "input": [
      "{1=>\"one\", 2=>\"two\"} == [1=>\"one\", 2=>\"two\"]"
     ],
     "language": "python",
     "metadata": {},
     "outputs": [
      {
       "metadata": {},
       "output_type": "pyout",
       "prompt_number": 51,
       "text": [
        "true"
       ]
      }
     ],
     "prompt_number": 51
    },
    {
     "cell_type": "code",
     "collapsed": false,
     "input": [
      "## anonymouse function\n",
      "map(x-> x+1, 1:10)"
     ],
     "language": "python",
     "metadata": {},
     "outputs": [
      {
       "metadata": {},
       "output_type": "pyout",
       "prompt_number": 52,
       "text": [
        "10-element Array{Int64,1}:\n",
        "  2\n",
        "  3\n",
        "  4\n",
        "  5\n",
        "  6\n",
        "  7\n",
        "  8\n",
        "  9\n",
        " 10\n",
        " 11"
       ]
      }
     ],
     "prompt_number": 52
    },
    {
     "cell_type": "code",
     "collapsed": false,
     "input": [
      "function foo(a; b = 6)\n",
      "    print(\"$a\\t$b\")\n",
      "end\n",
      "\n",
      "foo(2, b = 10)"
     ],
     "language": "python",
     "metadata": {},
     "outputs": [
      {
       "output_type": "stream",
       "stream": "stdout",
       "text": [
        "2\t10"
       ]
      }
     ],
     "prompt_number": 63
    },
    {
     "cell_type": "code",
     "collapsed": false,
     "input": [
      "print(typeof(Number))\n",
      "print(typeof(typeof(Number)))"
     ],
     "language": "python",
     "metadata": {},
     "outputs": [
      {
       "output_type": "stream",
       "stream": "stdout",
       "text": [
        "DataTypeDataType"
       ]
      }
     ],
     "prompt_number": 69
    },
    {
     "cell_type": "code",
     "collapsed": false,
     "input": [
      "for i in 1:5\n",
      "    t = i\n",
      "end\n",
      "print(t)"
     ],
     "language": "python",
     "metadata": {},
     "outputs": [
      {
       "ename": "LoadError",
       "evalue": "t not defined\nwhile loading In[70], in expression starting on line 4",
       "output_type": "pyerr",
       "traceback": [
        "t not defined\nwhile loading In[70], in expression starting on line 4",
        ""
       ]
      }
     ],
     "prompt_number": 70
    },
    {
     "cell_type": "markdown",
     "metadata": {},
     "source": [
      "## Data Frame and Gadfly"
     ]
    },
    {
     "cell_type": "code",
     "collapsed": false,
     "input": [
      "Pkg.add(\"DataFrames\")\n",
      "Pkg.add(\"Gadfly\")\n",
      "Pkg.add(\"RDatasets\")"
     ],
     "language": "python",
     "metadata": {},
     "outputs": [
      {
       "output_type": "stream",
       "stream": "stderr",
       "text": [
        "INFO: Nothing to be done\n"
       ]
      },
      {
       "output_type": "stream",
       "stream": "stderr",
       "text": [
        "INFO: Nothing to be done\n"
       ]
      },
      {
       "output_type": "stream",
       "stream": "stderr",
       "text": [
        "INFO: Nothing to be done\n"
       ]
      }
     ],
     "prompt_number": 75
    },
    {
     "cell_type": "code",
     "collapsed": false,
     "input": [
      "using DataFrames, Gadfly, RDatasets"
     ],
     "language": "python",
     "metadata": {},
     "outputs": [],
     "prompt_number": 7
    },
    {
     "cell_type": "code",
     "collapsed": false,
     "input": [
      "iris = dataset(\"datasets\", \"iris\")\n",
      "print(typeof(iris))\n",
      "head(iris)"
     ],
     "language": "python",
     "metadata": {},
     "outputs": [
      {
       "output_type": "stream",
       "stream": "stdout",
       "text": [
        "DataFrame"
       ]
      },
      {
       "html": [
        "<table class=\"data-frame\"><tr><th></th><th>SepalLength</th><th>SepalWidth</th><th>PetalLength</th><th>PetalWidth</th><th>Species</th></tr><tr><th>1</th><td>5.1</td><td>3.5</td><td>1.4</td><td>0.2</td><td>setosa</td></tr><tr><th>2</th><td>4.9</td><td>3.0</td><td>1.4</td><td>0.2</td><td>setosa</td></tr><tr><th>3</th><td>4.7</td><td>3.2</td><td>1.3</td><td>0.2</td><td>setosa</td></tr><tr><th>4</th><td>4.6</td><td>3.1</td><td>1.5</td><td>0.2</td><td>setosa</td></tr><tr><th>5</th><td>5.0</td><td>3.6</td><td>1.4</td><td>0.2</td><td>setosa</td></tr><tr><th>6</th><td>5.4</td><td>3.9</td><td>1.7</td><td>0.4</td><td>setosa</td></tr></table>"
       ],
       "metadata": {},
       "output_type": "pyout",
       "prompt_number": 8,
       "text": [
        "6x5 DataFrame\n",
        "|-------|-------------|------------|-------------|------------|----------|\n",
        "| Row # | SepalLength | SepalWidth | PetalLength | PetalWidth | Species  |\n",
        "| 1     | 5.1         | 3.5        | 1.4         | 0.2        | \"setosa\" |\n",
        "| 2     | 4.9         | 3.0        | 1.4         | 0.2        | \"setosa\" |\n",
        "| 3     | 4.7         | 3.2        | 1.3         | 0.2        | \"setosa\" |\n",
        "| 4     | 4.6         | 3.1        | 1.5         | 0.2        | \"setosa\" |\n",
        "| 5     | 5.0         | 3.6        | 1.4         | 0.2        | \"setosa\" |\n",
        "| 6     | 5.4         | 3.9        | 1.7         | 0.4        | \"setosa\" |"
       ]
      }
     ],
     "prompt_number": 8
    },
    {
     "cell_type": "code",
     "collapsed": false,
     "input": [
      "\n",
      "Gadfly.plot(iris, x = \"SepalLength\", y = \"SepalWidth\", \n",
      "color = \"Species\", Geom.point)"
     ],
     "language": "python",
     "metadata": {},
     "outputs": [
      {
       "html": [
        "<?xml version=\"1.0\" encoding=\"UTF-8\"?>\n",
        "<svg xmlns=\"http://www.w3.org/2000/svg\"\n",
        "     xmlns:xlink=\"http://www.w3.org/1999/xlink\"\n",
        "     xmlns:gadfly=\"http://www.gadflyjl.org/ns\"\n",
        "     version=\"1.2\"\n",
        "     width=\"120mm\" height=\"80mm\" viewBox=\"0 0 120 80\"\n",
        "     stroke=\"none\"\n",
        "     fill=\"#000000\"\n",
        "     stroke-width=\"0.3\"\n",
        "\n",
        "     id=\"fig-65862f8192304b9abe8d29c24ef91791\">\n",
        "<g class=\"plotroot xscalable yscalable\" id=\"fig-65862f8192304b9abe8d29c24ef91791-element-1\">\n",
        "  <g font-size=\"3.88\" font-family=\"'PT Sans','Helvetica Neue','Helvetica',sans-serif\" fill=\"#564A55\" stroke=\"none\" id=\"fig-65862f8192304b9abe8d29c24ef91791-element-2\">\n",
        "    <text x=\"59.02\" y=\"72\" text-anchor=\"middle\">SepalLength</text>\n",
        "  </g>\n",
        "  <g class=\"guide xlabels\" font-size=\"2.82\" font-family=\"'PT Sans Caption','Helvetica Neue','Helvetica',sans-serif\" fill=\"#6C606B\" id=\"fig-65862f8192304b9abe8d29c24ef91791-element-3\">\n",
        "    <text x=\"-75.34\" y=\"66.39\" text-anchor=\"middle\" gadfly:scale=\"1.0\" visibility=\"hidden\">-1</text>\n",
        "    <text x=\"-56.14\" y=\"66.39\" text-anchor=\"middle\" gadfly:scale=\"1.0\" visibility=\"hidden\">0</text>\n",
        "    <text x=\"-36.95\" y=\"66.39\" text-anchor=\"middle\" gadfly:scale=\"1.0\" visibility=\"hidden\">1</text>\n",
        "    <text x=\"-17.76\" y=\"66.39\" text-anchor=\"middle\" gadfly:scale=\"1.0\" visibility=\"hidden\">2</text>\n",
        "    <text x=\"1.44\" y=\"66.39\" text-anchor=\"middle\" gadfly:scale=\"1.0\" visibility=\"hidden\">3</text>\n",
        "    <text x=\"20.63\" y=\"66.39\" text-anchor=\"middle\" gadfly:scale=\"1.0\" visibility=\"visible\">4</text>\n",
        "    <text x=\"39.83\" y=\"66.39\" text-anchor=\"middle\" gadfly:scale=\"1.0\" visibility=\"visible\">5</text>\n",
        "    <text x=\"59.02\" y=\"66.39\" text-anchor=\"middle\" gadfly:scale=\"1.0\" visibility=\"visible\">6</text>\n",
        "    <text x=\"78.21\" y=\"66.39\" text-anchor=\"middle\" gadfly:scale=\"1.0\" visibility=\"visible\">7</text>\n",
        "    <text x=\"97.41\" y=\"66.39\" text-anchor=\"middle\" gadfly:scale=\"1.0\" visibility=\"visible\">8</text>\n",
        "    <text x=\"116.6\" y=\"66.39\" text-anchor=\"middle\" gadfly:scale=\"1.0\" visibility=\"hidden\">9</text>\n",
        "    <text x=\"135.79\" y=\"66.39\" text-anchor=\"middle\" gadfly:scale=\"1.0\" visibility=\"hidden\">10</text>\n",
        "    <text x=\"154.99\" y=\"66.39\" text-anchor=\"middle\" gadfly:scale=\"1.0\" visibility=\"hidden\">11</text>\n",
        "    <text x=\"174.18\" y=\"66.39\" text-anchor=\"middle\" gadfly:scale=\"1.0\" visibility=\"hidden\">12</text>\n",
        "    <text x=\"193.38\" y=\"66.39\" text-anchor=\"middle\" gadfly:scale=\"1.0\" visibility=\"hidden\">13</text>\n",
        "    <text x=\"-56.14\" y=\"66.39\" text-anchor=\"middle\" gadfly:scale=\"10.0\" visibility=\"hidden\">0.0</text>\n",
        "    <text x=\"-52.3\" y=\"66.39\" text-anchor=\"middle\" gadfly:scale=\"10.0\" visibility=\"hidden\">0.2</text>\n",
        "    <text x=\"-48.47\" y=\"66.39\" text-anchor=\"middle\" gadfly:scale=\"10.0\" visibility=\"hidden\">0.4</text>\n",
        "    <text x=\"-44.63\" y=\"66.39\" text-anchor=\"middle\" gadfly:scale=\"10.0\" visibility=\"hidden\">0.6</text>\n",
        "    <text x=\"-40.79\" y=\"66.39\" text-anchor=\"middle\" gadfly:scale=\"10.0\" visibility=\"hidden\">0.8</text>\n",
        "    <text x=\"-36.95\" y=\"66.39\" text-anchor=\"middle\" gadfly:scale=\"10.0\" visibility=\"hidden\">1.0</text>\n",
        "    <text x=\"-33.11\" y=\"66.39\" text-anchor=\"middle\" gadfly:scale=\"10.0\" visibility=\"hidden\">1.2</text>\n",
        "    <text x=\"-29.27\" y=\"66.39\" text-anchor=\"middle\" gadfly:scale=\"10.0\" visibility=\"hidden\">1.4</text>\n",
        "    <text x=\"-25.43\" y=\"66.39\" text-anchor=\"middle\" gadfly:scale=\"10.0\" visibility=\"hidden\">1.6</text>\n",
        "    <text x=\"-21.59\" y=\"66.39\" text-anchor=\"middle\" gadfly:scale=\"10.0\" visibility=\"hidden\">1.8</text>\n",
        "    <text x=\"-17.76\" y=\"66.39\" text-anchor=\"middle\" gadfly:scale=\"10.0\" visibility=\"hidden\">2.0</text>\n",
        "    <text x=\"-13.92\" y=\"66.39\" text-anchor=\"middle\" gadfly:scale=\"10.0\" visibility=\"hidden\">2.2</text>\n",
        "    <text x=\"-10.08\" y=\"66.39\" text-anchor=\"middle\" gadfly:scale=\"10.0\" visibility=\"hidden\">2.4</text>\n",
        "    <text x=\"-6.24\" y=\"66.39\" text-anchor=\"middle\" gadfly:scale=\"10.0\" visibility=\"hidden\">2.6</text>\n",
        "    <text x=\"-2.4\" y=\"66.39\" text-anchor=\"middle\" gadfly:scale=\"10.0\" visibility=\"hidden\">2.8</text>\n",
        "    <text x=\"1.44\" y=\"66.39\" text-anchor=\"middle\" gadfly:scale=\"10.0\" visibility=\"hidden\">3.0</text>\n",
        "    <text x=\"5.28\" y=\"66.39\" text-anchor=\"middle\" gadfly:scale=\"10.0\" visibility=\"hidden\">3.2</text>\n",
        "    <text x=\"9.12\" y=\"66.39\" text-anchor=\"middle\" gadfly:scale=\"10.0\" visibility=\"hidden\">3.4</text>\n",
        "    <text x=\"12.95\" y=\"66.39\" text-anchor=\"middle\" gadfly:scale=\"10.0\" visibility=\"hidden\">3.6</text>\n",
        "    <text x=\"16.79\" y=\"66.39\" text-anchor=\"middle\" gadfly:scale=\"10.0\" visibility=\"hidden\">3.8</text>\n",
        "    <text x=\"20.63\" y=\"66.39\" text-anchor=\"middle\" gadfly:scale=\"10.0\" visibility=\"hidden\">4.0</text>\n",
        "    <text x=\"24.47\" y=\"66.39\" text-anchor=\"middle\" gadfly:scale=\"10.0\" visibility=\"hidden\">4.2</text>\n",
        "    <text x=\"28.31\" y=\"66.39\" text-anchor=\"middle\" gadfly:scale=\"10.0\" visibility=\"hidden\">4.4</text>\n",
        "    <text x=\"32.15\" y=\"66.39\" text-anchor=\"middle\" gadfly:scale=\"10.0\" visibility=\"hidden\">4.6</text>\n",
        "    <text x=\"35.99\" y=\"66.39\" text-anchor=\"middle\" gadfly:scale=\"10.0\" visibility=\"hidden\">4.8</text>\n",
        "    <text x=\"39.83\" y=\"66.39\" text-anchor=\"middle\" gadfly:scale=\"10.0\" visibility=\"hidden\">5.0</text>\n",
        "    <text x=\"43.66\" y=\"66.39\" text-anchor=\"middle\" gadfly:scale=\"10.0\" visibility=\"hidden\">5.2</text>\n",
        "    <text x=\"47.5\" y=\"66.39\" text-anchor=\"middle\" gadfly:scale=\"10.0\" visibility=\"hidden\">5.4</text>\n",
        "    <text x=\"51.34\" y=\"66.39\" text-anchor=\"middle\" gadfly:scale=\"10.0\" visibility=\"hidden\">5.6</text>\n",
        "    <text x=\"55.18\" y=\"66.39\" text-anchor=\"middle\" gadfly:scale=\"10.0\" visibility=\"hidden\">5.8</text>\n",
        "    <text x=\"59.02\" y=\"66.39\" text-anchor=\"middle\" gadfly:scale=\"10.0\" visibility=\"hidden\">6.0</text>\n",
        "    <text x=\"62.86\" y=\"66.39\" text-anchor=\"middle\" gadfly:scale=\"10.0\" visibility=\"hidden\">6.2</text>\n",
        "    <text x=\"66.7\" y=\"66.39\" text-anchor=\"middle\" gadfly:scale=\"10.0\" visibility=\"hidden\">6.4</text>\n",
        "    <text x=\"70.54\" y=\"66.39\" text-anchor=\"middle\" gadfly:scale=\"10.0\" visibility=\"hidden\">6.6</text>\n",
        "    <text x=\"74.37\" y=\"66.39\" text-anchor=\"middle\" gadfly:scale=\"10.0\" visibility=\"hidden\">6.8</text>\n",
        "    <text x=\"78.21\" y=\"66.39\" text-anchor=\"middle\" gadfly:scale=\"10.0\" visibility=\"hidden\">7.0</text>\n",
        "    <text x=\"82.05\" y=\"66.39\" text-anchor=\"middle\" gadfly:scale=\"10.0\" visibility=\"hidden\">7.2</text>\n",
        "    <text x=\"85.89\" y=\"66.39\" text-anchor=\"middle\" gadfly:scale=\"10.0\" visibility=\"hidden\">7.4</text>\n",
        "    <text x=\"89.73\" y=\"66.39\" text-anchor=\"middle\" gadfly:scale=\"10.0\" visibility=\"hidden\">7.6</text>\n",
        "    <text x=\"93.57\" y=\"66.39\" text-anchor=\"middle\" gadfly:scale=\"10.0\" visibility=\"hidden\">7.8</text>\n",
        "    <text x=\"97.41\" y=\"66.39\" text-anchor=\"middle\" gadfly:scale=\"10.0\" visibility=\"hidden\">8.0</text>\n",
        "    <text x=\"101.25\" y=\"66.39\" text-anchor=\"middle\" gadfly:scale=\"10.0\" visibility=\"hidden\">8.2</text>\n",
        "    <text x=\"105.08\" y=\"66.39\" text-anchor=\"middle\" gadfly:scale=\"10.0\" visibility=\"hidden\">8.4</text>\n",
        "    <text x=\"108.92\" y=\"66.39\" text-anchor=\"middle\" gadfly:scale=\"10.0\" visibility=\"hidden\">8.6</text>\n",
        "    <text x=\"112.76\" y=\"66.39\" text-anchor=\"middle\" gadfly:scale=\"10.0\" visibility=\"hidden\">8.8</text>\n",
        "    <text x=\"116.6\" y=\"66.39\" text-anchor=\"middle\" gadfly:scale=\"10.0\" visibility=\"hidden\">9.0</text>\n",
        "    <text x=\"120.44\" y=\"66.39\" text-anchor=\"middle\" gadfly:scale=\"10.0\" visibility=\"hidden\">9.2</text>\n",
        "    <text x=\"124.28\" y=\"66.39\" text-anchor=\"middle\" gadfly:scale=\"10.0\" visibility=\"hidden\">9.4</text>\n",
        "    <text x=\"128.12\" y=\"66.39\" text-anchor=\"middle\" gadfly:scale=\"10.0\" visibility=\"hidden\">9.6</text>\n",
        "    <text x=\"131.96\" y=\"66.39\" text-anchor=\"middle\" gadfly:scale=\"10.0\" visibility=\"hidden\">9.8</text>\n",
        "    <text x=\"135.79\" y=\"66.39\" text-anchor=\"middle\" gadfly:scale=\"10.0\" visibility=\"hidden\">10.0</text>\n",
        "    <text x=\"139.63\" y=\"66.39\" text-anchor=\"middle\" gadfly:scale=\"10.0\" visibility=\"hidden\">10.2</text>\n",
        "    <text x=\"143.47\" y=\"66.39\" text-anchor=\"middle\" gadfly:scale=\"10.0\" visibility=\"hidden\">10.4</text>\n",
        "    <text x=\"147.31\" y=\"66.39\" text-anchor=\"middle\" gadfly:scale=\"10.0\" visibility=\"hidden\">10.6</text>\n",
        "    <text x=\"151.15\" y=\"66.39\" text-anchor=\"middle\" gadfly:scale=\"10.0\" visibility=\"hidden\">10.8</text>\n",
        "    <text x=\"154.99\" y=\"66.39\" text-anchor=\"middle\" gadfly:scale=\"10.0\" visibility=\"hidden\">11.0</text>\n",
        "    <text x=\"158.83\" y=\"66.39\" text-anchor=\"middle\" gadfly:scale=\"10.0\" visibility=\"hidden\">11.2</text>\n",
        "    <text x=\"162.67\" y=\"66.39\" text-anchor=\"middle\" gadfly:scale=\"10.0\" visibility=\"hidden\">11.4</text>\n",
        "    <text x=\"166.5\" y=\"66.39\" text-anchor=\"middle\" gadfly:scale=\"10.0\" visibility=\"hidden\">11.6</text>\n",
        "    <text x=\"170.34\" y=\"66.39\" text-anchor=\"middle\" gadfly:scale=\"10.0\" visibility=\"hidden\">11.8</text>\n",
        "    <text x=\"174.18\" y=\"66.39\" text-anchor=\"middle\" gadfly:scale=\"10.0\" visibility=\"hidden\">12.0</text>\n",
        "    <text x=\"-56.14\" y=\"66.39\" text-anchor=\"middle\" gadfly:scale=\"0.5\" visibility=\"hidden\">0</text>\n",
        "    <text x=\"39.83\" y=\"66.39\" text-anchor=\"middle\" gadfly:scale=\"0.5\" visibility=\"hidden\">5</text>\n",
        "    <text x=\"135.79\" y=\"66.39\" text-anchor=\"middle\" gadfly:scale=\"0.5\" visibility=\"hidden\">10</text>\n",
        "    <text x=\"231.76\" y=\"66.39\" text-anchor=\"middle\" gadfly:scale=\"0.5\" visibility=\"hidden\">15</text>\n",
        "    <text x=\"-56.14\" y=\"66.39\" text-anchor=\"middle\" gadfly:scale=\"5.0\" visibility=\"hidden\">0.0</text>\n",
        "    <text x=\"-46.55\" y=\"66.39\" text-anchor=\"middle\" gadfly:scale=\"5.0\" visibility=\"hidden\">0.5</text>\n",
        "    <text x=\"-36.95\" y=\"66.39\" text-anchor=\"middle\" gadfly:scale=\"5.0\" visibility=\"hidden\">1.0</text>\n",
        "    <text x=\"-27.35\" y=\"66.39\" text-anchor=\"middle\" gadfly:scale=\"5.0\" visibility=\"hidden\">1.5</text>\n",
        "    <text x=\"-17.76\" y=\"66.39\" text-anchor=\"middle\" gadfly:scale=\"5.0\" visibility=\"hidden\">2.0</text>\n",
        "    <text x=\"-8.16\" y=\"66.39\" text-anchor=\"middle\" gadfly:scale=\"5.0\" visibility=\"hidden\">2.5</text>\n",
        "    <text x=\"1.44\" y=\"66.39\" text-anchor=\"middle\" gadfly:scale=\"5.0\" visibility=\"hidden\">3.0</text>\n",
        "    <text x=\"11.03\" y=\"66.39\" text-anchor=\"middle\" gadfly:scale=\"5.0\" visibility=\"hidden\">3.5</text>\n",
        "    <text x=\"20.63\" y=\"66.39\" text-anchor=\"middle\" gadfly:scale=\"5.0\" visibility=\"hidden\">4.0</text>\n",
        "    <text x=\"30.23\" y=\"66.39\" text-anchor=\"middle\" gadfly:scale=\"5.0\" visibility=\"hidden\">4.5</text>\n",
        "    <text x=\"39.83\" y=\"66.39\" text-anchor=\"middle\" gadfly:scale=\"5.0\" visibility=\"hidden\">5.0</text>\n",
        "    <text x=\"49.42\" y=\"66.39\" text-anchor=\"middle\" gadfly:scale=\"5.0\" visibility=\"hidden\">5.5</text>\n",
        "    <text x=\"59.02\" y=\"66.39\" text-anchor=\"middle\" gadfly:scale=\"5.0\" visibility=\"hidden\">6.0</text>\n",
        "    <text x=\"68.62\" y=\"66.39\" text-anchor=\"middle\" gadfly:scale=\"5.0\" visibility=\"hidden\">6.5</text>\n",
        "    <text x=\"78.21\" y=\"66.39\" text-anchor=\"middle\" gadfly:scale=\"5.0\" visibility=\"hidden\">7.0</text>\n",
        "    <text x=\"87.81\" y=\"66.39\" text-anchor=\"middle\" gadfly:scale=\"5.0\" visibility=\"hidden\">7.5</text>\n",
        "    <text x=\"97.41\" y=\"66.39\" text-anchor=\"middle\" gadfly:scale=\"5.0\" visibility=\"hidden\">8.0</text>\n",
        "    <text x=\"107\" y=\"66.39\" text-anchor=\"middle\" gadfly:scale=\"5.0\" visibility=\"hidden\">8.5</text>\n",
        "    <text x=\"116.6\" y=\"66.39\" text-anchor=\"middle\" gadfly:scale=\"5.0\" visibility=\"hidden\">9.0</text>\n",
        "    <text x=\"126.2\" y=\"66.39\" text-anchor=\"middle\" gadfly:scale=\"5.0\" visibility=\"hidden\">9.5</text>\n",
        "    <text x=\"135.79\" y=\"66.39\" text-anchor=\"middle\" gadfly:scale=\"5.0\" visibility=\"hidden\">10.0</text>\n",
        "    <text x=\"145.39\" y=\"66.39\" text-anchor=\"middle\" gadfly:scale=\"5.0\" visibility=\"hidden\">10.5</text>\n",
        "    <text x=\"154.99\" y=\"66.39\" text-anchor=\"middle\" gadfly:scale=\"5.0\" visibility=\"hidden\">11.0</text>\n",
        "    <text x=\"164.58\" y=\"66.39\" text-anchor=\"middle\" gadfly:scale=\"5.0\" visibility=\"hidden\">11.5</text>\n",
        "    <text x=\"174.18\" y=\"66.39\" text-anchor=\"middle\" gadfly:scale=\"5.0\" visibility=\"hidden\">12.0</text>\n",
        "  </g>\n",
        "  <g class=\"guide colorkey\" id=\"fig-65862f8192304b9abe8d29c24ef91791-element-4\">\n",
        "    <g fill=\"#4C404B\" font-size=\"2.82\" font-family=\"'PT Sans','Helvetica Neue','Helvetica',sans-serif\" id=\"fig-65862f8192304b9abe8d29c24ef91791-element-5\">\n",
        "      <text x=\"103.22\" y=\"32.04\" dy=\"0.35em\" id=\"fig-65862f8192304b9abe8d29c24ef91791-element-6\" class=\"color_setosa\">setosa</text>\n",
        "      <text x=\"103.22\" y=\"35.67\" dy=\"0.35em\" id=\"fig-65862f8192304b9abe8d29c24ef91791-element-7\" class=\"color_versicolor\">versicolor</text>\n",
        "      <text x=\"103.22\" y=\"39.3\" dy=\"0.35em\" id=\"fig-65862f8192304b9abe8d29c24ef91791-element-8\" class=\"color_virginica\">virginica</text>\n",
        "    </g>\n",
        "    <g stroke=\"none\" id=\"fig-65862f8192304b9abe8d29c24ef91791-element-9\">\n",
        "      <rect x=\"100.41\" y=\"31.14\" width=\"1.81\" height=\"1.81\" id=\"fig-65862f8192304b9abe8d29c24ef91791-element-10\" class=\"color_setosa\" fill=\"#00BFFF\"/>\n",
        "      <rect x=\"100.41\" y=\"34.76\" width=\"1.81\" height=\"1.81\" id=\"fig-65862f8192304b9abe8d29c24ef91791-element-11\" class=\"color_versicolor\" fill=\"#D4CA3A\"/>\n",
        "      <rect x=\"100.41\" y=\"38.39\" width=\"1.81\" height=\"1.81\" id=\"fig-65862f8192304b9abe8d29c24ef91791-element-12\" class=\"color_virginica\" fill=\"#FF5EA0\"/>\n",
        "    </g>\n",
        "    <g fill=\"#362A35\" font-size=\"3.88\" font-family=\"'PT Sans','Helvetica Neue','Helvetica',sans-serif\" stroke=\"none\" id=\"fig-65862f8192304b9abe8d29c24ef91791-element-13\">\n",
        "      <text x=\"100.41\" y=\"28.22\" id=\"fig-65862f8192304b9abe8d29c24ef91791-element-14\">Species</text>\n",
        "    </g>\n",
        "  </g>\n",
        "  <g clip-path=\"url(#fig-65862f8192304b9abe8d29c24ef91791-element-16)\" id=\"fig-65862f8192304b9abe8d29c24ef91791-element-15\">\n",
        "    <g pointer-events=\"visible\" opacity=\"1\" fill=\"none\" stroke=\"none\" class=\"guide background\" id=\"fig-65862f8192304b9abe8d29c24ef91791-element-17\">\n",
        "      <rect x=\"18.63\" y=\"5\" width=\"80.78\" height=\"57.72\" id=\"fig-65862f8192304b9abe8d29c24ef91791-element-18\"/>\n",
        "    </g>\n",
        "    <g class=\"guide ygridlines xfixed\" stroke-dasharray=\"0.5,0.5\" stroke-width=\"0.2\" stroke=\"#D0D0E0\" id=\"fig-65862f8192304b9abe8d29c24ef91791-element-19\">\n",
        "      <path d=\"M18.63,125.17 L 99.41 125.17\" id=\"fig-65862f8192304b9abe8d29c24ef91791-element-20\" gadfly:scale=\"1.0\" visibility=\"hidden\"/>\n",
        "      <path d=\"M18.63,114.43 L 99.41 114.43\" id=\"fig-65862f8192304b9abe8d29c24ef91791-element-21\" gadfly:scale=\"1.0\" visibility=\"hidden\"/>\n",
        "      <path d=\"M18.63,103.69 L 99.41 103.69\" id=\"fig-65862f8192304b9abe8d29c24ef91791-element-22\" gadfly:scale=\"1.0\" visibility=\"hidden\"/>\n",
        "      <path d=\"M18.63,92.94 L 99.41 92.94\" id=\"fig-65862f8192304b9abe8d29c24ef91791-element-23\" gadfly:scale=\"1.0\" visibility=\"hidden\"/>\n",
        "      <path d=\"M18.63,82.2 L 99.41 82.2\" id=\"fig-65862f8192304b9abe8d29c24ef91791-element-24\" gadfly:scale=\"1.0\" visibility=\"hidden\"/>\n",
        "      <path d=\"M18.63,71.46 L 99.41 71.46\" id=\"fig-65862f8192304b9abe8d29c24ef91791-element-25\" gadfly:scale=\"1.0\" visibility=\"hidden\"/>\n",
        "      <path d=\"M18.63,60.72 L 99.41 60.72\" id=\"fig-65862f8192304b9abe8d29c24ef91791-element-26\" gadfly:scale=\"1.0\" visibility=\"visible\"/>\n",
        "      <path d=\"M18.63,49.97 L 99.41 49.97\" id=\"fig-65862f8192304b9abe8d29c24ef91791-element-27\" gadfly:scale=\"1.0\" visibility=\"visible\"/>\n",
        "      <path d=\"M18.63,39.23 L 99.41 39.23\" id=\"fig-65862f8192304b9abe8d29c24ef91791-element-28\" gadfly:scale=\"1.0\" visibility=\"visible\"/>\n",
        "      <path d=\"M18.63,28.49 L 99.41 28.49\" id=\"fig-65862f8192304b9abe8d29c24ef91791-element-29\" gadfly:scale=\"1.0\" visibility=\"visible\"/>\n",
        "      <path d=\"M18.63,17.74 L 99.41 17.74\" id=\"fig-65862f8192304b9abe8d29c24ef91791-element-30\" gadfly:scale=\"1.0\" visibility=\"visible\"/>\n",
        "      <path d=\"M18.63,7 L 99.41 7\" id=\"fig-65862f8192304b9abe8d29c24ef91791-element-31\" gadfly:scale=\"1.0\" visibility=\"visible\"/>\n",
        "      <path d=\"M18.63,-3.74 L 99.41 -3.74\" id=\"fig-65862f8192304b9abe8d29c24ef91791-element-32\" gadfly:scale=\"1.0\" visibility=\"hidden\"/>\n",
        "      <path d=\"M18.63,-14.49 L 99.41 -14.49\" id=\"fig-65862f8192304b9abe8d29c24ef91791-element-33\" gadfly:scale=\"1.0\" visibility=\"hidden\"/>\n",
        "      <path d=\"M18.63,-25.23 L 99.41 -25.23\" id=\"fig-65862f8192304b9abe8d29c24ef91791-element-34\" gadfly:scale=\"1.0\" visibility=\"hidden\"/>\n",
        "      <path d=\"M18.63,-35.97 L 99.41 -35.97\" id=\"fig-65862f8192304b9abe8d29c24ef91791-element-35\" gadfly:scale=\"1.0\" visibility=\"hidden\"/>\n",
        "      <path d=\"M18.63,-46.71 L 99.41 -46.71\" id=\"fig-65862f8192304b9abe8d29c24ef91791-element-36\" gadfly:scale=\"1.0\" visibility=\"hidden\"/>\n",
        "      <path d=\"M18.63,-57.46 L 99.41 -57.46\" id=\"fig-65862f8192304b9abe8d29c24ef91791-element-37\" gadfly:scale=\"1.0\" visibility=\"hidden\"/>\n",
        "      <path d=\"M18.63,114.43 L 99.41 114.43\" id=\"fig-65862f8192304b9abe8d29c24ef91791-element-38\" gadfly:scale=\"10.0\" visibility=\"hidden\"/>\n",
        "      <path d=\"M18.63,112.28 L 99.41 112.28\" id=\"fig-65862f8192304b9abe8d29c24ef91791-element-39\" gadfly:scale=\"10.0\" visibility=\"hidden\"/>\n",
        "      <path d=\"M18.63,110.13 L 99.41 110.13\" id=\"fig-65862f8192304b9abe8d29c24ef91791-element-40\" gadfly:scale=\"10.0\" visibility=\"hidden\"/>\n",
        "      <path d=\"M18.63,107.98 L 99.41 107.98\" id=\"fig-65862f8192304b9abe8d29c24ef91791-element-41\" gadfly:scale=\"10.0\" visibility=\"hidden\"/>\n",
        "      <path d=\"M18.63,105.84 L 99.41 105.84\" id=\"fig-65862f8192304b9abe8d29c24ef91791-element-42\" gadfly:scale=\"10.0\" visibility=\"hidden\"/>\n",
        "      <path d=\"M18.63,103.69 L 99.41 103.69\" id=\"fig-65862f8192304b9abe8d29c24ef91791-element-43\" gadfly:scale=\"10.0\" visibility=\"hidden\"/>\n",
        "      <path d=\"M18.63,101.54 L 99.41 101.54\" id=\"fig-65862f8192304b9abe8d29c24ef91791-element-44\" gadfly:scale=\"10.0\" visibility=\"hidden\"/>\n",
        "      <path d=\"M18.63,99.39 L 99.41 99.39\" id=\"fig-65862f8192304b9abe8d29c24ef91791-element-45\" gadfly:scale=\"10.0\" visibility=\"hidden\"/>\n",
        "      <path d=\"M18.63,97.24 L 99.41 97.24\" id=\"fig-65862f8192304b9abe8d29c24ef91791-element-46\" gadfly:scale=\"10.0\" visibility=\"hidden\"/>\n",
        "      <path d=\"M18.63,95.09 L 99.41 95.09\" id=\"fig-65862f8192304b9abe8d29c24ef91791-element-47\" gadfly:scale=\"10.0\" visibility=\"hidden\"/>\n",
        "      <path d=\"M18.63,92.94 L 99.41 92.94\" id=\"fig-65862f8192304b9abe8d29c24ef91791-element-48\" gadfly:scale=\"10.0\" visibility=\"hidden\"/>\n",
        "      <path d=\"M18.63,90.8 L 99.41 90.8\" id=\"fig-65862f8192304b9abe8d29c24ef91791-element-49\" gadfly:scale=\"10.0\" visibility=\"hidden\"/>\n",
        "      <path d=\"M18.63,88.65 L 99.41 88.65\" id=\"fig-65862f8192304b9abe8d29c24ef91791-element-50\" gadfly:scale=\"10.0\" visibility=\"hidden\"/>\n",
        "      <path d=\"M18.63,86.5 L 99.41 86.5\" id=\"fig-65862f8192304b9abe8d29c24ef91791-element-51\" gadfly:scale=\"10.0\" visibility=\"hidden\"/>\n",
        "      <path d=\"M18.63,84.35 L 99.41 84.35\" id=\"fig-65862f8192304b9abe8d29c24ef91791-element-52\" gadfly:scale=\"10.0\" visibility=\"hidden\"/>\n",
        "      <path d=\"M18.63,82.2 L 99.41 82.2\" id=\"fig-65862f8192304b9abe8d29c24ef91791-element-53\" gadfly:scale=\"10.0\" visibility=\"hidden\"/>\n",
        "      <path d=\"M18.63,80.05 L 99.41 80.05\" id=\"fig-65862f8192304b9abe8d29c24ef91791-element-54\" gadfly:scale=\"10.0\" visibility=\"hidden\"/>\n",
        "      <path d=\"M18.63,77.9 L 99.41 77.9\" id=\"fig-65862f8192304b9abe8d29c24ef91791-element-55\" gadfly:scale=\"10.0\" visibility=\"hidden\"/>\n",
        "      <path d=\"M18.63,75.76 L 99.41 75.76\" id=\"fig-65862f8192304b9abe8d29c24ef91791-element-56\" gadfly:scale=\"10.0\" visibility=\"hidden\"/>\n",
        "      <path d=\"M18.63,73.61 L 99.41 73.61\" id=\"fig-65862f8192304b9abe8d29c24ef91791-element-57\" gadfly:scale=\"10.0\" visibility=\"hidden\"/>\n",
        "      <path d=\"M18.63,71.46 L 99.41 71.46\" id=\"fig-65862f8192304b9abe8d29c24ef91791-element-58\" gadfly:scale=\"10.0\" visibility=\"hidden\"/>\n",
        "      <path d=\"M18.63,69.31 L 99.41 69.31\" id=\"fig-65862f8192304b9abe8d29c24ef91791-element-59\" gadfly:scale=\"10.0\" visibility=\"hidden\"/>\n",
        "      <path d=\"M18.63,67.16 L 99.41 67.16\" id=\"fig-65862f8192304b9abe8d29c24ef91791-element-60\" gadfly:scale=\"10.0\" visibility=\"hidden\"/>\n",
        "      <path d=\"M18.63,65.01 L 99.41 65.01\" id=\"fig-65862f8192304b9abe8d29c24ef91791-element-61\" gadfly:scale=\"10.0\" visibility=\"hidden\"/>\n",
        "      <path d=\"M18.63,62.86 L 99.41 62.86\" id=\"fig-65862f8192304b9abe8d29c24ef91791-element-62\" gadfly:scale=\"10.0\" visibility=\"hidden\"/>\n",
        "      <path d=\"M18.63,60.72 L 99.41 60.72\" id=\"fig-65862f8192304b9abe8d29c24ef91791-element-63\" gadfly:scale=\"10.0\" visibility=\"hidden\"/>\n",
        "      <path d=\"M18.63,58.57 L 99.41 58.57\" id=\"fig-65862f8192304b9abe8d29c24ef91791-element-64\" gadfly:scale=\"10.0\" visibility=\"hidden\"/>\n",
        "      <path d=\"M18.63,56.42 L 99.41 56.42\" id=\"fig-65862f8192304b9abe8d29c24ef91791-element-65\" gadfly:scale=\"10.0\" visibility=\"hidden\"/>\n",
        "      <path d=\"M18.63,54.27 L 99.41 54.27\" id=\"fig-65862f8192304b9abe8d29c24ef91791-element-66\" gadfly:scale=\"10.0\" visibility=\"hidden\"/>\n",
        "      <path d=\"M18.63,52.12 L 99.41 52.12\" id=\"fig-65862f8192304b9abe8d29c24ef91791-element-67\" gadfly:scale=\"10.0\" visibility=\"hidden\"/>\n",
        "      <path d=\"M18.63,49.97 L 99.41 49.97\" id=\"fig-65862f8192304b9abe8d29c24ef91791-element-68\" gadfly:scale=\"10.0\" visibility=\"hidden\"/>\n",
        "      <path d=\"M18.63,47.82 L 99.41 47.82\" id=\"fig-65862f8192304b9abe8d29c24ef91791-element-69\" gadfly:scale=\"10.0\" visibility=\"hidden\"/>\n",
        "      <path d=\"M18.63,45.67 L 99.41 45.67\" id=\"fig-65862f8192304b9abe8d29c24ef91791-element-70\" gadfly:scale=\"10.0\" visibility=\"hidden\"/>\n",
        "      <path d=\"M18.63,43.53 L 99.41 43.53\" id=\"fig-65862f8192304b9abe8d29c24ef91791-element-71\" gadfly:scale=\"10.0\" visibility=\"hidden\"/>\n",
        "      <path d=\"M18.63,41.38 L 99.41 41.38\" id=\"fig-65862f8192304b9abe8d29c24ef91791-element-72\" gadfly:scale=\"10.0\" visibility=\"hidden\"/>\n",
        "      <path d=\"M18.63,39.23 L 99.41 39.23\" id=\"fig-65862f8192304b9abe8d29c24ef91791-element-73\" gadfly:scale=\"10.0\" visibility=\"hidden\"/>\n",
        "      <path d=\"M18.63,37.08 L 99.41 37.08\" id=\"fig-65862f8192304b9abe8d29c24ef91791-element-74\" gadfly:scale=\"10.0\" visibility=\"hidden\"/>\n",
        "      <path d=\"M18.63,34.93 L 99.41 34.93\" id=\"fig-65862f8192304b9abe8d29c24ef91791-element-75\" gadfly:scale=\"10.0\" visibility=\"hidden\"/>\n",
        "      <path d=\"M18.63,32.78 L 99.41 32.78\" id=\"fig-65862f8192304b9abe8d29c24ef91791-element-76\" gadfly:scale=\"10.0\" visibility=\"hidden\"/>\n",
        "      <path d=\"M18.63,30.63 L 99.41 30.63\" id=\"fig-65862f8192304b9abe8d29c24ef91791-element-77\" gadfly:scale=\"10.0\" visibility=\"hidden\"/>\n",
        "      <path d=\"M18.63,28.49 L 99.41 28.49\" id=\"fig-65862f8192304b9abe8d29c24ef91791-element-78\" gadfly:scale=\"10.0\" visibility=\"hidden\"/>\n",
        "      <path d=\"M18.63,26.34 L 99.41 26.34\" id=\"fig-65862f8192304b9abe8d29c24ef91791-element-79\" gadfly:scale=\"10.0\" visibility=\"hidden\"/>\n",
        "      <path d=\"M18.63,24.19 L 99.41 24.19\" id=\"fig-65862f8192304b9abe8d29c24ef91791-element-80\" gadfly:scale=\"10.0\" visibility=\"hidden\"/>\n",
        "      <path d=\"M18.63,22.04 L 99.41 22.04\" id=\"fig-65862f8192304b9abe8d29c24ef91791-element-81\" gadfly:scale=\"10.0\" visibility=\"hidden\"/>\n",
        "      <path d=\"M18.63,19.89 L 99.41 19.89\" id=\"fig-65862f8192304b9abe8d29c24ef91791-element-82\" gadfly:scale=\"10.0\" visibility=\"hidden\"/>\n",
        "      <path d=\"M18.63,17.74 L 99.41 17.74\" id=\"fig-65862f8192304b9abe8d29c24ef91791-element-83\" gadfly:scale=\"10.0\" visibility=\"hidden\"/>\n",
        "      <path d=\"M18.63,15.59 L 99.41 15.59\" id=\"fig-65862f8192304b9abe8d29c24ef91791-element-84\" gadfly:scale=\"10.0\" visibility=\"hidden\"/>\n",
        "      <path d=\"M18.63,13.45 L 99.41 13.45\" id=\"fig-65862f8192304b9abe8d29c24ef91791-element-85\" gadfly:scale=\"10.0\" visibility=\"hidden\"/>\n",
        "      <path d=\"M18.63,11.3 L 99.41 11.3\" id=\"fig-65862f8192304b9abe8d29c24ef91791-element-86\" gadfly:scale=\"10.0\" visibility=\"hidden\"/>\n",
        "      <path d=\"M18.63,9.15 L 99.41 9.15\" id=\"fig-65862f8192304b9abe8d29c24ef91791-element-87\" gadfly:scale=\"10.0\" visibility=\"hidden\"/>\n",
        "      <path d=\"M18.63,7 L 99.41 7\" id=\"fig-65862f8192304b9abe8d29c24ef91791-element-88\" gadfly:scale=\"10.0\" visibility=\"hidden\"/>\n",
        "      <path d=\"M18.63,4.85 L 99.41 4.85\" id=\"fig-65862f8192304b9abe8d29c24ef91791-element-89\" gadfly:scale=\"10.0\" visibility=\"hidden\"/>\n",
        "      <path d=\"M18.63,2.7 L 99.41 2.7\" id=\"fig-65862f8192304b9abe8d29c24ef91791-element-90\" gadfly:scale=\"10.0\" visibility=\"hidden\"/>\n",
        "      <path d=\"M18.63,0.55 L 99.41 0.55\" id=\"fig-65862f8192304b9abe8d29c24ef91791-element-91\" gadfly:scale=\"10.0\" visibility=\"hidden\"/>\n",
        "      <path d=\"M18.63,-1.59 L 99.41 -1.59\" id=\"fig-65862f8192304b9abe8d29c24ef91791-element-92\" gadfly:scale=\"10.0\" visibility=\"hidden\"/>\n",
        "      <path d=\"M18.63,-3.74 L 99.41 -3.74\" id=\"fig-65862f8192304b9abe8d29c24ef91791-element-93\" gadfly:scale=\"10.0\" visibility=\"hidden\"/>\n",
        "      <path d=\"M18.63,-5.89 L 99.41 -5.89\" id=\"fig-65862f8192304b9abe8d29c24ef91791-element-94\" gadfly:scale=\"10.0\" visibility=\"hidden\"/>\n",
        "      <path d=\"M18.63,-8.04 L 99.41 -8.04\" id=\"fig-65862f8192304b9abe8d29c24ef91791-element-95\" gadfly:scale=\"10.0\" visibility=\"hidden\"/>\n",
        "      <path d=\"M18.63,-10.19 L 99.41 -10.19\" id=\"fig-65862f8192304b9abe8d29c24ef91791-element-96\" gadfly:scale=\"10.0\" visibility=\"hidden\"/>\n",
        "      <path d=\"M18.63,-12.34 L 99.41 -12.34\" id=\"fig-65862f8192304b9abe8d29c24ef91791-element-97\" gadfly:scale=\"10.0\" visibility=\"hidden\"/>\n",
        "      <path d=\"M18.63,-14.49 L 99.41 -14.49\" id=\"fig-65862f8192304b9abe8d29c24ef91791-element-98\" gadfly:scale=\"10.0\" visibility=\"hidden\"/>\n",
        "      <path d=\"M18.63,-16.63 L 99.41 -16.63\" id=\"fig-65862f8192304b9abe8d29c24ef91791-element-99\" gadfly:scale=\"10.0\" visibility=\"hidden\"/>\n",
        "      <path d=\"M18.63,-18.78 L 99.41 -18.78\" id=\"fig-65862f8192304b9abe8d29c24ef91791-element-100\" gadfly:scale=\"10.0\" visibility=\"hidden\"/>\n",
        "      <path d=\"M18.63,-20.93 L 99.41 -20.93\" id=\"fig-65862f8192304b9abe8d29c24ef91791-element-101\" gadfly:scale=\"10.0\" visibility=\"hidden\"/>\n",
        "      <path d=\"M18.63,-23.08 L 99.41 -23.08\" id=\"fig-65862f8192304b9abe8d29c24ef91791-element-102\" gadfly:scale=\"10.0\" visibility=\"hidden\"/>\n",
        "      <path d=\"M18.63,-25.23 L 99.41 -25.23\" id=\"fig-65862f8192304b9abe8d29c24ef91791-element-103\" gadfly:scale=\"10.0\" visibility=\"hidden\"/>\n",
        "      <path d=\"M18.63,-27.38 L 99.41 -27.38\" id=\"fig-65862f8192304b9abe8d29c24ef91791-element-104\" gadfly:scale=\"10.0\" visibility=\"hidden\"/>\n",
        "      <path d=\"M18.63,-29.53 L 99.41 -29.53\" id=\"fig-65862f8192304b9abe8d29c24ef91791-element-105\" gadfly:scale=\"10.0\" visibility=\"hidden\"/>\n",
        "      <path d=\"M18.63,-31.67 L 99.41 -31.67\" id=\"fig-65862f8192304b9abe8d29c24ef91791-element-106\" gadfly:scale=\"10.0\" visibility=\"hidden\"/>\n",
        "      <path d=\"M18.63,-33.82 L 99.41 -33.82\" id=\"fig-65862f8192304b9abe8d29c24ef91791-element-107\" gadfly:scale=\"10.0\" visibility=\"hidden\"/>\n",
        "      <path d=\"M18.63,-35.97 L 99.41 -35.97\" id=\"fig-65862f8192304b9abe8d29c24ef91791-element-108\" gadfly:scale=\"10.0\" visibility=\"hidden\"/>\n",
        "      <path d=\"M18.63,-38.12 L 99.41 -38.12\" id=\"fig-65862f8192304b9abe8d29c24ef91791-element-109\" gadfly:scale=\"10.0\" visibility=\"hidden\"/>\n",
        "      <path d=\"M18.63,-40.27 L 99.41 -40.27\" id=\"fig-65862f8192304b9abe8d29c24ef91791-element-110\" gadfly:scale=\"10.0\" visibility=\"hidden\"/>\n",
        "      <path d=\"M18.63,-42.42 L 99.41 -42.42\" id=\"fig-65862f8192304b9abe8d29c24ef91791-element-111\" gadfly:scale=\"10.0\" visibility=\"hidden\"/>\n",
        "      <path d=\"M18.63,-44.57 L 99.41 -44.57\" id=\"fig-65862f8192304b9abe8d29c24ef91791-element-112\" gadfly:scale=\"10.0\" visibility=\"hidden\"/>\n",
        "      <path d=\"M18.63,-46.71 L 99.41 -46.71\" id=\"fig-65862f8192304b9abe8d29c24ef91791-element-113\" gadfly:scale=\"10.0\" visibility=\"hidden\"/>\n",
        "      <path d=\"M18.63,157.4 L 99.41 157.4\" id=\"fig-65862f8192304b9abe8d29c24ef91791-element-114\" gadfly:scale=\"0.5\" visibility=\"hidden\"/>\n",
        "      <path d=\"M18.63,103.69 L 99.41 103.69\" id=\"fig-65862f8192304b9abe8d29c24ef91791-element-115\" gadfly:scale=\"0.5\" visibility=\"hidden\"/>\n",
        "      <path d=\"M18.63,49.97 L 99.41 49.97\" id=\"fig-65862f8192304b9abe8d29c24ef91791-element-116\" gadfly:scale=\"0.5\" visibility=\"hidden\"/>\n",
        "      <path d=\"M18.63,-3.74 L 99.41 -3.74\" id=\"fig-65862f8192304b9abe8d29c24ef91791-element-117\" gadfly:scale=\"0.5\" visibility=\"hidden\"/>\n",
        "      <path d=\"M18.63,-57.46 L 99.41 -57.46\" id=\"fig-65862f8192304b9abe8d29c24ef91791-element-118\" gadfly:scale=\"0.5\" visibility=\"hidden\"/>\n",
        "      <path d=\"M18.63,116.58 L 99.41 116.58\" id=\"fig-65862f8192304b9abe8d29c24ef91791-element-119\" gadfly:scale=\"5.0\" visibility=\"hidden\"/>\n",
        "      <path d=\"M18.63,112.28 L 99.41 112.28\" id=\"fig-65862f8192304b9abe8d29c24ef91791-element-120\" gadfly:scale=\"5.0\" visibility=\"hidden\"/>\n",
        "      <path d=\"M18.63,107.98 L 99.41 107.98\" id=\"fig-65862f8192304b9abe8d29c24ef91791-element-121\" gadfly:scale=\"5.0\" visibility=\"hidden\"/>\n",
        "      <path d=\"M18.63,103.69 L 99.41 103.69\" id=\"fig-65862f8192304b9abe8d29c24ef91791-element-122\" gadfly:scale=\"5.0\" visibility=\"hidden\"/>\n",
        "      <path d=\"M18.63,99.39 L 99.41 99.39\" id=\"fig-65862f8192304b9abe8d29c24ef91791-element-123\" gadfly:scale=\"5.0\" visibility=\"hidden\"/>\n",
        "      <path d=\"M18.63,95.09 L 99.41 95.09\" id=\"fig-65862f8192304b9abe8d29c24ef91791-element-124\" gadfly:scale=\"5.0\" visibility=\"hidden\"/>\n",
        "      <path d=\"M18.63,90.8 L 99.41 90.8\" id=\"fig-65862f8192304b9abe8d29c24ef91791-element-125\" gadfly:scale=\"5.0\" visibility=\"hidden\"/>\n",
        "      <path d=\"M18.63,86.5 L 99.41 86.5\" id=\"fig-65862f8192304b9abe8d29c24ef91791-element-126\" gadfly:scale=\"5.0\" visibility=\"hidden\"/>\n",
        "      <path d=\"M18.63,82.2 L 99.41 82.2\" id=\"fig-65862f8192304b9abe8d29c24ef91791-element-127\" gadfly:scale=\"5.0\" visibility=\"hidden\"/>\n",
        "      <path d=\"M18.63,77.9 L 99.41 77.9\" id=\"fig-65862f8192304b9abe8d29c24ef91791-element-128\" gadfly:scale=\"5.0\" visibility=\"hidden\"/>\n",
        "      <path d=\"M18.63,73.61 L 99.41 73.61\" id=\"fig-65862f8192304b9abe8d29c24ef91791-element-129\" gadfly:scale=\"5.0\" visibility=\"hidden\"/>\n",
        "      <path d=\"M18.63,69.31 L 99.41 69.31\" id=\"fig-65862f8192304b9abe8d29c24ef91791-element-130\" gadfly:scale=\"5.0\" visibility=\"hidden\"/>\n",
        "      <path d=\"M18.63,65.01 L 99.41 65.01\" id=\"fig-65862f8192304b9abe8d29c24ef91791-element-131\" gadfly:scale=\"5.0\" visibility=\"hidden\"/>\n",
        "      <path d=\"M18.63,60.72 L 99.41 60.72\" id=\"fig-65862f8192304b9abe8d29c24ef91791-element-132\" gadfly:scale=\"5.0\" visibility=\"hidden\"/>\n",
        "      <path d=\"M18.63,56.42 L 99.41 56.42\" id=\"fig-65862f8192304b9abe8d29c24ef91791-element-133\" gadfly:scale=\"5.0\" visibility=\"hidden\"/>\n",
        "      <path d=\"M18.63,52.12 L 99.41 52.12\" id=\"fig-65862f8192304b9abe8d29c24ef91791-element-134\" gadfly:scale=\"5.0\" visibility=\"hidden\"/>\n",
        "      <path d=\"M18.63,47.82 L 99.41 47.82\" id=\"fig-65862f8192304b9abe8d29c24ef91791-element-135\" gadfly:scale=\"5.0\" visibility=\"hidden\"/>\n",
        "      <path d=\"M18.63,43.53 L 99.41 43.53\" id=\"fig-65862f8192304b9abe8d29c24ef91791-element-136\" gadfly:scale=\"5.0\" visibility=\"hidden\"/>\n",
        "      <path d=\"M18.63,39.23 L 99.41 39.23\" id=\"fig-65862f8192304b9abe8d29c24ef91791-element-137\" gadfly:scale=\"5.0\" visibility=\"hidden\"/>\n",
        "      <path d=\"M18.63,34.93 L 99.41 34.93\" id=\"fig-65862f8192304b9abe8d29c24ef91791-element-138\" gadfly:scale=\"5.0\" visibility=\"hidden\"/>\n",
        "      <path d=\"M18.63,30.63 L 99.41 30.63\" id=\"fig-65862f8192304b9abe8d29c24ef91791-element-139\" gadfly:scale=\"5.0\" visibility=\"hidden\"/>\n",
        "      <path d=\"M18.63,26.34 L 99.41 26.34\" id=\"fig-65862f8192304b9abe8d29c24ef91791-element-140\" gadfly:scale=\"5.0\" visibility=\"hidden\"/>\n",
        "      <path d=\"M18.63,22.04 L 99.41 22.04\" id=\"fig-65862f8192304b9abe8d29c24ef91791-element-141\" gadfly:scale=\"5.0\" visibility=\"hidden\"/>\n",
        "      <path d=\"M18.63,17.74 L 99.41 17.74\" id=\"fig-65862f8192304b9abe8d29c24ef91791-element-142\" gadfly:scale=\"5.0\" visibility=\"hidden\"/>\n",
        "      <path d=\"M18.63,13.45 L 99.41 13.45\" id=\"fig-65862f8192304b9abe8d29c24ef91791-element-143\" gadfly:scale=\"5.0\" visibility=\"hidden\"/>\n",
        "      <path d=\"M18.63,9.15 L 99.41 9.15\" id=\"fig-65862f8192304b9abe8d29c24ef91791-element-144\" gadfly:scale=\"5.0\" visibility=\"hidden\"/>\n",
        "      <path d=\"M18.63,4.85 L 99.41 4.85\" id=\"fig-65862f8192304b9abe8d29c24ef91791-element-145\" gadfly:scale=\"5.0\" visibility=\"hidden\"/>\n",
        "      <path d=\"M18.63,0.55 L 99.41 0.55\" id=\"fig-65862f8192304b9abe8d29c24ef91791-element-146\" gadfly:scale=\"5.0\" visibility=\"hidden\"/>\n",
        "      <path d=\"M18.63,-3.74 L 99.41 -3.74\" id=\"fig-65862f8192304b9abe8d29c24ef91791-element-147\" gadfly:scale=\"5.0\" visibility=\"hidden\"/>\n",
        "      <path d=\"M18.63,-8.04 L 99.41 -8.04\" id=\"fig-65862f8192304b9abe8d29c24ef91791-element-148\" gadfly:scale=\"5.0\" visibility=\"hidden\"/>\n",
        "      <path d=\"M18.63,-12.34 L 99.41 -12.34\" id=\"fig-65862f8192304b9abe8d29c24ef91791-element-149\" gadfly:scale=\"5.0\" visibility=\"hidden\"/>\n",
        "      <path d=\"M18.63,-16.63 L 99.41 -16.63\" id=\"fig-65862f8192304b9abe8d29c24ef91791-element-150\" gadfly:scale=\"5.0\" visibility=\"hidden\"/>\n",
        "      <path d=\"M18.63,-20.93 L 99.41 -20.93\" id=\"fig-65862f8192304b9abe8d29c24ef91791-element-151\" gadfly:scale=\"5.0\" visibility=\"hidden\"/>\n",
        "      <path d=\"M18.63,-25.23 L 99.41 -25.23\" id=\"fig-65862f8192304b9abe8d29c24ef91791-element-152\" gadfly:scale=\"5.0\" visibility=\"hidden\"/>\n",
        "      <path d=\"M18.63,-29.53 L 99.41 -29.53\" id=\"fig-65862f8192304b9abe8d29c24ef91791-element-153\" gadfly:scale=\"5.0\" visibility=\"hidden\"/>\n",
        "      <path d=\"M18.63,-33.82 L 99.41 -33.82\" id=\"fig-65862f8192304b9abe8d29c24ef91791-element-154\" gadfly:scale=\"5.0\" visibility=\"hidden\"/>\n",
        "      <path d=\"M18.63,-38.12 L 99.41 -38.12\" id=\"fig-65862f8192304b9abe8d29c24ef91791-element-155\" gadfly:scale=\"5.0\" visibility=\"hidden\"/>\n",
        "      <path d=\"M18.63,-42.42 L 99.41 -42.42\" id=\"fig-65862f8192304b9abe8d29c24ef91791-element-156\" gadfly:scale=\"5.0\" visibility=\"hidden\"/>\n",
        "      <path d=\"M18.63,-46.71 L 99.41 -46.71\" id=\"fig-65862f8192304b9abe8d29c24ef91791-element-157\" gadfly:scale=\"5.0\" visibility=\"hidden\"/>\n",
        "    </g>\n",
        "    <g class=\"guide xgridlines yfixed\" stroke-dasharray=\"0.5,0.5\" stroke-width=\"0.2\" stroke=\"#D0D0E0\" id=\"fig-65862f8192304b9abe8d29c24ef91791-element-158\">\n",
        "      <path d=\"M-75.34,5 L -75.34 62.72\" id=\"fig-65862f8192304b9abe8d29c24ef91791-element-159\" gadfly:scale=\"1.0\" visibility=\"hidden\"/>\n",
        "      <path d=\"M-56.14,5 L -56.14 62.72\" id=\"fig-65862f8192304b9abe8d29c24ef91791-element-160\" gadfly:scale=\"1.0\" visibility=\"hidden\"/>\n",
        "      <path d=\"M-36.95,5 L -36.95 62.72\" id=\"fig-65862f8192304b9abe8d29c24ef91791-element-161\" gadfly:scale=\"1.0\" visibility=\"hidden\"/>\n",
        "      <path d=\"M-17.76,5 L -17.76 62.72\" id=\"fig-65862f8192304b9abe8d29c24ef91791-element-162\" gadfly:scale=\"1.0\" visibility=\"hidden\"/>\n",
        "      <path d=\"M1.44,5 L 1.44 62.72\" id=\"fig-65862f8192304b9abe8d29c24ef91791-element-163\" gadfly:scale=\"1.0\" visibility=\"hidden\"/>\n",
        "      <path d=\"M20.63,5 L 20.63 62.72\" id=\"fig-65862f8192304b9abe8d29c24ef91791-element-164\" gadfly:scale=\"1.0\" visibility=\"visible\"/>\n",
        "      <path d=\"M39.83,5 L 39.83 62.72\" id=\"fig-65862f8192304b9abe8d29c24ef91791-element-165\" gadfly:scale=\"1.0\" visibility=\"visible\"/>\n",
        "      <path d=\"M59.02,5 L 59.02 62.72\" id=\"fig-65862f8192304b9abe8d29c24ef91791-element-166\" gadfly:scale=\"1.0\" visibility=\"visible\"/>\n",
        "      <path d=\"M78.21,5 L 78.21 62.72\" id=\"fig-65862f8192304b9abe8d29c24ef91791-element-167\" gadfly:scale=\"1.0\" visibility=\"visible\"/>\n",
        "      <path d=\"M97.41,5 L 97.41 62.72\" id=\"fig-65862f8192304b9abe8d29c24ef91791-element-168\" gadfly:scale=\"1.0\" visibility=\"visible\"/>\n",
        "      <path d=\"M116.6,5 L 116.6 62.72\" id=\"fig-65862f8192304b9abe8d29c24ef91791-element-169\" gadfly:scale=\"1.0\" visibility=\"hidden\"/>\n",
        "      <path d=\"M135.79,5 L 135.79 62.72\" id=\"fig-65862f8192304b9abe8d29c24ef91791-element-170\" gadfly:scale=\"1.0\" visibility=\"hidden\"/>\n",
        "      <path d=\"M154.99,5 L 154.99 62.72\" id=\"fig-65862f8192304b9abe8d29c24ef91791-element-171\" gadfly:scale=\"1.0\" visibility=\"hidden\"/>\n",
        "      <path d=\"M174.18,5 L 174.18 62.72\" id=\"fig-65862f8192304b9abe8d29c24ef91791-element-172\" gadfly:scale=\"1.0\" visibility=\"hidden\"/>\n",
        "      <path d=\"M193.38,5 L 193.38 62.72\" id=\"fig-65862f8192304b9abe8d29c24ef91791-element-173\" gadfly:scale=\"1.0\" visibility=\"hidden\"/>\n",
        "      <path d=\"M-56.14,5 L -56.14 62.72\" id=\"fig-65862f8192304b9abe8d29c24ef91791-element-174\" gadfly:scale=\"10.0\" visibility=\"hidden\"/>\n",
        "      <path d=\"M-52.3,5 L -52.3 62.72\" id=\"fig-65862f8192304b9abe8d29c24ef91791-element-175\" gadfly:scale=\"10.0\" visibility=\"hidden\"/>\n",
        "      <path d=\"M-48.47,5 L -48.47 62.72\" id=\"fig-65862f8192304b9abe8d29c24ef91791-element-176\" gadfly:scale=\"10.0\" visibility=\"hidden\"/>\n",
        "      <path d=\"M-44.63,5 L -44.63 62.72\" id=\"fig-65862f8192304b9abe8d29c24ef91791-element-177\" gadfly:scale=\"10.0\" visibility=\"hidden\"/>\n",
        "      <path d=\"M-40.79,5 L -40.79 62.72\" id=\"fig-65862f8192304b9abe8d29c24ef91791-element-178\" gadfly:scale=\"10.0\" visibility=\"hidden\"/>\n",
        "      <path d=\"M-36.95,5 L -36.95 62.72\" id=\"fig-65862f8192304b9abe8d29c24ef91791-element-179\" gadfly:scale=\"10.0\" visibility=\"hidden\"/>\n",
        "      <path d=\"M-33.11,5 L -33.11 62.72\" id=\"fig-65862f8192304b9abe8d29c24ef91791-element-180\" gadfly:scale=\"10.0\" visibility=\"hidden\"/>\n",
        "      <path d=\"M-29.27,5 L -29.27 62.72\" id=\"fig-65862f8192304b9abe8d29c24ef91791-element-181\" gadfly:scale=\"10.0\" visibility=\"hidden\"/>\n",
        "      <path d=\"M-25.43,5 L -25.43 62.72\" id=\"fig-65862f8192304b9abe8d29c24ef91791-element-182\" gadfly:scale=\"10.0\" visibility=\"hidden\"/>\n",
        "      <path d=\"M-21.59,5 L -21.59 62.72\" id=\"fig-65862f8192304b9abe8d29c24ef91791-element-183\" gadfly:scale=\"10.0\" visibility=\"hidden\"/>\n",
        "      <path d=\"M-17.76,5 L -17.76 62.72\" id=\"fig-65862f8192304b9abe8d29c24ef91791-element-184\" gadfly:scale=\"10.0\" visibility=\"hidden\"/>\n",
        "      <path d=\"M-13.92,5 L -13.92 62.72\" id=\"fig-65862f8192304b9abe8d29c24ef91791-element-185\" gadfly:scale=\"10.0\" visibility=\"hidden\"/>\n",
        "      <path d=\"M-10.08,5 L -10.08 62.72\" id=\"fig-65862f8192304b9abe8d29c24ef91791-element-186\" gadfly:scale=\"10.0\" visibility=\"hidden\"/>\n",
        "      <path d=\"M-6.24,5 L -6.24 62.72\" id=\"fig-65862f8192304b9abe8d29c24ef91791-element-187\" gadfly:scale=\"10.0\" visibility=\"hidden\"/>\n",
        "      <path d=\"M-2.4,5 L -2.4 62.72\" id=\"fig-65862f8192304b9abe8d29c24ef91791-element-188\" gadfly:scale=\"10.0\" visibility=\"hidden\"/>\n",
        "      <path d=\"M1.44,5 L 1.44 62.72\" id=\"fig-65862f8192304b9abe8d29c24ef91791-element-189\" gadfly:scale=\"10.0\" visibility=\"hidden\"/>\n",
        "      <path d=\"M5.28,5 L 5.28 62.72\" id=\"fig-65862f8192304b9abe8d29c24ef91791-element-190\" gadfly:scale=\"10.0\" visibility=\"hidden\"/>\n",
        "      <path d=\"M9.12,5 L 9.12 62.72\" id=\"fig-65862f8192304b9abe8d29c24ef91791-element-191\" gadfly:scale=\"10.0\" visibility=\"hidden\"/>\n",
        "      <path d=\"M12.95,5 L 12.95 62.72\" id=\"fig-65862f8192304b9abe8d29c24ef91791-element-192\" gadfly:scale=\"10.0\" visibility=\"hidden\"/>\n",
        "      <path d=\"M16.79,5 L 16.79 62.72\" id=\"fig-65862f8192304b9abe8d29c24ef91791-element-193\" gadfly:scale=\"10.0\" visibility=\"hidden\"/>\n",
        "      <path d=\"M20.63,5 L 20.63 62.72\" id=\"fig-65862f8192304b9abe8d29c24ef91791-element-194\" gadfly:scale=\"10.0\" visibility=\"hidden\"/>\n",
        "      <path d=\"M24.47,5 L 24.47 62.72\" id=\"fig-65862f8192304b9abe8d29c24ef91791-element-195\" gadfly:scale=\"10.0\" visibility=\"hidden\"/>\n",
        "      <path d=\"M28.31,5 L 28.31 62.72\" id=\"fig-65862f8192304b9abe8d29c24ef91791-element-196\" gadfly:scale=\"10.0\" visibility=\"hidden\"/>\n",
        "      <path d=\"M32.15,5 L 32.15 62.72\" id=\"fig-65862f8192304b9abe8d29c24ef91791-element-197\" gadfly:scale=\"10.0\" visibility=\"hidden\"/>\n",
        "      <path d=\"M35.99,5 L 35.99 62.72\" id=\"fig-65862f8192304b9abe8d29c24ef91791-element-198\" gadfly:scale=\"10.0\" visibility=\"hidden\"/>\n",
        "      <path d=\"M39.83,5 L 39.83 62.72\" id=\"fig-65862f8192304b9abe8d29c24ef91791-element-199\" gadfly:scale=\"10.0\" visibility=\"hidden\"/>\n",
        "      <path d=\"M43.66,5 L 43.66 62.72\" id=\"fig-65862f8192304b9abe8d29c24ef91791-element-200\" gadfly:scale=\"10.0\" visibility=\"hidden\"/>\n",
        "      <path d=\"M47.5,5 L 47.5 62.72\" id=\"fig-65862f8192304b9abe8d29c24ef91791-element-201\" gadfly:scale=\"10.0\" visibility=\"hidden\"/>\n",
        "      <path d=\"M51.34,5 L 51.34 62.72\" id=\"fig-65862f8192304b9abe8d29c24ef91791-element-202\" gadfly:scale=\"10.0\" visibility=\"hidden\"/>\n",
        "      <path d=\"M55.18,5 L 55.18 62.72\" id=\"fig-65862f8192304b9abe8d29c24ef91791-element-203\" gadfly:scale=\"10.0\" visibility=\"hidden\"/>\n",
        "      <path d=\"M59.02,5 L 59.02 62.72\" id=\"fig-65862f8192304b9abe8d29c24ef91791-element-204\" gadfly:scale=\"10.0\" visibility=\"hidden\"/>\n",
        "      <path d=\"M62.86,5 L 62.86 62.72\" id=\"fig-65862f8192304b9abe8d29c24ef91791-element-205\" gadfly:scale=\"10.0\" visibility=\"hidden\"/>\n",
        "      <path d=\"M66.7,5 L 66.7 62.72\" id=\"fig-65862f8192304b9abe8d29c24ef91791-element-206\" gadfly:scale=\"10.0\" visibility=\"hidden\"/>\n",
        "      <path d=\"M70.54,5 L 70.54 62.72\" id=\"fig-65862f8192304b9abe8d29c24ef91791-element-207\" gadfly:scale=\"10.0\" visibility=\"hidden\"/>\n",
        "      <path d=\"M74.37,5 L 74.37 62.72\" id=\"fig-65862f8192304b9abe8d29c24ef91791-element-208\" gadfly:scale=\"10.0\" visibility=\"hidden\"/>\n",
        "      <path d=\"M78.21,5 L 78.21 62.72\" id=\"fig-65862f8192304b9abe8d29c24ef91791-element-209\" gadfly:scale=\"10.0\" visibility=\"hidden\"/>\n",
        "      <path d=\"M82.05,5 L 82.05 62.72\" id=\"fig-65862f8192304b9abe8d29c24ef91791-element-210\" gadfly:scale=\"10.0\" visibility=\"hidden\"/>\n",
        "      <path d=\"M85.89,5 L 85.89 62.72\" id=\"fig-65862f8192304b9abe8d29c24ef91791-element-211\" gadfly:scale=\"10.0\" visibility=\"hidden\"/>\n",
        "      <path d=\"M89.73,5 L 89.73 62.72\" id=\"fig-65862f8192304b9abe8d29c24ef91791-element-212\" gadfly:scale=\"10.0\" visibility=\"hidden\"/>\n",
        "      <path d=\"M93.57,5 L 93.57 62.72\" id=\"fig-65862f8192304b9abe8d29c24ef91791-element-213\" gadfly:scale=\"10.0\" visibility=\"hidden\"/>\n",
        "      <path d=\"M97.41,5 L 97.41 62.72\" id=\"fig-65862f8192304b9abe8d29c24ef91791-element-214\" gadfly:scale=\"10.0\" visibility=\"hidden\"/>\n",
        "      <path d=\"M101.25,5 L 101.25 62.72\" id=\"fig-65862f8192304b9abe8d29c24ef91791-element-215\" gadfly:scale=\"10.0\" visibility=\"hidden\"/>\n",
        "      <path d=\"M105.08,5 L 105.08 62.72\" id=\"fig-65862f8192304b9abe8d29c24ef91791-element-216\" gadfly:scale=\"10.0\" visibility=\"hidden\"/>\n",
        "      <path d=\"M108.92,5 L 108.92 62.72\" id=\"fig-65862f8192304b9abe8d29c24ef91791-element-217\" gadfly:scale=\"10.0\" visibility=\"hidden\"/>\n",
        "      <path d=\"M112.76,5 L 112.76 62.72\" id=\"fig-65862f8192304b9abe8d29c24ef91791-element-218\" gadfly:scale=\"10.0\" visibility=\"hidden\"/>\n",
        "      <path d=\"M116.6,5 L 116.6 62.72\" id=\"fig-65862f8192304b9abe8d29c24ef91791-element-219\" gadfly:scale=\"10.0\" visibility=\"hidden\"/>\n",
        "      <path d=\"M120.44,5 L 120.44 62.72\" id=\"fig-65862f8192304b9abe8d29c24ef91791-element-220\" gadfly:scale=\"10.0\" visibility=\"hidden\"/>\n",
        "      <path d=\"M124.28,5 L 124.28 62.72\" id=\"fig-65862f8192304b9abe8d29c24ef91791-element-221\" gadfly:scale=\"10.0\" visibility=\"hidden\"/>\n",
        "      <path d=\"M128.12,5 L 128.12 62.72\" id=\"fig-65862f8192304b9abe8d29c24ef91791-element-222\" gadfly:scale=\"10.0\" visibility=\"hidden\"/>\n",
        "      <path d=\"M131.96,5 L 131.96 62.72\" id=\"fig-65862f8192304b9abe8d29c24ef91791-element-223\" gadfly:scale=\"10.0\" visibility=\"hidden\"/>\n",
        "      <path d=\"M135.79,5 L 135.79 62.72\" id=\"fig-65862f8192304b9abe8d29c24ef91791-element-224\" gadfly:scale=\"10.0\" visibility=\"hidden\"/>\n",
        "      <path d=\"M139.63,5 L 139.63 62.72\" id=\"fig-65862f8192304b9abe8d29c24ef91791-element-225\" gadfly:scale=\"10.0\" visibility=\"hidden\"/>\n",
        "      <path d=\"M143.47,5 L 143.47 62.72\" id=\"fig-65862f8192304b9abe8d29c24ef91791-element-226\" gadfly:scale=\"10.0\" visibility=\"hidden\"/>\n",
        "      <path d=\"M147.31,5 L 147.31 62.72\" id=\"fig-65862f8192304b9abe8d29c24ef91791-element-227\" gadfly:scale=\"10.0\" visibility=\"hidden\"/>\n",
        "      <path d=\"M151.15,5 L 151.15 62.72\" id=\"fig-65862f8192304b9abe8d29c24ef91791-element-228\" gadfly:scale=\"10.0\" visibility=\"hidden\"/>\n",
        "      <path d=\"M154.99,5 L 154.99 62.72\" id=\"fig-65862f8192304b9abe8d29c24ef91791-element-229\" gadfly:scale=\"10.0\" visibility=\"hidden\"/>\n",
        "      <path d=\"M158.83,5 L 158.83 62.72\" id=\"fig-65862f8192304b9abe8d29c24ef91791-element-230\" gadfly:scale=\"10.0\" visibility=\"hidden\"/>\n",
        "      <path d=\"M162.67,5 L 162.67 62.72\" id=\"fig-65862f8192304b9abe8d29c24ef91791-element-231\" gadfly:scale=\"10.0\" visibility=\"hidden\"/>\n",
        "      <path d=\"M166.5,5 L 166.5 62.72\" id=\"fig-65862f8192304b9abe8d29c24ef91791-element-232\" gadfly:scale=\"10.0\" visibility=\"hidden\"/>\n",
        "      <path d=\"M170.34,5 L 170.34 62.72\" id=\"fig-65862f8192304b9abe8d29c24ef91791-element-233\" gadfly:scale=\"10.0\" visibility=\"hidden\"/>\n",
        "      <path d=\"M174.18,5 L 174.18 62.72\" id=\"fig-65862f8192304b9abe8d29c24ef91791-element-234\" gadfly:scale=\"10.0\" visibility=\"hidden\"/>\n",
        "      <path d=\"M-56.14,5 L -56.14 62.72\" id=\"fig-65862f8192304b9abe8d29c24ef91791-element-235\" gadfly:scale=\"0.5\" visibility=\"hidden\"/>\n",
        "      <path d=\"M39.83,5 L 39.83 62.72\" id=\"fig-65862f8192304b9abe8d29c24ef91791-element-236\" gadfly:scale=\"0.5\" visibility=\"hidden\"/>\n",
        "      <path d=\"M135.79,5 L 135.79 62.72\" id=\"fig-65862f8192304b9abe8d29c24ef91791-element-237\" gadfly:scale=\"0.5\" visibility=\"hidden\"/>\n",
        "      <path d=\"M231.76,5 L 231.76 62.72\" id=\"fig-65862f8192304b9abe8d29c24ef91791-element-238\" gadfly:scale=\"0.5\" visibility=\"hidden\"/>\n",
        "      <path d=\"M-56.14,5 L -56.14 62.72\" id=\"fig-65862f8192304b9abe8d29c24ef91791-element-239\" gadfly:scale=\"5.0\" visibility=\"hidden\"/>\n",
        "      <path d=\"M-46.55,5 L -46.55 62.72\" id=\"fig-65862f8192304b9abe8d29c24ef91791-element-240\" gadfly:scale=\"5.0\" visibility=\"hidden\"/>\n",
        "      <path d=\"M-36.95,5 L -36.95 62.72\" id=\"fig-65862f8192304b9abe8d29c24ef91791-element-241\" gadfly:scale=\"5.0\" visibility=\"hidden\"/>\n",
        "      <path d=\"M-27.35,5 L -27.35 62.72\" id=\"fig-65862f8192304b9abe8d29c24ef91791-element-242\" gadfly:scale=\"5.0\" visibility=\"hidden\"/>\n",
        "      <path d=\"M-17.76,5 L -17.76 62.72\" id=\"fig-65862f8192304b9abe8d29c24ef91791-element-243\" gadfly:scale=\"5.0\" visibility=\"hidden\"/>\n",
        "      <path d=\"M-8.16,5 L -8.16 62.72\" id=\"fig-65862f8192304b9abe8d29c24ef91791-element-244\" gadfly:scale=\"5.0\" visibility=\"hidden\"/>\n",
        "      <path d=\"M1.44,5 L 1.44 62.72\" id=\"fig-65862f8192304b9abe8d29c24ef91791-element-245\" gadfly:scale=\"5.0\" visibility=\"hidden\"/>\n",
        "      <path d=\"M11.03,5 L 11.03 62.72\" id=\"fig-65862f8192304b9abe8d29c24ef91791-element-246\" gadfly:scale=\"5.0\" visibility=\"hidden\"/>\n",
        "      <path d=\"M20.63,5 L 20.63 62.72\" id=\"fig-65862f8192304b9abe8d29c24ef91791-element-247\" gadfly:scale=\"5.0\" visibility=\"hidden\"/>\n",
        "      <path d=\"M30.23,5 L 30.23 62.72\" id=\"fig-65862f8192304b9abe8d29c24ef91791-element-248\" gadfly:scale=\"5.0\" visibility=\"hidden\"/>\n",
        "      <path d=\"M39.83,5 L 39.83 62.72\" id=\"fig-65862f8192304b9abe8d29c24ef91791-element-249\" gadfly:scale=\"5.0\" visibility=\"hidden\"/>\n",
        "      <path d=\"M49.42,5 L 49.42 62.72\" id=\"fig-65862f8192304b9abe8d29c24ef91791-element-250\" gadfly:scale=\"5.0\" visibility=\"hidden\"/>\n",
        "      <path d=\"M59.02,5 L 59.02 62.72\" id=\"fig-65862f8192304b9abe8d29c24ef91791-element-251\" gadfly:scale=\"5.0\" visibility=\"hidden\"/>\n",
        "      <path d=\"M68.62,5 L 68.62 62.72\" id=\"fig-65862f8192304b9abe8d29c24ef91791-element-252\" gadfly:scale=\"5.0\" visibility=\"hidden\"/>\n",
        "      <path d=\"M78.21,5 L 78.21 62.72\" id=\"fig-65862f8192304b9abe8d29c24ef91791-element-253\" gadfly:scale=\"5.0\" visibility=\"hidden\"/>\n",
        "      <path d=\"M87.81,5 L 87.81 62.72\" id=\"fig-65862f8192304b9abe8d29c24ef91791-element-254\" gadfly:scale=\"5.0\" visibility=\"hidden\"/>\n",
        "      <path d=\"M97.41,5 L 97.41 62.72\" id=\"fig-65862f8192304b9abe8d29c24ef91791-element-255\" gadfly:scale=\"5.0\" visibility=\"hidden\"/>\n",
        "      <path d=\"M107,5 L 107 62.72\" id=\"fig-65862f8192304b9abe8d29c24ef91791-element-256\" gadfly:scale=\"5.0\" visibility=\"hidden\"/>\n",
        "      <path d=\"M116.6,5 L 116.6 62.72\" id=\"fig-65862f8192304b9abe8d29c24ef91791-element-257\" gadfly:scale=\"5.0\" visibility=\"hidden\"/>\n",
        "      <path d=\"M126.2,5 L 126.2 62.72\" id=\"fig-65862f8192304b9abe8d29c24ef91791-element-258\" gadfly:scale=\"5.0\" visibility=\"hidden\"/>\n",
        "      <path d=\"M135.79,5 L 135.79 62.72\" id=\"fig-65862f8192304b9abe8d29c24ef91791-element-259\" gadfly:scale=\"5.0\" visibility=\"hidden\"/>\n",
        "      <path d=\"M145.39,5 L 145.39 62.72\" id=\"fig-65862f8192304b9abe8d29c24ef91791-element-260\" gadfly:scale=\"5.0\" visibility=\"hidden\"/>\n",
        "      <path d=\"M154.99,5 L 154.99 62.72\" id=\"fig-65862f8192304b9abe8d29c24ef91791-element-261\" gadfly:scale=\"5.0\" visibility=\"hidden\"/>\n",
        "      <path d=\"M164.58,5 L 164.58 62.72\" id=\"fig-65862f8192304b9abe8d29c24ef91791-element-262\" gadfly:scale=\"5.0\" visibility=\"hidden\"/>\n",
        "      <path d=\"M174.18,5 L 174.18 62.72\" id=\"fig-65862f8192304b9abe8d29c24ef91791-element-263\" gadfly:scale=\"5.0\" visibility=\"hidden\"/>\n",
        "    </g>\n",
        "    <g class=\"plotpanel\" id=\"fig-65862f8192304b9abe8d29c24ef91791-element-264\">\n",
        "      <g class=\"geometry\" id=\"fig-65862f8192304b9abe8d29c24ef91791-element-265\">\n",
        "        <g stroke-width=\"0.3\" id=\"fig-65862f8192304b9abe8d29c24ef91791-element-266\">\n",
        "          <circle cx=\"41.74\" cy=\"28.49\" r=\"0.9\" id=\"fig-65862f8192304b9abe8d29c24ef91791-element-267\" class=\"color_setosa\" stroke=\"#FFFFFF\" fill=\"#00BFFF\"/>\n",
        "          <circle cx=\"37.91\" cy=\"39.23\" r=\"0.9\" id=\"fig-65862f8192304b9abe8d29c24ef91791-element-268\" class=\"color_setosa\" stroke=\"#FFFFFF\" fill=\"#00BFFF\"/>\n",
        "          <circle cx=\"34.07\" cy=\"34.93\" r=\"0.9\" id=\"fig-65862f8192304b9abe8d29c24ef91791-element-269\" class=\"color_setosa\" stroke=\"#FFFFFF\" fill=\"#00BFFF\"/>\n",
        "          <circle cx=\"32.15\" cy=\"37.08\" r=\"0.9\" id=\"fig-65862f8192304b9abe8d29c24ef91791-element-270\" class=\"color_setosa\" stroke=\"#FFFFFF\" fill=\"#00BFFF\"/>\n",
        "          <circle cx=\"39.83\" cy=\"26.34\" r=\"0.9\" id=\"fig-65862f8192304b9abe8d29c24ef91791-element-271\" class=\"color_setosa\" stroke=\"#FFFFFF\" fill=\"#00BFFF\"/>\n",
        "          <circle cx=\"47.5\" cy=\"19.89\" r=\"0.9\" id=\"fig-65862f8192304b9abe8d29c24ef91791-element-272\" class=\"color_setosa\" stroke=\"#FFFFFF\" fill=\"#00BFFF\"/>\n",
        "          <circle cx=\"32.15\" cy=\"30.63\" r=\"0.9\" id=\"fig-65862f8192304b9abe8d29c24ef91791-element-273\" class=\"color_setosa\" stroke=\"#FFFFFF\" fill=\"#00BFFF\"/>\n",
        "          <circle cx=\"39.83\" cy=\"30.63\" r=\"0.9\" id=\"fig-65862f8192304b9abe8d29c24ef91791-element-274\" class=\"color_setosa\" stroke=\"#FFFFFF\" fill=\"#00BFFF\"/>\n",
        "          <circle cx=\"28.31\" cy=\"41.38\" r=\"0.9\" id=\"fig-65862f8192304b9abe8d29c24ef91791-element-275\" class=\"color_setosa\" stroke=\"#FFFFFF\" fill=\"#00BFFF\"/>\n",
        "          <circle cx=\"37.91\" cy=\"37.08\" r=\"0.9\" id=\"fig-65862f8192304b9abe8d29c24ef91791-element-276\" class=\"color_setosa\" stroke=\"#FFFFFF\" fill=\"#00BFFF\"/>\n",
        "          <circle cx=\"47.5\" cy=\"24.19\" r=\"0.9\" id=\"fig-65862f8192304b9abe8d29c24ef91791-element-277\" class=\"color_setosa\" stroke=\"#FFFFFF\" fill=\"#00BFFF\"/>\n",
        "          <circle cx=\"35.99\" cy=\"30.63\" r=\"0.9\" id=\"fig-65862f8192304b9abe8d29c24ef91791-element-278\" class=\"color_setosa\" stroke=\"#FFFFFF\" fill=\"#00BFFF\"/>\n",
        "          <circle cx=\"35.99\" cy=\"39.23\" r=\"0.9\" id=\"fig-65862f8192304b9abe8d29c24ef91791-element-279\" class=\"color_setosa\" stroke=\"#FFFFFF\" fill=\"#00BFFF\"/>\n",
        "          <circle cx=\"26.39\" cy=\"39.23\" r=\"0.9\" id=\"fig-65862f8192304b9abe8d29c24ef91791-element-280\" class=\"color_setosa\" stroke=\"#FFFFFF\" fill=\"#00BFFF\"/>\n",
        "          <circle cx=\"55.18\" cy=\"17.74\" r=\"0.9\" id=\"fig-65862f8192304b9abe8d29c24ef91791-element-281\" class=\"color_setosa\" stroke=\"#FFFFFF\" fill=\"#00BFFF\"/>\n",
        "          <circle cx=\"53.26\" cy=\"9.15\" r=\"0.9\" id=\"fig-65862f8192304b9abe8d29c24ef91791-element-282\" class=\"color_setosa\" stroke=\"#FFFFFF\" fill=\"#00BFFF\"/>\n",
        "          <circle cx=\"47.5\" cy=\"19.89\" r=\"0.9\" id=\"fig-65862f8192304b9abe8d29c24ef91791-element-283\" class=\"color_setosa\" stroke=\"#FFFFFF\" fill=\"#00BFFF\"/>\n",
        "          <circle cx=\"41.74\" cy=\"28.49\" r=\"0.9\" id=\"fig-65862f8192304b9abe8d29c24ef91791-element-284\" class=\"color_setosa\" stroke=\"#FFFFFF\" fill=\"#00BFFF\"/>\n",
        "          <circle cx=\"53.26\" cy=\"22.04\" r=\"0.9\" id=\"fig-65862f8192304b9abe8d29c24ef91791-element-285\" class=\"color_setosa\" stroke=\"#FFFFFF\" fill=\"#00BFFF\"/>\n",
        "          <circle cx=\"41.74\" cy=\"22.04\" r=\"0.9\" id=\"fig-65862f8192304b9abe8d29c24ef91791-element-286\" class=\"color_setosa\" stroke=\"#FFFFFF\" fill=\"#00BFFF\"/>\n",
        "          <circle cx=\"47.5\" cy=\"30.63\" r=\"0.9\" id=\"fig-65862f8192304b9abe8d29c24ef91791-element-287\" class=\"color_setosa\" stroke=\"#FFFFFF\" fill=\"#00BFFF\"/>\n",
        "          <circle cx=\"41.74\" cy=\"24.19\" r=\"0.9\" id=\"fig-65862f8192304b9abe8d29c24ef91791-element-288\" class=\"color_setosa\" stroke=\"#FFFFFF\" fill=\"#00BFFF\"/>\n",
        "          <circle cx=\"32.15\" cy=\"26.34\" r=\"0.9\" id=\"fig-65862f8192304b9abe8d29c24ef91791-element-289\" class=\"color_setosa\" stroke=\"#FFFFFF\" fill=\"#00BFFF\"/>\n",
        "          <circle cx=\"41.74\" cy=\"32.78\" r=\"0.9\" id=\"fig-65862f8192304b9abe8d29c24ef91791-element-290\" class=\"color_setosa\" stroke=\"#FFFFFF\" fill=\"#00BFFF\"/>\n",
        "          <circle cx=\"35.99\" cy=\"30.63\" r=\"0.9\" id=\"fig-65862f8192304b9abe8d29c24ef91791-element-291\" class=\"color_setosa\" stroke=\"#FFFFFF\" fill=\"#00BFFF\"/>\n",
        "          <circle cx=\"39.83\" cy=\"39.23\" r=\"0.9\" id=\"fig-65862f8192304b9abe8d29c24ef91791-element-292\" class=\"color_setosa\" stroke=\"#FFFFFF\" fill=\"#00BFFF\"/>\n",
        "          <circle cx=\"39.83\" cy=\"30.63\" r=\"0.9\" id=\"fig-65862f8192304b9abe8d29c24ef91791-element-293\" class=\"color_setosa\" stroke=\"#FFFFFF\" fill=\"#00BFFF\"/>\n",
        "          <circle cx=\"43.66\" cy=\"28.49\" r=\"0.9\" id=\"fig-65862f8192304b9abe8d29c24ef91791-element-294\" class=\"color_setosa\" stroke=\"#FFFFFF\" fill=\"#00BFFF\"/>\n",
        "          <circle cx=\"43.66\" cy=\"30.63\" r=\"0.9\" id=\"fig-65862f8192304b9abe8d29c24ef91791-element-295\" class=\"color_setosa\" stroke=\"#FFFFFF\" fill=\"#00BFFF\"/>\n",
        "          <circle cx=\"34.07\" cy=\"34.93\" r=\"0.9\" id=\"fig-65862f8192304b9abe8d29c24ef91791-element-296\" class=\"color_setosa\" stroke=\"#FFFFFF\" fill=\"#00BFFF\"/>\n",
        "          <circle cx=\"35.99\" cy=\"37.08\" r=\"0.9\" id=\"fig-65862f8192304b9abe8d29c24ef91791-element-297\" class=\"color_setosa\" stroke=\"#FFFFFF\" fill=\"#00BFFF\"/>\n",
        "          <circle cx=\"47.5\" cy=\"30.63\" r=\"0.9\" id=\"fig-65862f8192304b9abe8d29c24ef91791-element-298\" class=\"color_setosa\" stroke=\"#FFFFFF\" fill=\"#00BFFF\"/>\n",
        "          <circle cx=\"43.66\" cy=\"15.59\" r=\"0.9\" id=\"fig-65862f8192304b9abe8d29c24ef91791-element-299\" class=\"color_setosa\" stroke=\"#FFFFFF\" fill=\"#00BFFF\"/>\n",
        "          <circle cx=\"49.42\" cy=\"13.45\" r=\"0.9\" id=\"fig-65862f8192304b9abe8d29c24ef91791-element-300\" class=\"color_setosa\" stroke=\"#FFFFFF\" fill=\"#00BFFF\"/>\n",
        "          <circle cx=\"37.91\" cy=\"37.08\" r=\"0.9\" id=\"fig-65862f8192304b9abe8d29c24ef91791-element-301\" class=\"color_setosa\" stroke=\"#FFFFFF\" fill=\"#00BFFF\"/>\n",
        "          <circle cx=\"39.83\" cy=\"34.93\" r=\"0.9\" id=\"fig-65862f8192304b9abe8d29c24ef91791-element-302\" class=\"color_setosa\" stroke=\"#FFFFFF\" fill=\"#00BFFF\"/>\n",
        "          <circle cx=\"49.42\" cy=\"28.49\" r=\"0.9\" id=\"fig-65862f8192304b9abe8d29c24ef91791-element-303\" class=\"color_setosa\" stroke=\"#FFFFFF\" fill=\"#00BFFF\"/>\n",
        "          <circle cx=\"37.91\" cy=\"26.34\" r=\"0.9\" id=\"fig-65862f8192304b9abe8d29c24ef91791-element-304\" class=\"color_setosa\" stroke=\"#FFFFFF\" fill=\"#00BFFF\"/>\n",
        "          <circle cx=\"28.31\" cy=\"39.23\" r=\"0.9\" id=\"fig-65862f8192304b9abe8d29c24ef91791-element-305\" class=\"color_setosa\" stroke=\"#FFFFFF\" fill=\"#00BFFF\"/>\n",
        "          <circle cx=\"41.74\" cy=\"30.63\" r=\"0.9\" id=\"fig-65862f8192304b9abe8d29c24ef91791-element-306\" class=\"color_setosa\" stroke=\"#FFFFFF\" fill=\"#00BFFF\"/>\n",
        "          <circle cx=\"39.83\" cy=\"28.49\" r=\"0.9\" id=\"fig-65862f8192304b9abe8d29c24ef91791-element-307\" class=\"color_setosa\" stroke=\"#FFFFFF\" fill=\"#00BFFF\"/>\n",
        "          <circle cx=\"30.23\" cy=\"54.27\" r=\"0.9\" id=\"fig-65862f8192304b9abe8d29c24ef91791-element-308\" class=\"color_setosa\" stroke=\"#FFFFFF\" fill=\"#00BFFF\"/>\n",
        "          <circle cx=\"28.31\" cy=\"34.93\" r=\"0.9\" id=\"fig-65862f8192304b9abe8d29c24ef91791-element-309\" class=\"color_setosa\" stroke=\"#FFFFFF\" fill=\"#00BFFF\"/>\n",
        "          <circle cx=\"39.83\" cy=\"28.49\" r=\"0.9\" id=\"fig-65862f8192304b9abe8d29c24ef91791-element-310\" class=\"color_setosa\" stroke=\"#FFFFFF\" fill=\"#00BFFF\"/>\n",
        "          <circle cx=\"41.74\" cy=\"22.04\" r=\"0.9\" id=\"fig-65862f8192304b9abe8d29c24ef91791-element-311\" class=\"color_setosa\" stroke=\"#FFFFFF\" fill=\"#00BFFF\"/>\n",
        "          <circle cx=\"35.99\" cy=\"39.23\" r=\"0.9\" id=\"fig-65862f8192304b9abe8d29c24ef91791-element-312\" class=\"color_setosa\" stroke=\"#FFFFFF\" fill=\"#00BFFF\"/>\n",
        "          <circle cx=\"41.74\" cy=\"22.04\" r=\"0.9\" id=\"fig-65862f8192304b9abe8d29c24ef91791-element-313\" class=\"color_setosa\" stroke=\"#FFFFFF\" fill=\"#00BFFF\"/>\n",
        "          <circle cx=\"32.15\" cy=\"34.93\" r=\"0.9\" id=\"fig-65862f8192304b9abe8d29c24ef91791-element-314\" class=\"color_setosa\" stroke=\"#FFFFFF\" fill=\"#00BFFF\"/>\n",
        "          <circle cx=\"45.58\" cy=\"24.19\" r=\"0.9\" id=\"fig-65862f8192304b9abe8d29c24ef91791-element-315\" class=\"color_setosa\" stroke=\"#FFFFFF\" fill=\"#00BFFF\"/>\n",
        "          <circle cx=\"39.83\" cy=\"32.78\" r=\"0.9\" id=\"fig-65862f8192304b9abe8d29c24ef91791-element-316\" class=\"color_setosa\" stroke=\"#FFFFFF\" fill=\"#00BFFF\"/>\n",
        "          <circle cx=\"78.21\" cy=\"34.93\" r=\"0.9\" id=\"fig-65862f8192304b9abe8d29c24ef91791-element-317\" class=\"color_versicolor\" stroke=\"#FFFFFF\" fill=\"#D4CA3A\"/>\n",
        "          <circle cx=\"66.7\" cy=\"34.93\" r=\"0.9\" id=\"fig-65862f8192304b9abe8d29c24ef91791-element-318\" class=\"color_versicolor\" stroke=\"#FFFFFF\" fill=\"#D4CA3A\"/>\n",
        "          <circle cx=\"76.29\" cy=\"37.08\" r=\"0.9\" id=\"fig-65862f8192304b9abe8d29c24ef91791-element-319\" class=\"color_versicolor\" stroke=\"#FFFFFF\" fill=\"#D4CA3A\"/>\n",
        "          <circle cx=\"49.42\" cy=\"54.27\" r=\"0.9\" id=\"fig-65862f8192304b9abe8d29c24ef91791-element-320\" class=\"color_versicolor\" stroke=\"#FFFFFF\" fill=\"#D4CA3A\"/>\n",
        "          <circle cx=\"68.62\" cy=\"43.53\" r=\"0.9\" id=\"fig-65862f8192304b9abe8d29c24ef91791-element-321\" class=\"color_versicolor\" stroke=\"#FFFFFF\" fill=\"#D4CA3A\"/>\n",
        "          <circle cx=\"53.26\" cy=\"43.53\" r=\"0.9\" id=\"fig-65862f8192304b9abe8d29c24ef91791-element-322\" class=\"color_versicolor\" stroke=\"#FFFFFF\" fill=\"#D4CA3A\"/>\n",
        "          <circle cx=\"64.78\" cy=\"32.78\" r=\"0.9\" id=\"fig-65862f8192304b9abe8d29c24ef91791-element-323\" class=\"color_versicolor\" stroke=\"#FFFFFF\" fill=\"#D4CA3A\"/>\n",
        "          <circle cx=\"37.91\" cy=\"52.12\" r=\"0.9\" id=\"fig-65862f8192304b9abe8d29c24ef91791-element-324\" class=\"color_versicolor\" stroke=\"#FFFFFF\" fill=\"#D4CA3A\"/>\n",
        "          <circle cx=\"70.54\" cy=\"41.38\" r=\"0.9\" id=\"fig-65862f8192304b9abe8d29c24ef91791-element-325\" class=\"color_versicolor\" stroke=\"#FFFFFF\" fill=\"#D4CA3A\"/>\n",
        "          <circle cx=\"43.66\" cy=\"45.67\" r=\"0.9\" id=\"fig-65862f8192304b9abe8d29c24ef91791-element-326\" class=\"color_versicolor\" stroke=\"#FFFFFF\" fill=\"#D4CA3A\"/>\n",
        "          <circle cx=\"39.83\" cy=\"60.72\" r=\"0.9\" id=\"fig-65862f8192304b9abe8d29c24ef91791-element-327\" class=\"color_versicolor\" stroke=\"#FFFFFF\" fill=\"#D4CA3A\"/>\n",
        "          <circle cx=\"57.1\" cy=\"39.23\" r=\"0.9\" id=\"fig-65862f8192304b9abe8d29c24ef91791-element-328\" class=\"color_versicolor\" stroke=\"#FFFFFF\" fill=\"#D4CA3A\"/>\n",
        "          <circle cx=\"59.02\" cy=\"56.42\" r=\"0.9\" id=\"fig-65862f8192304b9abe8d29c24ef91791-element-329\" class=\"color_versicolor\" stroke=\"#FFFFFF\" fill=\"#D4CA3A\"/>\n",
        "          <circle cx=\"60.94\" cy=\"41.38\" r=\"0.9\" id=\"fig-65862f8192304b9abe8d29c24ef91791-element-330\" class=\"color_versicolor\" stroke=\"#FFFFFF\" fill=\"#D4CA3A\"/>\n",
        "          <circle cx=\"51.34\" cy=\"41.38\" r=\"0.9\" id=\"fig-65862f8192304b9abe8d29c24ef91791-element-331\" class=\"color_versicolor\" stroke=\"#FFFFFF\" fill=\"#D4CA3A\"/>\n",
        "          <circle cx=\"72.45\" cy=\"37.08\" r=\"0.9\" id=\"fig-65862f8192304b9abe8d29c24ef91791-element-332\" class=\"color_versicolor\" stroke=\"#FFFFFF\" fill=\"#D4CA3A\"/>\n",
        "          <circle cx=\"51.34\" cy=\"39.23\" r=\"0.9\" id=\"fig-65862f8192304b9abe8d29c24ef91791-element-333\" class=\"color_versicolor\" stroke=\"#FFFFFF\" fill=\"#D4CA3A\"/>\n",
        "          <circle cx=\"55.18\" cy=\"45.67\" r=\"0.9\" id=\"fig-65862f8192304b9abe8d29c24ef91791-element-334\" class=\"color_versicolor\" stroke=\"#FFFFFF\" fill=\"#D4CA3A\"/>\n",
        "          <circle cx=\"62.86\" cy=\"56.42\" r=\"0.9\" id=\"fig-65862f8192304b9abe8d29c24ef91791-element-335\" class=\"color_versicolor\" stroke=\"#FFFFFF\" fill=\"#D4CA3A\"/>\n",
        "          <circle cx=\"51.34\" cy=\"49.97\" r=\"0.9\" id=\"fig-65862f8192304b9abe8d29c24ef91791-element-336\" class=\"color_versicolor\" stroke=\"#FFFFFF\" fill=\"#D4CA3A\"/>\n",
        "          <circle cx=\"57.1\" cy=\"34.93\" r=\"0.9\" id=\"fig-65862f8192304b9abe8d29c24ef91791-element-337\" class=\"color_versicolor\" stroke=\"#FFFFFF\" fill=\"#D4CA3A\"/>\n",
        "          <circle cx=\"60.94\" cy=\"43.53\" r=\"0.9\" id=\"fig-65862f8192304b9abe8d29c24ef91791-element-338\" class=\"color_versicolor\" stroke=\"#FFFFFF\" fill=\"#D4CA3A\"/>\n",
        "          <circle cx=\"64.78\" cy=\"49.97\" r=\"0.9\" id=\"fig-65862f8192304b9abe8d29c24ef91791-element-339\" class=\"color_versicolor\" stroke=\"#FFFFFF\" fill=\"#D4CA3A\"/>\n",
        "          <circle cx=\"60.94\" cy=\"43.53\" r=\"0.9\" id=\"fig-65862f8192304b9abe8d29c24ef91791-element-340\" class=\"color_versicolor\" stroke=\"#FFFFFF\" fill=\"#D4CA3A\"/>\n",
        "          <circle cx=\"66.7\" cy=\"41.38\" r=\"0.9\" id=\"fig-65862f8192304b9abe8d29c24ef91791-element-341\" class=\"color_versicolor\" stroke=\"#FFFFFF\" fill=\"#D4CA3A\"/>\n",
        "          <circle cx=\"70.54\" cy=\"39.23\" r=\"0.9\" id=\"fig-65862f8192304b9abe8d29c24ef91791-element-342\" class=\"color_versicolor\" stroke=\"#FFFFFF\" fill=\"#D4CA3A\"/>\n",
        "          <circle cx=\"74.37\" cy=\"43.53\" r=\"0.9\" id=\"fig-65862f8192304b9abe8d29c24ef91791-element-343\" class=\"color_versicolor\" stroke=\"#FFFFFF\" fill=\"#D4CA3A\"/>\n",
        "          <circle cx=\"72.45\" cy=\"39.23\" r=\"0.9\" id=\"fig-65862f8192304b9abe8d29c24ef91791-element-344\" class=\"color_versicolor\" stroke=\"#FFFFFF\" fill=\"#D4CA3A\"/>\n",
        "          <circle cx=\"59.02\" cy=\"41.38\" r=\"0.9\" id=\"fig-65862f8192304b9abe8d29c24ef91791-element-345\" class=\"color_versicolor\" stroke=\"#FFFFFF\" fill=\"#D4CA3A\"/>\n",
        "          <circle cx=\"53.26\" cy=\"47.82\" r=\"0.9\" id=\"fig-65862f8192304b9abe8d29c24ef91791-element-346\" class=\"color_versicolor\" stroke=\"#FFFFFF\" fill=\"#D4CA3A\"/>\n",
        "          <circle cx=\"49.42\" cy=\"52.12\" r=\"0.9\" id=\"fig-65862f8192304b9abe8d29c24ef91791-element-347\" class=\"color_versicolor\" stroke=\"#FFFFFF\" fill=\"#D4CA3A\"/>\n",
        "          <circle cx=\"49.42\" cy=\"52.12\" r=\"0.9\" id=\"fig-65862f8192304b9abe8d29c24ef91791-element-348\" class=\"color_versicolor\" stroke=\"#FFFFFF\" fill=\"#D4CA3A\"/>\n",
        "          <circle cx=\"55.18\" cy=\"45.67\" r=\"0.9\" id=\"fig-65862f8192304b9abe8d29c24ef91791-element-349\" class=\"color_versicolor\" stroke=\"#FFFFFF\" fill=\"#D4CA3A\"/>\n",
        "          <circle cx=\"59.02\" cy=\"45.67\" r=\"0.9\" id=\"fig-65862f8192304b9abe8d29c24ef91791-element-350\" class=\"color_versicolor\" stroke=\"#FFFFFF\" fill=\"#D4CA3A\"/>\n",
        "          <circle cx=\"47.5\" cy=\"39.23\" r=\"0.9\" id=\"fig-65862f8192304b9abe8d29c24ef91791-element-351\" class=\"color_versicolor\" stroke=\"#FFFFFF\" fill=\"#D4CA3A\"/>\n",
        "          <circle cx=\"59.02\" cy=\"30.63\" r=\"0.9\" id=\"fig-65862f8192304b9abe8d29c24ef91791-element-352\" class=\"color_versicolor\" stroke=\"#FFFFFF\" fill=\"#D4CA3A\"/>\n",
        "          <circle cx=\"72.45\" cy=\"37.08\" r=\"0.9\" id=\"fig-65862f8192304b9abe8d29c24ef91791-element-353\" class=\"color_versicolor\" stroke=\"#FFFFFF\" fill=\"#D4CA3A\"/>\n",
        "          <circle cx=\"64.78\" cy=\"54.27\" r=\"0.9\" id=\"fig-65862f8192304b9abe8d29c24ef91791-element-354\" class=\"color_versicolor\" stroke=\"#FFFFFF\" fill=\"#D4CA3A\"/>\n",
        "          <circle cx=\"51.34\" cy=\"39.23\" r=\"0.9\" id=\"fig-65862f8192304b9abe8d29c24ef91791-element-355\" class=\"color_versicolor\" stroke=\"#FFFFFF\" fill=\"#D4CA3A\"/>\n",
        "          <circle cx=\"49.42\" cy=\"49.97\" r=\"0.9\" id=\"fig-65862f8192304b9abe8d29c24ef91791-element-356\" class=\"color_versicolor\" stroke=\"#FFFFFF\" fill=\"#D4CA3A\"/>\n",
        "          <circle cx=\"49.42\" cy=\"47.82\" r=\"0.9\" id=\"fig-65862f8192304b9abe8d29c24ef91791-element-357\" class=\"color_versicolor\" stroke=\"#FFFFFF\" fill=\"#D4CA3A\"/>\n",
        "          <circle cx=\"60.94\" cy=\"39.23\" r=\"0.9\" id=\"fig-65862f8192304b9abe8d29c24ef91791-element-358\" class=\"color_versicolor\" stroke=\"#FFFFFF\" fill=\"#D4CA3A\"/>\n",
        "          <circle cx=\"55.18\" cy=\"47.82\" r=\"0.9\" id=\"fig-65862f8192304b9abe8d29c24ef91791-element-359\" class=\"color_versicolor\" stroke=\"#FFFFFF\" fill=\"#D4CA3A\"/>\n",
        "          <circle cx=\"39.83\" cy=\"54.27\" r=\"0.9\" id=\"fig-65862f8192304b9abe8d29c24ef91791-element-360\" class=\"color_versicolor\" stroke=\"#FFFFFF\" fill=\"#D4CA3A\"/>\n",
        "          <circle cx=\"51.34\" cy=\"45.67\" r=\"0.9\" id=\"fig-65862f8192304b9abe8d29c24ef91791-element-361\" class=\"color_versicolor\" stroke=\"#FFFFFF\" fill=\"#D4CA3A\"/>\n",
        "          <circle cx=\"53.26\" cy=\"39.23\" r=\"0.9\" id=\"fig-65862f8192304b9abe8d29c24ef91791-element-362\" class=\"color_versicolor\" stroke=\"#FFFFFF\" fill=\"#D4CA3A\"/>\n",
        "          <circle cx=\"53.26\" cy=\"41.38\" r=\"0.9\" id=\"fig-65862f8192304b9abe8d29c24ef91791-element-363\" class=\"color_versicolor\" stroke=\"#FFFFFF\" fill=\"#D4CA3A\"/>\n",
        "          <circle cx=\"62.86\" cy=\"41.38\" r=\"0.9\" id=\"fig-65862f8192304b9abe8d29c24ef91791-element-364\" class=\"color_versicolor\" stroke=\"#FFFFFF\" fill=\"#D4CA3A\"/>\n",
        "          <circle cx=\"41.74\" cy=\"49.97\" r=\"0.9\" id=\"fig-65862f8192304b9abe8d29c24ef91791-element-365\" class=\"color_versicolor\" stroke=\"#FFFFFF\" fill=\"#D4CA3A\"/>\n",
        "          <circle cx=\"53.26\" cy=\"43.53\" r=\"0.9\" id=\"fig-65862f8192304b9abe8d29c24ef91791-element-366\" class=\"color_versicolor\" stroke=\"#FFFFFF\" fill=\"#D4CA3A\"/>\n",
        "          <circle cx=\"64.78\" cy=\"32.78\" r=\"0.9\" id=\"fig-65862f8192304b9abe8d29c24ef91791-element-367\" class=\"color_virginica\" stroke=\"#FFFFFF\" fill=\"#FF5EA0\"/>\n",
        "          <circle cx=\"55.18\" cy=\"45.67\" r=\"0.9\" id=\"fig-65862f8192304b9abe8d29c24ef91791-element-368\" class=\"color_virginica\" stroke=\"#FFFFFF\" fill=\"#FF5EA0\"/>\n",
        "          <circle cx=\"80.13\" cy=\"39.23\" r=\"0.9\" id=\"fig-65862f8192304b9abe8d29c24ef91791-element-369\" class=\"color_virginica\" stroke=\"#FFFFFF\" fill=\"#FF5EA0\"/>\n",
        "          <circle cx=\"64.78\" cy=\"41.38\" r=\"0.9\" id=\"fig-65862f8192304b9abe8d29c24ef91791-element-370\" class=\"color_virginica\" stroke=\"#FFFFFF\" fill=\"#FF5EA0\"/>\n",
        "          <circle cx=\"68.62\" cy=\"39.23\" r=\"0.9\" id=\"fig-65862f8192304b9abe8d29c24ef91791-element-371\" class=\"color_virginica\" stroke=\"#FFFFFF\" fill=\"#FF5EA0\"/>\n",
        "          <circle cx=\"89.73\" cy=\"39.23\" r=\"0.9\" id=\"fig-65862f8192304b9abe8d29c24ef91791-element-372\" class=\"color_virginica\" stroke=\"#FFFFFF\" fill=\"#FF5EA0\"/>\n",
        "          <circle cx=\"37.91\" cy=\"49.97\" r=\"0.9\" id=\"fig-65862f8192304b9abe8d29c24ef91791-element-373\" class=\"color_virginica\" stroke=\"#FFFFFF\" fill=\"#FF5EA0\"/>\n",
        "          <circle cx=\"83.97\" cy=\"41.38\" r=\"0.9\" id=\"fig-65862f8192304b9abe8d29c24ef91791-element-374\" class=\"color_virginica\" stroke=\"#FFFFFF\" fill=\"#FF5EA0\"/>\n",
        "          <circle cx=\"72.45\" cy=\"49.97\" r=\"0.9\" id=\"fig-65862f8192304b9abe8d29c24ef91791-element-375\" class=\"color_virginica\" stroke=\"#FFFFFF\" fill=\"#FF5EA0\"/>\n",
        "          <circle cx=\"82.05\" cy=\"26.34\" r=\"0.9\" id=\"fig-65862f8192304b9abe8d29c24ef91791-element-376\" class=\"color_virginica\" stroke=\"#FFFFFF\" fill=\"#FF5EA0\"/>\n",
        "          <circle cx=\"68.62\" cy=\"34.93\" r=\"0.9\" id=\"fig-65862f8192304b9abe8d29c24ef91791-element-377\" class=\"color_virginica\" stroke=\"#FFFFFF\" fill=\"#FF5EA0\"/>\n",
        "          <circle cx=\"66.7\" cy=\"45.67\" r=\"0.9\" id=\"fig-65862f8192304b9abe8d29c24ef91791-element-378\" class=\"color_virginica\" stroke=\"#FFFFFF\" fill=\"#FF5EA0\"/>\n",
        "          <circle cx=\"74.37\" cy=\"39.23\" r=\"0.9\" id=\"fig-65862f8192304b9abe8d29c24ef91791-element-379\" class=\"color_virginica\" stroke=\"#FFFFFF\" fill=\"#FF5EA0\"/>\n",
        "          <circle cx=\"53.26\" cy=\"49.97\" r=\"0.9\" id=\"fig-65862f8192304b9abe8d29c24ef91791-element-380\" class=\"color_virginica\" stroke=\"#FFFFFF\" fill=\"#FF5EA0\"/>\n",
        "          <circle cx=\"55.18\" cy=\"43.53\" r=\"0.9\" id=\"fig-65862f8192304b9abe8d29c24ef91791-element-381\" class=\"color_virginica\" stroke=\"#FFFFFF\" fill=\"#FF5EA0\"/>\n",
        "          <circle cx=\"66.7\" cy=\"34.93\" r=\"0.9\" id=\"fig-65862f8192304b9abe8d29c24ef91791-element-382\" class=\"color_virginica\" stroke=\"#FFFFFF\" fill=\"#FF5EA0\"/>\n",
        "          <circle cx=\"68.62\" cy=\"39.23\" r=\"0.9\" id=\"fig-65862f8192304b9abe8d29c24ef91791-element-383\" class=\"color_virginica\" stroke=\"#FFFFFF\" fill=\"#FF5EA0\"/>\n",
        "          <circle cx=\"91.65\" cy=\"22.04\" r=\"0.9\" id=\"fig-65862f8192304b9abe8d29c24ef91791-element-384\" class=\"color_virginica\" stroke=\"#FFFFFF\" fill=\"#FF5EA0\"/>\n",
        "          <circle cx=\"91.65\" cy=\"47.82\" r=\"0.9\" id=\"fig-65862f8192304b9abe8d29c24ef91791-element-385\" class=\"color_virginica\" stroke=\"#FFFFFF\" fill=\"#FF5EA0\"/>\n",
        "          <circle cx=\"59.02\" cy=\"56.42\" r=\"0.9\" id=\"fig-65862f8192304b9abe8d29c24ef91791-element-386\" class=\"color_virginica\" stroke=\"#FFFFFF\" fill=\"#FF5EA0\"/>\n",
        "          <circle cx=\"76.29\" cy=\"34.93\" r=\"0.9\" id=\"fig-65862f8192304b9abe8d29c24ef91791-element-387\" class=\"color_virginica\" stroke=\"#FFFFFF\" fill=\"#FF5EA0\"/>\n",
        "          <circle cx=\"51.34\" cy=\"43.53\" r=\"0.9\" id=\"fig-65862f8192304b9abe8d29c24ef91791-element-388\" class=\"color_virginica\" stroke=\"#FFFFFF\" fill=\"#FF5EA0\"/>\n",
        "          <circle cx=\"91.65\" cy=\"43.53\" r=\"0.9\" id=\"fig-65862f8192304b9abe8d29c24ef91791-element-389\" class=\"color_virginica\" stroke=\"#FFFFFF\" fill=\"#FF5EA0\"/>\n",
        "          <circle cx=\"64.78\" cy=\"45.67\" r=\"0.9\" id=\"fig-65862f8192304b9abe8d29c24ef91791-element-390\" class=\"color_virginica\" stroke=\"#FFFFFF\" fill=\"#FF5EA0\"/>\n",
        "          <circle cx=\"72.45\" cy=\"32.78\" r=\"0.9\" id=\"fig-65862f8192304b9abe8d29c24ef91791-element-391\" class=\"color_virginica\" stroke=\"#FFFFFF\" fill=\"#FF5EA0\"/>\n",
        "          <circle cx=\"82.05\" cy=\"34.93\" r=\"0.9\" id=\"fig-65862f8192304b9abe8d29c24ef91791-element-392\" class=\"color_virginica\" stroke=\"#FFFFFF\" fill=\"#FF5EA0\"/>\n",
        "          <circle cx=\"62.86\" cy=\"43.53\" r=\"0.9\" id=\"fig-65862f8192304b9abe8d29c24ef91791-element-393\" class=\"color_virginica\" stroke=\"#FFFFFF\" fill=\"#FF5EA0\"/>\n",
        "          <circle cx=\"60.94\" cy=\"39.23\" r=\"0.9\" id=\"fig-65862f8192304b9abe8d29c24ef91791-element-394\" class=\"color_virginica\" stroke=\"#FFFFFF\" fill=\"#FF5EA0\"/>\n",
        "          <circle cx=\"66.7\" cy=\"43.53\" r=\"0.9\" id=\"fig-65862f8192304b9abe8d29c24ef91791-element-395\" class=\"color_virginica\" stroke=\"#FFFFFF\" fill=\"#FF5EA0\"/>\n",
        "          <circle cx=\"82.05\" cy=\"39.23\" r=\"0.9\" id=\"fig-65862f8192304b9abe8d29c24ef91791-element-396\" class=\"color_virginica\" stroke=\"#FFFFFF\" fill=\"#FF5EA0\"/>\n",
        "          <circle cx=\"85.89\" cy=\"43.53\" r=\"0.9\" id=\"fig-65862f8192304b9abe8d29c24ef91791-element-397\" class=\"color_virginica\" stroke=\"#FFFFFF\" fill=\"#FF5EA0\"/>\n",
        "          <circle cx=\"95.49\" cy=\"22.04\" r=\"0.9\" id=\"fig-65862f8192304b9abe8d29c24ef91791-element-398\" class=\"color_virginica\" stroke=\"#FFFFFF\" fill=\"#FF5EA0\"/>\n",
        "          <circle cx=\"66.7\" cy=\"43.53\" r=\"0.9\" id=\"fig-65862f8192304b9abe8d29c24ef91791-element-399\" class=\"color_virginica\" stroke=\"#FFFFFF\" fill=\"#FF5EA0\"/>\n",
        "          <circle cx=\"64.78\" cy=\"43.53\" r=\"0.9\" id=\"fig-65862f8192304b9abe8d29c24ef91791-element-400\" class=\"color_virginica\" stroke=\"#FFFFFF\" fill=\"#FF5EA0\"/>\n",
        "          <circle cx=\"60.94\" cy=\"47.82\" r=\"0.9\" id=\"fig-65862f8192304b9abe8d29c24ef91791-element-401\" class=\"color_virginica\" stroke=\"#FFFFFF\" fill=\"#FF5EA0\"/>\n",
        "          <circle cx=\"91.65\" cy=\"39.23\" r=\"0.9\" id=\"fig-65862f8192304b9abe8d29c24ef91791-element-402\" class=\"color_virginica\" stroke=\"#FFFFFF\" fill=\"#FF5EA0\"/>\n",
        "          <circle cx=\"64.78\" cy=\"30.63\" r=\"0.9\" id=\"fig-65862f8192304b9abe8d29c24ef91791-element-403\" class=\"color_virginica\" stroke=\"#FFFFFF\" fill=\"#FF5EA0\"/>\n",
        "          <circle cx=\"66.7\" cy=\"37.08\" r=\"0.9\" id=\"fig-65862f8192304b9abe8d29c24ef91791-element-404\" class=\"color_virginica\" stroke=\"#FFFFFF\" fill=\"#FF5EA0\"/>\n",
        "          <circle cx=\"59.02\" cy=\"39.23\" r=\"0.9\" id=\"fig-65862f8192304b9abe8d29c24ef91791-element-405\" class=\"color_virginica\" stroke=\"#FFFFFF\" fill=\"#FF5EA0\"/>\n",
        "          <circle cx=\"76.29\" cy=\"37.08\" r=\"0.9\" id=\"fig-65862f8192304b9abe8d29c24ef91791-element-406\" class=\"color_virginica\" stroke=\"#FFFFFF\" fill=\"#FF5EA0\"/>\n",
        "          <circle cx=\"72.45\" cy=\"37.08\" r=\"0.9\" id=\"fig-65862f8192304b9abe8d29c24ef91791-element-407\" class=\"color_virginica\" stroke=\"#FFFFFF\" fill=\"#FF5EA0\"/>\n",
        "          <circle cx=\"76.29\" cy=\"37.08\" r=\"0.9\" id=\"fig-65862f8192304b9abe8d29c24ef91791-element-408\" class=\"color_virginica\" stroke=\"#FFFFFF\" fill=\"#FF5EA0\"/>\n",
        "          <circle cx=\"55.18\" cy=\"45.67\" r=\"0.9\" id=\"fig-65862f8192304b9abe8d29c24ef91791-element-409\" class=\"color_virginica\" stroke=\"#FFFFFF\" fill=\"#FF5EA0\"/>\n",
        "          <circle cx=\"74.37\" cy=\"34.93\" r=\"0.9\" id=\"fig-65862f8192304b9abe8d29c24ef91791-element-410\" class=\"color_virginica\" stroke=\"#FFFFFF\" fill=\"#FF5EA0\"/>\n",
        "          <circle cx=\"72.45\" cy=\"32.78\" r=\"0.9\" id=\"fig-65862f8192304b9abe8d29c24ef91791-element-411\" class=\"color_virginica\" stroke=\"#FFFFFF\" fill=\"#FF5EA0\"/>\n",
        "          <circle cx=\"72.45\" cy=\"39.23\" r=\"0.9\" id=\"fig-65862f8192304b9abe8d29c24ef91791-element-412\" class=\"color_virginica\" stroke=\"#FFFFFF\" fill=\"#FF5EA0\"/>\n",
        "          <circle cx=\"64.78\" cy=\"49.97\" r=\"0.9\" id=\"fig-65862f8192304b9abe8d29c24ef91791-element-413\" class=\"color_virginica\" stroke=\"#FFFFFF\" fill=\"#FF5EA0\"/>\n",
        "          <circle cx=\"68.62\" cy=\"39.23\" r=\"0.9\" id=\"fig-65862f8192304b9abe8d29c24ef91791-element-414\" class=\"color_virginica\" stroke=\"#FFFFFF\" fill=\"#FF5EA0\"/>\n",
        "          <circle cx=\"62.86\" cy=\"30.63\" r=\"0.9\" id=\"fig-65862f8192304b9abe8d29c24ef91791-element-415\" class=\"color_virginica\" stroke=\"#FFFFFF\" fill=\"#FF5EA0\"/>\n",
        "          <circle cx=\"57.1\" cy=\"39.23\" r=\"0.9\" id=\"fig-65862f8192304b9abe8d29c24ef91791-element-416\" class=\"color_virginica\" stroke=\"#FFFFFF\" fill=\"#FF5EA0\"/>\n",
        "        </g>\n",
        "      </g>\n",
        "    </g>\n",
        "    <g opacity=\"0\" class=\"guide zoomslider\" stroke=\"none\" id=\"fig-65862f8192304b9abe8d29c24ef91791-element-417\">\n",
        "      <g fill=\"#EAEAEA\" stroke-width=\"0.3\" stroke-opacity=\"0\" stroke=\"#6A6A6A\" id=\"fig-65862f8192304b9abe8d29c24ef91791-element-418\">\n",
        "        <rect x=\"92.41\" y=\"8\" width=\"4\" height=\"4\" id=\"fig-65862f8192304b9abe8d29c24ef91791-element-419\"/>\n",
        "        <g class=\"button_logo\" fill=\"#6A6A6A\" id=\"fig-65862f8192304b9abe8d29c24ef91791-element-420\">\n",
        "          <path d=\"M93.21,9.6 L 94.01 9.6 94.01 8.8 94.81 8.8 94.81 9.6 95.61 9.6 95.61 10.4 94.81 10.4 94.81 11.2 94.01 11.2 94.01 10.4 93.21 10.4 z\" id=\"fig-65862f8192304b9abe8d29c24ef91791-element-421\"/>\n",
        "        </g>\n",
        "      </g>\n",
        "      <g fill=\"#EAEAEA\" id=\"fig-65862f8192304b9abe8d29c24ef91791-element-422\">\n",
        "        <rect x=\"72.91\" y=\"8\" width=\"19\" height=\"4\" id=\"fig-65862f8192304b9abe8d29c24ef91791-element-423\"/>\n",
        "      </g>\n",
        "      <g class=\"zoomslider_thumb\" fill=\"#6A6A6A\" id=\"fig-65862f8192304b9abe8d29c24ef91791-element-424\">\n",
        "        <rect x=\"81.41\" y=\"8\" width=\"2\" height=\"4\" id=\"fig-65862f8192304b9abe8d29c24ef91791-element-425\"/>\n",
        "      </g>\n",
        "      <g fill=\"#EAEAEA\" stroke-width=\"0.3\" stroke-opacity=\"0\" stroke=\"#6A6A6A\" id=\"fig-65862f8192304b9abe8d29c24ef91791-element-426\">\n",
        "        <rect x=\"68.41\" y=\"8\" width=\"4\" height=\"4\" id=\"fig-65862f8192304b9abe8d29c24ef91791-element-427\"/>\n",
        "        <g class=\"button_logo\" fill=\"#6A6A6A\" id=\"fig-65862f8192304b9abe8d29c24ef91791-element-428\">\n",
        "          <path d=\"M69.21,9.6 L 71.61 9.6 71.61 10.4 69.21 10.4 z\" id=\"fig-65862f8192304b9abe8d29c24ef91791-element-429\"/>\n",
        "        </g>\n",
        "      </g>\n",
        "    </g>\n",
        "  </g>\n",
        "  <g class=\"guide ylabels\" font-size=\"2.82\" font-family=\"'PT Sans Caption','Helvetica Neue','Helvetica',sans-serif\" fill=\"#6C606B\" id=\"fig-65862f8192304b9abe8d29c24ef91791-element-430\">\n",
        "    <text x=\"17.63\" y=\"125.17\" text-anchor=\"end\" dy=\"0.35em\" id=\"fig-65862f8192304b9abe8d29c24ef91791-element-431\" gadfly:scale=\"1.0\" visibility=\"hidden\">-1.0</text>\n",
        "    <text x=\"17.63\" y=\"114.43\" text-anchor=\"end\" dy=\"0.35em\" id=\"fig-65862f8192304b9abe8d29c24ef91791-element-432\" gadfly:scale=\"1.0\" visibility=\"hidden\">-0.5</text>\n",
        "    <text x=\"17.63\" y=\"103.69\" text-anchor=\"end\" dy=\"0.35em\" id=\"fig-65862f8192304b9abe8d29c24ef91791-element-433\" gadfly:scale=\"1.0\" visibility=\"hidden\">0.0</text>\n",
        "    <text x=\"17.63\" y=\"92.94\" text-anchor=\"end\" dy=\"0.35em\" id=\"fig-65862f8192304b9abe8d29c24ef91791-element-434\" gadfly:scale=\"1.0\" visibility=\"hidden\">0.5</text>\n",
        "    <text x=\"17.63\" y=\"82.2\" text-anchor=\"end\" dy=\"0.35em\" id=\"fig-65862f8192304b9abe8d29c24ef91791-element-435\" gadfly:scale=\"1.0\" visibility=\"hidden\">1.0</text>\n",
        "    <text x=\"17.63\" y=\"71.46\" text-anchor=\"end\" dy=\"0.35em\" id=\"fig-65862f8192304b9abe8d29c24ef91791-element-436\" gadfly:scale=\"1.0\" visibility=\"hidden\">1.5</text>\n",
        "    <text x=\"17.63\" y=\"60.72\" text-anchor=\"end\" dy=\"0.35em\" id=\"fig-65862f8192304b9abe8d29c24ef91791-element-437\" gadfly:scale=\"1.0\" visibility=\"visible\">2.0</text>\n",
        "    <text x=\"17.63\" y=\"49.97\" text-anchor=\"end\" dy=\"0.35em\" id=\"fig-65862f8192304b9abe8d29c24ef91791-element-438\" gadfly:scale=\"1.0\" visibility=\"visible\">2.5</text>\n",
        "    <text x=\"17.63\" y=\"39.23\" text-anchor=\"end\" dy=\"0.35em\" id=\"fig-65862f8192304b9abe8d29c24ef91791-element-439\" gadfly:scale=\"1.0\" visibility=\"visible\">3.0</text>\n",
        "    <text x=\"17.63\" y=\"28.49\" text-anchor=\"end\" dy=\"0.35em\" id=\"fig-65862f8192304b9abe8d29c24ef91791-element-440\" gadfly:scale=\"1.0\" visibility=\"visible\">3.5</text>\n",
        "    <text x=\"17.63\" y=\"17.74\" text-anchor=\"end\" dy=\"0.35em\" id=\"fig-65862f8192304b9abe8d29c24ef91791-element-441\" gadfly:scale=\"1.0\" visibility=\"visible\">4.0</text>\n",
        "    <text x=\"17.63\" y=\"7\" text-anchor=\"end\" dy=\"0.35em\" id=\"fig-65862f8192304b9abe8d29c24ef91791-element-442\" gadfly:scale=\"1.0\" visibility=\"visible\">4.5</text>\n",
        "    <text x=\"17.63\" y=\"-3.74\" text-anchor=\"end\" dy=\"0.35em\" id=\"fig-65862f8192304b9abe8d29c24ef91791-element-443\" gadfly:scale=\"1.0\" visibility=\"hidden\">5.0</text>\n",
        "    <text x=\"17.63\" y=\"-14.49\" text-anchor=\"end\" dy=\"0.35em\" id=\"fig-65862f8192304b9abe8d29c24ef91791-element-444\" gadfly:scale=\"1.0\" visibility=\"hidden\">5.5</text>\n",
        "    <text x=\"17.63\" y=\"-25.23\" text-anchor=\"end\" dy=\"0.35em\" id=\"fig-65862f8192304b9abe8d29c24ef91791-element-445\" gadfly:scale=\"1.0\" visibility=\"hidden\">6.0</text>\n",
        "    <text x=\"17.63\" y=\"-35.97\" text-anchor=\"end\" dy=\"0.35em\" id=\"fig-65862f8192304b9abe8d29c24ef91791-element-446\" gadfly:scale=\"1.0\" visibility=\"hidden\">6.5</text>\n",
        "    <text x=\"17.63\" y=\"-46.71\" text-anchor=\"end\" dy=\"0.35em\" id=\"fig-65862f8192304b9abe8d29c24ef91791-element-447\" gadfly:scale=\"1.0\" visibility=\"hidden\">7.0</text>\n",
        "    <text x=\"17.63\" y=\"-57.46\" text-anchor=\"end\" dy=\"0.35em\" id=\"fig-65862f8192304b9abe8d29c24ef91791-element-448\" gadfly:scale=\"1.0\" visibility=\"hidden\">7.5</text>\n",
        "    <text x=\"17.63\" y=\"114.43\" text-anchor=\"end\" dy=\"0.35em\" id=\"fig-65862f8192304b9abe8d29c24ef91791-element-449\" gadfly:scale=\"10.0\" visibility=\"hidden\">-0.5</text>\n",
        "    <text x=\"17.63\" y=\"112.28\" text-anchor=\"end\" dy=\"0.35em\" id=\"fig-65862f8192304b9abe8d29c24ef91791-element-450\" gadfly:scale=\"10.0\" visibility=\"hidden\">-0.4</text>\n",
        "    <text x=\"17.63\" y=\"110.13\" text-anchor=\"end\" dy=\"0.35em\" id=\"fig-65862f8192304b9abe8d29c24ef91791-element-451\" gadfly:scale=\"10.0\" visibility=\"hidden\">-0.3</text>\n",
        "    <text x=\"17.63\" y=\"107.98\" text-anchor=\"end\" dy=\"0.35em\" id=\"fig-65862f8192304b9abe8d29c24ef91791-element-452\" gadfly:scale=\"10.0\" visibility=\"hidden\">-0.2</text>\n",
        "    <text x=\"17.63\" y=\"105.84\" text-anchor=\"end\" dy=\"0.35em\" id=\"fig-65862f8192304b9abe8d29c24ef91791-element-453\" gadfly:scale=\"10.0\" visibility=\"hidden\">-0.1</text>\n",
        "    <text x=\"17.63\" y=\"103.69\" text-anchor=\"end\" dy=\"0.35em\" id=\"fig-65862f8192304b9abe8d29c24ef91791-element-454\" gadfly:scale=\"10.0\" visibility=\"hidden\">0.0</text>\n",
        "    <text x=\"17.63\" y=\"101.54\" text-anchor=\"end\" dy=\"0.35em\" id=\"fig-65862f8192304b9abe8d29c24ef91791-element-455\" gadfly:scale=\"10.0\" visibility=\"hidden\">0.1</text>\n",
        "    <text x=\"17.63\" y=\"99.39\" text-anchor=\"end\" dy=\"0.35em\" id=\"fig-65862f8192304b9abe8d29c24ef91791-element-456\" gadfly:scale=\"10.0\" visibility=\"hidden\">0.2</text>\n",
        "    <text x=\"17.63\" y=\"97.24\" text-anchor=\"end\" dy=\"0.35em\" id=\"fig-65862f8192304b9abe8d29c24ef91791-element-457\" gadfly:scale=\"10.0\" visibility=\"hidden\">0.3</text>\n",
        "    <text x=\"17.63\" y=\"95.09\" text-anchor=\"end\" dy=\"0.35em\" id=\"fig-65862f8192304b9abe8d29c24ef91791-element-458\" gadfly:scale=\"10.0\" visibility=\"hidden\">0.4</text>\n",
        "    <text x=\"17.63\" y=\"92.94\" text-anchor=\"end\" dy=\"0.35em\" id=\"fig-65862f8192304b9abe8d29c24ef91791-element-459\" gadfly:scale=\"10.0\" visibility=\"hidden\">0.5</text>\n",
        "    <text x=\"17.63\" y=\"90.8\" text-anchor=\"end\" dy=\"0.35em\" id=\"fig-65862f8192304b9abe8d29c24ef91791-element-460\" gadfly:scale=\"10.0\" visibility=\"hidden\">0.6</text>\n",
        "    <text x=\"17.63\" y=\"88.65\" text-anchor=\"end\" dy=\"0.35em\" id=\"fig-65862f8192304b9abe8d29c24ef91791-element-461\" gadfly:scale=\"10.0\" visibility=\"hidden\">0.7</text>\n",
        "    <text x=\"17.63\" y=\"86.5\" text-anchor=\"end\" dy=\"0.35em\" id=\"fig-65862f8192304b9abe8d29c24ef91791-element-462\" gadfly:scale=\"10.0\" visibility=\"hidden\">0.8</text>\n",
        "    <text x=\"17.63\" y=\"84.35\" text-anchor=\"end\" dy=\"0.35em\" id=\"fig-65862f8192304b9abe8d29c24ef91791-element-463\" gadfly:scale=\"10.0\" visibility=\"hidden\">0.9</text>\n",
        "    <text x=\"17.63\" y=\"82.2\" text-anchor=\"end\" dy=\"0.35em\" id=\"fig-65862f8192304b9abe8d29c24ef91791-element-464\" gadfly:scale=\"10.0\" visibility=\"hidden\">1.0</text>\n",
        "    <text x=\"17.63\" y=\"80.05\" text-anchor=\"end\" dy=\"0.35em\" id=\"fig-65862f8192304b9abe8d29c24ef91791-element-465\" gadfly:scale=\"10.0\" visibility=\"hidden\">1.1</text>\n",
        "    <text x=\"17.63\" y=\"77.9\" text-anchor=\"end\" dy=\"0.35em\" id=\"fig-65862f8192304b9abe8d29c24ef91791-element-466\" gadfly:scale=\"10.0\" visibility=\"hidden\">1.2</text>\n",
        "    <text x=\"17.63\" y=\"75.76\" text-anchor=\"end\" dy=\"0.35em\" id=\"fig-65862f8192304b9abe8d29c24ef91791-element-467\" gadfly:scale=\"10.0\" visibility=\"hidden\">1.3</text>\n",
        "    <text x=\"17.63\" y=\"73.61\" text-anchor=\"end\" dy=\"0.35em\" id=\"fig-65862f8192304b9abe8d29c24ef91791-element-468\" gadfly:scale=\"10.0\" visibility=\"hidden\">1.4</text>\n",
        "    <text x=\"17.63\" y=\"71.46\" text-anchor=\"end\" dy=\"0.35em\" id=\"fig-65862f8192304b9abe8d29c24ef91791-element-469\" gadfly:scale=\"10.0\" visibility=\"hidden\">1.5</text>\n",
        "    <text x=\"17.63\" y=\"69.31\" text-anchor=\"end\" dy=\"0.35em\" id=\"fig-65862f8192304b9abe8d29c24ef91791-element-470\" gadfly:scale=\"10.0\" visibility=\"hidden\">1.6</text>\n",
        "    <text x=\"17.63\" y=\"67.16\" text-anchor=\"end\" dy=\"0.35em\" id=\"fig-65862f8192304b9abe8d29c24ef91791-element-471\" gadfly:scale=\"10.0\" visibility=\"hidden\">1.7</text>\n",
        "    <text x=\"17.63\" y=\"65.01\" text-anchor=\"end\" dy=\"0.35em\" id=\"fig-65862f8192304b9abe8d29c24ef91791-element-472\" gadfly:scale=\"10.0\" visibility=\"hidden\">1.8</text>\n",
        "    <text x=\"17.63\" y=\"62.86\" text-anchor=\"end\" dy=\"0.35em\" id=\"fig-65862f8192304b9abe8d29c24ef91791-element-473\" gadfly:scale=\"10.0\" visibility=\"hidden\">1.9</text>\n",
        "    <text x=\"17.63\" y=\"60.72\" text-anchor=\"end\" dy=\"0.35em\" id=\"fig-65862f8192304b9abe8d29c24ef91791-element-474\" gadfly:scale=\"10.0\" visibility=\"hidden\">2.0</text>\n",
        "    <text x=\"17.63\" y=\"58.57\" text-anchor=\"end\" dy=\"0.35em\" id=\"fig-65862f8192304b9abe8d29c24ef91791-element-475\" gadfly:scale=\"10.0\" visibility=\"hidden\">2.1</text>\n",
        "    <text x=\"17.63\" y=\"56.42\" text-anchor=\"end\" dy=\"0.35em\" id=\"fig-65862f8192304b9abe8d29c24ef91791-element-476\" gadfly:scale=\"10.0\" visibility=\"hidden\">2.2</text>\n",
        "    <text x=\"17.63\" y=\"54.27\" text-anchor=\"end\" dy=\"0.35em\" id=\"fig-65862f8192304b9abe8d29c24ef91791-element-477\" gadfly:scale=\"10.0\" visibility=\"hidden\">2.3</text>\n",
        "    <text x=\"17.63\" y=\"52.12\" text-anchor=\"end\" dy=\"0.35em\" id=\"fig-65862f8192304b9abe8d29c24ef91791-element-478\" gadfly:scale=\"10.0\" visibility=\"hidden\">2.4</text>\n",
        "    <text x=\"17.63\" y=\"49.97\" text-anchor=\"end\" dy=\"0.35em\" id=\"fig-65862f8192304b9abe8d29c24ef91791-element-479\" gadfly:scale=\"10.0\" visibility=\"hidden\">2.5</text>\n",
        "    <text x=\"17.63\" y=\"47.82\" text-anchor=\"end\" dy=\"0.35em\" id=\"fig-65862f8192304b9abe8d29c24ef91791-element-480\" gadfly:scale=\"10.0\" visibility=\"hidden\">2.6</text>\n",
        "    <text x=\"17.63\" y=\"45.67\" text-anchor=\"end\" dy=\"0.35em\" id=\"fig-65862f8192304b9abe8d29c24ef91791-element-481\" gadfly:scale=\"10.0\" visibility=\"hidden\">2.7</text>\n",
        "    <text x=\"17.63\" y=\"43.53\" text-anchor=\"end\" dy=\"0.35em\" id=\"fig-65862f8192304b9abe8d29c24ef91791-element-482\" gadfly:scale=\"10.0\" visibility=\"hidden\">2.8</text>\n",
        "    <text x=\"17.63\" y=\"41.38\" text-anchor=\"end\" dy=\"0.35em\" id=\"fig-65862f8192304b9abe8d29c24ef91791-element-483\" gadfly:scale=\"10.0\" visibility=\"hidden\">2.9</text>\n",
        "    <text x=\"17.63\" y=\"39.23\" text-anchor=\"end\" dy=\"0.35em\" id=\"fig-65862f8192304b9abe8d29c24ef91791-element-484\" gadfly:scale=\"10.0\" visibility=\"hidden\">3.0</text>\n",
        "    <text x=\"17.63\" y=\"37.08\" text-anchor=\"end\" dy=\"0.35em\" id=\"fig-65862f8192304b9abe8d29c24ef91791-element-485\" gadfly:scale=\"10.0\" visibility=\"hidden\">3.1</text>\n",
        "    <text x=\"17.63\" y=\"34.93\" text-anchor=\"end\" dy=\"0.35em\" id=\"fig-65862f8192304b9abe8d29c24ef91791-element-486\" gadfly:scale=\"10.0\" visibility=\"hidden\">3.2</text>\n",
        "    <text x=\"17.63\" y=\"32.78\" text-anchor=\"end\" dy=\"0.35em\" id=\"fig-65862f8192304b9abe8d29c24ef91791-element-487\" gadfly:scale=\"10.0\" visibility=\"hidden\">3.3</text>\n",
        "    <text x=\"17.63\" y=\"30.63\" text-anchor=\"end\" dy=\"0.35em\" id=\"fig-65862f8192304b9abe8d29c24ef91791-element-488\" gadfly:scale=\"10.0\" visibility=\"hidden\">3.4</text>\n",
        "    <text x=\"17.63\" y=\"28.49\" text-anchor=\"end\" dy=\"0.35em\" id=\"fig-65862f8192304b9abe8d29c24ef91791-element-489\" gadfly:scale=\"10.0\" visibility=\"hidden\">3.5</text>\n",
        "    <text x=\"17.63\" y=\"26.34\" text-anchor=\"end\" dy=\"0.35em\" id=\"fig-65862f8192304b9abe8d29c24ef91791-element-490\" gadfly:scale=\"10.0\" visibility=\"hidden\">3.6</text>\n",
        "    <text x=\"17.63\" y=\"24.19\" text-anchor=\"end\" dy=\"0.35em\" id=\"fig-65862f8192304b9abe8d29c24ef91791-element-491\" gadfly:scale=\"10.0\" visibility=\"hidden\">3.7</text>\n",
        "    <text x=\"17.63\" y=\"22.04\" text-anchor=\"end\" dy=\"0.35em\" id=\"fig-65862f8192304b9abe8d29c24ef91791-element-492\" gadfly:scale=\"10.0\" visibility=\"hidden\">3.8</text>\n",
        "    <text x=\"17.63\" y=\"19.89\" text-anchor=\"end\" dy=\"0.35em\" id=\"fig-65862f8192304b9abe8d29c24ef91791-element-493\" gadfly:scale=\"10.0\" visibility=\"hidden\">3.9</text>\n",
        "    <text x=\"17.63\" y=\"17.74\" text-anchor=\"end\" dy=\"0.35em\" id=\"fig-65862f8192304b9abe8d29c24ef91791-element-494\" gadfly:scale=\"10.0\" visibility=\"hidden\">4.0</text>\n",
        "    <text x=\"17.63\" y=\"15.59\" text-anchor=\"end\" dy=\"0.35em\" id=\"fig-65862f8192304b9abe8d29c24ef91791-element-495\" gadfly:scale=\"10.0\" visibility=\"hidden\">4.1</text>\n",
        "    <text x=\"17.63\" y=\"13.45\" text-anchor=\"end\" dy=\"0.35em\" id=\"fig-65862f8192304b9abe8d29c24ef91791-element-496\" gadfly:scale=\"10.0\" visibility=\"hidden\">4.2</text>\n",
        "    <text x=\"17.63\" y=\"11.3\" text-anchor=\"end\" dy=\"0.35em\" id=\"fig-65862f8192304b9abe8d29c24ef91791-element-497\" gadfly:scale=\"10.0\" visibility=\"hidden\">4.3</text>\n",
        "    <text x=\"17.63\" y=\"9.15\" text-anchor=\"end\" dy=\"0.35em\" id=\"fig-65862f8192304b9abe8d29c24ef91791-element-498\" gadfly:scale=\"10.0\" visibility=\"hidden\">4.4</text>\n",
        "    <text x=\"17.63\" y=\"7\" text-anchor=\"end\" dy=\"0.35em\" id=\"fig-65862f8192304b9abe8d29c24ef91791-element-499\" gadfly:scale=\"10.0\" visibility=\"hidden\">4.5</text>\n",
        "    <text x=\"17.63\" y=\"4.85\" text-anchor=\"end\" dy=\"0.35em\" id=\"fig-65862f8192304b9abe8d29c24ef91791-element-500\" gadfly:scale=\"10.0\" visibility=\"hidden\">4.6</text>\n",
        "    <text x=\"17.63\" y=\"2.7\" text-anchor=\"end\" dy=\"0.35em\" id=\"fig-65862f8192304b9abe8d29c24ef91791-element-501\" gadfly:scale=\"10.0\" visibility=\"hidden\">4.7</text>\n",
        "    <text x=\"17.63\" y=\"0.55\" text-anchor=\"end\" dy=\"0.35em\" id=\"fig-65862f8192304b9abe8d29c24ef91791-element-502\" gadfly:scale=\"10.0\" visibility=\"hidden\">4.8</text>\n",
        "    <text x=\"17.63\" y=\"-1.59\" text-anchor=\"end\" dy=\"0.35em\" id=\"fig-65862f8192304b9abe8d29c24ef91791-element-503\" gadfly:scale=\"10.0\" visibility=\"hidden\">4.9</text>\n",
        "    <text x=\"17.63\" y=\"-3.74\" text-anchor=\"end\" dy=\"0.35em\" id=\"fig-65862f8192304b9abe8d29c24ef91791-element-504\" gadfly:scale=\"10.0\" visibility=\"hidden\">5.0</text>\n",
        "    <text x=\"17.63\" y=\"-5.89\" text-anchor=\"end\" dy=\"0.35em\" id=\"fig-65862f8192304b9abe8d29c24ef91791-element-505\" gadfly:scale=\"10.0\" visibility=\"hidden\">5.1</text>\n",
        "    <text x=\"17.63\" y=\"-8.04\" text-anchor=\"end\" dy=\"0.35em\" id=\"fig-65862f8192304b9abe8d29c24ef91791-element-506\" gadfly:scale=\"10.0\" visibility=\"hidden\">5.2</text>\n",
        "    <text x=\"17.63\" y=\"-10.19\" text-anchor=\"end\" dy=\"0.35em\" id=\"fig-65862f8192304b9abe8d29c24ef91791-element-507\" gadfly:scale=\"10.0\" visibility=\"hidden\">5.3</text>\n",
        "    <text x=\"17.63\" y=\"-12.34\" text-anchor=\"end\" dy=\"0.35em\" id=\"fig-65862f8192304b9abe8d29c24ef91791-element-508\" gadfly:scale=\"10.0\" visibility=\"hidden\">5.4</text>\n",
        "    <text x=\"17.63\" y=\"-14.49\" text-anchor=\"end\" dy=\"0.35em\" id=\"fig-65862f8192304b9abe8d29c24ef91791-element-509\" gadfly:scale=\"10.0\" visibility=\"hidden\">5.5</text>\n",
        "    <text x=\"17.63\" y=\"-16.63\" text-anchor=\"end\" dy=\"0.35em\" id=\"fig-65862f8192304b9abe8d29c24ef91791-element-510\" gadfly:scale=\"10.0\" visibility=\"hidden\">5.6</text>\n",
        "    <text x=\"17.63\" y=\"-18.78\" text-anchor=\"end\" dy=\"0.35em\" id=\"fig-65862f8192304b9abe8d29c24ef91791-element-511\" gadfly:scale=\"10.0\" visibility=\"hidden\">5.7</text>\n",
        "    <text x=\"17.63\" y=\"-20.93\" text-anchor=\"end\" dy=\"0.35em\" id=\"fig-65862f8192304b9abe8d29c24ef91791-element-512\" gadfly:scale=\"10.0\" visibility=\"hidden\">5.8</text>\n",
        "    <text x=\"17.63\" y=\"-23.08\" text-anchor=\"end\" dy=\"0.35em\" id=\"fig-65862f8192304b9abe8d29c24ef91791-element-513\" gadfly:scale=\"10.0\" visibility=\"hidden\">5.9</text>\n",
        "    <text x=\"17.63\" y=\"-25.23\" text-anchor=\"end\" dy=\"0.35em\" id=\"fig-65862f8192304b9abe8d29c24ef91791-element-514\" gadfly:scale=\"10.0\" visibility=\"hidden\">6.0</text>\n",
        "    <text x=\"17.63\" y=\"-27.38\" text-anchor=\"end\" dy=\"0.35em\" id=\"fig-65862f8192304b9abe8d29c24ef91791-element-515\" gadfly:scale=\"10.0\" visibility=\"hidden\">6.1</text>\n",
        "    <text x=\"17.63\" y=\"-29.53\" text-anchor=\"end\" dy=\"0.35em\" id=\"fig-65862f8192304b9abe8d29c24ef91791-element-516\" gadfly:scale=\"10.0\" visibility=\"hidden\">6.2</text>\n",
        "    <text x=\"17.63\" y=\"-31.67\" text-anchor=\"end\" dy=\"0.35em\" id=\"fig-65862f8192304b9abe8d29c24ef91791-element-517\" gadfly:scale=\"10.0\" visibility=\"hidden\">6.3</text>\n",
        "    <text x=\"17.63\" y=\"-33.82\" text-anchor=\"end\" dy=\"0.35em\" id=\"fig-65862f8192304b9abe8d29c24ef91791-element-518\" gadfly:scale=\"10.0\" visibility=\"hidden\">6.4</text>\n",
        "    <text x=\"17.63\" y=\"-35.97\" text-anchor=\"end\" dy=\"0.35em\" id=\"fig-65862f8192304b9abe8d29c24ef91791-element-519\" gadfly:scale=\"10.0\" visibility=\"hidden\">6.5</text>\n",
        "    <text x=\"17.63\" y=\"-38.12\" text-anchor=\"end\" dy=\"0.35em\" id=\"fig-65862f8192304b9abe8d29c24ef91791-element-520\" gadfly:scale=\"10.0\" visibility=\"hidden\">6.6</text>\n",
        "    <text x=\"17.63\" y=\"-40.27\" text-anchor=\"end\" dy=\"0.35em\" id=\"fig-65862f8192304b9abe8d29c24ef91791-element-521\" gadfly:scale=\"10.0\" visibility=\"hidden\">6.7</text>\n",
        "    <text x=\"17.63\" y=\"-42.42\" text-anchor=\"end\" dy=\"0.35em\" id=\"fig-65862f8192304b9abe8d29c24ef91791-element-522\" gadfly:scale=\"10.0\" visibility=\"hidden\">6.8</text>\n",
        "    <text x=\"17.63\" y=\"-44.57\" text-anchor=\"end\" dy=\"0.35em\" id=\"fig-65862f8192304b9abe8d29c24ef91791-element-523\" gadfly:scale=\"10.0\" visibility=\"hidden\">6.9</text>\n",
        "    <text x=\"17.63\" y=\"-46.71\" text-anchor=\"end\" dy=\"0.35em\" id=\"fig-65862f8192304b9abe8d29c24ef91791-element-524\" gadfly:scale=\"10.0\" visibility=\"hidden\">7.0</text>\n",
        "    <text x=\"17.63\" y=\"157.4\" text-anchor=\"end\" dy=\"0.35em\" id=\"fig-65862f8192304b9abe8d29c24ef91791-element-525\" gadfly:scale=\"0.5\" visibility=\"hidden\">-2.5</text>\n",
        "    <text x=\"17.63\" y=\"103.69\" text-anchor=\"end\" dy=\"0.35em\" id=\"fig-65862f8192304b9abe8d29c24ef91791-element-526\" gadfly:scale=\"0.5\" visibility=\"hidden\">0.0</text>\n",
        "    <text x=\"17.63\" y=\"49.97\" text-anchor=\"end\" dy=\"0.35em\" id=\"fig-65862f8192304b9abe8d29c24ef91791-element-527\" gadfly:scale=\"0.5\" visibility=\"hidden\">2.5</text>\n",
        "    <text x=\"17.63\" y=\"-3.74\" text-anchor=\"end\" dy=\"0.35em\" id=\"fig-65862f8192304b9abe8d29c24ef91791-element-528\" gadfly:scale=\"0.5\" visibility=\"hidden\">5.0</text>\n",
        "    <text x=\"17.63\" y=\"-57.46\" text-anchor=\"end\" dy=\"0.35em\" id=\"fig-65862f8192304b9abe8d29c24ef91791-element-529\" gadfly:scale=\"0.5\" visibility=\"hidden\">7.5</text>\n",
        "    <text x=\"17.63\" y=\"116.58\" text-anchor=\"end\" dy=\"0.35em\" id=\"fig-65862f8192304b9abe8d29c24ef91791-element-530\" gadfly:scale=\"5.0\" visibility=\"hidden\">-0.6</text>\n",
        "    <text x=\"17.63\" y=\"112.28\" text-anchor=\"end\" dy=\"0.35em\" id=\"fig-65862f8192304b9abe8d29c24ef91791-element-531\" gadfly:scale=\"5.0\" visibility=\"hidden\">-0.4</text>\n",
        "    <text x=\"17.63\" y=\"107.98\" text-anchor=\"end\" dy=\"0.35em\" id=\"fig-65862f8192304b9abe8d29c24ef91791-element-532\" gadfly:scale=\"5.0\" visibility=\"hidden\">-0.2</text>\n",
        "    <text x=\"17.63\" y=\"103.69\" text-anchor=\"end\" dy=\"0.35em\" id=\"fig-65862f8192304b9abe8d29c24ef91791-element-533\" gadfly:scale=\"5.0\" visibility=\"hidden\">0.0</text>\n",
        "    <text x=\"17.63\" y=\"99.39\" text-anchor=\"end\" dy=\"0.35em\" id=\"fig-65862f8192304b9abe8d29c24ef91791-element-534\" gadfly:scale=\"5.0\" visibility=\"hidden\">0.2</text>\n",
        "    <text x=\"17.63\" y=\"95.09\" text-anchor=\"end\" dy=\"0.35em\" id=\"fig-65862f8192304b9abe8d29c24ef91791-element-535\" gadfly:scale=\"5.0\" visibility=\"hidden\">0.4</text>\n",
        "    <text x=\"17.63\" y=\"90.8\" text-anchor=\"end\" dy=\"0.35em\" id=\"fig-65862f8192304b9abe8d29c24ef91791-element-536\" gadfly:scale=\"5.0\" visibility=\"hidden\">0.6</text>\n",
        "    <text x=\"17.63\" y=\"86.5\" text-anchor=\"end\" dy=\"0.35em\" id=\"fig-65862f8192304b9abe8d29c24ef91791-element-537\" gadfly:scale=\"5.0\" visibility=\"hidden\">0.8</text>\n",
        "    <text x=\"17.63\" y=\"82.2\" text-anchor=\"end\" dy=\"0.35em\" id=\"fig-65862f8192304b9abe8d29c24ef91791-element-538\" gadfly:scale=\"5.0\" visibility=\"hidden\">1.0</text>\n",
        "    <text x=\"17.63\" y=\"77.9\" text-anchor=\"end\" dy=\"0.35em\" id=\"fig-65862f8192304b9abe8d29c24ef91791-element-539\" gadfly:scale=\"5.0\" visibility=\"hidden\">1.2</text>\n",
        "    <text x=\"17.63\" y=\"73.61\" text-anchor=\"end\" dy=\"0.35em\" id=\"fig-65862f8192304b9abe8d29c24ef91791-element-540\" gadfly:scale=\"5.0\" visibility=\"hidden\">1.4</text>\n",
        "    <text x=\"17.63\" y=\"69.31\" text-anchor=\"end\" dy=\"0.35em\" id=\"fig-65862f8192304b9abe8d29c24ef91791-element-541\" gadfly:scale=\"5.0\" visibility=\"hidden\">1.6</text>\n",
        "    <text x=\"17.63\" y=\"65.01\" text-anchor=\"end\" dy=\"0.35em\" id=\"fig-65862f8192304b9abe8d29c24ef91791-element-542\" gadfly:scale=\"5.0\" visibility=\"hidden\">1.8</text>\n",
        "    <text x=\"17.63\" y=\"60.72\" text-anchor=\"end\" dy=\"0.35em\" id=\"fig-65862f8192304b9abe8d29c24ef91791-element-543\" gadfly:scale=\"5.0\" visibility=\"hidden\">2.0</text>\n",
        "    <text x=\"17.63\" y=\"56.42\" text-anchor=\"end\" dy=\"0.35em\" id=\"fig-65862f8192304b9abe8d29c24ef91791-element-544\" gadfly:scale=\"5.0\" visibility=\"hidden\">2.2</text>\n",
        "    <text x=\"17.63\" y=\"52.12\" text-anchor=\"end\" dy=\"0.35em\" id=\"fig-65862f8192304b9abe8d29c24ef91791-element-545\" gadfly:scale=\"5.0\" visibility=\"hidden\">2.4</text>\n",
        "    <text x=\"17.63\" y=\"47.82\" text-anchor=\"end\" dy=\"0.35em\" id=\"fig-65862f8192304b9abe8d29c24ef91791-element-546\" gadfly:scale=\"5.0\" visibility=\"hidden\">2.6</text>\n",
        "    <text x=\"17.63\" y=\"43.53\" text-anchor=\"end\" dy=\"0.35em\" id=\"fig-65862f8192304b9abe8d29c24ef91791-element-547\" gadfly:scale=\"5.0\" visibility=\"hidden\">2.8</text>\n",
        "    <text x=\"17.63\" y=\"39.23\" text-anchor=\"end\" dy=\"0.35em\" id=\"fig-65862f8192304b9abe8d29c24ef91791-element-548\" gadfly:scale=\"5.0\" visibility=\"hidden\">3.0</text>\n",
        "    <text x=\"17.63\" y=\"34.93\" text-anchor=\"end\" dy=\"0.35em\" id=\"fig-65862f8192304b9abe8d29c24ef91791-element-549\" gadfly:scale=\"5.0\" visibility=\"hidden\">3.2</text>\n",
        "    <text x=\"17.63\" y=\"30.63\" text-anchor=\"end\" dy=\"0.35em\" id=\"fig-65862f8192304b9abe8d29c24ef91791-element-550\" gadfly:scale=\"5.0\" visibility=\"hidden\">3.4</text>\n",
        "    <text x=\"17.63\" y=\"26.34\" text-anchor=\"end\" dy=\"0.35em\" id=\"fig-65862f8192304b9abe8d29c24ef91791-element-551\" gadfly:scale=\"5.0\" visibility=\"hidden\">3.6</text>\n",
        "    <text x=\"17.63\" y=\"22.04\" text-anchor=\"end\" dy=\"0.35em\" id=\"fig-65862f8192304b9abe8d29c24ef91791-element-552\" gadfly:scale=\"5.0\" visibility=\"hidden\">3.8</text>\n",
        "    <text x=\"17.63\" y=\"17.74\" text-anchor=\"end\" dy=\"0.35em\" id=\"fig-65862f8192304b9abe8d29c24ef91791-element-553\" gadfly:scale=\"5.0\" visibility=\"hidden\">4.0</text>\n",
        "    <text x=\"17.63\" y=\"13.45\" text-anchor=\"end\" dy=\"0.35em\" id=\"fig-65862f8192304b9abe8d29c24ef91791-element-554\" gadfly:scale=\"5.0\" visibility=\"hidden\">4.2</text>\n",
        "    <text x=\"17.63\" y=\"9.15\" text-anchor=\"end\" dy=\"0.35em\" id=\"fig-65862f8192304b9abe8d29c24ef91791-element-555\" gadfly:scale=\"5.0\" visibility=\"hidden\">4.4</text>\n",
        "    <text x=\"17.63\" y=\"4.85\" text-anchor=\"end\" dy=\"0.35em\" id=\"fig-65862f8192304b9abe8d29c24ef91791-element-556\" gadfly:scale=\"5.0\" visibility=\"hidden\">4.6</text>\n",
        "    <text x=\"17.63\" y=\"0.55\" text-anchor=\"end\" dy=\"0.35em\" id=\"fig-65862f8192304b9abe8d29c24ef91791-element-557\" gadfly:scale=\"5.0\" visibility=\"hidden\">4.8</text>\n",
        "    <text x=\"17.63\" y=\"-3.74\" text-anchor=\"end\" dy=\"0.35em\" id=\"fig-65862f8192304b9abe8d29c24ef91791-element-558\" gadfly:scale=\"5.0\" visibility=\"hidden\">5.0</text>\n",
        "    <text x=\"17.63\" y=\"-8.04\" text-anchor=\"end\" dy=\"0.35em\" id=\"fig-65862f8192304b9abe8d29c24ef91791-element-559\" gadfly:scale=\"5.0\" visibility=\"hidden\">5.2</text>\n",
        "    <text x=\"17.63\" y=\"-12.34\" text-anchor=\"end\" dy=\"0.35em\" id=\"fig-65862f8192304b9abe8d29c24ef91791-element-560\" gadfly:scale=\"5.0\" visibility=\"hidden\">5.4</text>\n",
        "    <text x=\"17.63\" y=\"-16.63\" text-anchor=\"end\" dy=\"0.35em\" id=\"fig-65862f8192304b9abe8d29c24ef91791-element-561\" gadfly:scale=\"5.0\" visibility=\"hidden\">5.6</text>\n",
        "    <text x=\"17.63\" y=\"-20.93\" text-anchor=\"end\" dy=\"0.35em\" id=\"fig-65862f8192304b9abe8d29c24ef91791-element-562\" gadfly:scale=\"5.0\" visibility=\"hidden\">5.8</text>\n",
        "    <text x=\"17.63\" y=\"-25.23\" text-anchor=\"end\" dy=\"0.35em\" id=\"fig-65862f8192304b9abe8d29c24ef91791-element-563\" gadfly:scale=\"5.0\" visibility=\"hidden\">6.0</text>\n",
        "    <text x=\"17.63\" y=\"-29.53\" text-anchor=\"end\" dy=\"0.35em\" id=\"fig-65862f8192304b9abe8d29c24ef91791-element-564\" gadfly:scale=\"5.0\" visibility=\"hidden\">6.2</text>\n",
        "    <text x=\"17.63\" y=\"-33.82\" text-anchor=\"end\" dy=\"0.35em\" id=\"fig-65862f8192304b9abe8d29c24ef91791-element-565\" gadfly:scale=\"5.0\" visibility=\"hidden\">6.4</text>\n",
        "    <text x=\"17.63\" y=\"-38.12\" text-anchor=\"end\" dy=\"0.35em\" id=\"fig-65862f8192304b9abe8d29c24ef91791-element-566\" gadfly:scale=\"5.0\" visibility=\"hidden\">6.6</text>\n",
        "    <text x=\"17.63\" y=\"-42.42\" text-anchor=\"end\" dy=\"0.35em\" id=\"fig-65862f8192304b9abe8d29c24ef91791-element-567\" gadfly:scale=\"5.0\" visibility=\"hidden\">6.8</text>\n",
        "    <text x=\"17.63\" y=\"-46.71\" text-anchor=\"end\" dy=\"0.35em\" id=\"fig-65862f8192304b9abe8d29c24ef91791-element-568\" gadfly:scale=\"5.0\" visibility=\"hidden\">7.0</text>\n",
        "  </g>\n",
        "  <g font-size=\"3.88\" font-family=\"'PT Sans','Helvetica Neue','Helvetica',sans-serif\" fill=\"#564A55\" stroke=\"none\" id=\"fig-65862f8192304b9abe8d29c24ef91791-element-569\">\n",
        "    <text x=\"8.81\" y=\"31.86\" text-anchor=\"middle\" dy=\"0.35em\" transform=\"rotate(-90, 8.81, 33.86)\" id=\"fig-65862f8192304b9abe8d29c24ef91791-element-570\">SepalWidth</text>\n",
        "  </g>\n",
        "</g>\n",
        "<defs>\n",
        "<clipPath id=\"fig-65862f8192304b9abe8d29c24ef91791-element-16\">\n",
        "  <path d=\"M18.63,5 L 99.41 5 99.41 62.72 18.63 62.72\" />\n",
        "</clipPath\n",
        "></defs>\n",
        "<script> <![CDATA[\n",
        "(function(N){var k=/[\\.\\/]/,L=/\\s*,\\s*/,C=function(a,d){return a-d},a,v,y={n:{}},M=function(){for(var a=0,d=this.length;a<d;a++)if(\"undefined\"!=typeof this[a])return this[a]},A=function(){for(var a=this.length;--a;)if(\"undefined\"!=typeof this[a])return this[a]},w=function(k,d){k=String(k);var f=v,n=Array.prototype.slice.call(arguments,2),u=w.listeners(k),p=0,b,q=[],e={},l=[],r=a;l.firstDefined=M;l.lastDefined=A;a=k;for(var s=v=0,x=u.length;s<x;s++)\"zIndex\"in u[s]&&(q.push(u[s].zIndex),0>u[s].zIndex&&\n",
        "(e[u[s].zIndex]=u[s]));for(q.sort(C);0>q[p];)if(b=e[q[p++] ],l.push(b.apply(d,n)),v)return v=f,l;for(s=0;s<x;s++)if(b=u[s],\"zIndex\"in b)if(b.zIndex==q[p]){l.push(b.apply(d,n));if(v)break;do if(p++,(b=e[q[p] ])&&l.push(b.apply(d,n)),v)break;while(b)}else e[b.zIndex]=b;else if(l.push(b.apply(d,n)),v)break;v=f;a=r;return l};w._events=y;w.listeners=function(a){a=a.split(k);var d=y,f,n,u,p,b,q,e,l=[d],r=[];u=0;for(p=a.length;u<p;u++){e=[];b=0;for(q=l.length;b<q;b++)for(d=l[b].n,f=[d[a[u] ],d[\"*\"] ],n=2;n--;)if(d=\n",
        "f[n])e.push(d),r=r.concat(d.f||[]);l=e}return r};w.on=function(a,d){a=String(a);if(\"function\"!=typeof d)return function(){};for(var f=a.split(L),n=0,u=f.length;n<u;n++)(function(a){a=a.split(k);for(var b=y,f,e=0,l=a.length;e<l;e++)b=b.n,b=b.hasOwnProperty(a[e])&&b[a[e] ]||(b[a[e] ]={n:{}});b.f=b.f||[];e=0;for(l=b.f.length;e<l;e++)if(b.f[e]==d){f=!0;break}!f&&b.f.push(d)})(f[n]);return function(a){+a==+a&&(d.zIndex=+a)}};w.f=function(a){var d=[].slice.call(arguments,1);return function(){w.apply(null,\n",
        "[a,null].concat(d).concat([].slice.call(arguments,0)))}};w.stop=function(){v=1};w.nt=function(k){return k?(new RegExp(\"(?:\\\\.|\\\\/|^)\"+k+\"(?:\\\\.|\\\\/|$)\")).test(a):a};w.nts=function(){return a.split(k)};w.off=w.unbind=function(a,d){if(a){var f=a.split(L);if(1<f.length)for(var n=0,u=f.length;n<u;n++)w.off(f[n],d);else{for(var f=a.split(k),p,b,q,e,l=[y],n=0,u=f.length;n<u;n++)for(e=0;e<l.length;e+=q.length-2){q=[e,1];p=l[e].n;if(\"*\"!=f[n])p[f[n] ]&&q.push(p[f[n] ]);else for(b in p)p.hasOwnProperty(b)&&\n",
        "q.push(p[b]);l.splice.apply(l,q)}n=0;for(u=l.length;n<u;n++)for(p=l[n];p.n;){if(d){if(p.f){e=0;for(f=p.f.length;e<f;e++)if(p.f[e]==d){p.f.splice(e,1);break}!p.f.length&&delete p.f}for(b in p.n)if(p.n.hasOwnProperty(b)&&p.n[b].f){q=p.n[b].f;e=0;for(f=q.length;e<f;e++)if(q[e]==d){q.splice(e,1);break}!q.length&&delete p.n[b].f}}else for(b in delete p.f,p.n)p.n.hasOwnProperty(b)&&p.n[b].f&&delete p.n[b].f;p=p.n}}}else w._events=y={n:{}}};w.once=function(a,d){var f=function(){w.unbind(a,f);return d.apply(this,\n",
        "arguments)};return w.on(a,f)};w.version=\"0.4.2\";w.toString=function(){return\"You are running Eve 0.4.2\"};\"undefined\"!=typeof module&&module.exports?module.exports=w:\"function\"===typeof define&&define.amd?define(\"eve\",[],function(){return w}):N.eve=w})(this);\n",
        "(function(N,k){\"function\"===typeof define&&define.amd?define(\"Snap.svg\",[\"eve\"],function(L){return k(N,L)}):k(N,N.eve)})(this,function(N,k){var L=function(a){var k={},y=N.requestAnimationFrame||N.webkitRequestAnimationFrame||N.mozRequestAnimationFrame||N.oRequestAnimationFrame||N.msRequestAnimationFrame||function(a){setTimeout(a,16)},M=Array.isArray||function(a){return a instanceof Array||\"[object Array]\"==Object.prototype.toString.call(a)},A=0,w=\"M\"+(+new Date).toString(36),z=function(a){if(null==\n",
        "a)return this.s;var b=this.s-a;this.b+=this.dur*b;this.B+=this.dur*b;this.s=a},d=function(a){if(null==a)return this.spd;this.spd=a},f=function(a){if(null==a)return this.dur;this.s=this.s*a/this.dur;this.dur=a},n=function(){delete k[this.id];this.update();a(\"mina.stop.\"+this.id,this)},u=function(){this.pdif||(delete k[this.id],this.update(),this.pdif=this.get()-this.b)},p=function(){this.pdif&&(this.b=this.get()-this.pdif,delete this.pdif,k[this.id]=this)},b=function(){var a;if(M(this.start)){a=[];\n",
        "for(var b=0,e=this.start.length;b<e;b++)a[b]=+this.start[b]+(this.end[b]-this.start[b])*this.easing(this.s)}else a=+this.start+(this.end-this.start)*this.easing(this.s);this.set(a)},q=function(){var l=0,b;for(b in k)if(k.hasOwnProperty(b)){var e=k[b],f=e.get();l++;e.s=(f-e.b)/(e.dur/e.spd);1<=e.s&&(delete k[b],e.s=1,l--,function(b){setTimeout(function(){a(\"mina.finish.\"+b.id,b)})}(e));e.update()}l&&y(q)},e=function(a,r,s,x,G,h,J){a={id:w+(A++).toString(36),start:a,end:r,b:s,s:0,dur:x-s,spd:1,get:G,\n",
        "set:h,easing:J||e.linear,status:z,speed:d,duration:f,stop:n,pause:u,resume:p,update:b};k[a.id]=a;r=0;for(var K in k)if(k.hasOwnProperty(K)&&(r++,2==r))break;1==r&&y(q);return a};e.time=Date.now||function(){return+new Date};e.getById=function(a){return k[a]||null};e.linear=function(a){return a};e.easeout=function(a){return Math.pow(a,1.7)};e.easein=function(a){return Math.pow(a,0.48)};e.easeinout=function(a){if(1==a)return 1;if(0==a)return 0;var b=0.48-a/1.04,e=Math.sqrt(0.1734+b*b);a=e-b;a=Math.pow(Math.abs(a),\n",
        "1/3)*(0>a?-1:1);b=-e-b;b=Math.pow(Math.abs(b),1/3)*(0>b?-1:1);a=a+b+0.5;return 3*(1-a)*a*a+a*a*a};e.backin=function(a){return 1==a?1:a*a*(2.70158*a-1.70158)};e.backout=function(a){if(0==a)return 0;a-=1;return a*a*(2.70158*a+1.70158)+1};e.elastic=function(a){return a==!!a?a:Math.pow(2,-10*a)*Math.sin(2*(a-0.075)*Math.PI/0.3)+1};e.bounce=function(a){a<1/2.75?a*=7.5625*a:a<2/2.75?(a-=1.5/2.75,a=7.5625*a*a+0.75):a<2.5/2.75?(a-=2.25/2.75,a=7.5625*a*a+0.9375):(a-=2.625/2.75,a=7.5625*a*a+0.984375);return a};\n",
        "return N.mina=e}(\"undefined\"==typeof k?function(){}:k),C=function(){function a(c,t){if(c){if(c.tagName)return x(c);if(y(c,\"array\")&&a.set)return a.set.apply(a,c);if(c instanceof e)return c;if(null==t)return c=G.doc.querySelector(c),x(c)}return new s(null==c?\"100%\":c,null==t?\"100%\":t)}function v(c,a){if(a){\"#text\"==c&&(c=G.doc.createTextNode(a.text||\"\"));\"string\"==typeof c&&(c=v(c));if(\"string\"==typeof a)return\"xlink:\"==a.substring(0,6)?c.getAttributeNS(m,a.substring(6)):\"xml:\"==a.substring(0,4)?c.getAttributeNS(la,\n",
        "a.substring(4)):c.getAttribute(a);for(var da in a)if(a[h](da)){var b=J(a[da]);b?\"xlink:\"==da.substring(0,6)?c.setAttributeNS(m,da.substring(6),b):\"xml:\"==da.substring(0,4)?c.setAttributeNS(la,da.substring(4),b):c.setAttribute(da,b):c.removeAttribute(da)}}else c=G.doc.createElementNS(la,c);return c}function y(c,a){a=J.prototype.toLowerCase.call(a);return\"finite\"==a?isFinite(c):\"array\"==a&&(c instanceof Array||Array.isArray&&Array.isArray(c))?!0:\"null\"==a&&null===c||a==typeof c&&null!==c||\"object\"==\n",
        "a&&c===Object(c)||$.call(c).slice(8,-1).toLowerCase()==a}function M(c){if(\"function\"==typeof c||Object(c)!==c)return c;var a=new c.constructor,b;for(b in c)c[h](b)&&(a[b]=M(c[b]));return a}function A(c,a,b){function m(){var e=Array.prototype.slice.call(arguments,0),f=e.join(\"\\u2400\"),d=m.cache=m.cache||{},l=m.count=m.count||[];if(d[h](f)){a:for(var e=l,l=f,B=0,H=e.length;B<H;B++)if(e[B]===l){e.push(e.splice(B,1)[0]);break a}return b?b(d[f]):d[f]}1E3<=l.length&&delete d[l.shift()];l.push(f);d[f]=c.apply(a,\n",
        "e);return b?b(d[f]):d[f]}return m}function w(c,a,b,m,e,f){return null==e?(c-=b,a-=m,c||a?(180*I.atan2(-a,-c)/C+540)%360:0):w(c,a,e,f)-w(b,m,e,f)}function z(c){return c%360*C/180}function d(c){var a=[];c=c.replace(/(?:^|\\s)(\\w+)\\(([^)]+)\\)/g,function(c,b,m){m=m.split(/\\s*,\\s*|\\s+/);\"rotate\"==b&&1==m.length&&m.push(0,0);\"scale\"==b&&(2<m.length?m=m.slice(0,2):2==m.length&&m.push(0,0),1==m.length&&m.push(m[0],0,0));\"skewX\"==b?a.push([\"m\",1,0,I.tan(z(m[0])),1,0,0]):\"skewY\"==b?a.push([\"m\",1,I.tan(z(m[0])),\n",
        "0,1,0,0]):a.push([b.charAt(0)].concat(m));return c});return a}function f(c,t){var b=O(c),m=new a.Matrix;if(b)for(var e=0,f=b.length;e<f;e++){var h=b[e],d=h.length,B=J(h[0]).toLowerCase(),H=h[0]!=B,l=H?m.invert():0,E;\"t\"==B&&2==d?m.translate(h[1],0):\"t\"==B&&3==d?H?(d=l.x(0,0),B=l.y(0,0),H=l.x(h[1],h[2]),l=l.y(h[1],h[2]),m.translate(H-d,l-B)):m.translate(h[1],h[2]):\"r\"==B?2==d?(E=E||t,m.rotate(h[1],E.x+E.width/2,E.y+E.height/2)):4==d&&(H?(H=l.x(h[2],h[3]),l=l.y(h[2],h[3]),m.rotate(h[1],H,l)):m.rotate(h[1],\n",
        "h[2],h[3])):\"s\"==B?2==d||3==d?(E=E||t,m.scale(h[1],h[d-1],E.x+E.width/2,E.y+E.height/2)):4==d?H?(H=l.x(h[2],h[3]),l=l.y(h[2],h[3]),m.scale(h[1],h[1],H,l)):m.scale(h[1],h[1],h[2],h[3]):5==d&&(H?(H=l.x(h[3],h[4]),l=l.y(h[3],h[4]),m.scale(h[1],h[2],H,l)):m.scale(h[1],h[2],h[3],h[4])):\"m\"==B&&7==d&&m.add(h[1],h[2],h[3],h[4],h[5],h[6])}return m}function n(c,t){if(null==t){var m=!0;t=\"linearGradient\"==c.type||\"radialGradient\"==c.type?c.node.getAttribute(\"gradientTransform\"):\"pattern\"==c.type?c.node.getAttribute(\"patternTransform\"):\n",
        "c.node.getAttribute(\"transform\");if(!t)return new a.Matrix;t=d(t)}else t=a._.rgTransform.test(t)?J(t).replace(/\\.{3}|\\u2026/g,c._.transform||aa):d(t),y(t,\"array\")&&(t=a.path?a.path.toString.call(t):J(t)),c._.transform=t;var b=f(t,c.getBBox(1));if(m)return b;c.matrix=b}function u(c){c=c.node.ownerSVGElement&&x(c.node.ownerSVGElement)||c.node.parentNode&&x(c.node.parentNode)||a.select(\"svg\")||a(0,0);var t=c.select(\"defs\"),t=null==t?!1:t.node;t||(t=r(\"defs\",c.node).node);return t}function p(c){return c.node.ownerSVGElement&&\n",
        "x(c.node.ownerSVGElement)||a.select(\"svg\")}function b(c,a,m){function b(c){if(null==c)return aa;if(c==+c)return c;v(B,{width:c});try{return B.getBBox().width}catch(a){return 0}}function h(c){if(null==c)return aa;if(c==+c)return c;v(B,{height:c});try{return B.getBBox().height}catch(a){return 0}}function e(b,B){null==a?d[b]=B(c.attr(b)||0):b==a&&(d=B(null==m?c.attr(b)||0:m))}var f=p(c).node,d={},B=f.querySelector(\".svg---mgr\");B||(B=v(\"rect\"),v(B,{x:-9E9,y:-9E9,width:10,height:10,\"class\":\"svg---mgr\",\n",
        "fill:\"none\"}),f.appendChild(B));switch(c.type){case \"rect\":e(\"rx\",b),e(\"ry\",h);case \"image\":e(\"width\",b),e(\"height\",h);case \"text\":e(\"x\",b);e(\"y\",h);break;case \"circle\":e(\"cx\",b);e(\"cy\",h);e(\"r\",b);break;case \"ellipse\":e(\"cx\",b);e(\"cy\",h);e(\"rx\",b);e(\"ry\",h);break;case \"line\":e(\"x1\",b);e(\"x2\",b);e(\"y1\",h);e(\"y2\",h);break;case \"marker\":e(\"refX\",b);e(\"markerWidth\",b);e(\"refY\",h);e(\"markerHeight\",h);break;case \"radialGradient\":e(\"fx\",b);e(\"fy\",h);break;case \"tspan\":e(\"dx\",b);e(\"dy\",h);break;default:e(a,\n",
        "b)}f.removeChild(B);return d}function q(c){y(c,\"array\")||(c=Array.prototype.slice.call(arguments,0));for(var a=0,b=0,m=this.node;this[a];)delete this[a++];for(a=0;a<c.length;a++)\"set\"==c[a].type?c[a].forEach(function(c){m.appendChild(c.node)}):m.appendChild(c[a].node);for(var h=m.childNodes,a=0;a<h.length;a++)this[b++]=x(h[a]);return this}function e(c){if(c.snap in E)return E[c.snap];var a=this.id=V(),b;try{b=c.ownerSVGElement}catch(m){}this.node=c;b&&(this.paper=new s(b));this.type=c.tagName;this.anims=\n",
        "{};this._={transform:[]};c.snap=a;E[a]=this;\"g\"==this.type&&(this.add=q);if(this.type in{g:1,mask:1,pattern:1})for(var e in s.prototype)s.prototype[h](e)&&(this[e]=s.prototype[e])}function l(c){this.node=c}function r(c,a){var b=v(c);a.appendChild(b);return x(b)}function s(c,a){var b,m,f,d=s.prototype;if(c&&\"svg\"==c.tagName){if(c.snap in E)return E[c.snap];var l=c.ownerDocument;b=new e(c);m=c.getElementsByTagName(\"desc\")[0];f=c.getElementsByTagName(\"defs\")[0];m||(m=v(\"desc\"),m.appendChild(l.createTextNode(\"Created with Snap\")),\n",
        "b.node.appendChild(m));f||(f=v(\"defs\"),b.node.appendChild(f));b.defs=f;for(var ca in d)d[h](ca)&&(b[ca]=d[ca]);b.paper=b.root=b}else b=r(\"svg\",G.doc.body),v(b.node,{height:a,version:1.1,width:c,xmlns:la});return b}function x(c){return!c||c instanceof e||c instanceof l?c:c.tagName&&\"svg\"==c.tagName.toLowerCase()?new s(c):c.tagName&&\"object\"==c.tagName.toLowerCase()&&\"image/svg+xml\"==c.type?new s(c.contentDocument.getElementsByTagName(\"svg\")[0]):new e(c)}a.version=\"0.3.0\";a.toString=function(){return\"Snap v\"+\n",
        "this.version};a._={};var G={win:N,doc:N.document};a._.glob=G;var h=\"hasOwnProperty\",J=String,K=parseFloat,U=parseInt,I=Math,P=I.max,Q=I.min,Y=I.abs,C=I.PI,aa=\"\",$=Object.prototype.toString,F=/^\\s*((#[a-f\\d]{6})|(#[a-f\\d]{3})|rgba?\\(\\s*([\\d\\.]+%?\\s*,\\s*[\\d\\.]+%?\\s*,\\s*[\\d\\.]+%?(?:\\s*,\\s*[\\d\\.]+%?)?)\\s*\\)|hsba?\\(\\s*([\\d\\.]+(?:deg|\\xb0|%)?\\s*,\\s*[\\d\\.]+%?\\s*,\\s*[\\d\\.]+(?:%?\\s*,\\s*[\\d\\.]+)?%?)\\s*\\)|hsla?\\(\\s*([\\d\\.]+(?:deg|\\xb0|%)?\\s*,\\s*[\\d\\.]+%?\\s*,\\s*[\\d\\.]+(?:%?\\s*,\\s*[\\d\\.]+)?%?)\\s*\\))\\s*$/i;a._.separator=\n",
        "RegExp(\"[,\\t\\n\\x0B\\f\\r \\u00a0\\u1680\\u180e\\u2000\\u2001\\u2002\\u2003\\u2004\\u2005\\u2006\\u2007\\u2008\\u2009\\u200a\\u202f\\u205f\\u3000\\u2028\\u2029]+\");var S=RegExp(\"[\\t\\n\\x0B\\f\\r \\u00a0\\u1680\\u180e\\u2000\\u2001\\u2002\\u2003\\u2004\\u2005\\u2006\\u2007\\u2008\\u2009\\u200a\\u202f\\u205f\\u3000\\u2028\\u2029]*,[\\t\\n\\x0B\\f\\r \\u00a0\\u1680\\u180e\\u2000\\u2001\\u2002\\u2003\\u2004\\u2005\\u2006\\u2007\\u2008\\u2009\\u200a\\u202f\\u205f\\u3000\\u2028\\u2029]*\"),X={hs:1,rg:1},W=RegExp(\"([a-z])[\\t\\n\\x0B\\f\\r \\u00a0\\u1680\\u180e\\u2000\\u2001\\u2002\\u2003\\u2004\\u2005\\u2006\\u2007\\u2008\\u2009\\u200a\\u202f\\u205f\\u3000\\u2028\\u2029,]*((-?\\\\d*\\\\.?\\\\d*(?:e[\\\\-+]?\\\\d+)?[\\t\\n\\x0B\\f\\r \\u00a0\\u1680\\u180e\\u2000\\u2001\\u2002\\u2003\\u2004\\u2005\\u2006\\u2007\\u2008\\u2009\\u200a\\u202f\\u205f\\u3000\\u2028\\u2029]*,?[\\t\\n\\x0B\\f\\r \\u00a0\\u1680\\u180e\\u2000\\u2001\\u2002\\u2003\\u2004\\u2005\\u2006\\u2007\\u2008\\u2009\\u200a\\u202f\\u205f\\u3000\\u2028\\u2029]*)+)\",\n",
        "\"ig\"),ma=RegExp(\"([rstm])[\\t\\n\\x0B\\f\\r \\u00a0\\u1680\\u180e\\u2000\\u2001\\u2002\\u2003\\u2004\\u2005\\u2006\\u2007\\u2008\\u2009\\u200a\\u202f\\u205f\\u3000\\u2028\\u2029,]*((-?\\\\d*\\\\.?\\\\d*(?:e[\\\\-+]?\\\\d+)?[\\t\\n\\x0B\\f\\r \\u00a0\\u1680\\u180e\\u2000\\u2001\\u2002\\u2003\\u2004\\u2005\\u2006\\u2007\\u2008\\u2009\\u200a\\u202f\\u205f\\u3000\\u2028\\u2029]*,?[\\t\\n\\x0B\\f\\r \\u00a0\\u1680\\u180e\\u2000\\u2001\\u2002\\u2003\\u2004\\u2005\\u2006\\u2007\\u2008\\u2009\\u200a\\u202f\\u205f\\u3000\\u2028\\u2029]*)+)\",\"ig\"),Z=RegExp(\"(-?\\\\d*\\\\.?\\\\d*(?:e[\\\\-+]?\\\\d+)?)[\\t\\n\\x0B\\f\\r \\u00a0\\u1680\\u180e\\u2000\\u2001\\u2002\\u2003\\u2004\\u2005\\u2006\\u2007\\u2008\\u2009\\u200a\\u202f\\u205f\\u3000\\u2028\\u2029]*,?[\\t\\n\\x0B\\f\\r \\u00a0\\u1680\\u180e\\u2000\\u2001\\u2002\\u2003\\u2004\\u2005\\u2006\\u2007\\u2008\\u2009\\u200a\\u202f\\u205f\\u3000\\u2028\\u2029]*\",\n",
        "\"ig\"),na=0,ba=\"S\"+(+new Date).toString(36),V=function(){return ba+(na++).toString(36)},m=\"http://www.w3.org/1999/xlink\",la=\"http://www.w3.org/2000/svg\",E={},ca=a.url=function(c){return\"url('#\"+c+\"')\"};a._.$=v;a._.id=V;a.format=function(){var c=/\\{([^\\}]+)\\}/g,a=/(?:(?:^|\\.)(.+?)(?=\\[|\\.|$|\\()|\\[('|\")(.+?)\\2\\])(\\(\\))?/g,b=function(c,b,m){var h=m;b.replace(a,function(c,a,b,m,t){a=a||m;h&&(a in h&&(h=h[a]),\"function\"==typeof h&&t&&(h=h()))});return h=(null==h||h==m?c:h)+\"\"};return function(a,m){return J(a).replace(c,\n",
        "function(c,a){return b(c,a,m)})}}();a._.clone=M;a._.cacher=A;a.rad=z;a.deg=function(c){return 180*c/C%360};a.angle=w;a.is=y;a.snapTo=function(c,a,b){b=y(b,\"finite\")?b:10;if(y(c,\"array\"))for(var m=c.length;m--;){if(Y(c[m]-a)<=b)return c[m]}else{c=+c;m=a%c;if(m<b)return a-m;if(m>c-b)return a-m+c}return a};a.getRGB=A(function(c){if(!c||(c=J(c)).indexOf(\"-\")+1)return{r:-1,g:-1,b:-1,hex:\"none\",error:1,toString:ka};if(\"none\"==c)return{r:-1,g:-1,b:-1,hex:\"none\",toString:ka};!X[h](c.toLowerCase().substring(0,\n",
        "2))&&\"#\"!=c.charAt()&&(c=T(c));if(!c)return{r:-1,g:-1,b:-1,hex:\"none\",error:1,toString:ka};var b,m,e,f,d;if(c=c.match(F)){c[2]&&(e=U(c[2].substring(5),16),m=U(c[2].substring(3,5),16),b=U(c[2].substring(1,3),16));c[3]&&(e=U((d=c[3].charAt(3))+d,16),m=U((d=c[3].charAt(2))+d,16),b=U((d=c[3].charAt(1))+d,16));c[4]&&(d=c[4].split(S),b=K(d[0]),\"%\"==d[0].slice(-1)&&(b*=2.55),m=K(d[1]),\"%\"==d[1].slice(-1)&&(m*=2.55),e=K(d[2]),\"%\"==d[2].slice(-1)&&(e*=2.55),\"rgba\"==c[1].toLowerCase().slice(0,4)&&(f=K(d[3])),\n",
        "d[3]&&\"%\"==d[3].slice(-1)&&(f/=100));if(c[5])return d=c[5].split(S),b=K(d[0]),\"%\"==d[0].slice(-1)&&(b/=100),m=K(d[1]),\"%\"==d[1].slice(-1)&&(m/=100),e=K(d[2]),\"%\"==d[2].slice(-1)&&(e/=100),\"deg\"!=d[0].slice(-3)&&\"\\u00b0\"!=d[0].slice(-1)||(b/=360),\"hsba\"==c[1].toLowerCase().slice(0,4)&&(f=K(d[3])),d[3]&&\"%\"==d[3].slice(-1)&&(f/=100),a.hsb2rgb(b,m,e,f);if(c[6])return d=c[6].split(S),b=K(d[0]),\"%\"==d[0].slice(-1)&&(b/=100),m=K(d[1]),\"%\"==d[1].slice(-1)&&(m/=100),e=K(d[2]),\"%\"==d[2].slice(-1)&&(e/=100),\n",
        "\"deg\"!=d[0].slice(-3)&&\"\\u00b0\"!=d[0].slice(-1)||(b/=360),\"hsla\"==c[1].toLowerCase().slice(0,4)&&(f=K(d[3])),d[3]&&\"%\"==d[3].slice(-1)&&(f/=100),a.hsl2rgb(b,m,e,f);b=Q(I.round(b),255);m=Q(I.round(m),255);e=Q(I.round(e),255);f=Q(P(f,0),1);c={r:b,g:m,b:e,toString:ka};c.hex=\"#\"+(16777216|e|m<<8|b<<16).toString(16).slice(1);c.opacity=y(f,\"finite\")?f:1;return c}return{r:-1,g:-1,b:-1,hex:\"none\",error:1,toString:ka}},a);a.hsb=A(function(c,b,m){return a.hsb2rgb(c,b,m).hex});a.hsl=A(function(c,b,m){return a.hsl2rgb(c,\n",
        "b,m).hex});a.rgb=A(function(c,a,b,m){if(y(m,\"finite\")){var e=I.round;return\"rgba(\"+[e(c),e(a),e(b),+m.toFixed(2)]+\")\"}return\"#\"+(16777216|b|a<<8|c<<16).toString(16).slice(1)});var T=function(c){var a=G.doc.getElementsByTagName(\"head\")[0]||G.doc.getElementsByTagName(\"svg\")[0];T=A(function(c){if(\"red\"==c.toLowerCase())return\"rgb(255, 0, 0)\";a.style.color=\"rgb(255, 0, 0)\";a.style.color=c;c=G.doc.defaultView.getComputedStyle(a,aa).getPropertyValue(\"color\");return\"rgb(255, 0, 0)\"==c?null:c});return T(c)},\n",
        "qa=function(){return\"hsb(\"+[this.h,this.s,this.b]+\")\"},ra=function(){return\"hsl(\"+[this.h,this.s,this.l]+\")\"},ka=function(){return 1==this.opacity||null==this.opacity?this.hex:\"rgba(\"+[this.r,this.g,this.b,this.opacity]+\")\"},D=function(c,b,m){null==b&&y(c,\"object\")&&\"r\"in c&&\"g\"in c&&\"b\"in c&&(m=c.b,b=c.g,c=c.r);null==b&&y(c,string)&&(m=a.getRGB(c),c=m.r,b=m.g,m=m.b);if(1<c||1<b||1<m)c/=255,b/=255,m/=255;return[c,b,m]},oa=function(c,b,m,e){c=I.round(255*c);b=I.round(255*b);m=I.round(255*m);c={r:c,\n",
        "g:b,b:m,opacity:y(e,\"finite\")?e:1,hex:a.rgb(c,b,m),toString:ka};y(e,\"finite\")&&(c.opacity=e);return c};a.color=function(c){var b;y(c,\"object\")&&\"h\"in c&&\"s\"in c&&\"b\"in c?(b=a.hsb2rgb(c),c.r=b.r,c.g=b.g,c.b=b.b,c.opacity=1,c.hex=b.hex):y(c,\"object\")&&\"h\"in c&&\"s\"in c&&\"l\"in c?(b=a.hsl2rgb(c),c.r=b.r,c.g=b.g,c.b=b.b,c.opacity=1,c.hex=b.hex):(y(c,\"string\")&&(c=a.getRGB(c)),y(c,\"object\")&&\"r\"in c&&\"g\"in c&&\"b\"in c&&!(\"error\"in c)?(b=a.rgb2hsl(c),c.h=b.h,c.s=b.s,c.l=b.l,b=a.rgb2hsb(c),c.v=b.b):(c={hex:\"none\"},\n",
        "c.r=c.g=c.b=c.h=c.s=c.v=c.l=-1,c.error=1));c.toString=ka;return c};a.hsb2rgb=function(c,a,b,m){y(c,\"object\")&&\"h\"in c&&\"s\"in c&&\"b\"in c&&(b=c.b,a=c.s,c=c.h,m=c.o);var e,h,d;c=360*c%360/60;d=b*a;a=d*(1-Y(c%2-1));b=e=h=b-d;c=~~c;b+=[d,a,0,0,a,d][c];e+=[a,d,d,a,0,0][c];h+=[0,0,a,d,d,a][c];return oa(b,e,h,m)};a.hsl2rgb=function(c,a,b,m){y(c,\"object\")&&\"h\"in c&&\"s\"in c&&\"l\"in c&&(b=c.l,a=c.s,c=c.h);if(1<c||1<a||1<b)c/=360,a/=100,b/=100;var e,h,d;c=360*c%360/60;d=2*a*(0.5>b?b:1-b);a=d*(1-Y(c%2-1));b=e=\n",
        "h=b-d/2;c=~~c;b+=[d,a,0,0,a,d][c];e+=[a,d,d,a,0,0][c];h+=[0,0,a,d,d,a][c];return oa(b,e,h,m)};a.rgb2hsb=function(c,a,b){b=D(c,a,b);c=b[0];a=b[1];b=b[2];var m,e;m=P(c,a,b);e=m-Q(c,a,b);c=((0==e?0:m==c?(a-b)/e:m==a?(b-c)/e+2:(c-a)/e+4)+360)%6*60/360;return{h:c,s:0==e?0:e/m,b:m,toString:qa}};a.rgb2hsl=function(c,a,b){b=D(c,a,b);c=b[0];a=b[1];b=b[2];var m,e,h;m=P(c,a,b);e=Q(c,a,b);h=m-e;c=((0==h?0:m==c?(a-b)/h:m==a?(b-c)/h+2:(c-a)/h+4)+360)%6*60/360;m=(m+e)/2;return{h:c,s:0==h?0:0.5>m?h/(2*m):h/(2-2*\n",
        "m),l:m,toString:ra}};a.parsePathString=function(c){if(!c)return null;var b=a.path(c);if(b.arr)return a.path.clone(b.arr);var m={a:7,c:6,o:2,h:1,l:2,m:2,r:4,q:4,s:4,t:2,v:1,u:3,z:0},e=[];y(c,\"array\")&&y(c[0],\"array\")&&(e=a.path.clone(c));e.length||J(c).replace(W,function(c,a,b){var h=[];c=a.toLowerCase();b.replace(Z,function(c,a){a&&h.push(+a)});\"m\"==c&&2<h.length&&(e.push([a].concat(h.splice(0,2))),c=\"l\",a=\"m\"==a?\"l\":\"L\");\"o\"==c&&1==h.length&&e.push([a,h[0] ]);if(\"r\"==c)e.push([a].concat(h));else for(;h.length>=\n",
        "m[c]&&(e.push([a].concat(h.splice(0,m[c]))),m[c]););});e.toString=a.path.toString;b.arr=a.path.clone(e);return e};var O=a.parseTransformString=function(c){if(!c)return null;var b=[];y(c,\"array\")&&y(c[0],\"array\")&&(b=a.path.clone(c));b.length||J(c).replace(ma,function(c,a,m){var e=[];a.toLowerCase();m.replace(Z,function(c,a){a&&e.push(+a)});b.push([a].concat(e))});b.toString=a.path.toString;return b};a._.svgTransform2string=d;a._.rgTransform=RegExp(\"^[a-z][\\t\\n\\x0B\\f\\r \\u00a0\\u1680\\u180e\\u2000\\u2001\\u2002\\u2003\\u2004\\u2005\\u2006\\u2007\\u2008\\u2009\\u200a\\u202f\\u205f\\u3000\\u2028\\u2029]*-?\\\\.?\\\\d\",\n",
        "\"i\");a._.transform2matrix=f;a._unit2px=b;a._.getSomeDefs=u;a._.getSomeSVG=p;a.select=function(c){return x(G.doc.querySelector(c))};a.selectAll=function(c){c=G.doc.querySelectorAll(c);for(var b=(a.set||Array)(),m=0;m<c.length;m++)b.push(x(c[m]));return b};setInterval(function(){for(var c in E)if(E[h](c)){var a=E[c],b=a.node;(\"svg\"!=a.type&&!b.ownerSVGElement||\"svg\"==a.type&&(!b.parentNode||\"ownerSVGElement\"in b.parentNode&&!b.ownerSVGElement))&&delete E[c]}},1E4);(function(c){function m(c){function a(c,\n",
        "b){var m=v(c.node,b);(m=(m=m&&m.match(d))&&m[2])&&\"#\"==m.charAt()&&(m=m.substring(1))&&(f[m]=(f[m]||[]).concat(function(a){var m={};m[b]=ca(a);v(c.node,m)}))}function b(c){var a=v(c.node,\"xlink:href\");a&&\"#\"==a.charAt()&&(a=a.substring(1))&&(f[a]=(f[a]||[]).concat(function(a){c.attr(\"xlink:href\",\"#\"+a)}))}var e=c.selectAll(\"*\"),h,d=/^\\s*url\\((\"|'|)(.*)\\1\\)\\s*$/;c=[];for(var f={},l=0,E=e.length;l<E;l++){h=e[l];a(h,\"fill\");a(h,\"stroke\");a(h,\"filter\");a(h,\"mask\");a(h,\"clip-path\");b(h);var t=v(h.node,\n",
        "\"id\");t&&(v(h.node,{id:h.id}),c.push({old:t,id:h.id}))}l=0;for(E=c.length;l<E;l++)if(e=f[c[l].old])for(h=0,t=e.length;h<t;h++)e[h](c[l].id)}function e(c,a,b){return function(m){m=m.slice(c,a);1==m.length&&(m=m[0]);return b?b(m):m}}function d(c){return function(){var a=c?\"<\"+this.type:\"\",b=this.node.attributes,m=this.node.childNodes;if(c)for(var e=0,h=b.length;e<h;e++)a+=\" \"+b[e].name+'=\"'+b[e].value.replace(/\"/g,'\\\\\"')+'\"';if(m.length){c&&(a+=\">\");e=0;for(h=m.length;e<h;e++)3==m[e].nodeType?a+=m[e].nodeValue:\n",
        "1==m[e].nodeType&&(a+=x(m[e]).toString());c&&(a+=\"</\"+this.type+\">\")}else c&&(a+=\"/>\");return a}}c.attr=function(c,a){if(!c)return this;if(y(c,\"string\"))if(1<arguments.length){var b={};b[c]=a;c=b}else return k(\"snap.util.getattr.\"+c,this).firstDefined();for(var m in c)c[h](m)&&k(\"snap.util.attr.\"+m,this,c[m]);return this};c.getBBox=function(c){if(!a.Matrix||!a.path)return this.node.getBBox();var b=this,m=new a.Matrix;if(b.removed)return a._.box();for(;\"use\"==b.type;)if(c||(m=m.add(b.transform().localMatrix.translate(b.attr(\"x\")||\n",
        "0,b.attr(\"y\")||0))),b.original)b=b.original;else var e=b.attr(\"xlink:href\"),b=b.original=b.node.ownerDocument.getElementById(e.substring(e.indexOf(\"#\")+1));var e=b._,h=a.path.get[b.type]||a.path.get.deflt;try{if(c)return e.bboxwt=h?a.path.getBBox(b.realPath=h(b)):a._.box(b.node.getBBox()),a._.box(e.bboxwt);b.realPath=h(b);b.matrix=b.transform().localMatrix;e.bbox=a.path.getBBox(a.path.map(b.realPath,m.add(b.matrix)));return a._.box(e.bbox)}catch(d){return a._.box()}};var f=function(){return this.string};\n",
        "c.transform=function(c){var b=this._;if(null==c){var m=this;c=new a.Matrix(this.node.getCTM());for(var e=n(this),h=[e],d=new a.Matrix,l=e.toTransformString(),b=J(e)==J(this.matrix)?J(b.transform):l;\"svg\"!=m.type&&(m=m.parent());)h.push(n(m));for(m=h.length;m--;)d.add(h[m]);return{string:b,globalMatrix:c,totalMatrix:d,localMatrix:e,diffMatrix:c.clone().add(e.invert()),global:c.toTransformString(),total:d.toTransformString(),local:l,toString:f}}c instanceof a.Matrix?this.matrix=c:n(this,c);this.node&&\n",
        "(\"linearGradient\"==this.type||\"radialGradient\"==this.type?v(this.node,{gradientTransform:this.matrix}):\"pattern\"==this.type?v(this.node,{patternTransform:this.matrix}):v(this.node,{transform:this.matrix}));return this};c.parent=function(){return x(this.node.parentNode)};c.append=c.add=function(c){if(c){if(\"set\"==c.type){var a=this;c.forEach(function(c){a.add(c)});return this}c=x(c);this.node.appendChild(c.node);c.paper=this.paper}return this};c.appendTo=function(c){c&&(c=x(c),c.append(this));return this};\n",
        "c.prepend=function(c){if(c){if(\"set\"==c.type){var a=this,b;c.forEach(function(c){b?b.after(c):a.prepend(c);b=c});return this}c=x(c);var m=c.parent();this.node.insertBefore(c.node,this.node.firstChild);this.add&&this.add();c.paper=this.paper;this.parent()&&this.parent().add();m&&m.add()}return this};c.prependTo=function(c){c=x(c);c.prepend(this);return this};c.before=function(c){if(\"set\"==c.type){var a=this;c.forEach(function(c){var b=c.parent();a.node.parentNode.insertBefore(c.node,a.node);b&&b.add()});\n",
        "this.parent().add();return this}c=x(c);var b=c.parent();this.node.parentNode.insertBefore(c.node,this.node);this.parent()&&this.parent().add();b&&b.add();c.paper=this.paper;return this};c.after=function(c){c=x(c);var a=c.parent();this.node.nextSibling?this.node.parentNode.insertBefore(c.node,this.node.nextSibling):this.node.parentNode.appendChild(c.node);this.parent()&&this.parent().add();a&&a.add();c.paper=this.paper;return this};c.insertBefore=function(c){c=x(c);var a=this.parent();c.node.parentNode.insertBefore(this.node,\n",
        "c.node);this.paper=c.paper;a&&a.add();c.parent()&&c.parent().add();return this};c.insertAfter=function(c){c=x(c);var a=this.parent();c.node.parentNode.insertBefore(this.node,c.node.nextSibling);this.paper=c.paper;a&&a.add();c.parent()&&c.parent().add();return this};c.remove=function(){var c=this.parent();this.node.parentNode&&this.node.parentNode.removeChild(this.node);delete this.paper;this.removed=!0;c&&c.add();return this};c.select=function(c){return x(this.node.querySelector(c))};c.selectAll=\n",
        "function(c){c=this.node.querySelectorAll(c);for(var b=(a.set||Array)(),m=0;m<c.length;m++)b.push(x(c[m]));return b};c.asPX=function(c,a){null==a&&(a=this.attr(c));return+b(this,c,a)};c.use=function(){var c,a=this.node.id;a||(a=this.id,v(this.node,{id:a}));c=\"linearGradient\"==this.type||\"radialGradient\"==this.type||\"pattern\"==this.type?r(this.type,this.node.parentNode):r(\"use\",this.node.parentNode);v(c.node,{\"xlink:href\":\"#\"+a});c.original=this;return c};var l=/\\S+/g;c.addClass=function(c){var a=(c||\n",
        "\"\").match(l)||[];c=this.node;var b=c.className.baseVal,m=b.match(l)||[],e,h,d;if(a.length){for(e=0;d=a[e++];)h=m.indexOf(d),~h||m.push(d);a=m.join(\" \");b!=a&&(c.className.baseVal=a)}return this};c.removeClass=function(c){var a=(c||\"\").match(l)||[];c=this.node;var b=c.className.baseVal,m=b.match(l)||[],e,h;if(m.length){for(e=0;h=a[e++];)h=m.indexOf(h),~h&&m.splice(h,1);a=m.join(\" \");b!=a&&(c.className.baseVal=a)}return this};c.hasClass=function(c){return!!~(this.node.className.baseVal.match(l)||[]).indexOf(c)};\n",
        "c.toggleClass=function(c,a){if(null!=a)return a?this.addClass(c):this.removeClass(c);var b=(c||\"\").match(l)||[],m=this.node,e=m.className.baseVal,h=e.match(l)||[],d,f,E;for(d=0;E=b[d++];)f=h.indexOf(E),~f?h.splice(f,1):h.push(E);b=h.join(\" \");e!=b&&(m.className.baseVal=b);return this};c.clone=function(){var c=x(this.node.cloneNode(!0));v(c.node,\"id\")&&v(c.node,{id:c.id});m(c);c.insertAfter(this);return c};c.toDefs=function(){u(this).appendChild(this.node);return this};c.pattern=c.toPattern=function(c,\n",
        "a,b,m){var e=r(\"pattern\",u(this));null==c&&(c=this.getBBox());y(c,\"object\")&&\"x\"in c&&(a=c.y,b=c.width,m=c.height,c=c.x);v(e.node,{x:c,y:a,width:b,height:m,patternUnits:\"userSpaceOnUse\",id:e.id,viewBox:[c,a,b,m].join(\" \")});e.node.appendChild(this.node);return e};c.marker=function(c,a,b,m,e,h){var d=r(\"marker\",u(this));null==c&&(c=this.getBBox());y(c,\"object\")&&\"x\"in c&&(a=c.y,b=c.width,m=c.height,e=c.refX||c.cx,h=c.refY||c.cy,c=c.x);v(d.node,{viewBox:[c,a,b,m].join(\" \"),markerWidth:b,markerHeight:m,\n",
        "orient:\"auto\",refX:e||0,refY:h||0,id:d.id});d.node.appendChild(this.node);return d};var E=function(c,a,b,m){\"function\"!=typeof b||b.length||(m=b,b=L.linear);this.attr=c;this.dur=a;b&&(this.easing=b);m&&(this.callback=m)};a._.Animation=E;a.animation=function(c,a,b,m){return new E(c,a,b,m)};c.inAnim=function(){var c=[],a;for(a in this.anims)this.anims[h](a)&&function(a){c.push({anim:new E(a._attrs,a.dur,a.easing,a._callback),mina:a,curStatus:a.status(),status:function(c){return a.status(c)},stop:function(){a.stop()}})}(this.anims[a]);\n",
        "return c};a.animate=function(c,a,b,m,e,h){\"function\"!=typeof e||e.length||(h=e,e=L.linear);var d=L.time();c=L(c,a,d,d+m,L.time,b,e);h&&k.once(\"mina.finish.\"+c.id,h);return c};c.stop=function(){for(var c=this.inAnim(),a=0,b=c.length;a<b;a++)c[a].stop();return this};c.animate=function(c,a,b,m){\"function\"!=typeof b||b.length||(m=b,b=L.linear);c instanceof E&&(m=c.callback,b=c.easing,a=b.dur,c=c.attr);var d=[],f=[],l={},t,ca,n,T=this,q;for(q in c)if(c[h](q)){T.equal?(n=T.equal(q,J(c[q])),t=n.from,ca=\n",
        "n.to,n=n.f):(t=+T.attr(q),ca=+c[q]);var la=y(t,\"array\")?t.length:1;l[q]=e(d.length,d.length+la,n);d=d.concat(t);f=f.concat(ca)}t=L.time();var p=L(d,f,t,t+a,L.time,function(c){var a={},b;for(b in l)l[h](b)&&(a[b]=l[b](c));T.attr(a)},b);T.anims[p.id]=p;p._attrs=c;p._callback=m;k(\"snap.animcreated.\"+T.id,p);k.once(\"mina.finish.\"+p.id,function(){delete T.anims[p.id];m&&m.call(T)});k.once(\"mina.stop.\"+p.id,function(){delete T.anims[p.id]});return T};var T={};c.data=function(c,b){var m=T[this.id]=T[this.id]||\n",
        "{};if(0==arguments.length)return k(\"snap.data.get.\"+this.id,this,m,null),m;if(1==arguments.length){if(a.is(c,\"object\")){for(var e in c)c[h](e)&&this.data(e,c[e]);return this}k(\"snap.data.get.\"+this.id,this,m[c],c);return m[c]}m[c]=b;k(\"snap.data.set.\"+this.id,this,b,c);return this};c.removeData=function(c){null==c?T[this.id]={}:T[this.id]&&delete T[this.id][c];return this};c.outerSVG=c.toString=d(1);c.innerSVG=d()})(e.prototype);a.parse=function(c){var a=G.doc.createDocumentFragment(),b=!0,m=G.doc.createElement(\"div\");\n",
        "c=J(c);c.match(/^\\s*<\\s*svg(?:\\s|>)/)||(c=\"<svg>\"+c+\"</svg>\",b=!1);m.innerHTML=c;if(c=m.getElementsByTagName(\"svg\")[0])if(b)a=c;else for(;c.firstChild;)a.appendChild(c.firstChild);m.innerHTML=aa;return new l(a)};l.prototype.select=e.prototype.select;l.prototype.selectAll=e.prototype.selectAll;a.fragment=function(){for(var c=Array.prototype.slice.call(arguments,0),b=G.doc.createDocumentFragment(),m=0,e=c.length;m<e;m++){var h=c[m];h.node&&h.node.nodeType&&b.appendChild(h.node);h.nodeType&&b.appendChild(h);\n",
        "\"string\"==typeof h&&b.appendChild(a.parse(h).node)}return new l(b)};a._.make=r;a._.wrap=x;s.prototype.el=function(c,a){var b=r(c,this.node);a&&b.attr(a);return b};k.on(\"snap.util.getattr\",function(){var c=k.nt(),c=c.substring(c.lastIndexOf(\".\")+1),a=c.replace(/[A-Z]/g,function(c){return\"-\"+c.toLowerCase()});return pa[h](a)?this.node.ownerDocument.defaultView.getComputedStyle(this.node,null).getPropertyValue(a):v(this.node,c)});var pa={\"alignment-baseline\":0,\"baseline-shift\":0,clip:0,\"clip-path\":0,\n",
        "\"clip-rule\":0,color:0,\"color-interpolation\":0,\"color-interpolation-filters\":0,\"color-profile\":0,\"color-rendering\":0,cursor:0,direction:0,display:0,\"dominant-baseline\":0,\"enable-background\":0,fill:0,\"fill-opacity\":0,\"fill-rule\":0,filter:0,\"flood-color\":0,\"flood-opacity\":0,font:0,\"font-family\":0,\"font-size\":0,\"font-size-adjust\":0,\"font-stretch\":0,\"font-style\":0,\"font-variant\":0,\"font-weight\":0,\"glyph-orientation-horizontal\":0,\"glyph-orientation-vertical\":0,\"image-rendering\":0,kerning:0,\"letter-spacing\":0,\n",
        "\"lighting-color\":0,marker:0,\"marker-end\":0,\"marker-mid\":0,\"marker-start\":0,mask:0,opacity:0,overflow:0,\"pointer-events\":0,\"shape-rendering\":0,\"stop-color\":0,\"stop-opacity\":0,stroke:0,\"stroke-dasharray\":0,\"stroke-dashoffset\":0,\"stroke-linecap\":0,\"stroke-linejoin\":0,\"stroke-miterlimit\":0,\"stroke-opacity\":0,\"stroke-width\":0,\"text-anchor\":0,\"text-decoration\":0,\"text-rendering\":0,\"unicode-bidi\":0,visibility:0,\"word-spacing\":0,\"writing-mode\":0};k.on(\"snap.util.attr\",function(c){var a=k.nt(),b={},a=a.substring(a.lastIndexOf(\".\")+\n",
        "1);b[a]=c;var m=a.replace(/-(\\w)/gi,function(c,a){return a.toUpperCase()}),a=a.replace(/[A-Z]/g,function(c){return\"-\"+c.toLowerCase()});pa[h](a)?this.node.style[m]=null==c?aa:c:v(this.node,b)});a.ajax=function(c,a,b,m){var e=new XMLHttpRequest,h=V();if(e){if(y(a,\"function\"))m=b,b=a,a=null;else if(y(a,\"object\")){var d=[],f;for(f in a)a.hasOwnProperty(f)&&d.push(encodeURIComponent(f)+\"=\"+encodeURIComponent(a[f]));a=d.join(\"&\")}e.open(a?\"POST\":\"GET\",c,!0);a&&(e.setRequestHeader(\"X-Requested-With\",\"XMLHttpRequest\"),\n",
        "e.setRequestHeader(\"Content-type\",\"application/x-www-form-urlencoded\"));b&&(k.once(\"snap.ajax.\"+h+\".0\",b),k.once(\"snap.ajax.\"+h+\".200\",b),k.once(\"snap.ajax.\"+h+\".304\",b));e.onreadystatechange=function(){4==e.readyState&&k(\"snap.ajax.\"+h+\".\"+e.status,m,e)};if(4==e.readyState)return e;e.send(a);return e}};a.load=function(c,b,m){a.ajax(c,function(c){c=a.parse(c.responseText);m?b.call(m,c):b(c)})};a.getElementByPoint=function(c,a){var b,m,e=G.doc.elementFromPoint(c,a);if(G.win.opera&&\"svg\"==e.tagName){b=\n",
        "e;m=b.getBoundingClientRect();b=b.ownerDocument;var h=b.body,d=b.documentElement;b=m.top+(g.win.pageYOffset||d.scrollTop||h.scrollTop)-(d.clientTop||h.clientTop||0);m=m.left+(g.win.pageXOffset||d.scrollLeft||h.scrollLeft)-(d.clientLeft||h.clientLeft||0);h=e.createSVGRect();h.x=c-m;h.y=a-b;h.width=h.height=1;b=e.getIntersectionList(h,null);b.length&&(e=b[b.length-1])}return e?x(e):null};a.plugin=function(c){c(a,e,s,G,l)};return G.win.Snap=a}();C.plugin(function(a,k,y,M,A){function w(a,d,f,b,q,e){null==\n",
        "d&&\"[object SVGMatrix]\"==z.call(a)?(this.a=a.a,this.b=a.b,this.c=a.c,this.d=a.d,this.e=a.e,this.f=a.f):null!=a?(this.a=+a,this.b=+d,this.c=+f,this.d=+b,this.e=+q,this.f=+e):(this.a=1,this.c=this.b=0,this.d=1,this.f=this.e=0)}var z=Object.prototype.toString,d=String,f=Math;(function(n){function k(a){return a[0]*a[0]+a[1]*a[1]}function p(a){var d=f.sqrt(k(a));a[0]&&(a[0]/=d);a[1]&&(a[1]/=d)}n.add=function(a,d,e,f,n,p){var k=[[],[],[] ],u=[[this.a,this.c,this.e],[this.b,this.d,this.f],[0,0,1] ];d=[[a,\n",
        "e,n],[d,f,p],[0,0,1] ];a&&a instanceof w&&(d=[[a.a,a.c,a.e],[a.b,a.d,a.f],[0,0,1] ]);for(a=0;3>a;a++)for(e=0;3>e;e++){for(f=n=0;3>f;f++)n+=u[a][f]*d[f][e];k[a][e]=n}this.a=k[0][0];this.b=k[1][0];this.c=k[0][1];this.d=k[1][1];this.e=k[0][2];this.f=k[1][2];return this};n.invert=function(){var a=this.a*this.d-this.b*this.c;return new w(this.d/a,-this.b/a,-this.c/a,this.a/a,(this.c*this.f-this.d*this.e)/a,(this.b*this.e-this.a*this.f)/a)};n.clone=function(){return new w(this.a,this.b,this.c,this.d,this.e,\n",
        "this.f)};n.translate=function(a,d){return this.add(1,0,0,1,a,d)};n.scale=function(a,d,e,f){null==d&&(d=a);(e||f)&&this.add(1,0,0,1,e,f);this.add(a,0,0,d,0,0);(e||f)&&this.add(1,0,0,1,-e,-f);return this};n.rotate=function(b,d,e){b=a.rad(b);d=d||0;e=e||0;var l=+f.cos(b).toFixed(9);b=+f.sin(b).toFixed(9);this.add(l,b,-b,l,d,e);return this.add(1,0,0,1,-d,-e)};n.x=function(a,d){return a*this.a+d*this.c+this.e};n.y=function(a,d){return a*this.b+d*this.d+this.f};n.get=function(a){return+this[d.fromCharCode(97+\n",
        "a)].toFixed(4)};n.toString=function(){return\"matrix(\"+[this.get(0),this.get(1),this.get(2),this.get(3),this.get(4),this.get(5)].join()+\")\"};n.offset=function(){return[this.e.toFixed(4),this.f.toFixed(4)]};n.determinant=function(){return this.a*this.d-this.b*this.c};n.split=function(){var b={};b.dx=this.e;b.dy=this.f;var d=[[this.a,this.c],[this.b,this.d] ];b.scalex=f.sqrt(k(d[0]));p(d[0]);b.shear=d[0][0]*d[1][0]+d[0][1]*d[1][1];d[1]=[d[1][0]-d[0][0]*b.shear,d[1][1]-d[0][1]*b.shear];b.scaley=f.sqrt(k(d[1]));\n",
        "p(d[1]);b.shear/=b.scaley;0>this.determinant()&&(b.scalex=-b.scalex);var e=-d[0][1],d=d[1][1];0>d?(b.rotate=a.deg(f.acos(d)),0>e&&(b.rotate=360-b.rotate)):b.rotate=a.deg(f.asin(e));b.isSimple=!+b.shear.toFixed(9)&&(b.scalex.toFixed(9)==b.scaley.toFixed(9)||!b.rotate);b.isSuperSimple=!+b.shear.toFixed(9)&&b.scalex.toFixed(9)==b.scaley.toFixed(9)&&!b.rotate;b.noRotation=!+b.shear.toFixed(9)&&!b.rotate;return b};n.toTransformString=function(a){a=a||this.split();if(+a.shear.toFixed(9))return\"m\"+[this.get(0),\n",
        "this.get(1),this.get(2),this.get(3),this.get(4),this.get(5)];a.scalex=+a.scalex.toFixed(4);a.scaley=+a.scaley.toFixed(4);a.rotate=+a.rotate.toFixed(4);return(a.dx||a.dy?\"t\"+[+a.dx.toFixed(4),+a.dy.toFixed(4)]:\"\")+(1!=a.scalex||1!=a.scaley?\"s\"+[a.scalex,a.scaley,0,0]:\"\")+(a.rotate?\"r\"+[+a.rotate.toFixed(4),0,0]:\"\")}})(w.prototype);a.Matrix=w;a.matrix=function(a,d,f,b,k,e){return new w(a,d,f,b,k,e)}});C.plugin(function(a,v,y,M,A){function w(h){return function(d){k.stop();d instanceof A&&1==d.node.childNodes.length&&\n",
        "(\"radialGradient\"==d.node.firstChild.tagName||\"linearGradient\"==d.node.firstChild.tagName||\"pattern\"==d.node.firstChild.tagName)&&(d=d.node.firstChild,b(this).appendChild(d),d=u(d));if(d instanceof v)if(\"radialGradient\"==d.type||\"linearGradient\"==d.type||\"pattern\"==d.type){d.node.id||e(d.node,{id:d.id});var f=l(d.node.id)}else f=d.attr(h);else f=a.color(d),f.error?(f=a(b(this).ownerSVGElement).gradient(d))?(f.node.id||e(f.node,{id:f.id}),f=l(f.node.id)):f=d:f=r(f);d={};d[h]=f;e(this.node,d);this.node.style[h]=\n",
        "x}}function z(a){k.stop();a==+a&&(a+=\"px\");this.node.style.fontSize=a}function d(a){var b=[];a=a.childNodes;for(var e=0,f=a.length;e<f;e++){var l=a[e];3==l.nodeType&&b.push(l.nodeValue);\"tspan\"==l.tagName&&(1==l.childNodes.length&&3==l.firstChild.nodeType?b.push(l.firstChild.nodeValue):b.push(d(l)))}return b}function f(){k.stop();return this.node.style.fontSize}var n=a._.make,u=a._.wrap,p=a.is,b=a._.getSomeDefs,q=/^url\\(#?([^)]+)\\)$/,e=a._.$,l=a.url,r=String,s=a._.separator,x=\"\";k.on(\"snap.util.attr.mask\",\n",
        "function(a){if(a instanceof v||a instanceof A){k.stop();a instanceof A&&1==a.node.childNodes.length&&(a=a.node.firstChild,b(this).appendChild(a),a=u(a));if(\"mask\"==a.type)var d=a;else d=n(\"mask\",b(this)),d.node.appendChild(a.node);!d.node.id&&e(d.node,{id:d.id});e(this.node,{mask:l(d.id)})}});(function(a){k.on(\"snap.util.attr.clip\",a);k.on(\"snap.util.attr.clip-path\",a);k.on(\"snap.util.attr.clipPath\",a)})(function(a){if(a instanceof v||a instanceof A){k.stop();if(\"clipPath\"==a.type)var d=a;else d=\n",
        "n(\"clipPath\",b(this)),d.node.appendChild(a.node),!d.node.id&&e(d.node,{id:d.id});e(this.node,{\"clip-path\":l(d.id)})}});k.on(\"snap.util.attr.fill\",w(\"fill\"));k.on(\"snap.util.attr.stroke\",w(\"stroke\"));var G=/^([lr])(?:\\(([^)]*)\\))?(.*)$/i;k.on(\"snap.util.grad.parse\",function(a){a=r(a);var b=a.match(G);if(!b)return null;a=b[1];var e=b[2],b=b[3],e=e.split(/\\s*,\\s*/).map(function(a){return+a==a?+a:a});1==e.length&&0==e[0]&&(e=[]);b=b.split(\"-\");b=b.map(function(a){a=a.split(\":\");var b={color:a[0]};a[1]&&\n",
        "(b.offset=parseFloat(a[1]));return b});return{type:a,params:e,stops:b}});k.on(\"snap.util.attr.d\",function(b){k.stop();p(b,\"array\")&&p(b[0],\"array\")&&(b=a.path.toString.call(b));b=r(b);b.match(/[ruo]/i)&&(b=a.path.toAbsolute(b));e(this.node,{d:b})})(-1);k.on(\"snap.util.attr.#text\",function(a){k.stop();a=r(a);for(a=M.doc.createTextNode(a);this.node.firstChild;)this.node.removeChild(this.node.firstChild);this.node.appendChild(a)})(-1);k.on(\"snap.util.attr.path\",function(a){k.stop();this.attr({d:a})})(-1);\n",
        "k.on(\"snap.util.attr.class\",function(a){k.stop();this.node.className.baseVal=a})(-1);k.on(\"snap.util.attr.viewBox\",function(a){a=p(a,\"object\")&&\"x\"in a?[a.x,a.y,a.width,a.height].join(\" \"):p(a,\"array\")?a.join(\" \"):a;e(this.node,{viewBox:a});k.stop()})(-1);k.on(\"snap.util.attr.transform\",function(a){this.transform(a);k.stop()})(-1);k.on(\"snap.util.attr.r\",function(a){\"rect\"==this.type&&(k.stop(),e(this.node,{rx:a,ry:a}))})(-1);k.on(\"snap.util.attr.textpath\",function(a){k.stop();if(\"text\"==this.type){var d,\n",
        "f;if(!a&&this.textPath){for(a=this.textPath;a.node.firstChild;)this.node.appendChild(a.node.firstChild);a.remove();delete this.textPath}else if(p(a,\"string\")?(d=b(this),a=u(d.parentNode).path(a),d.appendChild(a.node),d=a.id,a.attr({id:d})):(a=u(a),a instanceof v&&(d=a.attr(\"id\"),d||(d=a.id,a.attr({id:d})))),d)if(a=this.textPath,f=this.node,a)a.attr({\"xlink:href\":\"#\"+d});else{for(a=e(\"textPath\",{\"xlink:href\":\"#\"+d});f.firstChild;)a.appendChild(f.firstChild);f.appendChild(a);this.textPath=u(a)}}})(-1);\n",
        "k.on(\"snap.util.attr.text\",function(a){if(\"text\"==this.type){for(var b=this.node,d=function(a){var b=e(\"tspan\");if(p(a,\"array\"))for(var f=0;f<a.length;f++)b.appendChild(d(a[f]));else b.appendChild(M.doc.createTextNode(a));b.normalize&&b.normalize();return b};b.firstChild;)b.removeChild(b.firstChild);for(a=d(a);a.firstChild;)b.appendChild(a.firstChild)}k.stop()})(-1);k.on(\"snap.util.attr.fontSize\",z)(-1);k.on(\"snap.util.attr.font-size\",z)(-1);k.on(\"snap.util.getattr.transform\",function(){k.stop();\n",
        "return this.transform()})(-1);k.on(\"snap.util.getattr.textpath\",function(){k.stop();return this.textPath})(-1);(function(){function b(d){return function(){k.stop();var b=M.doc.defaultView.getComputedStyle(this.node,null).getPropertyValue(\"marker-\"+d);return\"none\"==b?b:a(M.doc.getElementById(b.match(q)[1]))}}function d(a){return function(b){k.stop();var d=\"marker\"+a.charAt(0).toUpperCase()+a.substring(1);if(\"\"==b||!b)this.node.style[d]=\"none\";else if(\"marker\"==b.type){var f=b.node.id;f||e(b.node,{id:b.id});\n",
        "this.node.style[d]=l(f)}}}k.on(\"snap.util.getattr.marker-end\",b(\"end\"))(-1);k.on(\"snap.util.getattr.markerEnd\",b(\"end\"))(-1);k.on(\"snap.util.getattr.marker-start\",b(\"start\"))(-1);k.on(\"snap.util.getattr.markerStart\",b(\"start\"))(-1);k.on(\"snap.util.getattr.marker-mid\",b(\"mid\"))(-1);k.on(\"snap.util.getattr.markerMid\",b(\"mid\"))(-1);k.on(\"snap.util.attr.marker-end\",d(\"end\"))(-1);k.on(\"snap.util.attr.markerEnd\",d(\"end\"))(-1);k.on(\"snap.util.attr.marker-start\",d(\"start\"))(-1);k.on(\"snap.util.attr.markerStart\",\n",
        "d(\"start\"))(-1);k.on(\"snap.util.attr.marker-mid\",d(\"mid\"))(-1);k.on(\"snap.util.attr.markerMid\",d(\"mid\"))(-1)})();k.on(\"snap.util.getattr.r\",function(){if(\"rect\"==this.type&&e(this.node,\"rx\")==e(this.node,\"ry\"))return k.stop(),e(this.node,\"rx\")})(-1);k.on(\"snap.util.getattr.text\",function(){if(\"text\"==this.type||\"tspan\"==this.type){k.stop();var a=d(this.node);return 1==a.length?a[0]:a}})(-1);k.on(\"snap.util.getattr.#text\",function(){return this.node.textContent})(-1);k.on(\"snap.util.getattr.viewBox\",\n",
        "function(){k.stop();var b=e(this.node,\"viewBox\");if(b)return b=b.split(s),a._.box(+b[0],+b[1],+b[2],+b[3])})(-1);k.on(\"snap.util.getattr.points\",function(){var a=e(this.node,\"points\");k.stop();if(a)return a.split(s)})(-1);k.on(\"snap.util.getattr.path\",function(){var a=e(this.node,\"d\");k.stop();return a})(-1);k.on(\"snap.util.getattr.class\",function(){return this.node.className.baseVal})(-1);k.on(\"snap.util.getattr.fontSize\",f)(-1);k.on(\"snap.util.getattr.font-size\",f)(-1)});C.plugin(function(a,v,y,\n",
        "M,A){function w(a){return a}function z(a){return function(b){return+b.toFixed(3)+a}}var d={\"+\":function(a,b){return a+b},\"-\":function(a,b){return a-b},\"/\":function(a,b){return a/b},\"*\":function(a,b){return a*b}},f=String,n=/[a-z]+$/i,u=/^\\s*([+\\-\\/*])\\s*=\\s*([\\d.eE+\\-]+)\\s*([^\\d\\s]+)?\\s*$/;k.on(\"snap.util.attr\",function(a){if(a=f(a).match(u)){var b=k.nt(),b=b.substring(b.lastIndexOf(\".\")+1),q=this.attr(b),e={};k.stop();var l=a[3]||\"\",r=q.match(n),s=d[a[1] ];r&&r==l?a=s(parseFloat(q),+a[2]):(q=this.asPX(b),\n",
        "a=s(this.asPX(b),this.asPX(b,a[2]+l)));isNaN(q)||isNaN(a)||(e[b]=a,this.attr(e))}})(-10);k.on(\"snap.util.equal\",function(a,b){var q=f(this.attr(a)||\"\"),e=f(b).match(u);if(e){k.stop();var l=e[3]||\"\",r=q.match(n),s=d[e[1] ];if(r&&r==l)return{from:parseFloat(q),to:s(parseFloat(q),+e[2]),f:z(r)};q=this.asPX(a);return{from:q,to:s(q,this.asPX(a,e[2]+l)),f:w}}})(-10)});C.plugin(function(a,v,y,M,A){var w=y.prototype,z=a.is;w.rect=function(a,d,k,p,b,q){var e;null==q&&(q=b);z(a,\"object\")&&\"[object Object]\"==\n",
        "a?e=a:null!=a&&(e={x:a,y:d,width:k,height:p},null!=b&&(e.rx=b,e.ry=q));return this.el(\"rect\",e)};w.circle=function(a,d,k){var p;z(a,\"object\")&&\"[object Object]\"==a?p=a:null!=a&&(p={cx:a,cy:d,r:k});return this.el(\"circle\",p)};var d=function(){function a(){this.parentNode.removeChild(this)}return function(d,k){var p=M.doc.createElement(\"img\"),b=M.doc.body;p.style.cssText=\"position:absolute;left:-9999em;top:-9999em\";p.onload=function(){k.call(p);p.onload=p.onerror=null;b.removeChild(p)};p.onerror=a;\n",
        "b.appendChild(p);p.src=d}}();w.image=function(f,n,k,p,b){var q=this.el(\"image\");if(z(f,\"object\")&&\"src\"in f)q.attr(f);else if(null!=f){var e={\"xlink:href\":f,preserveAspectRatio:\"none\"};null!=n&&null!=k&&(e.x=n,e.y=k);null!=p&&null!=b?(e.width=p,e.height=b):d(f,function(){a._.$(q.node,{width:this.offsetWidth,height:this.offsetHeight})});a._.$(q.node,e)}return q};w.ellipse=function(a,d,k,p){var b;z(a,\"object\")&&\"[object Object]\"==a?b=a:null!=a&&(b={cx:a,cy:d,rx:k,ry:p});return this.el(\"ellipse\",b)};\n",
        "w.path=function(a){var d;z(a,\"object\")&&!z(a,\"array\")?d=a:a&&(d={d:a});return this.el(\"path\",d)};w.group=w.g=function(a){var d=this.el(\"g\");1==arguments.length&&a&&!a.type?d.attr(a):arguments.length&&d.add(Array.prototype.slice.call(arguments,0));return d};w.svg=function(a,d,k,p,b,q,e,l){var r={};z(a,\"object\")&&null==d?r=a:(null!=a&&(r.x=a),null!=d&&(r.y=d),null!=k&&(r.width=k),null!=p&&(r.height=p),null!=b&&null!=q&&null!=e&&null!=l&&(r.viewBox=[b,q,e,l]));return this.el(\"svg\",r)};w.mask=function(a){var d=\n",
        "this.el(\"mask\");1==arguments.length&&a&&!a.type?d.attr(a):arguments.length&&d.add(Array.prototype.slice.call(arguments,0));return d};w.ptrn=function(a,d,k,p,b,q,e,l){if(z(a,\"object\"))var r=a;else arguments.length?(r={},null!=a&&(r.x=a),null!=d&&(r.y=d),null!=k&&(r.width=k),null!=p&&(r.height=p),null!=b&&null!=q&&null!=e&&null!=l&&(r.viewBox=[b,q,e,l])):r={patternUnits:\"userSpaceOnUse\"};return this.el(\"pattern\",r)};w.use=function(a){return null!=a?(make(\"use\",this.node),a instanceof v&&(a.attr(\"id\")||\n",
        "a.attr({id:ID()}),a=a.attr(\"id\")),this.el(\"use\",{\"xlink:href\":a})):v.prototype.use.call(this)};w.text=function(a,d,k){var p={};z(a,\"object\")?p=a:null!=a&&(p={x:a,y:d,text:k||\"\"});return this.el(\"text\",p)};w.line=function(a,d,k,p){var b={};z(a,\"object\")?b=a:null!=a&&(b={x1:a,x2:k,y1:d,y2:p});return this.el(\"line\",b)};w.polyline=function(a){1<arguments.length&&(a=Array.prototype.slice.call(arguments,0));var d={};z(a,\"object\")&&!z(a,\"array\")?d=a:null!=a&&(d={points:a});return this.el(\"polyline\",d)};\n",
        "w.polygon=function(a){1<arguments.length&&(a=Array.prototype.slice.call(arguments,0));var d={};z(a,\"object\")&&!z(a,\"array\")?d=a:null!=a&&(d={points:a});return this.el(\"polygon\",d)};(function(){function d(){return this.selectAll(\"stop\")}function n(b,d){var f=e(\"stop\"),k={offset:+d+\"%\"};b=a.color(b);k[\"stop-color\"]=b.hex;1>b.opacity&&(k[\"stop-opacity\"]=b.opacity);e(f,k);this.node.appendChild(f);return this}function u(){if(\"linearGradient\"==this.type){var b=e(this.node,\"x1\")||0,d=e(this.node,\"x2\")||\n",
        "1,f=e(this.node,\"y1\")||0,k=e(this.node,\"y2\")||0;return a._.box(b,f,math.abs(d-b),math.abs(k-f))}b=this.node.r||0;return a._.box((this.node.cx||0.5)-b,(this.node.cy||0.5)-b,2*b,2*b)}function p(a,d){function f(a,b){for(var d=(b-u)/(a-w),e=w;e<a;e++)h[e].offset=+(+u+d*(e-w)).toFixed(2);w=a;u=b}var n=k(\"snap.util.grad.parse\",null,d).firstDefined(),p;if(!n)return null;n.params.unshift(a);p=\"l\"==n.type.toLowerCase()?b.apply(0,n.params):q.apply(0,n.params);n.type!=n.type.toLowerCase()&&e(p.node,{gradientUnits:\"userSpaceOnUse\"});\n",
        "var h=n.stops,n=h.length,u=0,w=0;n--;for(var v=0;v<n;v++)\"offset\"in h[v]&&f(v,h[v].offset);h[n].offset=h[n].offset||100;f(n,h[n].offset);for(v=0;v<=n;v++){var y=h[v];p.addStop(y.color,y.offset)}return p}function b(b,k,p,q,w){b=a._.make(\"linearGradient\",b);b.stops=d;b.addStop=n;b.getBBox=u;null!=k&&e(b.node,{x1:k,y1:p,x2:q,y2:w});return b}function q(b,k,p,q,w,h){b=a._.make(\"radialGradient\",b);b.stops=d;b.addStop=n;b.getBBox=u;null!=k&&e(b.node,{cx:k,cy:p,r:q});null!=w&&null!=h&&e(b.node,{fx:w,fy:h});\n",
        "return b}var e=a._.$;w.gradient=function(a){return p(this.defs,a)};w.gradientLinear=function(a,d,e,f){return b(this.defs,a,d,e,f)};w.gradientRadial=function(a,b,d,e,f){return q(this.defs,a,b,d,e,f)};w.toString=function(){var b=this.node.ownerDocument,d=b.createDocumentFragment(),b=b.createElement(\"div\"),e=this.node.cloneNode(!0);d.appendChild(b);b.appendChild(e);a._.$(e,{xmlns:\"http://www.w3.org/2000/svg\"});b=b.innerHTML;d.removeChild(d.firstChild);return b};w.clear=function(){for(var a=this.node.firstChild,\n",
        "b;a;)b=a.nextSibling,\"defs\"!=a.tagName?a.parentNode.removeChild(a):w.clear.call({node:a}),a=b}})()});C.plugin(function(a,k,y,M){function A(a){var b=A.ps=A.ps||{};b[a]?b[a].sleep=100:b[a]={sleep:100};setTimeout(function(){for(var d in b)b[L](d)&&d!=a&&(b[d].sleep--,!b[d].sleep&&delete b[d])});return b[a]}function w(a,b,d,e){null==a&&(a=b=d=e=0);null==b&&(b=a.y,d=a.width,e=a.height,a=a.x);return{x:a,y:b,width:d,w:d,height:e,h:e,x2:a+d,y2:b+e,cx:a+d/2,cy:b+e/2,r1:F.min(d,e)/2,r2:F.max(d,e)/2,r0:F.sqrt(d*\n",
        "d+e*e)/2,path:s(a,b,d,e),vb:[a,b,d,e].join(\" \")}}function z(){return this.join(\",\").replace(N,\"$1\")}function d(a){a=C(a);a.toString=z;return a}function f(a,b,d,h,f,k,l,n,p){if(null==p)return e(a,b,d,h,f,k,l,n);if(0>p||e(a,b,d,h,f,k,l,n)<p)p=void 0;else{var q=0.5,O=1-q,s;for(s=e(a,b,d,h,f,k,l,n,O);0.01<Z(s-p);)q/=2,O+=(s<p?1:-1)*q,s=e(a,b,d,h,f,k,l,n,O);p=O}return u(a,b,d,h,f,k,l,n,p)}function n(b,d){function e(a){return+(+a).toFixed(3)}return a._.cacher(function(a,h,l){a instanceof k&&(a=a.attr(\"d\"));\n",
        "a=I(a);for(var n,p,D,q,O=\"\",s={},c=0,t=0,r=a.length;t<r;t++){D=a[t];if(\"M\"==D[0])n=+D[1],p=+D[2];else{q=f(n,p,D[1],D[2],D[3],D[4],D[5],D[6]);if(c+q>h){if(d&&!s.start){n=f(n,p,D[1],D[2],D[3],D[4],D[5],D[6],h-c);O+=[\"C\"+e(n.start.x),e(n.start.y),e(n.m.x),e(n.m.y),e(n.x),e(n.y)];if(l)return O;s.start=O;O=[\"M\"+e(n.x),e(n.y)+\"C\"+e(n.n.x),e(n.n.y),e(n.end.x),e(n.end.y),e(D[5]),e(D[6])].join();c+=q;n=+D[5];p=+D[6];continue}if(!b&&!d)return n=f(n,p,D[1],D[2],D[3],D[4],D[5],D[6],h-c)}c+=q;n=+D[5];p=+D[6]}O+=\n",
        "D.shift()+D}s.end=O;return n=b?c:d?s:u(n,p,D[0],D[1],D[2],D[3],D[4],D[5],1)},null,a._.clone)}function u(a,b,d,e,h,f,k,l,n){var p=1-n,q=ma(p,3),s=ma(p,2),c=n*n,t=c*n,r=q*a+3*s*n*d+3*p*n*n*h+t*k,q=q*b+3*s*n*e+3*p*n*n*f+t*l,s=a+2*n*(d-a)+c*(h-2*d+a),t=b+2*n*(e-b)+c*(f-2*e+b),x=d+2*n*(h-d)+c*(k-2*h+d),c=e+2*n*(f-e)+c*(l-2*f+e);a=p*a+n*d;b=p*b+n*e;h=p*h+n*k;f=p*f+n*l;l=90-180*F.atan2(s-x,t-c)/S;return{x:r,y:q,m:{x:s,y:t},n:{x:x,y:c},start:{x:a,y:b},end:{x:h,y:f},alpha:l}}function p(b,d,e,h,f,n,k,l){a.is(b,\n",
        "\"array\")||(b=[b,d,e,h,f,n,k,l]);b=U.apply(null,b);return w(b.min.x,b.min.y,b.max.x-b.min.x,b.max.y-b.min.y)}function b(a,b,d){return b>=a.x&&b<=a.x+a.width&&d>=a.y&&d<=a.y+a.height}function q(a,d){a=w(a);d=w(d);return b(d,a.x,a.y)||b(d,a.x2,a.y)||b(d,a.x,a.y2)||b(d,a.x2,a.y2)||b(a,d.x,d.y)||b(a,d.x2,d.y)||b(a,d.x,d.y2)||b(a,d.x2,d.y2)||(a.x<d.x2&&a.x>d.x||d.x<a.x2&&d.x>a.x)&&(a.y<d.y2&&a.y>d.y||d.y<a.y2&&d.y>a.y)}function e(a,b,d,e,h,f,n,k,l){null==l&&(l=1);l=(1<l?1:0>l?0:l)/2;for(var p=[-0.1252,\n",
        "0.1252,-0.3678,0.3678,-0.5873,0.5873,-0.7699,0.7699,-0.9041,0.9041,-0.9816,0.9816],q=[0.2491,0.2491,0.2335,0.2335,0.2032,0.2032,0.1601,0.1601,0.1069,0.1069,0.0472,0.0472],s=0,c=0;12>c;c++)var t=l*p[c]+l,r=t*(t*(-3*a+9*d-9*h+3*n)+6*a-12*d+6*h)-3*a+3*d,t=t*(t*(-3*b+9*e-9*f+3*k)+6*b-12*e+6*f)-3*b+3*e,s=s+q[c]*F.sqrt(r*r+t*t);return l*s}function l(a,b,d){a=I(a);b=I(b);for(var h,f,l,n,k,s,r,O,x,c,t=d?0:[],w=0,v=a.length;w<v;w++)if(x=a[w],\"M\"==x[0])h=k=x[1],f=s=x[2];else{\"C\"==x[0]?(x=[h,f].concat(x.slice(1)),\n",
        "h=x[6],f=x[7]):(x=[h,f,h,f,k,s,k,s],h=k,f=s);for(var G=0,y=b.length;G<y;G++)if(c=b[G],\"M\"==c[0])l=r=c[1],n=O=c[2];else{\"C\"==c[0]?(c=[l,n].concat(c.slice(1)),l=c[6],n=c[7]):(c=[l,n,l,n,r,O,r,O],l=r,n=O);var z;var K=x,B=c;z=d;var H=p(K),J=p(B);if(q(H,J)){for(var H=e.apply(0,K),J=e.apply(0,B),H=~~(H/8),J=~~(J/8),U=[],A=[],F={},M=z?0:[],P=0;P<H+1;P++){var C=u.apply(0,K.concat(P/H));U.push({x:C.x,y:C.y,t:P/H})}for(P=0;P<J+1;P++)C=u.apply(0,B.concat(P/J)),A.push({x:C.x,y:C.y,t:P/J});for(P=0;P<H;P++)for(K=\n",
        "0;K<J;K++){var Q=U[P],L=U[P+1],B=A[K],C=A[K+1],N=0.001>Z(L.x-Q.x)?\"y\":\"x\",S=0.001>Z(C.x-B.x)?\"y\":\"x\",R;R=Q.x;var Y=Q.y,V=L.x,ea=L.y,fa=B.x,ga=B.y,ha=C.x,ia=C.y;if(W(R,V)<X(fa,ha)||X(R,V)>W(fa,ha)||W(Y,ea)<X(ga,ia)||X(Y,ea)>W(ga,ia))R=void 0;else{var $=(R*ea-Y*V)*(fa-ha)-(R-V)*(fa*ia-ga*ha),aa=(R*ea-Y*V)*(ga-ia)-(Y-ea)*(fa*ia-ga*ha),ja=(R-V)*(ga-ia)-(Y-ea)*(fa-ha);if(ja){var $=$/ja,aa=aa/ja,ja=+$.toFixed(2),ba=+aa.toFixed(2);R=ja<+X(R,V).toFixed(2)||ja>+W(R,V).toFixed(2)||ja<+X(fa,ha).toFixed(2)||\n",
        "ja>+W(fa,ha).toFixed(2)||ba<+X(Y,ea).toFixed(2)||ba>+W(Y,ea).toFixed(2)||ba<+X(ga,ia).toFixed(2)||ba>+W(ga,ia).toFixed(2)?void 0:{x:$,y:aa}}else R=void 0}R&&F[R.x.toFixed(4)]!=R.y.toFixed(4)&&(F[R.x.toFixed(4)]=R.y.toFixed(4),Q=Q.t+Z((R[N]-Q[N])/(L[N]-Q[N]))*(L.t-Q.t),B=B.t+Z((R[S]-B[S])/(C[S]-B[S]))*(C.t-B.t),0<=Q&&1>=Q&&0<=B&&1>=B&&(z?M++:M.push({x:R.x,y:R.y,t1:Q,t2:B})))}z=M}else z=z?0:[];if(d)t+=z;else{H=0;for(J=z.length;H<J;H++)z[H].segment1=w,z[H].segment2=G,z[H].bez1=x,z[H].bez2=c;t=t.concat(z)}}}return t}\n",
        "function r(a){var b=A(a);if(b.bbox)return C(b.bbox);if(!a)return w();a=I(a);for(var d=0,e=0,h=[],f=[],l,n=0,k=a.length;n<k;n++)l=a[n],\"M\"==l[0]?(d=l[1],e=l[2],h.push(d),f.push(e)):(d=U(d,e,l[1],l[2],l[3],l[4],l[5],l[6]),h=h.concat(d.min.x,d.max.x),f=f.concat(d.min.y,d.max.y),d=l[5],e=l[6]);a=X.apply(0,h);l=X.apply(0,f);h=W.apply(0,h);f=W.apply(0,f);f=w(a,l,h-a,f-l);b.bbox=C(f);return f}function s(a,b,d,e,h){if(h)return[[\"M\",+a+ +h,b],[\"l\",d-2*h,0],[\"a\",h,h,0,0,1,h,h],[\"l\",0,e-2*h],[\"a\",h,h,0,0,1,\n",
        "-h,h],[\"l\",2*h-d,0],[\"a\",h,h,0,0,1,-h,-h],[\"l\",0,2*h-e],[\"a\",h,h,0,0,1,h,-h],[\"z\"] ];a=[[\"M\",a,b],[\"l\",d,0],[\"l\",0,e],[\"l\",-d,0],[\"z\"] ];a.toString=z;return a}function x(a,b,d,e,h){null==h&&null==e&&(e=d);a=+a;b=+b;d=+d;e=+e;if(null!=h){var f=Math.PI/180,l=a+d*Math.cos(-e*f);a+=d*Math.cos(-h*f);var n=b+d*Math.sin(-e*f);b+=d*Math.sin(-h*f);d=[[\"M\",l,n],[\"A\",d,d,0,+(180<h-e),0,a,b] ]}else d=[[\"M\",a,b],[\"m\",0,-e],[\"a\",d,e,0,1,1,0,2*e],[\"a\",d,e,0,1,1,0,-2*e],[\"z\"] ];d.toString=z;return d}function G(b){var e=\n",
        "A(b);if(e.abs)return d(e.abs);Q(b,\"array\")&&Q(b&&b[0],\"array\")||(b=a.parsePathString(b));if(!b||!b.length)return[[\"M\",0,0] ];var h=[],f=0,l=0,n=0,k=0,p=0;\"M\"==b[0][0]&&(f=+b[0][1],l=+b[0][2],n=f,k=l,p++,h[0]=[\"M\",f,l]);for(var q=3==b.length&&\"M\"==b[0][0]&&\"R\"==b[1][0].toUpperCase()&&\"Z\"==b[2][0].toUpperCase(),s,r,w=p,c=b.length;w<c;w++){h.push(s=[]);r=b[w];p=r[0];if(p!=p.toUpperCase())switch(s[0]=p.toUpperCase(),s[0]){case \"A\":s[1]=r[1];s[2]=r[2];s[3]=r[3];s[4]=r[4];s[5]=r[5];s[6]=+r[6]+f;s[7]=+r[7]+\n",
        "l;break;case \"V\":s[1]=+r[1]+l;break;case \"H\":s[1]=+r[1]+f;break;case \"R\":for(var t=[f,l].concat(r.slice(1)),u=2,v=t.length;u<v;u++)t[u]=+t[u]+f,t[++u]=+t[u]+l;h.pop();h=h.concat(P(t,q));break;case \"O\":h.pop();t=x(f,l,r[1],r[2]);t.push(t[0]);h=h.concat(t);break;case \"U\":h.pop();h=h.concat(x(f,l,r[1],r[2],r[3]));s=[\"U\"].concat(h[h.length-1].slice(-2));break;case \"M\":n=+r[1]+f,k=+r[2]+l;default:for(u=1,v=r.length;u<v;u++)s[u]=+r[u]+(u%2?f:l)}else if(\"R\"==p)t=[f,l].concat(r.slice(1)),h.pop(),h=h.concat(P(t,\n",
        "q)),s=[\"R\"].concat(r.slice(-2));else if(\"O\"==p)h.pop(),t=x(f,l,r[1],r[2]),t.push(t[0]),h=h.concat(t);else if(\"U\"==p)h.pop(),h=h.concat(x(f,l,r[1],r[2],r[3])),s=[\"U\"].concat(h[h.length-1].slice(-2));else for(t=0,u=r.length;t<u;t++)s[t]=r[t];p=p.toUpperCase();if(\"O\"!=p)switch(s[0]){case \"Z\":f=+n;l=+k;break;case \"H\":f=s[1];break;case \"V\":l=s[1];break;case \"M\":n=s[s.length-2],k=s[s.length-1];default:f=s[s.length-2],l=s[s.length-1]}}h.toString=z;e.abs=d(h);return h}function h(a,b,d,e){return[a,b,d,e,d,\n",
        "e]}function J(a,b,d,e,h,f){var l=1/3,n=2/3;return[l*a+n*d,l*b+n*e,l*h+n*d,l*f+n*e,h,f]}function K(b,d,e,h,f,l,n,k,p,s){var r=120*S/180,q=S/180*(+f||0),c=[],t,x=a._.cacher(function(a,b,c){var d=a*F.cos(c)-b*F.sin(c);a=a*F.sin(c)+b*F.cos(c);return{x:d,y:a}});if(s)v=s[0],t=s[1],l=s[2],u=s[3];else{t=x(b,d,-q);b=t.x;d=t.y;t=x(k,p,-q);k=t.x;p=t.y;F.cos(S/180*f);F.sin(S/180*f);t=(b-k)/2;v=(d-p)/2;u=t*t/(e*e)+v*v/(h*h);1<u&&(u=F.sqrt(u),e*=u,h*=u);var u=e*e,w=h*h,u=(l==n?-1:1)*F.sqrt(Z((u*w-u*v*v-w*t*t)/\n",
        "(u*v*v+w*t*t)));l=u*e*v/h+(b+k)/2;var u=u*-h*t/e+(d+p)/2,v=F.asin(((d-u)/h).toFixed(9));t=F.asin(((p-u)/h).toFixed(9));v=b<l?S-v:v;t=k<l?S-t:t;0>v&&(v=2*S+v);0>t&&(t=2*S+t);n&&v>t&&(v-=2*S);!n&&t>v&&(t-=2*S)}if(Z(t-v)>r){var c=t,w=k,G=p;t=v+r*(n&&t>v?1:-1);k=l+e*F.cos(t);p=u+h*F.sin(t);c=K(k,p,e,h,f,0,n,w,G,[t,c,l,u])}l=t-v;f=F.cos(v);r=F.sin(v);n=F.cos(t);t=F.sin(t);l=F.tan(l/4);e=4/3*e*l;l*=4/3*h;h=[b,d];b=[b+e*r,d-l*f];d=[k+e*t,p-l*n];k=[k,p];b[0]=2*h[0]-b[0];b[1]=2*h[1]-b[1];if(s)return[b,d,k].concat(c);\n",
        "c=[b,d,k].concat(c).join().split(\",\");s=[];k=0;for(p=c.length;k<p;k++)s[k]=k%2?x(c[k-1],c[k],q).y:x(c[k],c[k+1],q).x;return s}function U(a,b,d,e,h,f,l,k){for(var n=[],p=[[],[] ],s,r,c,t,q=0;2>q;++q)0==q?(r=6*a-12*d+6*h,s=-3*a+9*d-9*h+3*l,c=3*d-3*a):(r=6*b-12*e+6*f,s=-3*b+9*e-9*f+3*k,c=3*e-3*b),1E-12>Z(s)?1E-12>Z(r)||(s=-c/r,0<s&&1>s&&n.push(s)):(t=r*r-4*c*s,c=F.sqrt(t),0>t||(t=(-r+c)/(2*s),0<t&&1>t&&n.push(t),s=(-r-c)/(2*s),0<s&&1>s&&n.push(s)));for(r=q=n.length;q--;)s=n[q],c=1-s,p[0][q]=c*c*c*a+3*\n",
        "c*c*s*d+3*c*s*s*h+s*s*s*l,p[1][q]=c*c*c*b+3*c*c*s*e+3*c*s*s*f+s*s*s*k;p[0][r]=a;p[1][r]=b;p[0][r+1]=l;p[1][r+1]=k;p[0].length=p[1].length=r+2;return{min:{x:X.apply(0,p[0]),y:X.apply(0,p[1])},max:{x:W.apply(0,p[0]),y:W.apply(0,p[1])}}}function I(a,b){var e=!b&&A(a);if(!b&&e.curve)return d(e.curve);var f=G(a),l=b&&G(b),n={x:0,y:0,bx:0,by:0,X:0,Y:0,qx:null,qy:null},k={x:0,y:0,bx:0,by:0,X:0,Y:0,qx:null,qy:null},p=function(a,b,c){if(!a)return[\"C\",b.x,b.y,b.x,b.y,b.x,b.y];a[0]in{T:1,Q:1}||(b.qx=b.qy=null);\n",
        "switch(a[0]){case \"M\":b.X=a[1];b.Y=a[2];break;case \"A\":a=[\"C\"].concat(K.apply(0,[b.x,b.y].concat(a.slice(1))));break;case \"S\":\"C\"==c||\"S\"==c?(c=2*b.x-b.bx,b=2*b.y-b.by):(c=b.x,b=b.y);a=[\"C\",c,b].concat(a.slice(1));break;case \"T\":\"Q\"==c||\"T\"==c?(b.qx=2*b.x-b.qx,b.qy=2*b.y-b.qy):(b.qx=b.x,b.qy=b.y);a=[\"C\"].concat(J(b.x,b.y,b.qx,b.qy,a[1],a[2]));break;case \"Q\":b.qx=a[1];b.qy=a[2];a=[\"C\"].concat(J(b.x,b.y,a[1],a[2],a[3],a[4]));break;case \"L\":a=[\"C\"].concat(h(b.x,b.y,a[1],a[2]));break;case \"H\":a=[\"C\"].concat(h(b.x,\n",
        "b.y,a[1],b.y));break;case \"V\":a=[\"C\"].concat(h(b.x,b.y,b.x,a[1]));break;case \"Z\":a=[\"C\"].concat(h(b.x,b.y,b.X,b.Y))}return a},s=function(a,b){if(7<a[b].length){a[b].shift();for(var c=a[b];c.length;)q[b]=\"A\",l&&(u[b]=\"A\"),a.splice(b++,0,[\"C\"].concat(c.splice(0,6)));a.splice(b,1);v=W(f.length,l&&l.length||0)}},r=function(a,b,c,d,e){a&&b&&\"M\"==a[e][0]&&\"M\"!=b[e][0]&&(b.splice(e,0,[\"M\",d.x,d.y]),c.bx=0,c.by=0,c.x=a[e][1],c.y=a[e][2],v=W(f.length,l&&l.length||0))},q=[],u=[],c=\"\",t=\"\",x=0,v=W(f.length,\n",
        "l&&l.length||0);for(;x<v;x++){f[x]&&(c=f[x][0]);\"C\"!=c&&(q[x]=c,x&&(t=q[x-1]));f[x]=p(f[x],n,t);\"A\"!=q[x]&&\"C\"==c&&(q[x]=\"C\");s(f,x);l&&(l[x]&&(c=l[x][0]),\"C\"!=c&&(u[x]=c,x&&(t=u[x-1])),l[x]=p(l[x],k,t),\"A\"!=u[x]&&\"C\"==c&&(u[x]=\"C\"),s(l,x));r(f,l,n,k,x);r(l,f,k,n,x);var w=f[x],z=l&&l[x],y=w.length,U=l&&z.length;n.x=w[y-2];n.y=w[y-1];n.bx=$(w[y-4])||n.x;n.by=$(w[y-3])||n.y;k.bx=l&&($(z[U-4])||k.x);k.by=l&&($(z[U-3])||k.y);k.x=l&&z[U-2];k.y=l&&z[U-1]}l||(e.curve=d(f));return l?[f,l]:f}function P(a,\n",
        "b){for(var d=[],e=0,h=a.length;h-2*!b>e;e+=2){var f=[{x:+a[e-2],y:+a[e-1]},{x:+a[e],y:+a[e+1]},{x:+a[e+2],y:+a[e+3]},{x:+a[e+4],y:+a[e+5]}];b?e?h-4==e?f[3]={x:+a[0],y:+a[1]}:h-2==e&&(f[2]={x:+a[0],y:+a[1]},f[3]={x:+a[2],y:+a[3]}):f[0]={x:+a[h-2],y:+a[h-1]}:h-4==e?f[3]=f[2]:e||(f[0]={x:+a[e],y:+a[e+1]});d.push([\"C\",(-f[0].x+6*f[1].x+f[2].x)/6,(-f[0].y+6*f[1].y+f[2].y)/6,(f[1].x+6*f[2].x-f[3].x)/6,(f[1].y+6*f[2].y-f[3].y)/6,f[2].x,f[2].y])}return d}y=k.prototype;var Q=a.is,C=a._.clone,L=\"hasOwnProperty\",\n",
        "N=/,?([a-z]),?/gi,$=parseFloat,F=Math,S=F.PI,X=F.min,W=F.max,ma=F.pow,Z=F.abs;M=n(1);var na=n(),ba=n(0,1),V=a._unit2px;a.path=A;a.path.getTotalLength=M;a.path.getPointAtLength=na;a.path.getSubpath=function(a,b,d){if(1E-6>this.getTotalLength(a)-d)return ba(a,b).end;a=ba(a,d,1);return b?ba(a,b).end:a};y.getTotalLength=function(){if(this.node.getTotalLength)return this.node.getTotalLength()};y.getPointAtLength=function(a){return na(this.attr(\"d\"),a)};y.getSubpath=function(b,d){return a.path.getSubpath(this.attr(\"d\"),\n",
        "b,d)};a._.box=w;a.path.findDotsAtSegment=u;a.path.bezierBBox=p;a.path.isPointInsideBBox=b;a.path.isBBoxIntersect=q;a.path.intersection=function(a,b){return l(a,b)};a.path.intersectionNumber=function(a,b){return l(a,b,1)};a.path.isPointInside=function(a,d,e){var h=r(a);return b(h,d,e)&&1==l(a,[[\"M\",d,e],[\"H\",h.x2+10] ],1)%2};a.path.getBBox=r;a.path.get={path:function(a){return a.attr(\"path\")},circle:function(a){a=V(a);return x(a.cx,a.cy,a.r)},ellipse:function(a){a=V(a);return x(a.cx||0,a.cy||0,a.rx,\n",
        "a.ry)},rect:function(a){a=V(a);return s(a.x||0,a.y||0,a.width,a.height,a.rx,a.ry)},image:function(a){a=V(a);return s(a.x||0,a.y||0,a.width,a.height)},line:function(a){return\"M\"+[a.attr(\"x1\")||0,a.attr(\"y1\")||0,a.attr(\"x2\"),a.attr(\"y2\")]},polyline:function(a){return\"M\"+a.attr(\"points\")},polygon:function(a){return\"M\"+a.attr(\"points\")+\"z\"},deflt:function(a){a=a.node.getBBox();return s(a.x,a.y,a.width,a.height)}};a.path.toRelative=function(b){var e=A(b),h=String.prototype.toLowerCase;if(e.rel)return d(e.rel);\n",
        "a.is(b,\"array\")&&a.is(b&&b[0],\"array\")||(b=a.parsePathString(b));var f=[],l=0,n=0,k=0,p=0,s=0;\"M\"==b[0][0]&&(l=b[0][1],n=b[0][2],k=l,p=n,s++,f.push([\"M\",l,n]));for(var r=b.length;s<r;s++){var q=f[s]=[],x=b[s];if(x[0]!=h.call(x[0]))switch(q[0]=h.call(x[0]),q[0]){case \"a\":q[1]=x[1];q[2]=x[2];q[3]=x[3];q[4]=x[4];q[5]=x[5];q[6]=+(x[6]-l).toFixed(3);q[7]=+(x[7]-n).toFixed(3);break;case \"v\":q[1]=+(x[1]-n).toFixed(3);break;case \"m\":k=x[1],p=x[2];default:for(var c=1,t=x.length;c<t;c++)q[c]=+(x[c]-(c%2?l:\n",
        "n)).toFixed(3)}else for(f[s]=[],\"m\"==x[0]&&(k=x[1]+l,p=x[2]+n),q=0,c=x.length;q<c;q++)f[s][q]=x[q];x=f[s].length;switch(f[s][0]){case \"z\":l=k;n=p;break;case \"h\":l+=+f[s][x-1];break;case \"v\":n+=+f[s][x-1];break;default:l+=+f[s][x-2],n+=+f[s][x-1]}}f.toString=z;e.rel=d(f);return f};a.path.toAbsolute=G;a.path.toCubic=I;a.path.map=function(a,b){if(!b)return a;var d,e,h,f,l,n,k;a=I(a);h=0;for(l=a.length;h<l;h++)for(k=a[h],f=1,n=k.length;f<n;f+=2)d=b.x(k[f],k[f+1]),e=b.y(k[f],k[f+1]),k[f]=d,k[f+1]=e;return a};\n",
        "a.path.toString=z;a.path.clone=d});C.plugin(function(a,v,y,C){var A=Math.max,w=Math.min,z=function(a){this.items=[];this.bindings={};this.length=0;this.type=\"set\";if(a)for(var f=0,n=a.length;f<n;f++)a[f]&&(this[this.items.length]=this.items[this.items.length]=a[f],this.length++)};v=z.prototype;v.push=function(){for(var a,f,n=0,k=arguments.length;n<k;n++)if(a=arguments[n])f=this.items.length,this[f]=this.items[f]=a,this.length++;return this};v.pop=function(){this.length&&delete this[this.length--];\n",
        "return this.items.pop()};v.forEach=function(a,f){for(var n=0,k=this.items.length;n<k&&!1!==a.call(f,this.items[n],n);n++);return this};v.animate=function(d,f,n,u){\"function\"!=typeof n||n.length||(u=n,n=L.linear);d instanceof a._.Animation&&(u=d.callback,n=d.easing,f=n.dur,d=d.attr);var p=arguments;if(a.is(d,\"array\")&&a.is(p[p.length-1],\"array\"))var b=!0;var q,e=function(){q?this.b=q:q=this.b},l=0,r=u&&function(){l++==this.length&&u.call(this)};return this.forEach(function(a,l){k.once(\"snap.animcreated.\"+\n",
        "a.id,e);b?p[l]&&a.animate.apply(a,p[l]):a.animate(d,f,n,r)})};v.remove=function(){for(;this.length;)this.pop().remove();return this};v.bind=function(a,f,k){var u={};if(\"function\"==typeof f)this.bindings[a]=f;else{var p=k||a;this.bindings[a]=function(a){u[p]=a;f.attr(u)}}return this};v.attr=function(a){var f={},k;for(k in a)if(this.bindings[k])this.bindings[k](a[k]);else f[k]=a[k];a=0;for(k=this.items.length;a<k;a++)this.items[a].attr(f);return this};v.clear=function(){for(;this.length;)this.pop()};\n",
        "v.splice=function(a,f,k){a=0>a?A(this.length+a,0):a;f=A(0,w(this.length-a,f));var u=[],p=[],b=[],q;for(q=2;q<arguments.length;q++)b.push(arguments[q]);for(q=0;q<f;q++)p.push(this[a+q]);for(;q<this.length-a;q++)u.push(this[a+q]);var e=b.length;for(q=0;q<e+u.length;q++)this.items[a+q]=this[a+q]=q<e?b[q]:u[q-e];for(q=this.items.length=this.length-=f-e;this[q];)delete this[q++];return new z(p)};v.exclude=function(a){for(var f=0,k=this.length;f<k;f++)if(this[f]==a)return this.splice(f,1),!0;return!1};\n",
        "v.insertAfter=function(a){for(var f=this.items.length;f--;)this.items[f].insertAfter(a);return this};v.getBBox=function(){for(var a=[],f=[],k=[],u=[],p=this.items.length;p--;)if(!this.items[p].removed){var b=this.items[p].getBBox();a.push(b.x);f.push(b.y);k.push(b.x+b.width);u.push(b.y+b.height)}a=w.apply(0,a);f=w.apply(0,f);k=A.apply(0,k);u=A.apply(0,u);return{x:a,y:f,x2:k,y2:u,width:k-a,height:u-f,cx:a+(k-a)/2,cy:f+(u-f)/2}};v.clone=function(a){a=new z;for(var f=0,k=this.items.length;f<k;f++)a.push(this.items[f].clone());\n",
        "return a};v.toString=function(){return\"Snap\\u2018s set\"};v.type=\"set\";a.set=function(){var a=new z;arguments.length&&a.push.apply(a,Array.prototype.slice.call(arguments,0));return a}});C.plugin(function(a,v,y,C){function A(a){var b=a[0];switch(b.toLowerCase()){case \"t\":return[b,0,0];case \"m\":return[b,1,0,0,1,0,0];case \"r\":return 4==a.length?[b,0,a[2],a[3] ]:[b,0];case \"s\":return 5==a.length?[b,1,1,a[3],a[4] ]:3==a.length?[b,1,1]:[b,1]}}function w(b,d,f){d=q(d).replace(/\\.{3}|\\u2026/g,b);b=a.parseTransformString(b)||\n",
        "[];d=a.parseTransformString(d)||[];for(var k=Math.max(b.length,d.length),p=[],v=[],h=0,w,z,y,I;h<k;h++){y=b[h]||A(d[h]);I=d[h]||A(y);if(y[0]!=I[0]||\"r\"==y[0].toLowerCase()&&(y[2]!=I[2]||y[3]!=I[3])||\"s\"==y[0].toLowerCase()&&(y[3]!=I[3]||y[4]!=I[4])){b=a._.transform2matrix(b,f());d=a._.transform2matrix(d,f());p=[[\"m\",b.a,b.b,b.c,b.d,b.e,b.f] ];v=[[\"m\",d.a,d.b,d.c,d.d,d.e,d.f] ];break}p[h]=[];v[h]=[];w=0;for(z=Math.max(y.length,I.length);w<z;w++)w in y&&(p[h][w]=y[w]),w in I&&(v[h][w]=I[w])}return{from:u(p),\n",
        "to:u(v),f:n(p)}}function z(a){return a}function d(a){return function(b){return+b.toFixed(3)+a}}function f(b){return a.rgb(b[0],b[1],b[2])}function n(a){var b=0,d,f,k,n,h,p,q=[];d=0;for(f=a.length;d<f;d++){h=\"[\";p=['\"'+a[d][0]+'\"'];k=1;for(n=a[d].length;k<n;k++)p[k]=\"val[\"+b++ +\"]\";h+=p+\"]\";q[d]=h}return Function(\"val\",\"return Snap.path.toString.call([\"+q+\"])\")}function u(a){for(var b=[],d=0,f=a.length;d<f;d++)for(var k=1,n=a[d].length;k<n;k++)b.push(a[d][k]);return b}var p={},b=/[a-z]+$/i,q=String;\n",
        "p.stroke=p.fill=\"colour\";v.prototype.equal=function(a,b){return k(\"snap.util.equal\",this,a,b).firstDefined()};k.on(\"snap.util.equal\",function(e,k){var r,s;r=q(this.attr(e)||\"\");var x=this;if(r==+r&&k==+k)return{from:+r,to:+k,f:z};if(\"colour\"==p[e])return r=a.color(r),s=a.color(k),{from:[r.r,r.g,r.b,r.opacity],to:[s.r,s.g,s.b,s.opacity],f:f};if(\"transform\"==e||\"gradientTransform\"==e||\"patternTransform\"==e)return k instanceof a.Matrix&&(k=k.toTransformString()),a._.rgTransform.test(k)||(k=a._.svgTransform2string(k)),\n",
        "w(r,k,function(){return x.getBBox(1)});if(\"d\"==e||\"path\"==e)return r=a.path.toCubic(r,k),{from:u(r[0]),to:u(r[1]),f:n(r[0])};if(\"points\"==e)return r=q(r).split(a._.separator),s=q(k).split(a._.separator),{from:r,to:s,f:function(a){return a}};aUnit=r.match(b);s=q(k).match(b);return aUnit&&aUnit==s?{from:parseFloat(r),to:parseFloat(k),f:d(aUnit)}:{from:this.asPX(e),to:this.asPX(e,k),f:z}})});C.plugin(function(a,v,y,C){var A=v.prototype,w=\"createTouch\"in C.doc;v=\"click dblclick mousedown mousemove mouseout mouseover mouseup touchstart touchmove touchend touchcancel\".split(\" \");\n",
        "var z={mousedown:\"touchstart\",mousemove:\"touchmove\",mouseup:\"touchend\"},d=function(a,b){var d=\"y\"==a?\"scrollTop\":\"scrollLeft\",e=b&&b.node?b.node.ownerDocument:C.doc;return e[d in e.documentElement?\"documentElement\":\"body\"][d]},f=function(){this.returnValue=!1},n=function(){return this.originalEvent.preventDefault()},u=function(){this.cancelBubble=!0},p=function(){return this.originalEvent.stopPropagation()},b=function(){if(C.doc.addEventListener)return function(a,b,e,f){var k=w&&z[b]?z[b]:b,l=function(k){var l=\n",
        "d(\"y\",f),q=d(\"x\",f);if(w&&z.hasOwnProperty(b))for(var r=0,u=k.targetTouches&&k.targetTouches.length;r<u;r++)if(k.targetTouches[r].target==a||a.contains(k.targetTouches[r].target)){u=k;k=k.targetTouches[r];k.originalEvent=u;k.preventDefault=n;k.stopPropagation=p;break}return e.call(f,k,k.clientX+q,k.clientY+l)};b!==k&&a.addEventListener(b,l,!1);a.addEventListener(k,l,!1);return function(){b!==k&&a.removeEventListener(b,l,!1);a.removeEventListener(k,l,!1);return!0}};if(C.doc.attachEvent)return function(a,\n",
        "b,e,h){var k=function(a){a=a||h.node.ownerDocument.window.event;var b=d(\"y\",h),k=d(\"x\",h),k=a.clientX+k,b=a.clientY+b;a.preventDefault=a.preventDefault||f;a.stopPropagation=a.stopPropagation||u;return e.call(h,a,k,b)};a.attachEvent(\"on\"+b,k);return function(){a.detachEvent(\"on\"+b,k);return!0}}}(),q=[],e=function(a){for(var b=a.clientX,e=a.clientY,f=d(\"y\"),l=d(\"x\"),n,p=q.length;p--;){n=q[p];if(w)for(var r=a.touches&&a.touches.length,u;r--;){if(u=a.touches[r],u.identifier==n.el._drag.id||n.el.node.contains(u.target)){b=\n",
        "u.clientX;e=u.clientY;(a.originalEvent?a.originalEvent:a).preventDefault();break}}else a.preventDefault();b+=l;e+=f;k(\"snap.drag.move.\"+n.el.id,n.move_scope||n.el,b-n.el._drag.x,e-n.el._drag.y,b,e,a)}},l=function(b){a.unmousemove(e).unmouseup(l);for(var d=q.length,f;d--;)f=q[d],f.el._drag={},k(\"snap.drag.end.\"+f.el.id,f.end_scope||f.start_scope||f.move_scope||f.el,b);q=[]};for(y=v.length;y--;)(function(d){a[d]=A[d]=function(e,f){a.is(e,\"function\")&&(this.events=this.events||[],this.events.push({name:d,\n",
        "f:e,unbind:b(this.node||document,d,e,f||this)}));return this};a[\"un\"+d]=A[\"un\"+d]=function(a){for(var b=this.events||[],e=b.length;e--;)if(b[e].name==d&&(b[e].f==a||!a)){b[e].unbind();b.splice(e,1);!b.length&&delete this.events;break}return this}})(v[y]);A.hover=function(a,b,d,e){return this.mouseover(a,d).mouseout(b,e||d)};A.unhover=function(a,b){return this.unmouseover(a).unmouseout(b)};var r=[];A.drag=function(b,d,f,h,n,p){function u(r,v,w){(r.originalEvent||r).preventDefault();this._drag.x=v;\n",
        "this._drag.y=w;this._drag.id=r.identifier;!q.length&&a.mousemove(e).mouseup(l);q.push({el:this,move_scope:h,start_scope:n,end_scope:p});d&&k.on(\"snap.drag.start.\"+this.id,d);b&&k.on(\"snap.drag.move.\"+this.id,b);f&&k.on(\"snap.drag.end.\"+this.id,f);k(\"snap.drag.start.\"+this.id,n||h||this,v,w,r)}if(!arguments.length){var v;return this.drag(function(a,b){this.attr({transform:v+(v?\"T\":\"t\")+[a,b]})},function(){v=this.transform().local})}this._drag={};r.push({el:this,start:u});this.mousedown(u);return this};\n",
        "A.undrag=function(){for(var b=r.length;b--;)r[b].el==this&&(this.unmousedown(r[b].start),r.splice(b,1),k.unbind(\"snap.drag.*.\"+this.id));!r.length&&a.unmousemove(e).unmouseup(l);return this}});C.plugin(function(a,v,y,C){y=y.prototype;var A=/^\\s*url\\((.+)\\)/,w=String,z=a._.$;a.filter={};y.filter=function(d){var f=this;\"svg\"!=f.type&&(f=f.paper);d=a.parse(w(d));var k=a._.id(),u=z(\"filter\");z(u,{id:k,filterUnits:\"userSpaceOnUse\"});u.appendChild(d.node);f.defs.appendChild(u);return new v(u)};k.on(\"snap.util.getattr.filter\",\n",
        "function(){k.stop();var d=z(this.node,\"filter\");if(d)return(d=w(d).match(A))&&a.select(d[1])});k.on(\"snap.util.attr.filter\",function(d){if(d instanceof v&&\"filter\"==d.type){k.stop();var f=d.node.id;f||(z(d.node,{id:d.id}),f=d.id);z(this.node,{filter:a.url(f)})}d&&\"none\"!=d||(k.stop(),this.node.removeAttribute(\"filter\"))});a.filter.blur=function(d,f){null==d&&(d=2);return a.format('<feGaussianBlur stdDeviation=\"{def}\"/>',{def:null==f?d:[d,f]})};a.filter.blur.toString=function(){return this()};a.filter.shadow=\n",
        "function(d,f,k,u,p){\"string\"==typeof k&&(p=u=k,k=4);\"string\"!=typeof u&&(p=u,u=\"#000\");null==k&&(k=4);null==p&&(p=1);null==d&&(d=0,f=2);null==f&&(f=d);u=a.color(u||\"#000\");return a.format('<feGaussianBlur in=\"SourceAlpha\" stdDeviation=\"{blur}\"/><feOffset dx=\"{dx}\" dy=\"{dy}\" result=\"offsetblur\"/><feFlood flood-color=\"{color}\"/><feComposite in2=\"offsetblur\" operator=\"in\"/><feComponentTransfer><feFuncA type=\"linear\" slope=\"{opacity}\"/></feComponentTransfer><feMerge><feMergeNode/><feMergeNode in=\"SourceGraphic\"/></feMerge>',\n",
        "{color:u,dx:d,dy:f,blur:k,opacity:p})};a.filter.shadow.toString=function(){return this()};a.filter.grayscale=function(d){null==d&&(d=1);return a.format('<feColorMatrix type=\"matrix\" values=\"{a} {b} {c} 0 0 {d} {e} {f} 0 0 {g} {b} {h} 0 0 0 0 0 1 0\"/>',{a:0.2126+0.7874*(1-d),b:0.7152-0.7152*(1-d),c:0.0722-0.0722*(1-d),d:0.2126-0.2126*(1-d),e:0.7152+0.2848*(1-d),f:0.0722-0.0722*(1-d),g:0.2126-0.2126*(1-d),h:0.0722+0.9278*(1-d)})};a.filter.grayscale.toString=function(){return this()};a.filter.sepia=\n",
        "function(d){null==d&&(d=1);return a.format('<feColorMatrix type=\"matrix\" values=\"{a} {b} {c} 0 0 {d} {e} {f} 0 0 {g} {h} {i} 0 0 0 0 0 1 0\"/>',{a:0.393+0.607*(1-d),b:0.769-0.769*(1-d),c:0.189-0.189*(1-d),d:0.349-0.349*(1-d),e:0.686+0.314*(1-d),f:0.168-0.168*(1-d),g:0.272-0.272*(1-d),h:0.534-0.534*(1-d),i:0.131+0.869*(1-d)})};a.filter.sepia.toString=function(){return this()};a.filter.saturate=function(d){null==d&&(d=1);return a.format('<feColorMatrix type=\"saturate\" values=\"{amount}\"/>',{amount:1-\n",
        "d})};a.filter.saturate.toString=function(){return this()};a.filter.hueRotate=function(d){return a.format('<feColorMatrix type=\"hueRotate\" values=\"{angle}\"/>',{angle:d||0})};a.filter.hueRotate.toString=function(){return this()};a.filter.invert=function(d){null==d&&(d=1);return a.format('<feComponentTransfer><feFuncR type=\"table\" tableValues=\"{amount} {amount2}\"/><feFuncG type=\"table\" tableValues=\"{amount} {amount2}\"/><feFuncB type=\"table\" tableValues=\"{amount} {amount2}\"/></feComponentTransfer>',{amount:d,\n",
        "amount2:1-d})};a.filter.invert.toString=function(){return this()};a.filter.brightness=function(d){null==d&&(d=1);return a.format('<feComponentTransfer><feFuncR type=\"linear\" slope=\"{amount}\"/><feFuncG type=\"linear\" slope=\"{amount}\"/><feFuncB type=\"linear\" slope=\"{amount}\"/></feComponentTransfer>',{amount:d})};a.filter.brightness.toString=function(){return this()};a.filter.contrast=function(d){null==d&&(d=1);return a.format('<feComponentTransfer><feFuncR type=\"linear\" slope=\"{amount}\" intercept=\"{amount2}\"/><feFuncG type=\"linear\" slope=\"{amount}\" intercept=\"{amount2}\"/><feFuncB type=\"linear\" slope=\"{amount}\" intercept=\"{amount2}\"/></feComponentTransfer>',\n",
        "{amount:d,amount2:0.5-d/2})};a.filter.contrast.toString=function(){return this()}});return C});\n",
        "\n",
        "]]> </script>\n",
        "<script> <![CDATA[\n",
        "\n",
        "(function (glob, factory) {\n",
        "    // AMD support\n",
        "    if (typeof define === \"function\" && define.amd) {\n",
        "        // Define as an anonymous module\n",
        "        define(\"Gadfly\", [\"Snap.svg\"], function (Snap) {\n",
        "            return factory(Snap);\n",
        "        });\n",
        "    } else {\n",
        "        // Browser globals (glob is window)\n",
        "        // Snap adds itself to window\n",
        "        glob.Gadfly = factory(glob.Snap);\n",
        "    }\n",
        "}(this, function (Snap) {\n",
        "\n",
        "var Gadfly = {};\n",
        "\n",
        "// Get an x/y coordinate value in pixels\n",
        "var xPX = function(fig, x) {\n",
        "    var client_box = fig.node.getBoundingClientRect();\n",
        "    return x * fig.node.viewBox.baseVal.width / client_box.width;\n",
        "};\n",
        "\n",
        "var yPX = function(fig, y) {\n",
        "    var client_box = fig.node.getBoundingClientRect();\n",
        "    return y * fig.node.viewBox.baseVal.height / client_box.height;\n",
        "};\n",
        "\n",
        "\n",
        "Snap.plugin(function (Snap, Element, Paper, global) {\n",
        "    // Traverse upwards from a snap element to find and return the first\n",
        "    // note with the \"plotroot\" class.\n",
        "    Element.prototype.plotroot = function () {\n",
        "        var element = this;\n",
        "        while (!element.hasClass(\"plotroot\") && element.parent() != null) {\n",
        "            element = element.parent();\n",
        "        }\n",
        "        return element;\n",
        "    };\n",
        "\n",
        "    Element.prototype.svgroot = function () {\n",
        "        var element = this;\n",
        "        while (element.node.nodeName != \"svg\" && element.parent() != null) {\n",
        "            element = element.parent();\n",
        "        }\n",
        "        return element;\n",
        "    };\n",
        "\n",
        "    Element.prototype.plotbounds = function () {\n",
        "        var root = this.plotroot()\n",
        "        var bbox = root.select(\".guide.background\").node.getBBox();\n",
        "        return {\n",
        "            x0: bbox.x,\n",
        "            x1: bbox.x + bbox.width,\n",
        "            y0: bbox.y,\n",
        "            y1: bbox.y + bbox.height\n",
        "        };\n",
        "    };\n",
        "\n",
        "    Element.prototype.plotcenter = function () {\n",
        "        var root = this.plotroot()\n",
        "        var bbox = root.select(\".guide.background\").node.getBBox();\n",
        "        return {\n",
        "            x: bbox.x + bbox.width / 2,\n",
        "            y: bbox.y + bbox.height / 2\n",
        "        };\n",
        "    };\n",
        "\n",
        "    // Emulate IE style mouseenter/mouseleave events, since Microsoft always\n",
        "    // does everything right.\n",
        "    // See: http://www.dynamic-tools.net/toolbox/isMouseLeaveOrEnter/\n",
        "    var events = [\"mouseenter\", \"mouseleave\"];\n",
        "\n",
        "    for (i in events) {\n",
        "        (function (event_name) {\n",
        "            var event_name = events[i];\n",
        "            Element.prototype[event_name] = function (fn, scope) {\n",
        "                if (Snap.is(fn, \"function\")) {\n",
        "                    var fn2 = function (event) {\n",
        "                        if (event.type != \"mouseover\" && event.type != \"mouseout\") {\n",
        "                            return;\n",
        "                        }\n",
        "\n",
        "                        var reltg = event.relatedTarget ? event.relatedTarget :\n",
        "                            event.type == \"mouseout\" ? event.toElement : event.fromElement;\n",
        "                        while (reltg && reltg != this.node) reltg = reltg.parentNode;\n",
        "\n",
        "                        if (reltg != this.node) {\n",
        "                            return fn.apply(this, event);\n",
        "                        }\n",
        "                    };\n",
        "\n",
        "                    if (event_name == \"mouseenter\") {\n",
        "                        this.mouseover(fn2, scope);\n",
        "                    } else {\n",
        "                        this.mouseout(fn2, scope);\n",
        "                    }\n",
        "                }\n",
        "                return this;\n",
        "            };\n",
        "        })(events[i]);\n",
        "    }\n",
        "\n",
        "\n",
        "    Element.prototype.mousewheel = function (fn, scope) {\n",
        "        if (Snap.is(fn, \"function\")) {\n",
        "            var el = this;\n",
        "            var fn2 = function (event) {\n",
        "                fn.apply(el, [event]);\n",
        "            };\n",
        "        }\n",
        "\n",
        "        this.node.addEventListener(\n",
        "            /Firefox/i.test(navigator.userAgent) ? \"DOMMouseScroll\" : \"mousewheel\",\n",
        "            fn2);\n",
        "\n",
        "        return this;\n",
        "    };\n",
        "\n",
        "\n",
        "    // Snap's attr function can be too slow for things like panning/zooming.\n",
        "    // This is a function to directly update element attributes without going\n",
        "    // through eve.\n",
        "    Element.prototype.attribute = function(key, val) {\n",
        "        if (val === undefined) {\n",
        "            return this.node.getAttribute(key, val);\n",
        "        } else {\n",
        "            return this.node.setAttribute(key, val);\n",
        "        }\n",
        "    };\n",
        "});\n",
        "\n",
        "\n",
        "// When the plot is moused over, emphasize the grid lines.\n",
        "Gadfly.plot_mouseover = function(event) {\n",
        "    var root = this.plotroot();\n",
        "    init_pan_zoom(root);\n",
        "\n",
        "    var xgridlines = root.select(\".xgridlines\"),\n",
        "        ygridlines = root.select(\".ygridlines\");\n",
        "\n",
        "    xgridlines.data(\"unfocused_strokedash\",\n",
        "                    xgridlines.attr(\"stroke-dasharray\").replace(/px/g, \"mm\"))\n",
        "    ygridlines.data(\"unfocused_strokedash\",\n",
        "                    ygridlines.attr(\"stroke-dasharray\").replace(/px/g, \"mm\"))\n",
        "\n",
        "    // emphasize grid lines\n",
        "    var destcolor = root.data(\"focused_xgrid_color\");\n",
        "    xgridlines.attr(\"stroke-dasharray\", \"none\")\n",
        "              .selectAll(\"path\")\n",
        "              .animate({stroke: destcolor}, 250);\n",
        "\n",
        "    destcolor = root.data(\"focused_ygrid_color\");\n",
        "    ygridlines.attr(\"stroke-dasharray\", \"none\")\n",
        "              .selectAll(\"path\")\n",
        "              .animate({stroke: destcolor}, 250);\n",
        "\n",
        "    // reveal zoom slider\n",
        "    root.select(\".zoomslider\")\n",
        "        .animate({opacity: 1.0}, 250);\n",
        "};\n",
        "\n",
        "\n",
        "// Unemphasize grid lines on mouse out.\n",
        "Gadfly.plot_mouseout = function(event) {\n",
        "    var root = this.plotroot();\n",
        "    var xgridlines = root.select(\".xgridlines\"),\n",
        "        ygridlines = root.select(\".ygridlines\");\n",
        "\n",
        "    var destcolor = root.data(\"unfocused_xgrid_color\");\n",
        "\n",
        "    xgridlines.attr(\"stroke-dasharray\", xgridlines.data(\"unfocused_strokedash\"))\n",
        "              .selectAll(\"path\")\n",
        "              .animate({stroke: destcolor}, 250);\n",
        "\n",
        "    destcolor = root.data(\"unfocused_ygrid_color\");\n",
        "    ygridlines.attr(\"stroke-dasharray\", ygridlines.data(\"unfocused_strokedash\"))\n",
        "              .selectAll(\"path\")\n",
        "              .animate({stroke: destcolor}, 250);\n",
        "\n",
        "    // hide zoom slider\n",
        "    root.select(\".zoomslider\")\n",
        "        .animate({opacity: 0.0}, 250);\n",
        "};\n",
        "\n",
        "\n",
        "var set_geometry_transform = function(root, tx, ty, scale) {\n",
        "    var xscalable = root.hasClass(\"xscalable\"),\n",
        "        yscalable = root.hasClass(\"yscalable\");\n",
        "\n",
        "    var old_scale = root.data(\"scale\");\n",
        "\n",
        "    var xscale = xscalable ? scale : 1.0,\n",
        "        yscale = yscalable ? scale : 1.0;\n",
        "\n",
        "    tx = xscalable ? tx : 0.0;\n",
        "    ty = yscalable ? ty : 0.0;\n",
        "\n",
        "    var t = new Snap.Matrix().translate(tx, ty).scale(xscale, yscale);\n",
        "\n",
        "    root.selectAll(\".geometry, image\")\n",
        "        .forEach(function (element, i) {\n",
        "            element.transform(t);\n",
        "        });\n",
        "\n",
        "    bounds = root.plotbounds();\n",
        "\n",
        "    if (yscalable) {\n",
        "        var xfixed_t = new Snap.Matrix().translate(0, ty).scale(1.0, yscale);\n",
        "        root.selectAll(\".xfixed\")\n",
        "            .forEach(function (element, i) {\n",
        "                element.transform(xfixed_t);\n",
        "            });\n",
        "\n",
        "        root.select(\".ylabels\")\n",
        "            .transform(xfixed_t)\n",
        "            .selectAll(\"text\")\n",
        "            .forEach(function (element, i) {\n",
        "                if (element.attribute(\"gadfly:inscale\") == \"true\") {\n",
        "                    var cx = element.asPX(\"x\"),\n",
        "                        cy = element.asPX(\"y\");\n",
        "                    var st = element.data(\"static_transform\");\n",
        "                    unscale_t = new Snap.Matrix();\n",
        "                    unscale_t.scale(1, 1/scale, cx, cy).add(st);\n",
        "                    element.transform(unscale_t);\n",
        "\n",
        "                    var y = cy * scale + ty;\n",
        "                    element.attr(\"visibility\",\n",
        "                        bounds.y0 <= y && y <= bounds.y1 ? \"visible\" : \"hidden\");\n",
        "                }\n",
        "            });\n",
        "    }\n",
        "\n",
        "    if (xscalable) {\n",
        "        var yfixed_t = new Snap.Matrix().translate(tx, 0).scale(xscale, 1.0);\n",
        "        var xtrans = new Snap.Matrix().translate(tx, 0);\n",
        "        root.selectAll(\".yfixed\")\n",
        "            .forEach(function (element, i) {\n",
        "                element.transform(yfixed_t);\n",
        "            });\n",
        "\n",
        "        root.select(\".xlabels\")\n",
        "            .transform(yfixed_t)\n",
        "            .selectAll(\"text\")\n",
        "            .forEach(function (element, i) {\n",
        "                if (element.attribute(\"gadfly:inscale\") == \"true\") {\n",
        "                    var cx = element.asPX(\"x\"),\n",
        "                        cy = element.asPX(\"y\");\n",
        "                    var st = element.data(\"static_transform\");\n",
        "                    unscale_t = new Snap.Matrix();\n",
        "                    unscale_t.scale(1/scale, 1, cx, cy).add(st);\n",
        "\n",
        "                    element.transform(unscale_t);\n",
        "\n",
        "                    var x = cx * scale + tx;\n",
        "                    element.attr(\"visibility\",\n",
        "                        bounds.x0 <= x && x <= bounds.x1 ? \"visible\" : \"hidden\");\n",
        "                    }\n",
        "            });\n",
        "    }\n",
        "\n",
        "    // we must unscale anything that is scale invariance: widths, raiduses, etc.\n",
        "    var size_attribs = [\"font-size\"];\n",
        "    var unscaled_selection = \".geometry, .geometry *\";\n",
        "    if (xscalable) {\n",
        "        size_attribs.push(\"rx\");\n",
        "        unscaled_selection += \", .xgridlines\";\n",
        "    }\n",
        "    if (yscalable) {\n",
        "        size_attribs.push(\"ry\");\n",
        "        unscaled_selection += \", .ygridlines\";\n",
        "    }\n",
        "\n",
        "    root.selectAll(unscaled_selection)\n",
        "        .forEach(function (element, i) {\n",
        "            // circle need special help\n",
        "            if (element.node.nodeName == \"circle\") {\n",
        "                var cx = element.attribute(\"cx\"),\n",
        "                    cy = element.attribute(\"cy\");\n",
        "                unscale_t = new Snap.Matrix().scale(1/xscale, 1/yscale,\n",
        "                                                        cx, cy);\n",
        "                element.transform(unscale_t);\n",
        "                return;\n",
        "            }\n",
        "\n",
        "            for (i in size_attribs) {\n",
        "                var key = size_attribs[i];\n",
        "                var val = parseFloat(element.attribute(key));\n",
        "                if (val !== undefined && val != 0 && !isNaN(val)) {\n",
        "                    element.attribute(key, val * old_scale / scale);\n",
        "                }\n",
        "            }\n",
        "        });\n",
        "};\n",
        "\n",
        "\n",
        "// Find the most appropriate tick scale and update label visibility.\n",
        "var update_tickscale = function(root, scale, axis) {\n",
        "    if (!root.hasClass(axis + \"scalable\")) return;\n",
        "\n",
        "    var tickscales = root.data(axis + \"tickscales\");\n",
        "    var best_tickscale = 1.0;\n",
        "    var best_tickscale_dist = Infinity;\n",
        "    for (tickscale in tickscales) {\n",
        "        var dist = Math.abs(Math.log(tickscale) - Math.log(scale));\n",
        "        if (dist < best_tickscale_dist) {\n",
        "            best_tickscale_dist = dist;\n",
        "            best_tickscale = tickscale;\n",
        "        }\n",
        "    }\n",
        "\n",
        "    if (best_tickscale != root.data(axis + \"tickscale\")) {\n",
        "        root.data(axis + \"tickscale\", best_tickscale);\n",
        "        var mark_inscale_gridlines = function (element, i) {\n",
        "            var inscale = element.attr(\"gadfly:scale\") == best_tickscale;\n",
        "            element.attribute(\"gadfly:inscale\", inscale);\n",
        "            element.attr(\"visibility\", inscale ? \"visible\" : \"hidden\");\n",
        "        };\n",
        "\n",
        "        var mark_inscale_labels = function (element, i) {\n",
        "            var inscale = element.attr(\"gadfly:scale\") == best_tickscale;\n",
        "            element.attribute(\"gadfly:inscale\", inscale);\n",
        "            element.attr(\"visibility\", inscale ? \"visible\" : \"hidden\");\n",
        "        };\n",
        "\n",
        "        root.select(\".\" + axis + \"gridlines\").selectAll(\"path\").forEach(mark_inscale_gridlines);\n",
        "        root.select(\".\" + axis + \"labels\").selectAll(\"text\").forEach(mark_inscale_labels);\n",
        "    }\n",
        "};\n",
        "\n",
        "\n",
        "var set_plot_pan_zoom = function(root, tx, ty, scale) {\n",
        "    var old_scale = root.data(\"scale\");\n",
        "    var bounds = root.plotbounds();\n",
        "\n",
        "    var width = bounds.x1 - bounds.x0,\n",
        "        height = bounds.y1 - bounds.y0;\n",
        "\n",
        "    // compute the viewport derived from tx, ty, and scale\n",
        "    var x_min = -width * scale - (scale * width - width),\n",
        "        x_max = width * scale,\n",
        "        y_min = -height * scale - (scale * height - height),\n",
        "        y_max = height * scale;\n",
        "\n",
        "    var x0 = bounds.x0 - scale * bounds.x0,\n",
        "        y0 = bounds.y0 - scale * bounds.y0;\n",
        "\n",
        "    var tx = Math.max(Math.min(tx - x0, x_max), x_min),\n",
        "        ty = Math.max(Math.min(ty - y0, y_max), y_min);\n",
        "\n",
        "    tx += x0;\n",
        "    ty += y0;\n",
        "\n",
        "    // when the scale change, we may need to alter which set of\n",
        "    // ticks is being displayed\n",
        "    if (scale != old_scale) {\n",
        "        update_tickscale(root, scale, \"x\");\n",
        "        update_tickscale(root, scale, \"y\");\n",
        "    }\n",
        "\n",
        "    set_geometry_transform(root, tx, ty, scale);\n",
        "\n",
        "    root.data(\"scale\", scale);\n",
        "    root.data(\"tx\", tx);\n",
        "    root.data(\"ty\", ty);\n",
        "};\n",
        "\n",
        "\n",
        "var scale_centered_translation = function(root, scale) {\n",
        "    var bounds = root.plotbounds();\n",
        "\n",
        "    var width = bounds.x1 - bounds.x0,\n",
        "        height = bounds.y1 - bounds.y0;\n",
        "\n",
        "    var tx0 = root.data(\"tx\"),\n",
        "        ty0 = root.data(\"ty\");\n",
        "\n",
        "    var scale0 = root.data(\"scale\");\n",
        "\n",
        "    // how off from center the current view is\n",
        "    var xoff = tx0 - (bounds.x0 * (1 - scale0) + (width * (1 - scale0)) / 2),\n",
        "        yoff = ty0 - (bounds.y0 * (1 - scale0) + (height * (1 - scale0)) / 2);\n",
        "\n",
        "    // rescale offsets\n",
        "    xoff = xoff * scale / scale0;\n",
        "    yoff = yoff * scale / scale0;\n",
        "\n",
        "    // adjust for the panel position being scaled\n",
        "    var x_edge_adjust = bounds.x0 * (1 - scale),\n",
        "        y_edge_adjust = bounds.y0 * (1 - scale);\n",
        "\n",
        "    return {\n",
        "        x: xoff + x_edge_adjust + (width - width * scale) / 2,\n",
        "        y: yoff + y_edge_adjust + (height - height * scale) / 2\n",
        "    };\n",
        "};\n",
        "\n",
        "\n",
        "// Initialize data for panning zooming if it isn't already.\n",
        "var init_pan_zoom = function(root) {\n",
        "    if (root.data(\"zoompan-ready\")) {\n",
        "        return;\n",
        "    }\n",
        "\n",
        "    // The non-scaling-stroke trick. Rather than try to correct for the\n",
        "    // stroke-width when zooming, we force it to a fixed value.\n",
        "    var px_per_mm = root.node.getCTM().a;\n",
        "\n",
        "    // Drag events report deltas in pixels, which we'd like to convert to\n",
        "    // millimeters.\n",
        "    root.data(\"px_per_mm\", px_per_mm);\n",
        "\n",
        "    root.selectAll(\"path\")\n",
        "        .forEach(function (element, i) {\n",
        "        sw = element.asPX(\"stroke-width\") * px_per_mm;\n",
        "        if (sw > 0) {\n",
        "            element.attribute(\"stroke-width\", sw);\n",
        "            element.attribute(\"vector-effect\", \"non-scaling-stroke\");\n",
        "        }\n",
        "    });\n",
        "\n",
        "    // Store ticks labels original tranformation\n",
        "    root.selectAll(\".xlabels > text, .ylabels > text\")\n",
        "        .forEach(function (element, i) {\n",
        "            var lm = element.transform().localMatrix;\n",
        "            element.data(\"static_transform\",\n",
        "                new Snap.Matrix(lm.a, lm.b, lm.c, lm.d, lm.e, lm.f));\n",
        "        });\n",
        "\n",
        "    if (root.data(\"tx\") === undefined) root.data(\"tx\", 0);\n",
        "    if (root.data(\"ty\") === undefined) root.data(\"ty\", 0);\n",
        "    if (root.data(\"scale\") === undefined) root.data(\"scale\", 1.0);\n",
        "    if (root.data(\"xtickscales\") === undefined) {\n",
        "\n",
        "        // index all the tick scales that are listed\n",
        "        var xtickscales = {};\n",
        "        var ytickscales = {};\n",
        "        var add_x_tick_scales = function (element, i) {\n",
        "            xtickscales[element.attribute(\"gadfly:scale\")] = true;\n",
        "        };\n",
        "        var add_y_tick_scales = function (element, i) {\n",
        "            ytickscales[element.attribute(\"gadfly:scale\")] = true;\n",
        "        };\n",
        "\n",
        "        root.select(\".xgridlines\").selectAll(\"path\").forEach(add_x_tick_scales);\n",
        "        root.select(\".ygridlines\").selectAll(\"path\").forEach(add_y_tick_scales);\n",
        "        root.select(\".xlabels\").selectAll(\"text\").forEach(add_x_tick_scales);\n",
        "        root.select(\".ylabels\").selectAll(\"text\").forEach(add_y_tick_scales);\n",
        "\n",
        "        root.data(\"xtickscales\", xtickscales);\n",
        "        root.data(\"ytickscales\", ytickscales);\n",
        "        root.data(\"xtickscale\", 1.0);\n",
        "    }\n",
        "\n",
        "    var min_scale = 1.0, max_scale = 1.0;\n",
        "    for (scale in xtickscales) {\n",
        "        min_scale = Math.min(min_scale, scale);\n",
        "        max_scale = Math.max(max_scale, scale);\n",
        "    }\n",
        "    for (scale in ytickscales) {\n",
        "        min_scale = Math.min(min_scale, scale);\n",
        "        max_scale = Math.max(max_scale, scale);\n",
        "    }\n",
        "    root.data(\"min_scale\", min_scale);\n",
        "    root.data(\"max_scale\", max_scale);\n",
        "\n",
        "    // store the original positions of labels\n",
        "    root.select(\".xlabels\")\n",
        "        .selectAll(\"text\")\n",
        "        .forEach(function (element, i) {\n",
        "            element.data(\"x\", element.asPX(\"x\"));\n",
        "        });\n",
        "\n",
        "    root.select(\".ylabels\")\n",
        "        .selectAll(\"text\")\n",
        "        .forEach(function (element, i) {\n",
        "            element.data(\"y\", element.asPX(\"y\"));\n",
        "        });\n",
        "\n",
        "    // mark grid lines and ticks as in or out of scale.\n",
        "    var mark_inscale = function (element, i) {\n",
        "        element.attribute(\"gadfly:inscale\", element.attribute(\"gadfly:scale\") == 1.0);\n",
        "    };\n",
        "\n",
        "    root.select(\".xgridlines\").selectAll(\"path\").forEach(mark_inscale);\n",
        "    root.select(\".ygridlines\").selectAll(\"path\").forEach(mark_inscale);\n",
        "    root.select(\".xlabels\").selectAll(\"text\").forEach(mark_inscale);\n",
        "    root.select(\".ylabels\").selectAll(\"text\").forEach(mark_inscale);\n",
        "\n",
        "    // figure out the upper ond lower bounds on panning using the maximum\n",
        "    // and minum grid lines\n",
        "    var bounds = root.plotbounds();\n",
        "    var pan_bounds = {\n",
        "        x0: 0.0,\n",
        "        y0: 0.0,\n",
        "        x1: 0.0,\n",
        "        y1: 0.0\n",
        "    };\n",
        "\n",
        "    root.select(\".xgridlines\")\n",
        "        .selectAll(\"path\")\n",
        "        .forEach(function (element, i) {\n",
        "            if (element.attribute(\"gadfly:inscale\") == \"true\") {\n",
        "                var bbox = element.node.getBBox();\n",
        "                if (bounds.x1 - bbox.x < pan_bounds.x0) {\n",
        "                    pan_bounds.x0 = bounds.x1 - bbox.x;\n",
        "                }\n",
        "                if (bounds.x0 - bbox.x > pan_bounds.x1) {\n",
        "                    pan_bounds.x1 = bounds.x0 - bbox.x;\n",
        "                }\n",
        "            }\n",
        "        });\n",
        "\n",
        "    root.select(\".ygridlines\")\n",
        "        .selectAll(\"path\")\n",
        "        .forEach(function (element, i) {\n",
        "            if (element.attribute(\"gadfly:inscale\") == \"true\") {\n",
        "                var bbox = element.node.getBBox();\n",
        "                if (bounds.y1 - bbox.y < pan_bounds.y0) {\n",
        "                    pan_bounds.y0 = bounds.y1 - bbox.y;\n",
        "                }\n",
        "                if (bounds.y0 - bbox.y > pan_bounds.y1) {\n",
        "                    pan_bounds.y1 = bounds.y0 - bbox.y;\n",
        "                }\n",
        "            }\n",
        "        });\n",
        "\n",
        "    // nudge these values a little\n",
        "    pan_bounds.x0 -= 5;\n",
        "    pan_bounds.x1 += 5;\n",
        "    pan_bounds.y0 -= 5;\n",
        "    pan_bounds.y1 += 5;\n",
        "    root.data(\"pan_bounds\", pan_bounds);\n",
        "\n",
        "    // Set all grid lines at scale 1.0 to visible. Out of bounds lines\n",
        "    // will be clipped.\n",
        "    root.select(\".xgridlines\")\n",
        "        .selectAll(\"path\")\n",
        "        .forEach(function (element, i) {\n",
        "            if (element.attribute(\"gadfly:inscale\") == \"true\") {\n",
        "                element.attr(\"visibility\", \"visible\");\n",
        "            }\n",
        "        });\n",
        "\n",
        "    root.select(\".ygridlines\")\n",
        "        .selectAll(\"path\")\n",
        "        .forEach(function (element, i) {\n",
        "            if (element.attribute(\"gadfly:inscale\") == \"true\") {\n",
        "                element.attr(\"visibility\", \"visible\");\n",
        "            }\n",
        "        });\n",
        "\n",
        "    root.data(\"zoompan-ready\", true)\n",
        "};\n",
        "\n",
        "\n",
        "// Panning\n",
        "Gadfly.guide_background_drag_onmove = function(dx, dy, x, y, event) {\n",
        "    var root = this.plotroot();\n",
        "    var px_per_mm = root.data(\"px_per_mm\");\n",
        "    dx /= px_per_mm;\n",
        "    dy /= px_per_mm;\n",
        "\n",
        "    var tx0 = root.data(\"tx\"),\n",
        "        ty0 = root.data(\"ty\");\n",
        "\n",
        "    var dx0 = root.data(\"dx\"),\n",
        "        dy0 = root.data(\"dy\");\n",
        "\n",
        "    root.data(\"dx\", dx);\n",
        "    root.data(\"dy\", dy);\n",
        "\n",
        "    dx = dx - dx0;\n",
        "    dy = dy - dy0;\n",
        "\n",
        "    var tx = tx0 + dx,\n",
        "        ty = ty0 + dy;\n",
        "\n",
        "    set_plot_pan_zoom(root, tx, ty, root.data(\"scale\"));\n",
        "};\n",
        "\n",
        "\n",
        "Gadfly.guide_background_drag_onstart = function(x, y, event) {\n",
        "    var root = this.plotroot();\n",
        "    root.data(\"dx\", 0);\n",
        "    root.data(\"dy\", 0);\n",
        "    init_pan_zoom(root);\n",
        "};\n",
        "\n",
        "\n",
        "Gadfly.guide_background_drag_onend = function(event) {\n",
        "    var root = this.plotroot();\n",
        "};\n",
        "\n",
        "\n",
        "Gadfly.guide_background_scroll = function(event) {\n",
        "    if (event.shiftKey) {\n",
        "        var root = this.plotroot();\n",
        "        init_pan_zoom(root);\n",
        "        var new_scale = root.data(\"scale\") * Math.pow(2, 0.002 * event.wheelDelta);\n",
        "        new_scale = Math.max(\n",
        "            root.data(\"min_scale\"),\n",
        "            Math.min(root.data(\"max_scale\"), new_scale))\n",
        "        update_plot_scale(root, new_scale);\n",
        "        event.stopPropagation();\n",
        "    }\n",
        "};\n",
        "\n",
        "\n",
        "Gadfly.zoomslider_button_mouseover = function(event) {\n",
        "    this.select(\".button_logo\")\n",
        "         .animate({fill: this.data(\"mouseover_color\")}, 100);\n",
        "};\n",
        "\n",
        "\n",
        "Gadfly.zoomslider_button_mouseout = function(event) {\n",
        "     this.select(\".button_logo\")\n",
        "         .animate({fill: this.data(\"mouseout_color\")}, 100);\n",
        "};\n",
        "\n",
        "\n",
        "Gadfly.zoomslider_zoomout_click = function(event) {\n",
        "    var root = this.plotroot();\n",
        "    init_pan_zoom(root);\n",
        "    var min_scale = root.data(\"min_scale\"),\n",
        "        scale = root.data(\"scale\");\n",
        "    Snap.animate(\n",
        "        scale,\n",
        "        Math.max(min_scale, scale / 1.5),\n",
        "        function (new_scale) {\n",
        "            update_plot_scale(root, new_scale);\n",
        "        },\n",
        "        200);\n",
        "};\n",
        "\n",
        "\n",
        "Gadfly.zoomslider_zoomin_click = function(event) {\n",
        "    var root = this.plotroot();\n",
        "    init_pan_zoom(root);\n",
        "    var max_scale = root.data(\"max_scale\"),\n",
        "        scale = root.data(\"scale\");\n",
        "\n",
        "    Snap.animate(\n",
        "        scale,\n",
        "        Math.min(max_scale, scale * 1.5),\n",
        "        function (new_scale) {\n",
        "            update_plot_scale(root, new_scale);\n",
        "        },\n",
        "        200);\n",
        "};\n",
        "\n",
        "\n",
        "Gadfly.zoomslider_track_click = function(event) {\n",
        "    // TODO\n",
        "};\n",
        "\n",
        "\n",
        "Gadfly.zoomslider_thumb_mousedown = function(event) {\n",
        "    this.animate({fill: this.data(\"mouseover_color\")}, 100);\n",
        "};\n",
        "\n",
        "\n",
        "Gadfly.zoomslider_thumb_mouseup = function(event) {\n",
        "    this.animate({fill: this.data(\"mouseout_color\")}, 100);\n",
        "};\n",
        "\n",
        "\n",
        "// compute the position in [0, 1] of the zoom slider thumb from the current scale\n",
        "var slider_position_from_scale = function(scale, min_scale, max_scale) {\n",
        "    if (scale >= 1.0) {\n",
        "        return 0.5 + 0.5 * (Math.log(scale) / Math.log(max_scale));\n",
        "    }\n",
        "    else {\n",
        "        return 0.5 * (Math.log(scale) - Math.log(min_scale)) / (0 - Math.log(min_scale));\n",
        "    }\n",
        "}\n",
        "\n",
        "\n",
        "var update_plot_scale = function(root, new_scale) {\n",
        "    var trans = scale_centered_translation(root, new_scale);\n",
        "    set_plot_pan_zoom(root, trans.x, trans.y, new_scale);\n",
        "\n",
        "    root.selectAll(\".zoomslider_thumb\")\n",
        "        .forEach(function (element, i) {\n",
        "            var min_pos = element.data(\"min_pos\"),\n",
        "                max_pos = element.data(\"max_pos\"),\n",
        "                min_scale = root.data(\"min_scale\"),\n",
        "                max_scale = root.data(\"max_scale\");\n",
        "            var xmid = (min_pos + max_pos) / 2;\n",
        "            var xpos = slider_position_from_scale(new_scale, min_scale, max_scale);\n",
        "            element.transform(new Snap.Matrix().translate(\n",
        "                Math.max(min_pos, Math.min(\n",
        "                         max_pos, min_pos + (max_pos - min_pos) * xpos)) - xmid, 0));\n",
        "    });\n",
        "};\n",
        "\n",
        "\n",
        "Gadfly.zoomslider_thumb_dragmove = function(dx, dy, x, y) {\n",
        "    var root = this.plotroot();\n",
        "    var min_pos = this.data(\"min_pos\"),\n",
        "        max_pos = this.data(\"max_pos\"),\n",
        "        min_scale = root.data(\"min_scale\"),\n",
        "        max_scale = root.data(\"max_scale\"),\n",
        "        old_scale = root.data(\"old_scale\");\n",
        "\n",
        "    var px_per_mm = root.data(\"px_per_mm\");\n",
        "    dx /= px_per_mm;\n",
        "    dy /= px_per_mm;\n",
        "\n",
        "    var xmid = (min_pos + max_pos) / 2;\n",
        "    var xpos = slider_position_from_scale(old_scale, min_scale, max_scale) +\n",
        "                   dx / (max_pos - min_pos);\n",
        "\n",
        "    // compute the new scale\n",
        "    var new_scale;\n",
        "    if (xpos >= 0.5) {\n",
        "        new_scale = Math.exp(2.0 * (xpos - 0.5) * Math.log(max_scale));\n",
        "    }\n",
        "    else {\n",
        "        new_scale = Math.exp(2.0 * xpos * (0 - Math.log(min_scale)) +\n",
        "                        Math.log(min_scale));\n",
        "    }\n",
        "    new_scale = Math.min(max_scale, Math.max(min_scale, new_scale));\n",
        "\n",
        "    update_plot_scale(root, new_scale);\n",
        "};\n",
        "\n",
        "\n",
        "Gadfly.zoomslider_thumb_dragstart = function(event) {\n",
        "    var root = this.plotroot();\n",
        "    init_pan_zoom(root);\n",
        "\n",
        "    // keep track of what the scale was when we started dragging\n",
        "    root.data(\"old_scale\", root.data(\"scale\"));\n",
        "};\n",
        "\n",
        "\n",
        "Gadfly.zoomslider_thumb_dragend = function(event) {\n",
        "};\n",
        "\n",
        "\n",
        "var toggle_color_class = function(root, color_class, ison) {\n",
        "    var guides = root.selectAll(\".guide.\" + color_class + \",.guide .\" + color_class);\n",
        "    var geoms = root.selectAll(\".geometry.\" + color_class + \",.geometry .\" + color_class);\n",
        "    if (ison) {\n",
        "        guides.animate({opacity: 0.5}, 250);\n",
        "        geoms.animate({opacity: 0.0}, 250);\n",
        "    } else {\n",
        "        guides.animate({opacity: 1.0}, 250);\n",
        "        geoms.animate({opacity: 1.0}, 250);\n",
        "    }\n",
        "};\n",
        "\n",
        "\n",
        "Gadfly.colorkey_swatch_click = function(event) {\n",
        "    var root = this.plotroot();\n",
        "    var color_class = this.data(\"color_class\");\n",
        "\n",
        "    if (event.shiftKey) {\n",
        "        root.selectAll(\".colorkey text\")\n",
        "            .forEach(function (element) {\n",
        "                var other_color_class = element.data(\"color_class\");\n",
        "                if (other_color_class != color_class) {\n",
        "                    toggle_color_class(root, other_color_class,\n",
        "                                       element.attr(\"opacity\") == 1.0);\n",
        "                }\n",
        "            });\n",
        "    } else {\n",
        "        toggle_color_class(root, color_class, this.attr(\"opacity\") == 1.0);\n",
        "    }\n",
        "};\n",
        "\n",
        "\n",
        "return Gadfly;\n",
        "\n",
        "}));\n",
        "\n",
        "\n",
        "//@ sourceURL=gadfly.js\n",
        "\n",
        "(function (glob, factory) {\n",
        "    // AMD support\n",
        "      if (typeof require === \"function\" && typeof define === \"function\" && define.amd) {\n",
        "        require([\"Snap.svg\", \"Gadfly\"], function (Snap, Gadfly) {\n",
        "            factory(Snap, Gadfly);\n",
        "        });\n",
        "      } else {\n",
        "          factory(glob.Snap, glob.Gadfly);\n",
        "      }\n",
        "})(window, function (Snap, Gadfly) {\n",
        "    var fig = Snap(\"#fig-65862f8192304b9abe8d29c24ef91791\");\n",
        "fig.select(\"#fig-65862f8192304b9abe8d29c24ef91791-element-4\")\n",
        "   .drag(function() {}, function() {}, function() {});\n",
        "fig.select(\"#fig-65862f8192304b9abe8d29c24ef91791-element-6\")\n",
        "   .data(\"color_class\", \"color_setosa\")\n",
        ".click(Gadfly.colorkey_swatch_click)\n",
        ";\n",
        "fig.select(\"#fig-65862f8192304b9abe8d29c24ef91791-element-7\")\n",
        "   .data(\"color_class\", \"color_versicolor\")\n",
        ".click(Gadfly.colorkey_swatch_click)\n",
        ";\n",
        "fig.select(\"#fig-65862f8192304b9abe8d29c24ef91791-element-8\")\n",
        "   .data(\"color_class\", \"color_virginica\")\n",
        ".click(Gadfly.colorkey_swatch_click)\n",
        ";\n",
        "fig.select(\"#fig-65862f8192304b9abe8d29c24ef91791-element-10\")\n",
        "   .data(\"color_class\", \"color_setosa\")\n",
        ".click(Gadfly.colorkey_swatch_click)\n",
        ";\n",
        "fig.select(\"#fig-65862f8192304b9abe8d29c24ef91791-element-11\")\n",
        "   .data(\"color_class\", \"color_versicolor\")\n",
        ".click(Gadfly.colorkey_swatch_click)\n",
        ";\n",
        "fig.select(\"#fig-65862f8192304b9abe8d29c24ef91791-element-12\")\n",
        "   .data(\"color_class\", \"color_virginica\")\n",
        ".click(Gadfly.colorkey_swatch_click)\n",
        ";\n",
        "fig.select(\"#fig-65862f8192304b9abe8d29c24ef91791-element-15\")\n",
        "   .mouseenter(Gadfly.plot_mouseover)\n",
        ".mouseleave(Gadfly.plot_mouseout)\n",
        ".mousewheel(Gadfly.guide_background_scroll)\n",
        ".drag(Gadfly.guide_background_drag_onmove,\n",
        "      Gadfly.guide_background_drag_onstart,\n",
        "      Gadfly.guide_background_drag_onend)\n",
        ";\n",
        "fig.select(\"#fig-65862f8192304b9abe8d29c24ef91791-element-19\")\n",
        "   .plotroot().data(\"unfocused_ygrid_color\", \"#D0D0E0\")\n",
        ";\n",
        "fig.select(\"#fig-65862f8192304b9abe8d29c24ef91791-element-19\")\n",
        "   .plotroot().data(\"focused_ygrid_color\", \"#A0A0A0\")\n",
        ";\n",
        "fig.select(\"#fig-65862f8192304b9abe8d29c24ef91791-element-158\")\n",
        "   .plotroot().data(\"unfocused_xgrid_color\", \"#D0D0E0\")\n",
        ";\n",
        "fig.select(\"#fig-65862f8192304b9abe8d29c24ef91791-element-158\")\n",
        "   .plotroot().data(\"focused_xgrid_color\", \"#A0A0A0\")\n",
        ";\n",
        "fig.select(\"#fig-65862f8192304b9abe8d29c24ef91791-element-418\")\n",
        "   .data(\"mouseover_color\", \"#cd5c5c\")\n",
        ";\n",
        "fig.select(\"#fig-65862f8192304b9abe8d29c24ef91791-element-418\")\n",
        "   .data(\"mouseout_color\", \"#6a6a6a\")\n",
        ";\n",
        "fig.select(\"#fig-65862f8192304b9abe8d29c24ef91791-element-418\")\n",
        "   .click(Gadfly.zoomslider_zoomin_click)\n",
        ".mouseenter(Gadfly.zoomslider_button_mouseover)\n",
        ".mouseleave(Gadfly.zoomslider_button_mouseout)\n",
        ";\n",
        "fig.select(\"#fig-65862f8192304b9abe8d29c24ef91791-element-422\")\n",
        "   .data(\"max_pos\", 83.41)\n",
        ";\n",
        "fig.select(\"#fig-65862f8192304b9abe8d29c24ef91791-element-422\")\n",
        "   .data(\"min_pos\", 66.41)\n",
        ";\n",
        "fig.select(\"#fig-65862f8192304b9abe8d29c24ef91791-element-422\")\n",
        "   .click(Gadfly.zoomslider_track_click);\n",
        "fig.select(\"#fig-65862f8192304b9abe8d29c24ef91791-element-424\")\n",
        "   .data(\"max_pos\", 83.41)\n",
        ";\n",
        "fig.select(\"#fig-65862f8192304b9abe8d29c24ef91791-element-424\")\n",
        "   .data(\"min_pos\", 66.41)\n",
        ";\n",
        "fig.select(\"#fig-65862f8192304b9abe8d29c24ef91791-element-424\")\n",
        "   .data(\"mouseover_color\", \"#cd5c5c\")\n",
        ";\n",
        "fig.select(\"#fig-65862f8192304b9abe8d29c24ef91791-element-424\")\n",
        "   .data(\"mouseout_color\", \"#6a6a6a\")\n",
        ";\n",
        "fig.select(\"#fig-65862f8192304b9abe8d29c24ef91791-element-424\")\n",
        "   .drag(Gadfly.zoomslider_thumb_dragmove,\n",
        "     Gadfly.zoomslider_thumb_dragstart,\n",
        "     Gadfly.zoomslider_thumb_dragend)\n",
        ".mousedown(Gadfly.zoomslider_thumb_mousedown)\n",
        ".mouseup(Gadfly.zoomslider_thumb_mouseup)\n",
        ";\n",
        "fig.select(\"#fig-65862f8192304b9abe8d29c24ef91791-element-426\")\n",
        "   .data(\"mouseover_color\", \"#cd5c5c\")\n",
        ";\n",
        "fig.select(\"#fig-65862f8192304b9abe8d29c24ef91791-element-426\")\n",
        "   .data(\"mouseout_color\", \"#6a6a6a\")\n",
        ";\n",
        "fig.select(\"#fig-65862f8192304b9abe8d29c24ef91791-element-426\")\n",
        "   .click(Gadfly.zoomslider_zoomout_click)\n",
        ".mouseenter(Gadfly.zoomslider_button_mouseover)\n",
        ".mouseleave(Gadfly.zoomslider_button_mouseout)\n",
        ";\n",
        "    });\n",
        "]]> </script>\n",
        "</svg>\n"
       ],
       "metadata": {},
       "output_type": "pyout",
       "prompt_number": 9,
       "svg": [
        "<?xml version=\"1.0\" encoding=\"UTF-8\"?>\n",
        "<svg xmlns=\"http://www.w3.org/2000/svg\"\n",
        "     xmlns:xlink=\"http://www.w3.org/1999/xlink\"\n",
        "     xmlns:gadfly=\"http://www.gadflyjl.org/ns\"\n",
        "     version=\"1.2\"\n",
        "     width=\"120mm\" height=\"80mm\" viewBox=\"0 0 120 80\"\n",
        "     stroke=\"none\"\n",
        "     fill=\"#000000\"\n",
        "     stroke-width=\"0.3\"\n",
        ">\n",
        "<g class=\"plotroot xscalable yscalable\" id=\"fig-922b9267d0c948c2b1616dc994acf0bb-element-1\">\n",
        "  <g font-size=\"3.88\" font-family=\"'PT Sans','Helvetica Neue','Helvetica',sans-serif\" fill=\"#564A55\" stroke=\"none\" id=\"fig-922b9267d0c948c2b1616dc994acf0bb-element-2\">\n",
        "    <text x=\"59.02\" y=\"72\" text-anchor=\"middle\">SepalLength</text>\n",
        "  </g>\n",
        "  <g class=\"guide xlabels\" font-size=\"2.82\" font-family=\"'PT Sans Caption','Helvetica Neue','Helvetica',sans-serif\" fill=\"#6C606B\" id=\"fig-922b9267d0c948c2b1616dc994acf0bb-element-3\">\n",
        "    <text x=\"20.63\" y=\"66.39\" text-anchor=\"middle\">4</text>\n",
        "    <text x=\"39.83\" y=\"66.39\" text-anchor=\"middle\">5</text>\n",
        "    <text x=\"59.02\" y=\"66.39\" text-anchor=\"middle\">6</text>\n",
        "    <text x=\"78.21\" y=\"66.39\" text-anchor=\"middle\">7</text>\n",
        "    <text x=\"97.41\" y=\"66.39\" text-anchor=\"middle\">8</text>\n",
        "  </g>\n",
        "  <g class=\"guide colorkey\" id=\"fig-922b9267d0c948c2b1616dc994acf0bb-element-4\">\n",
        "    <g fill=\"#4C404B\" font-size=\"2.82\" font-family=\"'PT Sans','Helvetica Neue','Helvetica',sans-serif\" id=\"fig-922b9267d0c948c2b1616dc994acf0bb-element-5\">\n",
        "      <text x=\"103.22\" y=\"32.04\" dy=\"0.35em\" id=\"fig-922b9267d0c948c2b1616dc994acf0bb-element-6\" class=\"color_setosa\">setosa</text>\n",
        "      <text x=\"103.22\" y=\"35.67\" dy=\"0.35em\" id=\"fig-922b9267d0c948c2b1616dc994acf0bb-element-7\" class=\"color_versicolor\">versicolor</text>\n",
        "      <text x=\"103.22\" y=\"39.3\" dy=\"0.35em\" id=\"fig-922b9267d0c948c2b1616dc994acf0bb-element-8\" class=\"color_virginica\">virginica</text>\n",
        "    </g>\n",
        "    <g stroke=\"none\" id=\"fig-922b9267d0c948c2b1616dc994acf0bb-element-9\">\n",
        "      <rect x=\"100.41\" y=\"31.14\" width=\"1.81\" height=\"1.81\" id=\"fig-922b9267d0c948c2b1616dc994acf0bb-element-10\" class=\"color_setosa\" fill=\"#00BFFF\"/>\n",
        "      <rect x=\"100.41\" y=\"34.76\" width=\"1.81\" height=\"1.81\" id=\"fig-922b9267d0c948c2b1616dc994acf0bb-element-11\" class=\"color_versicolor\" fill=\"#D4CA3A\"/>\n",
        "      <rect x=\"100.41\" y=\"38.39\" width=\"1.81\" height=\"1.81\" id=\"fig-922b9267d0c948c2b1616dc994acf0bb-element-12\" class=\"color_virginica\" fill=\"#FF5EA0\"/>\n",
        "    </g>\n",
        "    <g fill=\"#362A35\" font-size=\"3.88\" font-family=\"'PT Sans','Helvetica Neue','Helvetica',sans-serif\" stroke=\"none\" id=\"fig-922b9267d0c948c2b1616dc994acf0bb-element-13\">\n",
        "      <text x=\"100.41\" y=\"28.22\" id=\"fig-922b9267d0c948c2b1616dc994acf0bb-element-14\">Species</text>\n",
        "    </g>\n",
        "  </g>\n",
        "  <g clip-path=\"url(#fig-922b9267d0c948c2b1616dc994acf0bb-element-16)\" id=\"fig-922b9267d0c948c2b1616dc994acf0bb-element-15\">\n",
        "    <g pointer-events=\"visible\" opacity=\"1\" fill=\"none\" stroke=\"none\" class=\"guide background\" id=\"fig-922b9267d0c948c2b1616dc994acf0bb-element-17\">\n",
        "      <rect x=\"18.63\" y=\"5\" width=\"80.78\" height=\"57.72\" id=\"fig-922b9267d0c948c2b1616dc994acf0bb-element-18\"/>\n",
        "    </g>\n",
        "    <g class=\"guide ygridlines xfixed\" stroke-dasharray=\"0.5,0.5\" stroke-width=\"0.2\" stroke=\"#D0D0E0\" id=\"fig-922b9267d0c948c2b1616dc994acf0bb-element-19\">\n",
        "      <path d=\"M18.63,60.72 L 99.41 60.72\" id=\"fig-922b9267d0c948c2b1616dc994acf0bb-element-20\"/>\n",
        "      <path d=\"M18.63,49.97 L 99.41 49.97\" id=\"fig-922b9267d0c948c2b1616dc994acf0bb-element-21\"/>\n",
        "      <path d=\"M18.63,39.23 L 99.41 39.23\" id=\"fig-922b9267d0c948c2b1616dc994acf0bb-element-22\"/>\n",
        "      <path d=\"M18.63,28.49 L 99.41 28.49\" id=\"fig-922b9267d0c948c2b1616dc994acf0bb-element-23\"/>\n",
        "      <path d=\"M18.63,17.74 L 99.41 17.74\" id=\"fig-922b9267d0c948c2b1616dc994acf0bb-element-24\"/>\n",
        "      <path d=\"M18.63,7 L 99.41 7\" id=\"fig-922b9267d0c948c2b1616dc994acf0bb-element-25\"/>\n",
        "    </g>\n",
        "    <g class=\"guide xgridlines yfixed\" stroke-dasharray=\"0.5,0.5\" stroke-width=\"0.2\" stroke=\"#D0D0E0\" id=\"fig-922b9267d0c948c2b1616dc994acf0bb-element-26\">\n",
        "      <path d=\"M20.63,5 L 20.63 62.72\" id=\"fig-922b9267d0c948c2b1616dc994acf0bb-element-27\"/>\n",
        "      <path d=\"M39.83,5 L 39.83 62.72\" id=\"fig-922b9267d0c948c2b1616dc994acf0bb-element-28\"/>\n",
        "      <path d=\"M59.02,5 L 59.02 62.72\" id=\"fig-922b9267d0c948c2b1616dc994acf0bb-element-29\"/>\n",
        "      <path d=\"M78.21,5 L 78.21 62.72\" id=\"fig-922b9267d0c948c2b1616dc994acf0bb-element-30\"/>\n",
        "      <path d=\"M97.41,5 L 97.41 62.72\" id=\"fig-922b9267d0c948c2b1616dc994acf0bb-element-31\"/>\n",
        "    </g>\n",
        "    <g class=\"plotpanel\" id=\"fig-922b9267d0c948c2b1616dc994acf0bb-element-32\">\n",
        "      <g class=\"geometry\" id=\"fig-922b9267d0c948c2b1616dc994acf0bb-element-33\">\n",
        "        <g stroke-width=\"0.3\" id=\"fig-922b9267d0c948c2b1616dc994acf0bb-element-34\">\n",
        "          <circle cx=\"41.74\" cy=\"28.49\" r=\"0.9\" id=\"fig-922b9267d0c948c2b1616dc994acf0bb-element-35\" class=\"color_setosa\" stroke=\"#FFFFFF\" fill=\"#00BFFF\"/>\n",
        "          <circle cx=\"37.91\" cy=\"39.23\" r=\"0.9\" id=\"fig-922b9267d0c948c2b1616dc994acf0bb-element-36\" class=\"color_setosa\" stroke=\"#FFFFFF\" fill=\"#00BFFF\"/>\n",
        "          <circle cx=\"34.07\" cy=\"34.93\" r=\"0.9\" id=\"fig-922b9267d0c948c2b1616dc994acf0bb-element-37\" class=\"color_setosa\" stroke=\"#FFFFFF\" fill=\"#00BFFF\"/>\n",
        "          <circle cx=\"32.15\" cy=\"37.08\" r=\"0.9\" id=\"fig-922b9267d0c948c2b1616dc994acf0bb-element-38\" class=\"color_setosa\" stroke=\"#FFFFFF\" fill=\"#00BFFF\"/>\n",
        "          <circle cx=\"39.83\" cy=\"26.34\" r=\"0.9\" id=\"fig-922b9267d0c948c2b1616dc994acf0bb-element-39\" class=\"color_setosa\" stroke=\"#FFFFFF\" fill=\"#00BFFF\"/>\n",
        "          <circle cx=\"47.5\" cy=\"19.89\" r=\"0.9\" id=\"fig-922b9267d0c948c2b1616dc994acf0bb-element-40\" class=\"color_setosa\" stroke=\"#FFFFFF\" fill=\"#00BFFF\"/>\n",
        "          <circle cx=\"32.15\" cy=\"30.63\" r=\"0.9\" id=\"fig-922b9267d0c948c2b1616dc994acf0bb-element-41\" class=\"color_setosa\" stroke=\"#FFFFFF\" fill=\"#00BFFF\"/>\n",
        "          <circle cx=\"39.83\" cy=\"30.63\" r=\"0.9\" id=\"fig-922b9267d0c948c2b1616dc994acf0bb-element-42\" class=\"color_setosa\" stroke=\"#FFFFFF\" fill=\"#00BFFF\"/>\n",
        "          <circle cx=\"28.31\" cy=\"41.38\" r=\"0.9\" id=\"fig-922b9267d0c948c2b1616dc994acf0bb-element-43\" class=\"color_setosa\" stroke=\"#FFFFFF\" fill=\"#00BFFF\"/>\n",
        "          <circle cx=\"37.91\" cy=\"37.08\" r=\"0.9\" id=\"fig-922b9267d0c948c2b1616dc994acf0bb-element-44\" class=\"color_setosa\" stroke=\"#FFFFFF\" fill=\"#00BFFF\"/>\n",
        "          <circle cx=\"47.5\" cy=\"24.19\" r=\"0.9\" id=\"fig-922b9267d0c948c2b1616dc994acf0bb-element-45\" class=\"color_setosa\" stroke=\"#FFFFFF\" fill=\"#00BFFF\"/>\n",
        "          <circle cx=\"35.99\" cy=\"30.63\" r=\"0.9\" id=\"fig-922b9267d0c948c2b1616dc994acf0bb-element-46\" class=\"color_setosa\" stroke=\"#FFFFFF\" fill=\"#00BFFF\"/>\n",
        "          <circle cx=\"35.99\" cy=\"39.23\" r=\"0.9\" id=\"fig-922b9267d0c948c2b1616dc994acf0bb-element-47\" class=\"color_setosa\" stroke=\"#FFFFFF\" fill=\"#00BFFF\"/>\n",
        "          <circle cx=\"26.39\" cy=\"39.23\" r=\"0.9\" id=\"fig-922b9267d0c948c2b1616dc994acf0bb-element-48\" class=\"color_setosa\" stroke=\"#FFFFFF\" fill=\"#00BFFF\"/>\n",
        "          <circle cx=\"55.18\" cy=\"17.74\" r=\"0.9\" id=\"fig-922b9267d0c948c2b1616dc994acf0bb-element-49\" class=\"color_setosa\" stroke=\"#FFFFFF\" fill=\"#00BFFF\"/>\n",
        "          <circle cx=\"53.26\" cy=\"9.15\" r=\"0.9\" id=\"fig-922b9267d0c948c2b1616dc994acf0bb-element-50\" class=\"color_setosa\" stroke=\"#FFFFFF\" fill=\"#00BFFF\"/>\n",
        "          <circle cx=\"47.5\" cy=\"19.89\" r=\"0.9\" id=\"fig-922b9267d0c948c2b1616dc994acf0bb-element-51\" class=\"color_setosa\" stroke=\"#FFFFFF\" fill=\"#00BFFF\"/>\n",
        "          <circle cx=\"41.74\" cy=\"28.49\" r=\"0.9\" id=\"fig-922b9267d0c948c2b1616dc994acf0bb-element-52\" class=\"color_setosa\" stroke=\"#FFFFFF\" fill=\"#00BFFF\"/>\n",
        "          <circle cx=\"53.26\" cy=\"22.04\" r=\"0.9\" id=\"fig-922b9267d0c948c2b1616dc994acf0bb-element-53\" class=\"color_setosa\" stroke=\"#FFFFFF\" fill=\"#00BFFF\"/>\n",
        "          <circle cx=\"41.74\" cy=\"22.04\" r=\"0.9\" id=\"fig-922b9267d0c948c2b1616dc994acf0bb-element-54\" class=\"color_setosa\" stroke=\"#FFFFFF\" fill=\"#00BFFF\"/>\n",
        "          <circle cx=\"47.5\" cy=\"30.63\" r=\"0.9\" id=\"fig-922b9267d0c948c2b1616dc994acf0bb-element-55\" class=\"color_setosa\" stroke=\"#FFFFFF\" fill=\"#00BFFF\"/>\n",
        "          <circle cx=\"41.74\" cy=\"24.19\" r=\"0.9\" id=\"fig-922b9267d0c948c2b1616dc994acf0bb-element-56\" class=\"color_setosa\" stroke=\"#FFFFFF\" fill=\"#00BFFF\"/>\n",
        "          <circle cx=\"32.15\" cy=\"26.34\" r=\"0.9\" id=\"fig-922b9267d0c948c2b1616dc994acf0bb-element-57\" class=\"color_setosa\" stroke=\"#FFFFFF\" fill=\"#00BFFF\"/>\n",
        "          <circle cx=\"41.74\" cy=\"32.78\" r=\"0.9\" id=\"fig-922b9267d0c948c2b1616dc994acf0bb-element-58\" class=\"color_setosa\" stroke=\"#FFFFFF\" fill=\"#00BFFF\"/>\n",
        "          <circle cx=\"35.99\" cy=\"30.63\" r=\"0.9\" id=\"fig-922b9267d0c948c2b1616dc994acf0bb-element-59\" class=\"color_setosa\" stroke=\"#FFFFFF\" fill=\"#00BFFF\"/>\n",
        "          <circle cx=\"39.83\" cy=\"39.23\" r=\"0.9\" id=\"fig-922b9267d0c948c2b1616dc994acf0bb-element-60\" class=\"color_setosa\" stroke=\"#FFFFFF\" fill=\"#00BFFF\"/>\n",
        "          <circle cx=\"39.83\" cy=\"30.63\" r=\"0.9\" id=\"fig-922b9267d0c948c2b1616dc994acf0bb-element-61\" class=\"color_setosa\" stroke=\"#FFFFFF\" fill=\"#00BFFF\"/>\n",
        "          <circle cx=\"43.66\" cy=\"28.49\" r=\"0.9\" id=\"fig-922b9267d0c948c2b1616dc994acf0bb-element-62\" class=\"color_setosa\" stroke=\"#FFFFFF\" fill=\"#00BFFF\"/>\n",
        "          <circle cx=\"43.66\" cy=\"30.63\" r=\"0.9\" id=\"fig-922b9267d0c948c2b1616dc994acf0bb-element-63\" class=\"color_setosa\" stroke=\"#FFFFFF\" fill=\"#00BFFF\"/>\n",
        "          <circle cx=\"34.07\" cy=\"34.93\" r=\"0.9\" id=\"fig-922b9267d0c948c2b1616dc994acf0bb-element-64\" class=\"color_setosa\" stroke=\"#FFFFFF\" fill=\"#00BFFF\"/>\n",
        "          <circle cx=\"35.99\" cy=\"37.08\" r=\"0.9\" id=\"fig-922b9267d0c948c2b1616dc994acf0bb-element-65\" class=\"color_setosa\" stroke=\"#FFFFFF\" fill=\"#00BFFF\"/>\n",
        "          <circle cx=\"47.5\" cy=\"30.63\" r=\"0.9\" id=\"fig-922b9267d0c948c2b1616dc994acf0bb-element-66\" class=\"color_setosa\" stroke=\"#FFFFFF\" fill=\"#00BFFF\"/>\n",
        "          <circle cx=\"43.66\" cy=\"15.59\" r=\"0.9\" id=\"fig-922b9267d0c948c2b1616dc994acf0bb-element-67\" class=\"color_setosa\" stroke=\"#FFFFFF\" fill=\"#00BFFF\"/>\n",
        "          <circle cx=\"49.42\" cy=\"13.45\" r=\"0.9\" id=\"fig-922b9267d0c948c2b1616dc994acf0bb-element-68\" class=\"color_setosa\" stroke=\"#FFFFFF\" fill=\"#00BFFF\"/>\n",
        "          <circle cx=\"37.91\" cy=\"37.08\" r=\"0.9\" id=\"fig-922b9267d0c948c2b1616dc994acf0bb-element-69\" class=\"color_setosa\" stroke=\"#FFFFFF\" fill=\"#00BFFF\"/>\n",
        "          <circle cx=\"39.83\" cy=\"34.93\" r=\"0.9\" id=\"fig-922b9267d0c948c2b1616dc994acf0bb-element-70\" class=\"color_setosa\" stroke=\"#FFFFFF\" fill=\"#00BFFF\"/>\n",
        "          <circle cx=\"49.42\" cy=\"28.49\" r=\"0.9\" id=\"fig-922b9267d0c948c2b1616dc994acf0bb-element-71\" class=\"color_setosa\" stroke=\"#FFFFFF\" fill=\"#00BFFF\"/>\n",
        "          <circle cx=\"37.91\" cy=\"26.34\" r=\"0.9\" id=\"fig-922b9267d0c948c2b1616dc994acf0bb-element-72\" class=\"color_setosa\" stroke=\"#FFFFFF\" fill=\"#00BFFF\"/>\n",
        "          <circle cx=\"28.31\" cy=\"39.23\" r=\"0.9\" id=\"fig-922b9267d0c948c2b1616dc994acf0bb-element-73\" class=\"color_setosa\" stroke=\"#FFFFFF\" fill=\"#00BFFF\"/>\n",
        "          <circle cx=\"41.74\" cy=\"30.63\" r=\"0.9\" id=\"fig-922b9267d0c948c2b1616dc994acf0bb-element-74\" class=\"color_setosa\" stroke=\"#FFFFFF\" fill=\"#00BFFF\"/>\n",
        "          <circle cx=\"39.83\" cy=\"28.49\" r=\"0.9\" id=\"fig-922b9267d0c948c2b1616dc994acf0bb-element-75\" class=\"color_setosa\" stroke=\"#FFFFFF\" fill=\"#00BFFF\"/>\n",
        "          <circle cx=\"30.23\" cy=\"54.27\" r=\"0.9\" id=\"fig-922b9267d0c948c2b1616dc994acf0bb-element-76\" class=\"color_setosa\" stroke=\"#FFFFFF\" fill=\"#00BFFF\"/>\n",
        "          <circle cx=\"28.31\" cy=\"34.93\" r=\"0.9\" id=\"fig-922b9267d0c948c2b1616dc994acf0bb-element-77\" class=\"color_setosa\" stroke=\"#FFFFFF\" fill=\"#00BFFF\"/>\n",
        "          <circle cx=\"39.83\" cy=\"28.49\" r=\"0.9\" id=\"fig-922b9267d0c948c2b1616dc994acf0bb-element-78\" class=\"color_setosa\" stroke=\"#FFFFFF\" fill=\"#00BFFF\"/>\n",
        "          <circle cx=\"41.74\" cy=\"22.04\" r=\"0.9\" id=\"fig-922b9267d0c948c2b1616dc994acf0bb-element-79\" class=\"color_setosa\" stroke=\"#FFFFFF\" fill=\"#00BFFF\"/>\n",
        "          <circle cx=\"35.99\" cy=\"39.23\" r=\"0.9\" id=\"fig-922b9267d0c948c2b1616dc994acf0bb-element-80\" class=\"color_setosa\" stroke=\"#FFFFFF\" fill=\"#00BFFF\"/>\n",
        "          <circle cx=\"41.74\" cy=\"22.04\" r=\"0.9\" id=\"fig-922b9267d0c948c2b1616dc994acf0bb-element-81\" class=\"color_setosa\" stroke=\"#FFFFFF\" fill=\"#00BFFF\"/>\n",
        "          <circle cx=\"32.15\" cy=\"34.93\" r=\"0.9\" id=\"fig-922b9267d0c948c2b1616dc994acf0bb-element-82\" class=\"color_setosa\" stroke=\"#FFFFFF\" fill=\"#00BFFF\"/>\n",
        "          <circle cx=\"45.58\" cy=\"24.19\" r=\"0.9\" id=\"fig-922b9267d0c948c2b1616dc994acf0bb-element-83\" class=\"color_setosa\" stroke=\"#FFFFFF\" fill=\"#00BFFF\"/>\n",
        "          <circle cx=\"39.83\" cy=\"32.78\" r=\"0.9\" id=\"fig-922b9267d0c948c2b1616dc994acf0bb-element-84\" class=\"color_setosa\" stroke=\"#FFFFFF\" fill=\"#00BFFF\"/>\n",
        "          <circle cx=\"78.21\" cy=\"34.93\" r=\"0.9\" id=\"fig-922b9267d0c948c2b1616dc994acf0bb-element-85\" class=\"color_versicolor\" stroke=\"#FFFFFF\" fill=\"#D4CA3A\"/>\n",
        "          <circle cx=\"66.7\" cy=\"34.93\" r=\"0.9\" id=\"fig-922b9267d0c948c2b1616dc994acf0bb-element-86\" class=\"color_versicolor\" stroke=\"#FFFFFF\" fill=\"#D4CA3A\"/>\n",
        "          <circle cx=\"76.29\" cy=\"37.08\" r=\"0.9\" id=\"fig-922b9267d0c948c2b1616dc994acf0bb-element-87\" class=\"color_versicolor\" stroke=\"#FFFFFF\" fill=\"#D4CA3A\"/>\n",
        "          <circle cx=\"49.42\" cy=\"54.27\" r=\"0.9\" id=\"fig-922b9267d0c948c2b1616dc994acf0bb-element-88\" class=\"color_versicolor\" stroke=\"#FFFFFF\" fill=\"#D4CA3A\"/>\n",
        "          <circle cx=\"68.62\" cy=\"43.53\" r=\"0.9\" id=\"fig-922b9267d0c948c2b1616dc994acf0bb-element-89\" class=\"color_versicolor\" stroke=\"#FFFFFF\" fill=\"#D4CA3A\"/>\n",
        "          <circle cx=\"53.26\" cy=\"43.53\" r=\"0.9\" id=\"fig-922b9267d0c948c2b1616dc994acf0bb-element-90\" class=\"color_versicolor\" stroke=\"#FFFFFF\" fill=\"#D4CA3A\"/>\n",
        "          <circle cx=\"64.78\" cy=\"32.78\" r=\"0.9\" id=\"fig-922b9267d0c948c2b1616dc994acf0bb-element-91\" class=\"color_versicolor\" stroke=\"#FFFFFF\" fill=\"#D4CA3A\"/>\n",
        "          <circle cx=\"37.91\" cy=\"52.12\" r=\"0.9\" id=\"fig-922b9267d0c948c2b1616dc994acf0bb-element-92\" class=\"color_versicolor\" stroke=\"#FFFFFF\" fill=\"#D4CA3A\"/>\n",
        "          <circle cx=\"70.54\" cy=\"41.38\" r=\"0.9\" id=\"fig-922b9267d0c948c2b1616dc994acf0bb-element-93\" class=\"color_versicolor\" stroke=\"#FFFFFF\" fill=\"#D4CA3A\"/>\n",
        "          <circle cx=\"43.66\" cy=\"45.67\" r=\"0.9\" id=\"fig-922b9267d0c948c2b1616dc994acf0bb-element-94\" class=\"color_versicolor\" stroke=\"#FFFFFF\" fill=\"#D4CA3A\"/>\n",
        "          <circle cx=\"39.83\" cy=\"60.72\" r=\"0.9\" id=\"fig-922b9267d0c948c2b1616dc994acf0bb-element-95\" class=\"color_versicolor\" stroke=\"#FFFFFF\" fill=\"#D4CA3A\"/>\n",
        "          <circle cx=\"57.1\" cy=\"39.23\" r=\"0.9\" id=\"fig-922b9267d0c948c2b1616dc994acf0bb-element-96\" class=\"color_versicolor\" stroke=\"#FFFFFF\" fill=\"#D4CA3A\"/>\n",
        "          <circle cx=\"59.02\" cy=\"56.42\" r=\"0.9\" id=\"fig-922b9267d0c948c2b1616dc994acf0bb-element-97\" class=\"color_versicolor\" stroke=\"#FFFFFF\" fill=\"#D4CA3A\"/>\n",
        "          <circle cx=\"60.94\" cy=\"41.38\" r=\"0.9\" id=\"fig-922b9267d0c948c2b1616dc994acf0bb-element-98\" class=\"color_versicolor\" stroke=\"#FFFFFF\" fill=\"#D4CA3A\"/>\n",
        "          <circle cx=\"51.34\" cy=\"41.38\" r=\"0.9\" id=\"fig-922b9267d0c948c2b1616dc994acf0bb-element-99\" class=\"color_versicolor\" stroke=\"#FFFFFF\" fill=\"#D4CA3A\"/>\n",
        "          <circle cx=\"72.45\" cy=\"37.08\" r=\"0.9\" id=\"fig-922b9267d0c948c2b1616dc994acf0bb-element-100\" class=\"color_versicolor\" stroke=\"#FFFFFF\" fill=\"#D4CA3A\"/>\n",
        "          <circle cx=\"51.34\" cy=\"39.23\" r=\"0.9\" id=\"fig-922b9267d0c948c2b1616dc994acf0bb-element-101\" class=\"color_versicolor\" stroke=\"#FFFFFF\" fill=\"#D4CA3A\"/>\n",
        "          <circle cx=\"55.18\" cy=\"45.67\" r=\"0.9\" id=\"fig-922b9267d0c948c2b1616dc994acf0bb-element-102\" class=\"color_versicolor\" stroke=\"#FFFFFF\" fill=\"#D4CA3A\"/>\n",
        "          <circle cx=\"62.86\" cy=\"56.42\" r=\"0.9\" id=\"fig-922b9267d0c948c2b1616dc994acf0bb-element-103\" class=\"color_versicolor\" stroke=\"#FFFFFF\" fill=\"#D4CA3A\"/>\n",
        "          <circle cx=\"51.34\" cy=\"49.97\" r=\"0.9\" id=\"fig-922b9267d0c948c2b1616dc994acf0bb-element-104\" class=\"color_versicolor\" stroke=\"#FFFFFF\" fill=\"#D4CA3A\"/>\n",
        "          <circle cx=\"57.1\" cy=\"34.93\" r=\"0.9\" id=\"fig-922b9267d0c948c2b1616dc994acf0bb-element-105\" class=\"color_versicolor\" stroke=\"#FFFFFF\" fill=\"#D4CA3A\"/>\n",
        "          <circle cx=\"60.94\" cy=\"43.53\" r=\"0.9\" id=\"fig-922b9267d0c948c2b1616dc994acf0bb-element-106\" class=\"color_versicolor\" stroke=\"#FFFFFF\" fill=\"#D4CA3A\"/>\n",
        "          <circle cx=\"64.78\" cy=\"49.97\" r=\"0.9\" id=\"fig-922b9267d0c948c2b1616dc994acf0bb-element-107\" class=\"color_versicolor\" stroke=\"#FFFFFF\" fill=\"#D4CA3A\"/>\n",
        "          <circle cx=\"60.94\" cy=\"43.53\" r=\"0.9\" id=\"fig-922b9267d0c948c2b1616dc994acf0bb-element-108\" class=\"color_versicolor\" stroke=\"#FFFFFF\" fill=\"#D4CA3A\"/>\n",
        "          <circle cx=\"66.7\" cy=\"41.38\" r=\"0.9\" id=\"fig-922b9267d0c948c2b1616dc994acf0bb-element-109\" class=\"color_versicolor\" stroke=\"#FFFFFF\" fill=\"#D4CA3A\"/>\n",
        "          <circle cx=\"70.54\" cy=\"39.23\" r=\"0.9\" id=\"fig-922b9267d0c948c2b1616dc994acf0bb-element-110\" class=\"color_versicolor\" stroke=\"#FFFFFF\" fill=\"#D4CA3A\"/>\n",
        "          <circle cx=\"74.37\" cy=\"43.53\" r=\"0.9\" id=\"fig-922b9267d0c948c2b1616dc994acf0bb-element-111\" class=\"color_versicolor\" stroke=\"#FFFFFF\" fill=\"#D4CA3A\"/>\n",
        "          <circle cx=\"72.45\" cy=\"39.23\" r=\"0.9\" id=\"fig-922b9267d0c948c2b1616dc994acf0bb-element-112\" class=\"color_versicolor\" stroke=\"#FFFFFF\" fill=\"#D4CA3A\"/>\n",
        "          <circle cx=\"59.02\" cy=\"41.38\" r=\"0.9\" id=\"fig-922b9267d0c948c2b1616dc994acf0bb-element-113\" class=\"color_versicolor\" stroke=\"#FFFFFF\" fill=\"#D4CA3A\"/>\n",
        "          <circle cx=\"53.26\" cy=\"47.82\" r=\"0.9\" id=\"fig-922b9267d0c948c2b1616dc994acf0bb-element-114\" class=\"color_versicolor\" stroke=\"#FFFFFF\" fill=\"#D4CA3A\"/>\n",
        "          <circle cx=\"49.42\" cy=\"52.12\" r=\"0.9\" id=\"fig-922b9267d0c948c2b1616dc994acf0bb-element-115\" class=\"color_versicolor\" stroke=\"#FFFFFF\" fill=\"#D4CA3A\"/>\n",
        "          <circle cx=\"49.42\" cy=\"52.12\" r=\"0.9\" id=\"fig-922b9267d0c948c2b1616dc994acf0bb-element-116\" class=\"color_versicolor\" stroke=\"#FFFFFF\" fill=\"#D4CA3A\"/>\n",
        "          <circle cx=\"55.18\" cy=\"45.67\" r=\"0.9\" id=\"fig-922b9267d0c948c2b1616dc994acf0bb-element-117\" class=\"color_versicolor\" stroke=\"#FFFFFF\" fill=\"#D4CA3A\"/>\n",
        "          <circle cx=\"59.02\" cy=\"45.67\" r=\"0.9\" id=\"fig-922b9267d0c948c2b1616dc994acf0bb-element-118\" class=\"color_versicolor\" stroke=\"#FFFFFF\" fill=\"#D4CA3A\"/>\n",
        "          <circle cx=\"47.5\" cy=\"39.23\" r=\"0.9\" id=\"fig-922b9267d0c948c2b1616dc994acf0bb-element-119\" class=\"color_versicolor\" stroke=\"#FFFFFF\" fill=\"#D4CA3A\"/>\n",
        "          <circle cx=\"59.02\" cy=\"30.63\" r=\"0.9\" id=\"fig-922b9267d0c948c2b1616dc994acf0bb-element-120\" class=\"color_versicolor\" stroke=\"#FFFFFF\" fill=\"#D4CA3A\"/>\n",
        "          <circle cx=\"72.45\" cy=\"37.08\" r=\"0.9\" id=\"fig-922b9267d0c948c2b1616dc994acf0bb-element-121\" class=\"color_versicolor\" stroke=\"#FFFFFF\" fill=\"#D4CA3A\"/>\n",
        "          <circle cx=\"64.78\" cy=\"54.27\" r=\"0.9\" id=\"fig-922b9267d0c948c2b1616dc994acf0bb-element-122\" class=\"color_versicolor\" stroke=\"#FFFFFF\" fill=\"#D4CA3A\"/>\n",
        "          <circle cx=\"51.34\" cy=\"39.23\" r=\"0.9\" id=\"fig-922b9267d0c948c2b1616dc994acf0bb-element-123\" class=\"color_versicolor\" stroke=\"#FFFFFF\" fill=\"#D4CA3A\"/>\n",
        "          <circle cx=\"49.42\" cy=\"49.97\" r=\"0.9\" id=\"fig-922b9267d0c948c2b1616dc994acf0bb-element-124\" class=\"color_versicolor\" stroke=\"#FFFFFF\" fill=\"#D4CA3A\"/>\n",
        "          <circle cx=\"49.42\" cy=\"47.82\" r=\"0.9\" id=\"fig-922b9267d0c948c2b1616dc994acf0bb-element-125\" class=\"color_versicolor\" stroke=\"#FFFFFF\" fill=\"#D4CA3A\"/>\n",
        "          <circle cx=\"60.94\" cy=\"39.23\" r=\"0.9\" id=\"fig-922b9267d0c948c2b1616dc994acf0bb-element-126\" class=\"color_versicolor\" stroke=\"#FFFFFF\" fill=\"#D4CA3A\"/>\n",
        "          <circle cx=\"55.18\" cy=\"47.82\" r=\"0.9\" id=\"fig-922b9267d0c948c2b1616dc994acf0bb-element-127\" class=\"color_versicolor\" stroke=\"#FFFFFF\" fill=\"#D4CA3A\"/>\n",
        "          <circle cx=\"39.83\" cy=\"54.27\" r=\"0.9\" id=\"fig-922b9267d0c948c2b1616dc994acf0bb-element-128\" class=\"color_versicolor\" stroke=\"#FFFFFF\" fill=\"#D4CA3A\"/>\n",
        "          <circle cx=\"51.34\" cy=\"45.67\" r=\"0.9\" id=\"fig-922b9267d0c948c2b1616dc994acf0bb-element-129\" class=\"color_versicolor\" stroke=\"#FFFFFF\" fill=\"#D4CA3A\"/>\n",
        "          <circle cx=\"53.26\" cy=\"39.23\" r=\"0.9\" id=\"fig-922b9267d0c948c2b1616dc994acf0bb-element-130\" class=\"color_versicolor\" stroke=\"#FFFFFF\" fill=\"#D4CA3A\"/>\n",
        "          <circle cx=\"53.26\" cy=\"41.38\" r=\"0.9\" id=\"fig-922b9267d0c948c2b1616dc994acf0bb-element-131\" class=\"color_versicolor\" stroke=\"#FFFFFF\" fill=\"#D4CA3A\"/>\n",
        "          <circle cx=\"62.86\" cy=\"41.38\" r=\"0.9\" id=\"fig-922b9267d0c948c2b1616dc994acf0bb-element-132\" class=\"color_versicolor\" stroke=\"#FFFFFF\" fill=\"#D4CA3A\"/>\n",
        "          <circle cx=\"41.74\" cy=\"49.97\" r=\"0.9\" id=\"fig-922b9267d0c948c2b1616dc994acf0bb-element-133\" class=\"color_versicolor\" stroke=\"#FFFFFF\" fill=\"#D4CA3A\"/>\n",
        "          <circle cx=\"53.26\" cy=\"43.53\" r=\"0.9\" id=\"fig-922b9267d0c948c2b1616dc994acf0bb-element-134\" class=\"color_versicolor\" stroke=\"#FFFFFF\" fill=\"#D4CA3A\"/>\n",
        "          <circle cx=\"64.78\" cy=\"32.78\" r=\"0.9\" id=\"fig-922b9267d0c948c2b1616dc994acf0bb-element-135\" class=\"color_virginica\" stroke=\"#FFFFFF\" fill=\"#FF5EA0\"/>\n",
        "          <circle cx=\"55.18\" cy=\"45.67\" r=\"0.9\" id=\"fig-922b9267d0c948c2b1616dc994acf0bb-element-136\" class=\"color_virginica\" stroke=\"#FFFFFF\" fill=\"#FF5EA0\"/>\n",
        "          <circle cx=\"80.13\" cy=\"39.23\" r=\"0.9\" id=\"fig-922b9267d0c948c2b1616dc994acf0bb-element-137\" class=\"color_virginica\" stroke=\"#FFFFFF\" fill=\"#FF5EA0\"/>\n",
        "          <circle cx=\"64.78\" cy=\"41.38\" r=\"0.9\" id=\"fig-922b9267d0c948c2b1616dc994acf0bb-element-138\" class=\"color_virginica\" stroke=\"#FFFFFF\" fill=\"#FF5EA0\"/>\n",
        "          <circle cx=\"68.62\" cy=\"39.23\" r=\"0.9\" id=\"fig-922b9267d0c948c2b1616dc994acf0bb-element-139\" class=\"color_virginica\" stroke=\"#FFFFFF\" fill=\"#FF5EA0\"/>\n",
        "          <circle cx=\"89.73\" cy=\"39.23\" r=\"0.9\" id=\"fig-922b9267d0c948c2b1616dc994acf0bb-element-140\" class=\"color_virginica\" stroke=\"#FFFFFF\" fill=\"#FF5EA0\"/>\n",
        "          <circle cx=\"37.91\" cy=\"49.97\" r=\"0.9\" id=\"fig-922b9267d0c948c2b1616dc994acf0bb-element-141\" class=\"color_virginica\" stroke=\"#FFFFFF\" fill=\"#FF5EA0\"/>\n",
        "          <circle cx=\"83.97\" cy=\"41.38\" r=\"0.9\" id=\"fig-922b9267d0c948c2b1616dc994acf0bb-element-142\" class=\"color_virginica\" stroke=\"#FFFFFF\" fill=\"#FF5EA0\"/>\n",
        "          <circle cx=\"72.45\" cy=\"49.97\" r=\"0.9\" id=\"fig-922b9267d0c948c2b1616dc994acf0bb-element-143\" class=\"color_virginica\" stroke=\"#FFFFFF\" fill=\"#FF5EA0\"/>\n",
        "          <circle cx=\"82.05\" cy=\"26.34\" r=\"0.9\" id=\"fig-922b9267d0c948c2b1616dc994acf0bb-element-144\" class=\"color_virginica\" stroke=\"#FFFFFF\" fill=\"#FF5EA0\"/>\n",
        "          <circle cx=\"68.62\" cy=\"34.93\" r=\"0.9\" id=\"fig-922b9267d0c948c2b1616dc994acf0bb-element-145\" class=\"color_virginica\" stroke=\"#FFFFFF\" fill=\"#FF5EA0\"/>\n",
        "          <circle cx=\"66.7\" cy=\"45.67\" r=\"0.9\" id=\"fig-922b9267d0c948c2b1616dc994acf0bb-element-146\" class=\"color_virginica\" stroke=\"#FFFFFF\" fill=\"#FF5EA0\"/>\n",
        "          <circle cx=\"74.37\" cy=\"39.23\" r=\"0.9\" id=\"fig-922b9267d0c948c2b1616dc994acf0bb-element-147\" class=\"color_virginica\" stroke=\"#FFFFFF\" fill=\"#FF5EA0\"/>\n",
        "          <circle cx=\"53.26\" cy=\"49.97\" r=\"0.9\" id=\"fig-922b9267d0c948c2b1616dc994acf0bb-element-148\" class=\"color_virginica\" stroke=\"#FFFFFF\" fill=\"#FF5EA0\"/>\n",
        "          <circle cx=\"55.18\" cy=\"43.53\" r=\"0.9\" id=\"fig-922b9267d0c948c2b1616dc994acf0bb-element-149\" class=\"color_virginica\" stroke=\"#FFFFFF\" fill=\"#FF5EA0\"/>\n",
        "          <circle cx=\"66.7\" cy=\"34.93\" r=\"0.9\" id=\"fig-922b9267d0c948c2b1616dc994acf0bb-element-150\" class=\"color_virginica\" stroke=\"#FFFFFF\" fill=\"#FF5EA0\"/>\n",
        "          <circle cx=\"68.62\" cy=\"39.23\" r=\"0.9\" id=\"fig-922b9267d0c948c2b1616dc994acf0bb-element-151\" class=\"color_virginica\" stroke=\"#FFFFFF\" fill=\"#FF5EA0\"/>\n",
        "          <circle cx=\"91.65\" cy=\"22.04\" r=\"0.9\" id=\"fig-922b9267d0c948c2b1616dc994acf0bb-element-152\" class=\"color_virginica\" stroke=\"#FFFFFF\" fill=\"#FF5EA0\"/>\n",
        "          <circle cx=\"91.65\" cy=\"47.82\" r=\"0.9\" id=\"fig-922b9267d0c948c2b1616dc994acf0bb-element-153\" class=\"color_virginica\" stroke=\"#FFFFFF\" fill=\"#FF5EA0\"/>\n",
        "          <circle cx=\"59.02\" cy=\"56.42\" r=\"0.9\" id=\"fig-922b9267d0c948c2b1616dc994acf0bb-element-154\" class=\"color_virginica\" stroke=\"#FFFFFF\" fill=\"#FF5EA0\"/>\n",
        "          <circle cx=\"76.29\" cy=\"34.93\" r=\"0.9\" id=\"fig-922b9267d0c948c2b1616dc994acf0bb-element-155\" class=\"color_virginica\" stroke=\"#FFFFFF\" fill=\"#FF5EA0\"/>\n",
        "          <circle cx=\"51.34\" cy=\"43.53\" r=\"0.9\" id=\"fig-922b9267d0c948c2b1616dc994acf0bb-element-156\" class=\"color_virginica\" stroke=\"#FFFFFF\" fill=\"#FF5EA0\"/>\n",
        "          <circle cx=\"91.65\" cy=\"43.53\" r=\"0.9\" id=\"fig-922b9267d0c948c2b1616dc994acf0bb-element-157\" class=\"color_virginica\" stroke=\"#FFFFFF\" fill=\"#FF5EA0\"/>\n",
        "          <circle cx=\"64.78\" cy=\"45.67\" r=\"0.9\" id=\"fig-922b9267d0c948c2b1616dc994acf0bb-element-158\" class=\"color_virginica\" stroke=\"#FFFFFF\" fill=\"#FF5EA0\"/>\n",
        "          <circle cx=\"72.45\" cy=\"32.78\" r=\"0.9\" id=\"fig-922b9267d0c948c2b1616dc994acf0bb-element-159\" class=\"color_virginica\" stroke=\"#FFFFFF\" fill=\"#FF5EA0\"/>\n",
        "          <circle cx=\"82.05\" cy=\"34.93\" r=\"0.9\" id=\"fig-922b9267d0c948c2b1616dc994acf0bb-element-160\" class=\"color_virginica\" stroke=\"#FFFFFF\" fill=\"#FF5EA0\"/>\n",
        "          <circle cx=\"62.86\" cy=\"43.53\" r=\"0.9\" id=\"fig-922b9267d0c948c2b1616dc994acf0bb-element-161\" class=\"color_virginica\" stroke=\"#FFFFFF\" fill=\"#FF5EA0\"/>\n",
        "          <circle cx=\"60.94\" cy=\"39.23\" r=\"0.9\" id=\"fig-922b9267d0c948c2b1616dc994acf0bb-element-162\" class=\"color_virginica\" stroke=\"#FFFFFF\" fill=\"#FF5EA0\"/>\n",
        "          <circle cx=\"66.7\" cy=\"43.53\" r=\"0.9\" id=\"fig-922b9267d0c948c2b1616dc994acf0bb-element-163\" class=\"color_virginica\" stroke=\"#FFFFFF\" fill=\"#FF5EA0\"/>\n",
        "          <circle cx=\"82.05\" cy=\"39.23\" r=\"0.9\" id=\"fig-922b9267d0c948c2b1616dc994acf0bb-element-164\" class=\"color_virginica\" stroke=\"#FFFFFF\" fill=\"#FF5EA0\"/>\n",
        "          <circle cx=\"85.89\" cy=\"43.53\" r=\"0.9\" id=\"fig-922b9267d0c948c2b1616dc994acf0bb-element-165\" class=\"color_virginica\" stroke=\"#FFFFFF\" fill=\"#FF5EA0\"/>\n",
        "          <circle cx=\"95.49\" cy=\"22.04\" r=\"0.9\" id=\"fig-922b9267d0c948c2b1616dc994acf0bb-element-166\" class=\"color_virginica\" stroke=\"#FFFFFF\" fill=\"#FF5EA0\"/>\n",
        "          <circle cx=\"66.7\" cy=\"43.53\" r=\"0.9\" id=\"fig-922b9267d0c948c2b1616dc994acf0bb-element-167\" class=\"color_virginica\" stroke=\"#FFFFFF\" fill=\"#FF5EA0\"/>\n",
        "          <circle cx=\"64.78\" cy=\"43.53\" r=\"0.9\" id=\"fig-922b9267d0c948c2b1616dc994acf0bb-element-168\" class=\"color_virginica\" stroke=\"#FFFFFF\" fill=\"#FF5EA0\"/>\n",
        "          <circle cx=\"60.94\" cy=\"47.82\" r=\"0.9\" id=\"fig-922b9267d0c948c2b1616dc994acf0bb-element-169\" class=\"color_virginica\" stroke=\"#FFFFFF\" fill=\"#FF5EA0\"/>\n",
        "          <circle cx=\"91.65\" cy=\"39.23\" r=\"0.9\" id=\"fig-922b9267d0c948c2b1616dc994acf0bb-element-170\" class=\"color_virginica\" stroke=\"#FFFFFF\" fill=\"#FF5EA0\"/>\n",
        "          <circle cx=\"64.78\" cy=\"30.63\" r=\"0.9\" id=\"fig-922b9267d0c948c2b1616dc994acf0bb-element-171\" class=\"color_virginica\" stroke=\"#FFFFFF\" fill=\"#FF5EA0\"/>\n",
        "          <circle cx=\"66.7\" cy=\"37.08\" r=\"0.9\" id=\"fig-922b9267d0c948c2b1616dc994acf0bb-element-172\" class=\"color_virginica\" stroke=\"#FFFFFF\" fill=\"#FF5EA0\"/>\n",
        "          <circle cx=\"59.02\" cy=\"39.23\" r=\"0.9\" id=\"fig-922b9267d0c948c2b1616dc994acf0bb-element-173\" class=\"color_virginica\" stroke=\"#FFFFFF\" fill=\"#FF5EA0\"/>\n",
        "          <circle cx=\"76.29\" cy=\"37.08\" r=\"0.9\" id=\"fig-922b9267d0c948c2b1616dc994acf0bb-element-174\" class=\"color_virginica\" stroke=\"#FFFFFF\" fill=\"#FF5EA0\"/>\n",
        "          <circle cx=\"72.45\" cy=\"37.08\" r=\"0.9\" id=\"fig-922b9267d0c948c2b1616dc994acf0bb-element-175\" class=\"color_virginica\" stroke=\"#FFFFFF\" fill=\"#FF5EA0\"/>\n",
        "          <circle cx=\"76.29\" cy=\"37.08\" r=\"0.9\" id=\"fig-922b9267d0c948c2b1616dc994acf0bb-element-176\" class=\"color_virginica\" stroke=\"#FFFFFF\" fill=\"#FF5EA0\"/>\n",
        "          <circle cx=\"55.18\" cy=\"45.67\" r=\"0.9\" id=\"fig-922b9267d0c948c2b1616dc994acf0bb-element-177\" class=\"color_virginica\" stroke=\"#FFFFFF\" fill=\"#FF5EA0\"/>\n",
        "          <circle cx=\"74.37\" cy=\"34.93\" r=\"0.9\" id=\"fig-922b9267d0c948c2b1616dc994acf0bb-element-178\" class=\"color_virginica\" stroke=\"#FFFFFF\" fill=\"#FF5EA0\"/>\n",
        "          <circle cx=\"72.45\" cy=\"32.78\" r=\"0.9\" id=\"fig-922b9267d0c948c2b1616dc994acf0bb-element-179\" class=\"color_virginica\" stroke=\"#FFFFFF\" fill=\"#FF5EA0\"/>\n",
        "          <circle cx=\"72.45\" cy=\"39.23\" r=\"0.9\" id=\"fig-922b9267d0c948c2b1616dc994acf0bb-element-180\" class=\"color_virginica\" stroke=\"#FFFFFF\" fill=\"#FF5EA0\"/>\n",
        "          <circle cx=\"64.78\" cy=\"49.97\" r=\"0.9\" id=\"fig-922b9267d0c948c2b1616dc994acf0bb-element-181\" class=\"color_virginica\" stroke=\"#FFFFFF\" fill=\"#FF5EA0\"/>\n",
        "          <circle cx=\"68.62\" cy=\"39.23\" r=\"0.9\" id=\"fig-922b9267d0c948c2b1616dc994acf0bb-element-182\" class=\"color_virginica\" stroke=\"#FFFFFF\" fill=\"#FF5EA0\"/>\n",
        "          <circle cx=\"62.86\" cy=\"30.63\" r=\"0.9\" id=\"fig-922b9267d0c948c2b1616dc994acf0bb-element-183\" class=\"color_virginica\" stroke=\"#FFFFFF\" fill=\"#FF5EA0\"/>\n",
        "          <circle cx=\"57.1\" cy=\"39.23\" r=\"0.9\" id=\"fig-922b9267d0c948c2b1616dc994acf0bb-element-184\" class=\"color_virginica\" stroke=\"#FFFFFF\" fill=\"#FF5EA0\"/>\n",
        "        </g>\n",
        "      </g>\n",
        "    </g>\n",
        "  </g>\n",
        "  <g class=\"guide ylabels\" font-size=\"2.82\" font-family=\"'PT Sans Caption','Helvetica Neue','Helvetica',sans-serif\" fill=\"#6C606B\" id=\"fig-922b9267d0c948c2b1616dc994acf0bb-element-185\">\n",
        "    <text x=\"17.63\" y=\"60.72\" text-anchor=\"end\" dy=\"0.35em\" id=\"fig-922b9267d0c948c2b1616dc994acf0bb-element-186\">2.0</text>\n",
        "    <text x=\"17.63\" y=\"49.97\" text-anchor=\"end\" dy=\"0.35em\" id=\"fig-922b9267d0c948c2b1616dc994acf0bb-element-187\">2.5</text>\n",
        "    <text x=\"17.63\" y=\"39.23\" text-anchor=\"end\" dy=\"0.35em\" id=\"fig-922b9267d0c948c2b1616dc994acf0bb-element-188\">3.0</text>\n",
        "    <text x=\"17.63\" y=\"28.49\" text-anchor=\"end\" dy=\"0.35em\" id=\"fig-922b9267d0c948c2b1616dc994acf0bb-element-189\">3.5</text>\n",
        "    <text x=\"17.63\" y=\"17.74\" text-anchor=\"end\" dy=\"0.35em\" id=\"fig-922b9267d0c948c2b1616dc994acf0bb-element-190\">4.0</text>\n",
        "    <text x=\"17.63\" y=\"7\" text-anchor=\"end\" dy=\"0.35em\" id=\"fig-922b9267d0c948c2b1616dc994acf0bb-element-191\">4.5</text>\n",
        "  </g>\n",
        "  <g font-size=\"3.88\" font-family=\"'PT Sans','Helvetica Neue','Helvetica',sans-serif\" fill=\"#564A55\" stroke=\"none\" id=\"fig-922b9267d0c948c2b1616dc994acf0bb-element-192\">\n",
        "    <text x=\"8.81\" y=\"31.86\" text-anchor=\"middle\" dy=\"0.35em\" transform=\"rotate(-90, 8.81, 33.86)\" id=\"fig-922b9267d0c948c2b1616dc994acf0bb-element-193\">SepalWidth</text>\n",
        "  </g>\n",
        "</g>\n",
        "<defs>\n",
        "<clipPath id=\"fig-922b9267d0c948c2b1616dc994acf0bb-element-16\">\n",
        "  <path d=\"M18.63,5 L 99.41 5 99.41 62.72 18.63 62.72\" />\n",
        "</clipPath\n",
        "></defs>\n",
        "</svg>\n"
       ],
       "text": [
        "Plot(...)"
       ]
      }
     ],
     "prompt_number": 9
    },
    {
     "cell_type": "code",
     "collapsed": false,
     "input": [
      "car_df = dataset(\"car\", \"SLID\")\n",
      "head(car_df)"
     ],
     "language": "python",
     "metadata": {},
     "outputs": [
      {
       "html": [
        "<table class=\"data-frame\"><tr><th></th><th>Wages</th><th>Education</th><th>Age</th><th>Sex</th><th>Language</th></tr><tr><th>1</th><td>10.56</td><td>15.0</td><td>40</td><td>Male</td><td>English</td></tr><tr><th>2</th><td>11.0</td><td>13.2</td><td>19</td><td>Male</td><td>English</td></tr><tr><th>3</th><td>NA</td><td>16.0</td><td>49</td><td>Male</td><td>Other</td></tr><tr><th>4</th><td>17.76</td><td>14.0</td><td>46</td><td>Male</td><td>Other</td></tr><tr><th>5</th><td>NA</td><td>8.0</td><td>71</td><td>Male</td><td>English</td></tr><tr><th>6</th><td>14.0</td><td>16.0</td><td>50</td><td>Female</td><td>English</td></tr></table>"
       ],
       "metadata": {},
       "output_type": "pyout",
       "prompt_number": 10,
       "text": [
        "6x5 DataFrame\n",
        "|-------|-------|-----------|-----|----------|-----------|\n",
        "| Row # | Wages | Education | Age | Sex      | Language  |\n",
        "| 1     | 10.56 | 15.0      | 40  | \"Male\"   | \"English\" |\n",
        "| 2     | 11.0  | 13.2      | 19  | \"Male\"   | \"English\" |\n",
        "| 3     | NA    | 16.0      | 49  | \"Male\"   | \"Other\"   |\n",
        "| 4     | 17.76 | 14.0      | 46  | \"Male\"   | \"Other\"   |\n",
        "| 5     | NA    | 8.0       | 71  | \"Male\"   | \"English\" |\n",
        "| 6     | 14.0  | 16.0      | 50  | \"Female\" | \"English\" |"
       ]
      }
     ],
     "prompt_number": 10
    },
    {
     "cell_type": "code",
     "collapsed": false,
     "input": [
      "typeof(iris[:, :Species])"
     ],
     "language": "python",
     "metadata": {},
     "outputs": [
      {
       "metadata": {},
       "output_type": "pyout",
       "prompt_number": 12,
       "text": [
        "PooledDataArray{ASCIIString,Uint8,1} (constructor with 1 method)"
       ]
      }
     ],
     "prompt_number": 12
    },
    {
     "cell_type": "code",
     "collapsed": false,
     "input": [
      "using PyPlot\n",
      "plot(iris[1:50, :SepalLength], \"b-.\")"
     ],
     "language": "python",
     "metadata": {},
     "outputs": [
      {
       "metadata": {},
       "output_type": "display_data",
       "png": "[encoded data removed]",
       "text": [
        "Figure(PyObject <matplotlib.figure.Figure object at 0x7fa00d2b2510>)"
       ]
      },
      {
       "metadata": {},
       "output_type": "pyout",
       "prompt_number": 16,
       "text": [
        "1-element Array{Any,1}:\n",
        " PyObject <matplotlib.lines.Line2D object at 0x7fa00d520190>"
       ]
      }
     ],
     "prompt_number": 16
    },
    {
     "cell_type": "code",
     "collapsed": false,
     "input": [
      "## profiling - use STABLE TYPE to speed it up\n",
      "function sum1(N::Int)\n",
      "    total = 0\n",
      "    for i in 1:N\n",
      "        total += i/2\n",
      "    end\n",
      "    total\n",
      "end\n",
      "\n",
      "function sum2(N::Int)\n",
      "    total = zero(0.0)\n",
      "    for i in 1:N\n",
      "        total += i/2\n",
      "    end\n",
      "    total\n",
      "end"
     ],
     "language": "python",
     "metadata": {},
     "outputs": [
      {
       "metadata": {},
       "output_type": "pyout",
       "prompt_number": 1,
       "text": [
        "sum2 (generic function with 1 method)"
       ]
      }
     ],
     "prompt_number": 1
    },
    {
     "cell_type": "code",
     "collapsed": false,
     "input": [
      "@time sum1(100000000000)\n"
     ],
     "language": "python",
     "metadata": {},
     "outputs": []
    },
    {
     "cell_type": "code",
     "collapsed": false,
     "input": [
      "@time sum2(100000000000)"
     ],
     "language": "python",
     "metadata": {},
     "outputs": [
      {
       "output_type": "stream",
       "stream": "stdout",
       "text": [
        "elapsed time: 79"
       ]
      },
      {
       "output_type": "stream",
       "stream": "stdout",
       "text": [
        ".963135189 seconds (96 bytes allocated)\n"
       ]
      },
      {
       "metadata": {},
       "output_type": "pyout",
       "prompt_number": 5,
       "text": [
        "2.4999999999489826e21"
       ]
      }
     ],
     "prompt_number": 5
    },
    {
     "cell_type": "markdown",
     "metadata": {},
     "source": [
      "## meta programming"
     ]
    },
    {
     "cell_type": "code",
     "collapsed": false,
     "input": [
      "exp = :(a+b)\n",
      "eval(exp)"
     ],
     "language": "python",
     "metadata": {},
     "outputs": [
      {
       "ename": "LoadError",
       "evalue": "a not defined\nwhile loading In[17], in expression starting on line 2",
       "output_type": "pyerr",
       "traceback": [
        "a not defined\nwhile loading In[17], in expression starting on line 2",
        ""
       ]
      }
     ],
     "prompt_number": 17
    },
    {
     "cell_type": "code",
     "collapsed": false,
     "input": [
      "a, b = 1, 2\n",
      "eval(exp)"
     ],
     "language": "python",
     "metadata": {},
     "outputs": [
      {
       "metadata": {},
       "output_type": "pyout",
       "prompt_number": 18,
       "text": [
        "3"
       ]
      }
     ],
     "prompt_number": 18
    },
    {
     "cell_type": "code",
     "collapsed": false,
     "input": [
      "names(exp), typeof(exp)"
     ],
     "language": "python",
     "metadata": {},
     "outputs": [
      {
       "metadata": {},
       "output_type": "pyout",
       "prompt_number": 20,
       "text": [
        "([:head,:args,:typ],Expr)"
       ]
      }
     ],
     "prompt_number": 20
    },
    {
     "cell_type": "markdown",
     "metadata": {},
     "source": [
      "## Integration with Python"
     ]
    },
    {
     "cell_type": "code",
     "collapsed": false,
     "input": [
      "using PyCall"
     ],
     "language": "python",
     "metadata": {},
     "outputs": [],
     "prompt_number": 21
    },
    {
     "cell_type": "code",
     "collapsed": false,
     "input": [
      "@pyimport sklearn.preprocessing as preprocessing"
     ],
     "language": "python",
     "metadata": {},
     "outputs": [],
     "prompt_number": 23
    },
    {
     "cell_type": "code",
     "collapsed": false,
     "input": [
      "preprocessing.normalize([1. 2; 3 100])"
     ],
     "language": "python",
     "metadata": {},
     "outputs": [
      {
       "metadata": {},
       "output_type": "pyout",
       "prompt_number": 36,
       "text": [
        "2x2 Array{Float64,2}:\n",
        " 0.447214   0.894427\n",
        " 0.0299865  0.99955 "
       ]
      }
     ],
     "prompt_number": 36
    },
    {
     "cell_type": "code",
     "collapsed": false,
     "input": [
      "preprocessing.normalize(map(float, [1 2; 3 100]))"
     ],
     "language": "python",
     "metadata": {},
     "outputs": [
      {
       "metadata": {},
       "output_type": "pyout",
       "prompt_number": 38,
       "text": [
        "2x2 Array{Float64,2}:\n",
        " 0.447214   0.894427\n",
        " 0.0299865  0.99955 "
       ]
      }
     ],
     "prompt_number": 38
    },
    {
     "cell_type": "code",
     "collapsed": false,
     "input": [
      "nheads = @parallel (+) for i=1:200000000\n",
      "  int(randbool())\n",
      "end"
     ],
     "language": "python",
     "metadata": {},
     "outputs": [
      {
       "metadata": {},
       "output_type": "pyout",
       "prompt_number": 40,
       "text": [
        "100000891"
       ]
      }
     ],
     "prompt_number": 40
    },
    {
     "cell_type": "code",
     "collapsed": false,
     "input": [
      "@pyimport IPython.html.widgets as widgets"
     ],
     "language": "python",
     "metadata": {},
     "outputs": [],
     "prompt_number": 41
    },
    {
     "cell_type": "markdown",
     "metadata": {},
     "source": [
      "## Parallel Computing"
     ]
    },
    {
     "cell_type": "code",
     "collapsed": false,
     "input": [
      "addprocs(3)\n",
      "print(nprocs())"
     ],
     "language": "python",
     "metadata": {},
     "outputs": [
      {
       "output_type": "stream",
       "stream": "stdout",
       "text": [
        "10"
       ]
      }
     ],
     "prompt_number": 11
    },
    {
     "cell_type": "code",
     "collapsed": false,
     "input": [
      "for i in 1:10\n",
      "    r = @spawn rand(Int64)\n",
      "    print(\"process: $(r.where), num: $(fetch(r))\\n\")\n",
      "end"
     ],
     "language": "python",
     "metadata": {},
     "outputs": [
      {
       "output_type": "stream",
       "stream": "stdout",
       "text": [
        "process: 2, num: -591198564301421879\n"
       ]
      },
      {
       "output_type": "stream",
       "stream": "stdout",
       "text": [
        "process: 3, num: 6373800265588269201\n",
        "process: 4, num: -3891166482010990238\n",
        "process: 5, num: -4239146193569590844\n",
        "process: 6, num: -4783993796752976097\n",
        "process: 7, num: -5889727465220496721\n",
        "process: 8, num: 4926459707477539201\n",
        "process: 9, num: 5566019824761388082\n",
        "process: 10, num: -1788314874719435846\n",
        "process: 2, num: -3118690490050935840\n"
       ]
      }
     ],
     "prompt_number": 18
    },
    {
     "cell_type": "code",
     "collapsed": false,
     "input": [
      "@everywhere id = myid()"
     ],
     "language": "python",
     "metadata": {},
     "outputs": [],
     "prompt_number": 19
    },
    {
     "cell_type": "code",
     "collapsed": false,
     "input": [
      "@everywhere function count_heads(n)\n",
      "    c::Int = 0\n",
      "    for i=1:n\n",
      "        c += randbool()\n",
      "    end\n",
      "    c\n",
      "end"
     ],
     "language": "python",
     "metadata": {},
     "outputs": [],
     "prompt_number": 21
    },
    {
     "cell_type": "code",
     "collapsed": false,
     "input": [
      "r = @spawn begin\n",
      "    println(myid())\n",
      "    count_heads(10)\n",
      "end"
     ],
     "language": "python",
     "metadata": {},
     "outputs": [
      {
       "metadata": {},
       "output_type": "pyout",
       "prompt_number": 28,
       "text": [
        "RemoteRef(7,1,216)"
       ]
      },
      {
       "output_type": "stream",
       "stream": "stdout",
       "text": [
        "\tFrom worker 7:\t7\n"
       ]
      }
     ],
     "prompt_number": 28
    },
    {
     "cell_type": "code",
     "collapsed": false,
     "input": [
      "total = 0\n",
      "for i in 1:10\n",
      "    total += fetch(@spawnat i count_heads(200000000))\n",
      "end\n",
      "total"
     ],
     "language": "python",
     "metadata": {},
     "outputs": [
      {
       "metadata": {},
       "output_type": "pyout",
       "prompt_number": 38,
       "text": [
        "999988708"
       ]
      }
     ],
     "prompt_number": 38
    },
    {
     "cell_type": "code",
     "collapsed": false,
     "input": [
      "nheads = @parallel (+) for i=1:2000000000\n",
      "  int(randbool())\n",
      "end\n",
      "nheads"
     ],
     "language": "python",
     "metadata": {},
     "outputs": [
      {
       "metadata": {},
       "output_type": "pyout",
       "prompt_number": 41,
       "text": [
        "1000005173"
       ]
      }
     ],
     "prompt_number": 41
    },
    {
     "cell_type": "code",
     "collapsed": false,
     "input": [
      "?DArray"
     ],
     "language": "python",
     "metadata": {},
     "outputs": [
      {
       "output_type": "stream",
       "stream": "stdout",
       "text": [
        "Base.DArray(init, dims[, procs, dist])\n",
        "\n",
        "   Construct a distributed array. The parameter \"init\" is a function\n",
        "   that accepts a tuple of index ranges. This function should allocate\n",
        "   a local chunk of the distributed array and initialize it for the\n",
        "   specified indices. \"dims\" is the overall size of the distributed\n",
        "   array. \"procs\" optionally specifies a vector of process IDs to\n",
        "   use. If unspecified, the array is distributed over all worker\n",
        "   processes only. Typically, when runnning in distributed mode, i.e.,\n",
        "   \"nprocs() > 1\", this would mean that no chunk of the distributed\n",
        "   array exists on the process hosting the interactive julia prompt.\n",
        "   \"dist\" is an integer vector specifying how many chunks the\n",
        "   distributed array should be divided into in each dimension.\n",
        "\n",
        "   For example, the \"dfill\" function that creates a distributed\n",
        "   array and fills it with a value \"v\" is implemented as:\n",
        "\n",
        "   \"dfill(v, args...) = DArray(I->fill(v, map(length,I)), args...)\"\n"
       ]
      }
     ],
     "prompt_number": 44
    },
    {
     "cell_type": "code",
     "collapsed": false,
     "input": [
      "myid()"
     ],
     "language": "python",
     "metadata": {},
     "outputs": [
      {
       "metadata": {},
       "output_type": "pyout",
       "prompt_number": 45,
       "text": [
        "1"
       ]
      }
     ],
     "prompt_number": 45
    },
    {
     "cell_type": "markdown",
     "metadata": {},
     "source": [
      "## interact plotting"
     ]
    },
    {
     "cell_type": "code",
     "collapsed": false,
     "input": [
      "using Interact, Reactive\n",
      "using PyPlot\n",
      "#using Gadfly"
     ],
     "language": "python",
     "metadata": {},
     "outputs": [],
     "prompt_number": 7
    },
    {
     "cell_type": "code",
     "collapsed": false,
     "input": [
      "@manipulate for \u03d5=0:\u03c0/16:4\u03c0, f=[:sin=>sin, :cos=>cos]\n",
      "    Gadfly.plot(\u03b8 -> f(\u03b8 + \u03d5), 0, 25)\n",
      "    #\u03b8 = linspace(0, 25, 100)\n",
      "    #plot(\u03b8, f(\u03b8 + \u03d5), \"b-\")\n",
      "end"
     ],
     "language": "python",
     "metadata": {},
     "outputs": [
      {
       "html": [],
       "metadata": {},
       "output_type": "display_data",
       "text": [
        "Slider{Float64}([Input{Float64}] 6.283185307179586,\"\u03d5\",6.283185307179586,0.0:0.19634954084936207:12.566370614359172)"
       ]
      },
      {
       "html": [],
       "metadata": {},
       "output_type": "display_data",
       "text": [
        "Options{:ToggleButtons,Function}([Input{Function}] sin,\"f\",sin,\"sin\",[\"sin\"=>sin,\"cos\"=>cos])"
       ]
      },
      {
       "html": [
        "<?xml version=\"1.0\" encoding=\"UTF-8\"?>\n",
        "<svg xmlns=\"http://www.w3.org/2000/svg\"\n",
        "     xmlns:xlink=\"http://www.w3.org/1999/xlink\"\n",
        "     xmlns:gadfly=\"http://www.gadflyjl.org/ns\"\n",
        "     version=\"1.2\"\n",
        "     width=\"120mm\" height=\"80mm\" viewBox=\"0 0 120 80\"\n",
        "     stroke=\"none\"\n",
        "     fill=\"#000000\"\n",
        "     stroke-width=\"0.3\"\n",
        "\n",
        "     id=\"fig-237c53fd21ba4a62813a381a92823c00\">\n",
        "<g class=\"plotroot xscalable yscalable\" id=\"fig-237c53fd21ba4a62813a381a92823c00-element-1\">\n",
        "  <g font-size=\"3.88\" font-family=\"'PT Sans','Helvetica Neue','Helvetica',sans-serif\" fill=\"#564A55\" stroke=\"none\" id=\"fig-237c53fd21ba4a62813a381a92823c00-element-2\">\n",
        "    <text x=\"67.37\" y=\"72\" text-anchor=\"middle\">x</text>\n",
        "  </g>\n",
        "  <g class=\"guide xlabels\" font-size=\"2.82\" font-family=\"'PT Sans Caption','Helvetica Neue','Helvetica',sans-serif\" fill=\"#6C606B\" id=\"fig-237c53fd21ba4a62813a381a92823c00-element-3\">\n",
        "    <text x=\"-87.76\" y=\"66.39\" text-anchor=\"middle\" gadfly:scale=\"1.0\" visibility=\"hidden\">-30</text>\n",
        "    <text x=\"-69.51\" y=\"66.39\" text-anchor=\"middle\" gadfly:scale=\"1.0\" visibility=\"hidden\">-25</text>\n",
        "    <text x=\"-51.26\" y=\"66.39\" text-anchor=\"middle\" gadfly:scale=\"1.0\" visibility=\"hidden\">-20</text>\n",
        "    <text x=\"-33.01\" y=\"66.39\" text-anchor=\"middle\" gadfly:scale=\"1.0\" visibility=\"hidden\">-15</text>\n",
        "    <text x=\"-14.76\" y=\"66.39\" text-anchor=\"middle\" gadfly:scale=\"1.0\" visibility=\"hidden\">-10</text>\n",
        "    <text x=\"3.49\" y=\"66.39\" text-anchor=\"middle\" gadfly:scale=\"1.0\" visibility=\"hidden\">-5</text>\n",
        "    <text x=\"21.75\" y=\"66.39\" text-anchor=\"middle\" gadfly:scale=\"1.0\" visibility=\"visible\">0</text>\n",
        "    <text x=\"40\" y=\"66.39\" text-anchor=\"middle\" gadfly:scale=\"1.0\" visibility=\"visible\">5</text>\n",
        "    <text x=\"58.25\" y=\"66.39\" text-anchor=\"middle\" gadfly:scale=\"1.0\" visibility=\"visible\">10</text>\n",
        "    <text x=\"76.5\" y=\"66.39\" text-anchor=\"middle\" gadfly:scale=\"1.0\" visibility=\"visible\">15</text>\n",
        "    <text x=\"94.75\" y=\"66.39\" text-anchor=\"middle\" gadfly:scale=\"1.0\" visibility=\"visible\">20</text>\n",
        "    <text x=\"113\" y=\"66.39\" text-anchor=\"middle\" gadfly:scale=\"1.0\" visibility=\"visible\">25</text>\n",
        "    <text x=\"131.25\" y=\"66.39\" text-anchor=\"middle\" gadfly:scale=\"1.0\" visibility=\"hidden\">30</text>\n",
        "    <text x=\"149.5\" y=\"66.39\" text-anchor=\"middle\" gadfly:scale=\"1.0\" visibility=\"hidden\">35</text>\n",
        "    <text x=\"167.75\" y=\"66.39\" text-anchor=\"middle\" gadfly:scale=\"1.0\" visibility=\"hidden\">40</text>\n",
        "    <text x=\"186\" y=\"66.39\" text-anchor=\"middle\" gadfly:scale=\"1.0\" visibility=\"hidden\">45</text>\n",
        "    <text x=\"204.26\" y=\"66.39\" text-anchor=\"middle\" gadfly:scale=\"1.0\" visibility=\"hidden\">50</text>\n",
        "    <text x=\"222.51\" y=\"66.39\" text-anchor=\"middle\" gadfly:scale=\"1.0\" visibility=\"hidden\">55</text>\n",
        "    <text x=\"-69.51\" y=\"66.39\" text-anchor=\"middle\" gadfly:scale=\"10.0\" visibility=\"hidden\">-25</text>\n",
        "    <text x=\"-65.86\" y=\"66.39\" text-anchor=\"middle\" gadfly:scale=\"10.0\" visibility=\"hidden\">-24</text>\n",
        "    <text x=\"-62.21\" y=\"66.39\" text-anchor=\"middle\" gadfly:scale=\"10.0\" visibility=\"hidden\">-23</text>\n",
        "    <text x=\"-58.56\" y=\"66.39\" text-anchor=\"middle\" gadfly:scale=\"10.0\" visibility=\"hidden\">-22</text>\n",
        "    <text x=\"-54.91\" y=\"66.39\" text-anchor=\"middle\" gadfly:scale=\"10.0\" visibility=\"hidden\">-21</text>\n",
        "    <text x=\"-51.26\" y=\"66.39\" text-anchor=\"middle\" gadfly:scale=\"10.0\" visibility=\"hidden\">-20</text>\n",
        "    <text x=\"-47.61\" y=\"66.39\" text-anchor=\"middle\" gadfly:scale=\"10.0\" visibility=\"hidden\">-19</text>\n",
        "    <text x=\"-43.96\" y=\"66.39\" text-anchor=\"middle\" gadfly:scale=\"10.0\" visibility=\"hidden\">-18</text>\n",
        "    <text x=\"-40.31\" y=\"66.39\" text-anchor=\"middle\" gadfly:scale=\"10.0\" visibility=\"hidden\">-17</text>\n",
        "    <text x=\"-36.66\" y=\"66.39\" text-anchor=\"middle\" gadfly:scale=\"10.0\" visibility=\"hidden\">-16</text>\n",
        "    <text x=\"-33.01\" y=\"66.39\" text-anchor=\"middle\" gadfly:scale=\"10.0\" visibility=\"hidden\">-15</text>\n",
        "    <text x=\"-29.36\" y=\"66.39\" text-anchor=\"middle\" gadfly:scale=\"10.0\" visibility=\"hidden\">-14</text>\n",
        "    <text x=\"-25.71\" y=\"66.39\" text-anchor=\"middle\" gadfly:scale=\"10.0\" visibility=\"hidden\">-13</text>\n",
        "    <text x=\"-22.06\" y=\"66.39\" text-anchor=\"middle\" gadfly:scale=\"10.0\" visibility=\"hidden\">-12</text>\n",
        "    <text x=\"-18.41\" y=\"66.39\" text-anchor=\"middle\" gadfly:scale=\"10.0\" visibility=\"hidden\">-11</text>\n",
        "    <text x=\"-14.76\" y=\"66.39\" text-anchor=\"middle\" gadfly:scale=\"10.0\" visibility=\"hidden\">-10</text>\n",
        "    <text x=\"-11.11\" y=\"66.39\" text-anchor=\"middle\" gadfly:scale=\"10.0\" visibility=\"hidden\">-9</text>\n",
        "    <text x=\"-7.46\" y=\"66.39\" text-anchor=\"middle\" gadfly:scale=\"10.0\" visibility=\"hidden\">-8</text>\n",
        "    <text x=\"-3.81\" y=\"66.39\" text-anchor=\"middle\" gadfly:scale=\"10.0\" visibility=\"hidden\">-7</text>\n",
        "    <text x=\"-0.16\" y=\"66.39\" text-anchor=\"middle\" gadfly:scale=\"10.0\" visibility=\"hidden\">-6</text>\n",
        "    <text x=\"3.49\" y=\"66.39\" text-anchor=\"middle\" gadfly:scale=\"10.0\" visibility=\"hidden\">-5</text>\n",
        "    <text x=\"7.14\" y=\"66.39\" text-anchor=\"middle\" gadfly:scale=\"10.0\" visibility=\"hidden\">-4</text>\n",
        "    <text x=\"10.79\" y=\"66.39\" text-anchor=\"middle\" gadfly:scale=\"10.0\" visibility=\"hidden\">-3</text>\n",
        "    <text x=\"14.44\" y=\"66.39\" text-anchor=\"middle\" gadfly:scale=\"10.0\" visibility=\"hidden\">-2</text>\n",
        "    <text x=\"18.09\" y=\"66.39\" text-anchor=\"middle\" gadfly:scale=\"10.0\" visibility=\"hidden\">-1</text>\n",
        "    <text x=\"21.75\" y=\"66.39\" text-anchor=\"middle\" gadfly:scale=\"10.0\" visibility=\"hidden\">0</text>\n",
        "    <text x=\"25.4\" y=\"66.39\" text-anchor=\"middle\" gadfly:scale=\"10.0\" visibility=\"hidden\">1</text>\n",
        "    <text x=\"29.05\" y=\"66.39\" text-anchor=\"middle\" gadfly:scale=\"10.0\" visibility=\"hidden\">2</text>\n",
        "    <text x=\"32.7\" y=\"66.39\" text-anchor=\"middle\" gadfly:scale=\"10.0\" visibility=\"hidden\">3</text>\n",
        "    <text x=\"36.35\" y=\"66.39\" text-anchor=\"middle\" gadfly:scale=\"10.0\" visibility=\"hidden\">4</text>\n",
        "    <text x=\"40\" y=\"66.39\" text-anchor=\"middle\" gadfly:scale=\"10.0\" visibility=\"hidden\">5</text>\n",
        "    <text x=\"43.65\" y=\"66.39\" text-anchor=\"middle\" gadfly:scale=\"10.0\" visibility=\"hidden\">6</text>\n",
        "    <text x=\"47.3\" y=\"66.39\" text-anchor=\"middle\" gadfly:scale=\"10.0\" visibility=\"hidden\">7</text>\n",
        "    <text x=\"50.95\" y=\"66.39\" text-anchor=\"middle\" gadfly:scale=\"10.0\" visibility=\"hidden\">8</text>\n",
        "    <text x=\"54.6\" y=\"66.39\" text-anchor=\"middle\" gadfly:scale=\"10.0\" visibility=\"hidden\">9</text>\n",
        "    <text x=\"58.25\" y=\"66.39\" text-anchor=\"middle\" gadfly:scale=\"10.0\" visibility=\"hidden\">10</text>\n",
        "    <text x=\"61.9\" y=\"66.39\" text-anchor=\"middle\" gadfly:scale=\"10.0\" visibility=\"hidden\">11</text>\n",
        "    <text x=\"65.55\" y=\"66.39\" text-anchor=\"middle\" gadfly:scale=\"10.0\" visibility=\"hidden\">12</text>\n",
        "    <text x=\"69.2\" y=\"66.39\" text-anchor=\"middle\" gadfly:scale=\"10.0\" visibility=\"hidden\">13</text>\n",
        "    <text x=\"72.85\" y=\"66.39\" text-anchor=\"middle\" gadfly:scale=\"10.0\" visibility=\"hidden\">14</text>\n",
        "    <text x=\"76.5\" y=\"66.39\" text-anchor=\"middle\" gadfly:scale=\"10.0\" visibility=\"hidden\">15</text>\n",
        "    <text x=\"80.15\" y=\"66.39\" text-anchor=\"middle\" gadfly:scale=\"10.0\" visibility=\"hidden\">16</text>\n",
        "    <text x=\"83.8\" y=\"66.39\" text-anchor=\"middle\" gadfly:scale=\"10.0\" visibility=\"hidden\">17</text>\n",
        "    <text x=\"87.45\" y=\"66.39\" text-anchor=\"middle\" gadfly:scale=\"10.0\" visibility=\"hidden\">18</text>\n",
        "    <text x=\"91.1\" y=\"66.39\" text-anchor=\"middle\" gadfly:scale=\"10.0\" visibility=\"hidden\">19</text>\n",
        "    <text x=\"94.75\" y=\"66.39\" text-anchor=\"middle\" gadfly:scale=\"10.0\" visibility=\"hidden\">20</text>\n",
        "    <text x=\"98.4\" y=\"66.39\" text-anchor=\"middle\" gadfly:scale=\"10.0\" visibility=\"hidden\">21</text>\n",
        "    <text x=\"102.05\" y=\"66.39\" text-anchor=\"middle\" gadfly:scale=\"10.0\" visibility=\"hidden\">22</text>\n",
        "    <text x=\"105.7\" y=\"66.39\" text-anchor=\"middle\" gadfly:scale=\"10.0\" visibility=\"hidden\">23</text>\n",
        "    <text x=\"109.35\" y=\"66.39\" text-anchor=\"middle\" gadfly:scale=\"10.0\" visibility=\"hidden\">24</text>\n",
        "    <text x=\"113\" y=\"66.39\" text-anchor=\"middle\" gadfly:scale=\"10.0\" visibility=\"hidden\">25</text>\n",
        "    <text x=\"116.65\" y=\"66.39\" text-anchor=\"middle\" gadfly:scale=\"10.0\" visibility=\"hidden\">26</text>\n",
        "    <text x=\"120.3\" y=\"66.39\" text-anchor=\"middle\" gadfly:scale=\"10.0\" visibility=\"hidden\">27</text>\n",
        "    <text x=\"123.95\" y=\"66.39\" text-anchor=\"middle\" gadfly:scale=\"10.0\" visibility=\"hidden\">28</text>\n",
        "    <text x=\"127.6\" y=\"66.39\" text-anchor=\"middle\" gadfly:scale=\"10.0\" visibility=\"hidden\">29</text>\n",
        "    <text x=\"131.25\" y=\"66.39\" text-anchor=\"middle\" gadfly:scale=\"10.0\" visibility=\"hidden\">30</text>\n",
        "    <text x=\"134.9\" y=\"66.39\" text-anchor=\"middle\" gadfly:scale=\"10.0\" visibility=\"hidden\">31</text>\n",
        "    <text x=\"138.55\" y=\"66.39\" text-anchor=\"middle\" gadfly:scale=\"10.0\" visibility=\"hidden\">32</text>\n",
        "    <text x=\"142.2\" y=\"66.39\" text-anchor=\"middle\" gadfly:scale=\"10.0\" visibility=\"hidden\">33</text>\n",
        "    <text x=\"145.85\" y=\"66.39\" text-anchor=\"middle\" gadfly:scale=\"10.0\" visibility=\"hidden\">34</text>\n",
        "    <text x=\"149.5\" y=\"66.39\" text-anchor=\"middle\" gadfly:scale=\"10.0\" visibility=\"hidden\">35</text>\n",
        "    <text x=\"153.15\" y=\"66.39\" text-anchor=\"middle\" gadfly:scale=\"10.0\" visibility=\"hidden\">36</text>\n",
        "    <text x=\"156.8\" y=\"66.39\" text-anchor=\"middle\" gadfly:scale=\"10.0\" visibility=\"hidden\">37</text>\n",
        "    <text x=\"160.45\" y=\"66.39\" text-anchor=\"middle\" gadfly:scale=\"10.0\" visibility=\"hidden\">38</text>\n",
        "    <text x=\"164.1\" y=\"66.39\" text-anchor=\"middle\" gadfly:scale=\"10.0\" visibility=\"hidden\">39</text>\n",
        "    <text x=\"167.75\" y=\"66.39\" text-anchor=\"middle\" gadfly:scale=\"10.0\" visibility=\"hidden\">40</text>\n",
        "    <text x=\"171.4\" y=\"66.39\" text-anchor=\"middle\" gadfly:scale=\"10.0\" visibility=\"hidden\">41</text>\n",
        "    <text x=\"175.05\" y=\"66.39\" text-anchor=\"middle\" gadfly:scale=\"10.0\" visibility=\"hidden\">42</text>\n",
        "    <text x=\"178.7\" y=\"66.39\" text-anchor=\"middle\" gadfly:scale=\"10.0\" visibility=\"hidden\">43</text>\n",
        "    <text x=\"182.35\" y=\"66.39\" text-anchor=\"middle\" gadfly:scale=\"10.0\" visibility=\"hidden\">44</text>\n",
        "    <text x=\"186\" y=\"66.39\" text-anchor=\"middle\" gadfly:scale=\"10.0\" visibility=\"hidden\">45</text>\n",
        "    <text x=\"189.65\" y=\"66.39\" text-anchor=\"middle\" gadfly:scale=\"10.0\" visibility=\"hidden\">46</text>\n",
        "    <text x=\"193.3\" y=\"66.39\" text-anchor=\"middle\" gadfly:scale=\"10.0\" visibility=\"hidden\">47</text>\n",
        "    <text x=\"196.95\" y=\"66.39\" text-anchor=\"middle\" gadfly:scale=\"10.0\" visibility=\"hidden\">48</text>\n",
        "    <text x=\"200.6\" y=\"66.39\" text-anchor=\"middle\" gadfly:scale=\"10.0\" visibility=\"hidden\">49</text>\n",
        "    <text x=\"204.26\" y=\"66.39\" text-anchor=\"middle\" gadfly:scale=\"10.0\" visibility=\"hidden\">50</text>\n",
        "    <text x=\"-69.51\" y=\"66.39\" text-anchor=\"middle\" gadfly:scale=\"0.5\" visibility=\"hidden\">-25</text>\n",
        "    <text x=\"21.75\" y=\"66.39\" text-anchor=\"middle\" gadfly:scale=\"0.5\" visibility=\"hidden\">0</text>\n",
        "    <text x=\"113\" y=\"66.39\" text-anchor=\"middle\" gadfly:scale=\"0.5\" visibility=\"hidden\">25</text>\n",
        "    <text x=\"204.26\" y=\"66.39\" text-anchor=\"middle\" gadfly:scale=\"0.5\" visibility=\"hidden\">50</text>\n",
        "    <text x=\"-73.16\" y=\"66.39\" text-anchor=\"middle\" gadfly:scale=\"5.0\" visibility=\"hidden\">-26</text>\n",
        "    <text x=\"-65.86\" y=\"66.39\" text-anchor=\"middle\" gadfly:scale=\"5.0\" visibility=\"hidden\">-24</text>\n",
        "    <text x=\"-58.56\" y=\"66.39\" text-anchor=\"middle\" gadfly:scale=\"5.0\" visibility=\"hidden\">-22</text>\n",
        "    <text x=\"-51.26\" y=\"66.39\" text-anchor=\"middle\" gadfly:scale=\"5.0\" visibility=\"hidden\">-20</text>\n",
        "    <text x=\"-43.96\" y=\"66.39\" text-anchor=\"middle\" gadfly:scale=\"5.0\" visibility=\"hidden\">-18</text>\n",
        "    <text x=\"-36.66\" y=\"66.39\" text-anchor=\"middle\" gadfly:scale=\"5.0\" visibility=\"hidden\">-16</text>\n",
        "    <text x=\"-29.36\" y=\"66.39\" text-anchor=\"middle\" gadfly:scale=\"5.0\" visibility=\"hidden\">-14</text>\n",
        "    <text x=\"-22.06\" y=\"66.39\" text-anchor=\"middle\" gadfly:scale=\"5.0\" visibility=\"hidden\">-12</text>\n",
        "    <text x=\"-14.76\" y=\"66.39\" text-anchor=\"middle\" gadfly:scale=\"5.0\" visibility=\"hidden\">-10</text>\n",
        "    <text x=\"-7.46\" y=\"66.39\" text-anchor=\"middle\" gadfly:scale=\"5.0\" visibility=\"hidden\">-8</text>\n",
        "    <text x=\"-0.16\" y=\"66.39\" text-anchor=\"middle\" gadfly:scale=\"5.0\" visibility=\"hidden\">-6</text>\n",
        "    <text x=\"7.14\" y=\"66.39\" text-anchor=\"middle\" gadfly:scale=\"5.0\" visibility=\"hidden\">-4</text>\n",
        "    <text x=\"14.44\" y=\"66.39\" text-anchor=\"middle\" gadfly:scale=\"5.0\" visibility=\"hidden\">-2</text>\n",
        "    <text x=\"21.75\" y=\"66.39\" text-anchor=\"middle\" gadfly:scale=\"5.0\" visibility=\"hidden\">0</text>\n",
        "    <text x=\"29.05\" y=\"66.39\" text-anchor=\"middle\" gadfly:scale=\"5.0\" visibility=\"hidden\">2</text>\n",
        "    <text x=\"36.35\" y=\"66.39\" text-anchor=\"middle\" gadfly:scale=\"5.0\" visibility=\"hidden\">4</text>\n",
        "    <text x=\"43.65\" y=\"66.39\" text-anchor=\"middle\" gadfly:scale=\"5.0\" visibility=\"hidden\">6</text>\n",
        "    <text x=\"50.95\" y=\"66.39\" text-anchor=\"middle\" gadfly:scale=\"5.0\" visibility=\"hidden\">8</text>\n",
        "    <text x=\"58.25\" y=\"66.39\" text-anchor=\"middle\" gadfly:scale=\"5.0\" visibility=\"hidden\">10</text>\n",
        "    <text x=\"65.55\" y=\"66.39\" text-anchor=\"middle\" gadfly:scale=\"5.0\" visibility=\"hidden\">12</text>\n",
        "    <text x=\"72.85\" y=\"66.39\" text-anchor=\"middle\" gadfly:scale=\"5.0\" visibility=\"hidden\">14</text>\n",
        "    <text x=\"80.15\" y=\"66.39\" text-anchor=\"middle\" gadfly:scale=\"5.0\" visibility=\"hidden\">16</text>\n",
        "    <text x=\"87.45\" y=\"66.39\" text-anchor=\"middle\" gadfly:scale=\"5.0\" visibility=\"hidden\">18</text>\n",
        "    <text x=\"94.75\" y=\"66.39\" text-anchor=\"middle\" gadfly:scale=\"5.0\" visibility=\"hidden\">20</text>\n",
        "    <text x=\"102.05\" y=\"66.39\" text-anchor=\"middle\" gadfly:scale=\"5.0\" visibility=\"hidden\">22</text>\n",
        "    <text x=\"109.35\" y=\"66.39\" text-anchor=\"middle\" gadfly:scale=\"5.0\" visibility=\"hidden\">24</text>\n",
        "    <text x=\"116.65\" y=\"66.39\" text-anchor=\"middle\" gadfly:scale=\"5.0\" visibility=\"hidden\">26</text>\n",
        "    <text x=\"123.95\" y=\"66.39\" text-anchor=\"middle\" gadfly:scale=\"5.0\" visibility=\"hidden\">28</text>\n",
        "    <text x=\"131.25\" y=\"66.39\" text-anchor=\"middle\" gadfly:scale=\"5.0\" visibility=\"hidden\">30</text>\n",
        "    <text x=\"138.55\" y=\"66.39\" text-anchor=\"middle\" gadfly:scale=\"5.0\" visibility=\"hidden\">32</text>\n",
        "    <text x=\"145.85\" y=\"66.39\" text-anchor=\"middle\" gadfly:scale=\"5.0\" visibility=\"hidden\">34</text>\n",
        "    <text x=\"153.15\" y=\"66.39\" text-anchor=\"middle\" gadfly:scale=\"5.0\" visibility=\"hidden\">36</text>\n",
        "    <text x=\"160.45\" y=\"66.39\" text-anchor=\"middle\" gadfly:scale=\"5.0\" visibility=\"hidden\">38</text>\n",
        "    <text x=\"167.75\" y=\"66.39\" text-anchor=\"middle\" gadfly:scale=\"5.0\" visibility=\"hidden\">40</text>\n",
        "    <text x=\"175.05\" y=\"66.39\" text-anchor=\"middle\" gadfly:scale=\"5.0\" visibility=\"hidden\">42</text>\n",
        "    <text x=\"182.35\" y=\"66.39\" text-anchor=\"middle\" gadfly:scale=\"5.0\" visibility=\"hidden\">44</text>\n",
        "    <text x=\"189.65\" y=\"66.39\" text-anchor=\"middle\" gadfly:scale=\"5.0\" visibility=\"hidden\">46</text>\n",
        "    <text x=\"196.95\" y=\"66.39\" text-anchor=\"middle\" gadfly:scale=\"5.0\" visibility=\"hidden\">48</text>\n",
        "    <text x=\"204.26\" y=\"66.39\" text-anchor=\"middle\" gadfly:scale=\"5.0\" visibility=\"hidden\">50</text>\n",
        "  </g>\n",
        "  <g clip-path=\"url(#fig-237c53fd21ba4a62813a381a92823c00-element-5)\" id=\"fig-237c53fd21ba4a62813a381a92823c00-element-4\">\n",
        "    <g pointer-events=\"visible\" opacity=\"1\" fill=\"none\" stroke=\"none\" class=\"guide background\" id=\"fig-237c53fd21ba4a62813a381a92823c00-element-6\">\n",
        "      <rect x=\"19.75\" y=\"5\" width=\"95.26\" height=\"57.72\"/>\n",
        "    </g>\n",
        "    <g class=\"guide ygridlines xfixed\" stroke-dasharray=\"0.5,0.5\" stroke-width=\"0.2\" stroke=\"#D0D0E0\" id=\"fig-237c53fd21ba4a62813a381a92823c00-element-7\">\n",
        "      <path d=\"M19.75,127.86 L 115 127.86\" gadfly:scale=\"1.0\" visibility=\"hidden\"/>\n",
        "      <path d=\"M19.75,114.43 L 115 114.43\" gadfly:scale=\"1.0\" visibility=\"hidden\"/>\n",
        "      <path d=\"M19.75,101 L 115 101\" gadfly:scale=\"1.0\" visibility=\"hidden\"/>\n",
        "      <path d=\"M19.75,87.57 L 115 87.57\" gadfly:scale=\"1.0\" visibility=\"hidden\"/>\n",
        "      <path d=\"M19.75,74.14 L 115 74.14\" gadfly:scale=\"1.0\" visibility=\"hidden\"/>\n",
        "      <path d=\"M19.75,60.72 L 115 60.72\" gadfly:scale=\"1.0\" visibility=\"visible\"/>\n",
        "      <path d=\"M19.75,47.29 L 115 47.29\" gadfly:scale=\"1.0\" visibility=\"visible\"/>\n",
        "      <path d=\"M19.75,33.86 L 115 33.86\" gadfly:scale=\"1.0\" visibility=\"visible\"/>\n",
        "      <path d=\"M19.75,20.43 L 115 20.43\" gadfly:scale=\"1.0\" visibility=\"visible\"/>\n",
        "      <path d=\"M19.75,7 L 115 7\" gadfly:scale=\"1.0\" visibility=\"visible\"/>\n",
        "      <path d=\"M19.75,-6.43 L 115 -6.43\" gadfly:scale=\"1.0\" visibility=\"hidden\"/>\n",
        "      <path d=\"M19.75,-19.86 L 115 -19.86\" gadfly:scale=\"1.0\" visibility=\"hidden\"/>\n",
        "      <path d=\"M19.75,-33.29 L 115 -33.29\" gadfly:scale=\"1.0\" visibility=\"hidden\"/>\n",
        "      <path d=\"M19.75,-46.71 L 115 -46.71\" gadfly:scale=\"1.0\" visibility=\"hidden\"/>\n",
        "      <path d=\"M19.75,-60.14 L 115 -60.14\" gadfly:scale=\"1.0\" visibility=\"hidden\"/>\n",
        "      <path d=\"M19.75,114.43 L 115 114.43\" gadfly:scale=\"10.0\" visibility=\"hidden\"/>\n",
        "      <path d=\"M19.75,111.74 L 115 111.74\" gadfly:scale=\"10.0\" visibility=\"hidden\"/>\n",
        "      <path d=\"M19.75,109.06 L 115 109.06\" gadfly:scale=\"10.0\" visibility=\"hidden\"/>\n",
        "      <path d=\"M19.75,106.37 L 115 106.37\" gadfly:scale=\"10.0\" visibility=\"hidden\"/>\n",
        "      <path d=\"M19.75,103.69 L 115 103.69\" gadfly:scale=\"10.0\" visibility=\"hidden\"/>\n",
        "      <path d=\"M19.75,101 L 115 101\" gadfly:scale=\"10.0\" visibility=\"hidden\"/>\n",
        "      <path d=\"M19.75,98.32 L 115 98.32\" gadfly:scale=\"10.0\" visibility=\"hidden\"/>\n",
        "      <path d=\"M19.75,95.63 L 115 95.63\" gadfly:scale=\"10.0\" visibility=\"hidden\"/>\n",
        "      <path d=\"M19.75,92.94 L 115 92.94\" gadfly:scale=\"10.0\" visibility=\"hidden\"/>\n",
        "      <path d=\"M19.75,90.26 L 115 90.26\" gadfly:scale=\"10.0\" visibility=\"hidden\"/>\n",
        "      <path d=\"M19.75,87.57 L 115 87.57\" gadfly:scale=\"10.0\" visibility=\"hidden\"/>\n",
        "      <path d=\"M19.75,84.89 L 115 84.89\" gadfly:scale=\"10.0\" visibility=\"hidden\"/>\n",
        "      <path d=\"M19.75,82.2 L 115 82.2\" gadfly:scale=\"10.0\" visibility=\"hidden\"/>\n",
        "      <path d=\"M19.75,79.52 L 115 79.52\" gadfly:scale=\"10.0\" visibility=\"hidden\"/>\n",
        "      <path d=\"M19.75,76.83 L 115 76.83\" gadfly:scale=\"10.0\" visibility=\"hidden\"/>\n",
        "      <path d=\"M19.75,74.14 L 115 74.14\" gadfly:scale=\"10.0\" visibility=\"hidden\"/>\n",
        "      <path d=\"M19.75,71.46 L 115 71.46\" gadfly:scale=\"10.0\" visibility=\"hidden\"/>\n",
        "      <path d=\"M19.75,68.77 L 115 68.77\" gadfly:scale=\"10.0\" visibility=\"hidden\"/>\n",
        "      <path d=\"M19.75,66.09 L 115 66.09\" gadfly:scale=\"10.0\" visibility=\"hidden\"/>\n",
        "      <path d=\"M19.75,63.4 L 115 63.4\" gadfly:scale=\"10.0\" visibility=\"hidden\"/>\n",
        "      <path d=\"M19.75,60.72 L 115 60.72\" gadfly:scale=\"10.0\" visibility=\"hidden\"/>\n",
        "      <path d=\"M19.75,58.03 L 115 58.03\" gadfly:scale=\"10.0\" visibility=\"hidden\"/>\n",
        "      <path d=\"M19.75,55.34 L 115 55.34\" gadfly:scale=\"10.0\" visibility=\"hidden\"/>\n",
        "      <path d=\"M19.75,52.66 L 115 52.66\" gadfly:scale=\"10.0\" visibility=\"hidden\"/>\n",
        "      <path d=\"M19.75,49.97 L 115 49.97\" gadfly:scale=\"10.0\" visibility=\"hidden\"/>\n",
        "      <path d=\"M19.75,47.29 L 115 47.29\" gadfly:scale=\"10.0\" visibility=\"hidden\"/>\n",
        "      <path d=\"M19.75,44.6 L 115 44.6\" gadfly:scale=\"10.0\" visibility=\"hidden\"/>\n",
        "      <path d=\"M19.75,41.91 L 115 41.91\" gadfly:scale=\"10.0\" visibility=\"hidden\"/>\n",
        "      <path d=\"M19.75,39.23 L 115 39.23\" gadfly:scale=\"10.0\" visibility=\"hidden\"/>\n",
        "      <path d=\"M19.75,36.54 L 115 36.54\" gadfly:scale=\"10.0\" visibility=\"hidden\"/>\n",
        "      <path d=\"M19.75,33.86 L 115 33.86\" gadfly:scale=\"10.0\" visibility=\"hidden\"/>\n",
        "      <path d=\"M19.75,31.17 L 115 31.17\" gadfly:scale=\"10.0\" visibility=\"hidden\"/>\n",
        "      <path d=\"M19.75,28.49 L 115 28.49\" gadfly:scale=\"10.0\" visibility=\"hidden\"/>\n",
        "      <path d=\"M19.75,25.8 L 115 25.8\" gadfly:scale=\"10.0\" visibility=\"hidden\"/>\n",
        "      <path d=\"M19.75,23.11 L 115 23.11\" gadfly:scale=\"10.0\" visibility=\"hidden\"/>\n",
        "      <path d=\"M19.75,20.43 L 115 20.43\" gadfly:scale=\"10.0\" visibility=\"hidden\"/>\n",
        "      <path d=\"M19.75,17.74 L 115 17.74\" gadfly:scale=\"10.0\" visibility=\"hidden\"/>\n",
        "      <path d=\"M19.75,15.06 L 115 15.06\" gadfly:scale=\"10.0\" visibility=\"hidden\"/>\n",
        "      <path d=\"M19.75,12.37 L 115 12.37\" gadfly:scale=\"10.0\" visibility=\"hidden\"/>\n",
        "      <path d=\"M19.75,9.69 L 115 9.69\" gadfly:scale=\"10.0\" visibility=\"hidden\"/>\n",
        "      <path d=\"M19.75,7 L 115 7\" gadfly:scale=\"10.0\" visibility=\"hidden\"/>\n",
        "      <path d=\"M19.75,4.31 L 115 4.31\" gadfly:scale=\"10.0\" visibility=\"hidden\"/>\n",
        "      <path d=\"M19.75,1.63 L 115 1.63\" gadfly:scale=\"10.0\" visibility=\"hidden\"/>\n",
        "      <path d=\"M19.75,-1.06 L 115 -1.06\" gadfly:scale=\"10.0\" visibility=\"hidden\"/>\n",
        "      <path d=\"M19.75,-3.74 L 115 -3.74\" gadfly:scale=\"10.0\" visibility=\"hidden\"/>\n",
        "      <path d=\"M19.75,-6.43 L 115 -6.43\" gadfly:scale=\"10.0\" visibility=\"hidden\"/>\n",
        "      <path d=\"M19.75,-9.11 L 115 -9.11\" gadfly:scale=\"10.0\" visibility=\"hidden\"/>\n",
        "      <path d=\"M19.75,-11.8 L 115 -11.8\" gadfly:scale=\"10.0\" visibility=\"hidden\"/>\n",
        "      <path d=\"M19.75,-14.49 L 115 -14.49\" gadfly:scale=\"10.0\" visibility=\"hidden\"/>\n",
        "      <path d=\"M19.75,-17.17 L 115 -17.17\" gadfly:scale=\"10.0\" visibility=\"hidden\"/>\n",
        "      <path d=\"M19.75,-19.86 L 115 -19.86\" gadfly:scale=\"10.0\" visibility=\"hidden\"/>\n",
        "      <path d=\"M19.75,-22.54 L 115 -22.54\" gadfly:scale=\"10.0\" visibility=\"hidden\"/>\n",
        "      <path d=\"M19.75,-25.23 L 115 -25.23\" gadfly:scale=\"10.0\" visibility=\"hidden\"/>\n",
        "      <path d=\"M19.75,-27.91 L 115 -27.91\" gadfly:scale=\"10.0\" visibility=\"hidden\"/>\n",
        "      <path d=\"M19.75,-30.6 L 115 -30.6\" gadfly:scale=\"10.0\" visibility=\"hidden\"/>\n",
        "      <path d=\"M19.75,-33.29 L 115 -33.29\" gadfly:scale=\"10.0\" visibility=\"hidden\"/>\n",
        "      <path d=\"M19.75,-35.97 L 115 -35.97\" gadfly:scale=\"10.0\" visibility=\"hidden\"/>\n",
        "      <path d=\"M19.75,-38.66 L 115 -38.66\" gadfly:scale=\"10.0\" visibility=\"hidden\"/>\n",
        "      <path d=\"M19.75,-41.34 L 115 -41.34\" gadfly:scale=\"10.0\" visibility=\"hidden\"/>\n",
        "      <path d=\"M19.75,-44.03 L 115 -44.03\" gadfly:scale=\"10.0\" visibility=\"hidden\"/>\n",
        "      <path d=\"M19.75,-46.71 L 115 -46.71\" gadfly:scale=\"10.0\" visibility=\"hidden\"/>\n",
        "      <path d=\"M19.75,141.29 L 115 141.29\" gadfly:scale=\"0.5\" visibility=\"hidden\"/>\n",
        "      <path d=\"M19.75,87.57 L 115 87.57\" gadfly:scale=\"0.5\" visibility=\"hidden\"/>\n",
        "      <path d=\"M19.75,33.86 L 115 33.86\" gadfly:scale=\"0.5\" visibility=\"hidden\"/>\n",
        "      <path d=\"M19.75,-19.86 L 115 -19.86\" gadfly:scale=\"0.5\" visibility=\"hidden\"/>\n",
        "      <path d=\"M19.75,-73.57 L 115 -73.57\" gadfly:scale=\"0.5\" visibility=\"hidden\"/>\n",
        "      <path d=\"M19.75,114.43 L 115 114.43\" gadfly:scale=\"5.0\" visibility=\"hidden\"/>\n",
        "      <path d=\"M19.75,109.06 L 115 109.06\" gadfly:scale=\"5.0\" visibility=\"hidden\"/>\n",
        "      <path d=\"M19.75,103.69 L 115 103.69\" gadfly:scale=\"5.0\" visibility=\"hidden\"/>\n",
        "      <path d=\"M19.75,98.32 L 115 98.32\" gadfly:scale=\"5.0\" visibility=\"hidden\"/>\n",
        "      <path d=\"M19.75,92.94 L 115 92.94\" gadfly:scale=\"5.0\" visibility=\"hidden\"/>\n",
        "      <path d=\"M19.75,87.57 L 115 87.57\" gadfly:scale=\"5.0\" visibility=\"hidden\"/>\n",
        "      <path d=\"M19.75,82.2 L 115 82.2\" gadfly:scale=\"5.0\" visibility=\"hidden\"/>\n",
        "      <path d=\"M19.75,76.83 L 115 76.83\" gadfly:scale=\"5.0\" visibility=\"hidden\"/>\n",
        "      <path d=\"M19.75,71.46 L 115 71.46\" gadfly:scale=\"5.0\" visibility=\"hidden\"/>\n",
        "      <path d=\"M19.75,66.09 L 115 66.09\" gadfly:scale=\"5.0\" visibility=\"hidden\"/>\n",
        "      <path d=\"M19.75,60.72 L 115 60.72\" gadfly:scale=\"5.0\" visibility=\"hidden\"/>\n",
        "      <path d=\"M19.75,55.34 L 115 55.34\" gadfly:scale=\"5.0\" visibility=\"hidden\"/>\n",
        "      <path d=\"M19.75,49.97 L 115 49.97\" gadfly:scale=\"5.0\" visibility=\"hidden\"/>\n",
        "      <path d=\"M19.75,44.6 L 115 44.6\" gadfly:scale=\"5.0\" visibility=\"hidden\"/>\n",
        "      <path d=\"M19.75,39.23 L 115 39.23\" gadfly:scale=\"5.0\" visibility=\"hidden\"/>\n",
        "      <path d=\"M19.75,33.86 L 115 33.86\" gadfly:scale=\"5.0\" visibility=\"hidden\"/>\n",
        "      <path d=\"M19.75,28.49 L 115 28.49\" gadfly:scale=\"5.0\" visibility=\"hidden\"/>\n",
        "      <path d=\"M19.75,23.11 L 115 23.11\" gadfly:scale=\"5.0\" visibility=\"hidden\"/>\n",
        "      <path d=\"M19.75,17.74 L 115 17.74\" gadfly:scale=\"5.0\" visibility=\"hidden\"/>\n",
        "      <path d=\"M19.75,12.37 L 115 12.37\" gadfly:scale=\"5.0\" visibility=\"hidden\"/>\n",
        "      <path d=\"M19.75,7 L 115 7\" gadfly:scale=\"5.0\" visibility=\"hidden\"/>\n",
        "      <path d=\"M19.75,1.63 L 115 1.63\" gadfly:scale=\"5.0\" visibility=\"hidden\"/>\n",
        "      <path d=\"M19.75,-3.74 L 115 -3.74\" gadfly:scale=\"5.0\" visibility=\"hidden\"/>\n",
        "      <path d=\"M19.75,-9.11 L 115 -9.11\" gadfly:scale=\"5.0\" visibility=\"hidden\"/>\n",
        "      <path d=\"M19.75,-14.49 L 115 -14.49\" gadfly:scale=\"5.0\" visibility=\"hidden\"/>\n",
        "      <path d=\"M19.75,-19.86 L 115 -19.86\" gadfly:scale=\"5.0\" visibility=\"hidden\"/>\n",
        "      <path d=\"M19.75,-25.23 L 115 -25.23\" gadfly:scale=\"5.0\" visibility=\"hidden\"/>\n",
        "      <path d=\"M19.75,-30.6 L 115 -30.6\" gadfly:scale=\"5.0\" visibility=\"hidden\"/>\n",
        "      <path d=\"M19.75,-35.97 L 115 -35.97\" gadfly:scale=\"5.0\" visibility=\"hidden\"/>\n",
        "      <path d=\"M19.75,-41.34 L 115 -41.34\" gadfly:scale=\"5.0\" visibility=\"hidden\"/>\n",
        "      <path d=\"M19.75,-46.71 L 115 -46.71\" gadfly:scale=\"5.0\" visibility=\"hidden\"/>\n",
        "    </g>\n",
        "    <g class=\"guide xgridlines yfixed\" stroke-dasharray=\"0.5,0.5\" stroke-width=\"0.2\" stroke=\"#D0D0E0\" id=\"fig-237c53fd21ba4a62813a381a92823c00-element-8\">\n",
        "      <path d=\"M-87.76,5 L -87.76 62.72\" gadfly:scale=\"1.0\" visibility=\"hidden\"/>\n",
        "      <path d=\"M-69.51,5 L -69.51 62.72\" gadfly:scale=\"1.0\" visibility=\"hidden\"/>\n",
        "      <path d=\"M-51.26,5 L -51.26 62.72\" gadfly:scale=\"1.0\" visibility=\"hidden\"/>\n",
        "      <path d=\"M-33.01,5 L -33.01 62.72\" gadfly:scale=\"1.0\" visibility=\"hidden\"/>\n",
        "      <path d=\"M-14.76,5 L -14.76 62.72\" gadfly:scale=\"1.0\" visibility=\"hidden\"/>\n",
        "      <path d=\"M3.49,5 L 3.49 62.72\" gadfly:scale=\"1.0\" visibility=\"hidden\"/>\n",
        "      <path d=\"M21.75,5 L 21.75 62.72\" gadfly:scale=\"1.0\" visibility=\"visible\"/>\n",
        "      <path d=\"M40,5 L 40 62.72\" gadfly:scale=\"1.0\" visibility=\"visible\"/>\n",
        "      <path d=\"M58.25,5 L 58.25 62.72\" gadfly:scale=\"1.0\" visibility=\"visible\"/>\n",
        "      <path d=\"M76.5,5 L 76.5 62.72\" gadfly:scale=\"1.0\" visibility=\"visible\"/>\n",
        "      <path d=\"M94.75,5 L 94.75 62.72\" gadfly:scale=\"1.0\" visibility=\"visible\"/>\n",
        "      <path d=\"M113,5 L 113 62.72\" gadfly:scale=\"1.0\" visibility=\"visible\"/>\n",
        "      <path d=\"M131.25,5 L 131.25 62.72\" gadfly:scale=\"1.0\" visibility=\"hidden\"/>\n",
        "      <path d=\"M149.5,5 L 149.5 62.72\" gadfly:scale=\"1.0\" visibility=\"hidden\"/>\n",
        "      <path d=\"M167.75,5 L 167.75 62.72\" gadfly:scale=\"1.0\" visibility=\"hidden\"/>\n",
        "      <path d=\"M186,5 L 186 62.72\" gadfly:scale=\"1.0\" visibility=\"hidden\"/>\n",
        "      <path d=\"M204.26,5 L 204.26 62.72\" gadfly:scale=\"1.0\" visibility=\"hidden\"/>\n",
        "      <path d=\"M222.51,5 L 222.51 62.72\" gadfly:scale=\"1.0\" visibility=\"hidden\"/>\n",
        "      <path d=\"M-69.51,5 L -69.51 62.72\" gadfly:scale=\"10.0\" visibility=\"hidden\"/>\n",
        "      <path d=\"M-65.86,5 L -65.86 62.72\" gadfly:scale=\"10.0\" visibility=\"hidden\"/>\n",
        "      <path d=\"M-62.21,5 L -62.21 62.72\" gadfly:scale=\"10.0\" visibility=\"hidden\"/>\n",
        "      <path d=\"M-58.56,5 L -58.56 62.72\" gadfly:scale=\"10.0\" visibility=\"hidden\"/>\n",
        "      <path d=\"M-54.91,5 L -54.91 62.72\" gadfly:scale=\"10.0\" visibility=\"hidden\"/>\n",
        "      <path d=\"M-51.26,5 L -51.26 62.72\" gadfly:scale=\"10.0\" visibility=\"hidden\"/>\n",
        "      <path d=\"M-47.61,5 L -47.61 62.72\" gadfly:scale=\"10.0\" visibility=\"hidden\"/>\n",
        "      <path d=\"M-43.96,5 L -43.96 62.72\" gadfly:scale=\"10.0\" visibility=\"hidden\"/>\n",
        "      <path d=\"M-40.31,5 L -40.31 62.72\" gadfly:scale=\"10.0\" visibility=\"hidden\"/>\n",
        "      <path d=\"M-36.66,5 L -36.66 62.72\" gadfly:scale=\"10.0\" visibility=\"hidden\"/>\n",
        "      <path d=\"M-33.01,5 L -33.01 62.72\" gadfly:scale=\"10.0\" visibility=\"hidden\"/>\n",
        "      <path d=\"M-29.36,5 L -29.36 62.72\" gadfly:scale=\"10.0\" visibility=\"hidden\"/>\n",
        "      <path d=\"M-25.71,5 L -25.71 62.72\" gadfly:scale=\"10.0\" visibility=\"hidden\"/>\n",
        "      <path d=\"M-22.06,5 L -22.06 62.72\" gadfly:scale=\"10.0\" visibility=\"hidden\"/>\n",
        "      <path d=\"M-18.41,5 L -18.41 62.72\" gadfly:scale=\"10.0\" visibility=\"hidden\"/>\n",
        "      <path d=\"M-14.76,5 L -14.76 62.72\" gadfly:scale=\"10.0\" visibility=\"hidden\"/>\n",
        "      <path d=\"M-11.11,5 L -11.11 62.72\" gadfly:scale=\"10.0\" visibility=\"hidden\"/>\n",
        "      <path d=\"M-7.46,5 L -7.46 62.72\" gadfly:scale=\"10.0\" visibility=\"hidden\"/>\n",
        "      <path d=\"M-3.81,5 L -3.81 62.72\" gadfly:scale=\"10.0\" visibility=\"hidden\"/>\n",
        "      <path d=\"M-0.16,5 L -0.16 62.72\" gadfly:scale=\"10.0\" visibility=\"hidden\"/>\n",
        "      <path d=\"M3.49,5 L 3.49 62.72\" gadfly:scale=\"10.0\" visibility=\"hidden\"/>\n",
        "      <path d=\"M7.14,5 L 7.14 62.72\" gadfly:scale=\"10.0\" visibility=\"hidden\"/>\n",
        "      <path d=\"M10.79,5 L 10.79 62.72\" gadfly:scale=\"10.0\" visibility=\"hidden\"/>\n",
        "      <path d=\"M14.44,5 L 14.44 62.72\" gadfly:scale=\"10.0\" visibility=\"hidden\"/>\n",
        "      <path d=\"M18.09,5 L 18.09 62.72\" gadfly:scale=\"10.0\" visibility=\"hidden\"/>\n",
        "      <path d=\"M21.75,5 L 21.75 62.72\" gadfly:scale=\"10.0\" visibility=\"hidden\"/>\n",
        "      <path d=\"M25.4,5 L 25.4 62.72\" gadfly:scale=\"10.0\" visibility=\"hidden\"/>\n",
        "      <path d=\"M29.05,5 L 29.05 62.72\" gadfly:scale=\"10.0\" visibility=\"hidden\"/>\n",
        "      <path d=\"M32.7,5 L 32.7 62.72\" gadfly:scale=\"10.0\" visibility=\"hidden\"/>\n",
        "      <path d=\"M36.35,5 L 36.35 62.72\" gadfly:scale=\"10.0\" visibility=\"hidden\"/>\n",
        "      <path d=\"M40,5 L 40 62.72\" gadfly:scale=\"10.0\" visibility=\"hidden\"/>\n",
        "      <path d=\"M43.65,5 L 43.65 62.72\" gadfly:scale=\"10.0\" visibility=\"hidden\"/>\n",
        "      <path d=\"M47.3,5 L 47.3 62.72\" gadfly:scale=\"10.0\" visibility=\"hidden\"/>\n",
        "      <path d=\"M50.95,5 L 50.95 62.72\" gadfly:scale=\"10.0\" visibility=\"hidden\"/>\n",
        "      <path d=\"M54.6,5 L 54.6 62.72\" gadfly:scale=\"10.0\" visibility=\"hidden\"/>\n",
        "      <path d=\"M58.25,5 L 58.25 62.72\" gadfly:scale=\"10.0\" visibility=\"hidden\"/>\n",
        "      <path d=\"M61.9,5 L 61.9 62.72\" gadfly:scale=\"10.0\" visibility=\"hidden\"/>\n",
        "      <path d=\"M65.55,5 L 65.55 62.72\" gadfly:scale=\"10.0\" visibility=\"hidden\"/>\n",
        "      <path d=\"M69.2,5 L 69.2 62.72\" gadfly:scale=\"10.0\" visibility=\"hidden\"/>\n",
        "      <path d=\"M72.85,5 L 72.85 62.72\" gadfly:scale=\"10.0\" visibility=\"hidden\"/>\n",
        "      <path d=\"M76.5,5 L 76.5 62.72\" gadfly:scale=\"10.0\" visibility=\"hidden\"/>\n",
        "      <path d=\"M80.15,5 L 80.15 62.72\" gadfly:scale=\"10.0\" visibility=\"hidden\"/>\n",
        "      <path d=\"M83.8,5 L 83.8 62.72\" gadfly:scale=\"10.0\" visibility=\"hidden\"/>\n",
        "      <path d=\"M87.45,5 L 87.45 62.72\" gadfly:scale=\"10.0\" visibility=\"hidden\"/>\n",
        "      <path d=\"M91.1,5 L 91.1 62.72\" gadfly:scale=\"10.0\" visibility=\"hidden\"/>\n",
        "      <path d=\"M94.75,5 L 94.75 62.72\" gadfly:scale=\"10.0\" visibility=\"hidden\"/>\n",
        "      <path d=\"M98.4,5 L 98.4 62.72\" gadfly:scale=\"10.0\" visibility=\"hidden\"/>\n",
        "      <path d=\"M102.05,5 L 102.05 62.72\" gadfly:scale=\"10.0\" visibility=\"hidden\"/>\n",
        "      <path d=\"M105.7,5 L 105.7 62.72\" gadfly:scale=\"10.0\" visibility=\"hidden\"/>\n",
        "      <path d=\"M109.35,5 L 109.35 62.72\" gadfly:scale=\"10.0\" visibility=\"hidden\"/>\n",
        "      <path d=\"M113,5 L 113 62.72\" gadfly:scale=\"10.0\" visibility=\"hidden\"/>\n",
        "      <path d=\"M116.65,5 L 116.65 62.72\" gadfly:scale=\"10.0\" visibility=\"hidden\"/>\n",
        "      <path d=\"M120.3,5 L 120.3 62.72\" gadfly:scale=\"10.0\" visibility=\"hidden\"/>\n",
        "      <path d=\"M123.95,5 L 123.95 62.72\" gadfly:scale=\"10.0\" visibility=\"hidden\"/>\n",
        "      <path d=\"M127.6,5 L 127.6 62.72\" gadfly:scale=\"10.0\" visibility=\"hidden\"/>\n",
        "      <path d=\"M131.25,5 L 131.25 62.72\" gadfly:scale=\"10.0\" visibility=\"hidden\"/>\n",
        "      <path d=\"M134.9,5 L 134.9 62.72\" gadfly:scale=\"10.0\" visibility=\"hidden\"/>\n",
        "      <path d=\"M138.55,5 L 138.55 62.72\" gadfly:scale=\"10.0\" visibility=\"hidden\"/>\n",
        "      <path d=\"M142.2,5 L 142.2 62.72\" gadfly:scale=\"10.0\" visibility=\"hidden\"/>\n",
        "      <path d=\"M145.85,5 L 145.85 62.72\" gadfly:scale=\"10.0\" visibility=\"hidden\"/>\n",
        "      <path d=\"M149.5,5 L 149.5 62.72\" gadfly:scale=\"10.0\" visibility=\"hidden\"/>\n",
        "      <path d=\"M153.15,5 L 153.15 62.72\" gadfly:scale=\"10.0\" visibility=\"hidden\"/>\n",
        "      <path d=\"M156.8,5 L 156.8 62.72\" gadfly:scale=\"10.0\" visibility=\"hidden\"/>\n",
        "      <path d=\"M160.45,5 L 160.45 62.72\" gadfly:scale=\"10.0\" visibility=\"hidden\"/>\n",
        "      <path d=\"M164.1,5 L 164.1 62.72\" gadfly:scale=\"10.0\" visibility=\"hidden\"/>\n",
        "      <path d=\"M167.75,5 L 167.75 62.72\" gadfly:scale=\"10.0\" visibility=\"hidden\"/>\n",
        "      <path d=\"M171.4,5 L 171.4 62.72\" gadfly:scale=\"10.0\" visibility=\"hidden\"/>\n",
        "      <path d=\"M175.05,5 L 175.05 62.72\" gadfly:scale=\"10.0\" visibility=\"hidden\"/>\n",
        "      <path d=\"M178.7,5 L 178.7 62.72\" gadfly:scale=\"10.0\" visibility=\"hidden\"/>\n",
        "      <path d=\"M182.35,5 L 182.35 62.72\" gadfly:scale=\"10.0\" visibility=\"hidden\"/>\n",
        "      <path d=\"M186,5 L 186 62.72\" gadfly:scale=\"10.0\" visibility=\"hidden\"/>\n",
        "      <path d=\"M189.65,5 L 189.65 62.72\" gadfly:scale=\"10.0\" visibility=\"hidden\"/>\n",
        "      <path d=\"M193.3,5 L 193.3 62.72\" gadfly:scale=\"10.0\" visibility=\"hidden\"/>\n",
        "      <path d=\"M196.95,5 L 196.95 62.72\" gadfly:scale=\"10.0\" visibility=\"hidden\"/>\n",
        "      <path d=\"M200.6,5 L 200.6 62.72\" gadfly:scale=\"10.0\" visibility=\"hidden\"/>\n",
        "      <path d=\"M204.26,5 L 204.26 62.72\" gadfly:scale=\"10.0\" visibility=\"hidden\"/>\n",
        "      <path d=\"M-69.51,5 L -69.51 62.72\" gadfly:scale=\"0.5\" visibility=\"hidden\"/>\n",
        "      <path d=\"M21.75,5 L 21.75 62.72\" gadfly:scale=\"0.5\" visibility=\"hidden\"/>\n",
        "      <path d=\"M113,5 L 113 62.72\" gadfly:scale=\"0.5\" visibility=\"hidden\"/>\n",
        "      <path d=\"M204.26,5 L 204.26 62.72\" gadfly:scale=\"0.5\" visibility=\"hidden\"/>\n",
        "      <path d=\"M-73.16,5 L -73.16 62.72\" gadfly:scale=\"5.0\" visibility=\"hidden\"/>\n",
        "      <path d=\"M-65.86,5 L -65.86 62.72\" gadfly:scale=\"5.0\" visibility=\"hidden\"/>\n",
        "      <path d=\"M-58.56,5 L -58.56 62.72\" gadfly:scale=\"5.0\" visibility=\"hidden\"/>\n",
        "      <path d=\"M-51.26,5 L -51.26 62.72\" gadfly:scale=\"5.0\" visibility=\"hidden\"/>\n",
        "      <path d=\"M-43.96,5 L -43.96 62.72\" gadfly:scale=\"5.0\" visibility=\"hidden\"/>\n",
        "      <path d=\"M-36.66,5 L -36.66 62.72\" gadfly:scale=\"5.0\" visibility=\"hidden\"/>\n",
        "      <path d=\"M-29.36,5 L -29.36 62.72\" gadfly:scale=\"5.0\" visibility=\"hidden\"/>\n",
        "      <path d=\"M-22.06,5 L -22.06 62.72\" gadfly:scale=\"5.0\" visibility=\"hidden\"/>\n",
        "      <path d=\"M-14.76,5 L -14.76 62.72\" gadfly:scale=\"5.0\" visibility=\"hidden\"/>\n",
        "      <path d=\"M-7.46,5 L -7.46 62.72\" gadfly:scale=\"5.0\" visibility=\"hidden\"/>\n",
        "      <path d=\"M-0.16,5 L -0.16 62.72\" gadfly:scale=\"5.0\" visibility=\"hidden\"/>\n",
        "      <path d=\"M7.14,5 L 7.14 62.72\" gadfly:scale=\"5.0\" visibility=\"hidden\"/>\n",
        "      <path d=\"M14.44,5 L 14.44 62.72\" gadfly:scale=\"5.0\" visibility=\"hidden\"/>\n",
        "      <path d=\"M21.75,5 L 21.75 62.72\" gadfly:scale=\"5.0\" visibility=\"hidden\"/>\n",
        "      <path d=\"M29.05,5 L 29.05 62.72\" gadfly:scale=\"5.0\" visibility=\"hidden\"/>\n",
        "      <path d=\"M36.35,5 L 36.35 62.72\" gadfly:scale=\"5.0\" visibility=\"hidden\"/>\n",
        "      <path d=\"M43.65,5 L 43.65 62.72\" gadfly:scale=\"5.0\" visibility=\"hidden\"/>\n",
        "      <path d=\"M50.95,5 L 50.95 62.72\" gadfly:scale=\"5.0\" visibility=\"hidden\"/>\n",
        "      <path d=\"M58.25,5 L 58.25 62.72\" gadfly:scale=\"5.0\" visibility=\"hidden\"/>\n",
        "      <path d=\"M65.55,5 L 65.55 62.72\" gadfly:scale=\"5.0\" visibility=\"hidden\"/>\n",
        "      <path d=\"M72.85,5 L 72.85 62.72\" gadfly:scale=\"5.0\" visibility=\"hidden\"/>\n",
        "      <path d=\"M80.15,5 L 80.15 62.72\" gadfly:scale=\"5.0\" visibility=\"hidden\"/>\n",
        "      <path d=\"M87.45,5 L 87.45 62.72\" gadfly:scale=\"5.0\" visibility=\"hidden\"/>\n",
        "      <path d=\"M94.75,5 L 94.75 62.72\" gadfly:scale=\"5.0\" visibility=\"hidden\"/>\n",
        "      <path d=\"M102.05,5 L 102.05 62.72\" gadfly:scale=\"5.0\" visibility=\"hidden\"/>\n",
        "      <path d=\"M109.35,5 L 109.35 62.72\" gadfly:scale=\"5.0\" visibility=\"hidden\"/>\n",
        "      <path d=\"M116.65,5 L 116.65 62.72\" gadfly:scale=\"5.0\" visibility=\"hidden\"/>\n",
        "      <path d=\"M123.95,5 L 123.95 62.72\" gadfly:scale=\"5.0\" visibility=\"hidden\"/>\n",
        "      <path d=\"M131.25,5 L 131.25 62.72\" gadfly:scale=\"5.0\" visibility=\"hidden\"/>\n",
        "      <path d=\"M138.55,5 L 138.55 62.72\" gadfly:scale=\"5.0\" visibility=\"hidden\"/>\n",
        "      <path d=\"M145.85,5 L 145.85 62.72\" gadfly:scale=\"5.0\" visibility=\"hidden\"/>\n",
        "      <path d=\"M153.15,5 L 153.15 62.72\" gadfly:scale=\"5.0\" visibility=\"hidden\"/>\n",
        "      <path d=\"M160.45,5 L 160.45 62.72\" gadfly:scale=\"5.0\" visibility=\"hidden\"/>\n",
        "      <path d=\"M167.75,5 L 167.75 62.72\" gadfly:scale=\"5.0\" visibility=\"hidden\"/>\n",
        "      <path d=\"M175.05,5 L 175.05 62.72\" gadfly:scale=\"5.0\" visibility=\"hidden\"/>\n",
        "      <path d=\"M182.35,5 L 182.35 62.72\" gadfly:scale=\"5.0\" visibility=\"hidden\"/>\n",
        "      <path d=\"M189.65,5 L 189.65 62.72\" gadfly:scale=\"5.0\" visibility=\"hidden\"/>\n",
        "      <path d=\"M196.95,5 L 196.95 62.72\" gadfly:scale=\"5.0\" visibility=\"hidden\"/>\n",
        "      <path d=\"M204.26,5 L 204.26 62.72\" gadfly:scale=\"5.0\" visibility=\"hidden\"/>\n",
        "    </g>\n",
        "    <g class=\"plotpanel\" id=\"fig-237c53fd21ba4a62813a381a92823c00-element-9\">\n",
        "      <g stroke-width=\"0.3\" fill=\"none\" class=\"geometry\" stroke=\"#00BFFF\" id=\"fig-237c53fd21ba4a62813a381a92823c00-element-10\">\n",
        "        <path d=\"M21.75,33.86 L 22.11 31.17 22.48 28.5 22.84 25.89 23.21 23.36 23.58 20.93 23.94 18.64 24.31 16.5 24.68 14.53 25.04 12.76 25.41 11.2 25.78 9.87 26.14 8.78 26.51 7.94 26.88 7.37 27.24 7.06 27.61 7.02 27.98 7.25 28.34 7.75 28.71 8.51 29.07 9.53 29.44 10.79 29.81 12.28 30.17 14 30.54 15.91 30.91 18 31.27 20.25 31.64 22.64 32.01 25.15 32.37 27.74 32.74 30.39 33.11 33.07 33.47 35.77 33.84 38.45 34.21 41.07 34.57 43.63 34.94 46.09 35.3 48.42 35.67 50.61 36.04 52.63 36.4 54.46 36.77 56.09 37.14 57.48 37.5 58.65 37.87 59.56 38.24 60.21 38.6 60.6 38.97 60.71 39.34 60.56 39.7 60.14 40.07 59.45 40.44 58.51 40.8 57.32 41.17 55.89 41.54 54.24 41.9 52.38 42.27 50.34 42.63 48.13 43 45.78 43.37 43.31 43.73 40.74 44.1 38.1 44.47 35.42 44.83 32.73 45.2 30.04 45.57 27.4 45.93 24.82 46.3 22.33 46.67 19.95 47.03 17.72 47.4 15.65 47.77 13.76 48.13 12.08 48.5 10.61 48.86 9.38 49.23 8.4 49.6 7.67 49.96 7.2 50.33 7.01 50.7 7.08 51.06 7.43 51.43 8.04 51.8 8.91 52.16 10.03 52.53 11.39 52.9 12.98 53.26 14.77 53.63 16.77 54 18.93 54.36 21.24 54.73 23.68 55.1 26.22 55.46 28.84 55.83 31.51 56.19 34.21 56.56 36.9 56.93 39.56 57.29 42.16 57.66 44.68 58.03 47.09 58.39 49.36 58.76 51.48 59.13 53.42 59.49 55.17 59.86 56.7 60.23 58 60.59 59.06 60.96 59.86 61.33 60.4 61.69 60.68 62.06 60.68 62.42 60.42 62.79 59.88 63.16 59.09 63.52 58.04 63.89 56.75 64.26 55.22 64.62 53.48 64.99 51.55 65.36 49.43 65.72 47.16 66.09 44.75 66.46 42.24 66.82 39.64 67.19 36.98 67.56 34.29 67.92 31.6 68.29 28.93 68.66 26.31 69.02 23.76 69.39 21.32 69.75 19 70.12 16.83 70.49 14.84 70.85 13.03 71.22 11.44 71.59 10.07 71.95 8.94 72.32 8.06 72.69 7.44 73.05 7.09 73.42 7.01 73.79 7.19 74.15 7.65 74.52 8.37 74.89 9.35 75.25 10.57 75.62 12.03 75.98 13.71 76.35 15.59 76.72 17.65 77.08 19.88 77.45 22.25 77.82 24.74 78.18 27.31 78.55 29.96 78.92 32.64 79.28 35.34 79.65 38.02 80.02 40.66 80.38 43.23 80.75 45.7 81.12 48.06 81.48 50.27 81.85 52.32 82.22 54.18 82.58 55.84 82.95 57.28 83.31 58.48 83.68 59.43 84.05 60.12 84.41 60.55 84.78 60.71 85.15 60.6 85.51 60.23 85.88 59.58 86.25 58.68 86.61 57.53 86.98 56.13 87.35 54.52 87.71 52.69 88.08 50.68 88.45 48.5 88.81 46.17 89.18 43.71 89.54 41.16 89.91 38.53 90.28 35.86 90.64 33.16 91.01 30.47 91.38 27.82 91.74 25.23 92.11 22.72 92.48 20.33 92.84 18.07 93.21 15.97 93.58 14.05 93.94 12.34 94.31 10.83 94.68 9.56 95.04 8.54 95.41 7.77 95.78 7.26 96.14 7.02 96.51 7.05 96.87 7.35 97.24 7.92 97.61 8.75 97.97 9.83 98.34 11.15 98.71 12.71 99.07 14.47 99.44 16.43 99.81 18.57 100.17 20.86 100.54 23.28 100.91 25.81 101.27 28.42 101.64 31.08 102.01 33.77 102.37 36.46 102.74 39.13 103.1 41.74 103.47 44.28 103.84 46.71 104.2 49 104.57 51.15 104.94 53.12 105.3 54.9 105.67 56.47 106.04 57.81 106.4 58.91 106.77 59.75 107.14 60.34 107.5 60.65 107.87 60.7 108.24 60.48 108.6 59.99 108.97 59.23 109.34 58.22 109.7 56.97 110.07 55.48 110.43 53.78 110.8 51.87 111.17 49.78 111.53 47.54 111.9 45.15 112.27 42.65 112.63 40.06 113 37.41\"/>\n",
        "      </g>\n",
        "    </g>\n",
        "    <g opacity=\"0\" class=\"guide zoomslider\" stroke=\"none\" id=\"fig-237c53fd21ba4a62813a381a92823c00-element-11\">\n",
        "      <g fill=\"#EAEAEA\" stroke-width=\"0.3\" stroke-opacity=\"0\" stroke=\"#6A6A6A\" id=\"fig-237c53fd21ba4a62813a381a92823c00-element-12\">\n",
        "        <rect x=\"108\" y=\"8\" width=\"4\" height=\"4\"/>\n",
        "        <g class=\"button_logo\" fill=\"#6A6A6A\" id=\"fig-237c53fd21ba4a62813a381a92823c00-element-13\">\n",
        "          <path d=\"M108.8,9.6 L 109.6 9.6 109.6 8.8 110.4 8.8 110.4 9.6 111.2 9.6 111.2 10.4 110.4 10.4 110.4 11.2 109.6 11.2 109.6 10.4 108.8 10.4 z\"/>\n",
        "        </g>\n",
        "      </g>\n",
        "      <g fill=\"#EAEAEA\" id=\"fig-237c53fd21ba4a62813a381a92823c00-element-14\">\n",
        "        <rect x=\"88.5\" y=\"8\" width=\"19\" height=\"4\"/>\n",
        "      </g>\n",
        "      <g class=\"zoomslider_thumb\" fill=\"#6A6A6A\" id=\"fig-237c53fd21ba4a62813a381a92823c00-element-15\">\n",
        "        <rect x=\"97\" y=\"8\" width=\"2\" height=\"4\"/>\n",
        "      </g>\n",
        "      <g fill=\"#EAEAEA\" stroke-width=\"0.3\" stroke-opacity=\"0\" stroke=\"#6A6A6A\" id=\"fig-237c53fd21ba4a62813a381a92823c00-element-16\">\n",
        "        <rect x=\"84\" y=\"8\" width=\"4\" height=\"4\"/>\n",
        "        <g class=\"button_logo\" fill=\"#6A6A6A\" id=\"fig-237c53fd21ba4a62813a381a92823c00-element-17\">\n",
        "          <path d=\"M84.8,9.6 L 87.2 9.6 87.2 10.4 84.8 10.4 z\"/>\n",
        "        </g>\n",
        "      </g>\n",
        "    </g>\n",
        "  </g>\n",
        "  <g class=\"guide ylabels\" font-size=\"2.82\" font-family=\"'PT Sans Caption','Helvetica Neue','Helvetica',sans-serif\" fill=\"#6C606B\" id=\"fig-237c53fd21ba4a62813a381a92823c00-element-18\">\n",
        "    <text x=\"18.75\" y=\"127.86\" text-anchor=\"end\" dy=\"0.35em\" gadfly:scale=\"1.0\" visibility=\"hidden\">-3.5</text>\n",
        "    <text x=\"18.75\" y=\"114.43\" text-anchor=\"end\" dy=\"0.35em\" gadfly:scale=\"1.0\" visibility=\"hidden\">-3.0</text>\n",
        "    <text x=\"18.75\" y=\"101\" text-anchor=\"end\" dy=\"0.35em\" gadfly:scale=\"1.0\" visibility=\"hidden\">-2.5</text>\n",
        "    <text x=\"18.75\" y=\"87.57\" text-anchor=\"end\" dy=\"0.35em\" gadfly:scale=\"1.0\" visibility=\"hidden\">-2.0</text>\n",
        "    <text x=\"18.75\" y=\"74.14\" text-anchor=\"end\" dy=\"0.35em\" gadfly:scale=\"1.0\" visibility=\"hidden\">-1.5</text>\n",
        "    <text x=\"18.75\" y=\"60.72\" text-anchor=\"end\" dy=\"0.35em\" gadfly:scale=\"1.0\" visibility=\"visible\">-1.0</text>\n",
        "    <text x=\"18.75\" y=\"47.29\" text-anchor=\"end\" dy=\"0.35em\" gadfly:scale=\"1.0\" visibility=\"visible\">-0.5</text>\n",
        "    <text x=\"18.75\" y=\"33.86\" text-anchor=\"end\" dy=\"0.35em\" gadfly:scale=\"1.0\" visibility=\"visible\">0.0</text>\n",
        "    <text x=\"18.75\" y=\"20.43\" text-anchor=\"end\" dy=\"0.35em\" gadfly:scale=\"1.0\" visibility=\"visible\">0.5</text>\n",
        "    <text x=\"18.75\" y=\"7\" text-anchor=\"end\" dy=\"0.35em\" gadfly:scale=\"1.0\" visibility=\"visible\">1.0</text>\n",
        "    <text x=\"18.75\" y=\"-6.43\" text-anchor=\"end\" dy=\"0.35em\" gadfly:scale=\"1.0\" visibility=\"hidden\">1.5</text>\n",
        "    <text x=\"18.75\" y=\"-19.86\" text-anchor=\"end\" dy=\"0.35em\" gadfly:scale=\"1.0\" visibility=\"hidden\">2.0</text>\n",
        "    <text x=\"18.75\" y=\"-33.29\" text-anchor=\"end\" dy=\"0.35em\" gadfly:scale=\"1.0\" visibility=\"hidden\">2.5</text>\n",
        "    <text x=\"18.75\" y=\"-46.71\" text-anchor=\"end\" dy=\"0.35em\" gadfly:scale=\"1.0\" visibility=\"hidden\">3.0</text>\n",
        "    <text x=\"18.75\" y=\"-60.14\" text-anchor=\"end\" dy=\"0.35em\" gadfly:scale=\"1.0\" visibility=\"hidden\">3.5</text>\n",
        "    <text x=\"18.75\" y=\"114.43\" text-anchor=\"end\" dy=\"0.35em\" gadfly:scale=\"10.0\" visibility=\"hidden\">-3.0</text>\n",
        "    <text x=\"18.75\" y=\"111.74\" text-anchor=\"end\" dy=\"0.35em\" gadfly:scale=\"10.0\" visibility=\"hidden\">-2.9</text>\n",
        "    <text x=\"18.75\" y=\"109.06\" text-anchor=\"end\" dy=\"0.35em\" gadfly:scale=\"10.0\" visibility=\"hidden\">-2.8</text>\n",
        "    <text x=\"18.75\" y=\"106.37\" text-anchor=\"end\" dy=\"0.35em\" gadfly:scale=\"10.0\" visibility=\"hidden\">-2.7</text>\n",
        "    <text x=\"18.75\" y=\"103.69\" text-anchor=\"end\" dy=\"0.35em\" gadfly:scale=\"10.0\" visibility=\"hidden\">-2.6</text>\n",
        "    <text x=\"18.75\" y=\"101\" text-anchor=\"end\" dy=\"0.35em\" gadfly:scale=\"10.0\" visibility=\"hidden\">-2.5</text>\n",
        "    <text x=\"18.75\" y=\"98.32\" text-anchor=\"end\" dy=\"0.35em\" gadfly:scale=\"10.0\" visibility=\"hidden\">-2.4</text>\n",
        "    <text x=\"18.75\" y=\"95.63\" text-anchor=\"end\" dy=\"0.35em\" gadfly:scale=\"10.0\" visibility=\"hidden\">-2.3</text>\n",
        "    <text x=\"18.75\" y=\"92.94\" text-anchor=\"end\" dy=\"0.35em\" gadfly:scale=\"10.0\" visibility=\"hidden\">-2.2</text>\n",
        "    <text x=\"18.75\" y=\"90.26\" text-anchor=\"end\" dy=\"0.35em\" gadfly:scale=\"10.0\" visibility=\"hidden\">-2.1</text>\n",
        "    <text x=\"18.75\" y=\"87.57\" text-anchor=\"end\" dy=\"0.35em\" gadfly:scale=\"10.0\" visibility=\"hidden\">-2.0</text>\n",
        "    <text x=\"18.75\" y=\"84.89\" text-anchor=\"end\" dy=\"0.35em\" gadfly:scale=\"10.0\" visibility=\"hidden\">-1.9</text>\n",
        "    <text x=\"18.75\" y=\"82.2\" text-anchor=\"end\" dy=\"0.35em\" gadfly:scale=\"10.0\" visibility=\"hidden\">-1.8</text>\n",
        "    <text x=\"18.75\" y=\"79.52\" text-anchor=\"end\" dy=\"0.35em\" gadfly:scale=\"10.0\" visibility=\"hidden\">-1.7</text>\n",
        "    <text x=\"18.75\" y=\"76.83\" text-anchor=\"end\" dy=\"0.35em\" gadfly:scale=\"10.0\" visibility=\"hidden\">-1.6</text>\n",
        "    <text x=\"18.75\" y=\"74.14\" text-anchor=\"end\" dy=\"0.35em\" gadfly:scale=\"10.0\" visibility=\"hidden\">-1.5</text>\n",
        "    <text x=\"18.75\" y=\"71.46\" text-anchor=\"end\" dy=\"0.35em\" gadfly:scale=\"10.0\" visibility=\"hidden\">-1.4</text>\n",
        "    <text x=\"18.75\" y=\"68.77\" text-anchor=\"end\" dy=\"0.35em\" gadfly:scale=\"10.0\" visibility=\"hidden\">-1.3</text>\n",
        "    <text x=\"18.75\" y=\"66.09\" text-anchor=\"end\" dy=\"0.35em\" gadfly:scale=\"10.0\" visibility=\"hidden\">-1.2</text>\n",
        "    <text x=\"18.75\" y=\"63.4\" text-anchor=\"end\" dy=\"0.35em\" gadfly:scale=\"10.0\" visibility=\"hidden\">-1.1</text>\n",
        "    <text x=\"18.75\" y=\"60.72\" text-anchor=\"end\" dy=\"0.35em\" gadfly:scale=\"10.0\" visibility=\"hidden\">-1.0</text>\n",
        "    <text x=\"18.75\" y=\"58.03\" text-anchor=\"end\" dy=\"0.35em\" gadfly:scale=\"10.0\" visibility=\"hidden\">-0.9</text>\n",
        "    <text x=\"18.75\" y=\"55.34\" text-anchor=\"end\" dy=\"0.35em\" gadfly:scale=\"10.0\" visibility=\"hidden\">-0.8</text>\n",
        "    <text x=\"18.75\" y=\"52.66\" text-anchor=\"end\" dy=\"0.35em\" gadfly:scale=\"10.0\" visibility=\"hidden\">-0.7</text>\n",
        "    <text x=\"18.75\" y=\"49.97\" text-anchor=\"end\" dy=\"0.35em\" gadfly:scale=\"10.0\" visibility=\"hidden\">-0.6</text>\n",
        "    <text x=\"18.75\" y=\"47.29\" text-anchor=\"end\" dy=\"0.35em\" gadfly:scale=\"10.0\" visibility=\"hidden\">-0.5</text>\n",
        "    <text x=\"18.75\" y=\"44.6\" text-anchor=\"end\" dy=\"0.35em\" gadfly:scale=\"10.0\" visibility=\"hidden\">-0.4</text>\n",
        "    <text x=\"18.75\" y=\"41.91\" text-anchor=\"end\" dy=\"0.35em\" gadfly:scale=\"10.0\" visibility=\"hidden\">-0.3</text>\n",
        "    <text x=\"18.75\" y=\"39.23\" text-anchor=\"end\" dy=\"0.35em\" gadfly:scale=\"10.0\" visibility=\"hidden\">-0.2</text>\n",
        "    <text x=\"18.75\" y=\"36.54\" text-anchor=\"end\" dy=\"0.35em\" gadfly:scale=\"10.0\" visibility=\"hidden\">-0.1</text>\n",
        "    <text x=\"18.75\" y=\"33.86\" text-anchor=\"end\" dy=\"0.35em\" gadfly:scale=\"10.0\" visibility=\"hidden\">0.0</text>\n",
        "    <text x=\"18.75\" y=\"31.17\" text-anchor=\"end\" dy=\"0.35em\" gadfly:scale=\"10.0\" visibility=\"hidden\">0.1</text>\n",
        "    <text x=\"18.75\" y=\"28.49\" text-anchor=\"end\" dy=\"0.35em\" gadfly:scale=\"10.0\" visibility=\"hidden\">0.2</text>\n",
        "    <text x=\"18.75\" y=\"25.8\" text-anchor=\"end\" dy=\"0.35em\" gadfly:scale=\"10.0\" visibility=\"hidden\">0.3</text>\n",
        "    <text x=\"18.75\" y=\"23.11\" text-anchor=\"end\" dy=\"0.35em\" gadfly:scale=\"10.0\" visibility=\"hidden\">0.4</text>\n",
        "    <text x=\"18.75\" y=\"20.43\" text-anchor=\"end\" dy=\"0.35em\" gadfly:scale=\"10.0\" visibility=\"hidden\">0.5</text>\n",
        "    <text x=\"18.75\" y=\"17.74\" text-anchor=\"end\" dy=\"0.35em\" gadfly:scale=\"10.0\" visibility=\"hidden\">0.6</text>\n",
        "    <text x=\"18.75\" y=\"15.06\" text-anchor=\"end\" dy=\"0.35em\" gadfly:scale=\"10.0\" visibility=\"hidden\">0.7</text>\n",
        "    <text x=\"18.75\" y=\"12.37\" text-anchor=\"end\" dy=\"0.35em\" gadfly:scale=\"10.0\" visibility=\"hidden\">0.8</text>\n",
        "    <text x=\"18.75\" y=\"9.69\" text-anchor=\"end\" dy=\"0.35em\" gadfly:scale=\"10.0\" visibility=\"hidden\">0.9</text>\n",
        "    <text x=\"18.75\" y=\"7\" text-anchor=\"end\" dy=\"0.35em\" gadfly:scale=\"10.0\" visibility=\"hidden\">1.0</text>\n",
        "    <text x=\"18.75\" y=\"4.31\" text-anchor=\"end\" dy=\"0.35em\" gadfly:scale=\"10.0\" visibility=\"hidden\">1.1</text>\n",
        "    <text x=\"18.75\" y=\"1.63\" text-anchor=\"end\" dy=\"0.35em\" gadfly:scale=\"10.0\" visibility=\"hidden\">1.2</text>\n",
        "    <text x=\"18.75\" y=\"-1.06\" text-anchor=\"end\" dy=\"0.35em\" gadfly:scale=\"10.0\" visibility=\"hidden\">1.3</text>\n",
        "    <text x=\"18.75\" y=\"-3.74\" text-anchor=\"end\" dy=\"0.35em\" gadfly:scale=\"10.0\" visibility=\"hidden\">1.4</text>\n",
        "    <text x=\"18.75\" y=\"-6.43\" text-anchor=\"end\" dy=\"0.35em\" gadfly:scale=\"10.0\" visibility=\"hidden\">1.5</text>\n",
        "    <text x=\"18.75\" y=\"-9.11\" text-anchor=\"end\" dy=\"0.35em\" gadfly:scale=\"10.0\" visibility=\"hidden\">1.6</text>\n",
        "    <text x=\"18.75\" y=\"-11.8\" text-anchor=\"end\" dy=\"0.35em\" gadfly:scale=\"10.0\" visibility=\"hidden\">1.7</text>\n",
        "    <text x=\"18.75\" y=\"-14.49\" text-anchor=\"end\" dy=\"0.35em\" gadfly:scale=\"10.0\" visibility=\"hidden\">1.8</text>\n",
        "    <text x=\"18.75\" y=\"-17.17\" text-anchor=\"end\" dy=\"0.35em\" gadfly:scale=\"10.0\" visibility=\"hidden\">1.9</text>\n",
        "    <text x=\"18.75\" y=\"-19.86\" text-anchor=\"end\" dy=\"0.35em\" gadfly:scale=\"10.0\" visibility=\"hidden\">2.0</text>\n",
        "    <text x=\"18.75\" y=\"-22.54\" text-anchor=\"end\" dy=\"0.35em\" gadfly:scale=\"10.0\" visibility=\"hidden\">2.1</text>\n",
        "    <text x=\"18.75\" y=\"-25.23\" text-anchor=\"end\" dy=\"0.35em\" gadfly:scale=\"10.0\" visibility=\"hidden\">2.2</text>\n",
        "    <text x=\"18.75\" y=\"-27.91\" text-anchor=\"end\" dy=\"0.35em\" gadfly:scale=\"10.0\" visibility=\"hidden\">2.3</text>\n",
        "    <text x=\"18.75\" y=\"-30.6\" text-anchor=\"end\" dy=\"0.35em\" gadfly:scale=\"10.0\" visibility=\"hidden\">2.4</text>\n",
        "    <text x=\"18.75\" y=\"-33.29\" text-anchor=\"end\" dy=\"0.35em\" gadfly:scale=\"10.0\" visibility=\"hidden\">2.5</text>\n",
        "    <text x=\"18.75\" y=\"-35.97\" text-anchor=\"end\" dy=\"0.35em\" gadfly:scale=\"10.0\" visibility=\"hidden\">2.6</text>\n",
        "    <text x=\"18.75\" y=\"-38.66\" text-anchor=\"end\" dy=\"0.35em\" gadfly:scale=\"10.0\" visibility=\"hidden\">2.7</text>\n",
        "    <text x=\"18.75\" y=\"-41.34\" text-anchor=\"end\" dy=\"0.35em\" gadfly:scale=\"10.0\" visibility=\"hidden\">2.8</text>\n",
        "    <text x=\"18.75\" y=\"-44.03\" text-anchor=\"end\" dy=\"0.35em\" gadfly:scale=\"10.0\" visibility=\"hidden\">2.9</text>\n",
        "    <text x=\"18.75\" y=\"-46.71\" text-anchor=\"end\" dy=\"0.35em\" gadfly:scale=\"10.0\" visibility=\"hidden\">3.0</text>\n",
        "    <text x=\"18.75\" y=\"141.29\" text-anchor=\"end\" dy=\"0.35em\" gadfly:scale=\"0.5\" visibility=\"hidden\">-4</text>\n",
        "    <text x=\"18.75\" y=\"87.57\" text-anchor=\"end\" dy=\"0.35em\" gadfly:scale=\"0.5\" visibility=\"hidden\">-2</text>\n",
        "    <text x=\"18.75\" y=\"33.86\" text-anchor=\"end\" dy=\"0.35em\" gadfly:scale=\"0.5\" visibility=\"hidden\">0</text>\n",
        "    <text x=\"18.75\" y=\"-19.86\" text-anchor=\"end\" dy=\"0.35em\" gadfly:scale=\"0.5\" visibility=\"hidden\">2</text>\n",
        "    <text x=\"18.75\" y=\"-73.57\" text-anchor=\"end\" dy=\"0.35em\" gadfly:scale=\"0.5\" visibility=\"hidden\">4</text>\n",
        "    <text x=\"18.75\" y=\"114.43\" text-anchor=\"end\" dy=\"0.35em\" gadfly:scale=\"5.0\" visibility=\"hidden\">-3.0</text>\n",
        "    <text x=\"18.75\" y=\"109.06\" text-anchor=\"end\" dy=\"0.35em\" gadfly:scale=\"5.0\" visibility=\"hidden\">-2.8</text>\n",
        "    <text x=\"18.75\" y=\"103.69\" text-anchor=\"end\" dy=\"0.35em\" gadfly:scale=\"5.0\" visibility=\"hidden\">-2.6</text>\n",
        "    <text x=\"18.75\" y=\"98.32\" text-anchor=\"end\" dy=\"0.35em\" gadfly:scale=\"5.0\" visibility=\"hidden\">-2.4</text>\n",
        "    <text x=\"18.75\" y=\"92.94\" text-anchor=\"end\" dy=\"0.35em\" gadfly:scale=\"5.0\" visibility=\"hidden\">-2.2</text>\n",
        "    <text x=\"18.75\" y=\"87.57\" text-anchor=\"end\" dy=\"0.35em\" gadfly:scale=\"5.0\" visibility=\"hidden\">-2.0</text>\n",
        "    <text x=\"18.75\" y=\"82.2\" text-anchor=\"end\" dy=\"0.35em\" gadfly:scale=\"5.0\" visibility=\"hidden\">-1.8</text>\n",
        "    <text x=\"18.75\" y=\"76.83\" text-anchor=\"end\" dy=\"0.35em\" gadfly:scale=\"5.0\" visibility=\"hidden\">-1.6</text>\n",
        "    <text x=\"18.75\" y=\"71.46\" text-anchor=\"end\" dy=\"0.35em\" gadfly:scale=\"5.0\" visibility=\"hidden\">-1.4</text>\n",
        "    <text x=\"18.75\" y=\"66.09\" text-anchor=\"end\" dy=\"0.35em\" gadfly:scale=\"5.0\" visibility=\"hidden\">-1.2</text>\n",
        "    <text x=\"18.75\" y=\"60.72\" text-anchor=\"end\" dy=\"0.35em\" gadfly:scale=\"5.0\" visibility=\"hidden\">-1.0</text>\n",
        "    <text x=\"18.75\" y=\"55.34\" text-anchor=\"end\" dy=\"0.35em\" gadfly:scale=\"5.0\" visibility=\"hidden\">-0.8</text>\n",
        "    <text x=\"18.75\" y=\"49.97\" text-anchor=\"end\" dy=\"0.35em\" gadfly:scale=\"5.0\" visibility=\"hidden\">-0.6</text>\n",
        "    <text x=\"18.75\" y=\"44.6\" text-anchor=\"end\" dy=\"0.35em\" gadfly:scale=\"5.0\" visibility=\"hidden\">-0.4</text>\n",
        "    <text x=\"18.75\" y=\"39.23\" text-anchor=\"end\" dy=\"0.35em\" gadfly:scale=\"5.0\" visibility=\"hidden\">-0.2</text>\n",
        "    <text x=\"18.75\" y=\"33.86\" text-anchor=\"end\" dy=\"0.35em\" gadfly:scale=\"5.0\" visibility=\"hidden\">0.0</text>\n",
        "    <text x=\"18.75\" y=\"28.49\" text-anchor=\"end\" dy=\"0.35em\" gadfly:scale=\"5.0\" visibility=\"hidden\">0.2</text>\n",
        "    <text x=\"18.75\" y=\"23.11\" text-anchor=\"end\" dy=\"0.35em\" gadfly:scale=\"5.0\" visibility=\"hidden\">0.4</text>\n",
        "    <text x=\"18.75\" y=\"17.74\" text-anchor=\"end\" dy=\"0.35em\" gadfly:scale=\"5.0\" visibility=\"hidden\">0.6</text>\n",
        "    <text x=\"18.75\" y=\"12.37\" text-anchor=\"end\" dy=\"0.35em\" gadfly:scale=\"5.0\" visibility=\"hidden\">0.8</text>\n",
        "    <text x=\"18.75\" y=\"7\" text-anchor=\"end\" dy=\"0.35em\" gadfly:scale=\"5.0\" visibility=\"hidden\">1.0</text>\n",
        "    <text x=\"18.75\" y=\"1.63\" text-anchor=\"end\" dy=\"0.35em\" gadfly:scale=\"5.0\" visibility=\"hidden\">1.2</text>\n",
        "    <text x=\"18.75\" y=\"-3.74\" text-anchor=\"end\" dy=\"0.35em\" gadfly:scale=\"5.0\" visibility=\"hidden\">1.4</text>\n",
        "    <text x=\"18.75\" y=\"-9.11\" text-anchor=\"end\" dy=\"0.35em\" gadfly:scale=\"5.0\" visibility=\"hidden\">1.6</text>\n",
        "    <text x=\"18.75\" y=\"-14.49\" text-anchor=\"end\" dy=\"0.35em\" gadfly:scale=\"5.0\" visibility=\"hidden\">1.8</text>\n",
        "    <text x=\"18.75\" y=\"-19.86\" text-anchor=\"end\" dy=\"0.35em\" gadfly:scale=\"5.0\" visibility=\"hidden\">2.0</text>\n",
        "    <text x=\"18.75\" y=\"-25.23\" text-anchor=\"end\" dy=\"0.35em\" gadfly:scale=\"5.0\" visibility=\"hidden\">2.2</text>\n",
        "    <text x=\"18.75\" y=\"-30.6\" text-anchor=\"end\" dy=\"0.35em\" gadfly:scale=\"5.0\" visibility=\"hidden\">2.4</text>\n",
        "    <text x=\"18.75\" y=\"-35.97\" text-anchor=\"end\" dy=\"0.35em\" gadfly:scale=\"5.0\" visibility=\"hidden\">2.6</text>\n",
        "    <text x=\"18.75\" y=\"-41.34\" text-anchor=\"end\" dy=\"0.35em\" gadfly:scale=\"5.0\" visibility=\"hidden\">2.8</text>\n",
        "    <text x=\"18.75\" y=\"-46.71\" text-anchor=\"end\" dy=\"0.35em\" gadfly:scale=\"5.0\" visibility=\"hidden\">3.0</text>\n",
        "  </g>\n",
        "  <g font-size=\"3.88\" font-family=\"'PT Sans','Helvetica Neue','Helvetica',sans-serif\" fill=\"#564A55\" stroke=\"none\" id=\"fig-237c53fd21ba4a62813a381a92823c00-element-19\">\n",
        "    <text x=\"8.81\" y=\"31.86\" text-anchor=\"middle\" dy=\"0.35em\" transform=\"rotate(-90, 8.81, 33.86)\">f(x)</text>\n",
        "  </g>\n",
        "</g>\n",
        "<defs>\n",
        "<clipPath id=\"fig-237c53fd21ba4a62813a381a92823c00-element-5\">\n",
        "  <path d=\"M19.75,5 L 115 5 115 62.72 19.75 62.72\" />\n",
        "</clipPath\n",
        "></defs>\n",
        "<script> <![CDATA[\n",
        "(function(N){var k=/[\\.\\/]/,L=/\\s*,\\s*/,C=function(a,d){return a-d},a,v,y={n:{}},M=function(){for(var a=0,d=this.length;a<d;a++)if(\"undefined\"!=typeof this[a])return this[a]},A=function(){for(var a=this.length;--a;)if(\"undefined\"!=typeof this[a])return this[a]},w=function(k,d){k=String(k);var f=v,n=Array.prototype.slice.call(arguments,2),u=w.listeners(k),p=0,b,q=[],e={},l=[],r=a;l.firstDefined=M;l.lastDefined=A;a=k;for(var s=v=0,x=u.length;s<x;s++)\"zIndex\"in u[s]&&(q.push(u[s].zIndex),0>u[s].zIndex&&\n",
        "(e[u[s].zIndex]=u[s]));for(q.sort(C);0>q[p];)if(b=e[q[p++] ],l.push(b.apply(d,n)),v)return v=f,l;for(s=0;s<x;s++)if(b=u[s],\"zIndex\"in b)if(b.zIndex==q[p]){l.push(b.apply(d,n));if(v)break;do if(p++,(b=e[q[p] ])&&l.push(b.apply(d,n)),v)break;while(b)}else e[b.zIndex]=b;else if(l.push(b.apply(d,n)),v)break;v=f;a=r;return l};w._events=y;w.listeners=function(a){a=a.split(k);var d=y,f,n,u,p,b,q,e,l=[d],r=[];u=0;for(p=a.length;u<p;u++){e=[];b=0;for(q=l.length;b<q;b++)for(d=l[b].n,f=[d[a[u] ],d[\"*\"] ],n=2;n--;)if(d=\n",
        "f[n])e.push(d),r=r.concat(d.f||[]);l=e}return r};w.on=function(a,d){a=String(a);if(\"function\"!=typeof d)return function(){};for(var f=a.split(L),n=0,u=f.length;n<u;n++)(function(a){a=a.split(k);for(var b=y,f,e=0,l=a.length;e<l;e++)b=b.n,b=b.hasOwnProperty(a[e])&&b[a[e] ]||(b[a[e] ]={n:{}});b.f=b.f||[];e=0;for(l=b.f.length;e<l;e++)if(b.f[e]==d){f=!0;break}!f&&b.f.push(d)})(f[n]);return function(a){+a==+a&&(d.zIndex=+a)}};w.f=function(a){var d=[].slice.call(arguments,1);return function(){w.apply(null,\n",
        "[a,null].concat(d).concat([].slice.call(arguments,0)))}};w.stop=function(){v=1};w.nt=function(k){return k?(new RegExp(\"(?:\\\\.|\\\\/|^)\"+k+\"(?:\\\\.|\\\\/|$)\")).test(a):a};w.nts=function(){return a.split(k)};w.off=w.unbind=function(a,d){if(a){var f=a.split(L);if(1<f.length)for(var n=0,u=f.length;n<u;n++)w.off(f[n],d);else{for(var f=a.split(k),p,b,q,e,l=[y],n=0,u=f.length;n<u;n++)for(e=0;e<l.length;e+=q.length-2){q=[e,1];p=l[e].n;if(\"*\"!=f[n])p[f[n] ]&&q.push(p[f[n] ]);else for(b in p)p.hasOwnProperty(b)&&\n",
        "q.push(p[b]);l.splice.apply(l,q)}n=0;for(u=l.length;n<u;n++)for(p=l[n];p.n;){if(d){if(p.f){e=0;for(f=p.f.length;e<f;e++)if(p.f[e]==d){p.f.splice(e,1);break}!p.f.length&&delete p.f}for(b in p.n)if(p.n.hasOwnProperty(b)&&p.n[b].f){q=p.n[b].f;e=0;for(f=q.length;e<f;e++)if(q[e]==d){q.splice(e,1);break}!q.length&&delete p.n[b].f}}else for(b in delete p.f,p.n)p.n.hasOwnProperty(b)&&p.n[b].f&&delete p.n[b].f;p=p.n}}}else w._events=y={n:{}}};w.once=function(a,d){var f=function(){w.unbind(a,f);return d.apply(this,\n",
        "arguments)};return w.on(a,f)};w.version=\"0.4.2\";w.toString=function(){return\"You are running Eve 0.4.2\"};\"undefined\"!=typeof module&&module.exports?module.exports=w:\"function\"===typeof define&&define.amd?define(\"eve\",[],function(){return w}):N.eve=w})(this);\n",
        "(function(N,k){\"function\"===typeof define&&define.amd?define(\"Snap.svg\",[\"eve\"],function(L){return k(N,L)}):k(N,N.eve)})(this,function(N,k){var L=function(a){var k={},y=N.requestAnimationFrame||N.webkitRequestAnimationFrame||N.mozRequestAnimationFrame||N.oRequestAnimationFrame||N.msRequestAnimationFrame||function(a){setTimeout(a,16)},M=Array.isArray||function(a){return a instanceof Array||\"[object Array]\"==Object.prototype.toString.call(a)},A=0,w=\"M\"+(+new Date).toString(36),z=function(a){if(null==\n",
        "a)return this.s;var b=this.s-a;this.b+=this.dur*b;this.B+=this.dur*b;this.s=a},d=function(a){if(null==a)return this.spd;this.spd=a},f=function(a){if(null==a)return this.dur;this.s=this.s*a/this.dur;this.dur=a},n=function(){delete k[this.id];this.update();a(\"mina.stop.\"+this.id,this)},u=function(){this.pdif||(delete k[this.id],this.update(),this.pdif=this.get()-this.b)},p=function(){this.pdif&&(this.b=this.get()-this.pdif,delete this.pdif,k[this.id]=this)},b=function(){var a;if(M(this.start)){a=[];\n",
        "for(var b=0,e=this.start.length;b<e;b++)a[b]=+this.start[b]+(this.end[b]-this.start[b])*this.easing(this.s)}else a=+this.start+(this.end-this.start)*this.easing(this.s);this.set(a)},q=function(){var l=0,b;for(b in k)if(k.hasOwnProperty(b)){var e=k[b],f=e.get();l++;e.s=(f-e.b)/(e.dur/e.spd);1<=e.s&&(delete k[b],e.s=1,l--,function(b){setTimeout(function(){a(\"mina.finish.\"+b.id,b)})}(e));e.update()}l&&y(q)},e=function(a,r,s,x,G,h,J){a={id:w+(A++).toString(36),start:a,end:r,b:s,s:0,dur:x-s,spd:1,get:G,\n",
        "set:h,easing:J||e.linear,status:z,speed:d,duration:f,stop:n,pause:u,resume:p,update:b};k[a.id]=a;r=0;for(var K in k)if(k.hasOwnProperty(K)&&(r++,2==r))break;1==r&&y(q);return a};e.time=Date.now||function(){return+new Date};e.getById=function(a){return k[a]||null};e.linear=function(a){return a};e.easeout=function(a){return Math.pow(a,1.7)};e.easein=function(a){return Math.pow(a,0.48)};e.easeinout=function(a){if(1==a)return 1;if(0==a)return 0;var b=0.48-a/1.04,e=Math.sqrt(0.1734+b*b);a=e-b;a=Math.pow(Math.abs(a),\n",
        "1/3)*(0>a?-1:1);b=-e-b;b=Math.pow(Math.abs(b),1/3)*(0>b?-1:1);a=a+b+0.5;return 3*(1-a)*a*a+a*a*a};e.backin=function(a){return 1==a?1:a*a*(2.70158*a-1.70158)};e.backout=function(a){if(0==a)return 0;a-=1;return a*a*(2.70158*a+1.70158)+1};e.elastic=function(a){return a==!!a?a:Math.pow(2,-10*a)*Math.sin(2*(a-0.075)*Math.PI/0.3)+1};e.bounce=function(a){a<1/2.75?a*=7.5625*a:a<2/2.75?(a-=1.5/2.75,a=7.5625*a*a+0.75):a<2.5/2.75?(a-=2.25/2.75,a=7.5625*a*a+0.9375):(a-=2.625/2.75,a=7.5625*a*a+0.984375);return a};\n",
        "return N.mina=e}(\"undefined\"==typeof k?function(){}:k),C=function(){function a(c,t){if(c){if(c.tagName)return x(c);if(y(c,\"array\")&&a.set)return a.set.apply(a,c);if(c instanceof e)return c;if(null==t)return c=G.doc.querySelector(c),x(c)}return new s(null==c?\"100%\":c,null==t?\"100%\":t)}function v(c,a){if(a){\"#text\"==c&&(c=G.doc.createTextNode(a.text||\"\"));\"string\"==typeof c&&(c=v(c));if(\"string\"==typeof a)return\"xlink:\"==a.substring(0,6)?c.getAttributeNS(m,a.substring(6)):\"xml:\"==a.substring(0,4)?c.getAttributeNS(la,\n",
        "a.substring(4)):c.getAttribute(a);for(var da in a)if(a[h](da)){var b=J(a[da]);b?\"xlink:\"==da.substring(0,6)?c.setAttributeNS(m,da.substring(6),b):\"xml:\"==da.substring(0,4)?c.setAttributeNS(la,da.substring(4),b):c.setAttribute(da,b):c.removeAttribute(da)}}else c=G.doc.createElementNS(la,c);return c}function y(c,a){a=J.prototype.toLowerCase.call(a);return\"finite\"==a?isFinite(c):\"array\"==a&&(c instanceof Array||Array.isArray&&Array.isArray(c))?!0:\"null\"==a&&null===c||a==typeof c&&null!==c||\"object\"==\n",
        "a&&c===Object(c)||$.call(c).slice(8,-1).toLowerCase()==a}function M(c){if(\"function\"==typeof c||Object(c)!==c)return c;var a=new c.constructor,b;for(b in c)c[h](b)&&(a[b]=M(c[b]));return a}function A(c,a,b){function m(){var e=Array.prototype.slice.call(arguments,0),f=e.join(\"\\u2400\"),d=m.cache=m.cache||{},l=m.count=m.count||[];if(d[h](f)){a:for(var e=l,l=f,B=0,H=e.length;B<H;B++)if(e[B]===l){e.push(e.splice(B,1)[0]);break a}return b?b(d[f]):d[f]}1E3<=l.length&&delete d[l.shift()];l.push(f);d[f]=c.apply(a,\n",
        "e);return b?b(d[f]):d[f]}return m}function w(c,a,b,m,e,f){return null==e?(c-=b,a-=m,c||a?(180*I.atan2(-a,-c)/C+540)%360:0):w(c,a,e,f)-w(b,m,e,f)}function z(c){return c%360*C/180}function d(c){var a=[];c=c.replace(/(?:^|\\s)(\\w+)\\(([^)]+)\\)/g,function(c,b,m){m=m.split(/\\s*,\\s*|\\s+/);\"rotate\"==b&&1==m.length&&m.push(0,0);\"scale\"==b&&(2<m.length?m=m.slice(0,2):2==m.length&&m.push(0,0),1==m.length&&m.push(m[0],0,0));\"skewX\"==b?a.push([\"m\",1,0,I.tan(z(m[0])),1,0,0]):\"skewY\"==b?a.push([\"m\",1,I.tan(z(m[0])),\n",
        "0,1,0,0]):a.push([b.charAt(0)].concat(m));return c});return a}function f(c,t){var b=O(c),m=new a.Matrix;if(b)for(var e=0,f=b.length;e<f;e++){var h=b[e],d=h.length,B=J(h[0]).toLowerCase(),H=h[0]!=B,l=H?m.invert():0,E;\"t\"==B&&2==d?m.translate(h[1],0):\"t\"==B&&3==d?H?(d=l.x(0,0),B=l.y(0,0),H=l.x(h[1],h[2]),l=l.y(h[1],h[2]),m.translate(H-d,l-B)):m.translate(h[1],h[2]):\"r\"==B?2==d?(E=E||t,m.rotate(h[1],E.x+E.width/2,E.y+E.height/2)):4==d&&(H?(H=l.x(h[2],h[3]),l=l.y(h[2],h[3]),m.rotate(h[1],H,l)):m.rotate(h[1],\n",
        "h[2],h[3])):\"s\"==B?2==d||3==d?(E=E||t,m.scale(h[1],h[d-1],E.x+E.width/2,E.y+E.height/2)):4==d?H?(H=l.x(h[2],h[3]),l=l.y(h[2],h[3]),m.scale(h[1],h[1],H,l)):m.scale(h[1],h[1],h[2],h[3]):5==d&&(H?(H=l.x(h[3],h[4]),l=l.y(h[3],h[4]),m.scale(h[1],h[2],H,l)):m.scale(h[1],h[2],h[3],h[4])):\"m\"==B&&7==d&&m.add(h[1],h[2],h[3],h[4],h[5],h[6])}return m}function n(c,t){if(null==t){var m=!0;t=\"linearGradient\"==c.type||\"radialGradient\"==c.type?c.node.getAttribute(\"gradientTransform\"):\"pattern\"==c.type?c.node.getAttribute(\"patternTransform\"):\n",
        "c.node.getAttribute(\"transform\");if(!t)return new a.Matrix;t=d(t)}else t=a._.rgTransform.test(t)?J(t).replace(/\\.{3}|\\u2026/g,c._.transform||aa):d(t),y(t,\"array\")&&(t=a.path?a.path.toString.call(t):J(t)),c._.transform=t;var b=f(t,c.getBBox(1));if(m)return b;c.matrix=b}function u(c){c=c.node.ownerSVGElement&&x(c.node.ownerSVGElement)||c.node.parentNode&&x(c.node.parentNode)||a.select(\"svg\")||a(0,0);var t=c.select(\"defs\"),t=null==t?!1:t.node;t||(t=r(\"defs\",c.node).node);return t}function p(c){return c.node.ownerSVGElement&&\n",
        "x(c.node.ownerSVGElement)||a.select(\"svg\")}function b(c,a,m){function b(c){if(null==c)return aa;if(c==+c)return c;v(B,{width:c});try{return B.getBBox().width}catch(a){return 0}}function h(c){if(null==c)return aa;if(c==+c)return c;v(B,{height:c});try{return B.getBBox().height}catch(a){return 0}}function e(b,B){null==a?d[b]=B(c.attr(b)||0):b==a&&(d=B(null==m?c.attr(b)||0:m))}var f=p(c).node,d={},B=f.querySelector(\".svg---mgr\");B||(B=v(\"rect\"),v(B,{x:-9E9,y:-9E9,width:10,height:10,\"class\":\"svg---mgr\",\n",
        "fill:\"none\"}),f.appendChild(B));switch(c.type){case \"rect\":e(\"rx\",b),e(\"ry\",h);case \"image\":e(\"width\",b),e(\"height\",h);case \"text\":e(\"x\",b);e(\"y\",h);break;case \"circle\":e(\"cx\",b);e(\"cy\",h);e(\"r\",b);break;case \"ellipse\":e(\"cx\",b);e(\"cy\",h);e(\"rx\",b);e(\"ry\",h);break;case \"line\":e(\"x1\",b);e(\"x2\",b);e(\"y1\",h);e(\"y2\",h);break;case \"marker\":e(\"refX\",b);e(\"markerWidth\",b);e(\"refY\",h);e(\"markerHeight\",h);break;case \"radialGradient\":e(\"fx\",b);e(\"fy\",h);break;case \"tspan\":e(\"dx\",b);e(\"dy\",h);break;default:e(a,\n",
        "b)}f.removeChild(B);return d}function q(c){y(c,\"array\")||(c=Array.prototype.slice.call(arguments,0));for(var a=0,b=0,m=this.node;this[a];)delete this[a++];for(a=0;a<c.length;a++)\"set\"==c[a].type?c[a].forEach(function(c){m.appendChild(c.node)}):m.appendChild(c[a].node);for(var h=m.childNodes,a=0;a<h.length;a++)this[b++]=x(h[a]);return this}function e(c){if(c.snap in E)return E[c.snap];var a=this.id=V(),b;try{b=c.ownerSVGElement}catch(m){}this.node=c;b&&(this.paper=new s(b));this.type=c.tagName;this.anims=\n",
        "{};this._={transform:[]};c.snap=a;E[a]=this;\"g\"==this.type&&(this.add=q);if(this.type in{g:1,mask:1,pattern:1})for(var e in s.prototype)s.prototype[h](e)&&(this[e]=s.prototype[e])}function l(c){this.node=c}function r(c,a){var b=v(c);a.appendChild(b);return x(b)}function s(c,a){var b,m,f,d=s.prototype;if(c&&\"svg\"==c.tagName){if(c.snap in E)return E[c.snap];var l=c.ownerDocument;b=new e(c);m=c.getElementsByTagName(\"desc\")[0];f=c.getElementsByTagName(\"defs\")[0];m||(m=v(\"desc\"),m.appendChild(l.createTextNode(\"Created with Snap\")),\n",
        "b.node.appendChild(m));f||(f=v(\"defs\"),b.node.appendChild(f));b.defs=f;for(var ca in d)d[h](ca)&&(b[ca]=d[ca]);b.paper=b.root=b}else b=r(\"svg\",G.doc.body),v(b.node,{height:a,version:1.1,width:c,xmlns:la});return b}function x(c){return!c||c instanceof e||c instanceof l?c:c.tagName&&\"svg\"==c.tagName.toLowerCase()?new s(c):c.tagName&&\"object\"==c.tagName.toLowerCase()&&\"image/svg+xml\"==c.type?new s(c.contentDocument.getElementsByTagName(\"svg\")[0]):new e(c)}a.version=\"0.3.0\";a.toString=function(){return\"Snap v\"+\n",
        "this.version};a._={};var G={win:N,doc:N.document};a._.glob=G;var h=\"hasOwnProperty\",J=String,K=parseFloat,U=parseInt,I=Math,P=I.max,Q=I.min,Y=I.abs,C=I.PI,aa=\"\",$=Object.prototype.toString,F=/^\\s*((#[a-f\\d]{6})|(#[a-f\\d]{3})|rgba?\\(\\s*([\\d\\.]+%?\\s*,\\s*[\\d\\.]+%?\\s*,\\s*[\\d\\.]+%?(?:\\s*,\\s*[\\d\\.]+%?)?)\\s*\\)|hsba?\\(\\s*([\\d\\.]+(?:deg|\\xb0|%)?\\s*,\\s*[\\d\\.]+%?\\s*,\\s*[\\d\\.]+(?:%?\\s*,\\s*[\\d\\.]+)?%?)\\s*\\)|hsla?\\(\\s*([\\d\\.]+(?:deg|\\xb0|%)?\\s*,\\s*[\\d\\.]+%?\\s*,\\s*[\\d\\.]+(?:%?\\s*,\\s*[\\d\\.]+)?%?)\\s*\\))\\s*$/i;a._.separator=\n",
        "RegExp(\"[,\\t\\n\\x0B\\f\\r \\u00a0\\u1680\\u180e\\u2000\\u2001\\u2002\\u2003\\u2004\\u2005\\u2006\\u2007\\u2008\\u2009\\u200a\\u202f\\u205f\\u3000\\u2028\\u2029]+\");var S=RegExp(\"[\\t\\n\\x0B\\f\\r \\u00a0\\u1680\\u180e\\u2000\\u2001\\u2002\\u2003\\u2004\\u2005\\u2006\\u2007\\u2008\\u2009\\u200a\\u202f\\u205f\\u3000\\u2028\\u2029]*,[\\t\\n\\x0B\\f\\r \\u00a0\\u1680\\u180e\\u2000\\u2001\\u2002\\u2003\\u2004\\u2005\\u2006\\u2007\\u2008\\u2009\\u200a\\u202f\\u205f\\u3000\\u2028\\u2029]*\"),X={hs:1,rg:1},W=RegExp(\"([a-z])[\\t\\n\\x0B\\f\\r \\u00a0\\u1680\\u180e\\u2000\\u2001\\u2002\\u2003\\u2004\\u2005\\u2006\\u2007\\u2008\\u2009\\u200a\\u202f\\u205f\\u3000\\u2028\\u2029,]*((-?\\\\d*\\\\.?\\\\d*(?:e[\\\\-+]?\\\\d+)?[\\t\\n\\x0B\\f\\r \\u00a0\\u1680\\u180e\\u2000\\u2001\\u2002\\u2003\\u2004\\u2005\\u2006\\u2007\\u2008\\u2009\\u200a\\u202f\\u205f\\u3000\\u2028\\u2029]*,?[\\t\\n\\x0B\\f\\r \\u00a0\\u1680\\u180e\\u2000\\u2001\\u2002\\u2003\\u2004\\u2005\\u2006\\u2007\\u2008\\u2009\\u200a\\u202f\\u205f\\u3000\\u2028\\u2029]*)+)\",\n",
        "\"ig\"),ma=RegExp(\"([rstm])[\\t\\n\\x0B\\f\\r \\u00a0\\u1680\\u180e\\u2000\\u2001\\u2002\\u2003\\u2004\\u2005\\u2006\\u2007\\u2008\\u2009\\u200a\\u202f\\u205f\\u3000\\u2028\\u2029,]*((-?\\\\d*\\\\.?\\\\d*(?:e[\\\\-+]?\\\\d+)?[\\t\\n\\x0B\\f\\r \\u00a0\\u1680\\u180e\\u2000\\u2001\\u2002\\u2003\\u2004\\u2005\\u2006\\u2007\\u2008\\u2009\\u200a\\u202f\\u205f\\u3000\\u2028\\u2029]*,?[\\t\\n\\x0B\\f\\r \\u00a0\\u1680\\u180e\\u2000\\u2001\\u2002\\u2003\\u2004\\u2005\\u2006\\u2007\\u2008\\u2009\\u200a\\u202f\\u205f\\u3000\\u2028\\u2029]*)+)\",\"ig\"),Z=RegExp(\"(-?\\\\d*\\\\.?\\\\d*(?:e[\\\\-+]?\\\\d+)?)[\\t\\n\\x0B\\f\\r \\u00a0\\u1680\\u180e\\u2000\\u2001\\u2002\\u2003\\u2004\\u2005\\u2006\\u2007\\u2008\\u2009\\u200a\\u202f\\u205f\\u3000\\u2028\\u2029]*,?[\\t\\n\\x0B\\f\\r \\u00a0\\u1680\\u180e\\u2000\\u2001\\u2002\\u2003\\u2004\\u2005\\u2006\\u2007\\u2008\\u2009\\u200a\\u202f\\u205f\\u3000\\u2028\\u2029]*\",\n",
        "\"ig\"),na=0,ba=\"S\"+(+new Date).toString(36),V=function(){return ba+(na++).toString(36)},m=\"http://www.w3.org/1999/xlink\",la=\"http://www.w3.org/2000/svg\",E={},ca=a.url=function(c){return\"url('#\"+c+\"')\"};a._.$=v;a._.id=V;a.format=function(){var c=/\\{([^\\}]+)\\}/g,a=/(?:(?:^|\\.)(.+?)(?=\\[|\\.|$|\\()|\\[('|\")(.+?)\\2\\])(\\(\\))?/g,b=function(c,b,m){var h=m;b.replace(a,function(c,a,b,m,t){a=a||m;h&&(a in h&&(h=h[a]),\"function\"==typeof h&&t&&(h=h()))});return h=(null==h||h==m?c:h)+\"\"};return function(a,m){return J(a).replace(c,\n",
        "function(c,a){return b(c,a,m)})}}();a._.clone=M;a._.cacher=A;a.rad=z;a.deg=function(c){return 180*c/C%360};a.angle=w;a.is=y;a.snapTo=function(c,a,b){b=y(b,\"finite\")?b:10;if(y(c,\"array\"))for(var m=c.length;m--;){if(Y(c[m]-a)<=b)return c[m]}else{c=+c;m=a%c;if(m<b)return a-m;if(m>c-b)return a-m+c}return a};a.getRGB=A(function(c){if(!c||(c=J(c)).indexOf(\"-\")+1)return{r:-1,g:-1,b:-1,hex:\"none\",error:1,toString:ka};if(\"none\"==c)return{r:-1,g:-1,b:-1,hex:\"none\",toString:ka};!X[h](c.toLowerCase().substring(0,\n",
        "2))&&\"#\"!=c.charAt()&&(c=T(c));if(!c)return{r:-1,g:-1,b:-1,hex:\"none\",error:1,toString:ka};var b,m,e,f,d;if(c=c.match(F)){c[2]&&(e=U(c[2].substring(5),16),m=U(c[2].substring(3,5),16),b=U(c[2].substring(1,3),16));c[3]&&(e=U((d=c[3].charAt(3))+d,16),m=U((d=c[3].charAt(2))+d,16),b=U((d=c[3].charAt(1))+d,16));c[4]&&(d=c[4].split(S),b=K(d[0]),\"%\"==d[0].slice(-1)&&(b*=2.55),m=K(d[1]),\"%\"==d[1].slice(-1)&&(m*=2.55),e=K(d[2]),\"%\"==d[2].slice(-1)&&(e*=2.55),\"rgba\"==c[1].toLowerCase().slice(0,4)&&(f=K(d[3])),\n",
        "d[3]&&\"%\"==d[3].slice(-1)&&(f/=100));if(c[5])return d=c[5].split(S),b=K(d[0]),\"%\"==d[0].slice(-1)&&(b/=100),m=K(d[1]),\"%\"==d[1].slice(-1)&&(m/=100),e=K(d[2]),\"%\"==d[2].slice(-1)&&(e/=100),\"deg\"!=d[0].slice(-3)&&\"\\u00b0\"!=d[0].slice(-1)||(b/=360),\"hsba\"==c[1].toLowerCase().slice(0,4)&&(f=K(d[3])),d[3]&&\"%\"==d[3].slice(-1)&&(f/=100),a.hsb2rgb(b,m,e,f);if(c[6])return d=c[6].split(S),b=K(d[0]),\"%\"==d[0].slice(-1)&&(b/=100),m=K(d[1]),\"%\"==d[1].slice(-1)&&(m/=100),e=K(d[2]),\"%\"==d[2].slice(-1)&&(e/=100),\n",
        "\"deg\"!=d[0].slice(-3)&&\"\\u00b0\"!=d[0].slice(-1)||(b/=360),\"hsla\"==c[1].toLowerCase().slice(0,4)&&(f=K(d[3])),d[3]&&\"%\"==d[3].slice(-1)&&(f/=100),a.hsl2rgb(b,m,e,f);b=Q(I.round(b),255);m=Q(I.round(m),255);e=Q(I.round(e),255);f=Q(P(f,0),1);c={r:b,g:m,b:e,toString:ka};c.hex=\"#\"+(16777216|e|m<<8|b<<16).toString(16).slice(1);c.opacity=y(f,\"finite\")?f:1;return c}return{r:-1,g:-1,b:-1,hex:\"none\",error:1,toString:ka}},a);a.hsb=A(function(c,b,m){return a.hsb2rgb(c,b,m).hex});a.hsl=A(function(c,b,m){return a.hsl2rgb(c,\n",
        "b,m).hex});a.rgb=A(function(c,a,b,m){if(y(m,\"finite\")){var e=I.round;return\"rgba(\"+[e(c),e(a),e(b),+m.toFixed(2)]+\")\"}return\"#\"+(16777216|b|a<<8|c<<16).toString(16).slice(1)});var T=function(c){var a=G.doc.getElementsByTagName(\"head\")[0]||G.doc.getElementsByTagName(\"svg\")[0];T=A(function(c){if(\"red\"==c.toLowerCase())return\"rgb(255, 0, 0)\";a.style.color=\"rgb(255, 0, 0)\";a.style.color=c;c=G.doc.defaultView.getComputedStyle(a,aa).getPropertyValue(\"color\");return\"rgb(255, 0, 0)\"==c?null:c});return T(c)},\n",
        "qa=function(){return\"hsb(\"+[this.h,this.s,this.b]+\")\"},ra=function(){return\"hsl(\"+[this.h,this.s,this.l]+\")\"},ka=function(){return 1==this.opacity||null==this.opacity?this.hex:\"rgba(\"+[this.r,this.g,this.b,this.opacity]+\")\"},D=function(c,b,m){null==b&&y(c,\"object\")&&\"r\"in c&&\"g\"in c&&\"b\"in c&&(m=c.b,b=c.g,c=c.r);null==b&&y(c,string)&&(m=a.getRGB(c),c=m.r,b=m.g,m=m.b);if(1<c||1<b||1<m)c/=255,b/=255,m/=255;return[c,b,m]},oa=function(c,b,m,e){c=I.round(255*c);b=I.round(255*b);m=I.round(255*m);c={r:c,\n",
        "g:b,b:m,opacity:y(e,\"finite\")?e:1,hex:a.rgb(c,b,m),toString:ka};y(e,\"finite\")&&(c.opacity=e);return c};a.color=function(c){var b;y(c,\"object\")&&\"h\"in c&&\"s\"in c&&\"b\"in c?(b=a.hsb2rgb(c),c.r=b.r,c.g=b.g,c.b=b.b,c.opacity=1,c.hex=b.hex):y(c,\"object\")&&\"h\"in c&&\"s\"in c&&\"l\"in c?(b=a.hsl2rgb(c),c.r=b.r,c.g=b.g,c.b=b.b,c.opacity=1,c.hex=b.hex):(y(c,\"string\")&&(c=a.getRGB(c)),y(c,\"object\")&&\"r\"in c&&\"g\"in c&&\"b\"in c&&!(\"error\"in c)?(b=a.rgb2hsl(c),c.h=b.h,c.s=b.s,c.l=b.l,b=a.rgb2hsb(c),c.v=b.b):(c={hex:\"none\"},\n",
        "c.r=c.g=c.b=c.h=c.s=c.v=c.l=-1,c.error=1));c.toString=ka;return c};a.hsb2rgb=function(c,a,b,m){y(c,\"object\")&&\"h\"in c&&\"s\"in c&&\"b\"in c&&(b=c.b,a=c.s,c=c.h,m=c.o);var e,h,d;c=360*c%360/60;d=b*a;a=d*(1-Y(c%2-1));b=e=h=b-d;c=~~c;b+=[d,a,0,0,a,d][c];e+=[a,d,d,a,0,0][c];h+=[0,0,a,d,d,a][c];return oa(b,e,h,m)};a.hsl2rgb=function(c,a,b,m){y(c,\"object\")&&\"h\"in c&&\"s\"in c&&\"l\"in c&&(b=c.l,a=c.s,c=c.h);if(1<c||1<a||1<b)c/=360,a/=100,b/=100;var e,h,d;c=360*c%360/60;d=2*a*(0.5>b?b:1-b);a=d*(1-Y(c%2-1));b=e=\n",
        "h=b-d/2;c=~~c;b+=[d,a,0,0,a,d][c];e+=[a,d,d,a,0,0][c];h+=[0,0,a,d,d,a][c];return oa(b,e,h,m)};a.rgb2hsb=function(c,a,b){b=D(c,a,b);c=b[0];a=b[1];b=b[2];var m,e;m=P(c,a,b);e=m-Q(c,a,b);c=((0==e?0:m==c?(a-b)/e:m==a?(b-c)/e+2:(c-a)/e+4)+360)%6*60/360;return{h:c,s:0==e?0:e/m,b:m,toString:qa}};a.rgb2hsl=function(c,a,b){b=D(c,a,b);c=b[0];a=b[1];b=b[2];var m,e,h;m=P(c,a,b);e=Q(c,a,b);h=m-e;c=((0==h?0:m==c?(a-b)/h:m==a?(b-c)/h+2:(c-a)/h+4)+360)%6*60/360;m=(m+e)/2;return{h:c,s:0==h?0:0.5>m?h/(2*m):h/(2-2*\n",
        "m),l:m,toString:ra}};a.parsePathString=function(c){if(!c)return null;var b=a.path(c);if(b.arr)return a.path.clone(b.arr);var m={a:7,c:6,o:2,h:1,l:2,m:2,r:4,q:4,s:4,t:2,v:1,u:3,z:0},e=[];y(c,\"array\")&&y(c[0],\"array\")&&(e=a.path.clone(c));e.length||J(c).replace(W,function(c,a,b){var h=[];c=a.toLowerCase();b.replace(Z,function(c,a){a&&h.push(+a)});\"m\"==c&&2<h.length&&(e.push([a].concat(h.splice(0,2))),c=\"l\",a=\"m\"==a?\"l\":\"L\");\"o\"==c&&1==h.length&&e.push([a,h[0] ]);if(\"r\"==c)e.push([a].concat(h));else for(;h.length>=\n",
        "m[c]&&(e.push([a].concat(h.splice(0,m[c]))),m[c]););});e.toString=a.path.toString;b.arr=a.path.clone(e);return e};var O=a.parseTransformString=function(c){if(!c)return null;var b=[];y(c,\"array\")&&y(c[0],\"array\")&&(b=a.path.clone(c));b.length||J(c).replace(ma,function(c,a,m){var e=[];a.toLowerCase();m.replace(Z,function(c,a){a&&e.push(+a)});b.push([a].concat(e))});b.toString=a.path.toString;return b};a._.svgTransform2string=d;a._.rgTransform=RegExp(\"^[a-z][\\t\\n\\x0B\\f\\r \\u00a0\\u1680\\u180e\\u2000\\u2001\\u2002\\u2003\\u2004\\u2005\\u2006\\u2007\\u2008\\u2009\\u200a\\u202f\\u205f\\u3000\\u2028\\u2029]*-?\\\\.?\\\\d\",\n",
        "\"i\");a._.transform2matrix=f;a._unit2px=b;a._.getSomeDefs=u;a._.getSomeSVG=p;a.select=function(c){return x(G.doc.querySelector(c))};a.selectAll=function(c){c=G.doc.querySelectorAll(c);for(var b=(a.set||Array)(),m=0;m<c.length;m++)b.push(x(c[m]));return b};setInterval(function(){for(var c in E)if(E[h](c)){var a=E[c],b=a.node;(\"svg\"!=a.type&&!b.ownerSVGElement||\"svg\"==a.type&&(!b.parentNode||\"ownerSVGElement\"in b.parentNode&&!b.ownerSVGElement))&&delete E[c]}},1E4);(function(c){function m(c){function a(c,\n",
        "b){var m=v(c.node,b);(m=(m=m&&m.match(d))&&m[2])&&\"#\"==m.charAt()&&(m=m.substring(1))&&(f[m]=(f[m]||[]).concat(function(a){var m={};m[b]=ca(a);v(c.node,m)}))}function b(c){var a=v(c.node,\"xlink:href\");a&&\"#\"==a.charAt()&&(a=a.substring(1))&&(f[a]=(f[a]||[]).concat(function(a){c.attr(\"xlink:href\",\"#\"+a)}))}var e=c.selectAll(\"*\"),h,d=/^\\s*url\\((\"|'|)(.*)\\1\\)\\s*$/;c=[];for(var f={},l=0,E=e.length;l<E;l++){h=e[l];a(h,\"fill\");a(h,\"stroke\");a(h,\"filter\");a(h,\"mask\");a(h,\"clip-path\");b(h);var t=v(h.node,\n",
        "\"id\");t&&(v(h.node,{id:h.id}),c.push({old:t,id:h.id}))}l=0;for(E=c.length;l<E;l++)if(e=f[c[l].old])for(h=0,t=e.length;h<t;h++)e[h](c[l].id)}function e(c,a,b){return function(m){m=m.slice(c,a);1==m.length&&(m=m[0]);return b?b(m):m}}function d(c){return function(){var a=c?\"<\"+this.type:\"\",b=this.node.attributes,m=this.node.childNodes;if(c)for(var e=0,h=b.length;e<h;e++)a+=\" \"+b[e].name+'=\"'+b[e].value.replace(/\"/g,'\\\\\"')+'\"';if(m.length){c&&(a+=\">\");e=0;for(h=m.length;e<h;e++)3==m[e].nodeType?a+=m[e].nodeValue:\n",
        "1==m[e].nodeType&&(a+=x(m[e]).toString());c&&(a+=\"</\"+this.type+\">\")}else c&&(a+=\"/>\");return a}}c.attr=function(c,a){if(!c)return this;if(y(c,\"string\"))if(1<arguments.length){var b={};b[c]=a;c=b}else return k(\"snap.util.getattr.\"+c,this).firstDefined();for(var m in c)c[h](m)&&k(\"snap.util.attr.\"+m,this,c[m]);return this};c.getBBox=function(c){if(!a.Matrix||!a.path)return this.node.getBBox();var b=this,m=new a.Matrix;if(b.removed)return a._.box();for(;\"use\"==b.type;)if(c||(m=m.add(b.transform().localMatrix.translate(b.attr(\"x\")||\n",
        "0,b.attr(\"y\")||0))),b.original)b=b.original;else var e=b.attr(\"xlink:href\"),b=b.original=b.node.ownerDocument.getElementById(e.substring(e.indexOf(\"#\")+1));var e=b._,h=a.path.get[b.type]||a.path.get.deflt;try{if(c)return e.bboxwt=h?a.path.getBBox(b.realPath=h(b)):a._.box(b.node.getBBox()),a._.box(e.bboxwt);b.realPath=h(b);b.matrix=b.transform().localMatrix;e.bbox=a.path.getBBox(a.path.map(b.realPath,m.add(b.matrix)));return a._.box(e.bbox)}catch(d){return a._.box()}};var f=function(){return this.string};\n",
        "c.transform=function(c){var b=this._;if(null==c){var m=this;c=new a.Matrix(this.node.getCTM());for(var e=n(this),h=[e],d=new a.Matrix,l=e.toTransformString(),b=J(e)==J(this.matrix)?J(b.transform):l;\"svg\"!=m.type&&(m=m.parent());)h.push(n(m));for(m=h.length;m--;)d.add(h[m]);return{string:b,globalMatrix:c,totalMatrix:d,localMatrix:e,diffMatrix:c.clone().add(e.invert()),global:c.toTransformString(),total:d.toTransformString(),local:l,toString:f}}c instanceof a.Matrix?this.matrix=c:n(this,c);this.node&&\n",
        "(\"linearGradient\"==this.type||\"radialGradient\"==this.type?v(this.node,{gradientTransform:this.matrix}):\"pattern\"==this.type?v(this.node,{patternTransform:this.matrix}):v(this.node,{transform:this.matrix}));return this};c.parent=function(){return x(this.node.parentNode)};c.append=c.add=function(c){if(c){if(\"set\"==c.type){var a=this;c.forEach(function(c){a.add(c)});return this}c=x(c);this.node.appendChild(c.node);c.paper=this.paper}return this};c.appendTo=function(c){c&&(c=x(c),c.append(this));return this};\n",
        "c.prepend=function(c){if(c){if(\"set\"==c.type){var a=this,b;c.forEach(function(c){b?b.after(c):a.prepend(c);b=c});return this}c=x(c);var m=c.parent();this.node.insertBefore(c.node,this.node.firstChild);this.add&&this.add();c.paper=this.paper;this.parent()&&this.parent().add();m&&m.add()}return this};c.prependTo=function(c){c=x(c);c.prepend(this);return this};c.before=function(c){if(\"set\"==c.type){var a=this;c.forEach(function(c){var b=c.parent();a.node.parentNode.insertBefore(c.node,a.node);b&&b.add()});\n",
        "this.parent().add();return this}c=x(c);var b=c.parent();this.node.parentNode.insertBefore(c.node,this.node);this.parent()&&this.parent().add();b&&b.add();c.paper=this.paper;return this};c.after=function(c){c=x(c);var a=c.parent();this.node.nextSibling?this.node.parentNode.insertBefore(c.node,this.node.nextSibling):this.node.parentNode.appendChild(c.node);this.parent()&&this.parent().add();a&&a.add();c.paper=this.paper;return this};c.insertBefore=function(c){c=x(c);var a=this.parent();c.node.parentNode.insertBefore(this.node,\n",
        "c.node);this.paper=c.paper;a&&a.add();c.parent()&&c.parent().add();return this};c.insertAfter=function(c){c=x(c);var a=this.parent();c.node.parentNode.insertBefore(this.node,c.node.nextSibling);this.paper=c.paper;a&&a.add();c.parent()&&c.parent().add();return this};c.remove=function(){var c=this.parent();this.node.parentNode&&this.node.parentNode.removeChild(this.node);delete this.paper;this.removed=!0;c&&c.add();return this};c.select=function(c){return x(this.node.querySelector(c))};c.selectAll=\n",
        "function(c){c=this.node.querySelectorAll(c);for(var b=(a.set||Array)(),m=0;m<c.length;m++)b.push(x(c[m]));return b};c.asPX=function(c,a){null==a&&(a=this.attr(c));return+b(this,c,a)};c.use=function(){var c,a=this.node.id;a||(a=this.id,v(this.node,{id:a}));c=\"linearGradient\"==this.type||\"radialGradient\"==this.type||\"pattern\"==this.type?r(this.type,this.node.parentNode):r(\"use\",this.node.parentNode);v(c.node,{\"xlink:href\":\"#\"+a});c.original=this;return c};var l=/\\S+/g;c.addClass=function(c){var a=(c||\n",
        "\"\").match(l)||[];c=this.node;var b=c.className.baseVal,m=b.match(l)||[],e,h,d;if(a.length){for(e=0;d=a[e++];)h=m.indexOf(d),~h||m.push(d);a=m.join(\" \");b!=a&&(c.className.baseVal=a)}return this};c.removeClass=function(c){var a=(c||\"\").match(l)||[];c=this.node;var b=c.className.baseVal,m=b.match(l)||[],e,h;if(m.length){for(e=0;h=a[e++];)h=m.indexOf(h),~h&&m.splice(h,1);a=m.join(\" \");b!=a&&(c.className.baseVal=a)}return this};c.hasClass=function(c){return!!~(this.node.className.baseVal.match(l)||[]).indexOf(c)};\n",
        "c.toggleClass=function(c,a){if(null!=a)return a?this.addClass(c):this.removeClass(c);var b=(c||\"\").match(l)||[],m=this.node,e=m.className.baseVal,h=e.match(l)||[],d,f,E;for(d=0;E=b[d++];)f=h.indexOf(E),~f?h.splice(f,1):h.push(E);b=h.join(\" \");e!=b&&(m.className.baseVal=b);return this};c.clone=function(){var c=x(this.node.cloneNode(!0));v(c.node,\"id\")&&v(c.node,{id:c.id});m(c);c.insertAfter(this);return c};c.toDefs=function(){u(this).appendChild(this.node);return this};c.pattern=c.toPattern=function(c,\n",
        "a,b,m){var e=r(\"pattern\",u(this));null==c&&(c=this.getBBox());y(c,\"object\")&&\"x\"in c&&(a=c.y,b=c.width,m=c.height,c=c.x);v(e.node,{x:c,y:a,width:b,height:m,patternUnits:\"userSpaceOnUse\",id:e.id,viewBox:[c,a,b,m].join(\" \")});e.node.appendChild(this.node);return e};c.marker=function(c,a,b,m,e,h){var d=r(\"marker\",u(this));null==c&&(c=this.getBBox());y(c,\"object\")&&\"x\"in c&&(a=c.y,b=c.width,m=c.height,e=c.refX||c.cx,h=c.refY||c.cy,c=c.x);v(d.node,{viewBox:[c,a,b,m].join(\" \"),markerWidth:b,markerHeight:m,\n",
        "orient:\"auto\",refX:e||0,refY:h||0,id:d.id});d.node.appendChild(this.node);return d};var E=function(c,a,b,m){\"function\"!=typeof b||b.length||(m=b,b=L.linear);this.attr=c;this.dur=a;b&&(this.easing=b);m&&(this.callback=m)};a._.Animation=E;a.animation=function(c,a,b,m){return new E(c,a,b,m)};c.inAnim=function(){var c=[],a;for(a in this.anims)this.anims[h](a)&&function(a){c.push({anim:new E(a._attrs,a.dur,a.easing,a._callback),mina:a,curStatus:a.status(),status:function(c){return a.status(c)},stop:function(){a.stop()}})}(this.anims[a]);\n",
        "return c};a.animate=function(c,a,b,m,e,h){\"function\"!=typeof e||e.length||(h=e,e=L.linear);var d=L.time();c=L(c,a,d,d+m,L.time,b,e);h&&k.once(\"mina.finish.\"+c.id,h);return c};c.stop=function(){for(var c=this.inAnim(),a=0,b=c.length;a<b;a++)c[a].stop();return this};c.animate=function(c,a,b,m){\"function\"!=typeof b||b.length||(m=b,b=L.linear);c instanceof E&&(m=c.callback,b=c.easing,a=b.dur,c=c.attr);var d=[],f=[],l={},t,ca,n,T=this,q;for(q in c)if(c[h](q)){T.equal?(n=T.equal(q,J(c[q])),t=n.from,ca=\n",
        "n.to,n=n.f):(t=+T.attr(q),ca=+c[q]);var la=y(t,\"array\")?t.length:1;l[q]=e(d.length,d.length+la,n);d=d.concat(t);f=f.concat(ca)}t=L.time();var p=L(d,f,t,t+a,L.time,function(c){var a={},b;for(b in l)l[h](b)&&(a[b]=l[b](c));T.attr(a)},b);T.anims[p.id]=p;p._attrs=c;p._callback=m;k(\"snap.animcreated.\"+T.id,p);k.once(\"mina.finish.\"+p.id,function(){delete T.anims[p.id];m&&m.call(T)});k.once(\"mina.stop.\"+p.id,function(){delete T.anims[p.id]});return T};var T={};c.data=function(c,b){var m=T[this.id]=T[this.id]||\n",
        "{};if(0==arguments.length)return k(\"snap.data.get.\"+this.id,this,m,null),m;if(1==arguments.length){if(a.is(c,\"object\")){for(var e in c)c[h](e)&&this.data(e,c[e]);return this}k(\"snap.data.get.\"+this.id,this,m[c],c);return m[c]}m[c]=b;k(\"snap.data.set.\"+this.id,this,b,c);return this};c.removeData=function(c){null==c?T[this.id]={}:T[this.id]&&delete T[this.id][c];return this};c.outerSVG=c.toString=d(1);c.innerSVG=d()})(e.prototype);a.parse=function(c){var a=G.doc.createDocumentFragment(),b=!0,m=G.doc.createElement(\"div\");\n",
        "c=J(c);c.match(/^\\s*<\\s*svg(?:\\s|>)/)||(c=\"<svg>\"+c+\"</svg>\",b=!1);m.innerHTML=c;if(c=m.getElementsByTagName(\"svg\")[0])if(b)a=c;else for(;c.firstChild;)a.appendChild(c.firstChild);m.innerHTML=aa;return new l(a)};l.prototype.select=e.prototype.select;l.prototype.selectAll=e.prototype.selectAll;a.fragment=function(){for(var c=Array.prototype.slice.call(arguments,0),b=G.doc.createDocumentFragment(),m=0,e=c.length;m<e;m++){var h=c[m];h.node&&h.node.nodeType&&b.appendChild(h.node);h.nodeType&&b.appendChild(h);\n",
        "\"string\"==typeof h&&b.appendChild(a.parse(h).node)}return new l(b)};a._.make=r;a._.wrap=x;s.prototype.el=function(c,a){var b=r(c,this.node);a&&b.attr(a);return b};k.on(\"snap.util.getattr\",function(){var c=k.nt(),c=c.substring(c.lastIndexOf(\".\")+1),a=c.replace(/[A-Z]/g,function(c){return\"-\"+c.toLowerCase()});return pa[h](a)?this.node.ownerDocument.defaultView.getComputedStyle(this.node,null).getPropertyValue(a):v(this.node,c)});var pa={\"alignment-baseline\":0,\"baseline-shift\":0,clip:0,\"clip-path\":0,\n",
        "\"clip-rule\":0,color:0,\"color-interpolation\":0,\"color-interpolation-filters\":0,\"color-profile\":0,\"color-rendering\":0,cursor:0,direction:0,display:0,\"dominant-baseline\":0,\"enable-background\":0,fill:0,\"fill-opacity\":0,\"fill-rule\":0,filter:0,\"flood-color\":0,\"flood-opacity\":0,font:0,\"font-family\":0,\"font-size\":0,\"font-size-adjust\":0,\"font-stretch\":0,\"font-style\":0,\"font-variant\":0,\"font-weight\":0,\"glyph-orientation-horizontal\":0,\"glyph-orientation-vertical\":0,\"image-rendering\":0,kerning:0,\"letter-spacing\":0,\n",
        "\"lighting-color\":0,marker:0,\"marker-end\":0,\"marker-mid\":0,\"marker-start\":0,mask:0,opacity:0,overflow:0,\"pointer-events\":0,\"shape-rendering\":0,\"stop-color\":0,\"stop-opacity\":0,stroke:0,\"stroke-dasharray\":0,\"stroke-dashoffset\":0,\"stroke-linecap\":0,\"stroke-linejoin\":0,\"stroke-miterlimit\":0,\"stroke-opacity\":0,\"stroke-width\":0,\"text-anchor\":0,\"text-decoration\":0,\"text-rendering\":0,\"unicode-bidi\":0,visibility:0,\"word-spacing\":0,\"writing-mode\":0};k.on(\"snap.util.attr\",function(c){var a=k.nt(),b={},a=a.substring(a.lastIndexOf(\".\")+\n",
        "1);b[a]=c;var m=a.replace(/-(\\w)/gi,function(c,a){return a.toUpperCase()}),a=a.replace(/[A-Z]/g,function(c){return\"-\"+c.toLowerCase()});pa[h](a)?this.node.style[m]=null==c?aa:c:v(this.node,b)});a.ajax=function(c,a,b,m){var e=new XMLHttpRequest,h=V();if(e){if(y(a,\"function\"))m=b,b=a,a=null;else if(y(a,\"object\")){var d=[],f;for(f in a)a.hasOwnProperty(f)&&d.push(encodeURIComponent(f)+\"=\"+encodeURIComponent(a[f]));a=d.join(\"&\")}e.open(a?\"POST\":\"GET\",c,!0);a&&(e.setRequestHeader(\"X-Requested-With\",\"XMLHttpRequest\"),\n",
        "e.setRequestHeader(\"Content-type\",\"application/x-www-form-urlencoded\"));b&&(k.once(\"snap.ajax.\"+h+\".0\",b),k.once(\"snap.ajax.\"+h+\".200\",b),k.once(\"snap.ajax.\"+h+\".304\",b));e.onreadystatechange=function(){4==e.readyState&&k(\"snap.ajax.\"+h+\".\"+e.status,m,e)};if(4==e.readyState)return e;e.send(a);return e}};a.load=function(c,b,m){a.ajax(c,function(c){c=a.parse(c.responseText);m?b.call(m,c):b(c)})};a.getElementByPoint=function(c,a){var b,m,e=G.doc.elementFromPoint(c,a);if(G.win.opera&&\"svg\"==e.tagName){b=\n",
        "e;m=b.getBoundingClientRect();b=b.ownerDocument;var h=b.body,d=b.documentElement;b=m.top+(g.win.pageYOffset||d.scrollTop||h.scrollTop)-(d.clientTop||h.clientTop||0);m=m.left+(g.win.pageXOffset||d.scrollLeft||h.scrollLeft)-(d.clientLeft||h.clientLeft||0);h=e.createSVGRect();h.x=c-m;h.y=a-b;h.width=h.height=1;b=e.getIntersectionList(h,null);b.length&&(e=b[b.length-1])}return e?x(e):null};a.plugin=function(c){c(a,e,s,G,l)};return G.win.Snap=a}();C.plugin(function(a,k,y,M,A){function w(a,d,f,b,q,e){null==\n",
        "d&&\"[object SVGMatrix]\"==z.call(a)?(this.a=a.a,this.b=a.b,this.c=a.c,this.d=a.d,this.e=a.e,this.f=a.f):null!=a?(this.a=+a,this.b=+d,this.c=+f,this.d=+b,this.e=+q,this.f=+e):(this.a=1,this.c=this.b=0,this.d=1,this.f=this.e=0)}var z=Object.prototype.toString,d=String,f=Math;(function(n){function k(a){return a[0]*a[0]+a[1]*a[1]}function p(a){var d=f.sqrt(k(a));a[0]&&(a[0]/=d);a[1]&&(a[1]/=d)}n.add=function(a,d,e,f,n,p){var k=[[],[],[] ],u=[[this.a,this.c,this.e],[this.b,this.d,this.f],[0,0,1] ];d=[[a,\n",
        "e,n],[d,f,p],[0,0,1] ];a&&a instanceof w&&(d=[[a.a,a.c,a.e],[a.b,a.d,a.f],[0,0,1] ]);for(a=0;3>a;a++)for(e=0;3>e;e++){for(f=n=0;3>f;f++)n+=u[a][f]*d[f][e];k[a][e]=n}this.a=k[0][0];this.b=k[1][0];this.c=k[0][1];this.d=k[1][1];this.e=k[0][2];this.f=k[1][2];return this};n.invert=function(){var a=this.a*this.d-this.b*this.c;return new w(this.d/a,-this.b/a,-this.c/a,this.a/a,(this.c*this.f-this.d*this.e)/a,(this.b*this.e-this.a*this.f)/a)};n.clone=function(){return new w(this.a,this.b,this.c,this.d,this.e,\n",
        "this.f)};n.translate=function(a,d){return this.add(1,0,0,1,a,d)};n.scale=function(a,d,e,f){null==d&&(d=a);(e||f)&&this.add(1,0,0,1,e,f);this.add(a,0,0,d,0,0);(e||f)&&this.add(1,0,0,1,-e,-f);return this};n.rotate=function(b,d,e){b=a.rad(b);d=d||0;e=e||0;var l=+f.cos(b).toFixed(9);b=+f.sin(b).toFixed(9);this.add(l,b,-b,l,d,e);return this.add(1,0,0,1,-d,-e)};n.x=function(a,d){return a*this.a+d*this.c+this.e};n.y=function(a,d){return a*this.b+d*this.d+this.f};n.get=function(a){return+this[d.fromCharCode(97+\n",
        "a)].toFixed(4)};n.toString=function(){return\"matrix(\"+[this.get(0),this.get(1),this.get(2),this.get(3),this.get(4),this.get(5)].join()+\")\"};n.offset=function(){return[this.e.toFixed(4),this.f.toFixed(4)]};n.determinant=function(){return this.a*this.d-this.b*this.c};n.split=function(){var b={};b.dx=this.e;b.dy=this.f;var d=[[this.a,this.c],[this.b,this.d] ];b.scalex=f.sqrt(k(d[0]));p(d[0]);b.shear=d[0][0]*d[1][0]+d[0][1]*d[1][1];d[1]=[d[1][0]-d[0][0]*b.shear,d[1][1]-d[0][1]*b.shear];b.scaley=f.sqrt(k(d[1]));\n",
        "p(d[1]);b.shear/=b.scaley;0>this.determinant()&&(b.scalex=-b.scalex);var e=-d[0][1],d=d[1][1];0>d?(b.rotate=a.deg(f.acos(d)),0>e&&(b.rotate=360-b.rotate)):b.rotate=a.deg(f.asin(e));b.isSimple=!+b.shear.toFixed(9)&&(b.scalex.toFixed(9)==b.scaley.toFixed(9)||!b.rotate);b.isSuperSimple=!+b.shear.toFixed(9)&&b.scalex.toFixed(9)==b.scaley.toFixed(9)&&!b.rotate;b.noRotation=!+b.shear.toFixed(9)&&!b.rotate;return b};n.toTransformString=function(a){a=a||this.split();if(+a.shear.toFixed(9))return\"m\"+[this.get(0),\n",
        "this.get(1),this.get(2),this.get(3),this.get(4),this.get(5)];a.scalex=+a.scalex.toFixed(4);a.scaley=+a.scaley.toFixed(4);a.rotate=+a.rotate.toFixed(4);return(a.dx||a.dy?\"t\"+[+a.dx.toFixed(4),+a.dy.toFixed(4)]:\"\")+(1!=a.scalex||1!=a.scaley?\"s\"+[a.scalex,a.scaley,0,0]:\"\")+(a.rotate?\"r\"+[+a.rotate.toFixed(4),0,0]:\"\")}})(w.prototype);a.Matrix=w;a.matrix=function(a,d,f,b,k,e){return new w(a,d,f,b,k,e)}});C.plugin(function(a,v,y,M,A){function w(h){return function(d){k.stop();d instanceof A&&1==d.node.childNodes.length&&\n",
        "(\"radialGradient\"==d.node.firstChild.tagName||\"linearGradient\"==d.node.firstChild.tagName||\"pattern\"==d.node.firstChild.tagName)&&(d=d.node.firstChild,b(this).appendChild(d),d=u(d));if(d instanceof v)if(\"radialGradient\"==d.type||\"linearGradient\"==d.type||\"pattern\"==d.type){d.node.id||e(d.node,{id:d.id});var f=l(d.node.id)}else f=d.attr(h);else f=a.color(d),f.error?(f=a(b(this).ownerSVGElement).gradient(d))?(f.node.id||e(f.node,{id:f.id}),f=l(f.node.id)):f=d:f=r(f);d={};d[h]=f;e(this.node,d);this.node.style[h]=\n",
        "x}}function z(a){k.stop();a==+a&&(a+=\"px\");this.node.style.fontSize=a}function d(a){var b=[];a=a.childNodes;for(var e=0,f=a.length;e<f;e++){var l=a[e];3==l.nodeType&&b.push(l.nodeValue);\"tspan\"==l.tagName&&(1==l.childNodes.length&&3==l.firstChild.nodeType?b.push(l.firstChild.nodeValue):b.push(d(l)))}return b}function f(){k.stop();return this.node.style.fontSize}var n=a._.make,u=a._.wrap,p=a.is,b=a._.getSomeDefs,q=/^url\\(#?([^)]+)\\)$/,e=a._.$,l=a.url,r=String,s=a._.separator,x=\"\";k.on(\"snap.util.attr.mask\",\n",
        "function(a){if(a instanceof v||a instanceof A){k.stop();a instanceof A&&1==a.node.childNodes.length&&(a=a.node.firstChild,b(this).appendChild(a),a=u(a));if(\"mask\"==a.type)var d=a;else d=n(\"mask\",b(this)),d.node.appendChild(a.node);!d.node.id&&e(d.node,{id:d.id});e(this.node,{mask:l(d.id)})}});(function(a){k.on(\"snap.util.attr.clip\",a);k.on(\"snap.util.attr.clip-path\",a);k.on(\"snap.util.attr.clipPath\",a)})(function(a){if(a instanceof v||a instanceof A){k.stop();if(\"clipPath\"==a.type)var d=a;else d=\n",
        "n(\"clipPath\",b(this)),d.node.appendChild(a.node),!d.node.id&&e(d.node,{id:d.id});e(this.node,{\"clip-path\":l(d.id)})}});k.on(\"snap.util.attr.fill\",w(\"fill\"));k.on(\"snap.util.attr.stroke\",w(\"stroke\"));var G=/^([lr])(?:\\(([^)]*)\\))?(.*)$/i;k.on(\"snap.util.grad.parse\",function(a){a=r(a);var b=a.match(G);if(!b)return null;a=b[1];var e=b[2],b=b[3],e=e.split(/\\s*,\\s*/).map(function(a){return+a==a?+a:a});1==e.length&&0==e[0]&&(e=[]);b=b.split(\"-\");b=b.map(function(a){a=a.split(\":\");var b={color:a[0]};a[1]&&\n",
        "(b.offset=parseFloat(a[1]));return b});return{type:a,params:e,stops:b}});k.on(\"snap.util.attr.d\",function(b){k.stop();p(b,\"array\")&&p(b[0],\"array\")&&(b=a.path.toString.call(b));b=r(b);b.match(/[ruo]/i)&&(b=a.path.toAbsolute(b));e(this.node,{d:b})})(-1);k.on(\"snap.util.attr.#text\",function(a){k.stop();a=r(a);for(a=M.doc.createTextNode(a);this.node.firstChild;)this.node.removeChild(this.node.firstChild);this.node.appendChild(a)})(-1);k.on(\"snap.util.attr.path\",function(a){k.stop();this.attr({d:a})})(-1);\n",
        "k.on(\"snap.util.attr.class\",function(a){k.stop();this.node.className.baseVal=a})(-1);k.on(\"snap.util.attr.viewBox\",function(a){a=p(a,\"object\")&&\"x\"in a?[a.x,a.y,a.width,a.height].join(\" \"):p(a,\"array\")?a.join(\" \"):a;e(this.node,{viewBox:a});k.stop()})(-1);k.on(\"snap.util.attr.transform\",function(a){this.transform(a);k.stop()})(-1);k.on(\"snap.util.attr.r\",function(a){\"rect\"==this.type&&(k.stop(),e(this.node,{rx:a,ry:a}))})(-1);k.on(\"snap.util.attr.textpath\",function(a){k.stop();if(\"text\"==this.type){var d,\n",
        "f;if(!a&&this.textPath){for(a=this.textPath;a.node.firstChild;)this.node.appendChild(a.node.firstChild);a.remove();delete this.textPath}else if(p(a,\"string\")?(d=b(this),a=u(d.parentNode).path(a),d.appendChild(a.node),d=a.id,a.attr({id:d})):(a=u(a),a instanceof v&&(d=a.attr(\"id\"),d||(d=a.id,a.attr({id:d})))),d)if(a=this.textPath,f=this.node,a)a.attr({\"xlink:href\":\"#\"+d});else{for(a=e(\"textPath\",{\"xlink:href\":\"#\"+d});f.firstChild;)a.appendChild(f.firstChild);f.appendChild(a);this.textPath=u(a)}}})(-1);\n",
        "k.on(\"snap.util.attr.text\",function(a){if(\"text\"==this.type){for(var b=this.node,d=function(a){var b=e(\"tspan\");if(p(a,\"array\"))for(var f=0;f<a.length;f++)b.appendChild(d(a[f]));else b.appendChild(M.doc.createTextNode(a));b.normalize&&b.normalize();return b};b.firstChild;)b.removeChild(b.firstChild);for(a=d(a);a.firstChild;)b.appendChild(a.firstChild)}k.stop()})(-1);k.on(\"snap.util.attr.fontSize\",z)(-1);k.on(\"snap.util.attr.font-size\",z)(-1);k.on(\"snap.util.getattr.transform\",function(){k.stop();\n",
        "return this.transform()})(-1);k.on(\"snap.util.getattr.textpath\",function(){k.stop();return this.textPath})(-1);(function(){function b(d){return function(){k.stop();var b=M.doc.defaultView.getComputedStyle(this.node,null).getPropertyValue(\"marker-\"+d);return\"none\"==b?b:a(M.doc.getElementById(b.match(q)[1]))}}function d(a){return function(b){k.stop();var d=\"marker\"+a.charAt(0).toUpperCase()+a.substring(1);if(\"\"==b||!b)this.node.style[d]=\"none\";else if(\"marker\"==b.type){var f=b.node.id;f||e(b.node,{id:b.id});\n",
        "this.node.style[d]=l(f)}}}k.on(\"snap.util.getattr.marker-end\",b(\"end\"))(-1);k.on(\"snap.util.getattr.markerEnd\",b(\"end\"))(-1);k.on(\"snap.util.getattr.marker-start\",b(\"start\"))(-1);k.on(\"snap.util.getattr.markerStart\",b(\"start\"))(-1);k.on(\"snap.util.getattr.marker-mid\",b(\"mid\"))(-1);k.on(\"snap.util.getattr.markerMid\",b(\"mid\"))(-1);k.on(\"snap.util.attr.marker-end\",d(\"end\"))(-1);k.on(\"snap.util.attr.markerEnd\",d(\"end\"))(-1);k.on(\"snap.util.attr.marker-start\",d(\"start\"))(-1);k.on(\"snap.util.attr.markerStart\",\n",
        "d(\"start\"))(-1);k.on(\"snap.util.attr.marker-mid\",d(\"mid\"))(-1);k.on(\"snap.util.attr.markerMid\",d(\"mid\"))(-1)})();k.on(\"snap.util.getattr.r\",function(){if(\"rect\"==this.type&&e(this.node,\"rx\")==e(this.node,\"ry\"))return k.stop(),e(this.node,\"rx\")})(-1);k.on(\"snap.util.getattr.text\",function(){if(\"text\"==this.type||\"tspan\"==this.type){k.stop();var a=d(this.node);return 1==a.length?a[0]:a}})(-1);k.on(\"snap.util.getattr.#text\",function(){return this.node.textContent})(-1);k.on(\"snap.util.getattr.viewBox\",\n",
        "function(){k.stop();var b=e(this.node,\"viewBox\");if(b)return b=b.split(s),a._.box(+b[0],+b[1],+b[2],+b[3])})(-1);k.on(\"snap.util.getattr.points\",function(){var a=e(this.node,\"points\");k.stop();if(a)return a.split(s)})(-1);k.on(\"snap.util.getattr.path\",function(){var a=e(this.node,\"d\");k.stop();return a})(-1);k.on(\"snap.util.getattr.class\",function(){return this.node.className.baseVal})(-1);k.on(\"snap.util.getattr.fontSize\",f)(-1);k.on(\"snap.util.getattr.font-size\",f)(-1)});C.plugin(function(a,v,y,\n",
        "M,A){function w(a){return a}function z(a){return function(b){return+b.toFixed(3)+a}}var d={\"+\":function(a,b){return a+b},\"-\":function(a,b){return a-b},\"/\":function(a,b){return a/b},\"*\":function(a,b){return a*b}},f=String,n=/[a-z]+$/i,u=/^\\s*([+\\-\\/*])\\s*=\\s*([\\d.eE+\\-]+)\\s*([^\\d\\s]+)?\\s*$/;k.on(\"snap.util.attr\",function(a){if(a=f(a).match(u)){var b=k.nt(),b=b.substring(b.lastIndexOf(\".\")+1),q=this.attr(b),e={};k.stop();var l=a[3]||\"\",r=q.match(n),s=d[a[1] ];r&&r==l?a=s(parseFloat(q),+a[2]):(q=this.asPX(b),\n",
        "a=s(this.asPX(b),this.asPX(b,a[2]+l)));isNaN(q)||isNaN(a)||(e[b]=a,this.attr(e))}})(-10);k.on(\"snap.util.equal\",function(a,b){var q=f(this.attr(a)||\"\"),e=f(b).match(u);if(e){k.stop();var l=e[3]||\"\",r=q.match(n),s=d[e[1] ];if(r&&r==l)return{from:parseFloat(q),to:s(parseFloat(q),+e[2]),f:z(r)};q=this.asPX(a);return{from:q,to:s(q,this.asPX(a,e[2]+l)),f:w}}})(-10)});C.plugin(function(a,v,y,M,A){var w=y.prototype,z=a.is;w.rect=function(a,d,k,p,b,q){var e;null==q&&(q=b);z(a,\"object\")&&\"[object Object]\"==\n",
        "a?e=a:null!=a&&(e={x:a,y:d,width:k,height:p},null!=b&&(e.rx=b,e.ry=q));return this.el(\"rect\",e)};w.circle=function(a,d,k){var p;z(a,\"object\")&&\"[object Object]\"==a?p=a:null!=a&&(p={cx:a,cy:d,r:k});return this.el(\"circle\",p)};var d=function(){function a(){this.parentNode.removeChild(this)}return function(d,k){var p=M.doc.createElement(\"img\"),b=M.doc.body;p.style.cssText=\"position:absolute;left:-9999em;top:-9999em\";p.onload=function(){k.call(p);p.onload=p.onerror=null;b.removeChild(p)};p.onerror=a;\n",
        "b.appendChild(p);p.src=d}}();w.image=function(f,n,k,p,b){var q=this.el(\"image\");if(z(f,\"object\")&&\"src\"in f)q.attr(f);else if(null!=f){var e={\"xlink:href\":f,preserveAspectRatio:\"none\"};null!=n&&null!=k&&(e.x=n,e.y=k);null!=p&&null!=b?(e.width=p,e.height=b):d(f,function(){a._.$(q.node,{width:this.offsetWidth,height:this.offsetHeight})});a._.$(q.node,e)}return q};w.ellipse=function(a,d,k,p){var b;z(a,\"object\")&&\"[object Object]\"==a?b=a:null!=a&&(b={cx:a,cy:d,rx:k,ry:p});return this.el(\"ellipse\",b)};\n",
        "w.path=function(a){var d;z(a,\"object\")&&!z(a,\"array\")?d=a:a&&(d={d:a});return this.el(\"path\",d)};w.group=w.g=function(a){var d=this.el(\"g\");1==arguments.length&&a&&!a.type?d.attr(a):arguments.length&&d.add(Array.prototype.slice.call(arguments,0));return d};w.svg=function(a,d,k,p,b,q,e,l){var r={};z(a,\"object\")&&null==d?r=a:(null!=a&&(r.x=a),null!=d&&(r.y=d),null!=k&&(r.width=k),null!=p&&(r.height=p),null!=b&&null!=q&&null!=e&&null!=l&&(r.viewBox=[b,q,e,l]));return this.el(\"svg\",r)};w.mask=function(a){var d=\n",
        "this.el(\"mask\");1==arguments.length&&a&&!a.type?d.attr(a):arguments.length&&d.add(Array.prototype.slice.call(arguments,0));return d};w.ptrn=function(a,d,k,p,b,q,e,l){if(z(a,\"object\"))var r=a;else arguments.length?(r={},null!=a&&(r.x=a),null!=d&&(r.y=d),null!=k&&(r.width=k),null!=p&&(r.height=p),null!=b&&null!=q&&null!=e&&null!=l&&(r.viewBox=[b,q,e,l])):r={patternUnits:\"userSpaceOnUse\"};return this.el(\"pattern\",r)};w.use=function(a){return null!=a?(make(\"use\",this.node),a instanceof v&&(a.attr(\"id\")||\n",
        "a.attr({id:ID()}),a=a.attr(\"id\")),this.el(\"use\",{\"xlink:href\":a})):v.prototype.use.call(this)};w.text=function(a,d,k){var p={};z(a,\"object\")?p=a:null!=a&&(p={x:a,y:d,text:k||\"\"});return this.el(\"text\",p)};w.line=function(a,d,k,p){var b={};z(a,\"object\")?b=a:null!=a&&(b={x1:a,x2:k,y1:d,y2:p});return this.el(\"line\",b)};w.polyline=function(a){1<arguments.length&&(a=Array.prototype.slice.call(arguments,0));var d={};z(a,\"object\")&&!z(a,\"array\")?d=a:null!=a&&(d={points:a});return this.el(\"polyline\",d)};\n",
        "w.polygon=function(a){1<arguments.length&&(a=Array.prototype.slice.call(arguments,0));var d={};z(a,\"object\")&&!z(a,\"array\")?d=a:null!=a&&(d={points:a});return this.el(\"polygon\",d)};(function(){function d(){return this.selectAll(\"stop\")}function n(b,d){var f=e(\"stop\"),k={offset:+d+\"%\"};b=a.color(b);k[\"stop-color\"]=b.hex;1>b.opacity&&(k[\"stop-opacity\"]=b.opacity);e(f,k);this.node.appendChild(f);return this}function u(){if(\"linearGradient\"==this.type){var b=e(this.node,\"x1\")||0,d=e(this.node,\"x2\")||\n",
        "1,f=e(this.node,\"y1\")||0,k=e(this.node,\"y2\")||0;return a._.box(b,f,math.abs(d-b),math.abs(k-f))}b=this.node.r||0;return a._.box((this.node.cx||0.5)-b,(this.node.cy||0.5)-b,2*b,2*b)}function p(a,d){function f(a,b){for(var d=(b-u)/(a-w),e=w;e<a;e++)h[e].offset=+(+u+d*(e-w)).toFixed(2);w=a;u=b}var n=k(\"snap.util.grad.parse\",null,d).firstDefined(),p;if(!n)return null;n.params.unshift(a);p=\"l\"==n.type.toLowerCase()?b.apply(0,n.params):q.apply(0,n.params);n.type!=n.type.toLowerCase()&&e(p.node,{gradientUnits:\"userSpaceOnUse\"});\n",
        "var h=n.stops,n=h.length,u=0,w=0;n--;for(var v=0;v<n;v++)\"offset\"in h[v]&&f(v,h[v].offset);h[n].offset=h[n].offset||100;f(n,h[n].offset);for(v=0;v<=n;v++){var y=h[v];p.addStop(y.color,y.offset)}return p}function b(b,k,p,q,w){b=a._.make(\"linearGradient\",b);b.stops=d;b.addStop=n;b.getBBox=u;null!=k&&e(b.node,{x1:k,y1:p,x2:q,y2:w});return b}function q(b,k,p,q,w,h){b=a._.make(\"radialGradient\",b);b.stops=d;b.addStop=n;b.getBBox=u;null!=k&&e(b.node,{cx:k,cy:p,r:q});null!=w&&null!=h&&e(b.node,{fx:w,fy:h});\n",
        "return b}var e=a._.$;w.gradient=function(a){return p(this.defs,a)};w.gradientLinear=function(a,d,e,f){return b(this.defs,a,d,e,f)};w.gradientRadial=function(a,b,d,e,f){return q(this.defs,a,b,d,e,f)};w.toString=function(){var b=this.node.ownerDocument,d=b.createDocumentFragment(),b=b.createElement(\"div\"),e=this.node.cloneNode(!0);d.appendChild(b);b.appendChild(e);a._.$(e,{xmlns:\"http://www.w3.org/2000/svg\"});b=b.innerHTML;d.removeChild(d.firstChild);return b};w.clear=function(){for(var a=this.node.firstChild,\n",
        "b;a;)b=a.nextSibling,\"defs\"!=a.tagName?a.parentNode.removeChild(a):w.clear.call({node:a}),a=b}})()});C.plugin(function(a,k,y,M){function A(a){var b=A.ps=A.ps||{};b[a]?b[a].sleep=100:b[a]={sleep:100};setTimeout(function(){for(var d in b)b[L](d)&&d!=a&&(b[d].sleep--,!b[d].sleep&&delete b[d])});return b[a]}function w(a,b,d,e){null==a&&(a=b=d=e=0);null==b&&(b=a.y,d=a.width,e=a.height,a=a.x);return{x:a,y:b,width:d,w:d,height:e,h:e,x2:a+d,y2:b+e,cx:a+d/2,cy:b+e/2,r1:F.min(d,e)/2,r2:F.max(d,e)/2,r0:F.sqrt(d*\n",
        "d+e*e)/2,path:s(a,b,d,e),vb:[a,b,d,e].join(\" \")}}function z(){return this.join(\",\").replace(N,\"$1\")}function d(a){a=C(a);a.toString=z;return a}function f(a,b,d,h,f,k,l,n,p){if(null==p)return e(a,b,d,h,f,k,l,n);if(0>p||e(a,b,d,h,f,k,l,n)<p)p=void 0;else{var q=0.5,O=1-q,s;for(s=e(a,b,d,h,f,k,l,n,O);0.01<Z(s-p);)q/=2,O+=(s<p?1:-1)*q,s=e(a,b,d,h,f,k,l,n,O);p=O}return u(a,b,d,h,f,k,l,n,p)}function n(b,d){function e(a){return+(+a).toFixed(3)}return a._.cacher(function(a,h,l){a instanceof k&&(a=a.attr(\"d\"));\n",
        "a=I(a);for(var n,p,D,q,O=\"\",s={},c=0,t=0,r=a.length;t<r;t++){D=a[t];if(\"M\"==D[0])n=+D[1],p=+D[2];else{q=f(n,p,D[1],D[2],D[3],D[4],D[5],D[6]);if(c+q>h){if(d&&!s.start){n=f(n,p,D[1],D[2],D[3],D[4],D[5],D[6],h-c);O+=[\"C\"+e(n.start.x),e(n.start.y),e(n.m.x),e(n.m.y),e(n.x),e(n.y)];if(l)return O;s.start=O;O=[\"M\"+e(n.x),e(n.y)+\"C\"+e(n.n.x),e(n.n.y),e(n.end.x),e(n.end.y),e(D[5]),e(D[6])].join();c+=q;n=+D[5];p=+D[6];continue}if(!b&&!d)return n=f(n,p,D[1],D[2],D[3],D[4],D[5],D[6],h-c)}c+=q;n=+D[5];p=+D[6]}O+=\n",
        "D.shift()+D}s.end=O;return n=b?c:d?s:u(n,p,D[0],D[1],D[2],D[3],D[4],D[5],1)},null,a._.clone)}function u(a,b,d,e,h,f,k,l,n){var p=1-n,q=ma(p,3),s=ma(p,2),c=n*n,t=c*n,r=q*a+3*s*n*d+3*p*n*n*h+t*k,q=q*b+3*s*n*e+3*p*n*n*f+t*l,s=a+2*n*(d-a)+c*(h-2*d+a),t=b+2*n*(e-b)+c*(f-2*e+b),x=d+2*n*(h-d)+c*(k-2*h+d),c=e+2*n*(f-e)+c*(l-2*f+e);a=p*a+n*d;b=p*b+n*e;h=p*h+n*k;f=p*f+n*l;l=90-180*F.atan2(s-x,t-c)/S;return{x:r,y:q,m:{x:s,y:t},n:{x:x,y:c},start:{x:a,y:b},end:{x:h,y:f},alpha:l}}function p(b,d,e,h,f,n,k,l){a.is(b,\n",
        "\"array\")||(b=[b,d,e,h,f,n,k,l]);b=U.apply(null,b);return w(b.min.x,b.min.y,b.max.x-b.min.x,b.max.y-b.min.y)}function b(a,b,d){return b>=a.x&&b<=a.x+a.width&&d>=a.y&&d<=a.y+a.height}function q(a,d){a=w(a);d=w(d);return b(d,a.x,a.y)||b(d,a.x2,a.y)||b(d,a.x,a.y2)||b(d,a.x2,a.y2)||b(a,d.x,d.y)||b(a,d.x2,d.y)||b(a,d.x,d.y2)||b(a,d.x2,d.y2)||(a.x<d.x2&&a.x>d.x||d.x<a.x2&&d.x>a.x)&&(a.y<d.y2&&a.y>d.y||d.y<a.y2&&d.y>a.y)}function e(a,b,d,e,h,f,n,k,l){null==l&&(l=1);l=(1<l?1:0>l?0:l)/2;for(var p=[-0.1252,\n",
        "0.1252,-0.3678,0.3678,-0.5873,0.5873,-0.7699,0.7699,-0.9041,0.9041,-0.9816,0.9816],q=[0.2491,0.2491,0.2335,0.2335,0.2032,0.2032,0.1601,0.1601,0.1069,0.1069,0.0472,0.0472],s=0,c=0;12>c;c++)var t=l*p[c]+l,r=t*(t*(-3*a+9*d-9*h+3*n)+6*a-12*d+6*h)-3*a+3*d,t=t*(t*(-3*b+9*e-9*f+3*k)+6*b-12*e+6*f)-3*b+3*e,s=s+q[c]*F.sqrt(r*r+t*t);return l*s}function l(a,b,d){a=I(a);b=I(b);for(var h,f,l,n,k,s,r,O,x,c,t=d?0:[],w=0,v=a.length;w<v;w++)if(x=a[w],\"M\"==x[0])h=k=x[1],f=s=x[2];else{\"C\"==x[0]?(x=[h,f].concat(x.slice(1)),\n",
        "h=x[6],f=x[7]):(x=[h,f,h,f,k,s,k,s],h=k,f=s);for(var G=0,y=b.length;G<y;G++)if(c=b[G],\"M\"==c[0])l=r=c[1],n=O=c[2];else{\"C\"==c[0]?(c=[l,n].concat(c.slice(1)),l=c[6],n=c[7]):(c=[l,n,l,n,r,O,r,O],l=r,n=O);var z;var K=x,B=c;z=d;var H=p(K),J=p(B);if(q(H,J)){for(var H=e.apply(0,K),J=e.apply(0,B),H=~~(H/8),J=~~(J/8),U=[],A=[],F={},M=z?0:[],P=0;P<H+1;P++){var C=u.apply(0,K.concat(P/H));U.push({x:C.x,y:C.y,t:P/H})}for(P=0;P<J+1;P++)C=u.apply(0,B.concat(P/J)),A.push({x:C.x,y:C.y,t:P/J});for(P=0;P<H;P++)for(K=\n",
        "0;K<J;K++){var Q=U[P],L=U[P+1],B=A[K],C=A[K+1],N=0.001>Z(L.x-Q.x)?\"y\":\"x\",S=0.001>Z(C.x-B.x)?\"y\":\"x\",R;R=Q.x;var Y=Q.y,V=L.x,ea=L.y,fa=B.x,ga=B.y,ha=C.x,ia=C.y;if(W(R,V)<X(fa,ha)||X(R,V)>W(fa,ha)||W(Y,ea)<X(ga,ia)||X(Y,ea)>W(ga,ia))R=void 0;else{var $=(R*ea-Y*V)*(fa-ha)-(R-V)*(fa*ia-ga*ha),aa=(R*ea-Y*V)*(ga-ia)-(Y-ea)*(fa*ia-ga*ha),ja=(R-V)*(ga-ia)-(Y-ea)*(fa-ha);if(ja){var $=$/ja,aa=aa/ja,ja=+$.toFixed(2),ba=+aa.toFixed(2);R=ja<+X(R,V).toFixed(2)||ja>+W(R,V).toFixed(2)||ja<+X(fa,ha).toFixed(2)||\n",
        "ja>+W(fa,ha).toFixed(2)||ba<+X(Y,ea).toFixed(2)||ba>+W(Y,ea).toFixed(2)||ba<+X(ga,ia).toFixed(2)||ba>+W(ga,ia).toFixed(2)?void 0:{x:$,y:aa}}else R=void 0}R&&F[R.x.toFixed(4)]!=R.y.toFixed(4)&&(F[R.x.toFixed(4)]=R.y.toFixed(4),Q=Q.t+Z((R[N]-Q[N])/(L[N]-Q[N]))*(L.t-Q.t),B=B.t+Z((R[S]-B[S])/(C[S]-B[S]))*(C.t-B.t),0<=Q&&1>=Q&&0<=B&&1>=B&&(z?M++:M.push({x:R.x,y:R.y,t1:Q,t2:B})))}z=M}else z=z?0:[];if(d)t+=z;else{H=0;for(J=z.length;H<J;H++)z[H].segment1=w,z[H].segment2=G,z[H].bez1=x,z[H].bez2=c;t=t.concat(z)}}}return t}\n",
        "function r(a){var b=A(a);if(b.bbox)return C(b.bbox);if(!a)return w();a=I(a);for(var d=0,e=0,h=[],f=[],l,n=0,k=a.length;n<k;n++)l=a[n],\"M\"==l[0]?(d=l[1],e=l[2],h.push(d),f.push(e)):(d=U(d,e,l[1],l[2],l[3],l[4],l[5],l[6]),h=h.concat(d.min.x,d.max.x),f=f.concat(d.min.y,d.max.y),d=l[5],e=l[6]);a=X.apply(0,h);l=X.apply(0,f);h=W.apply(0,h);f=W.apply(0,f);f=w(a,l,h-a,f-l);b.bbox=C(f);return f}function s(a,b,d,e,h){if(h)return[[\"M\",+a+ +h,b],[\"l\",d-2*h,0],[\"a\",h,h,0,0,1,h,h],[\"l\",0,e-2*h],[\"a\",h,h,0,0,1,\n",
        "-h,h],[\"l\",2*h-d,0],[\"a\",h,h,0,0,1,-h,-h],[\"l\",0,2*h-e],[\"a\",h,h,0,0,1,h,-h],[\"z\"] ];a=[[\"M\",a,b],[\"l\",d,0],[\"l\",0,e],[\"l\",-d,0],[\"z\"] ];a.toString=z;return a}function x(a,b,d,e,h){null==h&&null==e&&(e=d);a=+a;b=+b;d=+d;e=+e;if(null!=h){var f=Math.PI/180,l=a+d*Math.cos(-e*f);a+=d*Math.cos(-h*f);var n=b+d*Math.sin(-e*f);b+=d*Math.sin(-h*f);d=[[\"M\",l,n],[\"A\",d,d,0,+(180<h-e),0,a,b] ]}else d=[[\"M\",a,b],[\"m\",0,-e],[\"a\",d,e,0,1,1,0,2*e],[\"a\",d,e,0,1,1,0,-2*e],[\"z\"] ];d.toString=z;return d}function G(b){var e=\n",
        "A(b);if(e.abs)return d(e.abs);Q(b,\"array\")&&Q(b&&b[0],\"array\")||(b=a.parsePathString(b));if(!b||!b.length)return[[\"M\",0,0] ];var h=[],f=0,l=0,n=0,k=0,p=0;\"M\"==b[0][0]&&(f=+b[0][1],l=+b[0][2],n=f,k=l,p++,h[0]=[\"M\",f,l]);for(var q=3==b.length&&\"M\"==b[0][0]&&\"R\"==b[1][0].toUpperCase()&&\"Z\"==b[2][0].toUpperCase(),s,r,w=p,c=b.length;w<c;w++){h.push(s=[]);r=b[w];p=r[0];if(p!=p.toUpperCase())switch(s[0]=p.toUpperCase(),s[0]){case \"A\":s[1]=r[1];s[2]=r[2];s[3]=r[3];s[4]=r[4];s[5]=r[5];s[6]=+r[6]+f;s[7]=+r[7]+\n",
        "l;break;case \"V\":s[1]=+r[1]+l;break;case \"H\":s[1]=+r[1]+f;break;case \"R\":for(var t=[f,l].concat(r.slice(1)),u=2,v=t.length;u<v;u++)t[u]=+t[u]+f,t[++u]=+t[u]+l;h.pop();h=h.concat(P(t,q));break;case \"O\":h.pop();t=x(f,l,r[1],r[2]);t.push(t[0]);h=h.concat(t);break;case \"U\":h.pop();h=h.concat(x(f,l,r[1],r[2],r[3]));s=[\"U\"].concat(h[h.length-1].slice(-2));break;case \"M\":n=+r[1]+f,k=+r[2]+l;default:for(u=1,v=r.length;u<v;u++)s[u]=+r[u]+(u%2?f:l)}else if(\"R\"==p)t=[f,l].concat(r.slice(1)),h.pop(),h=h.concat(P(t,\n",
        "q)),s=[\"R\"].concat(r.slice(-2));else if(\"O\"==p)h.pop(),t=x(f,l,r[1],r[2]),t.push(t[0]),h=h.concat(t);else if(\"U\"==p)h.pop(),h=h.concat(x(f,l,r[1],r[2],r[3])),s=[\"U\"].concat(h[h.length-1].slice(-2));else for(t=0,u=r.length;t<u;t++)s[t]=r[t];p=p.toUpperCase();if(\"O\"!=p)switch(s[0]){case \"Z\":f=+n;l=+k;break;case \"H\":f=s[1];break;case \"V\":l=s[1];break;case \"M\":n=s[s.length-2],k=s[s.length-1];default:f=s[s.length-2],l=s[s.length-1]}}h.toString=z;e.abs=d(h);return h}function h(a,b,d,e){return[a,b,d,e,d,\n",
        "e]}function J(a,b,d,e,h,f){var l=1/3,n=2/3;return[l*a+n*d,l*b+n*e,l*h+n*d,l*f+n*e,h,f]}function K(b,d,e,h,f,l,n,k,p,s){var r=120*S/180,q=S/180*(+f||0),c=[],t,x=a._.cacher(function(a,b,c){var d=a*F.cos(c)-b*F.sin(c);a=a*F.sin(c)+b*F.cos(c);return{x:d,y:a}});if(s)v=s[0],t=s[1],l=s[2],u=s[3];else{t=x(b,d,-q);b=t.x;d=t.y;t=x(k,p,-q);k=t.x;p=t.y;F.cos(S/180*f);F.sin(S/180*f);t=(b-k)/2;v=(d-p)/2;u=t*t/(e*e)+v*v/(h*h);1<u&&(u=F.sqrt(u),e*=u,h*=u);var u=e*e,w=h*h,u=(l==n?-1:1)*F.sqrt(Z((u*w-u*v*v-w*t*t)/\n",
        "(u*v*v+w*t*t)));l=u*e*v/h+(b+k)/2;var u=u*-h*t/e+(d+p)/2,v=F.asin(((d-u)/h).toFixed(9));t=F.asin(((p-u)/h).toFixed(9));v=b<l?S-v:v;t=k<l?S-t:t;0>v&&(v=2*S+v);0>t&&(t=2*S+t);n&&v>t&&(v-=2*S);!n&&t>v&&(t-=2*S)}if(Z(t-v)>r){var c=t,w=k,G=p;t=v+r*(n&&t>v?1:-1);k=l+e*F.cos(t);p=u+h*F.sin(t);c=K(k,p,e,h,f,0,n,w,G,[t,c,l,u])}l=t-v;f=F.cos(v);r=F.sin(v);n=F.cos(t);t=F.sin(t);l=F.tan(l/4);e=4/3*e*l;l*=4/3*h;h=[b,d];b=[b+e*r,d-l*f];d=[k+e*t,p-l*n];k=[k,p];b[0]=2*h[0]-b[0];b[1]=2*h[1]-b[1];if(s)return[b,d,k].concat(c);\n",
        "c=[b,d,k].concat(c).join().split(\",\");s=[];k=0;for(p=c.length;k<p;k++)s[k]=k%2?x(c[k-1],c[k],q).y:x(c[k],c[k+1],q).x;return s}function U(a,b,d,e,h,f,l,k){for(var n=[],p=[[],[] ],s,r,c,t,q=0;2>q;++q)0==q?(r=6*a-12*d+6*h,s=-3*a+9*d-9*h+3*l,c=3*d-3*a):(r=6*b-12*e+6*f,s=-3*b+9*e-9*f+3*k,c=3*e-3*b),1E-12>Z(s)?1E-12>Z(r)||(s=-c/r,0<s&&1>s&&n.push(s)):(t=r*r-4*c*s,c=F.sqrt(t),0>t||(t=(-r+c)/(2*s),0<t&&1>t&&n.push(t),s=(-r-c)/(2*s),0<s&&1>s&&n.push(s)));for(r=q=n.length;q--;)s=n[q],c=1-s,p[0][q]=c*c*c*a+3*\n",
        "c*c*s*d+3*c*s*s*h+s*s*s*l,p[1][q]=c*c*c*b+3*c*c*s*e+3*c*s*s*f+s*s*s*k;p[0][r]=a;p[1][r]=b;p[0][r+1]=l;p[1][r+1]=k;p[0].length=p[1].length=r+2;return{min:{x:X.apply(0,p[0]),y:X.apply(0,p[1])},max:{x:W.apply(0,p[0]),y:W.apply(0,p[1])}}}function I(a,b){var e=!b&&A(a);if(!b&&e.curve)return d(e.curve);var f=G(a),l=b&&G(b),n={x:0,y:0,bx:0,by:0,X:0,Y:0,qx:null,qy:null},k={x:0,y:0,bx:0,by:0,X:0,Y:0,qx:null,qy:null},p=function(a,b,c){if(!a)return[\"C\",b.x,b.y,b.x,b.y,b.x,b.y];a[0]in{T:1,Q:1}||(b.qx=b.qy=null);\n",
        "switch(a[0]){case \"M\":b.X=a[1];b.Y=a[2];break;case \"A\":a=[\"C\"].concat(K.apply(0,[b.x,b.y].concat(a.slice(1))));break;case \"S\":\"C\"==c||\"S\"==c?(c=2*b.x-b.bx,b=2*b.y-b.by):(c=b.x,b=b.y);a=[\"C\",c,b].concat(a.slice(1));break;case \"T\":\"Q\"==c||\"T\"==c?(b.qx=2*b.x-b.qx,b.qy=2*b.y-b.qy):(b.qx=b.x,b.qy=b.y);a=[\"C\"].concat(J(b.x,b.y,b.qx,b.qy,a[1],a[2]));break;case \"Q\":b.qx=a[1];b.qy=a[2];a=[\"C\"].concat(J(b.x,b.y,a[1],a[2],a[3],a[4]));break;case \"L\":a=[\"C\"].concat(h(b.x,b.y,a[1],a[2]));break;case \"H\":a=[\"C\"].concat(h(b.x,\n",
        "b.y,a[1],b.y));break;case \"V\":a=[\"C\"].concat(h(b.x,b.y,b.x,a[1]));break;case \"Z\":a=[\"C\"].concat(h(b.x,b.y,b.X,b.Y))}return a},s=function(a,b){if(7<a[b].length){a[b].shift();for(var c=a[b];c.length;)q[b]=\"A\",l&&(u[b]=\"A\"),a.splice(b++,0,[\"C\"].concat(c.splice(0,6)));a.splice(b,1);v=W(f.length,l&&l.length||0)}},r=function(a,b,c,d,e){a&&b&&\"M\"==a[e][0]&&\"M\"!=b[e][0]&&(b.splice(e,0,[\"M\",d.x,d.y]),c.bx=0,c.by=0,c.x=a[e][1],c.y=a[e][2],v=W(f.length,l&&l.length||0))},q=[],u=[],c=\"\",t=\"\",x=0,v=W(f.length,\n",
        "l&&l.length||0);for(;x<v;x++){f[x]&&(c=f[x][0]);\"C\"!=c&&(q[x]=c,x&&(t=q[x-1]));f[x]=p(f[x],n,t);\"A\"!=q[x]&&\"C\"==c&&(q[x]=\"C\");s(f,x);l&&(l[x]&&(c=l[x][0]),\"C\"!=c&&(u[x]=c,x&&(t=u[x-1])),l[x]=p(l[x],k,t),\"A\"!=u[x]&&\"C\"==c&&(u[x]=\"C\"),s(l,x));r(f,l,n,k,x);r(l,f,k,n,x);var w=f[x],z=l&&l[x],y=w.length,U=l&&z.length;n.x=w[y-2];n.y=w[y-1];n.bx=$(w[y-4])||n.x;n.by=$(w[y-3])||n.y;k.bx=l&&($(z[U-4])||k.x);k.by=l&&($(z[U-3])||k.y);k.x=l&&z[U-2];k.y=l&&z[U-1]}l||(e.curve=d(f));return l?[f,l]:f}function P(a,\n",
        "b){for(var d=[],e=0,h=a.length;h-2*!b>e;e+=2){var f=[{x:+a[e-2],y:+a[e-1]},{x:+a[e],y:+a[e+1]},{x:+a[e+2],y:+a[e+3]},{x:+a[e+4],y:+a[e+5]}];b?e?h-4==e?f[3]={x:+a[0],y:+a[1]}:h-2==e&&(f[2]={x:+a[0],y:+a[1]},f[3]={x:+a[2],y:+a[3]}):f[0]={x:+a[h-2],y:+a[h-1]}:h-4==e?f[3]=f[2]:e||(f[0]={x:+a[e],y:+a[e+1]});d.push([\"C\",(-f[0].x+6*f[1].x+f[2].x)/6,(-f[0].y+6*f[1].y+f[2].y)/6,(f[1].x+6*f[2].x-f[3].x)/6,(f[1].y+6*f[2].y-f[3].y)/6,f[2].x,f[2].y])}return d}y=k.prototype;var Q=a.is,C=a._.clone,L=\"hasOwnProperty\",\n",
        "N=/,?([a-z]),?/gi,$=parseFloat,F=Math,S=F.PI,X=F.min,W=F.max,ma=F.pow,Z=F.abs;M=n(1);var na=n(),ba=n(0,1),V=a._unit2px;a.path=A;a.path.getTotalLength=M;a.path.getPointAtLength=na;a.path.getSubpath=function(a,b,d){if(1E-6>this.getTotalLength(a)-d)return ba(a,b).end;a=ba(a,d,1);return b?ba(a,b).end:a};y.getTotalLength=function(){if(this.node.getTotalLength)return this.node.getTotalLength()};y.getPointAtLength=function(a){return na(this.attr(\"d\"),a)};y.getSubpath=function(b,d){return a.path.getSubpath(this.attr(\"d\"),\n",
        "b,d)};a._.box=w;a.path.findDotsAtSegment=u;a.path.bezierBBox=p;a.path.isPointInsideBBox=b;a.path.isBBoxIntersect=q;a.path.intersection=function(a,b){return l(a,b)};a.path.intersectionNumber=function(a,b){return l(a,b,1)};a.path.isPointInside=function(a,d,e){var h=r(a);return b(h,d,e)&&1==l(a,[[\"M\",d,e],[\"H\",h.x2+10] ],1)%2};a.path.getBBox=r;a.path.get={path:function(a){return a.attr(\"path\")},circle:function(a){a=V(a);return x(a.cx,a.cy,a.r)},ellipse:function(a){a=V(a);return x(a.cx||0,a.cy||0,a.rx,\n",
        "a.ry)},rect:function(a){a=V(a);return s(a.x||0,a.y||0,a.width,a.height,a.rx,a.ry)},image:function(a){a=V(a);return s(a.x||0,a.y||0,a.width,a.height)},line:function(a){return\"M\"+[a.attr(\"x1\")||0,a.attr(\"y1\")||0,a.attr(\"x2\"),a.attr(\"y2\")]},polyline:function(a){return\"M\"+a.attr(\"points\")},polygon:function(a){return\"M\"+a.attr(\"points\")+\"z\"},deflt:function(a){a=a.node.getBBox();return s(a.x,a.y,a.width,a.height)}};a.path.toRelative=function(b){var e=A(b),h=String.prototype.toLowerCase;if(e.rel)return d(e.rel);\n",
        "a.is(b,\"array\")&&a.is(b&&b[0],\"array\")||(b=a.parsePathString(b));var f=[],l=0,n=0,k=0,p=0,s=0;\"M\"==b[0][0]&&(l=b[0][1],n=b[0][2],k=l,p=n,s++,f.push([\"M\",l,n]));for(var r=b.length;s<r;s++){var q=f[s]=[],x=b[s];if(x[0]!=h.call(x[0]))switch(q[0]=h.call(x[0]),q[0]){case \"a\":q[1]=x[1];q[2]=x[2];q[3]=x[3];q[4]=x[4];q[5]=x[5];q[6]=+(x[6]-l).toFixed(3);q[7]=+(x[7]-n).toFixed(3);break;case \"v\":q[1]=+(x[1]-n).toFixed(3);break;case \"m\":k=x[1],p=x[2];default:for(var c=1,t=x.length;c<t;c++)q[c]=+(x[c]-(c%2?l:\n",
        "n)).toFixed(3)}else for(f[s]=[],\"m\"==x[0]&&(k=x[1]+l,p=x[2]+n),q=0,c=x.length;q<c;q++)f[s][q]=x[q];x=f[s].length;switch(f[s][0]){case \"z\":l=k;n=p;break;case \"h\":l+=+f[s][x-1];break;case \"v\":n+=+f[s][x-1];break;default:l+=+f[s][x-2],n+=+f[s][x-1]}}f.toString=z;e.rel=d(f);return f};a.path.toAbsolute=G;a.path.toCubic=I;a.path.map=function(a,b){if(!b)return a;var d,e,h,f,l,n,k;a=I(a);h=0;for(l=a.length;h<l;h++)for(k=a[h],f=1,n=k.length;f<n;f+=2)d=b.x(k[f],k[f+1]),e=b.y(k[f],k[f+1]),k[f]=d,k[f+1]=e;return a};\n",
        "a.path.toString=z;a.path.clone=d});C.plugin(function(a,v,y,C){var A=Math.max,w=Math.min,z=function(a){this.items=[];this.bindings={};this.length=0;this.type=\"set\";if(a)for(var f=0,n=a.length;f<n;f++)a[f]&&(this[this.items.length]=this.items[this.items.length]=a[f],this.length++)};v=z.prototype;v.push=function(){for(var a,f,n=0,k=arguments.length;n<k;n++)if(a=arguments[n])f=this.items.length,this[f]=this.items[f]=a,this.length++;return this};v.pop=function(){this.length&&delete this[this.length--];\n",
        "return this.items.pop()};v.forEach=function(a,f){for(var n=0,k=this.items.length;n<k&&!1!==a.call(f,this.items[n],n);n++);return this};v.animate=function(d,f,n,u){\"function\"!=typeof n||n.length||(u=n,n=L.linear);d instanceof a._.Animation&&(u=d.callback,n=d.easing,f=n.dur,d=d.attr);var p=arguments;if(a.is(d,\"array\")&&a.is(p[p.length-1],\"array\"))var b=!0;var q,e=function(){q?this.b=q:q=this.b},l=0,r=u&&function(){l++==this.length&&u.call(this)};return this.forEach(function(a,l){k.once(\"snap.animcreated.\"+\n",
        "a.id,e);b?p[l]&&a.animate.apply(a,p[l]):a.animate(d,f,n,r)})};v.remove=function(){for(;this.length;)this.pop().remove();return this};v.bind=function(a,f,k){var u={};if(\"function\"==typeof f)this.bindings[a]=f;else{var p=k||a;this.bindings[a]=function(a){u[p]=a;f.attr(u)}}return this};v.attr=function(a){var f={},k;for(k in a)if(this.bindings[k])this.bindings[k](a[k]);else f[k]=a[k];a=0;for(k=this.items.length;a<k;a++)this.items[a].attr(f);return this};v.clear=function(){for(;this.length;)this.pop()};\n",
        "v.splice=function(a,f,k){a=0>a?A(this.length+a,0):a;f=A(0,w(this.length-a,f));var u=[],p=[],b=[],q;for(q=2;q<arguments.length;q++)b.push(arguments[q]);for(q=0;q<f;q++)p.push(this[a+q]);for(;q<this.length-a;q++)u.push(this[a+q]);var e=b.length;for(q=0;q<e+u.length;q++)this.items[a+q]=this[a+q]=q<e?b[q]:u[q-e];for(q=this.items.length=this.length-=f-e;this[q];)delete this[q++];return new z(p)};v.exclude=function(a){for(var f=0,k=this.length;f<k;f++)if(this[f]==a)return this.splice(f,1),!0;return!1};\n",
        "v.insertAfter=function(a){for(var f=this.items.length;f--;)this.items[f].insertAfter(a);return this};v.getBBox=function(){for(var a=[],f=[],k=[],u=[],p=this.items.length;p--;)if(!this.items[p].removed){var b=this.items[p].getBBox();a.push(b.x);f.push(b.y);k.push(b.x+b.width);u.push(b.y+b.height)}a=w.apply(0,a);f=w.apply(0,f);k=A.apply(0,k);u=A.apply(0,u);return{x:a,y:f,x2:k,y2:u,width:k-a,height:u-f,cx:a+(k-a)/2,cy:f+(u-f)/2}};v.clone=function(a){a=new z;for(var f=0,k=this.items.length;f<k;f++)a.push(this.items[f].clone());\n",
        "return a};v.toString=function(){return\"Snap\\u2018s set\"};v.type=\"set\";a.set=function(){var a=new z;arguments.length&&a.push.apply(a,Array.prototype.slice.call(arguments,0));return a}});C.plugin(function(a,v,y,C){function A(a){var b=a[0];switch(b.toLowerCase()){case \"t\":return[b,0,0];case \"m\":return[b,1,0,0,1,0,0];case \"r\":return 4==a.length?[b,0,a[2],a[3] ]:[b,0];case \"s\":return 5==a.length?[b,1,1,a[3],a[4] ]:3==a.length?[b,1,1]:[b,1]}}function w(b,d,f){d=q(d).replace(/\\.{3}|\\u2026/g,b);b=a.parseTransformString(b)||\n",
        "[];d=a.parseTransformString(d)||[];for(var k=Math.max(b.length,d.length),p=[],v=[],h=0,w,z,y,I;h<k;h++){y=b[h]||A(d[h]);I=d[h]||A(y);if(y[0]!=I[0]||\"r\"==y[0].toLowerCase()&&(y[2]!=I[2]||y[3]!=I[3])||\"s\"==y[0].toLowerCase()&&(y[3]!=I[3]||y[4]!=I[4])){b=a._.transform2matrix(b,f());d=a._.transform2matrix(d,f());p=[[\"m\",b.a,b.b,b.c,b.d,b.e,b.f] ];v=[[\"m\",d.a,d.b,d.c,d.d,d.e,d.f] ];break}p[h]=[];v[h]=[];w=0;for(z=Math.max(y.length,I.length);w<z;w++)w in y&&(p[h][w]=y[w]),w in I&&(v[h][w]=I[w])}return{from:u(p),\n",
        "to:u(v),f:n(p)}}function z(a){return a}function d(a){return function(b){return+b.toFixed(3)+a}}function f(b){return a.rgb(b[0],b[1],b[2])}function n(a){var b=0,d,f,k,n,h,p,q=[];d=0;for(f=a.length;d<f;d++){h=\"[\";p=['\"'+a[d][0]+'\"'];k=1;for(n=a[d].length;k<n;k++)p[k]=\"val[\"+b++ +\"]\";h+=p+\"]\";q[d]=h}return Function(\"val\",\"return Snap.path.toString.call([\"+q+\"])\")}function u(a){for(var b=[],d=0,f=a.length;d<f;d++)for(var k=1,n=a[d].length;k<n;k++)b.push(a[d][k]);return b}var p={},b=/[a-z]+$/i,q=String;\n",
        "p.stroke=p.fill=\"colour\";v.prototype.equal=function(a,b){return k(\"snap.util.equal\",this,a,b).firstDefined()};k.on(\"snap.util.equal\",function(e,k){var r,s;r=q(this.attr(e)||\"\");var x=this;if(r==+r&&k==+k)return{from:+r,to:+k,f:z};if(\"colour\"==p[e])return r=a.color(r),s=a.color(k),{from:[r.r,r.g,r.b,r.opacity],to:[s.r,s.g,s.b,s.opacity],f:f};if(\"transform\"==e||\"gradientTransform\"==e||\"patternTransform\"==e)return k instanceof a.Matrix&&(k=k.toTransformString()),a._.rgTransform.test(k)||(k=a._.svgTransform2string(k)),\n",
        "w(r,k,function(){return x.getBBox(1)});if(\"d\"==e||\"path\"==e)return r=a.path.toCubic(r,k),{from:u(r[0]),to:u(r[1]),f:n(r[0])};if(\"points\"==e)return r=q(r).split(a._.separator),s=q(k).split(a._.separator),{from:r,to:s,f:function(a){return a}};aUnit=r.match(b);s=q(k).match(b);return aUnit&&aUnit==s?{from:parseFloat(r),to:parseFloat(k),f:d(aUnit)}:{from:this.asPX(e),to:this.asPX(e,k),f:z}})});C.plugin(function(a,v,y,C){var A=v.prototype,w=\"createTouch\"in C.doc;v=\"click dblclick mousedown mousemove mouseout mouseover mouseup touchstart touchmove touchend touchcancel\".split(\" \");\n",
        "var z={mousedown:\"touchstart\",mousemove:\"touchmove\",mouseup:\"touchend\"},d=function(a,b){var d=\"y\"==a?\"scrollTop\":\"scrollLeft\",e=b&&b.node?b.node.ownerDocument:C.doc;return e[d in e.documentElement?\"documentElement\":\"body\"][d]},f=function(){this.returnValue=!1},n=function(){return this.originalEvent.preventDefault()},u=function(){this.cancelBubble=!0},p=function(){return this.originalEvent.stopPropagation()},b=function(){if(C.doc.addEventListener)return function(a,b,e,f){var k=w&&z[b]?z[b]:b,l=function(k){var l=\n",
        "d(\"y\",f),q=d(\"x\",f);if(w&&z.hasOwnProperty(b))for(var r=0,u=k.targetTouches&&k.targetTouches.length;r<u;r++)if(k.targetTouches[r].target==a||a.contains(k.targetTouches[r].target)){u=k;k=k.targetTouches[r];k.originalEvent=u;k.preventDefault=n;k.stopPropagation=p;break}return e.call(f,k,k.clientX+q,k.clientY+l)};b!==k&&a.addEventListener(b,l,!1);a.addEventListener(k,l,!1);return function(){b!==k&&a.removeEventListener(b,l,!1);a.removeEventListener(k,l,!1);return!0}};if(C.doc.attachEvent)return function(a,\n",
        "b,e,h){var k=function(a){a=a||h.node.ownerDocument.window.event;var b=d(\"y\",h),k=d(\"x\",h),k=a.clientX+k,b=a.clientY+b;a.preventDefault=a.preventDefault||f;a.stopPropagation=a.stopPropagation||u;return e.call(h,a,k,b)};a.attachEvent(\"on\"+b,k);return function(){a.detachEvent(\"on\"+b,k);return!0}}}(),q=[],e=function(a){for(var b=a.clientX,e=a.clientY,f=d(\"y\"),l=d(\"x\"),n,p=q.length;p--;){n=q[p];if(w)for(var r=a.touches&&a.touches.length,u;r--;){if(u=a.touches[r],u.identifier==n.el._drag.id||n.el.node.contains(u.target)){b=\n",
        "u.clientX;e=u.clientY;(a.originalEvent?a.originalEvent:a).preventDefault();break}}else a.preventDefault();b+=l;e+=f;k(\"snap.drag.move.\"+n.el.id,n.move_scope||n.el,b-n.el._drag.x,e-n.el._drag.y,b,e,a)}},l=function(b){a.unmousemove(e).unmouseup(l);for(var d=q.length,f;d--;)f=q[d],f.el._drag={},k(\"snap.drag.end.\"+f.el.id,f.end_scope||f.start_scope||f.move_scope||f.el,b);q=[]};for(y=v.length;y--;)(function(d){a[d]=A[d]=function(e,f){a.is(e,\"function\")&&(this.events=this.events||[],this.events.push({name:d,\n",
        "f:e,unbind:b(this.node||document,d,e,f||this)}));return this};a[\"un\"+d]=A[\"un\"+d]=function(a){for(var b=this.events||[],e=b.length;e--;)if(b[e].name==d&&(b[e].f==a||!a)){b[e].unbind();b.splice(e,1);!b.length&&delete this.events;break}return this}})(v[y]);A.hover=function(a,b,d,e){return this.mouseover(a,d).mouseout(b,e||d)};A.unhover=function(a,b){return this.unmouseover(a).unmouseout(b)};var r=[];A.drag=function(b,d,f,h,n,p){function u(r,v,w){(r.originalEvent||r).preventDefault();this._drag.x=v;\n",
        "this._drag.y=w;this._drag.id=r.identifier;!q.length&&a.mousemove(e).mouseup(l);q.push({el:this,move_scope:h,start_scope:n,end_scope:p});d&&k.on(\"snap.drag.start.\"+this.id,d);b&&k.on(\"snap.drag.move.\"+this.id,b);f&&k.on(\"snap.drag.end.\"+this.id,f);k(\"snap.drag.start.\"+this.id,n||h||this,v,w,r)}if(!arguments.length){var v;return this.drag(function(a,b){this.attr({transform:v+(v?\"T\":\"t\")+[a,b]})},function(){v=this.transform().local})}this._drag={};r.push({el:this,start:u});this.mousedown(u);return this};\n",
        "A.undrag=function(){for(var b=r.length;b--;)r[b].el==this&&(this.unmousedown(r[b].start),r.splice(b,1),k.unbind(\"snap.drag.*.\"+this.id));!r.length&&a.unmousemove(e).unmouseup(l);return this}});C.plugin(function(a,v,y,C){y=y.prototype;var A=/^\\s*url\\((.+)\\)/,w=String,z=a._.$;a.filter={};y.filter=function(d){var f=this;\"svg\"!=f.type&&(f=f.paper);d=a.parse(w(d));var k=a._.id(),u=z(\"filter\");z(u,{id:k,filterUnits:\"userSpaceOnUse\"});u.appendChild(d.node);f.defs.appendChild(u);return new v(u)};k.on(\"snap.util.getattr.filter\",\n",
        "function(){k.stop();var d=z(this.node,\"filter\");if(d)return(d=w(d).match(A))&&a.select(d[1])});k.on(\"snap.util.attr.filter\",function(d){if(d instanceof v&&\"filter\"==d.type){k.stop();var f=d.node.id;f||(z(d.node,{id:d.id}),f=d.id);z(this.node,{filter:a.url(f)})}d&&\"none\"!=d||(k.stop(),this.node.removeAttribute(\"filter\"))});a.filter.blur=function(d,f){null==d&&(d=2);return a.format('<feGaussianBlur stdDeviation=\"{def}\"/>',{def:null==f?d:[d,f]})};a.filter.blur.toString=function(){return this()};a.filter.shadow=\n",
        "function(d,f,k,u,p){\"string\"==typeof k&&(p=u=k,k=4);\"string\"!=typeof u&&(p=u,u=\"#000\");null==k&&(k=4);null==p&&(p=1);null==d&&(d=0,f=2);null==f&&(f=d);u=a.color(u||\"#000\");return a.format('<feGaussianBlur in=\"SourceAlpha\" stdDeviation=\"{blur}\"/><feOffset dx=\"{dx}\" dy=\"{dy}\" result=\"offsetblur\"/><feFlood flood-color=\"{color}\"/><feComposite in2=\"offsetblur\" operator=\"in\"/><feComponentTransfer><feFuncA type=\"linear\" slope=\"{opacity}\"/></feComponentTransfer><feMerge><feMergeNode/><feMergeNode in=\"SourceGraphic\"/></feMerge>',\n",
        "{color:u,dx:d,dy:f,blur:k,opacity:p})};a.filter.shadow.toString=function(){return this()};a.filter.grayscale=function(d){null==d&&(d=1);return a.format('<feColorMatrix type=\"matrix\" values=\"{a} {b} {c} 0 0 {d} {e} {f} 0 0 {g} {b} {h} 0 0 0 0 0 1 0\"/>',{a:0.2126+0.7874*(1-d),b:0.7152-0.7152*(1-d),c:0.0722-0.0722*(1-d),d:0.2126-0.2126*(1-d),e:0.7152+0.2848*(1-d),f:0.0722-0.0722*(1-d),g:0.2126-0.2126*(1-d),h:0.0722+0.9278*(1-d)})};a.filter.grayscale.toString=function(){return this()};a.filter.sepia=\n",
        "function(d){null==d&&(d=1);return a.format('<feColorMatrix type=\"matrix\" values=\"{a} {b} {c} 0 0 {d} {e} {f} 0 0 {g} {h} {i} 0 0 0 0 0 1 0\"/>',{a:0.393+0.607*(1-d),b:0.769-0.769*(1-d),c:0.189-0.189*(1-d),d:0.349-0.349*(1-d),e:0.686+0.314*(1-d),f:0.168-0.168*(1-d),g:0.272-0.272*(1-d),h:0.534-0.534*(1-d),i:0.131+0.869*(1-d)})};a.filter.sepia.toString=function(){return this()};a.filter.saturate=function(d){null==d&&(d=1);return a.format('<feColorMatrix type=\"saturate\" values=\"{amount}\"/>',{amount:1-\n",
        "d})};a.filter.saturate.toString=function(){return this()};a.filter.hueRotate=function(d){return a.format('<feColorMatrix type=\"hueRotate\" values=\"{angle}\"/>',{angle:d||0})};a.filter.hueRotate.toString=function(){return this()};a.filter.invert=function(d){null==d&&(d=1);return a.format('<feComponentTransfer><feFuncR type=\"table\" tableValues=\"{amount} {amount2}\"/><feFuncG type=\"table\" tableValues=\"{amount} {amount2}\"/><feFuncB type=\"table\" tableValues=\"{amount} {amount2}\"/></feComponentTransfer>',{amount:d,\n",
        "amount2:1-d})};a.filter.invert.toString=function(){return this()};a.filter.brightness=function(d){null==d&&(d=1);return a.format('<feComponentTransfer><feFuncR type=\"linear\" slope=\"{amount}\"/><feFuncG type=\"linear\" slope=\"{amount}\"/><feFuncB type=\"linear\" slope=\"{amount}\"/></feComponentTransfer>',{amount:d})};a.filter.brightness.toString=function(){return this()};a.filter.contrast=function(d){null==d&&(d=1);return a.format('<feComponentTransfer><feFuncR type=\"linear\" slope=\"{amount}\" intercept=\"{amount2}\"/><feFuncG type=\"linear\" slope=\"{amount}\" intercept=\"{amount2}\"/><feFuncB type=\"linear\" slope=\"{amount}\" intercept=\"{amount2}\"/></feComponentTransfer>',\n",
        "{amount:d,amount2:0.5-d/2})};a.filter.contrast.toString=function(){return this()}});return C});\n",
        "\n",
        "]]> </script>\n",
        "<script> <![CDATA[\n",
        "\n",
        "(function (glob, factory) {\n",
        "    // AMD support\n",
        "    if (typeof define === \"function\" && define.amd) {\n",
        "        // Define as an anonymous module\n",
        "        define(\"Gadfly\", [\"Snap.svg\"], function (Snap) {\n",
        "            return factory(Snap);\n",
        "        });\n",
        "    } else {\n",
        "        // Browser globals (glob is window)\n",
        "        // Snap adds itself to window\n",
        "        glob.Gadfly = factory(glob.Snap);\n",
        "    }\n",
        "}(this, function (Snap) {\n",
        "\n",
        "var Gadfly = {};\n",
        "\n",
        "// Get an x/y coordinate value in pixels\n",
        "var xPX = function(fig, x) {\n",
        "    var client_box = fig.node.getBoundingClientRect();\n",
        "    return x * fig.node.viewBox.baseVal.width / client_box.width;\n",
        "};\n",
        "\n",
        "var yPX = function(fig, y) {\n",
        "    var client_box = fig.node.getBoundingClientRect();\n",
        "    return y * fig.node.viewBox.baseVal.height / client_box.height;\n",
        "};\n",
        "\n",
        "\n",
        "Snap.plugin(function (Snap, Element, Paper, global) {\n",
        "    // Traverse upwards from a snap element to find and return the first\n",
        "    // note with the \"plotroot\" class.\n",
        "    Element.prototype.plotroot = function () {\n",
        "        var element = this;\n",
        "        while (!element.hasClass(\"plotroot\") && element.parent() != null) {\n",
        "            element = element.parent();\n",
        "        }\n",
        "        return element;\n",
        "    };\n",
        "\n",
        "    Element.prototype.svgroot = function () {\n",
        "        var element = this;\n",
        "        while (element.node.nodeName != \"svg\" && element.parent() != null) {\n",
        "            element = element.parent();\n",
        "        }\n",
        "        return element;\n",
        "    };\n",
        "\n",
        "    Element.prototype.plotbounds = function () {\n",
        "        var root = this.plotroot()\n",
        "        var bbox = root.select(\".guide.background\").node.getBBox();\n",
        "        return {\n",
        "            x0: bbox.x,\n",
        "            x1: bbox.x + bbox.width,\n",
        "            y0: bbox.y,\n",
        "            y1: bbox.y + bbox.height\n",
        "        };\n",
        "    };\n",
        "\n",
        "    Element.prototype.plotcenter = function () {\n",
        "        var root = this.plotroot()\n",
        "        var bbox = root.select(\".guide.background\").node.getBBox();\n",
        "        return {\n",
        "            x: bbox.x + bbox.width / 2,\n",
        "            y: bbox.y + bbox.height / 2\n",
        "        };\n",
        "    };\n",
        "\n",
        "    // Emulate IE style mouseenter/mouseleave events, since Microsoft always\n",
        "    // does everything right.\n",
        "    // See: http://www.dynamic-tools.net/toolbox/isMouseLeaveOrEnter/\n",
        "    var events = [\"mouseenter\", \"mouseleave\"];\n",
        "\n",
        "    for (i in events) {\n",
        "        (function (event_name) {\n",
        "            var event_name = events[i];\n",
        "            Element.prototype[event_name] = function (fn, scope) {\n",
        "                if (Snap.is(fn, \"function\")) {\n",
        "                    var fn2 = function (event) {\n",
        "                        if (event.type != \"mouseover\" && event.type != \"mouseout\") {\n",
        "                            return;\n",
        "                        }\n",
        "\n",
        "                        var reltg = event.relatedTarget ? event.relatedTarget :\n",
        "                            event.type == \"mouseout\" ? event.toElement : event.fromElement;\n",
        "                        while (reltg && reltg != this.node) reltg = reltg.parentNode;\n",
        "\n",
        "                        if (reltg != this.node) {\n",
        "                            return fn.apply(this, event);\n",
        "                        }\n",
        "                    };\n",
        "\n",
        "                    if (event_name == \"mouseenter\") {\n",
        "                        this.mouseover(fn2, scope);\n",
        "                    } else {\n",
        "                        this.mouseout(fn2, scope);\n",
        "                    }\n",
        "                }\n",
        "                return this;\n",
        "            };\n",
        "        })(events[i]);\n",
        "    }\n",
        "\n",
        "\n",
        "    Element.prototype.mousewheel = function (fn, scope) {\n",
        "        if (Snap.is(fn, \"function\")) {\n",
        "            var el = this;\n",
        "            var fn2 = function (event) {\n",
        "                fn.apply(el, [event]);\n",
        "            };\n",
        "        }\n",
        "\n",
        "        this.node.addEventListener(\n",
        "            /Firefox/i.test(navigator.userAgent) ? \"DOMMouseScroll\" : \"mousewheel\",\n",
        "            fn2);\n",
        "\n",
        "        return this;\n",
        "    };\n",
        "\n",
        "\n",
        "    // Snap's attr function can be too slow for things like panning/zooming.\n",
        "    // This is a function to directly update element attributes without going\n",
        "    // through eve.\n",
        "    Element.prototype.attribute = function(key, val) {\n",
        "        if (val === undefined) {\n",
        "            return this.node.getAttribute(key, val);\n",
        "        } else {\n",
        "            return this.node.setAttribute(key, val);\n",
        "        }\n",
        "    };\n",
        "});\n",
        "\n",
        "\n",
        "// When the plot is moused over, emphasize the grid lines.\n",
        "Gadfly.plot_mouseover = function(event) {\n",
        "    var root = this.plotroot();\n",
        "    init_pan_zoom(root);\n",
        "\n",
        "    var xgridlines = root.select(\".xgridlines\"),\n",
        "        ygridlines = root.select(\".ygridlines\");\n",
        "\n",
        "    xgridlines.data(\"unfocused_strokedash\",\n",
        "                    xgridlines.attr(\"stroke-dasharray\").replace(/px/g, \"mm\"))\n",
        "    ygridlines.data(\"unfocused_strokedash\",\n",
        "                    ygridlines.attr(\"stroke-dasharray\").replace(/px/g, \"mm\"))\n",
        "\n",
        "    // emphasize grid lines\n",
        "    var destcolor = root.data(\"focused_xgrid_color\");\n",
        "    xgridlines.attr(\"stroke-dasharray\", \"none\")\n",
        "              .selectAll(\"path\")\n",
        "              .animate({stroke: destcolor}, 250);\n",
        "\n",
        "    destcolor = root.data(\"focused_ygrid_color\");\n",
        "    ygridlines.attr(\"stroke-dasharray\", \"none\")\n",
        "              .selectAll(\"path\")\n",
        "              .animate({stroke: destcolor}, 250);\n",
        "\n",
        "    // reveal zoom slider\n",
        "    root.select(\".zoomslider\")\n",
        "        .animate({opacity: 1.0}, 250);\n",
        "};\n",
        "\n",
        "\n",
        "// Unemphasize grid lines on mouse out.\n",
        "Gadfly.plot_mouseout = function(event) {\n",
        "    var root = this.plotroot();\n",
        "    var xgridlines = root.select(\".xgridlines\"),\n",
        "        ygridlines = root.select(\".ygridlines\");\n",
        "\n",
        "    var destcolor = root.data(\"unfocused_xgrid_color\");\n",
        "\n",
        "    xgridlines.attr(\"stroke-dasharray\", xgridlines.data(\"unfocused_strokedash\"))\n",
        "              .selectAll(\"path\")\n",
        "              .animate({stroke: destcolor}, 250);\n",
        "\n",
        "    destcolor = root.data(\"unfocused_ygrid_color\");\n",
        "    ygridlines.attr(\"stroke-dasharray\", ygridlines.data(\"unfocused_strokedash\"))\n",
        "              .selectAll(\"path\")\n",
        "              .animate({stroke: destcolor}, 250);\n",
        "\n",
        "    // hide zoom slider\n",
        "    root.select(\".zoomslider\")\n",
        "        .animate({opacity: 0.0}, 250);\n",
        "};\n",
        "\n",
        "\n",
        "var set_geometry_transform = function(root, tx, ty, scale) {\n",
        "    var xscalable = root.hasClass(\"xscalable\"),\n",
        "        yscalable = root.hasClass(\"yscalable\");\n",
        "\n",
        "    var old_scale = root.data(\"scale\");\n",
        "\n",
        "    var xscale = xscalable ? scale : 1.0,\n",
        "        yscale = yscalable ? scale : 1.0;\n",
        "\n",
        "    tx = xscalable ? tx : 0.0;\n",
        "    ty = yscalable ? ty : 0.0;\n",
        "\n",
        "    var t = new Snap.Matrix().translate(tx, ty).scale(xscale, yscale);\n",
        "\n",
        "    root.selectAll(\".geometry, image\")\n",
        "        .forEach(function (element, i) {\n",
        "            element.transform(t);\n",
        "        });\n",
        "\n",
        "    bounds = root.plotbounds();\n",
        "\n",
        "    if (yscalable) {\n",
        "        var xfixed_t = new Snap.Matrix().translate(0, ty).scale(1.0, yscale);\n",
        "        root.selectAll(\".xfixed\")\n",
        "            .forEach(function (element, i) {\n",
        "                element.transform(xfixed_t);\n",
        "            });\n",
        "\n",
        "        root.select(\".ylabels\")\n",
        "            .transform(xfixed_t)\n",
        "            .selectAll(\"text\")\n",
        "            .forEach(function (element, i) {\n",
        "                if (element.attribute(\"gadfly:inscale\") == \"true\") {\n",
        "                    var cx = element.asPX(\"x\"),\n",
        "                        cy = element.asPX(\"y\");\n",
        "                    var st = element.data(\"static_transform\");\n",
        "                    unscale_t = new Snap.Matrix();\n",
        "                    unscale_t.scale(1, 1/scale, cx, cy).add(st);\n",
        "                    element.transform(unscale_t);\n",
        "\n",
        "                    var y = cy * scale + ty;\n",
        "                    element.attr(\"visibility\",\n",
        "                        bounds.y0 <= y && y <= bounds.y1 ? \"visible\" : \"hidden\");\n",
        "                }\n",
        "            });\n",
        "    }\n",
        "\n",
        "    if (xscalable) {\n",
        "        var yfixed_t = new Snap.Matrix().translate(tx, 0).scale(xscale, 1.0);\n",
        "        var xtrans = new Snap.Matrix().translate(tx, 0);\n",
        "        root.selectAll(\".yfixed\")\n",
        "            .forEach(function (element, i) {\n",
        "                element.transform(yfixed_t);\n",
        "            });\n",
        "\n",
        "        root.select(\".xlabels\")\n",
        "            .transform(yfixed_t)\n",
        "            .selectAll(\"text\")\n",
        "            .forEach(function (element, i) {\n",
        "                if (element.attribute(\"gadfly:inscale\") == \"true\") {\n",
        "                    var cx = element.asPX(\"x\"),\n",
        "                        cy = element.asPX(\"y\");\n",
        "                    var st = element.data(\"static_transform\");\n",
        "                    unscale_t = new Snap.Matrix();\n",
        "                    unscale_t.scale(1/scale, 1, cx, cy).add(st);\n",
        "\n",
        "                    element.transform(unscale_t);\n",
        "\n",
        "                    var x = cx * scale + tx;\n",
        "                    element.attr(\"visibility\",\n",
        "                        bounds.x0 <= x && x <= bounds.x1 ? \"visible\" : \"hidden\");\n",
        "                    }\n",
        "            });\n",
        "    }\n",
        "\n",
        "    // we must unscale anything that is scale invariance: widths, raiduses, etc.\n",
        "    var size_attribs = [\"font-size\"];\n",
        "    var unscaled_selection = \".geometry, .geometry *\";\n",
        "    if (xscalable) {\n",
        "        size_attribs.push(\"rx\");\n",
        "        unscaled_selection += \", .xgridlines\";\n",
        "    }\n",
        "    if (yscalable) {\n",
        "        size_attribs.push(\"ry\");\n",
        "        unscaled_selection += \", .ygridlines\";\n",
        "    }\n",
        "\n",
        "    root.selectAll(unscaled_selection)\n",
        "        .forEach(function (element, i) {\n",
        "            // circle need special help\n",
        "            if (element.node.nodeName == \"circle\") {\n",
        "                var cx = element.attribute(\"cx\"),\n",
        "                    cy = element.attribute(\"cy\");\n",
        "                unscale_t = new Snap.Matrix().scale(1/xscale, 1/yscale,\n",
        "                                                        cx, cy);\n",
        "                element.transform(unscale_t);\n",
        "                return;\n",
        "            }\n",
        "\n",
        "            for (i in size_attribs) {\n",
        "                var key = size_attribs[i];\n",
        "                var val = parseFloat(element.attribute(key));\n",
        "                if (val !== undefined && val != 0 && !isNaN(val)) {\n",
        "                    element.attribute(key, val * old_scale / scale);\n",
        "                }\n",
        "            }\n",
        "        });\n",
        "};\n",
        "\n",
        "\n",
        "// Find the most appropriate tick scale and update label visibility.\n",
        "var update_tickscale = function(root, scale, axis) {\n",
        "    if (!root.hasClass(axis + \"scalable\")) return;\n",
        "\n",
        "    var tickscales = root.data(axis + \"tickscales\");\n",
        "    var best_tickscale = 1.0;\n",
        "    var best_tickscale_dist = Infinity;\n",
        "    for (tickscale in tickscales) {\n",
        "        var dist = Math.abs(Math.log(tickscale) - Math.log(scale));\n",
        "        if (dist < best_tickscale_dist) {\n",
        "            best_tickscale_dist = dist;\n",
        "            best_tickscale = tickscale;\n",
        "        }\n",
        "    }\n",
        "\n",
        "    if (best_tickscale != root.data(axis + \"tickscale\")) {\n",
        "        root.data(axis + \"tickscale\", best_tickscale);\n",
        "        var mark_inscale_gridlines = function (element, i) {\n",
        "            var inscale = element.attr(\"gadfly:scale\") == best_tickscale;\n",
        "            element.attribute(\"gadfly:inscale\", inscale);\n",
        "            element.attr(\"visibility\", inscale ? \"visible\" : \"hidden\");\n",
        "        };\n",
        "\n",
        "        var mark_inscale_labels = function (element, i) {\n",
        "            var inscale = element.attr(\"gadfly:scale\") == best_tickscale;\n",
        "            element.attribute(\"gadfly:inscale\", inscale);\n",
        "            element.attr(\"visibility\", inscale ? \"visible\" : \"hidden\");\n",
        "        };\n",
        "\n",
        "        root.select(\".\" + axis + \"gridlines\").selectAll(\"path\").forEach(mark_inscale_gridlines);\n",
        "        root.select(\".\" + axis + \"labels\").selectAll(\"text\").forEach(mark_inscale_labels);\n",
        "    }\n",
        "};\n",
        "\n",
        "\n",
        "var set_plot_pan_zoom = function(root, tx, ty, scale) {\n",
        "    var old_scale = root.data(\"scale\");\n",
        "    var bounds = root.plotbounds();\n",
        "\n",
        "    var width = bounds.x1 - bounds.x0,\n",
        "        height = bounds.y1 - bounds.y0;\n",
        "\n",
        "    // compute the viewport derived from tx, ty, and scale\n",
        "    var x_min = -width * scale - (scale * width - width),\n",
        "        x_max = width * scale,\n",
        "        y_min = -height * scale - (scale * height - height),\n",
        "        y_max = height * scale;\n",
        "\n",
        "    var x0 = bounds.x0 - scale * bounds.x0,\n",
        "        y0 = bounds.y0 - scale * bounds.y0;\n",
        "\n",
        "    var tx = Math.max(Math.min(tx - x0, x_max), x_min),\n",
        "        ty = Math.max(Math.min(ty - y0, y_max), y_min);\n",
        "\n",
        "    tx += x0;\n",
        "    ty += y0;\n",
        "\n",
        "    // when the scale change, we may need to alter which set of\n",
        "    // ticks is being displayed\n",
        "    if (scale != old_scale) {\n",
        "        update_tickscale(root, scale, \"x\");\n",
        "        update_tickscale(root, scale, \"y\");\n",
        "    }\n",
        "\n",
        "    set_geometry_transform(root, tx, ty, scale);\n",
        "\n",
        "    root.data(\"scale\", scale);\n",
        "    root.data(\"tx\", tx);\n",
        "    root.data(\"ty\", ty);\n",
        "};\n",
        "\n",
        "\n",
        "var scale_centered_translation = function(root, scale) {\n",
        "    var bounds = root.plotbounds();\n",
        "\n",
        "    var width = bounds.x1 - bounds.x0,\n",
        "        height = bounds.y1 - bounds.y0;\n",
        "\n",
        "    var tx0 = root.data(\"tx\"),\n",
        "        ty0 = root.data(\"ty\");\n",
        "\n",
        "    var scale0 = root.data(\"scale\");\n",
        "\n",
        "    // how off from center the current view is\n",
        "    var xoff = tx0 - (bounds.x0 * (1 - scale0) + (width * (1 - scale0)) / 2),\n",
        "        yoff = ty0 - (bounds.y0 * (1 - scale0) + (height * (1 - scale0)) / 2);\n",
        "\n",
        "    // rescale offsets\n",
        "    xoff = xoff * scale / scale0;\n",
        "    yoff = yoff * scale / scale0;\n",
        "\n",
        "    // adjust for the panel position being scaled\n",
        "    var x_edge_adjust = bounds.x0 * (1 - scale),\n",
        "        y_edge_adjust = bounds.y0 * (1 - scale);\n",
        "\n",
        "    return {\n",
        "        x: xoff + x_edge_adjust + (width - width * scale) / 2,\n",
        "        y: yoff + y_edge_adjust + (height - height * scale) / 2\n",
        "    };\n",
        "};\n",
        "\n",
        "\n",
        "// Initialize data for panning zooming if it isn't already.\n",
        "var init_pan_zoom = function(root) {\n",
        "    if (root.data(\"zoompan-ready\")) {\n",
        "        return;\n",
        "    }\n",
        "\n",
        "    // The non-scaling-stroke trick. Rather than try to correct for the\n",
        "    // stroke-width when zooming, we force it to a fixed value.\n",
        "    var px_per_mm = root.node.getCTM().a;\n",
        "\n",
        "    // Drag events report deltas in pixels, which we'd like to convert to\n",
        "    // millimeters.\n",
        "    root.data(\"px_per_mm\", px_per_mm);\n",
        "\n",
        "    root.selectAll(\"path\")\n",
        "        .forEach(function (element, i) {\n",
        "        sw = element.asPX(\"stroke-width\") * px_per_mm;\n",
        "        if (sw > 0) {\n",
        "            element.attribute(\"stroke-width\", sw);\n",
        "            element.attribute(\"vector-effect\", \"non-scaling-stroke\");\n",
        "        }\n",
        "    });\n",
        "\n",
        "    // Store ticks labels original tranformation\n",
        "    root.selectAll(\".xlabels > text, .ylabels > text\")\n",
        "        .forEach(function (element, i) {\n",
        "            var lm = element.transform().localMatrix;\n",
        "            element.data(\"static_transform\",\n",
        "                new Snap.Matrix(lm.a, lm.b, lm.c, lm.d, lm.e, lm.f));\n",
        "        });\n",
        "\n",
        "    if (root.data(\"tx\") === undefined) root.data(\"tx\", 0);\n",
        "    if (root.data(\"ty\") === undefined) root.data(\"ty\", 0);\n",
        "    if (root.data(\"scale\") === undefined) root.data(\"scale\", 1.0);\n",
        "    if (root.data(\"xtickscales\") === undefined) {\n",
        "\n",
        "        // index all the tick scales that are listed\n",
        "        var xtickscales = {};\n",
        "        var ytickscales = {};\n",
        "        var add_x_tick_scales = function (element, i) {\n",
        "            xtickscales[element.attribute(\"gadfly:scale\")] = true;\n",
        "        };\n",
        "        var add_y_tick_scales = function (element, i) {\n",
        "            ytickscales[element.attribute(\"gadfly:scale\")] = true;\n",
        "        };\n",
        "\n",
        "        root.select(\".xgridlines\").selectAll(\"path\").forEach(add_x_tick_scales);\n",
        "        root.select(\".ygridlines\").selectAll(\"path\").forEach(add_y_tick_scales);\n",
        "        root.select(\".xlabels\").selectAll(\"text\").forEach(add_x_tick_scales);\n",
        "        root.select(\".ylabels\").selectAll(\"text\").forEach(add_y_tick_scales);\n",
        "\n",
        "        root.data(\"xtickscales\", xtickscales);\n",
        "        root.data(\"ytickscales\", ytickscales);\n",
        "        root.data(\"xtickscale\", 1.0);\n",
        "    }\n",
        "\n",
        "    var min_scale = 1.0, max_scale = 1.0;\n",
        "    for (scale in xtickscales) {\n",
        "        min_scale = Math.min(min_scale, scale);\n",
        "        max_scale = Math.max(max_scale, scale);\n",
        "    }\n",
        "    for (scale in ytickscales) {\n",
        "        min_scale = Math.min(min_scale, scale);\n",
        "        max_scale = Math.max(max_scale, scale);\n",
        "    }\n",
        "    root.data(\"min_scale\", min_scale);\n",
        "    root.data(\"max_scale\", max_scale);\n",
        "\n",
        "    // store the original positions of labels\n",
        "    root.select(\".xlabels\")\n",
        "        .selectAll(\"text\")\n",
        "        .forEach(function (element, i) {\n",
        "            element.data(\"x\", element.asPX(\"x\"));\n",
        "        });\n",
        "\n",
        "    root.select(\".ylabels\")\n",
        "        .selectAll(\"text\")\n",
        "        .forEach(function (element, i) {\n",
        "            element.data(\"y\", element.asPX(\"y\"));\n",
        "        });\n",
        "\n",
        "    // mark grid lines and ticks as in or out of scale.\n",
        "    var mark_inscale = function (element, i) {\n",
        "        element.attribute(\"gadfly:inscale\", element.attribute(\"gadfly:scale\") == 1.0);\n",
        "    };\n",
        "\n",
        "    root.select(\".xgridlines\").selectAll(\"path\").forEach(mark_inscale);\n",
        "    root.select(\".ygridlines\").selectAll(\"path\").forEach(mark_inscale);\n",
        "    root.select(\".xlabels\").selectAll(\"text\").forEach(mark_inscale);\n",
        "    root.select(\".ylabels\").selectAll(\"text\").forEach(mark_inscale);\n",
        "\n",
        "    // figure out the upper ond lower bounds on panning using the maximum\n",
        "    // and minum grid lines\n",
        "    var bounds = root.plotbounds();\n",
        "    var pan_bounds = {\n",
        "        x0: 0.0,\n",
        "        y0: 0.0,\n",
        "        x1: 0.0,\n",
        "        y1: 0.0\n",
        "    };\n",
        "\n",
        "    root.select(\".xgridlines\")\n",
        "        .selectAll(\"path\")\n",
        "        .forEach(function (element, i) {\n",
        "            if (element.attribute(\"gadfly:inscale\") == \"true\") {\n",
        "                var bbox = element.node.getBBox();\n",
        "                if (bounds.x1 - bbox.x < pan_bounds.x0) {\n",
        "                    pan_bounds.x0 = bounds.x1 - bbox.x;\n",
        "                }\n",
        "                if (bounds.x0 - bbox.x > pan_bounds.x1) {\n",
        "                    pan_bounds.x1 = bounds.x0 - bbox.x;\n",
        "                }\n",
        "            }\n",
        "        });\n",
        "\n",
        "    root.select(\".ygridlines\")\n",
        "        .selectAll(\"path\")\n",
        "        .forEach(function (element, i) {\n",
        "            if (element.attribute(\"gadfly:inscale\") == \"true\") {\n",
        "                var bbox = element.node.getBBox();\n",
        "                if (bounds.y1 - bbox.y < pan_bounds.y0) {\n",
        "                    pan_bounds.y0 = bounds.y1 - bbox.y;\n",
        "                }\n",
        "                if (bounds.y0 - bbox.y > pan_bounds.y1) {\n",
        "                    pan_bounds.y1 = bounds.y0 - bbox.y;\n",
        "                }\n",
        "            }\n",
        "        });\n",
        "\n",
        "    // nudge these values a little\n",
        "    pan_bounds.x0 -= 5;\n",
        "    pan_bounds.x1 += 5;\n",
        "    pan_bounds.y0 -= 5;\n",
        "    pan_bounds.y1 += 5;\n",
        "    root.data(\"pan_bounds\", pan_bounds);\n",
        "\n",
        "    // Set all grid lines at scale 1.0 to visible. Out of bounds lines\n",
        "    // will be clipped.\n",
        "    root.select(\".xgridlines\")\n",
        "        .selectAll(\"path\")\n",
        "        .forEach(function (element, i) {\n",
        "            if (element.attribute(\"gadfly:inscale\") == \"true\") {\n",
        "                element.attr(\"visibility\", \"visible\");\n",
        "            }\n",
        "        });\n",
        "\n",
        "    root.select(\".ygridlines\")\n",
        "        .selectAll(\"path\")\n",
        "        .forEach(function (element, i) {\n",
        "            if (element.attribute(\"gadfly:inscale\") == \"true\") {\n",
        "                element.attr(\"visibility\", \"visible\");\n",
        "            }\n",
        "        });\n",
        "\n",
        "    root.data(\"zoompan-ready\", true)\n",
        "};\n",
        "\n",
        "\n",
        "// Panning\n",
        "Gadfly.guide_background_drag_onmove = function(dx, dy, x, y, event) {\n",
        "    var root = this.plotroot();\n",
        "    var px_per_mm = root.data(\"px_per_mm\");\n",
        "    dx /= px_per_mm;\n",
        "    dy /= px_per_mm;\n",
        "\n",
        "    var tx0 = root.data(\"tx\"),\n",
        "        ty0 = root.data(\"ty\");\n",
        "\n",
        "    var dx0 = root.data(\"dx\"),\n",
        "        dy0 = root.data(\"dy\");\n",
        "\n",
        "    root.data(\"dx\", dx);\n",
        "    root.data(\"dy\", dy);\n",
        "\n",
        "    dx = dx - dx0;\n",
        "    dy = dy - dy0;\n",
        "\n",
        "    var tx = tx0 + dx,\n",
        "        ty = ty0 + dy;\n",
        "\n",
        "    set_plot_pan_zoom(root, tx, ty, root.data(\"scale\"));\n",
        "};\n",
        "\n",
        "\n",
        "Gadfly.guide_background_drag_onstart = function(x, y, event) {\n",
        "    var root = this.plotroot();\n",
        "    root.data(\"dx\", 0);\n",
        "    root.data(\"dy\", 0);\n",
        "    init_pan_zoom(root);\n",
        "};\n",
        "\n",
        "\n",
        "Gadfly.guide_background_drag_onend = function(event) {\n",
        "    var root = this.plotroot();\n",
        "};\n",
        "\n",
        "\n",
        "Gadfly.guide_background_scroll = function(event) {\n",
        "    if (event.shiftKey) {\n",
        "        var root = this.plotroot();\n",
        "        init_pan_zoom(root);\n",
        "        var new_scale = root.data(\"scale\") * Math.pow(2, 0.002 * event.wheelDelta);\n",
        "        new_scale = Math.max(\n",
        "            root.data(\"min_scale\"),\n",
        "            Math.min(root.data(\"max_scale\"), new_scale))\n",
        "        update_plot_scale(root, new_scale);\n",
        "        event.stopPropagation();\n",
        "    }\n",
        "};\n",
        "\n",
        "\n",
        "Gadfly.zoomslider_button_mouseover = function(event) {\n",
        "    this.select(\".button_logo\")\n",
        "         .animate({fill: this.data(\"mouseover_color\")}, 100);\n",
        "};\n",
        "\n",
        "\n",
        "Gadfly.zoomslider_button_mouseout = function(event) {\n",
        "     this.select(\".button_logo\")\n",
        "         .animate({fill: this.data(\"mouseout_color\")}, 100);\n",
        "};\n",
        "\n",
        "\n",
        "Gadfly.zoomslider_zoomout_click = function(event) {\n",
        "    var root = this.plotroot();\n",
        "    init_pan_zoom(root);\n",
        "    var min_scale = root.data(\"min_scale\"),\n",
        "        scale = root.data(\"scale\");\n",
        "    Snap.animate(\n",
        "        scale,\n",
        "        Math.max(min_scale, scale / 1.5),\n",
        "        function (new_scale) {\n",
        "            update_plot_scale(root, new_scale);\n",
        "        },\n",
        "        200);\n",
        "};\n",
        "\n",
        "\n",
        "Gadfly.zoomslider_zoomin_click = function(event) {\n",
        "    var root = this.plotroot();\n",
        "    init_pan_zoom(root);\n",
        "    var max_scale = root.data(\"max_scale\"),\n",
        "        scale = root.data(\"scale\");\n",
        "\n",
        "    Snap.animate(\n",
        "        scale,\n",
        "        Math.min(max_scale, scale * 1.5),\n",
        "        function (new_scale) {\n",
        "            update_plot_scale(root, new_scale);\n",
        "        },\n",
        "        200);\n",
        "};\n",
        "\n",
        "\n",
        "Gadfly.zoomslider_track_click = function(event) {\n",
        "    // TODO\n",
        "};\n",
        "\n",
        "\n",
        "Gadfly.zoomslider_thumb_mousedown = function(event) {\n",
        "    this.animate({fill: this.data(\"mouseover_color\")}, 100);\n",
        "};\n",
        "\n",
        "\n",
        "Gadfly.zoomslider_thumb_mouseup = function(event) {\n",
        "    this.animate({fill: this.data(\"mouseout_color\")}, 100);\n",
        "};\n",
        "\n",
        "\n",
        "// compute the position in [0, 1] of the zoom slider thumb from the current scale\n",
        "var slider_position_from_scale = function(scale, min_scale, max_scale) {\n",
        "    if (scale >= 1.0) {\n",
        "        return 0.5 + 0.5 * (Math.log(scale) / Math.log(max_scale));\n",
        "    }\n",
        "    else {\n",
        "        return 0.5 * (Math.log(scale) - Math.log(min_scale)) / (0 - Math.log(min_scale));\n",
        "    }\n",
        "}\n",
        "\n",
        "\n",
        "var update_plot_scale = function(root, new_scale) {\n",
        "    var trans = scale_centered_translation(root, new_scale);\n",
        "    set_plot_pan_zoom(root, trans.x, trans.y, new_scale);\n",
        "\n",
        "    root.selectAll(\".zoomslider_thumb\")\n",
        "        .forEach(function (element, i) {\n",
        "            var min_pos = element.data(\"min_pos\"),\n",
        "                max_pos = element.data(\"max_pos\"),\n",
        "                min_scale = root.data(\"min_scale\"),\n",
        "                max_scale = root.data(\"max_scale\");\n",
        "            var xmid = (min_pos + max_pos) / 2;\n",
        "            var xpos = slider_position_from_scale(new_scale, min_scale, max_scale);\n",
        "            element.transform(new Snap.Matrix().translate(\n",
        "                Math.max(min_pos, Math.min(\n",
        "                         max_pos, min_pos + (max_pos - min_pos) * xpos)) - xmid, 0));\n",
        "    });\n",
        "};\n",
        "\n",
        "\n",
        "Gadfly.zoomslider_thumb_dragmove = function(dx, dy, x, y) {\n",
        "    var root = this.plotroot();\n",
        "    var min_pos = this.data(\"min_pos\"),\n",
        "        max_pos = this.data(\"max_pos\"),\n",
        "        min_scale = root.data(\"min_scale\"),\n",
        "        max_scale = root.data(\"max_scale\"),\n",
        "        old_scale = root.data(\"old_scale\");\n",
        "\n",
        "    var px_per_mm = root.data(\"px_per_mm\");\n",
        "    dx /= px_per_mm;\n",
        "    dy /= px_per_mm;\n",
        "\n",
        "    var xmid = (min_pos + max_pos) / 2;\n",
        "    var xpos = slider_position_from_scale(old_scale, min_scale, max_scale) +\n",
        "                   dx / (max_pos - min_pos);\n",
        "\n",
        "    // compute the new scale\n",
        "    var new_scale;\n",
        "    if (xpos >= 0.5) {\n",
        "        new_scale = Math.exp(2.0 * (xpos - 0.5) * Math.log(max_scale));\n",
        "    }\n",
        "    else {\n",
        "        new_scale = Math.exp(2.0 * xpos * (0 - Math.log(min_scale)) +\n",
        "                        Math.log(min_scale));\n",
        "    }\n",
        "    new_scale = Math.min(max_scale, Math.max(min_scale, new_scale));\n",
        "\n",
        "    update_plot_scale(root, new_scale);\n",
        "};\n",
        "\n",
        "\n",
        "Gadfly.zoomslider_thumb_dragstart = function(event) {\n",
        "    var root = this.plotroot();\n",
        "    init_pan_zoom(root);\n",
        "\n",
        "    // keep track of what the scale was when we started dragging\n",
        "    root.data(\"old_scale\", root.data(\"scale\"));\n",
        "};\n",
        "\n",
        "\n",
        "Gadfly.zoomslider_thumb_dragend = function(event) {\n",
        "};\n",
        "\n",
        "\n",
        "var toggle_color_class = function(root, color_class, ison) {\n",
        "    var guides = root.selectAll(\".guide.\" + color_class + \",.guide .\" + color_class);\n",
        "    var geoms = root.selectAll(\".geometry.\" + color_class + \",.geometry .\" + color_class);\n",
        "    if (ison) {\n",
        "        guides.animate({opacity: 0.5}, 250);\n",
        "        geoms.animate({opacity: 0.0}, 250);\n",
        "    } else {\n",
        "        guides.animate({opacity: 1.0}, 250);\n",
        "        geoms.animate({opacity: 1.0}, 250);\n",
        "    }\n",
        "};\n",
        "\n",
        "\n",
        "Gadfly.colorkey_swatch_click = function(event) {\n",
        "    var root = this.plotroot();\n",
        "    var color_class = this.data(\"color_class\");\n",
        "\n",
        "    if (event.shiftKey) {\n",
        "        root.selectAll(\".colorkey text\")\n",
        "            .forEach(function (element) {\n",
        "                var other_color_class = element.data(\"color_class\");\n",
        "                if (other_color_class != color_class) {\n",
        "                    toggle_color_class(root, other_color_class,\n",
        "                                       element.attr(\"opacity\") == 1.0);\n",
        "                }\n",
        "            });\n",
        "    } else {\n",
        "        toggle_color_class(root, color_class, this.attr(\"opacity\") == 1.0);\n",
        "    }\n",
        "};\n",
        "\n",
        "\n",
        "return Gadfly;\n",
        "\n",
        "}));\n",
        "\n",
        "\n",
        "//@ sourceURL=gadfly.js\n",
        "\n",
        "(function (glob, factory) {\n",
        "    // AMD support\n",
        "      if (typeof require === \"function\" && typeof define === \"function\" && define.amd) {\n",
        "        require([\"Snap.svg\", \"Gadfly\"], function (Snap, Gadfly) {\n",
        "            factory(Snap, Gadfly);\n",
        "        });\n",
        "      } else {\n",
        "          factory(glob.Snap, glob.Gadfly);\n",
        "      }\n",
        "})(window, function (Snap, Gadfly) {\n",
        "    var fig = Snap(\"#fig-237c53fd21ba4a62813a381a92823c00\");\n",
        "fig.select(\"#fig-237c53fd21ba4a62813a381a92823c00-element-4\")\n",
        "   .mouseenter(Gadfly.plot_mouseover)\n",
        ".mouseleave(Gadfly.plot_mouseout)\n",
        ".mousewheel(Gadfly.guide_background_scroll)\n",
        ".drag(Gadfly.guide_background_drag_onmove,\n",
        "      Gadfly.guide_background_drag_onstart,\n",
        "      Gadfly.guide_background_drag_onend)\n",
        ";\n",
        "fig.select(\"#fig-237c53fd21ba4a62813a381a92823c00-element-7\")\n",
        "   .plotroot().data(\"unfocused_ygrid_color\", \"#D0D0E0\")\n",
        ";\n",
        "fig.select(\"#fig-237c53fd21ba4a62813a381a92823c00-element-7\")\n",
        "   .plotroot().data(\"focused_ygrid_color\", \"#A0A0A0\")\n",
        ";\n",
        "fig.select(\"#fig-237c53fd21ba4a62813a381a92823c00-element-8\")\n",
        "   .plotroot().data(\"unfocused_xgrid_color\", \"#D0D0E0\")\n",
        ";\n",
        "fig.select(\"#fig-237c53fd21ba4a62813a381a92823c00-element-8\")\n",
        "   .plotroot().data(\"focused_xgrid_color\", \"#A0A0A0\")\n",
        ";\n",
        "fig.select(\"#fig-237c53fd21ba4a62813a381a92823c00-element-12\")\n",
        "   .data(\"mouseover_color\", \"#cd5c5c\")\n",
        ";\n",
        "fig.select(\"#fig-237c53fd21ba4a62813a381a92823c00-element-12\")\n",
        "   .data(\"mouseout_color\", \"#6a6a6a\")\n",
        ";\n",
        "fig.select(\"#fig-237c53fd21ba4a62813a381a92823c00-element-12\")\n",
        "   .click(Gadfly.zoomslider_zoomin_click)\n",
        ".mouseenter(Gadfly.zoomslider_button_mouseover)\n",
        ".mouseleave(Gadfly.zoomslider_button_mouseout)\n",
        ";\n",
        "fig.select(\"#fig-237c53fd21ba4a62813a381a92823c00-element-14\")\n",
        "   .data(\"max_pos\", 99)\n",
        ";\n",
        "fig.select(\"#fig-237c53fd21ba4a62813a381a92823c00-element-14\")\n",
        "   .data(\"min_pos\", 82)\n",
        ";\n",
        "fig.select(\"#fig-237c53fd21ba4a62813a381a92823c00-element-14\")\n",
        "   .click(Gadfly.zoomslider_track_click);\n",
        "fig.select(\"#fig-237c53fd21ba4a62813a381a92823c00-element-15\")\n",
        "   .data(\"max_pos\", 99)\n",
        ";\n",
        "fig.select(\"#fig-237c53fd21ba4a62813a381a92823c00-element-15\")\n",
        "   .data(\"min_pos\", 82)\n",
        ";\n",
        "fig.select(\"#fig-237c53fd21ba4a62813a381a92823c00-element-15\")\n",
        "   .data(\"mouseover_color\", \"#cd5c5c\")\n",
        ";\n",
        "fig.select(\"#fig-237c53fd21ba4a62813a381a92823c00-element-15\")\n",
        "   .data(\"mouseout_color\", \"#6a6a6a\")\n",
        ";\n",
        "fig.select(\"#fig-237c53fd21ba4a62813a381a92823c00-element-15\")\n",
        "   .drag(Gadfly.zoomslider_thumb_dragmove,\n",
        "     Gadfly.zoomslider_thumb_dragstart,\n",
        "     Gadfly.zoomslider_thumb_dragend)\n",
        ".mousedown(Gadfly.zoomslider_thumb_mousedown)\n",
        ".mouseup(Gadfly.zoomslider_thumb_mouseup)\n",
        ";\n",
        "fig.select(\"#fig-237c53fd21ba4a62813a381a92823c00-element-16\")\n",
        "   .data(\"mouseover_color\", \"#cd5c5c\")\n",
        ";\n",
        "fig.select(\"#fig-237c53fd21ba4a62813a381a92823c00-element-16\")\n",
        "   .data(\"mouseout_color\", \"#6a6a6a\")\n",
        ";\n",
        "fig.select(\"#fig-237c53fd21ba4a62813a381a92823c00-element-16\")\n",
        "   .click(Gadfly.zoomslider_zoomout_click)\n",
        ".mouseenter(Gadfly.zoomslider_button_mouseover)\n",
        ".mouseleave(Gadfly.zoomslider_button_mouseout)\n",
        ";\n",
        "    });\n",
        "]]> </script>\n",
        "</svg>\n"
       ],
       "metadata": {
        "comm_id": "60f7d060-997a-486a-af80-f29636824d09",
        "reactive": true
       },
       "output_type": "pyout",
       "prompt_number": 12,
       "svg": [
        "<?xml version=\"1.0\" encoding=\"UTF-8\"?>\n",
        "<svg xmlns=\"http://www.w3.org/2000/svg\"\n",
        "     xmlns:xlink=\"http://www.w3.org/1999/xlink\"\n",
        "     xmlns:gadfly=\"http://www.gadflyjl.org/ns\"\n",
        "     version=\"1.2\"\n",
        "     width=\"120mm\" height=\"80mm\" viewBox=\"0 0 120 80\"\n",
        "     stroke=\"none\"\n",
        "     fill=\"#000000\"\n",
        "     stroke-width=\"0.3\"\n",
        ">\n",
        "<g class=\"plotroot xscalable yscalable\" id=\"fig-4b3ab88a4d23486e940288087beed133-element-1\">\n",
        "  <g font-size=\"3.88\" font-family=\"'PT Sans','Helvetica Neue','Helvetica',sans-serif\" fill=\"#564A55\" stroke=\"none\" id=\"fig-4b3ab88a4d23486e940288087beed133-element-2\">\n",
        "    <text x=\"67.37\" y=\"72\" text-anchor=\"middle\">x</text>\n",
        "  </g>\n",
        "  <g class=\"guide xlabels\" font-size=\"2.82\" font-family=\"'PT Sans Caption','Helvetica Neue','Helvetica',sans-serif\" fill=\"#6C606B\" id=\"fig-4b3ab88a4d23486e940288087beed133-element-3\">\n",
        "    <text x=\"21.75\" y=\"66.39\" text-anchor=\"middle\">0</text>\n",
        "    <text x=\"40\" y=\"66.39\" text-anchor=\"middle\">5</text>\n",
        "    <text x=\"58.25\" y=\"66.39\" text-anchor=\"middle\">10</text>\n",
        "    <text x=\"76.5\" y=\"66.39\" text-anchor=\"middle\">15</text>\n",
        "    <text x=\"94.75\" y=\"66.39\" text-anchor=\"middle\">20</text>\n",
        "    <text x=\"113\" y=\"66.39\" text-anchor=\"middle\">25</text>\n",
        "  </g>\n",
        "  <g clip-path=\"url(#fig-4b3ab88a4d23486e940288087beed133-element-5)\" id=\"fig-4b3ab88a4d23486e940288087beed133-element-4\">\n",
        "    <g pointer-events=\"visible\" opacity=\"1\" fill=\"none\" stroke=\"none\" class=\"guide background\" id=\"fig-4b3ab88a4d23486e940288087beed133-element-6\">\n",
        "      <rect x=\"19.75\" y=\"5\" width=\"95.26\" height=\"57.72\"/>\n",
        "    </g>\n",
        "    <g class=\"guide ygridlines xfixed\" stroke-dasharray=\"0.5,0.5\" stroke-width=\"0.2\" stroke=\"#D0D0E0\" id=\"fig-4b3ab88a4d23486e940288087beed133-element-7\">\n",
        "      <path d=\"M19.75,60.72 L 115 60.72\"/>\n",
        "      <path d=\"M19.75,47.29 L 115 47.29\"/>\n",
        "      <path d=\"M19.75,33.86 L 115 33.86\"/>\n",
        "      <path d=\"M19.75,20.43 L 115 20.43\"/>\n",
        "      <path d=\"M19.75,7 L 115 7\"/>\n",
        "    </g>\n",
        "    <g class=\"guide xgridlines yfixed\" stroke-dasharray=\"0.5,0.5\" stroke-width=\"0.2\" stroke=\"#D0D0E0\" id=\"fig-4b3ab88a4d23486e940288087beed133-element-8\">\n",
        "      <path d=\"M21.75,5 L 21.75 62.72\"/>\n",
        "      <path d=\"M40,5 L 40 62.72\"/>\n",
        "      <path d=\"M58.25,5 L 58.25 62.72\"/>\n",
        "      <path d=\"M76.5,5 L 76.5 62.72\"/>\n",
        "      <path d=\"M94.75,5 L 94.75 62.72\"/>\n",
        "      <path d=\"M113,5 L 113 62.72\"/>\n",
        "    </g>\n",
        "    <g class=\"plotpanel\" id=\"fig-4b3ab88a4d23486e940288087beed133-element-9\">\n",
        "      <g stroke-width=\"0.3\" fill=\"none\" class=\"geometry\" stroke=\"#00BFFF\" id=\"fig-4b3ab88a4d23486e940288087beed133-element-10\">\n",
        "        <path d=\"M21.75,33.86 L 22.11 31.17 22.48 28.5 22.84 25.89 23.21 23.36 23.58 20.93 23.94 18.64 24.31 16.5 24.68 14.53 25.04 12.76 25.41 11.2 25.78 9.87 26.14 8.78 26.51 7.94 26.88 7.37 27.24 7.06 27.61 7.02 27.98 7.25 28.34 7.75 28.71 8.51 29.07 9.53 29.44 10.79 29.81 12.28 30.17 14 30.54 15.91 30.91 18 31.27 20.25 31.64 22.64 32.01 25.15 32.37 27.74 32.74 30.39 33.11 33.07 33.47 35.77 33.84 38.45 34.21 41.07 34.57 43.63 34.94 46.09 35.3 48.42 35.67 50.61 36.04 52.63 36.4 54.46 36.77 56.09 37.14 57.48 37.5 58.65 37.87 59.56 38.24 60.21 38.6 60.6 38.97 60.71 39.34 60.56 39.7 60.14 40.07 59.45 40.44 58.51 40.8 57.32 41.17 55.89 41.54 54.24 41.9 52.38 42.27 50.34 42.63 48.13 43 45.78 43.37 43.31 43.73 40.74 44.1 38.1 44.47 35.42 44.83 32.73 45.2 30.04 45.57 27.4 45.93 24.82 46.3 22.33 46.67 19.95 47.03 17.72 47.4 15.65 47.77 13.76 48.13 12.08 48.5 10.61 48.86 9.38 49.23 8.4 49.6 7.67 49.96 7.2 50.33 7.01 50.7 7.08 51.06 7.43 51.43 8.04 51.8 8.91 52.16 10.03 52.53 11.39 52.9 12.98 53.26 14.77 53.63 16.77 54 18.93 54.36 21.24 54.73 23.68 55.1 26.22 55.46 28.84 55.83 31.51 56.19 34.21 56.56 36.9 56.93 39.56 57.29 42.16 57.66 44.68 58.03 47.09 58.39 49.36 58.76 51.48 59.13 53.42 59.49 55.17 59.86 56.7 60.23 58 60.59 59.06 60.96 59.86 61.33 60.4 61.69 60.68 62.06 60.68 62.42 60.42 62.79 59.88 63.16 59.09 63.52 58.04 63.89 56.75 64.26 55.22 64.62 53.48 64.99 51.55 65.36 49.43 65.72 47.16 66.09 44.75 66.46 42.24 66.82 39.64 67.19 36.98 67.56 34.29 67.92 31.6 68.29 28.93 68.66 26.31 69.02 23.76 69.39 21.32 69.75 19 70.12 16.83 70.49 14.84 70.85 13.03 71.22 11.44 71.59 10.07 71.95 8.94 72.32 8.06 72.69 7.44 73.05 7.09 73.42 7.01 73.79 7.19 74.15 7.65 74.52 8.37 74.89 9.35 75.25 10.57 75.62 12.03 75.98 13.71 76.35 15.59 76.72 17.65 77.08 19.88 77.45 22.25 77.82 24.74 78.18 27.31 78.55 29.96 78.92 32.64 79.28 35.34 79.65 38.02 80.02 40.66 80.38 43.23 80.75 45.7 81.12 48.06 81.48 50.27 81.85 52.32 82.22 54.18 82.58 55.84 82.95 57.28 83.31 58.48 83.68 59.43 84.05 60.12 84.41 60.55 84.78 60.71 85.15 60.6 85.51 60.23 85.88 59.58 86.25 58.68 86.61 57.53 86.98 56.13 87.35 54.52 87.71 52.69 88.08 50.68 88.45 48.5 88.81 46.17 89.18 43.71 89.54 41.16 89.91 38.53 90.28 35.86 90.64 33.16 91.01 30.47 91.38 27.82 91.74 25.23 92.11 22.72 92.48 20.33 92.84 18.07 93.21 15.97 93.58 14.05 93.94 12.34 94.31 10.83 94.68 9.56 95.04 8.54 95.41 7.77 95.78 7.26 96.14 7.02 96.51 7.05 96.87 7.35 97.24 7.92 97.61 8.75 97.97 9.83 98.34 11.15 98.71 12.71 99.07 14.47 99.44 16.43 99.81 18.57 100.17 20.86 100.54 23.28 100.91 25.81 101.27 28.42 101.64 31.08 102.01 33.77 102.37 36.46 102.74 39.13 103.1 41.74 103.47 44.28 103.84 46.71 104.2 49 104.57 51.15 104.94 53.12 105.3 54.9 105.67 56.47 106.04 57.81 106.4 58.91 106.77 59.75 107.14 60.34 107.5 60.65 107.87 60.7 108.24 60.48 108.6 59.99 108.97 59.23 109.34 58.22 109.7 56.97 110.07 55.48 110.43 53.78 110.8 51.87 111.17 49.78 111.53 47.54 111.9 45.15 112.27 42.65 112.63 40.06 113 37.41\"/>\n",
        "      </g>\n",
        "    </g>\n",
        "  </g>\n",
        "  <g class=\"guide ylabels\" font-size=\"2.82\" font-family=\"'PT Sans Caption','Helvetica Neue','Helvetica',sans-serif\" fill=\"#6C606B\" id=\"fig-4b3ab88a4d23486e940288087beed133-element-11\">\n",
        "    <text x=\"18.75\" y=\"60.72\" text-anchor=\"end\" dy=\"0.35em\">-1.0</text>\n",
        "    <text x=\"18.75\" y=\"47.29\" text-anchor=\"end\" dy=\"0.35em\">-0.5</text>\n",
        "    <text x=\"18.75\" y=\"33.86\" text-anchor=\"end\" dy=\"0.35em\">0.0</text>\n",
        "    <text x=\"18.75\" y=\"20.43\" text-anchor=\"end\" dy=\"0.35em\">0.5</text>\n",
        "    <text x=\"18.75\" y=\"7\" text-anchor=\"end\" dy=\"0.35em\">1.0</text>\n",
        "  </g>\n",
        "  <g font-size=\"3.88\" font-family=\"'PT Sans','Helvetica Neue','Helvetica',sans-serif\" fill=\"#564A55\" stroke=\"none\" id=\"fig-4b3ab88a4d23486e940288087beed133-element-12\">\n",
        "    <text x=\"8.81\" y=\"31.86\" text-anchor=\"middle\" dy=\"0.35em\" transform=\"rotate(-90, 8.81, 33.86)\">f(x)</text>\n",
        "  </g>\n",
        "</g>\n",
        "<defs>\n",
        "<clipPath id=\"fig-4b3ab88a4d23486e940288087beed133-element-5\">\n",
        "  <path d=\"M19.75,5 L 115 5 115 62.72 19.75 62.72\" />\n",
        "</clipPath\n",
        "></defs>\n",
        "</svg>\n"
       ],
       "text": [
        "Plot(...)"
       ]
      }
     ],
     "prompt_number": 12
    },
    {
     "cell_type": "code",
     "collapsed": false,
     "input": [
      "## DOES WORK with PyPlot?\n",
      "fig = figure()\n",
      "\u03b8 = linspace(0, 25, 100)\n",
      "@manipulate for \u03d5=0:\u03c0/16:4\u03c0, f=[:sin=>sin, :cos=>cos]#; withfig(fig) do\n",
      "    PyPlot.plot(\u03b8, f(\u03b8 + \u03d5), \"b-\")\n",
      "    #end\n",
      "end"
     ],
     "language": "python",
     "metadata": {},
     "outputs": [
      {
       "html": [],
       "metadata": {},
       "output_type": "display_data",
       "text": [
        "Slider{Float64}([Input{Float64}] 6.283185307179586,\"\u03d5\",6.283185307179586,0.0:0.19634954084936207:12.566370614359172)"
       ]
      },
      {
       "html": [],
       "metadata": {},
       "output_type": "display_data",
       "text": [
        "Options{:ToggleButtons,Function}([Input{Function}] sin,\"f\",sin,\"sin\",[\"sin\"=>sin,\"cos\"=>cos])"
       ]
      },
      {
       "metadata": {},
       "output_type": "display_data",
       "png": "[encoded data removed]",
       "text": [
        "Figure(PyObject <matplotlib.figure.Figure object at 0x7f174c4367d0>)"
       ]
      },
      {
       "metadata": {
        "comm_id": "eef62a5b-890c-454b-813a-168d3124f093",
        "reactive": true
       },
       "output_type": "pyout",
       "prompt_number": 2,
       "text": [
        "1-element Array{Any,1}:\n",
        " PyObject <matplotlib.lines.Line2D object at 0x7f176a616350>"
       ]
      }
     ],
     "prompt_number": 2
    },
    {
     "cell_type": "code",
     "collapsed": false,
     "input": [
      "## DOES WORK with PyPlot - It must be drawn on a fig\n",
      "fig = figure(figsize = (3, 3))\n",
      "@manipulate for \u03d5=0:\u03c0/16:4\u03c0, f=[:sin=>sin, :cos=>cos];\n",
      "    withfig(fig) do\n",
      "    \u03b8 = linspace(0, 25, 100)\n",
      "    PyPlot.plot(\u03b8, f(\u03b8 + \u03d5), \"b-\")\n",
      "    end\n",
      "end"
     ],
     "language": "python",
     "metadata": {},
     "outputs": [
      {
       "html": [],
       "metadata": {},
       "output_type": "display_data",
       "text": [
        "Slider{Float64}([Input{Float64}] 6.283185307179586,\"\u03d5\",6.283185307179586,0.0:0.19634954084936207:12.566370614359172)"
       ]
      },
      {
       "html": [],
       "metadata": {},
       "output_type": "display_data",
       "text": [
        "Options{:ToggleButtons,Function}([Input{Function}] sin,\"f\",sin,\"sin\",[\"sin\"=>sin,\"cos\"=>cos])"
       ]
      },
      {
       "metadata": {
        "comm_id": "d79a7398-1e0f-4987-b2e3-fac9b1ed3c9c",
        "reactive": true
       },
       "output_type": "pyout",
       "png": "[encoded data removed]",
       "prompt_number": 4,
       "text": [
        "Figure(PyObject <matplotlib.figure.Figure object at 0x7f1746f34c50>)"
       ]
      }
     ],
     "prompt_number": 4
    },
    {
     "cell_type": "code",
     "collapsed": false,
     "input": [
      "\n",
      "\u03b8 = linspace(0, 25, 100)\n",
      "\u03d5 = slider(0:\u03c0/16:4\u03c0) \n",
      "f = widget([:sin=>sin, :cos=>cos])\n",
      "\n",
      "p = @lift plot(\u03b8, f(\u03b8+\u03d5), \"b-\")\n",
      "map(display, [\u03d5, f])\n"
     ],
     "language": "python",
     "metadata": {},
     "outputs": [
      {
       "html": [],
       "metadata": {},
       "output_type": "display_data",
       "text": [
        "Slider{Float64}([Input{Float64}] 6.283185307179586,\"\",6.283185307179586,0.0:0.19634954084936207:12.566370614359172)"
       ]
      },
      {
       "html": [],
       "metadata": {},
       "output_type": "display_data",
       "text": [
        "Options{:ToggleButtons,Function}([Input{Function}] sin,\"\",sin,\"sin\",[\"sin\"=>sin,\"cos\"=>cos])"
       ]
      },
      {
       "metadata": {},
       "output_type": "display_data",
       "png": "[encoded data removed]",
       "text": [
        "Figure(PyObject <matplotlib.figure.Figure object at 0x7f1746d3f9d0>)"
       ]
      },
      {
       "metadata": {},
       "output_type": "pyout",
       "prompt_number": 15,
       "text": [
        "2-element Array{Nothing,1}:\n",
        " nothing\n",
        " nothing"
       ]
      }
     ],
     "prompt_number": 15
    },
    {
     "cell_type": "code",
     "collapsed": false,
     "input": [
      "using PyPlot\n",
      "f = figure()\n",
      "x = linspace(0,2\u03c0,1000)\n",
      "@manipulate for \u03b1=slider(1:0.1:3, label = \"alpha\"), \u03b2=1:0.1:3, \u03b3=1:0.1:3, leg=\"a funny plot\"; withfig(f) do\n",
      "        PyPlot.plot(x, cos(\u03b1*x + sin(\u03b2*x + \u03b3)))\n",
      "        legend([leg])\n",
      "    end\n",
      "end"
     ],
     "language": "python",
     "metadata": {},
     "outputs": [
      {
       "html": [],
       "metadata": {},
       "output_type": "display_data",
       "text": [
        "Slider{Float64}([Input{Float64}] 2.0,\"alpha\",2.0,1.0:0.1:3.0)"
       ]
      },
      {
       "html": [],
       "metadata": {},
       "output_type": "display_data",
       "text": [
        "Slider{Float64}([Input{Float64}] 2.0,\"\u03b2\",2.0,1.0:0.1:3.0)"
       ]
      },
      {
       "html": [],
       "metadata": {},
       "output_type": "display_data",
       "text": [
        "Slider{Float64}([Input{Float64}] 2.0,\"\u03b3\",2.0,1.0:0.1:3.0)"
       ]
      },
      {
       "html": [],
       "metadata": {},
       "output_type": "display_data",
       "text": [
        "Textbox{ASCIIString}([Input{ASCIIString}] a funny plot,\"leg\",nothing,\"a funny plot\")"
       ]
      },
      {
       "metadata": {
        "comm_id": "ac5f8069-70a3-480e-a631-910c3c460511",
        "reactive": true
       },
       "output_type": "pyout",
       "png": "[encoded data removed]",
       "prompt_number": 20,
       "text": [
        "Figure(PyObject <matplotlib.figure.Figure object at 0x7f17469a4410>)"
       ]
      }
     ],
     "prompt_number": 20
    },
    {
     "cell_type": "code",
     "collapsed": false,
     "input": [
      "using Reactive, Interact"
     ],
     "language": "python",
     "metadata": {},
     "outputs": [],
     "prompt_number": 15
    },
    {
     "cell_type": "markdown",
     "metadata": {},
     "source": [
      "Interact.jl provides interactive widgets for IJulia. Interaction relies on Reactive.jl reactive programming package. Reactive provides the type Signal which represent time-varying values. For example, a Slider widget can be turned into a \"signal of numbers\". Execute the following two cells, and then move the slider. You will see that the value of signal(slider) changes accordingly."
     ]
    },
    {
     "cell_type": "code",
     "collapsed": false,
     "input": [
      "s = slider(0:0.01:1, label=\"Slider X:\")"
     ],
     "language": "python",
     "metadata": {},
     "outputs": [
      {
       "html": [],
       "metadata": {},
       "output_type": "pyout",
       "prompt_number": 32,
       "text": [
        "Slider{Float64}([Input{Float64}] 0.5,\"Slider X:\",0.5,0.0:0.01:1.0)"
       ]
      }
     ],
     "prompt_number": 32
    },
    {
     "cell_type": "code",
     "collapsed": false,
     "input": [
      "signal(s)"
     ],
     "language": "python",
     "metadata": {},
     "outputs": [
      {
       "metadata": {
        "comm_id": "53f93aa0-eee9-45ea-afb5-4ab1d6c25c99",
        "reactive": true
       },
       "output_type": "pyout",
       "prompt_number": 33,
       "text": [
        "0.5"
       ]
      }
     ],
     "prompt_number": 33
    },
    {
     "cell_type": "code",
     "collapsed": false,
     "input": [
      "display(typeof(s))\n",
      "isa(s, Widget)"
     ],
     "language": "python",
     "metadata": {},
     "outputs": [
      {
       "metadata": {},
       "output_type": "display_data",
       "text": [
        "Slider{Float64} (constructor with 1 method)"
       ]
      },
      {
       "metadata": {},
       "output_type": "pyout",
       "prompt_number": 28,
       "text": [
        "true"
       ]
      }
     ],
     "prompt_number": 28
    },
    {
     "cell_type": "code",
     "collapsed": false,
     "input": [
      "# You can have many instances of the same widget in a notebook, and they stay in sync:\n",
      "# see values & widgets above - not working perfectly though\n",
      "## AND YOU CAN TRANSFORM A SINGAL INTO pretty much anythign\n",
      "s"
     ],
     "language": "python",
     "metadata": {},
     "outputs": [
      {
       "html": [],
       "metadata": {},
       "output_type": "pyout",
       "prompt_number": 34,
       "text": [
        "Slider{Float64}([Input{Float64}] 0.78,\"Slider X:\",0.78,0.0:0.01:1.0)"
       ]
      }
     ],
     "prompt_number": 34
    },
    {
     "cell_type": "code",
     "collapsed": false,
     "input": [
      "## Turning a signal into another signal \n",
      "squ = lift(x -> x*x, signal(s))"
     ],
     "language": "python",
     "metadata": {},
     "outputs": [
      {
       "metadata": {
        "comm_id": "37323e8c-70a7-48ce-967b-1da28c60c23a",
        "reactive": true
       },
       "output_type": "pyout",
       "prompt_number": 38,
       "text": [
        "0.019600000000000003"
       ]
      }
     ],
     "prompt_number": 38
    },
    {
     "cell_type": "code",
     "collapsed": false,
     "input": [
      "lift(x -> x*x, s)"
     ],
     "language": "python",
     "metadata": {},
     "outputs": [
      {
       "metadata": {
        "comm_id": "340375cd-4eb0-45e4-a61f-f4d1a6f6c29f",
        "reactive": true
       },
       "output_type": "pyout",
       "prompt_number": 40,
       "text": [
        "0.4096"
       ]
      }
     ],
     "prompt_number": 40
    },
    {
     "cell_type": "code",
     "collapsed": false,
     "input": [
      "using Color\n",
      "lift(x -> RGB(x, 0.5, 0.5), signal(s))"
     ],
     "language": "python",
     "metadata": {},
     "outputs": [
      {
       "metadata": {
        "comm_id": "6f01dfd5-b4a8-4c76-8267-123cab307a2c",
        "reactive": true
       },
       "output_type": "pyout",
       "prompt_number": 42,
       "svg": [
        "<?xml version\"1.0\" encoding=\"UTF-8\"?>\n",
        "<!DOCTYPE svg PUBLIC \"-//W3C//DTD SVG 1.1//EN\"\n",
        " \"http://www.w3.org/Graphics/SVG/1.1/DTD/svg11.dtd\">\n",
        "<svg xmlns=\"http://www.w3.org/2000/svg\" version=\"1.1\"\n",
        "     width=\"25mm\" height=\"25mm\" viewBox=\"0 0 1 1\">\n",
        "     <rect width=\"1\" height=\"1\"\n",
        "           fill=\"#5E8080\" stroke=\"none\"/>\n",
        "</svg>\n"
       ],
       "text": [
        "RGB{Float64}(0.37,0.5,0.5)"
       ]
      }
     ],
     "prompt_number": 42
    },
    {
     "cell_type": "code",
     "collapsed": false,
     "input": [
      "## and you can use multiple signal as sources as well\n",
      "r = slider(0:0.01:1, label = \"R\")\n",
      "g = slider(0:0.01:1, label = \"G\")\n",
      "b = slider(0:0.01:1, label = \"B\")\n",
      "map(display, [r, g, b])"
     ],
     "language": "python",
     "metadata": {},
     "outputs": [
      {
       "html": [],
       "metadata": {},
       "output_type": "display_data",
       "text": [
        "Slider{Float64}([Input{Float64}] 0.5,\"R\",0.5,0.0:0.01:1.0)"
       ]
      },
      {
       "html": [],
       "metadata": {},
       "output_type": "display_data",
       "text": [
        "Slider{Float64}([Input{Float64}] 0.5,\"G\",0.5,0.0:0.01:1.0)"
       ]
      },
      {
       "html": [],
       "metadata": {},
       "output_type": "display_data",
       "text": [
        "Slider{Float64}([Input{Float64}] 0.5,\"B\",0.5,0.0:0.01:1.0)"
       ]
      },
      {
       "metadata": {},
       "output_type": "pyout",
       "prompt_number": 43,
       "text": [
        "3-element Array{Nothing,1}:\n",
        " nothing\n",
        " nothing\n",
        " nothing"
       ]
      }
     ],
     "prompt_number": 43
    },
    {
     "cell_type": "code",
     "collapsed": false,
     "input": [
      "color = lift((r, g, b)->RGB(r, g, b), r, g, b)"
     ],
     "language": "python",
     "metadata": {},
     "outputs": [
      {
       "metadata": {
        "comm_id": "b938fa33-a249-49b9-8fe8-a53811c7864b",
        "reactive": true
       },
       "output_type": "pyout",
       "prompt_number": 44,
       "svg": [
        "<?xml version\"1.0\" encoding=\"UTF-8\"?>\n",
        "<!DOCTYPE svg PUBLIC \"-//W3C//DTD SVG 1.1//EN\"\n",
        " \"http://www.w3.org/Graphics/SVG/1.1/DTD/svg11.dtd\">\n",
        "<svg xmlns=\"http://www.w3.org/2000/svg\" version=\"1.1\"\n",
        "     width=\"25mm\" height=\"25mm\" viewBox=\"0 0 1 1\">\n",
        "     <rect width=\"1\" height=\"1\"\n",
        "           fill=\"#3B8080\" stroke=\"none\"/>\n",
        "</svg>\n"
       ],
       "text": [
        "RGB{Float64}(0.23,0.5,0.5)"
       ]
      }
     ],
     "prompt_number": 44
    },
    {
     "cell_type": "code",
     "collapsed": false,
     "input": [
      "## the @lift macro is the syntax sugar for the function\n",
      "@lift RGB(r, g, b)"
     ],
     "language": "python",
     "metadata": {},
     "outputs": [
      {
       "metadata": {
        "comm_id": "9d5d5b53-781e-4204-87c5-14aa41442af7",
        "reactive": true
       },
       "output_type": "pyout",
       "prompt_number": 45,
       "svg": [
        "<?xml version\"1.0\" encoding=\"UTF-8\"?>\n",
        "<!DOCTYPE svg PUBLIC \"-//W3C//DTD SVG 1.1//EN\"\n",
        " \"http://www.w3.org/Graphics/SVG/1.1/DTD/svg11.dtd\">\n",
        "<svg xmlns=\"http://www.w3.org/2000/svg\" version=\"1.1\"\n",
        "     width=\"25mm\" height=\"25mm\" viewBox=\"0 0 1 1\">\n",
        "     <rect width=\"1\" height=\"1\"\n",
        "           fill=\"#6ED4F2\" stroke=\"none\"/>\n",
        "</svg>\n"
       ],
       "text": [
        "RGB{Float64}(0.43,0.83,0.95)"
       ]
      }
     ],
     "prompt_number": 45
    },
    {
     "cell_type": "code",
     "collapsed": false,
     "input": [
      "display(RGB(r,g,b))"
     ],
     "language": "python",
     "metadata": {},
     "outputs": [
      {
       "ename": "LoadError",
       "evalue": "type: RGB: in T, expected T<:Union(FloatingPoint,FixedPoint), got Type{Slider{Float64}}\nwhile loading In[46], in expression starting on line 1",
       "output_type": "pyerr",
       "traceback": [
        "type: RGB: in T, expected T<:Union(FloatingPoint,FixedPoint), got Type{Slider{Float64}}\nwhile loading In[46], in expression starting on line 1",
        "",
        " in RGB at /home/dola/.julia/v0.3/Color/src/colorspaces.jl:43"
       ]
      }
     ],
     "prompt_number": 46
    },
    {
     "cell_type": "code",
     "collapsed": false,
     "input": [
      "@lift html(string(\"<div style='color:#\", hex(color), \"'>hello world</div>\"))"
     ],
     "language": "python",
     "metadata": {},
     "outputs": [
      {
       "html": [],
       "metadata": {},
       "output_type": "pyout",
       "prompt_number": 54,
       "text": [
        "HTML(\"\",\"<div style='color:#6E4F7D'>hello world</div>\")"
       ]
      }
     ],
     "prompt_number": 54
    },
    {
     "cell_type": "code",
     "collapsed": false,
     "input": [
      "## on the other hand, @manipulate macro lets you play with the created widges\n",
      "## it is similiar to the interactive function in ipython notebook,\n",
      "## where expressions are automatically generated as corresponding widgets\n",
      "## and the expression got \"lift\"ed\n",
      "@manipulate for r in 0:0.05:1, g in 0:0.05:1, b in 0:0.05:1\n",
      "    html(\"<div style='color:#$(hex(RGB(r, g, b)))'>hello world</div>\")\n",
      "end"
     ],
     "language": "python",
     "metadata": {},
     "outputs": [
      {
       "html": [],
       "metadata": {},
       "output_type": "display_data",
       "text": [
        "Slider{Float64}([Input{Float64}] 0.5,\"r\",0.5,0.0:0.05:1.0)"
       ]
      },
      {
       "html": [],
       "metadata": {},
       "output_type": "display_data",
       "text": [
        "Slider{Float64}([Input{Float64}] 0.5,\"g\",0.5,0.0:0.05:1.0)"
       ]
      },
      {
       "html": [],
       "metadata": {},
       "output_type": "display_data",
       "text": [
        "Slider{Float64}([Input{Float64}] 0.5,\"b\",0.5,0.0:0.05:1.0)"
       ]
      },
      {
       "html": [],
       "metadata": {},
       "output_type": "pyout",
       "prompt_number": 62,
       "text": [
        "HTML(\"\",\"<div style='color:#808080'>hello world</div>\")"
       ]
      }
     ],
     "prompt_number": 62
    },
    {
     "cell_type": "code",
     "collapsed": false,
     "input": [
      "x = slider(0:.1:2\u03c0, label = \"x\")\n",
      "sinx = @lift slider(-1:0.05:1, value = sin(2x))\n",
      "cosx = @lift slider(-1:0.05:1, value = cos(2x))\n",
      "map(display, [x, sinx, cosx])"
     ],
     "language": "python",
     "metadata": {},
     "outputs": [
      {
       "html": [],
       "metadata": {},
       "output_type": "display_data",
       "text": [
        "Slider{Float64}([Input{Float64}] 3.1,\"x\",3.1,0.0:0.1:6.2)"
       ]
      },
      {
       "html": [],
       "metadata": {},
       "output_type": "display_data",
       "text": [
        "Slider{Float64}([Input{Float64}] -0.0830894028174964,\"\",-0.0830894028174964,-1.0:0.05:1.0)"
       ]
      },
      {
       "html": [],
       "metadata": {},
       "output_type": "display_data",
       "text": [
        "Slider{Float64}([Input{Float64}] 0.9965420970232175,\"\",0.9965420970232175,-1.0:0.05:1.0)"
       ]
      },
      {
       "metadata": {},
       "output_type": "pyout",
       "prompt_number": 63,
       "text": [
        "3-element Array{Any,1}:\n",
        " nothing\n",
        " nothing\n",
        " nothing"
       ]
      }
     ],
     "prompt_number": 63
    },
    {
     "cell_type": "markdown",
     "metadata": {},
     "source": [
      "**Widgets Overview**\n",
      "\n",
      "All widgets allow for the following keyword arguments:\n",
      "\n",
      "    label: Label to be shown next to the widget\n",
      "    value: The value the widget should be set to when created\n",
      "    signal: A signal object of type Reactive.Input which gets the value of the widget as user enters input."
     ]
    },
    {
     "cell_type": "code",
     "collapsed": false,
     "input": [
      "b = button(\"hello\")\n",
      "display(b)\n",
      "foldl((acc, value) -> acc +1, 0, signal(b))"
     ],
     "language": "python",
     "metadata": {},
     "outputs": [
      {
       "html": [],
       "metadata": {},
       "output_type": "display_data",
       "text": [
        "Button{Nothing}([Input{Nothing}] nothing,\"hello\",nothing)"
       ]
      },
      {
       "metadata": {
        "comm_id": "2123ffe5-70b7-41c6-81c7-af2a005e4839",
        "reactive": true
       },
       "output_type": "pyout",
       "prompt_number": 75,
       "text": [
        "0"
       ]
      }
     ],
     "prompt_number": 75
    },
    {
     "cell_type": "code",
     "collapsed": false,
     "input": [
      "## widget function coerce an expression into a widget automatically\n",
      "\n",
      "map(display, [\n",
      "    widget(1:10),                 # Slider\n",
      "    widget(false),                # Checkbox\n",
      "    widget(\"text\"),               # Textbox\n",
      "    widget(1.1),                  # Number Textbox\n",
      "    widget([:on, :off]),          # Toggle Buttons\n",
      "    widget([:\u03c0 => float(\u03c0), :\u03c4 => 2\u03c0])\n",
      "    ]);"
     ],
     "language": "python",
     "metadata": {},
     "outputs": [
      {
       "html": [],
       "metadata": {},
       "output_type": "display_data",
       "text": [
        "Slider{Int64}([Input{Int64}] 5,\"\",5,1:10)"
       ]
      },
      {
       "html": [],
       "metadata": {},
       "output_type": "display_data",
       "text": [
        "Checkbox([Input{Bool}] false,\"\",false)"
       ]
      },
      {
       "html": [],
       "metadata": {},
       "output_type": "display_data",
       "text": [
        "Textbox{ASCIIString}([Input{ASCIIString}] text,\"\",nothing,\"text\")"
       ]
      },
      {
       "html": [],
       "metadata": {},
       "output_type": "display_data",
       "text": [
        "Textbox{Float64}([Input{Float64}] 1.1,\"\",nothing,1.1)"
       ]
      },
      {
       "html": [],
       "metadata": {},
       "output_type": "display_data",
       "text": [
        "Options{:ToggleButtons,Symbol}([Input{Symbol}] on,\"\",:on,\"on\",[\"on\"=>:on,\"off\"=>:off])"
       ]
      },
      {
       "html": [],
       "metadata": {},
       "output_type": "display_data",
       "text": [
        "Options{:ToggleButtons,Float64}([Input{Float64}] 6.283185307179586,\"\",6.283185307179586,\"\u03c4\",[\"\u03c4\"=>6.283185307179586,\"\u03c0\"=>3.141592653589793])"
       ]
      }
     ],
     "prompt_number": 76
    },
    {
     "cell_type": "code",
     "collapsed": false,
     "input": [
      "using Compose\n",
      "\n",
      "@manipulate for \n",
      "    paused=false,\n",
      "    dt = fpswhen(lift(!, paused), 30),       # stop updating time when paused.\n",
      "    t = foldl(+, 0., dt),                    # add up the time deltas to get time\n",
      "    gravity = 0:0.01:5,                      # some sort of gravity\n",
      "    color = [\"tomato\", \"cyan\"]               # color the ball\n",
      "\n",
      "    compose(context(0.5, 1-abs(sin(t*gravity)), 0.1, 0.1), fill(color), circle())\n",
      "end"
     ],
     "language": "python",
     "metadata": {},
     "outputs": [
      {
       "html": [],
       "metadata": {},
       "output_type": "display_data",
       "text": [
        "Checkbox([Input{Bool}] false,\"paused\",false)"
       ]
      },
      {
       "metadata": {
        "comm_id": "4d090987-0949-4257-b995-16eae81af091",
        "reactive": true
       },
       "output_type": "display_data",
       "text": [
        "0.0"
       ]
      },
      {
       "metadata": {
        "comm_id": "250f671a-9f12-4649-97e7-cec101d78c7f",
        "reactive": true
       },
       "output_type": "display_data",
       "text": [
        "0.0"
       ]
      },
      {
       "html": [],
       "metadata": {},
       "output_type": "display_data",
       "text": [
        "Slider{Float64}([Input{Float64}] 2.5,\"gravity\",2.5,0.0:0.01:5.0)"
       ]
      },
      {
       "html": [],
       "metadata": {},
       "output_type": "display_data",
       "text": [
        "Options{:ToggleButtons,ASCIIString}([Input{ASCIIString}] tomato,\"color\",\"tomato\",\"tomato\",[\"tomato\"=>\"tomato\",\"cyan\"=>\"cyan\"])"
       ]
      },
      {
       "metadata": {},
       "output_type": "display_data",
       "png": "[encoded data removed]",
       "text": [
        "Figure(PyObject <matplotlib.figure.Figure object at 0x7f1746a325d0>)"
       ]
      },
      {
       "html": [
        "<?xml version=\"1.0\" encoding=\"UTF-8\"?>\n",
        "<svg xmlns=\"http://www.w3.org/2000/svg\"\n",
        "     xmlns:xlink=\"http://www.w3.org/1999/xlink\"\n",
        "     version=\"1.2\"\n",
        "     width=\"120mm\" height=\"120mm\" viewBox=\"0 0 120 120\"\n",
        "     stroke=\"none\"\n",
        "     fill=\"#000000\"\n",
        "     stroke-width=\"0.3\"\n",
        "\n",
        "     id=\"fig-5bf259e5fdae4dfeb9fd982ae98b0250\">\n",
        "<g fill=\"#FF6347\" id=\"fig-5bf259e5fdae4dfeb9fd982ae98b0250-element-1\">\n",
        "  <circle cx=\"66\" cy=\"126\" r=\"6\"/>\n",
        "</g>\n",
        "<script> <![CDATA[\n",
        "(function(N){var k=/[\\.\\/]/,L=/\\s*,\\s*/,C=function(a,d){return a-d},a,v,y={n:{}},M=function(){for(var a=0,d=this.length;a<d;a++)if(\"undefined\"!=typeof this[a])return this[a]},A=function(){for(var a=this.length;--a;)if(\"undefined\"!=typeof this[a])return this[a]},w=function(k,d){k=String(k);var f=v,n=Array.prototype.slice.call(arguments,2),u=w.listeners(k),p=0,b,q=[],e={},l=[],r=a;l.firstDefined=M;l.lastDefined=A;a=k;for(var s=v=0,x=u.length;s<x;s++)\"zIndex\"in u[s]&&(q.push(u[s].zIndex),0>u[s].zIndex&&\n",
        "(e[u[s].zIndex]=u[s]));for(q.sort(C);0>q[p];)if(b=e[q[p++] ],l.push(b.apply(d,n)),v)return v=f,l;for(s=0;s<x;s++)if(b=u[s],\"zIndex\"in b)if(b.zIndex==q[p]){l.push(b.apply(d,n));if(v)break;do if(p++,(b=e[q[p] ])&&l.push(b.apply(d,n)),v)break;while(b)}else e[b.zIndex]=b;else if(l.push(b.apply(d,n)),v)break;v=f;a=r;return l};w._events=y;w.listeners=function(a){a=a.split(k);var d=y,f,n,u,p,b,q,e,l=[d],r=[];u=0;for(p=a.length;u<p;u++){e=[];b=0;for(q=l.length;b<q;b++)for(d=l[b].n,f=[d[a[u] ],d[\"*\"] ],n=2;n--;)if(d=\n",
        "f[n])e.push(d),r=r.concat(d.f||[]);l=e}return r};w.on=function(a,d){a=String(a);if(\"function\"!=typeof d)return function(){};for(var f=a.split(L),n=0,u=f.length;n<u;n++)(function(a){a=a.split(k);for(var b=y,f,e=0,l=a.length;e<l;e++)b=b.n,b=b.hasOwnProperty(a[e])&&b[a[e] ]||(b[a[e] ]={n:{}});b.f=b.f||[];e=0;for(l=b.f.length;e<l;e++)if(b.f[e]==d){f=!0;break}!f&&b.f.push(d)})(f[n]);return function(a){+a==+a&&(d.zIndex=+a)}};w.f=function(a){var d=[].slice.call(arguments,1);return function(){w.apply(null,\n",
        "[a,null].concat(d).concat([].slice.call(arguments,0)))}};w.stop=function(){v=1};w.nt=function(k){return k?(new RegExp(\"(?:\\\\.|\\\\/|^)\"+k+\"(?:\\\\.|\\\\/|$)\")).test(a):a};w.nts=function(){return a.split(k)};w.off=w.unbind=function(a,d){if(a){var f=a.split(L);if(1<f.length)for(var n=0,u=f.length;n<u;n++)w.off(f[n],d);else{for(var f=a.split(k),p,b,q,e,l=[y],n=0,u=f.length;n<u;n++)for(e=0;e<l.length;e+=q.length-2){q=[e,1];p=l[e].n;if(\"*\"!=f[n])p[f[n] ]&&q.push(p[f[n] ]);else for(b in p)p.hasOwnProperty(b)&&\n",
        "q.push(p[b]);l.splice.apply(l,q)}n=0;for(u=l.length;n<u;n++)for(p=l[n];p.n;){if(d){if(p.f){e=0;for(f=p.f.length;e<f;e++)if(p.f[e]==d){p.f.splice(e,1);break}!p.f.length&&delete p.f}for(b in p.n)if(p.n.hasOwnProperty(b)&&p.n[b].f){q=p.n[b].f;e=0;for(f=q.length;e<f;e++)if(q[e]==d){q.splice(e,1);break}!q.length&&delete p.n[b].f}}else for(b in delete p.f,p.n)p.n.hasOwnProperty(b)&&p.n[b].f&&delete p.n[b].f;p=p.n}}}else w._events=y={n:{}}};w.once=function(a,d){var f=function(){w.unbind(a,f);return d.apply(this,\n",
        "arguments)};return w.on(a,f)};w.version=\"0.4.2\";w.toString=function(){return\"You are running Eve 0.4.2\"};\"undefined\"!=typeof module&&module.exports?module.exports=w:\"function\"===typeof define&&define.amd?define(\"eve\",[],function(){return w}):N.eve=w})(this);\n",
        "(function(N,k){\"function\"===typeof define&&define.amd?define(\"Snap.svg\",[\"eve\"],function(L){return k(N,L)}):k(N,N.eve)})(this,function(N,k){var L=function(a){var k={},y=N.requestAnimationFrame||N.webkitRequestAnimationFrame||N.mozRequestAnimationFrame||N.oRequestAnimationFrame||N.msRequestAnimationFrame||function(a){setTimeout(a,16)},M=Array.isArray||function(a){return a instanceof Array||\"[object Array]\"==Object.prototype.toString.call(a)},A=0,w=\"M\"+(+new Date).toString(36),z=function(a){if(null==\n",
        "a)return this.s;var b=this.s-a;this.b+=this.dur*b;this.B+=this.dur*b;this.s=a},d=function(a){if(null==a)return this.spd;this.spd=a},f=function(a){if(null==a)return this.dur;this.s=this.s*a/this.dur;this.dur=a},n=function(){delete k[this.id];this.update();a(\"mina.stop.\"+this.id,this)},u=function(){this.pdif||(delete k[this.id],this.update(),this.pdif=this.get()-this.b)},p=function(){this.pdif&&(this.b=this.get()-this.pdif,delete this.pdif,k[this.id]=this)},b=function(){var a;if(M(this.start)){a=[];\n",
        "for(var b=0,e=this.start.length;b<e;b++)a[b]=+this.start[b]+(this.end[b]-this.start[b])*this.easing(this.s)}else a=+this.start+(this.end-this.start)*this.easing(this.s);this.set(a)},q=function(){var l=0,b;for(b in k)if(k.hasOwnProperty(b)){var e=k[b],f=e.get();l++;e.s=(f-e.b)/(e.dur/e.spd);1<=e.s&&(delete k[b],e.s=1,l--,function(b){setTimeout(function(){a(\"mina.finish.\"+b.id,b)})}(e));e.update()}l&&y(q)},e=function(a,r,s,x,G,h,J){a={id:w+(A++).toString(36),start:a,end:r,b:s,s:0,dur:x-s,spd:1,get:G,\n",
        "set:h,easing:J||e.linear,status:z,speed:d,duration:f,stop:n,pause:u,resume:p,update:b};k[a.id]=a;r=0;for(var K in k)if(k.hasOwnProperty(K)&&(r++,2==r))break;1==r&&y(q);return a};e.time=Date.now||function(){return+new Date};e.getById=function(a){return k[a]||null};e.linear=function(a){return a};e.easeout=function(a){return Math.pow(a,1.7)};e.easein=function(a){return Math.pow(a,0.48)};e.easeinout=function(a){if(1==a)return 1;if(0==a)return 0;var b=0.48-a/1.04,e=Math.sqrt(0.1734+b*b);a=e-b;a=Math.pow(Math.abs(a),\n",
        "1/3)*(0>a?-1:1);b=-e-b;b=Math.pow(Math.abs(b),1/3)*(0>b?-1:1);a=a+b+0.5;return 3*(1-a)*a*a+a*a*a};e.backin=function(a){return 1==a?1:a*a*(2.70158*a-1.70158)};e.backout=function(a){if(0==a)return 0;a-=1;return a*a*(2.70158*a+1.70158)+1};e.elastic=function(a){return a==!!a?a:Math.pow(2,-10*a)*Math.sin(2*(a-0.075)*Math.PI/0.3)+1};e.bounce=function(a){a<1/2.75?a*=7.5625*a:a<2/2.75?(a-=1.5/2.75,a=7.5625*a*a+0.75):a<2.5/2.75?(a-=2.25/2.75,a=7.5625*a*a+0.9375):(a-=2.625/2.75,a=7.5625*a*a+0.984375);return a};\n",
        "return N.mina=e}(\"undefined\"==typeof k?function(){}:k),C=function(){function a(c,t){if(c){if(c.tagName)return x(c);if(y(c,\"array\")&&a.set)return a.set.apply(a,c);if(c instanceof e)return c;if(null==t)return c=G.doc.querySelector(c),x(c)}return new s(null==c?\"100%\":c,null==t?\"100%\":t)}function v(c,a){if(a){\"#text\"==c&&(c=G.doc.createTextNode(a.text||\"\"));\"string\"==typeof c&&(c=v(c));if(\"string\"==typeof a)return\"xlink:\"==a.substring(0,6)?c.getAttributeNS(m,a.substring(6)):\"xml:\"==a.substring(0,4)?c.getAttributeNS(la,\n",
        "a.substring(4)):c.getAttribute(a);for(var da in a)if(a[h](da)){var b=J(a[da]);b?\"xlink:\"==da.substring(0,6)?c.setAttributeNS(m,da.substring(6),b):\"xml:\"==da.substring(0,4)?c.setAttributeNS(la,da.substring(4),b):c.setAttribute(da,b):c.removeAttribute(da)}}else c=G.doc.createElementNS(la,c);return c}function y(c,a){a=J.prototype.toLowerCase.call(a);return\"finite\"==a?isFinite(c):\"array\"==a&&(c instanceof Array||Array.isArray&&Array.isArray(c))?!0:\"null\"==a&&null===c||a==typeof c&&null!==c||\"object\"==\n",
        "a&&c===Object(c)||$.call(c).slice(8,-1).toLowerCase()==a}function M(c){if(\"function\"==typeof c||Object(c)!==c)return c;var a=new c.constructor,b;for(b in c)c[h](b)&&(a[b]=M(c[b]));return a}function A(c,a,b){function m(){var e=Array.prototype.slice.call(arguments,0),f=e.join(\"\\u2400\"),d=m.cache=m.cache||{},l=m.count=m.count||[];if(d[h](f)){a:for(var e=l,l=f,B=0,H=e.length;B<H;B++)if(e[B]===l){e.push(e.splice(B,1)[0]);break a}return b?b(d[f]):d[f]}1E3<=l.length&&delete d[l.shift()];l.push(f);d[f]=c.apply(a,\n",
        "e);return b?b(d[f]):d[f]}return m}function w(c,a,b,m,e,f){return null==e?(c-=b,a-=m,c||a?(180*I.atan2(-a,-c)/C+540)%360:0):w(c,a,e,f)-w(b,m,e,f)}function z(c){return c%360*C/180}function d(c){var a=[];c=c.replace(/(?:^|\\s)(\\w+)\\(([^)]+)\\)/g,function(c,b,m){m=m.split(/\\s*,\\s*|\\s+/);\"rotate\"==b&&1==m.length&&m.push(0,0);\"scale\"==b&&(2<m.length?m=m.slice(0,2):2==m.length&&m.push(0,0),1==m.length&&m.push(m[0],0,0));\"skewX\"==b?a.push([\"m\",1,0,I.tan(z(m[0])),1,0,0]):\"skewY\"==b?a.push([\"m\",1,I.tan(z(m[0])),\n",
        "0,1,0,0]):a.push([b.charAt(0)].concat(m));return c});return a}function f(c,t){var b=O(c),m=new a.Matrix;if(b)for(var e=0,f=b.length;e<f;e++){var h=b[e],d=h.length,B=J(h[0]).toLowerCase(),H=h[0]!=B,l=H?m.invert():0,E;\"t\"==B&&2==d?m.translate(h[1],0):\"t\"==B&&3==d?H?(d=l.x(0,0),B=l.y(0,0),H=l.x(h[1],h[2]),l=l.y(h[1],h[2]),m.translate(H-d,l-B)):m.translate(h[1],h[2]):\"r\"==B?2==d?(E=E||t,m.rotate(h[1],E.x+E.width/2,E.y+E.height/2)):4==d&&(H?(H=l.x(h[2],h[3]),l=l.y(h[2],h[3]),m.rotate(h[1],H,l)):m.rotate(h[1],\n",
        "h[2],h[3])):\"s\"==B?2==d||3==d?(E=E||t,m.scale(h[1],h[d-1],E.x+E.width/2,E.y+E.height/2)):4==d?H?(H=l.x(h[2],h[3]),l=l.y(h[2],h[3]),m.scale(h[1],h[1],H,l)):m.scale(h[1],h[1],h[2],h[3]):5==d&&(H?(H=l.x(h[3],h[4]),l=l.y(h[3],h[4]),m.scale(h[1],h[2],H,l)):m.scale(h[1],h[2],h[3],h[4])):\"m\"==B&&7==d&&m.add(h[1],h[2],h[3],h[4],h[5],h[6])}return m}function n(c,t){if(null==t){var m=!0;t=\"linearGradient\"==c.type||\"radialGradient\"==c.type?c.node.getAttribute(\"gradientTransform\"):\"pattern\"==c.type?c.node.getAttribute(\"patternTransform\"):\n",
        "c.node.getAttribute(\"transform\");if(!t)return new a.Matrix;t=d(t)}else t=a._.rgTransform.test(t)?J(t).replace(/\\.{3}|\\u2026/g,c._.transform||aa):d(t),y(t,\"array\")&&(t=a.path?a.path.toString.call(t):J(t)),c._.transform=t;var b=f(t,c.getBBox(1));if(m)return b;c.matrix=b}function u(c){c=c.node.ownerSVGElement&&x(c.node.ownerSVGElement)||c.node.parentNode&&x(c.node.parentNode)||a.select(\"svg\")||a(0,0);var t=c.select(\"defs\"),t=null==t?!1:t.node;t||(t=r(\"defs\",c.node).node);return t}function p(c){return c.node.ownerSVGElement&&\n",
        "x(c.node.ownerSVGElement)||a.select(\"svg\")}function b(c,a,m){function b(c){if(null==c)return aa;if(c==+c)return c;v(B,{width:c});try{return B.getBBox().width}catch(a){return 0}}function h(c){if(null==c)return aa;if(c==+c)return c;v(B,{height:c});try{return B.getBBox().height}catch(a){return 0}}function e(b,B){null==a?d[b]=B(c.attr(b)||0):b==a&&(d=B(null==m?c.attr(b)||0:m))}var f=p(c).node,d={},B=f.querySelector(\".svg---mgr\");B||(B=v(\"rect\"),v(B,{x:-9E9,y:-9E9,width:10,height:10,\"class\":\"svg---mgr\",\n",
        "fill:\"none\"}),f.appendChild(B));switch(c.type){case \"rect\":e(\"rx\",b),e(\"ry\",h);case \"image\":e(\"width\",b),e(\"height\",h);case \"text\":e(\"x\",b);e(\"y\",h);break;case \"circle\":e(\"cx\",b);e(\"cy\",h);e(\"r\",b);break;case \"ellipse\":e(\"cx\",b);e(\"cy\",h);e(\"rx\",b);e(\"ry\",h);break;case \"line\":e(\"x1\",b);e(\"x2\",b);e(\"y1\",h);e(\"y2\",h);break;case \"marker\":e(\"refX\",b);e(\"markerWidth\",b);e(\"refY\",h);e(\"markerHeight\",h);break;case \"radialGradient\":e(\"fx\",b);e(\"fy\",h);break;case \"tspan\":e(\"dx\",b);e(\"dy\",h);break;default:e(a,\n",
        "b)}f.removeChild(B);return d}function q(c){y(c,\"array\")||(c=Array.prototype.slice.call(arguments,0));for(var a=0,b=0,m=this.node;this[a];)delete this[a++];for(a=0;a<c.length;a++)\"set\"==c[a].type?c[a].forEach(function(c){m.appendChild(c.node)}):m.appendChild(c[a].node);for(var h=m.childNodes,a=0;a<h.length;a++)this[b++]=x(h[a]);return this}function e(c){if(c.snap in E)return E[c.snap];var a=this.id=V(),b;try{b=c.ownerSVGElement}catch(m){}this.node=c;b&&(this.paper=new s(b));this.type=c.tagName;this.anims=\n",
        "{};this._={transform:[]};c.snap=a;E[a]=this;\"g\"==this.type&&(this.add=q);if(this.type in{g:1,mask:1,pattern:1})for(var e in s.prototype)s.prototype[h](e)&&(this[e]=s.prototype[e])}function l(c){this.node=c}function r(c,a){var b=v(c);a.appendChild(b);return x(b)}function s(c,a){var b,m,f,d=s.prototype;if(c&&\"svg\"==c.tagName){if(c.snap in E)return E[c.snap];var l=c.ownerDocument;b=new e(c);m=c.getElementsByTagName(\"desc\")[0];f=c.getElementsByTagName(\"defs\")[0];m||(m=v(\"desc\"),m.appendChild(l.createTextNode(\"Created with Snap\")),\n",
        "b.node.appendChild(m));f||(f=v(\"defs\"),b.node.appendChild(f));b.defs=f;for(var ca in d)d[h](ca)&&(b[ca]=d[ca]);b.paper=b.root=b}else b=r(\"svg\",G.doc.body),v(b.node,{height:a,version:1.1,width:c,xmlns:la});return b}function x(c){return!c||c instanceof e||c instanceof l?c:c.tagName&&\"svg\"==c.tagName.toLowerCase()?new s(c):c.tagName&&\"object\"==c.tagName.toLowerCase()&&\"image/svg+xml\"==c.type?new s(c.contentDocument.getElementsByTagName(\"svg\")[0]):new e(c)}a.version=\"0.3.0\";a.toString=function(){return\"Snap v\"+\n",
        "this.version};a._={};var G={win:N,doc:N.document};a._.glob=G;var h=\"hasOwnProperty\",J=String,K=parseFloat,U=parseInt,I=Math,P=I.max,Q=I.min,Y=I.abs,C=I.PI,aa=\"\",$=Object.prototype.toString,F=/^\\s*((#[a-f\\d]{6})|(#[a-f\\d]{3})|rgba?\\(\\s*([\\d\\.]+%?\\s*,\\s*[\\d\\.]+%?\\s*,\\s*[\\d\\.]+%?(?:\\s*,\\s*[\\d\\.]+%?)?)\\s*\\)|hsba?\\(\\s*([\\d\\.]+(?:deg|\\xb0|%)?\\s*,\\s*[\\d\\.]+%?\\s*,\\s*[\\d\\.]+(?:%?\\s*,\\s*[\\d\\.]+)?%?)\\s*\\)|hsla?\\(\\s*([\\d\\.]+(?:deg|\\xb0|%)?\\s*,\\s*[\\d\\.]+%?\\s*,\\s*[\\d\\.]+(?:%?\\s*,\\s*[\\d\\.]+)?%?)\\s*\\))\\s*$/i;a._.separator=\n",
        "RegExp(\"[,\\t\\n\\x0B\\f\\r \\u00a0\\u1680\\u180e\\u2000\\u2001\\u2002\\u2003\\u2004\\u2005\\u2006\\u2007\\u2008\\u2009\\u200a\\u202f\\u205f\\u3000\\u2028\\u2029]+\");var S=RegExp(\"[\\t\\n\\x0B\\f\\r \\u00a0\\u1680\\u180e\\u2000\\u2001\\u2002\\u2003\\u2004\\u2005\\u2006\\u2007\\u2008\\u2009\\u200a\\u202f\\u205f\\u3000\\u2028\\u2029]*,[\\t\\n\\x0B\\f\\r \\u00a0\\u1680\\u180e\\u2000\\u2001\\u2002\\u2003\\u2004\\u2005\\u2006\\u2007\\u2008\\u2009\\u200a\\u202f\\u205f\\u3000\\u2028\\u2029]*\"),X={hs:1,rg:1},W=RegExp(\"([a-z])[\\t\\n\\x0B\\f\\r \\u00a0\\u1680\\u180e\\u2000\\u2001\\u2002\\u2003\\u2004\\u2005\\u2006\\u2007\\u2008\\u2009\\u200a\\u202f\\u205f\\u3000\\u2028\\u2029,]*((-?\\\\d*\\\\.?\\\\d*(?:e[\\\\-+]?\\\\d+)?[\\t\\n\\x0B\\f\\r \\u00a0\\u1680\\u180e\\u2000\\u2001\\u2002\\u2003\\u2004\\u2005\\u2006\\u2007\\u2008\\u2009\\u200a\\u202f\\u205f\\u3000\\u2028\\u2029]*,?[\\t\\n\\x0B\\f\\r \\u00a0\\u1680\\u180e\\u2000\\u2001\\u2002\\u2003\\u2004\\u2005\\u2006\\u2007\\u2008\\u2009\\u200a\\u202f\\u205f\\u3000\\u2028\\u2029]*)+)\",\n",
        "\"ig\"),ma=RegExp(\"([rstm])[\\t\\n\\x0B\\f\\r \\u00a0\\u1680\\u180e\\u2000\\u2001\\u2002\\u2003\\u2004\\u2005\\u2006\\u2007\\u2008\\u2009\\u200a\\u202f\\u205f\\u3000\\u2028\\u2029,]*((-?\\\\d*\\\\.?\\\\d*(?:e[\\\\-+]?\\\\d+)?[\\t\\n\\x0B\\f\\r \\u00a0\\u1680\\u180e\\u2000\\u2001\\u2002\\u2003\\u2004\\u2005\\u2006\\u2007\\u2008\\u2009\\u200a\\u202f\\u205f\\u3000\\u2028\\u2029]*,?[\\t\\n\\x0B\\f\\r \\u00a0\\u1680\\u180e\\u2000\\u2001\\u2002\\u2003\\u2004\\u2005\\u2006\\u2007\\u2008\\u2009\\u200a\\u202f\\u205f\\u3000\\u2028\\u2029]*)+)\",\"ig\"),Z=RegExp(\"(-?\\\\d*\\\\.?\\\\d*(?:e[\\\\-+]?\\\\d+)?)[\\t\\n\\x0B\\f\\r \\u00a0\\u1680\\u180e\\u2000\\u2001\\u2002\\u2003\\u2004\\u2005\\u2006\\u2007\\u2008\\u2009\\u200a\\u202f\\u205f\\u3000\\u2028\\u2029]*,?[\\t\\n\\x0B\\f\\r \\u00a0\\u1680\\u180e\\u2000\\u2001\\u2002\\u2003\\u2004\\u2005\\u2006\\u2007\\u2008\\u2009\\u200a\\u202f\\u205f\\u3000\\u2028\\u2029]*\",\n",
        "\"ig\"),na=0,ba=\"S\"+(+new Date).toString(36),V=function(){return ba+(na++).toString(36)},m=\"http://www.w3.org/1999/xlink\",la=\"http://www.w3.org/2000/svg\",E={},ca=a.url=function(c){return\"url('#\"+c+\"')\"};a._.$=v;a._.id=V;a.format=function(){var c=/\\{([^\\}]+)\\}/g,a=/(?:(?:^|\\.)(.+?)(?=\\[|\\.|$|\\()|\\[('|\")(.+?)\\2\\])(\\(\\))?/g,b=function(c,b,m){var h=m;b.replace(a,function(c,a,b,m,t){a=a||m;h&&(a in h&&(h=h[a]),\"function\"==typeof h&&t&&(h=h()))});return h=(null==h||h==m?c:h)+\"\"};return function(a,m){return J(a).replace(c,\n",
        "function(c,a){return b(c,a,m)})}}();a._.clone=M;a._.cacher=A;a.rad=z;a.deg=function(c){return 180*c/C%360};a.angle=w;a.is=y;a.snapTo=function(c,a,b){b=y(b,\"finite\")?b:10;if(y(c,\"array\"))for(var m=c.length;m--;){if(Y(c[m]-a)<=b)return c[m]}else{c=+c;m=a%c;if(m<b)return a-m;if(m>c-b)return a-m+c}return a};a.getRGB=A(function(c){if(!c||(c=J(c)).indexOf(\"-\")+1)return{r:-1,g:-1,b:-1,hex:\"none\",error:1,toString:ka};if(\"none\"==c)return{r:-1,g:-1,b:-1,hex:\"none\",toString:ka};!X[h](c.toLowerCase().substring(0,\n",
        "2))&&\"#\"!=c.charAt()&&(c=T(c));if(!c)return{r:-1,g:-1,b:-1,hex:\"none\",error:1,toString:ka};var b,m,e,f,d;if(c=c.match(F)){c[2]&&(e=U(c[2].substring(5),16),m=U(c[2].substring(3,5),16),b=U(c[2].substring(1,3),16));c[3]&&(e=U((d=c[3].charAt(3))+d,16),m=U((d=c[3].charAt(2))+d,16),b=U((d=c[3].charAt(1))+d,16));c[4]&&(d=c[4].split(S),b=K(d[0]),\"%\"==d[0].slice(-1)&&(b*=2.55),m=K(d[1]),\"%\"==d[1].slice(-1)&&(m*=2.55),e=K(d[2]),\"%\"==d[2].slice(-1)&&(e*=2.55),\"rgba\"==c[1].toLowerCase().slice(0,4)&&(f=K(d[3])),\n",
        "d[3]&&\"%\"==d[3].slice(-1)&&(f/=100));if(c[5])return d=c[5].split(S),b=K(d[0]),\"%\"==d[0].slice(-1)&&(b/=100),m=K(d[1]),\"%\"==d[1].slice(-1)&&(m/=100),e=K(d[2]),\"%\"==d[2].slice(-1)&&(e/=100),\"deg\"!=d[0].slice(-3)&&\"\\u00b0\"!=d[0].slice(-1)||(b/=360),\"hsba\"==c[1].toLowerCase().slice(0,4)&&(f=K(d[3])),d[3]&&\"%\"==d[3].slice(-1)&&(f/=100),a.hsb2rgb(b,m,e,f);if(c[6])return d=c[6].split(S),b=K(d[0]),\"%\"==d[0].slice(-1)&&(b/=100),m=K(d[1]),\"%\"==d[1].slice(-1)&&(m/=100),e=K(d[2]),\"%\"==d[2].slice(-1)&&(e/=100),\n",
        "\"deg\"!=d[0].slice(-3)&&\"\\u00b0\"!=d[0].slice(-1)||(b/=360),\"hsla\"==c[1].toLowerCase().slice(0,4)&&(f=K(d[3])),d[3]&&\"%\"==d[3].slice(-1)&&(f/=100),a.hsl2rgb(b,m,e,f);b=Q(I.round(b),255);m=Q(I.round(m),255);e=Q(I.round(e),255);f=Q(P(f,0),1);c={r:b,g:m,b:e,toString:ka};c.hex=\"#\"+(16777216|e|m<<8|b<<16).toString(16).slice(1);c.opacity=y(f,\"finite\")?f:1;return c}return{r:-1,g:-1,b:-1,hex:\"none\",error:1,toString:ka}},a);a.hsb=A(function(c,b,m){return a.hsb2rgb(c,b,m).hex});a.hsl=A(function(c,b,m){return a.hsl2rgb(c,\n",
        "b,m).hex});a.rgb=A(function(c,a,b,m){if(y(m,\"finite\")){var e=I.round;return\"rgba(\"+[e(c),e(a),e(b),+m.toFixed(2)]+\")\"}return\"#\"+(16777216|b|a<<8|c<<16).toString(16).slice(1)});var T=function(c){var a=G.doc.getElementsByTagName(\"head\")[0]||G.doc.getElementsByTagName(\"svg\")[0];T=A(function(c){if(\"red\"==c.toLowerCase())return\"rgb(255, 0, 0)\";a.style.color=\"rgb(255, 0, 0)\";a.style.color=c;c=G.doc.defaultView.getComputedStyle(a,aa).getPropertyValue(\"color\");return\"rgb(255, 0, 0)\"==c?null:c});return T(c)},\n",
        "qa=function(){return\"hsb(\"+[this.h,this.s,this.b]+\")\"},ra=function(){return\"hsl(\"+[this.h,this.s,this.l]+\")\"},ka=function(){return 1==this.opacity||null==this.opacity?this.hex:\"rgba(\"+[this.r,this.g,this.b,this.opacity]+\")\"},D=function(c,b,m){null==b&&y(c,\"object\")&&\"r\"in c&&\"g\"in c&&\"b\"in c&&(m=c.b,b=c.g,c=c.r);null==b&&y(c,string)&&(m=a.getRGB(c),c=m.r,b=m.g,m=m.b);if(1<c||1<b||1<m)c/=255,b/=255,m/=255;return[c,b,m]},oa=function(c,b,m,e){c=I.round(255*c);b=I.round(255*b);m=I.round(255*m);c={r:c,\n",
        "g:b,b:m,opacity:y(e,\"finite\")?e:1,hex:a.rgb(c,b,m),toString:ka};y(e,\"finite\")&&(c.opacity=e);return c};a.color=function(c){var b;y(c,\"object\")&&\"h\"in c&&\"s\"in c&&\"b\"in c?(b=a.hsb2rgb(c),c.r=b.r,c.g=b.g,c.b=b.b,c.opacity=1,c.hex=b.hex):y(c,\"object\")&&\"h\"in c&&\"s\"in c&&\"l\"in c?(b=a.hsl2rgb(c),c.r=b.r,c.g=b.g,c.b=b.b,c.opacity=1,c.hex=b.hex):(y(c,\"string\")&&(c=a.getRGB(c)),y(c,\"object\")&&\"r\"in c&&\"g\"in c&&\"b\"in c&&!(\"error\"in c)?(b=a.rgb2hsl(c),c.h=b.h,c.s=b.s,c.l=b.l,b=a.rgb2hsb(c),c.v=b.b):(c={hex:\"none\"},\n",
        "c.r=c.g=c.b=c.h=c.s=c.v=c.l=-1,c.error=1));c.toString=ka;return c};a.hsb2rgb=function(c,a,b,m){y(c,\"object\")&&\"h\"in c&&\"s\"in c&&\"b\"in c&&(b=c.b,a=c.s,c=c.h,m=c.o);var e,h,d;c=360*c%360/60;d=b*a;a=d*(1-Y(c%2-1));b=e=h=b-d;c=~~c;b+=[d,a,0,0,a,d][c];e+=[a,d,d,a,0,0][c];h+=[0,0,a,d,d,a][c];return oa(b,e,h,m)};a.hsl2rgb=function(c,a,b,m){y(c,\"object\")&&\"h\"in c&&\"s\"in c&&\"l\"in c&&(b=c.l,a=c.s,c=c.h);if(1<c||1<a||1<b)c/=360,a/=100,b/=100;var e,h,d;c=360*c%360/60;d=2*a*(0.5>b?b:1-b);a=d*(1-Y(c%2-1));b=e=\n",
        "h=b-d/2;c=~~c;b+=[d,a,0,0,a,d][c];e+=[a,d,d,a,0,0][c];h+=[0,0,a,d,d,a][c];return oa(b,e,h,m)};a.rgb2hsb=function(c,a,b){b=D(c,a,b);c=b[0];a=b[1];b=b[2];var m,e;m=P(c,a,b);e=m-Q(c,a,b);c=((0==e?0:m==c?(a-b)/e:m==a?(b-c)/e+2:(c-a)/e+4)+360)%6*60/360;return{h:c,s:0==e?0:e/m,b:m,toString:qa}};a.rgb2hsl=function(c,a,b){b=D(c,a,b);c=b[0];a=b[1];b=b[2];var m,e,h;m=P(c,a,b);e=Q(c,a,b);h=m-e;c=((0==h?0:m==c?(a-b)/h:m==a?(b-c)/h+2:(c-a)/h+4)+360)%6*60/360;m=(m+e)/2;return{h:c,s:0==h?0:0.5>m?h/(2*m):h/(2-2*\n",
        "m),l:m,toString:ra}};a.parsePathString=function(c){if(!c)return null;var b=a.path(c);if(b.arr)return a.path.clone(b.arr);var m={a:7,c:6,o:2,h:1,l:2,m:2,r:4,q:4,s:4,t:2,v:1,u:3,z:0},e=[];y(c,\"array\")&&y(c[0],\"array\")&&(e=a.path.clone(c));e.length||J(c).replace(W,function(c,a,b){var h=[];c=a.toLowerCase();b.replace(Z,function(c,a){a&&h.push(+a)});\"m\"==c&&2<h.length&&(e.push([a].concat(h.splice(0,2))),c=\"l\",a=\"m\"==a?\"l\":\"L\");\"o\"==c&&1==h.length&&e.push([a,h[0] ]);if(\"r\"==c)e.push([a].concat(h));else for(;h.length>=\n",
        "m[c]&&(e.push([a].concat(h.splice(0,m[c]))),m[c]););});e.toString=a.path.toString;b.arr=a.path.clone(e);return e};var O=a.parseTransformString=function(c){if(!c)return null;var b=[];y(c,\"array\")&&y(c[0],\"array\")&&(b=a.path.clone(c));b.length||J(c).replace(ma,function(c,a,m){var e=[];a.toLowerCase();m.replace(Z,function(c,a){a&&e.push(+a)});b.push([a].concat(e))});b.toString=a.path.toString;return b};a._.svgTransform2string=d;a._.rgTransform=RegExp(\"^[a-z][\\t\\n\\x0B\\f\\r \\u00a0\\u1680\\u180e\\u2000\\u2001\\u2002\\u2003\\u2004\\u2005\\u2006\\u2007\\u2008\\u2009\\u200a\\u202f\\u205f\\u3000\\u2028\\u2029]*-?\\\\.?\\\\d\",\n",
        "\"i\");a._.transform2matrix=f;a._unit2px=b;a._.getSomeDefs=u;a._.getSomeSVG=p;a.select=function(c){return x(G.doc.querySelector(c))};a.selectAll=function(c){c=G.doc.querySelectorAll(c);for(var b=(a.set||Array)(),m=0;m<c.length;m++)b.push(x(c[m]));return b};setInterval(function(){for(var c in E)if(E[h](c)){var a=E[c],b=a.node;(\"svg\"!=a.type&&!b.ownerSVGElement||\"svg\"==a.type&&(!b.parentNode||\"ownerSVGElement\"in b.parentNode&&!b.ownerSVGElement))&&delete E[c]}},1E4);(function(c){function m(c){function a(c,\n",
        "b){var m=v(c.node,b);(m=(m=m&&m.match(d))&&m[2])&&\"#\"==m.charAt()&&(m=m.substring(1))&&(f[m]=(f[m]||[]).concat(function(a){var m={};m[b]=ca(a);v(c.node,m)}))}function b(c){var a=v(c.node,\"xlink:href\");a&&\"#\"==a.charAt()&&(a=a.substring(1))&&(f[a]=(f[a]||[]).concat(function(a){c.attr(\"xlink:href\",\"#\"+a)}))}var e=c.selectAll(\"*\"),h,d=/^\\s*url\\((\"|'|)(.*)\\1\\)\\s*$/;c=[];for(var f={},l=0,E=e.length;l<E;l++){h=e[l];a(h,\"fill\");a(h,\"stroke\");a(h,\"filter\");a(h,\"mask\");a(h,\"clip-path\");b(h);var t=v(h.node,\n",
        "\"id\");t&&(v(h.node,{id:h.id}),c.push({old:t,id:h.id}))}l=0;for(E=c.length;l<E;l++)if(e=f[c[l].old])for(h=0,t=e.length;h<t;h++)e[h](c[l].id)}function e(c,a,b){return function(m){m=m.slice(c,a);1==m.length&&(m=m[0]);return b?b(m):m}}function d(c){return function(){var a=c?\"<\"+this.type:\"\",b=this.node.attributes,m=this.node.childNodes;if(c)for(var e=0,h=b.length;e<h;e++)a+=\" \"+b[e].name+'=\"'+b[e].value.replace(/\"/g,'\\\\\"')+'\"';if(m.length){c&&(a+=\">\");e=0;for(h=m.length;e<h;e++)3==m[e].nodeType?a+=m[e].nodeValue:\n",
        "1==m[e].nodeType&&(a+=x(m[e]).toString());c&&(a+=\"</\"+this.type+\">\")}else c&&(a+=\"/>\");return a}}c.attr=function(c,a){if(!c)return this;if(y(c,\"string\"))if(1<arguments.length){var b={};b[c]=a;c=b}else return k(\"snap.util.getattr.\"+c,this).firstDefined();for(var m in c)c[h](m)&&k(\"snap.util.attr.\"+m,this,c[m]);return this};c.getBBox=function(c){if(!a.Matrix||!a.path)return this.node.getBBox();var b=this,m=new a.Matrix;if(b.removed)return a._.box();for(;\"use\"==b.type;)if(c||(m=m.add(b.transform().localMatrix.translate(b.attr(\"x\")||\n",
        "0,b.attr(\"y\")||0))),b.original)b=b.original;else var e=b.attr(\"xlink:href\"),b=b.original=b.node.ownerDocument.getElementById(e.substring(e.indexOf(\"#\")+1));var e=b._,h=a.path.get[b.type]||a.path.get.deflt;try{if(c)return e.bboxwt=h?a.path.getBBox(b.realPath=h(b)):a._.box(b.node.getBBox()),a._.box(e.bboxwt);b.realPath=h(b);b.matrix=b.transform().localMatrix;e.bbox=a.path.getBBox(a.path.map(b.realPath,m.add(b.matrix)));return a._.box(e.bbox)}catch(d){return a._.box()}};var f=function(){return this.string};\n",
        "c.transform=function(c){var b=this._;if(null==c){var m=this;c=new a.Matrix(this.node.getCTM());for(var e=n(this),h=[e],d=new a.Matrix,l=e.toTransformString(),b=J(e)==J(this.matrix)?J(b.transform):l;\"svg\"!=m.type&&(m=m.parent());)h.push(n(m));for(m=h.length;m--;)d.add(h[m]);return{string:b,globalMatrix:c,totalMatrix:d,localMatrix:e,diffMatrix:c.clone().add(e.invert()),global:c.toTransformString(),total:d.toTransformString(),local:l,toString:f}}c instanceof a.Matrix?this.matrix=c:n(this,c);this.node&&\n",
        "(\"linearGradient\"==this.type||\"radialGradient\"==this.type?v(this.node,{gradientTransform:this.matrix}):\"pattern\"==this.type?v(this.node,{patternTransform:this.matrix}):v(this.node,{transform:this.matrix}));return this};c.parent=function(){return x(this.node.parentNode)};c.append=c.add=function(c){if(c){if(\"set\"==c.type){var a=this;c.forEach(function(c){a.add(c)});return this}c=x(c);this.node.appendChild(c.node);c.paper=this.paper}return this};c.appendTo=function(c){c&&(c=x(c),c.append(this));return this};\n",
        "c.prepend=function(c){if(c){if(\"set\"==c.type){var a=this,b;c.forEach(function(c){b?b.after(c):a.prepend(c);b=c});return this}c=x(c);var m=c.parent();this.node.insertBefore(c.node,this.node.firstChild);this.add&&this.add();c.paper=this.paper;this.parent()&&this.parent().add();m&&m.add()}return this};c.prependTo=function(c){c=x(c);c.prepend(this);return this};c.before=function(c){if(\"set\"==c.type){var a=this;c.forEach(function(c){var b=c.parent();a.node.parentNode.insertBefore(c.node,a.node);b&&b.add()});\n",
        "this.parent().add();return this}c=x(c);var b=c.parent();this.node.parentNode.insertBefore(c.node,this.node);this.parent()&&this.parent().add();b&&b.add();c.paper=this.paper;return this};c.after=function(c){c=x(c);var a=c.parent();this.node.nextSibling?this.node.parentNode.insertBefore(c.node,this.node.nextSibling):this.node.parentNode.appendChild(c.node);this.parent()&&this.parent().add();a&&a.add();c.paper=this.paper;return this};c.insertBefore=function(c){c=x(c);var a=this.parent();c.node.parentNode.insertBefore(this.node,\n",
        "c.node);this.paper=c.paper;a&&a.add();c.parent()&&c.parent().add();return this};c.insertAfter=function(c){c=x(c);var a=this.parent();c.node.parentNode.insertBefore(this.node,c.node.nextSibling);this.paper=c.paper;a&&a.add();c.parent()&&c.parent().add();return this};c.remove=function(){var c=this.parent();this.node.parentNode&&this.node.parentNode.removeChild(this.node);delete this.paper;this.removed=!0;c&&c.add();return this};c.select=function(c){return x(this.node.querySelector(c))};c.selectAll=\n",
        "function(c){c=this.node.querySelectorAll(c);for(var b=(a.set||Array)(),m=0;m<c.length;m++)b.push(x(c[m]));return b};c.asPX=function(c,a){null==a&&(a=this.attr(c));return+b(this,c,a)};c.use=function(){var c,a=this.node.id;a||(a=this.id,v(this.node,{id:a}));c=\"linearGradient\"==this.type||\"radialGradient\"==this.type||\"pattern\"==this.type?r(this.type,this.node.parentNode):r(\"use\",this.node.parentNode);v(c.node,{\"xlink:href\":\"#\"+a});c.original=this;return c};var l=/\\S+/g;c.addClass=function(c){var a=(c||\n",
        "\"\").match(l)||[];c=this.node;var b=c.className.baseVal,m=b.match(l)||[],e,h,d;if(a.length){for(e=0;d=a[e++];)h=m.indexOf(d),~h||m.push(d);a=m.join(\" \");b!=a&&(c.className.baseVal=a)}return this};c.removeClass=function(c){var a=(c||\"\").match(l)||[];c=this.node;var b=c.className.baseVal,m=b.match(l)||[],e,h;if(m.length){for(e=0;h=a[e++];)h=m.indexOf(h),~h&&m.splice(h,1);a=m.join(\" \");b!=a&&(c.className.baseVal=a)}return this};c.hasClass=function(c){return!!~(this.node.className.baseVal.match(l)||[]).indexOf(c)};\n",
        "c.toggleClass=function(c,a){if(null!=a)return a?this.addClass(c):this.removeClass(c);var b=(c||\"\").match(l)||[],m=this.node,e=m.className.baseVal,h=e.match(l)||[],d,f,E;for(d=0;E=b[d++];)f=h.indexOf(E),~f?h.splice(f,1):h.push(E);b=h.join(\" \");e!=b&&(m.className.baseVal=b);return this};c.clone=function(){var c=x(this.node.cloneNode(!0));v(c.node,\"id\")&&v(c.node,{id:c.id});m(c);c.insertAfter(this);return c};c.toDefs=function(){u(this).appendChild(this.node);return this};c.pattern=c.toPattern=function(c,\n",
        "a,b,m){var e=r(\"pattern\",u(this));null==c&&(c=this.getBBox());y(c,\"object\")&&\"x\"in c&&(a=c.y,b=c.width,m=c.height,c=c.x);v(e.node,{x:c,y:a,width:b,height:m,patternUnits:\"userSpaceOnUse\",id:e.id,viewBox:[c,a,b,m].join(\" \")});e.node.appendChild(this.node);return e};c.marker=function(c,a,b,m,e,h){var d=r(\"marker\",u(this));null==c&&(c=this.getBBox());y(c,\"object\")&&\"x\"in c&&(a=c.y,b=c.width,m=c.height,e=c.refX||c.cx,h=c.refY||c.cy,c=c.x);v(d.node,{viewBox:[c,a,b,m].join(\" \"),markerWidth:b,markerHeight:m,\n",
        "orient:\"auto\",refX:e||0,refY:h||0,id:d.id});d.node.appendChild(this.node);return d};var E=function(c,a,b,m){\"function\"!=typeof b||b.length||(m=b,b=L.linear);this.attr=c;this.dur=a;b&&(this.easing=b);m&&(this.callback=m)};a._.Animation=E;a.animation=function(c,a,b,m){return new E(c,a,b,m)};c.inAnim=function(){var c=[],a;for(a in this.anims)this.anims[h](a)&&function(a){c.push({anim:new E(a._attrs,a.dur,a.easing,a._callback),mina:a,curStatus:a.status(),status:function(c){return a.status(c)},stop:function(){a.stop()}})}(this.anims[a]);\n",
        "return c};a.animate=function(c,a,b,m,e,h){\"function\"!=typeof e||e.length||(h=e,e=L.linear);var d=L.time();c=L(c,a,d,d+m,L.time,b,e);h&&k.once(\"mina.finish.\"+c.id,h);return c};c.stop=function(){for(var c=this.inAnim(),a=0,b=c.length;a<b;a++)c[a].stop();return this};c.animate=function(c,a,b,m){\"function\"!=typeof b||b.length||(m=b,b=L.linear);c instanceof E&&(m=c.callback,b=c.easing,a=b.dur,c=c.attr);var d=[],f=[],l={},t,ca,n,T=this,q;for(q in c)if(c[h](q)){T.equal?(n=T.equal(q,J(c[q])),t=n.from,ca=\n",
        "n.to,n=n.f):(t=+T.attr(q),ca=+c[q]);var la=y(t,\"array\")?t.length:1;l[q]=e(d.length,d.length+la,n);d=d.concat(t);f=f.concat(ca)}t=L.time();var p=L(d,f,t,t+a,L.time,function(c){var a={},b;for(b in l)l[h](b)&&(a[b]=l[b](c));T.attr(a)},b);T.anims[p.id]=p;p._attrs=c;p._callback=m;k(\"snap.animcreated.\"+T.id,p);k.once(\"mina.finish.\"+p.id,function(){delete T.anims[p.id];m&&m.call(T)});k.once(\"mina.stop.\"+p.id,function(){delete T.anims[p.id]});return T};var T={};c.data=function(c,b){var m=T[this.id]=T[this.id]||\n",
        "{};if(0==arguments.length)return k(\"snap.data.get.\"+this.id,this,m,null),m;if(1==arguments.length){if(a.is(c,\"object\")){for(var e in c)c[h](e)&&this.data(e,c[e]);return this}k(\"snap.data.get.\"+this.id,this,m[c],c);return m[c]}m[c]=b;k(\"snap.data.set.\"+this.id,this,b,c);return this};c.removeData=function(c){null==c?T[this.id]={}:T[this.id]&&delete T[this.id][c];return this};c.outerSVG=c.toString=d(1);c.innerSVG=d()})(e.prototype);a.parse=function(c){var a=G.doc.createDocumentFragment(),b=!0,m=G.doc.createElement(\"div\");\n",
        "c=J(c);c.match(/^\\s*<\\s*svg(?:\\s|>)/)||(c=\"<svg>\"+c+\"</svg>\",b=!1);m.innerHTML=c;if(c=m.getElementsByTagName(\"svg\")[0])if(b)a=c;else for(;c.firstChild;)a.appendChild(c.firstChild);m.innerHTML=aa;return new l(a)};l.prototype.select=e.prototype.select;l.prototype.selectAll=e.prototype.selectAll;a.fragment=function(){for(var c=Array.prototype.slice.call(arguments,0),b=G.doc.createDocumentFragment(),m=0,e=c.length;m<e;m++){var h=c[m];h.node&&h.node.nodeType&&b.appendChild(h.node);h.nodeType&&b.appendChild(h);\n",
        "\"string\"==typeof h&&b.appendChild(a.parse(h).node)}return new l(b)};a._.make=r;a._.wrap=x;s.prototype.el=function(c,a){var b=r(c,this.node);a&&b.attr(a);return b};k.on(\"snap.util.getattr\",function(){var c=k.nt(),c=c.substring(c.lastIndexOf(\".\")+1),a=c.replace(/[A-Z]/g,function(c){return\"-\"+c.toLowerCase()});return pa[h](a)?this.node.ownerDocument.defaultView.getComputedStyle(this.node,null).getPropertyValue(a):v(this.node,c)});var pa={\"alignment-baseline\":0,\"baseline-shift\":0,clip:0,\"clip-path\":0,\n",
        "\"clip-rule\":0,color:0,\"color-interpolation\":0,\"color-interpolation-filters\":0,\"color-profile\":0,\"color-rendering\":0,cursor:0,direction:0,display:0,\"dominant-baseline\":0,\"enable-background\":0,fill:0,\"fill-opacity\":0,\"fill-rule\":0,filter:0,\"flood-color\":0,\"flood-opacity\":0,font:0,\"font-family\":0,\"font-size\":0,\"font-size-adjust\":0,\"font-stretch\":0,\"font-style\":0,\"font-variant\":0,\"font-weight\":0,\"glyph-orientation-horizontal\":0,\"glyph-orientation-vertical\":0,\"image-rendering\":0,kerning:0,\"letter-spacing\":0,\n",
        "\"lighting-color\":0,marker:0,\"marker-end\":0,\"marker-mid\":0,\"marker-start\":0,mask:0,opacity:0,overflow:0,\"pointer-events\":0,\"shape-rendering\":0,\"stop-color\":0,\"stop-opacity\":0,stroke:0,\"stroke-dasharray\":0,\"stroke-dashoffset\":0,\"stroke-linecap\":0,\"stroke-linejoin\":0,\"stroke-miterlimit\":0,\"stroke-opacity\":0,\"stroke-width\":0,\"text-anchor\":0,\"text-decoration\":0,\"text-rendering\":0,\"unicode-bidi\":0,visibility:0,\"word-spacing\":0,\"writing-mode\":0};k.on(\"snap.util.attr\",function(c){var a=k.nt(),b={},a=a.substring(a.lastIndexOf(\".\")+\n",
        "1);b[a]=c;var m=a.replace(/-(\\w)/gi,function(c,a){return a.toUpperCase()}),a=a.replace(/[A-Z]/g,function(c){return\"-\"+c.toLowerCase()});pa[h](a)?this.node.style[m]=null==c?aa:c:v(this.node,b)});a.ajax=function(c,a,b,m){var e=new XMLHttpRequest,h=V();if(e){if(y(a,\"function\"))m=b,b=a,a=null;else if(y(a,\"object\")){var d=[],f;for(f in a)a.hasOwnProperty(f)&&d.push(encodeURIComponent(f)+\"=\"+encodeURIComponent(a[f]));a=d.join(\"&\")}e.open(a?\"POST\":\"GET\",c,!0);a&&(e.setRequestHeader(\"X-Requested-With\",\"XMLHttpRequest\"),\n",
        "e.setRequestHeader(\"Content-type\",\"application/x-www-form-urlencoded\"));b&&(k.once(\"snap.ajax.\"+h+\".0\",b),k.once(\"snap.ajax.\"+h+\".200\",b),k.once(\"snap.ajax.\"+h+\".304\",b));e.onreadystatechange=function(){4==e.readyState&&k(\"snap.ajax.\"+h+\".\"+e.status,m,e)};if(4==e.readyState)return e;e.send(a);return e}};a.load=function(c,b,m){a.ajax(c,function(c){c=a.parse(c.responseText);m?b.call(m,c):b(c)})};a.getElementByPoint=function(c,a){var b,m,e=G.doc.elementFromPoint(c,a);if(G.win.opera&&\"svg\"==e.tagName){b=\n",
        "e;m=b.getBoundingClientRect();b=b.ownerDocument;var h=b.body,d=b.documentElement;b=m.top+(g.win.pageYOffset||d.scrollTop||h.scrollTop)-(d.clientTop||h.clientTop||0);m=m.left+(g.win.pageXOffset||d.scrollLeft||h.scrollLeft)-(d.clientLeft||h.clientLeft||0);h=e.createSVGRect();h.x=c-m;h.y=a-b;h.width=h.height=1;b=e.getIntersectionList(h,null);b.length&&(e=b[b.length-1])}return e?x(e):null};a.plugin=function(c){c(a,e,s,G,l)};return G.win.Snap=a}();C.plugin(function(a,k,y,M,A){function w(a,d,f,b,q,e){null==\n",
        "d&&\"[object SVGMatrix]\"==z.call(a)?(this.a=a.a,this.b=a.b,this.c=a.c,this.d=a.d,this.e=a.e,this.f=a.f):null!=a?(this.a=+a,this.b=+d,this.c=+f,this.d=+b,this.e=+q,this.f=+e):(this.a=1,this.c=this.b=0,this.d=1,this.f=this.e=0)}var z=Object.prototype.toString,d=String,f=Math;(function(n){function k(a){return a[0]*a[0]+a[1]*a[1]}function p(a){var d=f.sqrt(k(a));a[0]&&(a[0]/=d);a[1]&&(a[1]/=d)}n.add=function(a,d,e,f,n,p){var k=[[],[],[] ],u=[[this.a,this.c,this.e],[this.b,this.d,this.f],[0,0,1] ];d=[[a,\n",
        "e,n],[d,f,p],[0,0,1] ];a&&a instanceof w&&(d=[[a.a,a.c,a.e],[a.b,a.d,a.f],[0,0,1] ]);for(a=0;3>a;a++)for(e=0;3>e;e++){for(f=n=0;3>f;f++)n+=u[a][f]*d[f][e];k[a][e]=n}this.a=k[0][0];this.b=k[1][0];this.c=k[0][1];this.d=k[1][1];this.e=k[0][2];this.f=k[1][2];return this};n.invert=function(){var a=this.a*this.d-this.b*this.c;return new w(this.d/a,-this.b/a,-this.c/a,this.a/a,(this.c*this.f-this.d*this.e)/a,(this.b*this.e-this.a*this.f)/a)};n.clone=function(){return new w(this.a,this.b,this.c,this.d,this.e,\n",
        "this.f)};n.translate=function(a,d){return this.add(1,0,0,1,a,d)};n.scale=function(a,d,e,f){null==d&&(d=a);(e||f)&&this.add(1,0,0,1,e,f);this.add(a,0,0,d,0,0);(e||f)&&this.add(1,0,0,1,-e,-f);return this};n.rotate=function(b,d,e){b=a.rad(b);d=d||0;e=e||0;var l=+f.cos(b).toFixed(9);b=+f.sin(b).toFixed(9);this.add(l,b,-b,l,d,e);return this.add(1,0,0,1,-d,-e)};n.x=function(a,d){return a*this.a+d*this.c+this.e};n.y=function(a,d){return a*this.b+d*this.d+this.f};n.get=function(a){return+this[d.fromCharCode(97+\n",
        "a)].toFixed(4)};n.toString=function(){return\"matrix(\"+[this.get(0),this.get(1),this.get(2),this.get(3),this.get(4),this.get(5)].join()+\")\"};n.offset=function(){return[this.e.toFixed(4),this.f.toFixed(4)]};n.determinant=function(){return this.a*this.d-this.b*this.c};n.split=function(){var b={};b.dx=this.e;b.dy=this.f;var d=[[this.a,this.c],[this.b,this.d] ];b.scalex=f.sqrt(k(d[0]));p(d[0]);b.shear=d[0][0]*d[1][0]+d[0][1]*d[1][1];d[1]=[d[1][0]-d[0][0]*b.shear,d[1][1]-d[0][1]*b.shear];b.scaley=f.sqrt(k(d[1]));\n",
        "p(d[1]);b.shear/=b.scaley;0>this.determinant()&&(b.scalex=-b.scalex);var e=-d[0][1],d=d[1][1];0>d?(b.rotate=a.deg(f.acos(d)),0>e&&(b.rotate=360-b.rotate)):b.rotate=a.deg(f.asin(e));b.isSimple=!+b.shear.toFixed(9)&&(b.scalex.toFixed(9)==b.scaley.toFixed(9)||!b.rotate);b.isSuperSimple=!+b.shear.toFixed(9)&&b.scalex.toFixed(9)==b.scaley.toFixed(9)&&!b.rotate;b.noRotation=!+b.shear.toFixed(9)&&!b.rotate;return b};n.toTransformString=function(a){a=a||this.split();if(+a.shear.toFixed(9))return\"m\"+[this.get(0),\n",
        "this.get(1),this.get(2),this.get(3),this.get(4),this.get(5)];a.scalex=+a.scalex.toFixed(4);a.scaley=+a.scaley.toFixed(4);a.rotate=+a.rotate.toFixed(4);return(a.dx||a.dy?\"t\"+[+a.dx.toFixed(4),+a.dy.toFixed(4)]:\"\")+(1!=a.scalex||1!=a.scaley?\"s\"+[a.scalex,a.scaley,0,0]:\"\")+(a.rotate?\"r\"+[+a.rotate.toFixed(4),0,0]:\"\")}})(w.prototype);a.Matrix=w;a.matrix=function(a,d,f,b,k,e){return new w(a,d,f,b,k,e)}});C.plugin(function(a,v,y,M,A){function w(h){return function(d){k.stop();d instanceof A&&1==d.node.childNodes.length&&\n",
        "(\"radialGradient\"==d.node.firstChild.tagName||\"linearGradient\"==d.node.firstChild.tagName||\"pattern\"==d.node.firstChild.tagName)&&(d=d.node.firstChild,b(this).appendChild(d),d=u(d));if(d instanceof v)if(\"radialGradient\"==d.type||\"linearGradient\"==d.type||\"pattern\"==d.type){d.node.id||e(d.node,{id:d.id});var f=l(d.node.id)}else f=d.attr(h);else f=a.color(d),f.error?(f=a(b(this).ownerSVGElement).gradient(d))?(f.node.id||e(f.node,{id:f.id}),f=l(f.node.id)):f=d:f=r(f);d={};d[h]=f;e(this.node,d);this.node.style[h]=\n",
        "x}}function z(a){k.stop();a==+a&&(a+=\"px\");this.node.style.fontSize=a}function d(a){var b=[];a=a.childNodes;for(var e=0,f=a.length;e<f;e++){var l=a[e];3==l.nodeType&&b.push(l.nodeValue);\"tspan\"==l.tagName&&(1==l.childNodes.length&&3==l.firstChild.nodeType?b.push(l.firstChild.nodeValue):b.push(d(l)))}return b}function f(){k.stop();return this.node.style.fontSize}var n=a._.make,u=a._.wrap,p=a.is,b=a._.getSomeDefs,q=/^url\\(#?([^)]+)\\)$/,e=a._.$,l=a.url,r=String,s=a._.separator,x=\"\";k.on(\"snap.util.attr.mask\",\n",
        "function(a){if(a instanceof v||a instanceof A){k.stop();a instanceof A&&1==a.node.childNodes.length&&(a=a.node.firstChild,b(this).appendChild(a),a=u(a));if(\"mask\"==a.type)var d=a;else d=n(\"mask\",b(this)),d.node.appendChild(a.node);!d.node.id&&e(d.node,{id:d.id});e(this.node,{mask:l(d.id)})}});(function(a){k.on(\"snap.util.attr.clip\",a);k.on(\"snap.util.attr.clip-path\",a);k.on(\"snap.util.attr.clipPath\",a)})(function(a){if(a instanceof v||a instanceof A){k.stop();if(\"clipPath\"==a.type)var d=a;else d=\n",
        "n(\"clipPath\",b(this)),d.node.appendChild(a.node),!d.node.id&&e(d.node,{id:d.id});e(this.node,{\"clip-path\":l(d.id)})}});k.on(\"snap.util.attr.fill\",w(\"fill\"));k.on(\"snap.util.attr.stroke\",w(\"stroke\"));var G=/^([lr])(?:\\(([^)]*)\\))?(.*)$/i;k.on(\"snap.util.grad.parse\",function(a){a=r(a);var b=a.match(G);if(!b)return null;a=b[1];var e=b[2],b=b[3],e=e.split(/\\s*,\\s*/).map(function(a){return+a==a?+a:a});1==e.length&&0==e[0]&&(e=[]);b=b.split(\"-\");b=b.map(function(a){a=a.split(\":\");var b={color:a[0]};a[1]&&\n",
        "(b.offset=parseFloat(a[1]));return b});return{type:a,params:e,stops:b}});k.on(\"snap.util.attr.d\",function(b){k.stop();p(b,\"array\")&&p(b[0],\"array\")&&(b=a.path.toString.call(b));b=r(b);b.match(/[ruo]/i)&&(b=a.path.toAbsolute(b));e(this.node,{d:b})})(-1);k.on(\"snap.util.attr.#text\",function(a){k.stop();a=r(a);for(a=M.doc.createTextNode(a);this.node.firstChild;)this.node.removeChild(this.node.firstChild);this.node.appendChild(a)})(-1);k.on(\"snap.util.attr.path\",function(a){k.stop();this.attr({d:a})})(-1);\n",
        "k.on(\"snap.util.attr.class\",function(a){k.stop();this.node.className.baseVal=a})(-1);k.on(\"snap.util.attr.viewBox\",function(a){a=p(a,\"object\")&&\"x\"in a?[a.x,a.y,a.width,a.height].join(\" \"):p(a,\"array\")?a.join(\" \"):a;e(this.node,{viewBox:a});k.stop()})(-1);k.on(\"snap.util.attr.transform\",function(a){this.transform(a);k.stop()})(-1);k.on(\"snap.util.attr.r\",function(a){\"rect\"==this.type&&(k.stop(),e(this.node,{rx:a,ry:a}))})(-1);k.on(\"snap.util.attr.textpath\",function(a){k.stop();if(\"text\"==this.type){var d,\n",
        "f;if(!a&&this.textPath){for(a=this.textPath;a.node.firstChild;)this.node.appendChild(a.node.firstChild);a.remove();delete this.textPath}else if(p(a,\"string\")?(d=b(this),a=u(d.parentNode).path(a),d.appendChild(a.node),d=a.id,a.attr({id:d})):(a=u(a),a instanceof v&&(d=a.attr(\"id\"),d||(d=a.id,a.attr({id:d})))),d)if(a=this.textPath,f=this.node,a)a.attr({\"xlink:href\":\"#\"+d});else{for(a=e(\"textPath\",{\"xlink:href\":\"#\"+d});f.firstChild;)a.appendChild(f.firstChild);f.appendChild(a);this.textPath=u(a)}}})(-1);\n",
        "k.on(\"snap.util.attr.text\",function(a){if(\"text\"==this.type){for(var b=this.node,d=function(a){var b=e(\"tspan\");if(p(a,\"array\"))for(var f=0;f<a.length;f++)b.appendChild(d(a[f]));else b.appendChild(M.doc.createTextNode(a));b.normalize&&b.normalize();return b};b.firstChild;)b.removeChild(b.firstChild);for(a=d(a);a.firstChild;)b.appendChild(a.firstChild)}k.stop()})(-1);k.on(\"snap.util.attr.fontSize\",z)(-1);k.on(\"snap.util.attr.font-size\",z)(-1);k.on(\"snap.util.getattr.transform\",function(){k.stop();\n",
        "return this.transform()})(-1);k.on(\"snap.util.getattr.textpath\",function(){k.stop();return this.textPath})(-1);(function(){function b(d){return function(){k.stop();var b=M.doc.defaultView.getComputedStyle(this.node,null).getPropertyValue(\"marker-\"+d);return\"none\"==b?b:a(M.doc.getElementById(b.match(q)[1]))}}function d(a){return function(b){k.stop();var d=\"marker\"+a.charAt(0).toUpperCase()+a.substring(1);if(\"\"==b||!b)this.node.style[d]=\"none\";else if(\"marker\"==b.type){var f=b.node.id;f||e(b.node,{id:b.id});\n",
        "this.node.style[d]=l(f)}}}k.on(\"snap.util.getattr.marker-end\",b(\"end\"))(-1);k.on(\"snap.util.getattr.markerEnd\",b(\"end\"))(-1);k.on(\"snap.util.getattr.marker-start\",b(\"start\"))(-1);k.on(\"snap.util.getattr.markerStart\",b(\"start\"))(-1);k.on(\"snap.util.getattr.marker-mid\",b(\"mid\"))(-1);k.on(\"snap.util.getattr.markerMid\",b(\"mid\"))(-1);k.on(\"snap.util.attr.marker-end\",d(\"end\"))(-1);k.on(\"snap.util.attr.markerEnd\",d(\"end\"))(-1);k.on(\"snap.util.attr.marker-start\",d(\"start\"))(-1);k.on(\"snap.util.attr.markerStart\",\n",
        "d(\"start\"))(-1);k.on(\"snap.util.attr.marker-mid\",d(\"mid\"))(-1);k.on(\"snap.util.attr.markerMid\",d(\"mid\"))(-1)})();k.on(\"snap.util.getattr.r\",function(){if(\"rect\"==this.type&&e(this.node,\"rx\")==e(this.node,\"ry\"))return k.stop(),e(this.node,\"rx\")})(-1);k.on(\"snap.util.getattr.text\",function(){if(\"text\"==this.type||\"tspan\"==this.type){k.stop();var a=d(this.node);return 1==a.length?a[0]:a}})(-1);k.on(\"snap.util.getattr.#text\",function(){return this.node.textContent})(-1);k.on(\"snap.util.getattr.viewBox\",\n",
        "function(){k.stop();var b=e(this.node,\"viewBox\");if(b)return b=b.split(s),a._.box(+b[0],+b[1],+b[2],+b[3])})(-1);k.on(\"snap.util.getattr.points\",function(){var a=e(this.node,\"points\");k.stop();if(a)return a.split(s)})(-1);k.on(\"snap.util.getattr.path\",function(){var a=e(this.node,\"d\");k.stop();return a})(-1);k.on(\"snap.util.getattr.class\",function(){return this.node.className.baseVal})(-1);k.on(\"snap.util.getattr.fontSize\",f)(-1);k.on(\"snap.util.getattr.font-size\",f)(-1)});C.plugin(function(a,v,y,\n",
        "M,A){function w(a){return a}function z(a){return function(b){return+b.toFixed(3)+a}}var d={\"+\":function(a,b){return a+b},\"-\":function(a,b){return a-b},\"/\":function(a,b){return a/b},\"*\":function(a,b){return a*b}},f=String,n=/[a-z]+$/i,u=/^\\s*([+\\-\\/*])\\s*=\\s*([\\d.eE+\\-]+)\\s*([^\\d\\s]+)?\\s*$/;k.on(\"snap.util.attr\",function(a){if(a=f(a).match(u)){var b=k.nt(),b=b.substring(b.lastIndexOf(\".\")+1),q=this.attr(b),e={};k.stop();var l=a[3]||\"\",r=q.match(n),s=d[a[1] ];r&&r==l?a=s(parseFloat(q),+a[2]):(q=this.asPX(b),\n",
        "a=s(this.asPX(b),this.asPX(b,a[2]+l)));isNaN(q)||isNaN(a)||(e[b]=a,this.attr(e))}})(-10);k.on(\"snap.util.equal\",function(a,b){var q=f(this.attr(a)||\"\"),e=f(b).match(u);if(e){k.stop();var l=e[3]||\"\",r=q.match(n),s=d[e[1] ];if(r&&r==l)return{from:parseFloat(q),to:s(parseFloat(q),+e[2]),f:z(r)};q=this.asPX(a);return{from:q,to:s(q,this.asPX(a,e[2]+l)),f:w}}})(-10)});C.plugin(function(a,v,y,M,A){var w=y.prototype,z=a.is;w.rect=function(a,d,k,p,b,q){var e;null==q&&(q=b);z(a,\"object\")&&\"[object Object]\"==\n",
        "a?e=a:null!=a&&(e={x:a,y:d,width:k,height:p},null!=b&&(e.rx=b,e.ry=q));return this.el(\"rect\",e)};w.circle=function(a,d,k){var p;z(a,\"object\")&&\"[object Object]\"==a?p=a:null!=a&&(p={cx:a,cy:d,r:k});return this.el(\"circle\",p)};var d=function(){function a(){this.parentNode.removeChild(this)}return function(d,k){var p=M.doc.createElement(\"img\"),b=M.doc.body;p.style.cssText=\"position:absolute;left:-9999em;top:-9999em\";p.onload=function(){k.call(p);p.onload=p.onerror=null;b.removeChild(p)};p.onerror=a;\n",
        "b.appendChild(p);p.src=d}}();w.image=function(f,n,k,p,b){var q=this.el(\"image\");if(z(f,\"object\")&&\"src\"in f)q.attr(f);else if(null!=f){var e={\"xlink:href\":f,preserveAspectRatio:\"none\"};null!=n&&null!=k&&(e.x=n,e.y=k);null!=p&&null!=b?(e.width=p,e.height=b):d(f,function(){a._.$(q.node,{width:this.offsetWidth,height:this.offsetHeight})});a._.$(q.node,e)}return q};w.ellipse=function(a,d,k,p){var b;z(a,\"object\")&&\"[object Object]\"==a?b=a:null!=a&&(b={cx:a,cy:d,rx:k,ry:p});return this.el(\"ellipse\",b)};\n",
        "w.path=function(a){var d;z(a,\"object\")&&!z(a,\"array\")?d=a:a&&(d={d:a});return this.el(\"path\",d)};w.group=w.g=function(a){var d=this.el(\"g\");1==arguments.length&&a&&!a.type?d.attr(a):arguments.length&&d.add(Array.prototype.slice.call(arguments,0));return d};w.svg=function(a,d,k,p,b,q,e,l){var r={};z(a,\"object\")&&null==d?r=a:(null!=a&&(r.x=a),null!=d&&(r.y=d),null!=k&&(r.width=k),null!=p&&(r.height=p),null!=b&&null!=q&&null!=e&&null!=l&&(r.viewBox=[b,q,e,l]));return this.el(\"svg\",r)};w.mask=function(a){var d=\n",
        "this.el(\"mask\");1==arguments.length&&a&&!a.type?d.attr(a):arguments.length&&d.add(Array.prototype.slice.call(arguments,0));return d};w.ptrn=function(a,d,k,p,b,q,e,l){if(z(a,\"object\"))var r=a;else arguments.length?(r={},null!=a&&(r.x=a),null!=d&&(r.y=d),null!=k&&(r.width=k),null!=p&&(r.height=p),null!=b&&null!=q&&null!=e&&null!=l&&(r.viewBox=[b,q,e,l])):r={patternUnits:\"userSpaceOnUse\"};return this.el(\"pattern\",r)};w.use=function(a){return null!=a?(make(\"use\",this.node),a instanceof v&&(a.attr(\"id\")||\n",
        "a.attr({id:ID()}),a=a.attr(\"id\")),this.el(\"use\",{\"xlink:href\":a})):v.prototype.use.call(this)};w.text=function(a,d,k){var p={};z(a,\"object\")?p=a:null!=a&&(p={x:a,y:d,text:k||\"\"});return this.el(\"text\",p)};w.line=function(a,d,k,p){var b={};z(a,\"object\")?b=a:null!=a&&(b={x1:a,x2:k,y1:d,y2:p});return this.el(\"line\",b)};w.polyline=function(a){1<arguments.length&&(a=Array.prototype.slice.call(arguments,0));var d={};z(a,\"object\")&&!z(a,\"array\")?d=a:null!=a&&(d={points:a});return this.el(\"polyline\",d)};\n",
        "w.polygon=function(a){1<arguments.length&&(a=Array.prototype.slice.call(arguments,0));var d={};z(a,\"object\")&&!z(a,\"array\")?d=a:null!=a&&(d={points:a});return this.el(\"polygon\",d)};(function(){function d(){return this.selectAll(\"stop\")}function n(b,d){var f=e(\"stop\"),k={offset:+d+\"%\"};b=a.color(b);k[\"stop-color\"]=b.hex;1>b.opacity&&(k[\"stop-opacity\"]=b.opacity);e(f,k);this.node.appendChild(f);return this}function u(){if(\"linearGradient\"==this.type){var b=e(this.node,\"x1\")||0,d=e(this.node,\"x2\")||\n",
        "1,f=e(this.node,\"y1\")||0,k=e(this.node,\"y2\")||0;return a._.box(b,f,math.abs(d-b),math.abs(k-f))}b=this.node.r||0;return a._.box((this.node.cx||0.5)-b,(this.node.cy||0.5)-b,2*b,2*b)}function p(a,d){function f(a,b){for(var d=(b-u)/(a-w),e=w;e<a;e++)h[e].offset=+(+u+d*(e-w)).toFixed(2);w=a;u=b}var n=k(\"snap.util.grad.parse\",null,d).firstDefined(),p;if(!n)return null;n.params.unshift(a);p=\"l\"==n.type.toLowerCase()?b.apply(0,n.params):q.apply(0,n.params);n.type!=n.type.toLowerCase()&&e(p.node,{gradientUnits:\"userSpaceOnUse\"});\n",
        "var h=n.stops,n=h.length,u=0,w=0;n--;for(var v=0;v<n;v++)\"offset\"in h[v]&&f(v,h[v].offset);h[n].offset=h[n].offset||100;f(n,h[n].offset);for(v=0;v<=n;v++){var y=h[v];p.addStop(y.color,y.offset)}return p}function b(b,k,p,q,w){b=a._.make(\"linearGradient\",b);b.stops=d;b.addStop=n;b.getBBox=u;null!=k&&e(b.node,{x1:k,y1:p,x2:q,y2:w});return b}function q(b,k,p,q,w,h){b=a._.make(\"radialGradient\",b);b.stops=d;b.addStop=n;b.getBBox=u;null!=k&&e(b.node,{cx:k,cy:p,r:q});null!=w&&null!=h&&e(b.node,{fx:w,fy:h});\n",
        "return b}var e=a._.$;w.gradient=function(a){return p(this.defs,a)};w.gradientLinear=function(a,d,e,f){return b(this.defs,a,d,e,f)};w.gradientRadial=function(a,b,d,e,f){return q(this.defs,a,b,d,e,f)};w.toString=function(){var b=this.node.ownerDocument,d=b.createDocumentFragment(),b=b.createElement(\"div\"),e=this.node.cloneNode(!0);d.appendChild(b);b.appendChild(e);a._.$(e,{xmlns:\"http://www.w3.org/2000/svg\"});b=b.innerHTML;d.removeChild(d.firstChild);return b};w.clear=function(){for(var a=this.node.firstChild,\n",
        "b;a;)b=a.nextSibling,\"defs\"!=a.tagName?a.parentNode.removeChild(a):w.clear.call({node:a}),a=b}})()});C.plugin(function(a,k,y,M){function A(a){var b=A.ps=A.ps||{};b[a]?b[a].sleep=100:b[a]={sleep:100};setTimeout(function(){for(var d in b)b[L](d)&&d!=a&&(b[d].sleep--,!b[d].sleep&&delete b[d])});return b[a]}function w(a,b,d,e){null==a&&(a=b=d=e=0);null==b&&(b=a.y,d=a.width,e=a.height,a=a.x);return{x:a,y:b,width:d,w:d,height:e,h:e,x2:a+d,y2:b+e,cx:a+d/2,cy:b+e/2,r1:F.min(d,e)/2,r2:F.max(d,e)/2,r0:F.sqrt(d*\n",
        "d+e*e)/2,path:s(a,b,d,e),vb:[a,b,d,e].join(\" \")}}function z(){return this.join(\",\").replace(N,\"$1\")}function d(a){a=C(a);a.toString=z;return a}function f(a,b,d,h,f,k,l,n,p){if(null==p)return e(a,b,d,h,f,k,l,n);if(0>p||e(a,b,d,h,f,k,l,n)<p)p=void 0;else{var q=0.5,O=1-q,s;for(s=e(a,b,d,h,f,k,l,n,O);0.01<Z(s-p);)q/=2,O+=(s<p?1:-1)*q,s=e(a,b,d,h,f,k,l,n,O);p=O}return u(a,b,d,h,f,k,l,n,p)}function n(b,d){function e(a){return+(+a).toFixed(3)}return a._.cacher(function(a,h,l){a instanceof k&&(a=a.attr(\"d\"));\n",
        "a=I(a);for(var n,p,D,q,O=\"\",s={},c=0,t=0,r=a.length;t<r;t++){D=a[t];if(\"M\"==D[0])n=+D[1],p=+D[2];else{q=f(n,p,D[1],D[2],D[3],D[4],D[5],D[6]);if(c+q>h){if(d&&!s.start){n=f(n,p,D[1],D[2],D[3],D[4],D[5],D[6],h-c);O+=[\"C\"+e(n.start.x),e(n.start.y),e(n.m.x),e(n.m.y),e(n.x),e(n.y)];if(l)return O;s.start=O;O=[\"M\"+e(n.x),e(n.y)+\"C\"+e(n.n.x),e(n.n.y),e(n.end.x),e(n.end.y),e(D[5]),e(D[6])].join();c+=q;n=+D[5];p=+D[6];continue}if(!b&&!d)return n=f(n,p,D[1],D[2],D[3],D[4],D[5],D[6],h-c)}c+=q;n=+D[5];p=+D[6]}O+=\n",
        "D.shift()+D}s.end=O;return n=b?c:d?s:u(n,p,D[0],D[1],D[2],D[3],D[4],D[5],1)},null,a._.clone)}function u(a,b,d,e,h,f,k,l,n){var p=1-n,q=ma(p,3),s=ma(p,2),c=n*n,t=c*n,r=q*a+3*s*n*d+3*p*n*n*h+t*k,q=q*b+3*s*n*e+3*p*n*n*f+t*l,s=a+2*n*(d-a)+c*(h-2*d+a),t=b+2*n*(e-b)+c*(f-2*e+b),x=d+2*n*(h-d)+c*(k-2*h+d),c=e+2*n*(f-e)+c*(l-2*f+e);a=p*a+n*d;b=p*b+n*e;h=p*h+n*k;f=p*f+n*l;l=90-180*F.atan2(s-x,t-c)/S;return{x:r,y:q,m:{x:s,y:t},n:{x:x,y:c},start:{x:a,y:b},end:{x:h,y:f},alpha:l}}function p(b,d,e,h,f,n,k,l){a.is(b,\n",
        "\"array\")||(b=[b,d,e,h,f,n,k,l]);b=U.apply(null,b);return w(b.min.x,b.min.y,b.max.x-b.min.x,b.max.y-b.min.y)}function b(a,b,d){return b>=a.x&&b<=a.x+a.width&&d>=a.y&&d<=a.y+a.height}function q(a,d){a=w(a);d=w(d);return b(d,a.x,a.y)||b(d,a.x2,a.y)||b(d,a.x,a.y2)||b(d,a.x2,a.y2)||b(a,d.x,d.y)||b(a,d.x2,d.y)||b(a,d.x,d.y2)||b(a,d.x2,d.y2)||(a.x<d.x2&&a.x>d.x||d.x<a.x2&&d.x>a.x)&&(a.y<d.y2&&a.y>d.y||d.y<a.y2&&d.y>a.y)}function e(a,b,d,e,h,f,n,k,l){null==l&&(l=1);l=(1<l?1:0>l?0:l)/2;for(var p=[-0.1252,\n",
        "0.1252,-0.3678,0.3678,-0.5873,0.5873,-0.7699,0.7699,-0.9041,0.9041,-0.9816,0.9816],q=[0.2491,0.2491,0.2335,0.2335,0.2032,0.2032,0.1601,0.1601,0.1069,0.1069,0.0472,0.0472],s=0,c=0;12>c;c++)var t=l*p[c]+l,r=t*(t*(-3*a+9*d-9*h+3*n)+6*a-12*d+6*h)-3*a+3*d,t=t*(t*(-3*b+9*e-9*f+3*k)+6*b-12*e+6*f)-3*b+3*e,s=s+q[c]*F.sqrt(r*r+t*t);return l*s}function l(a,b,d){a=I(a);b=I(b);for(var h,f,l,n,k,s,r,O,x,c,t=d?0:[],w=0,v=a.length;w<v;w++)if(x=a[w],\"M\"==x[0])h=k=x[1],f=s=x[2];else{\"C\"==x[0]?(x=[h,f].concat(x.slice(1)),\n",
        "h=x[6],f=x[7]):(x=[h,f,h,f,k,s,k,s],h=k,f=s);for(var G=0,y=b.length;G<y;G++)if(c=b[G],\"M\"==c[0])l=r=c[1],n=O=c[2];else{\"C\"==c[0]?(c=[l,n].concat(c.slice(1)),l=c[6],n=c[7]):(c=[l,n,l,n,r,O,r,O],l=r,n=O);var z;var K=x,B=c;z=d;var H=p(K),J=p(B);if(q(H,J)){for(var H=e.apply(0,K),J=e.apply(0,B),H=~~(H/8),J=~~(J/8),U=[],A=[],F={},M=z?0:[],P=0;P<H+1;P++){var C=u.apply(0,K.concat(P/H));U.push({x:C.x,y:C.y,t:P/H})}for(P=0;P<J+1;P++)C=u.apply(0,B.concat(P/J)),A.push({x:C.x,y:C.y,t:P/J});for(P=0;P<H;P++)for(K=\n",
        "0;K<J;K++){var Q=U[P],L=U[P+1],B=A[K],C=A[K+1],N=0.001>Z(L.x-Q.x)?\"y\":\"x\",S=0.001>Z(C.x-B.x)?\"y\":\"x\",R;R=Q.x;var Y=Q.y,V=L.x,ea=L.y,fa=B.x,ga=B.y,ha=C.x,ia=C.y;if(W(R,V)<X(fa,ha)||X(R,V)>W(fa,ha)||W(Y,ea)<X(ga,ia)||X(Y,ea)>W(ga,ia))R=void 0;else{var $=(R*ea-Y*V)*(fa-ha)-(R-V)*(fa*ia-ga*ha),aa=(R*ea-Y*V)*(ga-ia)-(Y-ea)*(fa*ia-ga*ha),ja=(R-V)*(ga-ia)-(Y-ea)*(fa-ha);if(ja){var $=$/ja,aa=aa/ja,ja=+$.toFixed(2),ba=+aa.toFixed(2);R=ja<+X(R,V).toFixed(2)||ja>+W(R,V).toFixed(2)||ja<+X(fa,ha).toFixed(2)||\n",
        "ja>+W(fa,ha).toFixed(2)||ba<+X(Y,ea).toFixed(2)||ba>+W(Y,ea).toFixed(2)||ba<+X(ga,ia).toFixed(2)||ba>+W(ga,ia).toFixed(2)?void 0:{x:$,y:aa}}else R=void 0}R&&F[R.x.toFixed(4)]!=R.y.toFixed(4)&&(F[R.x.toFixed(4)]=R.y.toFixed(4),Q=Q.t+Z((R[N]-Q[N])/(L[N]-Q[N]))*(L.t-Q.t),B=B.t+Z((R[S]-B[S])/(C[S]-B[S]))*(C.t-B.t),0<=Q&&1>=Q&&0<=B&&1>=B&&(z?M++:M.push({x:R.x,y:R.y,t1:Q,t2:B})))}z=M}else z=z?0:[];if(d)t+=z;else{H=0;for(J=z.length;H<J;H++)z[H].segment1=w,z[H].segment2=G,z[H].bez1=x,z[H].bez2=c;t=t.concat(z)}}}return t}\n",
        "function r(a){var b=A(a);if(b.bbox)return C(b.bbox);if(!a)return w();a=I(a);for(var d=0,e=0,h=[],f=[],l,n=0,k=a.length;n<k;n++)l=a[n],\"M\"==l[0]?(d=l[1],e=l[2],h.push(d),f.push(e)):(d=U(d,e,l[1],l[2],l[3],l[4],l[5],l[6]),h=h.concat(d.min.x,d.max.x),f=f.concat(d.min.y,d.max.y),d=l[5],e=l[6]);a=X.apply(0,h);l=X.apply(0,f);h=W.apply(0,h);f=W.apply(0,f);f=w(a,l,h-a,f-l);b.bbox=C(f);return f}function s(a,b,d,e,h){if(h)return[[\"M\",+a+ +h,b],[\"l\",d-2*h,0],[\"a\",h,h,0,0,1,h,h],[\"l\",0,e-2*h],[\"a\",h,h,0,0,1,\n",
        "-h,h],[\"l\",2*h-d,0],[\"a\",h,h,0,0,1,-h,-h],[\"l\",0,2*h-e],[\"a\",h,h,0,0,1,h,-h],[\"z\"] ];a=[[\"M\",a,b],[\"l\",d,0],[\"l\",0,e],[\"l\",-d,0],[\"z\"] ];a.toString=z;return a}function x(a,b,d,e,h){null==h&&null==e&&(e=d);a=+a;b=+b;d=+d;e=+e;if(null!=h){var f=Math.PI/180,l=a+d*Math.cos(-e*f);a+=d*Math.cos(-h*f);var n=b+d*Math.sin(-e*f);b+=d*Math.sin(-h*f);d=[[\"M\",l,n],[\"A\",d,d,0,+(180<h-e),0,a,b] ]}else d=[[\"M\",a,b],[\"m\",0,-e],[\"a\",d,e,0,1,1,0,2*e],[\"a\",d,e,0,1,1,0,-2*e],[\"z\"] ];d.toString=z;return d}function G(b){var e=\n",
        "A(b);if(e.abs)return d(e.abs);Q(b,\"array\")&&Q(b&&b[0],\"array\")||(b=a.parsePathString(b));if(!b||!b.length)return[[\"M\",0,0] ];var h=[],f=0,l=0,n=0,k=0,p=0;\"M\"==b[0][0]&&(f=+b[0][1],l=+b[0][2],n=f,k=l,p++,h[0]=[\"M\",f,l]);for(var q=3==b.length&&\"M\"==b[0][0]&&\"R\"==b[1][0].toUpperCase()&&\"Z\"==b[2][0].toUpperCase(),s,r,w=p,c=b.length;w<c;w++){h.push(s=[]);r=b[w];p=r[0];if(p!=p.toUpperCase())switch(s[0]=p.toUpperCase(),s[0]){case \"A\":s[1]=r[1];s[2]=r[2];s[3]=r[3];s[4]=r[4];s[5]=r[5];s[6]=+r[6]+f;s[7]=+r[7]+\n",
        "l;break;case \"V\":s[1]=+r[1]+l;break;case \"H\":s[1]=+r[1]+f;break;case \"R\":for(var t=[f,l].concat(r.slice(1)),u=2,v=t.length;u<v;u++)t[u]=+t[u]+f,t[++u]=+t[u]+l;h.pop();h=h.concat(P(t,q));break;case \"O\":h.pop();t=x(f,l,r[1],r[2]);t.push(t[0]);h=h.concat(t);break;case \"U\":h.pop();h=h.concat(x(f,l,r[1],r[2],r[3]));s=[\"U\"].concat(h[h.length-1].slice(-2));break;case \"M\":n=+r[1]+f,k=+r[2]+l;default:for(u=1,v=r.length;u<v;u++)s[u]=+r[u]+(u%2?f:l)}else if(\"R\"==p)t=[f,l].concat(r.slice(1)),h.pop(),h=h.concat(P(t,\n",
        "q)),s=[\"R\"].concat(r.slice(-2));else if(\"O\"==p)h.pop(),t=x(f,l,r[1],r[2]),t.push(t[0]),h=h.concat(t);else if(\"U\"==p)h.pop(),h=h.concat(x(f,l,r[1],r[2],r[3])),s=[\"U\"].concat(h[h.length-1].slice(-2));else for(t=0,u=r.length;t<u;t++)s[t]=r[t];p=p.toUpperCase();if(\"O\"!=p)switch(s[0]){case \"Z\":f=+n;l=+k;break;case \"H\":f=s[1];break;case \"V\":l=s[1];break;case \"M\":n=s[s.length-2],k=s[s.length-1];default:f=s[s.length-2],l=s[s.length-1]}}h.toString=z;e.abs=d(h);return h}function h(a,b,d,e){return[a,b,d,e,d,\n",
        "e]}function J(a,b,d,e,h,f){var l=1/3,n=2/3;return[l*a+n*d,l*b+n*e,l*h+n*d,l*f+n*e,h,f]}function K(b,d,e,h,f,l,n,k,p,s){var r=120*S/180,q=S/180*(+f||0),c=[],t,x=a._.cacher(function(a,b,c){var d=a*F.cos(c)-b*F.sin(c);a=a*F.sin(c)+b*F.cos(c);return{x:d,y:a}});if(s)v=s[0],t=s[1],l=s[2],u=s[3];else{t=x(b,d,-q);b=t.x;d=t.y;t=x(k,p,-q);k=t.x;p=t.y;F.cos(S/180*f);F.sin(S/180*f);t=(b-k)/2;v=(d-p)/2;u=t*t/(e*e)+v*v/(h*h);1<u&&(u=F.sqrt(u),e*=u,h*=u);var u=e*e,w=h*h,u=(l==n?-1:1)*F.sqrt(Z((u*w-u*v*v-w*t*t)/\n",
        "(u*v*v+w*t*t)));l=u*e*v/h+(b+k)/2;var u=u*-h*t/e+(d+p)/2,v=F.asin(((d-u)/h).toFixed(9));t=F.asin(((p-u)/h).toFixed(9));v=b<l?S-v:v;t=k<l?S-t:t;0>v&&(v=2*S+v);0>t&&(t=2*S+t);n&&v>t&&(v-=2*S);!n&&t>v&&(t-=2*S)}if(Z(t-v)>r){var c=t,w=k,G=p;t=v+r*(n&&t>v?1:-1);k=l+e*F.cos(t);p=u+h*F.sin(t);c=K(k,p,e,h,f,0,n,w,G,[t,c,l,u])}l=t-v;f=F.cos(v);r=F.sin(v);n=F.cos(t);t=F.sin(t);l=F.tan(l/4);e=4/3*e*l;l*=4/3*h;h=[b,d];b=[b+e*r,d-l*f];d=[k+e*t,p-l*n];k=[k,p];b[0]=2*h[0]-b[0];b[1]=2*h[1]-b[1];if(s)return[b,d,k].concat(c);\n",
        "c=[b,d,k].concat(c).join().split(\",\");s=[];k=0;for(p=c.length;k<p;k++)s[k]=k%2?x(c[k-1],c[k],q).y:x(c[k],c[k+1],q).x;return s}function U(a,b,d,e,h,f,l,k){for(var n=[],p=[[],[] ],s,r,c,t,q=0;2>q;++q)0==q?(r=6*a-12*d+6*h,s=-3*a+9*d-9*h+3*l,c=3*d-3*a):(r=6*b-12*e+6*f,s=-3*b+9*e-9*f+3*k,c=3*e-3*b),1E-12>Z(s)?1E-12>Z(r)||(s=-c/r,0<s&&1>s&&n.push(s)):(t=r*r-4*c*s,c=F.sqrt(t),0>t||(t=(-r+c)/(2*s),0<t&&1>t&&n.push(t),s=(-r-c)/(2*s),0<s&&1>s&&n.push(s)));for(r=q=n.length;q--;)s=n[q],c=1-s,p[0][q]=c*c*c*a+3*\n",
        "c*c*s*d+3*c*s*s*h+s*s*s*l,p[1][q]=c*c*c*b+3*c*c*s*e+3*c*s*s*f+s*s*s*k;p[0][r]=a;p[1][r]=b;p[0][r+1]=l;p[1][r+1]=k;p[0].length=p[1].length=r+2;return{min:{x:X.apply(0,p[0]),y:X.apply(0,p[1])},max:{x:W.apply(0,p[0]),y:W.apply(0,p[1])}}}function I(a,b){var e=!b&&A(a);if(!b&&e.curve)return d(e.curve);var f=G(a),l=b&&G(b),n={x:0,y:0,bx:0,by:0,X:0,Y:0,qx:null,qy:null},k={x:0,y:0,bx:0,by:0,X:0,Y:0,qx:null,qy:null},p=function(a,b,c){if(!a)return[\"C\",b.x,b.y,b.x,b.y,b.x,b.y];a[0]in{T:1,Q:1}||(b.qx=b.qy=null);\n",
        "switch(a[0]){case \"M\":b.X=a[1];b.Y=a[2];break;case \"A\":a=[\"C\"].concat(K.apply(0,[b.x,b.y].concat(a.slice(1))));break;case \"S\":\"C\"==c||\"S\"==c?(c=2*b.x-b.bx,b=2*b.y-b.by):(c=b.x,b=b.y);a=[\"C\",c,b].concat(a.slice(1));break;case \"T\":\"Q\"==c||\"T\"==c?(b.qx=2*b.x-b.qx,b.qy=2*b.y-b.qy):(b.qx=b.x,b.qy=b.y);a=[\"C\"].concat(J(b.x,b.y,b.qx,b.qy,a[1],a[2]));break;case \"Q\":b.qx=a[1];b.qy=a[2];a=[\"C\"].concat(J(b.x,b.y,a[1],a[2],a[3],a[4]));break;case \"L\":a=[\"C\"].concat(h(b.x,b.y,a[1],a[2]));break;case \"H\":a=[\"C\"].concat(h(b.x,\n",
        "b.y,a[1],b.y));break;case \"V\":a=[\"C\"].concat(h(b.x,b.y,b.x,a[1]));break;case \"Z\":a=[\"C\"].concat(h(b.x,b.y,b.X,b.Y))}return a},s=function(a,b){if(7<a[b].length){a[b].shift();for(var c=a[b];c.length;)q[b]=\"A\",l&&(u[b]=\"A\"),a.splice(b++,0,[\"C\"].concat(c.splice(0,6)));a.splice(b,1);v=W(f.length,l&&l.length||0)}},r=function(a,b,c,d,e){a&&b&&\"M\"==a[e][0]&&\"M\"!=b[e][0]&&(b.splice(e,0,[\"M\",d.x,d.y]),c.bx=0,c.by=0,c.x=a[e][1],c.y=a[e][2],v=W(f.length,l&&l.length||0))},q=[],u=[],c=\"\",t=\"\",x=0,v=W(f.length,\n",
        "l&&l.length||0);for(;x<v;x++){f[x]&&(c=f[x][0]);\"C\"!=c&&(q[x]=c,x&&(t=q[x-1]));f[x]=p(f[x],n,t);\"A\"!=q[x]&&\"C\"==c&&(q[x]=\"C\");s(f,x);l&&(l[x]&&(c=l[x][0]),\"C\"!=c&&(u[x]=c,x&&(t=u[x-1])),l[x]=p(l[x],k,t),\"A\"!=u[x]&&\"C\"==c&&(u[x]=\"C\"),s(l,x));r(f,l,n,k,x);r(l,f,k,n,x);var w=f[x],z=l&&l[x],y=w.length,U=l&&z.length;n.x=w[y-2];n.y=w[y-1];n.bx=$(w[y-4])||n.x;n.by=$(w[y-3])||n.y;k.bx=l&&($(z[U-4])||k.x);k.by=l&&($(z[U-3])||k.y);k.x=l&&z[U-2];k.y=l&&z[U-1]}l||(e.curve=d(f));return l?[f,l]:f}function P(a,\n",
        "b){for(var d=[],e=0,h=a.length;h-2*!b>e;e+=2){var f=[{x:+a[e-2],y:+a[e-1]},{x:+a[e],y:+a[e+1]},{x:+a[e+2],y:+a[e+3]},{x:+a[e+4],y:+a[e+5]}];b?e?h-4==e?f[3]={x:+a[0],y:+a[1]}:h-2==e&&(f[2]={x:+a[0],y:+a[1]},f[3]={x:+a[2],y:+a[3]}):f[0]={x:+a[h-2],y:+a[h-1]}:h-4==e?f[3]=f[2]:e||(f[0]={x:+a[e],y:+a[e+1]});d.push([\"C\",(-f[0].x+6*f[1].x+f[2].x)/6,(-f[0].y+6*f[1].y+f[2].y)/6,(f[1].x+6*f[2].x-f[3].x)/6,(f[1].y+6*f[2].y-f[3].y)/6,f[2].x,f[2].y])}return d}y=k.prototype;var Q=a.is,C=a._.clone,L=\"hasOwnProperty\",\n",
        "N=/,?([a-z]),?/gi,$=parseFloat,F=Math,S=F.PI,X=F.min,W=F.max,ma=F.pow,Z=F.abs;M=n(1);var na=n(),ba=n(0,1),V=a._unit2px;a.path=A;a.path.getTotalLength=M;a.path.getPointAtLength=na;a.path.getSubpath=function(a,b,d){if(1E-6>this.getTotalLength(a)-d)return ba(a,b).end;a=ba(a,d,1);return b?ba(a,b).end:a};y.getTotalLength=function(){if(this.node.getTotalLength)return this.node.getTotalLength()};y.getPointAtLength=function(a){return na(this.attr(\"d\"),a)};y.getSubpath=function(b,d){return a.path.getSubpath(this.attr(\"d\"),\n",
        "b,d)};a._.box=w;a.path.findDotsAtSegment=u;a.path.bezierBBox=p;a.path.isPointInsideBBox=b;a.path.isBBoxIntersect=q;a.path.intersection=function(a,b){return l(a,b)};a.path.intersectionNumber=function(a,b){return l(a,b,1)};a.path.isPointInside=function(a,d,e){var h=r(a);return b(h,d,e)&&1==l(a,[[\"M\",d,e],[\"H\",h.x2+10] ],1)%2};a.path.getBBox=r;a.path.get={path:function(a){return a.attr(\"path\")},circle:function(a){a=V(a);return x(a.cx,a.cy,a.r)},ellipse:function(a){a=V(a);return x(a.cx||0,a.cy||0,a.rx,\n",
        "a.ry)},rect:function(a){a=V(a);return s(a.x||0,a.y||0,a.width,a.height,a.rx,a.ry)},image:function(a){a=V(a);return s(a.x||0,a.y||0,a.width,a.height)},line:function(a){return\"M\"+[a.attr(\"x1\")||0,a.attr(\"y1\")||0,a.attr(\"x2\"),a.attr(\"y2\")]},polyline:function(a){return\"M\"+a.attr(\"points\")},polygon:function(a){return\"M\"+a.attr(\"points\")+\"z\"},deflt:function(a){a=a.node.getBBox();return s(a.x,a.y,a.width,a.height)}};a.path.toRelative=function(b){var e=A(b),h=String.prototype.toLowerCase;if(e.rel)return d(e.rel);\n",
        "a.is(b,\"array\")&&a.is(b&&b[0],\"array\")||(b=a.parsePathString(b));var f=[],l=0,n=0,k=0,p=0,s=0;\"M\"==b[0][0]&&(l=b[0][1],n=b[0][2],k=l,p=n,s++,f.push([\"M\",l,n]));for(var r=b.length;s<r;s++){var q=f[s]=[],x=b[s];if(x[0]!=h.call(x[0]))switch(q[0]=h.call(x[0]),q[0]){case \"a\":q[1]=x[1];q[2]=x[2];q[3]=x[3];q[4]=x[4];q[5]=x[5];q[6]=+(x[6]-l).toFixed(3);q[7]=+(x[7]-n).toFixed(3);break;case \"v\":q[1]=+(x[1]-n).toFixed(3);break;case \"m\":k=x[1],p=x[2];default:for(var c=1,t=x.length;c<t;c++)q[c]=+(x[c]-(c%2?l:\n",
        "n)).toFixed(3)}else for(f[s]=[],\"m\"==x[0]&&(k=x[1]+l,p=x[2]+n),q=0,c=x.length;q<c;q++)f[s][q]=x[q];x=f[s].length;switch(f[s][0]){case \"z\":l=k;n=p;break;case \"h\":l+=+f[s][x-1];break;case \"v\":n+=+f[s][x-1];break;default:l+=+f[s][x-2],n+=+f[s][x-1]}}f.toString=z;e.rel=d(f);return f};a.path.toAbsolute=G;a.path.toCubic=I;a.path.map=function(a,b){if(!b)return a;var d,e,h,f,l,n,k;a=I(a);h=0;for(l=a.length;h<l;h++)for(k=a[h],f=1,n=k.length;f<n;f+=2)d=b.x(k[f],k[f+1]),e=b.y(k[f],k[f+1]),k[f]=d,k[f+1]=e;return a};\n",
        "a.path.toString=z;a.path.clone=d});C.plugin(function(a,v,y,C){var A=Math.max,w=Math.min,z=function(a){this.items=[];this.bindings={};this.length=0;this.type=\"set\";if(a)for(var f=0,n=a.length;f<n;f++)a[f]&&(this[this.items.length]=this.items[this.items.length]=a[f],this.length++)};v=z.prototype;v.push=function(){for(var a,f,n=0,k=arguments.length;n<k;n++)if(a=arguments[n])f=this.items.length,this[f]=this.items[f]=a,this.length++;return this};v.pop=function(){this.length&&delete this[this.length--];\n",
        "return this.items.pop()};v.forEach=function(a,f){for(var n=0,k=this.items.length;n<k&&!1!==a.call(f,this.items[n],n);n++);return this};v.animate=function(d,f,n,u){\"function\"!=typeof n||n.length||(u=n,n=L.linear);d instanceof a._.Animation&&(u=d.callback,n=d.easing,f=n.dur,d=d.attr);var p=arguments;if(a.is(d,\"array\")&&a.is(p[p.length-1],\"array\"))var b=!0;var q,e=function(){q?this.b=q:q=this.b},l=0,r=u&&function(){l++==this.length&&u.call(this)};return this.forEach(function(a,l){k.once(\"snap.animcreated.\"+\n",
        "a.id,e);b?p[l]&&a.animate.apply(a,p[l]):a.animate(d,f,n,r)})};v.remove=function(){for(;this.length;)this.pop().remove();return this};v.bind=function(a,f,k){var u={};if(\"function\"==typeof f)this.bindings[a]=f;else{var p=k||a;this.bindings[a]=function(a){u[p]=a;f.attr(u)}}return this};v.attr=function(a){var f={},k;for(k in a)if(this.bindings[k])this.bindings[k](a[k]);else f[k]=a[k];a=0;for(k=this.items.length;a<k;a++)this.items[a].attr(f);return this};v.clear=function(){for(;this.length;)this.pop()};\n",
        "v.splice=function(a,f,k){a=0>a?A(this.length+a,0):a;f=A(0,w(this.length-a,f));var u=[],p=[],b=[],q;for(q=2;q<arguments.length;q++)b.push(arguments[q]);for(q=0;q<f;q++)p.push(this[a+q]);for(;q<this.length-a;q++)u.push(this[a+q]);var e=b.length;for(q=0;q<e+u.length;q++)this.items[a+q]=this[a+q]=q<e?b[q]:u[q-e];for(q=this.items.length=this.length-=f-e;this[q];)delete this[q++];return new z(p)};v.exclude=function(a){for(var f=0,k=this.length;f<k;f++)if(this[f]==a)return this.splice(f,1),!0;return!1};\n",
        "v.insertAfter=function(a){for(var f=this.items.length;f--;)this.items[f].insertAfter(a);return this};v.getBBox=function(){for(var a=[],f=[],k=[],u=[],p=this.items.length;p--;)if(!this.items[p].removed){var b=this.items[p].getBBox();a.push(b.x);f.push(b.y);k.push(b.x+b.width);u.push(b.y+b.height)}a=w.apply(0,a);f=w.apply(0,f);k=A.apply(0,k);u=A.apply(0,u);return{x:a,y:f,x2:k,y2:u,width:k-a,height:u-f,cx:a+(k-a)/2,cy:f+(u-f)/2}};v.clone=function(a){a=new z;for(var f=0,k=this.items.length;f<k;f++)a.push(this.items[f].clone());\n",
        "return a};v.toString=function(){return\"Snap\\u2018s set\"};v.type=\"set\";a.set=function(){var a=new z;arguments.length&&a.push.apply(a,Array.prototype.slice.call(arguments,0));return a}});C.plugin(function(a,v,y,C){function A(a){var b=a[0];switch(b.toLowerCase()){case \"t\":return[b,0,0];case \"m\":return[b,1,0,0,1,0,0];case \"r\":return 4==a.length?[b,0,a[2],a[3] ]:[b,0];case \"s\":return 5==a.length?[b,1,1,a[3],a[4] ]:3==a.length?[b,1,1]:[b,1]}}function w(b,d,f){d=q(d).replace(/\\.{3}|\\u2026/g,b);b=a.parseTransformString(b)||\n",
        "[];d=a.parseTransformString(d)||[];for(var k=Math.max(b.length,d.length),p=[],v=[],h=0,w,z,y,I;h<k;h++){y=b[h]||A(d[h]);I=d[h]||A(y);if(y[0]!=I[0]||\"r\"==y[0].toLowerCase()&&(y[2]!=I[2]||y[3]!=I[3])||\"s\"==y[0].toLowerCase()&&(y[3]!=I[3]||y[4]!=I[4])){b=a._.transform2matrix(b,f());d=a._.transform2matrix(d,f());p=[[\"m\",b.a,b.b,b.c,b.d,b.e,b.f] ];v=[[\"m\",d.a,d.b,d.c,d.d,d.e,d.f] ];break}p[h]=[];v[h]=[];w=0;for(z=Math.max(y.length,I.length);w<z;w++)w in y&&(p[h][w]=y[w]),w in I&&(v[h][w]=I[w])}return{from:u(p),\n",
        "to:u(v),f:n(p)}}function z(a){return a}function d(a){return function(b){return+b.toFixed(3)+a}}function f(b){return a.rgb(b[0],b[1],b[2])}function n(a){var b=0,d,f,k,n,h,p,q=[];d=0;for(f=a.length;d<f;d++){h=\"[\";p=['\"'+a[d][0]+'\"'];k=1;for(n=a[d].length;k<n;k++)p[k]=\"val[\"+b++ +\"]\";h+=p+\"]\";q[d]=h}return Function(\"val\",\"return Snap.path.toString.call([\"+q+\"])\")}function u(a){for(var b=[],d=0,f=a.length;d<f;d++)for(var k=1,n=a[d].length;k<n;k++)b.push(a[d][k]);return b}var p={},b=/[a-z]+$/i,q=String;\n",
        "p.stroke=p.fill=\"colour\";v.prototype.equal=function(a,b){return k(\"snap.util.equal\",this,a,b).firstDefined()};k.on(\"snap.util.equal\",function(e,k){var r,s;r=q(this.attr(e)||\"\");var x=this;if(r==+r&&k==+k)return{from:+r,to:+k,f:z};if(\"colour\"==p[e])return r=a.color(r),s=a.color(k),{from:[r.r,r.g,r.b,r.opacity],to:[s.r,s.g,s.b,s.opacity],f:f};if(\"transform\"==e||\"gradientTransform\"==e||\"patternTransform\"==e)return k instanceof a.Matrix&&(k=k.toTransformString()),a._.rgTransform.test(k)||(k=a._.svgTransform2string(k)),\n",
        "w(r,k,function(){return x.getBBox(1)});if(\"d\"==e||\"path\"==e)return r=a.path.toCubic(r,k),{from:u(r[0]),to:u(r[1]),f:n(r[0])};if(\"points\"==e)return r=q(r).split(a._.separator),s=q(k).split(a._.separator),{from:r,to:s,f:function(a){return a}};aUnit=r.match(b);s=q(k).match(b);return aUnit&&aUnit==s?{from:parseFloat(r),to:parseFloat(k),f:d(aUnit)}:{from:this.asPX(e),to:this.asPX(e,k),f:z}})});C.plugin(function(a,v,y,C){var A=v.prototype,w=\"createTouch\"in C.doc;v=\"click dblclick mousedown mousemove mouseout mouseover mouseup touchstart touchmove touchend touchcancel\".split(\" \");\n",
        "var z={mousedown:\"touchstart\",mousemove:\"touchmove\",mouseup:\"touchend\"},d=function(a,b){var d=\"y\"==a?\"scrollTop\":\"scrollLeft\",e=b&&b.node?b.node.ownerDocument:C.doc;return e[d in e.documentElement?\"documentElement\":\"body\"][d]},f=function(){this.returnValue=!1},n=function(){return this.originalEvent.preventDefault()},u=function(){this.cancelBubble=!0},p=function(){return this.originalEvent.stopPropagation()},b=function(){if(C.doc.addEventListener)return function(a,b,e,f){var k=w&&z[b]?z[b]:b,l=function(k){var l=\n",
        "d(\"y\",f),q=d(\"x\",f);if(w&&z.hasOwnProperty(b))for(var r=0,u=k.targetTouches&&k.targetTouches.length;r<u;r++)if(k.targetTouches[r].target==a||a.contains(k.targetTouches[r].target)){u=k;k=k.targetTouches[r];k.originalEvent=u;k.preventDefault=n;k.stopPropagation=p;break}return e.call(f,k,k.clientX+q,k.clientY+l)};b!==k&&a.addEventListener(b,l,!1);a.addEventListener(k,l,!1);return function(){b!==k&&a.removeEventListener(b,l,!1);a.removeEventListener(k,l,!1);return!0}};if(C.doc.attachEvent)return function(a,\n",
        "b,e,h){var k=function(a){a=a||h.node.ownerDocument.window.event;var b=d(\"y\",h),k=d(\"x\",h),k=a.clientX+k,b=a.clientY+b;a.preventDefault=a.preventDefault||f;a.stopPropagation=a.stopPropagation||u;return e.call(h,a,k,b)};a.attachEvent(\"on\"+b,k);return function(){a.detachEvent(\"on\"+b,k);return!0}}}(),q=[],e=function(a){for(var b=a.clientX,e=a.clientY,f=d(\"y\"),l=d(\"x\"),n,p=q.length;p--;){n=q[p];if(w)for(var r=a.touches&&a.touches.length,u;r--;){if(u=a.touches[r],u.identifier==n.el._drag.id||n.el.node.contains(u.target)){b=\n",
        "u.clientX;e=u.clientY;(a.originalEvent?a.originalEvent:a).preventDefault();break}}else a.preventDefault();b+=l;e+=f;k(\"snap.drag.move.\"+n.el.id,n.move_scope||n.el,b-n.el._drag.x,e-n.el._drag.y,b,e,a)}},l=function(b){a.unmousemove(e).unmouseup(l);for(var d=q.length,f;d--;)f=q[d],f.el._drag={},k(\"snap.drag.end.\"+f.el.id,f.end_scope||f.start_scope||f.move_scope||f.el,b);q=[]};for(y=v.length;y--;)(function(d){a[d]=A[d]=function(e,f){a.is(e,\"function\")&&(this.events=this.events||[],this.events.push({name:d,\n",
        "f:e,unbind:b(this.node||document,d,e,f||this)}));return this};a[\"un\"+d]=A[\"un\"+d]=function(a){for(var b=this.events||[],e=b.length;e--;)if(b[e].name==d&&(b[e].f==a||!a)){b[e].unbind();b.splice(e,1);!b.length&&delete this.events;break}return this}})(v[y]);A.hover=function(a,b,d,e){return this.mouseover(a,d).mouseout(b,e||d)};A.unhover=function(a,b){return this.unmouseover(a).unmouseout(b)};var r=[];A.drag=function(b,d,f,h,n,p){function u(r,v,w){(r.originalEvent||r).preventDefault();this._drag.x=v;\n",
        "this._drag.y=w;this._drag.id=r.identifier;!q.length&&a.mousemove(e).mouseup(l);q.push({el:this,move_scope:h,start_scope:n,end_scope:p});d&&k.on(\"snap.drag.start.\"+this.id,d);b&&k.on(\"snap.drag.move.\"+this.id,b);f&&k.on(\"snap.drag.end.\"+this.id,f);k(\"snap.drag.start.\"+this.id,n||h||this,v,w,r)}if(!arguments.length){var v;return this.drag(function(a,b){this.attr({transform:v+(v?\"T\":\"t\")+[a,b]})},function(){v=this.transform().local})}this._drag={};r.push({el:this,start:u});this.mousedown(u);return this};\n",
        "A.undrag=function(){for(var b=r.length;b--;)r[b].el==this&&(this.unmousedown(r[b].start),r.splice(b,1),k.unbind(\"snap.drag.*.\"+this.id));!r.length&&a.unmousemove(e).unmouseup(l);return this}});C.plugin(function(a,v,y,C){y=y.prototype;var A=/^\\s*url\\((.+)\\)/,w=String,z=a._.$;a.filter={};y.filter=function(d){var f=this;\"svg\"!=f.type&&(f=f.paper);d=a.parse(w(d));var k=a._.id(),u=z(\"filter\");z(u,{id:k,filterUnits:\"userSpaceOnUse\"});u.appendChild(d.node);f.defs.appendChild(u);return new v(u)};k.on(\"snap.util.getattr.filter\",\n",
        "function(){k.stop();var d=z(this.node,\"filter\");if(d)return(d=w(d).match(A))&&a.select(d[1])});k.on(\"snap.util.attr.filter\",function(d){if(d instanceof v&&\"filter\"==d.type){k.stop();var f=d.node.id;f||(z(d.node,{id:d.id}),f=d.id);z(this.node,{filter:a.url(f)})}d&&\"none\"!=d||(k.stop(),this.node.removeAttribute(\"filter\"))});a.filter.blur=function(d,f){null==d&&(d=2);return a.format('<feGaussianBlur stdDeviation=\"{def}\"/>',{def:null==f?d:[d,f]})};a.filter.blur.toString=function(){return this()};a.filter.shadow=\n",
        "function(d,f,k,u,p){\"string\"==typeof k&&(p=u=k,k=4);\"string\"!=typeof u&&(p=u,u=\"#000\");null==k&&(k=4);null==p&&(p=1);null==d&&(d=0,f=2);null==f&&(f=d);u=a.color(u||\"#000\");return a.format('<feGaussianBlur in=\"SourceAlpha\" stdDeviation=\"{blur}\"/><feOffset dx=\"{dx}\" dy=\"{dy}\" result=\"offsetblur\"/><feFlood flood-color=\"{color}\"/><feComposite in2=\"offsetblur\" operator=\"in\"/><feComponentTransfer><feFuncA type=\"linear\" slope=\"{opacity}\"/></feComponentTransfer><feMerge><feMergeNode/><feMergeNode in=\"SourceGraphic\"/></feMerge>',\n",
        "{color:u,dx:d,dy:f,blur:k,opacity:p})};a.filter.shadow.toString=function(){return this()};a.filter.grayscale=function(d){null==d&&(d=1);return a.format('<feColorMatrix type=\"matrix\" values=\"{a} {b} {c} 0 0 {d} {e} {f} 0 0 {g} {b} {h} 0 0 0 0 0 1 0\"/>',{a:0.2126+0.7874*(1-d),b:0.7152-0.7152*(1-d),c:0.0722-0.0722*(1-d),d:0.2126-0.2126*(1-d),e:0.7152+0.2848*(1-d),f:0.0722-0.0722*(1-d),g:0.2126-0.2126*(1-d),h:0.0722+0.9278*(1-d)})};a.filter.grayscale.toString=function(){return this()};a.filter.sepia=\n",
        "function(d){null==d&&(d=1);return a.format('<feColorMatrix type=\"matrix\" values=\"{a} {b} {c} 0 0 {d} {e} {f} 0 0 {g} {h} {i} 0 0 0 0 0 1 0\"/>',{a:0.393+0.607*(1-d),b:0.769-0.769*(1-d),c:0.189-0.189*(1-d),d:0.349-0.349*(1-d),e:0.686+0.314*(1-d),f:0.168-0.168*(1-d),g:0.272-0.272*(1-d),h:0.534-0.534*(1-d),i:0.131+0.869*(1-d)})};a.filter.sepia.toString=function(){return this()};a.filter.saturate=function(d){null==d&&(d=1);return a.format('<feColorMatrix type=\"saturate\" values=\"{amount}\"/>',{amount:1-\n",
        "d})};a.filter.saturate.toString=function(){return this()};a.filter.hueRotate=function(d){return a.format('<feColorMatrix type=\"hueRotate\" values=\"{angle}\"/>',{angle:d||0})};a.filter.hueRotate.toString=function(){return this()};a.filter.invert=function(d){null==d&&(d=1);return a.format('<feComponentTransfer><feFuncR type=\"table\" tableValues=\"{amount} {amount2}\"/><feFuncG type=\"table\" tableValues=\"{amount} {amount2}\"/><feFuncB type=\"table\" tableValues=\"{amount} {amount2}\"/></feComponentTransfer>',{amount:d,\n",
        "amount2:1-d})};a.filter.invert.toString=function(){return this()};a.filter.brightness=function(d){null==d&&(d=1);return a.format('<feComponentTransfer><feFuncR type=\"linear\" slope=\"{amount}\"/><feFuncG type=\"linear\" slope=\"{amount}\"/><feFuncB type=\"linear\" slope=\"{amount}\"/></feComponentTransfer>',{amount:d})};a.filter.brightness.toString=function(){return this()};a.filter.contrast=function(d){null==d&&(d=1);return a.format('<feComponentTransfer><feFuncR type=\"linear\" slope=\"{amount}\" intercept=\"{amount2}\"/><feFuncG type=\"linear\" slope=\"{amount}\" intercept=\"{amount2}\"/><feFuncB type=\"linear\" slope=\"{amount}\" intercept=\"{amount2}\"/></feComponentTransfer>',\n",
        "{amount:d,amount2:0.5-d/2})};a.filter.contrast.toString=function(){return this()}});return C});\n",
        "\n",
        "]]> </script>\n",
        "</svg>\n"
       ],
       "metadata": {
        "comm_id": "d0417351-f487-439e-95a2-882b9f6c9416",
        "reactive": true
       },
       "output_type": "pyout",
       "prompt_number": 16,
       "svg": [
        "<?xml version=\"1.0\" encoding=\"UTF-8\"?>\n",
        "<svg xmlns=\"http://www.w3.org/2000/svg\"\n",
        "     xmlns:xlink=\"http://www.w3.org/1999/xlink\"\n",
        "     version=\"1.2\"\n",
        "     width=\"120mm\" height=\"120mm\" viewBox=\"0 0 120 120\"\n",
        "     stroke=\"none\"\n",
        "     fill=\"#000000\"\n",
        "     stroke-width=\"0.3\"\n",
        ">\n",
        "<g fill=\"#FF6347\" id=\"fig-661131ff1e46465a90c06eafa20901ff-element-1\">\n",
        "  <circle cx=\"66\" cy=\"126\" r=\"6\"/>\n",
        "</g>\n",
        "</svg>\n"
       ],
       "text": [
        "Context(BoundingBox(Measure{Float64,MeasureNil}(0.0,0.5,MeasureNil(),0.0,0.0),Measure{MeasureNil,Float64}(0.0,MeasureNil(),1.0,0.0,0.0),Measure{Float64,MeasureNil}(0.0,0.1,MeasureNil(),0.0,0.0),Measure{MeasureNil,Float64}(0.0,MeasureNil(),0.1,0.0,0.0)),UnitBox{Nothing,Nothing,Nothing,Nothing}(nothing,nothing,nothing,nothing,Measure{MeasureNil,MeasureNil}(0.0,MeasureNil(),MeasureNil(),0.0,0.0),Measure{MeasureNil,MeasureNil}(0.0,MeasureNil(),MeasureNil(),0.0,0.0),Measure{MeasureNil,MeasureNil}(0.0,MeasureNil(),MeasureNil(),0.0,0.0),Measure{MeasureNil,MeasureNil}(0.0,MeasureNil(),MeasureNil(),0.0,0.0)),Rotation(0.0,Point(Measure{MeasureNil,MeasureNil}(0.0,MeasureNil(),MeasureNil(),0.5,0.0),Measure{MeasureNil,MeasureNil}(0.0,MeasureNil(),MeasureNil(),0.0,0.5))),ListNode{ComposeNode}(Form{CirclePrimitive}([CirclePrimitive(Point(Measure{MeasureNil,MeasureNil}(0.0,MeasureNil(),MeasureNil(),0.5,0.0),Measure{MeasureNil,MeasureNil}(0.0,MeasureNil(),MeasureNil(),0.0,0.5)),Measure{MeasureNil,MeasureNil}(0.0,MeasureNil(),MeasureNil(),0.5,0.0))]),ListNode{ComposeNode}(Property{FillPrimitive}([FillPrimitive(RGB{Float64}(1.0,0.38823529411764707,0.2784313725490196))]),ListNull{ComposeNode}())),0,false,false,false,false,nothing,nothing,0.0)"
       ]
      }
     ],
     "prompt_number": 16
    },
    {
     "cell_type": "code",
     "collapsed": false,
     "input": [],
     "language": "python",
     "metadata": {},
     "outputs": []
    }
   ],
   "metadata": {}
  }
 ]
}