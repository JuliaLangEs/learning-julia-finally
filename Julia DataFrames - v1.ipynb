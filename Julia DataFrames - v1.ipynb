{
 "metadata": {
  "language": "Julia",
  "name": "",
  "signature": "sha256:de5b0d301e89f2bd4e8e5bb1c222cf8905d713902dec604f442caabff1af608f"
 },
 "nbformat": 3,
 "nbformat_minor": 0,
 "worksheets": [
  {
   "cells": [
    {
     "cell_type": "code",
     "collapsed": false,
     "input": [
      "using DataFrames, RDatasets"
     ],
     "language": "python",
     "metadata": {},
     "outputs": [],
     "prompt_number": 1
    },
    {
     "cell_type": "markdown",
     "metadata": {},
     "source": [
      "1. [tutorials](https://github.com/JuliaLang/julia-tutorial/blob/master/DataFrames/slides.md)"
     ]
    },
    {
     "cell_type": "markdown",
     "metadata": {},
     "source": [
      "## Data ABC"
     ]
    },
    {
     "cell_type": "markdown",
     "metadata": {},
     "source": [
      "##### DataFrames introduces several main types,\n",
      "1. NA for NA values\n",
      "2. DataArray (with @data as constructor) - extension of Julia array (e.g. with NA), representing a column in data frame\n",
      "3. DataFrame - R/Pandas like dataframe, but they don't have index as in pandas.DataFrame\n",
      "4. ModelFrame/ModelMatrix - convenient wrappers for modeling with DataFrame"
     ]
    },
    {
     "cell_type": "code",
     "collapsed": false,
     "input": [
      "## understanding NA - its poison to calculation\n",
      "## general rule for NA calculation: the operation involving NA return NA when\n",
      "## the result of the operation cannot be determined, but operations whose value\n",
      "## can be determined despite the presence of NA will return a value that is NOT NA.\n",
      "println(\"NA + 1 = $(NA+1)\")\n",
      "println(\"NA == NA is $(NA==NA)\")\n",
      "println(\"NA === NA is $(NA===NA)\")\n",
      "println(\"isna(NA) IS $(isna(NA))\")\n",
      "\n",
      "\n",
      "println(\"false && NA IS $(false && NA)\")\n",
      "println(\"true && NA IS $(true && NA)\")\n",
      "\n",
      "println(\"isnan(NA) IS $(isnan(NA))\")"
     ],
     "language": "python",
     "metadata": {},
     "outputs": [
      {
       "output_type": "stream",
       "stream": "stdout",
       "text": [
        "NA + 1 = NA\n"
       ]
      },
      {
       "output_type": "stream",
       "stream": "stdout",
       "text": [
        "NA == NA is NA\n",
        "NA === NA is true\n",
        "isna(NA) IS true\n",
        "false && NA IS false\n",
        "true && NA IS NA\n"
       ]
      },
      {
       "ename": "LoadError",
       "evalue": "`isnan` has no method matching isnan(::NAtype)\nwhile loading In[2], in expression starting on line 14",
       "output_type": "pyerr",
       "traceback": [
        "`isnan` has no method matching isnan(::NAtype)\nwhile loading In[2], in expression starting on line 14",
        ""
       ]
      }
     ],
     "prompt_number": 2
    },
    {
     "cell_type": "code",
     "collapsed": false,
     "input": [
      "## NA drop and fill(replacement)\n",
      "dv = @data([NA, 1, 2, 3, 4])\n",
      "dropna(dv)"
     ],
     "language": "python",
     "metadata": {},
     "outputs": [
      {
       "metadata": {},
       "output_type": "pyout",
       "prompt_number": 3,
       "text": [
        "4-element Array{Int64,1}:\n",
        " 1\n",
        " 2\n",
        " 3\n",
        " 4"
       ]
      }
     ],
     "prompt_number": 3
    },
    {
     "cell_type": "code",
     "collapsed": false,
     "input": [
      "dv = @data([NA, 1, 2, 3, 4])\n",
      "array(dv, 0, )"
     ],
     "language": "python",
     "metadata": {},
     "outputs": [
      {
       "metadata": {},
       "output_type": "pyout",
       "prompt_number": 4,
       "text": [
        "5-element Array{Int64,1}:\n",
        " 0\n",
        " 1\n",
        " 2\n",
        " 3\n",
        " 4"
       ]
      }
     ],
     "prompt_number": 4
    },
    {
     "cell_type": "code",
     "collapsed": false,
     "input": [
      "## NA drop for dataframe\n",
      "df = DataFrame(A = 1:4, B = @data([:M, NA, :M, :F]))\n",
      "df[3, :A] = NA\n",
      "df"
     ],
     "language": "python",
     "metadata": {},
     "outputs": [
      {
       "html": [
        "<table class=\"data-frame\"><tr><th></th><th>A</th><th>B</th></tr><tr><th>1</th><td>1</td><td>M</td></tr><tr><th>2</th><td>2</td><td>NA</td></tr><tr><th>3</th><td>NA</td><td>M</td></tr><tr><th>4</th><td>4</td><td>F</td></tr></table>"
       ],
       "metadata": {},
       "output_type": "pyout",
       "prompt_number": 5,
       "text": [
        "4x2 DataFrame\n",
        "| Row | A  | B  |\n",
        "|-----|----|----|\n",
        "| 1   | 1  | M  |\n",
        "| 2   | 2  | NA |\n",
        "| 3   | NA | M  |\n",
        "| 4   | 4  | F  |"
       ]
      }
     ],
     "prompt_number": 5
    },
    {
     "cell_type": "code",
     "collapsed": false,
     "input": [
      "## Dropna only works with DataArray, not with DataFrame\n",
      "## so does array\n",
      "dropna(df)"
     ],
     "language": "python",
     "metadata": {},
     "outputs": [
      {
       "ename": "LoadError",
       "evalue": "`dropna` has no method matching dropna(::DataFrame)\nwhile loading In[6], in expression starting on line 3",
       "output_type": "pyerr",
       "traceback": [
        "`dropna` has no method matching dropna(::DataFrame)\nwhile loading In[6], in expression starting on line 3",
        ""
       ]
      }
     ],
     "prompt_number": 6
    },
    {
     "cell_type": "code",
     "collapsed": false,
     "input": [
      "array(df, 0)"
     ],
     "language": "python",
     "metadata": {},
     "outputs": [
      {
       "ename": "LoadError",
       "evalue": "`array` has no method matching array(::DataFrame, ::Int64)\nwhile loading In[7], in expression starting on line 1",
       "output_type": "pyerr",
       "traceback": [
        "`array` has no method matching array(::DataFrame, ::Int64)\nwhile loading In[7], in expression starting on line 1",
        ""
       ]
      }
     ],
     "prompt_number": 7
    },
    {
     "cell_type": "code",
     "collapsed": false,
     "input": [
      "## but you can do it colwise\n",
      "colwise(col -> array(col, dropna(col)[1]), df)"
     ],
     "language": "python",
     "metadata": {},
     "outputs": [
      {
       "metadata": {},
       "output_type": "pyout",
       "prompt_number": 8,
       "text": [
        "2-element Array{Any,1}:\n",
        " [1,2,1,4]    \n",
        " [:M,:M,:M,:F]"
       ]
      }
     ],
     "prompt_number": 8
    },
    {
     "cell_type": "code",
     "collapsed": false,
     "input": [
      "## remove rows with any NA - NOTE the CHANGE OF INDEX!!\n",
      "df[~any(colwise(isna, df),), :]"
     ],
     "language": "python",
     "metadata": {},
     "outputs": [
      {
       "html": [
        "<table class=\"data-frame\"><tr><th></th><th>A</th><th>B</th></tr><tr><th>1</th><td>1</td><td>M</td></tr><tr><th>2</th><td>4</td><td>F</td></tr></table>"
       ],
       "metadata": {},
       "output_type": "pyout",
       "prompt_number": 9,
       "text": [
        "2x2 DataFrame\n",
        "| Row | A | B |\n",
        "|-----|---|---|\n",
        "| 1   | 1 | M |\n",
        "| 2   | 4 | F |"
       ]
      }
     ],
     "prompt_number": 9
    },
    {
     "cell_type": "code",
     "collapsed": false,
     "input": [
      "## OR ...\n",
      "df[complete_cases(df),:]"
     ],
     "language": "python",
     "metadata": {},
     "outputs": [
      {
       "html": [
        "<table class=\"data-frame\"><tr><th></th><th>A</th><th>B</th></tr><tr><th>1</th><td>1</td><td>M</td></tr><tr><th>2</th><td>4</td><td>F</td></tr></table>"
       ],
       "metadata": {},
       "output_type": "pyout",
       "prompt_number": 12,
       "text": [
        "2x2 DataFrame\n",
        "| Row | A | B |\n",
        "|-----|---|---|\n",
        "| 1   | 1 | M |\n",
        "| 2   | 4 | F |"
       ]
      }
     ],
     "prompt_number": 12
    },
    {
     "cell_type": "code",
     "collapsed": false,
     "input": [
      "## DataArray: Except for the ability to store NA values, the DataArray type is meant to behave\n",
      "## exactly like Julia\u2019s standard Array type.\n",
      "## In particular, DataArray provides two typealiases called DataVector and DataMatrix \n",
      "## that mimic the Vector and Matrix typealiases for 1D and 2D Array types.\n",
      "\n",
      "dv = @data([NA, 1, 2, 3, 4]) ## 1D data vector\n",
      "println(typeof(dv), dv)\n",
      "dm = @data([NA 1 2 3]) ## 2D data array, but not heterogeneous, compared to DataFrame\n",
      "println(typeof(dm), dm)\n",
      "\n",
      "print(mean(dv))"
     ],
     "language": "python",
     "metadata": {},
     "outputs": [
      {
       "output_type": "stream",
       "stream": "stdout",
       "text": [
        "DataArray{"
       ]
      },
      {
       "output_type": "stream",
       "stream": "stdout",
       "text": [
        "Int64,1}[NA,1,2,3,4]\n",
        "DataArray{Int64,2}["
       ]
      },
      {
       "output_type": "stream",
       "stream": "stdout",
       "text": [
        "NA 1 2 3]\n",
        "NA"
       ]
      }
     ],
     "prompt_number": 13
    },
    {
     "cell_type": "code",
     "collapsed": false,
     "input": [
      "dv .* dv"
     ],
     "language": "python",
     "metadata": {},
     "outputs": [
      {
       "metadata": {},
       "output_type": "pyout",
       "prompt_number": 14,
       "text": [
        "5-element DataArray{Int64,1}:\n",
        "   NA\n",
        "  1  \n",
        "  4  \n",
        "  9  \n",
        " 16  "
       ]
      }
     ],
     "prompt_number": 14
    },
    {
     "cell_type": "code",
     "collapsed": false,
     "input": [
      "## conversion from DataFrame to Julia Array (you have to explictily remove NA first)\n",
      "convert(Array, dv)"
     ],
     "language": "python",
     "metadata": {},
     "outputs": [
      {
       "ename": "LoadError",
       "evalue": "NAException(\"Cannot convert DataArray with NA's to desired type\")\nwhile loading In[15], in expression starting on line 2",
       "output_type": "pyerr",
       "traceback": [
        "NAException(\"Cannot convert DataArray with NA's to desired type\")\nwhile loading In[15], in expression starting on line 2",
        "",
        " in convert at /home/dola/.julia/v0.3/DataArrays/src/dataarray.jl:563",
        " in convert at /home/dola/.julia/v0.3/DataArrays/src/dataarray.jl:570"
       ]
      }
     ],
     "prompt_number": 15
    },
    {
     "cell_type": "code",
     "collapsed": false,
     "input": [
      "convert(Array, dropna(dv))"
     ],
     "language": "python",
     "metadata": {},
     "outputs": [
      {
       "metadata": {},
       "output_type": "pyout",
       "prompt_number": 16,
       "text": [
        "4-element Array{Int64,1}:\n",
        " 1\n",
        " 2\n",
        " 3\n",
        " 4"
       ]
      }
     ],
     "prompt_number": 16
    },
    {
     "cell_type": "code",
     "collapsed": false,
     "input": [
      "## DataFrame: Tabular data, heterogeneous columns, with each has a consistent type\n",
      "df = DataFrame(A = 1:4, B = [:M, :F, :M, :F])"
     ],
     "language": "python",
     "metadata": {},
     "outputs": [
      {
       "html": [
        "<table class=\"data-frame\"><tr><th></th><th>A</th><th>B</th></tr><tr><th>1</th><td>1</td><td>M</td></tr><tr><th>2</th><td>2</td><td>F</td></tr><tr><th>3</th><td>3</td><td>M</td></tr><tr><th>4</th><td>4</td><td>F</td></tr></table>"
       ],
       "metadata": {},
       "output_type": "pyout",
       "prompt_number": 17,
       "text": [
        "4x2 DataFrame\n",
        "| Row | A | B |\n",
        "|-----|---|---|\n",
        "| 1   | 1 | M |\n",
        "| 2   | 2 | F |\n",
        "| 3   | 3 | M |\n",
        "| 4   | 4 | F |"
       ]
      }
     ],
     "prompt_number": 17
    },
    {
     "cell_type": "code",
     "collapsed": false,
     "input": [
      "size(df), length(df)"
     ],
     "language": "python",
     "metadata": {},
     "outputs": [
      {
       "metadata": {},
       "output_type": "pyout",
       "prompt_number": 18,
       "text": [
        "((4,2),2)"
       ]
      }
     ],
     "prompt_number": 18
    },
    {
     "cell_type": "code",
     "collapsed": false,
     "input": [
      "describe(df)"
     ],
     "language": "python",
     "metadata": {},
     "outputs": [
      {
       "output_type": "stream",
       "stream": "stdout",
       "text": [
        "A\n"
       ]
      },
      {
       "output_type": "stream",
       "stream": "stdout",
       "text": [
        "Min      1.0"
       ]
      },
      {
       "output_type": "stream",
       "stream": "stdout",
       "text": [
        "\n",
        "1st Qu.  1.75\n",
        "Median   2.5\n",
        "Mean     2.5\n",
        "3rd Qu.  3.25\n",
        "Max      4.0\n",
        "NAs      0\n",
        "NA%      0.0%\n",
        "\n",
        "B\n",
        "Length  4\n",
        "Type    Symbol\n",
        "NAs     0\n",
        "NA%     0.0%\n",
        "Unique  2\n",
        "\n"
       ]
      }
     ],
     "prompt_number": 19
    },
    {
     "cell_type": "code",
     "collapsed": false,
     "input": [
      "## MOST operations are designed to be applied to a single column DataArray\n",
      "## so using colwise is quite common in Julia DataFrames\n",
      "colwise(mode, df)"
     ],
     "language": "python",
     "metadata": {},
     "outputs": [
      {
       "metadata": {},
       "output_type": "pyout",
       "prompt_number": 20,
       "text": [
        "2-element Array{Any,1}:\n",
        " [1] \n",
        " [:M]"
       ]
      }
     ],
     "prompt_number": 20
    },
    {
     "cell_type": "code",
     "collapsed": false,
     "input": [
      "## Access RDatasets - really like the idea!\n",
      "iris = dataset(\"datasets\", \"iris\", )\n",
      "head(iris)"
     ],
     "language": "python",
     "metadata": {},
     "outputs": [
      {
       "html": [
        "<table class=\"data-frame\"><tr><th></th><th>SepalLength</th><th>SepalWidth</th><th>PetalLength</th><th>PetalWidth</th><th>Species</th></tr><tr><th>1</th><td>5.1</td><td>3.5</td><td>1.4</td><td>0.2</td><td>setosa</td></tr><tr><th>2</th><td>4.9</td><td>3.0</td><td>1.4</td><td>0.2</td><td>setosa</td></tr><tr><th>3</th><td>4.7</td><td>3.2</td><td>1.3</td><td>0.2</td><td>setosa</td></tr><tr><th>4</th><td>4.6</td><td>3.1</td><td>1.5</td><td>0.2</td><td>setosa</td></tr><tr><th>5</th><td>5.0</td><td>3.6</td><td>1.4</td><td>0.2</td><td>setosa</td></tr><tr><th>6</th><td>5.4</td><td>3.9</td><td>1.7</td><td>0.4</td><td>setosa</td></tr></table>"
       ],
       "metadata": {},
       "output_type": "pyout",
       "prompt_number": 21,
       "text": [
        "6x5 DataFrame\n",
        "| Row | SepalLength | SepalWidth | PetalLength | PetalWidth | Species  |\n",
        "|-----|-------------|------------|-------------|------------|----------|\n",
        "| 1   | 5.1         | 3.5        | 1.4         | 0.2        | \"setosa\" |\n",
        "| 2   | 4.9         | 3.0        | 1.4         | 0.2        | \"setosa\" |\n",
        "| 3   | 4.7         | 3.2        | 1.3         | 0.2        | \"setosa\" |\n",
        "| 4   | 4.6         | 3.1        | 1.5         | 0.2        | \"setosa\" |\n",
        "| 5   | 5.0         | 3.6        | 1.4         | 0.2        | \"setosa\" |\n",
        "| 6   | 5.4         | 3.9        | 1.7         | 0.4        | \"setosa\" |"
       ]
      }
     ],
     "prompt_number": 21
    },
    {
     "cell_type": "code",
     "collapsed": false,
     "input": [
      "## subset --??\n",
      "sub(iris, :(:Species == \"setosa\"))"
     ],
     "language": "python",
     "metadata": {},
     "outputs": [
      {
       "ename": "LoadError",
       "evalue": "`getindex` has no method matching getindex(::SimpleIndex, ::Expr)\nwhile loading In[28], in expression starting on line 2",
       "output_type": "pyerr",
       "traceback": [
        "`getindex` has no method matching getindex(::SimpleIndex, ::Expr)\nwhile loading In[28], in expression starting on line 2",
        "",
        " in sub at /home/dola/.julia/v0.3/DataFrames/src/subdataframe/subdataframe.jl:97"
       ]
      }
     ],
     "prompt_number": 28
    },
    {
     "cell_type": "code",
     "collapsed": false,
     "input": [],
     "language": "python",
     "metadata": {},
     "outputs": []
    },
    {
     "cell_type": "markdown",
     "metadata": {},
     "source": [
      "## Data IO/Streaming"
     ]
    },
    {
     "cell_type": "code",
     "collapsed": false,
     "input": [
      "writetable(\"data/iris.csv\", iris)"
     ],
     "language": "python",
     "metadata": {},
     "outputs": [
      {
       "ename": "LoadError",
       "evalue": "opening file data/iris.csv: No such file or directory\nwhile loading In[19], in expression starting on line 1",
       "output_type": "pyerr",
       "traceback": [
        "opening file data/iris.csv: No such file or directory\nwhile loading In[19], in expression starting on line 1",
        "",
        " in open at ./iostream.jl:117",
        " in open at ./iostream.jl:125",
        " in writetable at /home/dola/.julia/v0.3/DataFrames/src/dataframe/io.jl:1055"
       ]
      }
     ],
     "prompt_number": 19
    },
    {
     "cell_type": "code",
     "collapsed": false,
     "input": [
      "iris_df = readtable(\"data/iris.csv\")\n",
      "iris_df == iris"
     ],
     "language": "python",
     "metadata": {},
     "outputs": [
      {
       "ename": "LoadError",
       "evalue": "opening file data/iris.csv: No such file or directory\nwhile loading In[20], in expression starting on line 1",
       "output_type": "pyerr",
       "traceback": [
        "opening file data/iris.csv: No such file or directory\nwhile loading In[20], in expression starting on line 1",
        "",
        " in open at ./iostream.jl:117",
        " in open at ./iostream.jl:125",
        " in readtable at /home/dola/.julia/v0.3/DataFrames/src/dataframe/io.jl:886"
       ]
      }
     ],
     "prompt_number": 20
    },
    {
     "cell_type": "code",
     "collapsed": false,
     "input": [
      "## streaming of large data\n",
      "data_file = Pkg.dir(\"DataFrames\", \"test\", \"data\", \"scaling\", \"10000rows.csv\")\n",
      "ds = readstream(data_file)"
     ],
     "language": "python",
     "metadata": {},
     "outputs": [
      {
       "ename": "LoadError",
       "evalue": "readstream not defined\nwhile loading In[21], in expression starting on line 3",
       "output_type": "pyerr",
       "traceback": [
        "readstream not defined\nwhile loading In[21], in expression starting on line 3",
        ""
       ]
      }
     ],
     "prompt_number": 21
    },
    {
     "cell_type": "markdown",
     "metadata": {},
     "source": [
      "**??????**"
     ]
    },
    {
     "cell_type": "markdown",
     "metadata": {},
     "source": [
      "## Data Joining\n",
      "\n",
      "***NO left_on, right_on so far, but it supports multiple key joining***"
     ]
    },
    {
     "cell_type": "code",
     "collapsed": false,
     "input": [
      "names = DataFrame(ID = [1, 2], Name = [\"John Doe\", \"Jane Doe\"])\n",
      "jobs = DataFrame(ID = [1, 3], Job = [\"Lawyer\", \"Doctor\"]);"
     ],
     "language": "python",
     "metadata": {},
     "outputs": [],
     "prompt_number": 22
    },
    {
     "cell_type": "code",
     "collapsed": false,
     "input": [
      "println(\"inner\")\n",
      "println(join(names, jobs, on = :ID, kind = :inner))\n",
      "println(\"left\")\n",
      "println(join(names, jobs, on = :ID, kind = :left))\n",
      "println(\"right\")\n",
      "println(join(names, jobs, on = :ID, kind = :right))\n",
      "println(\"outer\")\n",
      "println(join(names, jobs, on = :ID, kind = :outer))\n",
      "\n",
      "## different dimensions/columns\n",
      "println(\"semi\")\n",
      "println(join(names, jobs, on = :ID, kind = :semi))\n",
      "println(\"anit\")\n",
      "println(join(names, jobs, on = :ID, kind = :anti))\n",
      "println(\"cross\")\n",
      "println(join(names, jobs,  kind = :cross))"
     ],
     "language": "python",
     "metadata": {},
     "outputs": [
      {
       "output_type": "stream",
       "stream": "stdout",
       "text": [
        "inner\n"
       ]
      },
      {
       "output_type": "stream",
       "stream": "stdout",
       "text": [
        "1x3 DataFrame"
       ]
      },
      {
       "output_type": "stream",
       "stream": "stdout",
       "text": [
        "\n",
        "|-------|----|------------|----------|\n",
        "| Row # | ID | Name       | Job      |\n",
        "| 1     | 1  | \"John Doe\" | \"Lawyer\" |\n",
        "\n",
        "left\n",
        "2x3 DataFrame\n",
        "|-------|----|------------|----------|\n",
        "| Row # | ID | Name       | Job      |\n",
        "| 1     | 1  | \"John Doe\" | \"Lawyer\" |\n",
        "| 2     | 2  | \"Jane Doe\" | NA       |\n",
        "\n",
        "right\n",
        "2x3 DataFrame\n",
        "|-------|------------|----|----------|\n",
        "| Row # | Name       | ID | Job      |\n",
        "| 1     | \"John Doe\" | 1  | \"Lawyer\" |\n",
        "| 2     | NA         | 3  | \"Doctor\" |\n",
        "\n",
        "outer\n",
        "3x3 DataFrame"
       ]
      },
      {
       "output_type": "stream",
       "stream": "stdout",
       "text": [
        "\n",
        "|-------|----|------------|----------|\n",
        "| Row # | ID | Name       | Job      |\n",
        "| 1     | 1  | \"John Doe\" | \"Lawyer\" |\n",
        "| 2     | 2  | \"Jane Doe\" | NA       |\n",
        "| 3     | 3  | NA         | \"Doctor\" |\n",
        "\n",
        "semi\n",
        "1x2 DataFrame\n",
        "|-------|----|------------|\n",
        "| Row # | ID | Name       |\n",
        "| 1     | 1  | \"John Doe\" |\n",
        "\n",
        "anit\n",
        "1x2 DataFrame\n",
        "|-------|----|------------|\n",
        "| Row # | ID | Name       |\n",
        "| 1     | 2  | \"Jane Doe\" |\n",
        "\n",
        "cross\n",
        "4x4 DataFrame\n",
        "|-------|----|------------|------|----------|\n",
        "| Row # | ID | Name       | ID_1 | Job      |\n",
        "| 1     | 1  | \"John Doe\" | 1    | \"Lawyer\" |\n",
        "| 2     | 1  | \"John Doe\" | 3    | \"Doctor\" |\n",
        "| 3     | 2  | \"Jane Doe\" | 1    | \"Lawyer\" |\n",
        "| 4     | 2  | \"Jane Doe\" | 3    | \"Doctor\" |\n",
        "\n"
       ]
      }
     ],
     "prompt_number": 23
    },
    {
     "cell_type": "markdown",
     "metadata": {},
     "source": [
      "## Data Groupby : split-apply-combine"
     ]
    },
    {
     "cell_type": "code",
     "collapsed": false,
     "input": [
      "iris_df = copy(iris)\n",
      "iris_df[:Train] = vcat(falses(100), trues(50), );"
     ],
     "language": "python",
     "metadata": {},
     "outputs": [],
     "prompt_number": 24
    },
    {
     "cell_type": "code",
     "collapsed": false,
     "input": [
      "## by for split-apply-combine pattern\n",
      "by(iris_df, [:Species, :Train], df->mean(df[:PetalLength]))"
     ],
     "language": "python",
     "metadata": {},
     "outputs": [
      {
       "html": [
        "<table class=\"data-frame\"><tr><th></th><th>Species</th><th>Train</th><th>x1</th></tr><tr><th>1</th><td>setosa</td><td>false</td><td>1.462</td></tr><tr><th>2</th><td>versicolor</td><td>false</td><td>4.26</td></tr><tr><th>3</th><td>virginica</td><td>true</td><td>5.552</td></tr></table>"
       ],
       "metadata": {},
       "output_type": "pyout",
       "prompt_number": 25,
       "text": [
        "3x3 DataFrame\n",
        "|-------|--------------|-------|-------|\n",
        "| Row # | Species      | Train | x1    |\n",
        "| 1     | \"setosa\"     | false | 1.462 |\n",
        "| 2     | \"versicolor\" | false | 4.26  |\n",
        "| 3     | \"virginica\"  | true  | 5.552 |"
       ]
      }
     ],
     "prompt_number": 25
    },
    {
     "cell_type": "code",
     "collapsed": false,
     "input": [
      "## groupby for split-apply pattern\n",
      "## note the difference with pandas.DataFrame\n",
      "for subdf in groupby(iris_df, [:Species, :Train])\n",
      "    print(size(subdf))\n",
      "end"
     ],
     "language": "python",
     "metadata": {},
     "outputs": [
      {
       "output_type": "stream",
       "stream": "stdout",
       "text": [
        "(50"
       ]
      },
      {
       "output_type": "stream",
       "stream": "stdout",
       "text": [
        ",6)(50,6)(50,6)"
       ]
      }
     ],
     "prompt_number": 26
    },
    {
     "cell_type": "markdown",
     "metadata": {},
     "source": [
      "## Reshaping & Pivoting"
     ]
    },
    {
     "cell_type": "code",
     "collapsed": false,
     "input": [
      "a = stack(iris_df, [:Train, :Species], [:Species], )\n",
      "head(a)"
     ],
     "language": "python",
     "metadata": {},
     "outputs": [
      {
       "html": [
        "<table class=\"data-frame\"><tr><th></th><th>variable</th><th>value</th><th>Species</th></tr><tr><th>1</th><td>Train</td><td>false</td><td>setosa</td></tr><tr><th>2</th><td>Train</td><td>false</td><td>setosa</td></tr><tr><th>3</th><td>Train</td><td>false</td><td>setosa</td></tr><tr><th>4</th><td>Train</td><td>false</td><td>setosa</td></tr><tr><th>5</th><td>Train</td><td>false</td><td>setosa</td></tr><tr><th>6</th><td>Train</td><td>false</td><td>setosa</td></tr></table>"
       ],
       "metadata": {},
       "output_type": "pyout",
       "prompt_number": 27,
       "text": [
        "6x3 DataFrame\n",
        "|-------|----------|-------|----------|\n",
        "| Row # | variable | value | Species  |\n",
        "| 1     | Train    | false | \"setosa\" |\n",
        "| 2     | Train    | false | \"setosa\" |\n",
        "| 3     | Train    | false | \"setosa\" |\n",
        "| 4     | Train    | false | \"setosa\" |\n",
        "| 5     | Train    | false | \"setosa\" |\n",
        "| 6     | Train    | false | \"setosa\" |"
       ]
      }
     ],
     "prompt_number": 27
    },
    {
     "cell_type": "code",
     "collapsed": false,
     "input": [
      "pivottable(iris_df, [:Species], [:Train], :SepalLength, df->size(df, 1))"
     ],
     "language": "python",
     "metadata": {},
     "outputs": [
      {
       "html": [
        "<table class=\"data-frame\"><tr><th></th><th>Species</th><th>false</th><th>true</th></tr><tr><th>1</th><td>setosa</td><td>50.0</td><td>NA</td></tr><tr><th>2</th><td>versicolor</td><td>50.0</td><td>NA</td></tr><tr><th>3</th><td>virginica</td><td>NA</td><td>50.0</td></tr></table>"
       ],
       "metadata": {},
       "output_type": "pyout",
       "prompt_number": 28,
       "text": [
        "3x3 DataFrame\n",
        "|-------|--------------|-------|------|\n",
        "| Row # | Species      | false | true |\n",
        "| 1     | \"setosa\"     | 50.0  | NA   |\n",
        "| 2     | \"versicolor\" | 50.0  | NA   |\n",
        "| 3     | \"virginica\"  | NA    | 50.0 |"
       ]
      }
     ],
     "prompt_number": 28
    },
    {
     "cell_type": "markdown",
     "metadata": {},
     "source": [
      "## in-palce sort!"
     ]
    },
    {
     "cell_type": "code",
     "collapsed": false,
     "input": [
      "head(sort!(iris, rev =true, cols = [:SepalWidth, :SepalLength]))"
     ],
     "language": "python",
     "metadata": {},
     "outputs": [
      {
       "html": [
        "<table class=\"data-frame\"><tr><th></th><th>SepalLength</th><th>SepalWidth</th><th>PetalLength</th><th>PetalWidth</th><th>Species</th></tr><tr><th>1</th><td>5.7</td><td>4.4</td><td>1.5</td><td>0.4</td><td>setosa</td></tr><tr><th>2</th><td>5.5</td><td>4.2</td><td>1.4</td><td>0.2</td><td>setosa</td></tr><tr><th>3</th><td>5.2</td><td>4.1</td><td>1.5</td><td>0.1</td><td>setosa</td></tr><tr><th>4</th><td>5.8</td><td>4.0</td><td>1.2</td><td>0.2</td><td>setosa</td></tr><tr><th>5</th><td>5.4</td><td>3.9</td><td>1.7</td><td>0.4</td><td>setosa</td></tr><tr><th>6</th><td>5.4</td><td>3.9</td><td>1.3</td><td>0.4</td><td>setosa</td></tr></table>"
       ],
       "metadata": {},
       "output_type": "pyout",
       "prompt_number": 29,
       "text": [
        "6x5 DataFrame\n",
        "|-------|-------------|------------|-------------|------------|----------|\n",
        "| Row # | SepalLength | SepalWidth | PetalLength | PetalWidth | Species  |\n",
        "| 1     | 5.7         | 4.4        | 1.5         | 0.4        | \"setosa\" |\n",
        "| 2     | 5.5         | 4.2        | 1.4         | 0.2        | \"setosa\" |\n",
        "| 3     | 5.2         | 4.1        | 1.5         | 0.1        | \"setosa\" |\n",
        "| 4     | 5.8         | 4.0        | 1.2         | 0.2        | \"setosa\" |\n",
        "| 5     | 5.4         | 3.9        | 1.7         | 0.4        | \"setosa\" |\n",
        "| 6     | 5.4         | 3.9        | 1.3         | 0.4        | \"setosa\" |"
       ]
      }
     ],
     "prompt_number": 29
    },
    {
     "cell_type": "code",
     "collapsed": false,
     "input": [
      "head(iris)"
     ],
     "language": "python",
     "metadata": {},
     "outputs": [
      {
       "html": [
        "<table class=\"data-frame\"><tr><th></th><th>SepalLength</th><th>SepalWidth</th><th>PetalLength</th><th>PetalWidth</th><th>Species</th></tr><tr><th>1</th><td>5.7</td><td>4.4</td><td>1.5</td><td>0.4</td><td>setosa</td></tr><tr><th>2</th><td>5.5</td><td>4.2</td><td>1.4</td><td>0.2</td><td>setosa</td></tr><tr><th>3</th><td>5.2</td><td>4.1</td><td>1.5</td><td>0.1</td><td>setosa</td></tr><tr><th>4</th><td>5.8</td><td>4.0</td><td>1.2</td><td>0.2</td><td>setosa</td></tr><tr><th>5</th><td>5.4</td><td>3.9</td><td>1.7</td><td>0.4</td><td>setosa</td></tr><tr><th>6</th><td>5.4</td><td>3.9</td><td>1.3</td><td>0.4</td><td>setosa</td></tr></table>"
       ],
       "metadata": {},
       "output_type": "pyout",
       "prompt_number": 30,
       "text": [
        "6x5 DataFrame\n",
        "|-------|-------------|------------|-------------|------------|----------|\n",
        "| Row # | SepalLength | SepalWidth | PetalLength | PetalWidth | Species  |\n",
        "| 1     | 5.7         | 4.4        | 1.5         | 0.4        | \"setosa\" |\n",
        "| 2     | 5.5         | 4.2        | 1.4         | 0.2        | \"setosa\" |\n",
        "| 3     | 5.2         | 4.1        | 1.5         | 0.1        | \"setosa\" |\n",
        "| 4     | 5.8         | 4.0        | 1.2         | 0.2        | \"setosa\" |\n",
        "| 5     | 5.4         | 3.9        | 1.7         | 0.4        | \"setosa\" |\n",
        "| 6     | 5.4         | 3.9        | 1.3         | 0.4        | \"setosa\" |"
       ]
      }
     ],
     "prompt_number": 30
    },
    {
     "cell_type": "code",
     "collapsed": false,
     "input": [
      "## finest control\n",
      "head(sort!(iris, rev =true, \n",
      "                cols = [order(:Species, by = uppercase, rev = false), \n",
      "                        order(:SepalLength, rev = true)]))"
     ],
     "language": "python",
     "metadata": {},
     "outputs": [
      {
       "html": [
        "<table class=\"data-frame\"><tr><th></th><th>SepalLength</th><th>SepalWidth</th><th>PetalLength</th><th>PetalWidth</th><th>Species</th></tr><tr><th>1</th><td>5.8</td><td>4.0</td><td>1.2</td><td>0.2</td><td>setosa</td></tr><tr><th>2</th><td>5.7</td><td>4.4</td><td>1.5</td><td>0.4</td><td>setosa</td></tr><tr><th>3</th><td>5.7</td><td>3.8</td><td>1.7</td><td>0.3</td><td>setosa</td></tr><tr><th>4</th><td>5.5</td><td>4.2</td><td>1.4</td><td>0.2</td><td>setosa</td></tr><tr><th>5</th><td>5.5</td><td>3.5</td><td>1.3</td><td>0.2</td><td>setosa</td></tr><tr><th>6</th><td>5.4</td><td>3.9</td><td>1.7</td><td>0.4</td><td>setosa</td></tr></table>"
       ],
       "metadata": {},
       "output_type": "pyout",
       "prompt_number": 31,
       "text": [
        "6x5 DataFrame\n",
        "|-------|-------------|------------|-------------|------------|----------|\n",
        "| Row # | SepalLength | SepalWidth | PetalLength | PetalWidth | Species  |\n",
        "| 1     | 5.8         | 4.0        | 1.2         | 0.2        | \"setosa\" |\n",
        "| 2     | 5.7         | 4.4        | 1.5         | 0.4        | \"setosa\" |\n",
        "| 3     | 5.7         | 3.8        | 1.7         | 0.3        | \"setosa\" |\n",
        "| 4     | 5.5         | 4.2        | 1.4         | 0.2        | \"setosa\" |\n",
        "| 5     | 5.5         | 3.5        | 1.3         | 0.2        | \"setosa\" |\n",
        "| 6     | 5.4         | 3.9        | 1.7         | 0.4        | \"setosa\" |"
       ]
      }
     ],
     "prompt_number": 31
    },
    {
     "cell_type": "markdown",
     "metadata": {},
     "source": [
      "## Formula, ModelFrame, ModelMatrix"
     ]
    },
    {
     "cell_type": "code",
     "collapsed": false,
     "input": [
      "X = randn(10)\n",
      "Y = randn(10)\n",
      "df = DataFrame(X = X, Y = Y, Z = X+Y+randn(10))\n",
      "fm = Z ~ X + Y"
     ],
     "language": "python",
     "metadata": {},
     "outputs": [
      {
       "metadata": {},
       "output_type": "pyout",
       "prompt_number": 34,
       "text": [
        "Formula: Z ~ X + Y"
       ]
      }
     ],
     "prompt_number": 34
    },
    {
     "cell_type": "code",
     "collapsed": false,
     "input": [
      "mf = ModelFrame(fm, df)"
     ],
     "language": "python",
     "metadata": {},
     "outputs": [
      {
       "metadata": {},
       "output_type": "pyout",
       "prompt_number": 35,
       "text": [
        "ModelFrame(10x3 DataFrame\n",
        "|-------|-----------|-----------|-----------|\n",
        "| Row # | Z         | X         | Y         |\n",
        "| 1     | -2.89021  | -1.83162  | -1.81879  |\n",
        "| 2     | 2.02632   | -0.255579 | 2.04606   |\n",
        "| 3     | 2.0253    | 0.765037  | 0.7731    |\n",
        "| 4     | 1.21767   | 1.99591   | -0.685761 |\n",
        "| 5     | -1.29026  | 0.639038  | 0.156053  |\n",
        "| 6     | -2.52383  | -0.683666 | -0.561051 |\n",
        "| 7     | 3.52118   | -0.578136 | 2.14627   |\n",
        "| 8     | -0.222234 | -0.943592 | 0.832809  |\n",
        "| 9     | 1.8663    | 0.882329  | 0.142915  |\n",
        "| 10    | -3.74514  | -1.70181  | 0.158879  |,Terms({:X,:Y},{:Z,:X,:Y},3x3 Array{Int8,2}:\n",
        " 1  0  0\n",
        " 0  1  0\n",
        " 0  0  1,[1,1,1],true,true),Bool[true,true,true,true,true,true,true,true,true,true])"
       ]
      }
     ],
     "prompt_number": 35
    },
    {
     "cell_type": "code",
     "collapsed": false,
     "input": [
      "mm = ModelMatrix(mf)"
     ],
     "language": "python",
     "metadata": {},
     "outputs": [
      {
       "metadata": {},
       "output_type": "pyout",
       "prompt_number": 36,
       "text": [
        "ModelMatrix{Float64}(10x3 Array{Float64,2}:\n",
        " 1.0  -1.83162   -1.81879 \n",
        " 1.0  -0.255579   2.04606 \n",
        " 1.0   0.765037   0.7731  \n",
        " 1.0   1.99591   -0.685761\n",
        " 1.0   0.639038   0.156053\n",
        " 1.0  -0.683666  -0.561051\n",
        " 1.0  -0.578136   2.14627 \n",
        " 1.0  -0.943592   0.832809\n",
        " 1.0   0.882329   0.142915\n",
        " 1.0  -1.70181    0.158879,[0,1,2])"
       ]
      }
     ],
     "prompt_number": 36
    },
    {
     "cell_type": "code",
     "collapsed": false,
     "input": [
      "## see GLM for details"
     ],
     "language": "python",
     "metadata": {},
     "outputs": [],
     "prompt_number": 42
    },
    {
     "cell_type": "markdown",
     "metadata": {},
     "source": [
      "## PooledDataArray and Factor Representation"
     ]
    },
    {
     "cell_type": "code",
     "collapsed": false,
     "input": [
      "dv = @data([\"Group A\", \"Group A\", \"Group A\",\n",
      "            \"Group B\", \"Group B\", \"Group B\"])\n",
      "pdv = @pdata([\"Group A\", \"Group A\", \"Group A\",\n",
      "              \"Group B\", \"Group B\", \"Group B\"])\n",
      "typeof(dv), typeof(pdv)"
     ],
     "language": "python",
     "metadata": {},
     "outputs": [
      {
       "metadata": {},
       "output_type": "pyout",
       "prompt_number": 45,
       "text": [
        "(DataArray{ASCIIString,1},PooledDataArray{ASCIIString,Uint32,1})"
       ]
      }
     ],
     "prompt_number": 45
    },
    {
     "cell_type": "code",
     "collapsed": false,
     "input": [
      "levels(dv)"
     ],
     "language": "python",
     "metadata": {},
     "outputs": [
      {
       "metadata": {},
       "output_type": "pyout",
       "prompt_number": 46,
       "text": [
        "2-element DataArray{ASCIIString,1}:\n",
        " \"Group A\"\n",
        " \"Group B\""
       ]
      }
     ],
     "prompt_number": 46
    },
    {
     "cell_type": "code",
     "collapsed": false,
     "input": [
      "levels(pdv)"
     ],
     "language": "python",
     "metadata": {},
     "outputs": [
      {
       "metadata": {},
       "output_type": "pyout",
       "prompt_number": 47,
       "text": [
        "2-element Array{ASCIIString,1}:\n",
        " \"Group A\"\n",
        " \"Group B\""
       ]
      }
     ],
     "prompt_number": 47
    },
    {
     "cell_type": "markdown",
     "metadata": {},
     "source": [
      "**Often, you will have factors encoded inside a DataFrame with DataArray columns instead of PooledDataArray columns. You can do conversion of a single column using the pool function**"
     ]
    },
    {
     "cell_type": "code",
     "collapsed": false,
     "input": [
      "pdv = pool(dv)"
     ],
     "language": "python",
     "metadata": {},
     "outputs": [
      {
       "metadata": {},
       "output_type": "pyout",
       "prompt_number": 49,
       "text": [
        "6-element PooledDataArray{ASCIIString,Uint8,1}:\n",
        " \"Group A\"\n",
        " \"Group A\"\n",
        " \"Group A\"\n",
        " \"Group B\"\n",
        " \"Group B\"\n",
        " \"Group B\""
       ]
      }
     ],
     "prompt_number": 49
    },
    {
     "cell_type": "markdown",
     "metadata": {},
     "source": [
      "**Or you can edit the columns of a DataFrame in-place using the pool! function**"
     ]
    },
    {
     "cell_type": "code",
     "collapsed": false,
     "input": [
      "df = DataFrame(A = [1, 1, 1, 2, 2, 2],\n",
      "               B = [\"X\", \"X\", \"X\", \"Y\", \"Y\", \"Y\"])\n",
      "pool!(df, [:A, :B])"
     ],
     "language": "python",
     "metadata": {},
     "outputs": [],
     "prompt_number": 50
    },
    {
     "cell_type": "code",
     "collapsed": false,
     "input": [
      "eltypes(df)"
     ],
     "language": "python",
     "metadata": {},
     "outputs": [
      {
       "metadata": {},
       "output_type": "pyout",
       "prompt_number": 53,
       "text": [
        "2-element Array{Type{T<:Top},1}:\n",
        " Int64      \n",
        " ASCIIString"
       ]
      }
     ],
     "prompt_number": 53
    },
    {
     "cell_type": "code",
     "collapsed": false,
     "input": [],
     "language": "python",
     "metadata": {},
     "outputs": []
    }
   ],
   "metadata": {}
  }
 ]
}