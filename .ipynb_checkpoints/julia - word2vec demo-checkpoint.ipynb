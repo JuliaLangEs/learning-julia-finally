{
 "metadata": {
  "language": "Julia",
  "name": "",
  "signature": "sha256:76ee1b738ec8e6d294ae55b183f80462ef144aac5fed7270cee2b49022d84bd5"
 },
 "nbformat": 3,
 "nbformat_minor": 0,
 "worksheets": [
  {
   "cells": [
    {
     "cell_type": "code",
     "collapsed": false,
     "input": [
      "using Interact, Reactive, JSON"
     ],
     "language": "python",
     "metadata": {},
     "outputs": [
      {
       "html": [
        "<script charset=\"utf-8\">(function ($, undefined) {\n",
        "\n",
        "    function createElem(tag, attr, content) {\n",
        "\t// TODO: remove jQuery dependency\n",
        "\tvar el = $(\"<\" + tag + \"/>\").attr(attr);\n",
        "\tif (content) {\n",
        "\t    el.append(content);\n",
        "\t}\n",
        "\treturn el[0];\n",
        "    }\n",
        "\n",
        "    // A widget must expose an id field which identifies it to the backend,\n",
        "    // an elem attribute which is will be added to the DOM, and\n",
        "    // a getState() method which returns the value to be sent to the backend\n",
        "    // a sendUpdate() method which sends its current value to the backend\n",
        "    var Widget = {\n",
        "\tid: undefined,\n",
        "\telem: undefined,\n",
        "\tlabel: undefined,\n",
        "\tgetState: function () {\n",
        "\t    return this.elem.value;\n",
        "\t},\n",
        "\tsendUpdate: undefined\n",
        "    };\n",
        "\n",
        "    var Slider = function (typ, id, init) {\n",
        "\tvar attr = { type:  \"range\",\n",
        "\t\t     value: init.value,\n",
        "\t\t     min:   init.min,\n",
        "\t\t     max:   init.max,\n",
        "\t\t     step:  init.step },\n",
        "\t    elem = createElem(\"input\", attr),\n",
        "\t    self = this;\n",
        "\n",
        "\telem.onchange = function () {\n",
        "\t    self.sendUpdate();\n",
        "\t}\n",
        "\n",
        "\tthis.id = id;\n",
        "\tthis.elem = elem;\n",
        "\tthis.label = init.label;\n",
        "\n",
        "\tInputWidgets.commInitializer(this); // Initialize communication\n",
        "    }\n",
        "    Slider.prototype = Widget;\n",
        "\n",
        "    var Checkbox = function (typ, id, init) {\n",
        "\tvar attr = { type: \"checkbox\",\n",
        "\t\t     checked: init.value },\n",
        "\t    elem = createElem(\"input\", attr),\n",
        "\t    self = this;\n",
        "\n",
        "\tthis.getState = function () {\n",
        "\t    return elem.checked;\n",
        "\t}\n",
        "\telem.onchange = function () {\n",
        "\t    self.sendUpdate();\n",
        "\t}\n",
        "\n",
        "\tthis.id = id;\n",
        "\tthis.elem = elem;\n",
        "\tthis.label = init.label;\n",
        "\n",
        "\tInputWidgets.commInitializer(this);\n",
        "    }\n",
        "    Checkbox.prototype = Widget;\n",
        "\n",
        "    var Button = function (typ, id, init) {\n",
        "\tvar attr = { type:    \"button\",\n",
        "\t\t     value:   init.label },\n",
        "\t    elem = createElem(\"input\", attr),\n",
        "\t    self = this;\n",
        "\tthis.getState = function () {\n",
        "\t    return null;\n",
        "\t}\n",
        "\telem.onclick = function () {\n",
        "\t    self.sendUpdate();\n",
        "\t}\n",
        "\n",
        "\tthis.id = id;\n",
        "\tthis.elem = elem;\n",
        "\tthis.label = init.label;\n",
        "\n",
        "\tInputWidgets.commInitializer(this);\n",
        "    }\n",
        "    Button.prototype = Widget;\n",
        "\n",
        "    var Text = function (typ, id, init) {\n",
        "\tvar attr = { type:  \"text\",\n",
        "\t\t     placeholder: init.label,\n",
        "\t\t     value: init.value },\n",
        "\t    elem = createElem(\"input\", attr),\n",
        "\t    self = this;\n",
        "\tthis.getState = function () {\n",
        "\t    return elem.value;\n",
        "\t}\n",
        "\telem.onkeyup = function () {\n",
        "\t    self.sendUpdate();\n",
        "\t}\n",
        "\n",
        "\tthis.id = id;\n",
        "\tthis.elem = elem;\n",
        "\tthis.label = init.label;\n",
        "\n",
        "\tInputWidgets.commInitializer(this);\n",
        "    }\n",
        "    Text.prototype = Widget;\n",
        "\n",
        "    var Textarea = function (typ, id, init) {\n",
        "\tvar attr = { placeholder: init.label },\n",
        "\t    elem = createElem(\"textarea\", attr, init.value),\n",
        "\t    self = this;\n",
        "\tthis.getState = function () {\n",
        "\t    return elem.value;\n",
        "\t}\n",
        "\telem.onchange = function () {\n",
        "\t    self.sendUpdate();\n",
        "\t}\n",
        "\n",
        "\tthis.id = id;\n",
        "\tthis.elem = elem;\n",
        "\tthis.label = init.label;\n",
        "\n",
        "\tInputWidgets.commInitializer(this);\n",
        "    }\n",
        "    Textarea.prototype = Widget;\n",
        "\n",
        "    // RadioButtons\n",
        "    // Dropdown\n",
        "    // HTML\n",
        "    // Latex\n",
        "\n",
        "    var InputWidgets = {\n",
        "\tSlider: Slider,\n",
        "\tCheckbox: Checkbox,\n",
        "\tButton: Button,\n",
        "\tText: Text,\n",
        "\tTextarea: Textarea,\n",
        "\tdebug: false,\n",
        "\tlog: function () {\n",
        "\t    if (InputWidgets.debug) {\n",
        "\t\tconsole.log.apply(console, arguments);\n",
        "\t    }\n",
        "\t},\n",
        "\t// a central way to initalize communication\n",
        "\t// for widgets.\n",
        "\tcommInitializer: function (widget) {\n",
        "\t    widget.sendUpdate = function () {};\n",
        "\t}\n",
        "    };\n",
        "\n",
        "    window.InputWidgets = InputWidgets;\n",
        "\n",
        "})(jQuery, undefined);\n",
        "</script>"
       ],
       "metadata": {},
       "output_type": "display_data"
      },
      {
       "html": [
        "<script charset=\"utf-8\">(function (IPython, $, _, MathJax, Widgets) {\n",
        "    $.event.special.destroyed = {\n",
        "\tremove: function(o) {\n",
        "\t    if (o.handler) {\n",
        "\t\to.handler.apply(this, arguments)\n",
        "\t    }\n",
        "\t}\n",
        "    }\n",
        "\n",
        "    $(document).ready(function() {\n",
        "\tWidgets.debug = false; // log messages etc in console.\n",
        "\tfunction initComm(evt, data) {\n",
        "\t    var comm_manager = data.kernel.comm_manager;\n",
        "\t    comm_manager.register_target(\"Signal\", function (comm) {\n",
        "\t\tcomm.on_msg(function (msg) {\n",
        "\t\t    //Widgets.log(\"message received\", msg);\n",
        "\t\t    var val = msg.content.data.value;\n",
        "\t\t    $(\".signal-\" + comm.comm_id).each(function() {\n",
        "\t\t\tvar self = this;\n",
        "\t\t\tvar type = $(this).data(\"type\");\n",
        "\t\t\tif (val[type]) {\n",
        "\t\t\t    $(self).empty();\n",
        "\t\t\t    var selector = $(\"<div/>\");\n",
        "\t\t\t    var oa = new IPython.OutputArea(_.extend(selector, {\n",
        "\t\t\t\tselector: selector,\n",
        "\t\t\t\tprompt_area: true,\n",
        "\t\t\t\tevents: IPython.events,\n",
        "\t\t\t\tkeyboard_manager: IPython.keyboard_manager\n",
        "\t\t\t    })); // Hack to work with IPython 2.1.0\n",
        "\t\t\t    var toinsert = IPython.OutputArea.append_map[type].apply(\n",
        "\t\t\t\toa, [val[type], {}, selector]\n",
        "\t\t\t    );\n",
        "\t\t\t    if (type === \"text/latex\" && MathJax) {\n",
        "\t\t\t\tMathJax.Hub.Queue([\"Typeset\", MathJax.Hub, toinsert.get(0)]);\n",
        "\t\t\t    }\n",
        "\n",
        "\t\t\t    $(self).append(toinsert.contents());\n",
        "\t\t\t    selector.remove();\n",
        "\t\t\t}\n",
        "\t\t    });\n",
        "\t\t    delete val;\n",
        "\t\t    delete msg.content.data.value;\n",
        "\t\t});\n",
        "\t    });\n",
        "\n",
        "\t    // coordingate with Comm and redraw Signals\n",
        "\t    // XXX: Test using Reactive here to improve performance\n",
        "\t    $([IPython.events]).on(\n",
        "\t\t'output_appended.OutputArea', function (event, type, value, md, toinsert) {\n",
        "\t\t    if (md && md.reactive) {\n",
        "\t\t\t// console.log(md.comm_id);\n",
        "\t\t\ttoinsert.addClass(\"signal-\" + md.comm_id);\n",
        "\t\t\ttoinsert.data(\"type\", type);\n",
        "\t\t\t// Signal back indicating the mimetype required\n",
        "\t\t\tvar comm_manager = IPython.notebook.kernel.comm_manager;\n",
        "\t\t\tvar comm = comm_manager.comms[md.comm_id];\n",
        "\t\t\tcomm.send({action: \"subscribe_mime\",\n",
        "\t\t\t\t   mime: type});\n",
        "\t\t\ttoinsert.bind(\"destroyed\", function() {\n",
        "\t\t\t    comm.send({action: \"unsubscribe_mime\",\n",
        "\t\t\t\t       mime: type});\n",
        "\t\t\t});\n",
        "\t\t    }\n",
        "\t    });\n",
        "\n",
        "\t    // Set up communication for Widgets\n",
        "\t    Widgets.commInitializer = function (widget) {\n",
        "\t\tvar comm = comm_manager.new_comm(\n",
        "\t\t    \"InputWidget\", {widget_id: widget.id}\n",
        "\t\t);\n",
        "\t\twidget.sendUpdate = function () {\n",
        "\t\t    // `this` is a widget here.\n",
        "\t\t    // TODO: I have a feeling there's some\n",
        "\t\t    //       IPython bookkeeping to be done here.\n",
        "\t\t    // Widgets.log(\"State changed\", this, this.getState());\n",
        "\t\t    comm.send({value: this.getState()});\n",
        "\t\t}\n",
        "\t    };\n",
        "\t}\n",
        "\n",
        "\ttry {\n",
        "\t    // try to initialize right away. otherwise, wait on the status_started event.\n",
        "\t    initComm(undefined, IPython.notebook);\n",
        "\t} catch (e) {\n",
        "\t    $([IPython.events]).on('status_started.Kernel', initComm);\n",
        "\t}\n",
        "    });\n",
        "})(IPython, jQuery, _, MathJax, InputWidgets);\n",
        "</script>"
       ],
       "metadata": {},
       "output_type": "display_data"
      }
     ],
     "prompt_number": 1
    },
    {
     "cell_type": "code",
     "collapsed": false,
     "input": [
      "WORD2VEC_PATH = \"/home/dola/opt/word2vec/\"\n",
      "DIST_COMMAND = joinpath(WORD2VEC_PATH, \"distance_command\")\n",
      "#BIN_FILE = joinpath(WORD2VEC_PATH, \"shared-folder-phrase.bin\")\n",
      "BIN_FILE = joinpath(WORD2VEC_PATH, \"vectors-phrase.bin\")\n",
      "\n",
      "function word2vec_query(q, n = 40)\n",
      "    cmd = `$DIST_COMMAND $BIN_FILE $q`\n",
      "    result = readchomp(cmd)\n",
      "    pattern = r\"\\w+\\t\\t[\\d.]+\"\n",
      "    word_wts = map(str -> split(str, \"\\t\\t\"), matchall(pattern, result))\n",
      "    word_wts = map(pair -> (replace(pair[1], \"_\", \" \"), float(pair[2])), word_wts)\n",
      "    words = map(p -> p[1], word_wts)\n",
      "    if length(words) >= n\n",
      "        return words[1:n]\n",
      "    else\n",
      "        return words\n",
      "    end\n",
      "end\n",
      "\n",
      "function word2vec_tree(q, n = 10, d = 4)\n",
      "    \"\"\"\n",
      "    n: number of nodes per level\n",
      "    d: depth of levels\n",
      "    \"\"\"\n",
      "    if d == 1\n",
      "        tree = {:name => q, \n",
      "            :children => [{:name => qq} for qq in word2vec_query(q, n)]}\n",
      "    else\n",
      "        tree = {:name => q, \n",
      "                :children => [word2vec_tree(qq, 10, d-1) \n",
      "                for qq in word2vec_query(q, n)]}\n",
      "    end\n",
      "    tree\n",
      "end"
     ],
     "language": "python",
     "metadata": {},
     "outputs": [
      {
       "metadata": {},
       "output_type": "pyout",
       "prompt_number": 2,
       "text": [
        "word2vec_tree (generic function with 3 methods)"
       ]
      }
     ],
     "prompt_number": 2
    },
    {
     "cell_type": "code",
     "collapsed": false,
     "input": [
      "r = word2vec_tree(\"albert einstein\", 20, 2)"
     ],
     "language": "python",
     "metadata": {},
     "outputs": [
      {
       "metadata": {},
       "output_type": "pyout",
       "prompt_number": 3,
       "text": [
        "Dict{Any,Any} with 2 entries:\n",
        "  :children => [{:children=>[{:name=>\"albert einstein\"},{:name=>\"general relati\u2026\n",
        "  :name     => \"albert einstein\""
       ]
      }
     ],
     "prompt_number": 3
    },
    {
     "cell_type": "code",
     "collapsed": false,
     "input": [
      "r[:children][1]"
     ],
     "language": "python",
     "metadata": {},
     "outputs": [
      {
       "metadata": {},
       "output_type": "pyout",
       "prompt_number": 4,
       "text": [
        "Dict{Any,Any} with 2 entries:\n",
        "  :children => [{:name=>\"albert einstein\"},{:name=>\"general relativity\"},{:name\u2026\n",
        "  :name     => \"albert einstein\""
       ]
      }
     ],
     "prompt_number": 4
    },
    {
     "cell_type": "code",
     "collapsed": false,
     "input": [
      "print(json(r))"
     ],
     "language": "python",
     "metadata": {},
     "outputs": [
      {
       "output_type": "stream",
       "stream": "stdout",
       "text": [
        "{\"children\":[{\"children\":[{\"name\":\"albert einstein\"},{\"name\":\"general relativity\"},{\"name\":\"relativity\"},{\"name\":\"werner heisenberg\"},{\"name\":\"special relativity\"},{\"name\":\"dinger\"},{\"name\":\"gravitation\"},{\"name\":\"schr dinger\"},{\"name\":\"newton\"},{\"name\":\"de broglie\"}],\"name\":\"albert einstein\"},{\"children\":[{\"name\":\"general relativity\"},{\"name\":\"gravitation\"},{\"name\":\"einstein\"},{\"name\":\"special relativity\"},{\"name\":\"albert einstein\"},{\"name\":\"theory\"},{\"name\":\"classical mechanics\"},{\"name\":\"newtonian mechanics\"},{\"name\":\"equivalence principle\"},{\"name\":\"relativistic\"}],\"name\":\"general relativity\"},{\"children\":[{\"name\":\"general relativity\"},{\"name\":\"einstein\"},{\"name\":\"gravitation\"},{\"name\":\"special relativity\"},{\"name\":\"albert einstein\"},{\"name\":\"equivalence principle\"},{\"name\":\"brans dicke\"},{\"name\":\"galilean transformation\"},{\"name\":\"relativistic\"},{\"name\":\"lorentzian\"}],\"name\":\"relativity\"},{\"children\":[{\"name\":\"laue\"},{\"name\":\"werner heisenberg\"},{\"name\":\"rudolf carnap\"},{\"name\":\"von helmholtz\"},{\"name\":\"fock\"},{\"name\":\"martin buber\"},{\"name\":\"bohr\"},{\"name\":\"archibald wheeler\"},{\"name\":\"de broglie\"},{\"name\":\"george gamow\"}],\"name\":\"werner heisenberg\"},{\"children\":[{\"name\":\"general relativity\"},{\"name\":\"einstein\"},{\"name\":\"gravitation\"},{\"name\":\"special relativity\"},{\"name\":\"albert einstein\"},{\"name\":\"newtonian mechanics\"},{\"name\":\"equivalence principle\"},{\"name\":\"relativistic\"},{\"name\":\"quantum mechanics\"},{\"name\":\"physics\"}],\"name\":\"special relativity\"},{\"children\":[{\"name\":\"erwin schr\"},{\"name\":\"werner heisenberg\"},{\"name\":\"ernst mach\"},{\"name\":\"ludwig boltzmann\"},{\"name\":\"steven weinberg\"},{\"name\":\"friedrich hegel\"},{\"name\":\"karl pearson\"},{\"name\":\"martin buber\"},{\"name\":\"gadamer\"},{\"name\":\"von mises\"}],\"name\":\"dinger\"},{\"children\":[{\"name\":\"general relativity\"},{\"name\":\"equivalence principle\"},{\"name\":\"relativity\"},{\"name\":\"special relativity\"},{\"name\":\"classical electromagnetism\"},{\"name\":\"einstein\"},{\"name\":\"relativistic\"},{\"name\":\"newtonian mechanics\"},{\"name\":\"brans dicke\"},{\"name\":\"electromagnetism\"}],\"name\":\"gravitation\"},{\"children\":[],\"name\":\"schr dinger\"},{\"children\":[{\"name\":\"gravitation\"},{\"name\":\"universal gravitation\"},{\"name\":\"kepler\"},{\"name\":\"equivalence principle\"},{\"name\":\"special relativity\"},{\"name\":\"inertia\"},{\"name\":\"milgrom\"},{\"name\":\"einstein\"},{\"name\":\"mordehai\"},{\"name\":\"relativity\"}],\"name\":\"newton\"},{\"children\":[{\"name\":\"molinier\"},{\"name\":\"chauss\"},{\"name\":\"marquise de\"},{\"name\":\"duc de\"},{\"name\":\"villeroi\"},{\"name\":\"michaux\"},{\"name\":\"tellier\"},{\"name\":\"mesquita\"},{\"name\":\"ulloa\"},{\"name\":\"salle\"}],\"name\":\"de broglie\"},{\"children\":[],\"name\":\"erwin schr\"},{\"children\":[{\"name\":\"hermann weyl\"},{\"name\":\"entscheidungsproblem\"},{\"name\":\"unsolvable\"},{\"name\":\"conjecture\"},{\"name\":\"undecidable\"},{\"name\":\"conjectures\"},{\"name\":\"axiomatization\"},{\"name\":\"principia mathematica\"},{\"name\":\"gottfried leibniz\"},{\"name\":\"calculus\"}],\"name\":\"hilbert\"},{\"children\":[{\"name\":\"annalen der\"},{\"name\":\"max planck\"},{\"name\":\"solvay\"},{\"name\":\"zeitschrift\"},{\"name\":\"digitalized\"},{\"name\":\"szil rd\"},{\"name\":\"theorie der\"},{\"name\":\"archibald wheeler\"},{\"name\":\"albert einstein\"},{\"name\":\"optischen\"}],\"name\":\"physik\"},{\"children\":[{\"name\":\"james clerk\"},{\"name\":\"electromagnetism\"},{\"name\":\"michael faraday\"},{\"name\":\"equations\"},{\"name\":\"faraday\"},{\"name\":\"heinrich hertz\"},{\"name\":\"lorentz\"},{\"name\":\"electrodynamics\"},{\"name\":\"kaluza\"},{\"name\":\"special relativity\"}],\"name\":\"maxwell\"},{\"children\":[{\"name\":\"william\"},{\"name\":\"edward\"},{\"name\":\"elbridge gerry\"},{\"name\":\"thomas\"},{\"name\":\"dewar\"},{\"name\":\"charles\"},{\"name\":\"abercorn\"},{\"name\":\"conyers\"},{\"name\":\"downing street\"},{\"name\":\"disraeli\"}],\"name\":\"james clerk\"},{\"children\":[{\"name\":\"grundlagen der\"},{\"name\":\"minkowski\"},{\"name\":\"frobenius\"},{\"name\":\"halmos\"},{\"name\":\"henri poincar\"},{\"name\":\"laue\"},{\"name\":\"rudolf carnap\"},{\"name\":\"mathematische annalen\"},{\"name\":\"moritz schlick\"},{\"name\":\"preprint\"}],\"name\":\"hermann weyl\"},{\"children\":[{\"name\":\"quantum mechanics\"},{\"name\":\"classical mechanics\"},{\"name\":\"gravitation\"},{\"name\":\"statistical mechanics\"},{\"name\":\"physics\"},{\"name\":\"brans dicke\"},{\"name\":\"newtonian mechanics\"},{\"name\":\"elementary particles\"},{\"name\":\"classical electromagnetism\"},{\"name\":\"relativistic\"}],\"name\":\"quantum mechanics\"},{\"children\":[{\"name\":\"maximilian\"},{\"name\":\"albert\"},{\"name\":\"margrave\"},{\"name\":\"saxony\"},{\"name\":\"vorder sterreich\"},{\"name\":\"duke\"},{\"name\":\"elector\"},{\"name\":\"leopold\"},{\"name\":\"burgundy\"},{\"name\":\"holy roman\"}],\"name\":\"frederick\"},{\"children\":[{\"name\":\"etienne\"},{\"name\":\"brouwer\"},{\"name\":\"cartan\"},{\"name\":\"lecoq de\"},{\"name\":\"nicolas\"},{\"name\":\"antoine\"},{\"name\":\"boisbaudran\"},{\"name\":\"langevin\"},{\"name\":\"gaspard\"},{\"name\":\"smale\"}],\"name\":\"henri poincar\"},{\"children\":[{\"name\":\"electromagnetism\"},{\"name\":\"electromagnetic induction\"},{\"name\":\"electrodynamics\"},{\"name\":\"inhomogeneous\"},{\"name\":\"luminiferous\"},{\"name\":\"classical electromagnetism\"},{\"name\":\"electromagnetic waves\"},{\"name\":\"relativistic\"},{\"name\":\"quantum electrodynamics\"},{\"name\":\"edwin hubble\"}],\"name\":\"kaluza\"}],\"name\":\"albert einstein\"}"
       ]
      }
     ],
     "prompt_number": 5
    },
    {
     "cell_type": "code",
     "collapsed": false,
     "input": [],
     "language": "python",
     "metadata": {},
     "outputs": [],
     "prompt_number": 6
    },
    {
     "cell_type": "code",
     "collapsed": false,
     "input": [
      "r = word2vec_query(\"albert einstein\", 10)"
     ],
     "language": "python",
     "metadata": {},
     "outputs": [
      {
       "metadata": {},
       "output_type": "pyout",
       "prompt_number": 7,
       "text": [
        "10-element Array{ASCIIString,1}:\n",
        " \"albert einstein\"   \n",
        " \"general relativity\"\n",
        " \"relativity\"        \n",
        " \"werner heisenberg\" \n",
        " \"special relativity\"\n",
        " \"dinger\"            \n",
        " \"gravitation\"       \n",
        " \"schr dinger\"       \n",
        " \"newton\"            \n",
        " \"de broglie\"        "
       ]
      }
     ],
     "prompt_number": 7
    },
    {
     "cell_type": "code",
     "collapsed": false,
     "input": [
      "@manipulate for q = textbox(\"\", label = \"your query:\")\n",
      "    html(\"$(word2vec_query(q))\")\n",
      "end"
     ],
     "language": "python",
     "metadata": {},
     "outputs": [
      {
       "html": [],
       "metadata": {},
       "output_type": "display_data",
       "text": [
        "Textbox{ASCIIString}([Input{ASCIIString}] ,\"your query:\",nothing,\"\")"
       ]
      },
      {
       "html": [],
       "metadata": {},
       "output_type": "pyout",
       "prompt_number": 8,
       "text": [
        "HTML(\"\",\"SubString{UTF8String}[]\")"
       ]
      }
     ],
     "prompt_number": 8
    },
    {
     "cell_type": "code",
     "collapsed": false,
     "input": [
      "using Morsel\n",
      "\n",
      "app = Morsel.app()\n",
      "\n",
      "route(app, GET | POST | PUT, \"/\") do req, res\n",
      "    \"This is the root\"\n",
      "end\n",
      "\n",
      "get(app, \"/about\") do req, res\n",
      "    \"This app is running on Morsel\"\n",
      "end\n",
      "\n",
      "start(app, 8000)"
     ],
     "language": "python",
     "metadata": {},
     "outputs": [
      {
       "output_type": "stream",
       "stream": "stdout",
       "text": [
        "Morsel is listening on 8000...\n"
       ]
      }
     ]
    },
    {
     "cell_type": "code",
     "collapsed": false,
     "input": [
      "q = \"aa\"\n",
      "q == nothing ? \"\" : q"
     ],
     "language": "python",
     "metadata": {},
     "outputs": [
      {
       "metadata": {},
       "output_type": "pyout",
       "prompt_number": 15,
       "text": [
        "\"aa\""
       ]
      }
     ],
     "prompt_number": 15
    },
    {
     "cell_type": "code",
     "collapsed": false,
     "input": [],
     "language": "python",
     "metadata": {},
     "outputs": []
    },
    {
     "cell_type": "code",
     "collapsed": false,
     "input": [],
     "language": "python",
     "metadata": {},
     "outputs": []
    }
   ],
   "metadata": {}
  }
 ]
}