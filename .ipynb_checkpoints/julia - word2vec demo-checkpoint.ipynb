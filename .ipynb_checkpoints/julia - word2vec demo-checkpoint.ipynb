{
 "metadata": {
  "language": "Julia",
  "name": "",
  "signature": "sha256:80ec12d84967a4f2b9dd64a4cfc1a3fba3aaca4fb9abe7316245f460ec53aa60"
 },
 "nbformat": 3,
 "nbformat_minor": 0,
 "worksheets": [
  {
   "cells": [
    {
     "cell_type": "code",
     "collapsed": false,
     "input": [
      "using Interact, Reactive, JSON"
     ],
     "language": "python",
     "metadata": {},
     "outputs": [],
     "prompt_number": 87
    },
    {
     "cell_type": "code",
     "collapsed": false,
     "input": [
      "WORD2VEC_PATH = \"/home/dola/opt/word2vec/\"\n",
      "DIST_COMMAND = joinpath(WORD2VEC_PATH, \"distance_command\")\n",
      "BIN_FILE = joinpath(WORD2VEC_PATH, \"shared-folder-phrase.bin\")\n",
      "\n",
      "function word2vec_query(q, n = 40)\n",
      "    cmd = `$DIST_COMMAND $BIN_FILE $q`\n",
      "    result = readchomp(cmd)\n",
      "    pattern = r\"\\w+\\t\\t[\\d.]+\"\n",
      "    word_wts = map(str -> split(str, \"\\t\\t\"), matchall(pattern, result))\n",
      "    word_wts = map(pair -> (replace(pair[1], \"_\", \" \"), float(pair[2])), word_wts)\n",
      "    words = map(p -> p[1], word_wts)\n",
      "    if length(words) >= n\n",
      "        return words[1:n]\n",
      "    else\n",
      "        return words\n",
      "    end\n",
      "end\n",
      "\n",
      "function word2vec_tree(q, n = 10, d = 4)\n",
      "    \"\"\"\n",
      "    n: number of nodes per level\n",
      "    d: depth of levels\n",
      "    \"\"\"\n",
      "    if d == 1\n",
      "        tree = {:name => q, \n",
      "            :children => [{:name=>qq} for qq inword2vec_query(q, n)]}\n",
      "    else\n",
      "        tree = {:name => q, \n",
      "                :children => [word2vec_tree(qq, 10, d-1) \n",
      "                for qq in word2vec_query(q, n)]}\n",
      "    end\n",
      "    tree\n",
      "end"
     ],
     "language": "python",
     "metadata": {},
     "outputs": [
      {
       "ename": "LoadError",
       "evalue": "syntax: invalid iteration specification\nwhile loading In[100], in expression starting on line 26",
       "output_type": "pyerr",
       "traceback": [
        "syntax: invalid iteration specification\nwhile loading In[100], in expression starting on line 26",
        ""
       ]
      }
     ],
     "prompt_number": 100
    },
    {
     "cell_type": "code",
     "collapsed": false,
     "input": [
      "r = word2vec_tree(\"partha dutta\", 20, 2)"
     ],
     "language": "python",
     "metadata": {},
     "outputs": [
      {
       "metadata": {},
       "output_type": "pyout",
       "prompt_number": 101,
       "text": [
        "Dict{Any,Any} with 2 entries:\n",
        "  :children => [{:children=>ASCIIString[\"san linn\",\"chi keong\",\"oct san\",\"dns a\u2026\n",
        "  :name     => \"partha dutta\""
       ]
      }
     ],
     "prompt_number": 101
    },
    {
     "cell_type": "code",
     "collapsed": false,
     "input": [
      "r[:children][1]"
     ],
     "language": "python",
     "metadata": {},
     "outputs": [
      {
       "metadata": {},
       "output_type": "pyout",
       "prompt_number": 105,
       "text": [
        "Dict{Any,Any} with 2 entries:\n",
        "  :children => ASCIIString[\"san linn\",\"chi keong\",\"oct san\",\"dns aug\",\"partha d\u2026\n",
        "  :name     => \"goh partha\""
       ]
      }
     ],
     "prompt_number": 105
    },
    {
     "cell_type": "code",
     "collapsed": false,
     "input": [
      "print(json(r))"
     ],
     "language": "python",
     "metadata": {},
     "outputs": [
      {
       "output_type": "stream",
       "stream": "stdout",
       "text": [
        "{\"children\":[{\"children\":[\"san linn\",\"chi keong\",\"oct san\",\"dns aug\",\"partha dutta\",\"steve king\",\"aug san\",\"dongfeng shi\",\"linn goh\",\"ma li\"],\"name\":\"goh partha\"},{\"children\":[\"tuller\",\"munhall\",\"arm movements\",\"schmldt\",\"scholz\",\"zelazmk\",\"hawkins\",\"physws\",\"kelso\",\"keiso\"],\"name\":\"tan kay\"},{\"children\":[\"xiaorong\",\"rubing\",\"scalable analytics\",\"tuesday erwin\",\"atc erwin\",\"rachmawati rr\",\"tuesday lily\",\"claudio\",\"leonardi rr\",\"opined\"],\"name\":\"leigh lapworth\"},{\"children\":[\"yellow belt\",\"presentation templateproject\",\"monthly meeting\",\"ruoxu\",\"postgraduate programme\",\"ipp\",\"pang chee\",\"leigh lapworth\",\"khiang justin\",\"gse\"],\"name\":\"exams\"},{\"children\":[],\"name\":\"dongfeng shi\"},{\"children\":[\"kwoh\",\"wen\",\"chee\",\"clement\",\"lin feng\",\"yew soon\",\"chia\",\"seung\",\"maswood\",\"hung\"],\"name\":\"chi keong\"},{\"children\":[],\"name\":\"bicky bhangu\"},{\"children\":[\"kansas\",\"edinburgh edinburgh\",\"nicolas\",\"gilpin\",\"stevan\",\"david thompson\",\"western ontario\",\"henrik\",\"guangyu xia\",\"mamei\"],\"name\":\"steve king\"},{\"children\":[\"rrspl rrpls\",\"erwin leonardi\",\"liaison\",\"duly executed\",\"scholarships\",\"yew\",\"tan kay\",\"rrspl master\",\"invention disclosure\",\"total academia\"],\"name\":\"erwin leonardi\"},{\"children\":[\"cyan\",\"exercise layout\",\"belt conveyor\",\"fanblade\",\"roller conveyor\",\"emptying\",\"xe conveyor\",\"transporting\",\"labeler\",\"ink cartridges\"],\"name\":\"yellow belt\"},{\"children\":[\"tuesday\",\"xiaorong\",\"tuesday erwin\",\"wang yi\",\"atc erwin\",\"leonardi rr\",\"tuesday lily\",\"rachmawati rr\",\"welcomed\",\"xiaorong ihpc\"],\"name\":\"dave knott\"},{\"children\":[\"xiaorong ihpc\",\"tuesday\",\"welcomed\",\"henry palit\",\"scalable analytics\",\"rubing\",\"tuesday erwin\",\"tuesday lily\",\"duan rubing\",\"leonardi rr\"],\"name\":\"xiaorong ihpc\"},{\"children\":[],\"name\":\"presentation templateproject\"},{\"children\":[\"counseling\",\"disclosed\",\"conceptualizing\",\"inventor\",\"competitor\",\"pleasure\",\"endeavors\",\"sachie\",\"appointment\",\"liked\"],\"name\":\"invention disclosure\"},{\"children\":[\"gary lim\",\"bather\",\"steve king\",\"lsp lim\",\"refines lsp\",\"hu jun\",\"frederic\",\"goenaga\",\"chi keong\",\"steve brown\"],\"name\":\"gary lim\"},{\"children\":[\"steve king\",\"tan kay\",\"oct san\",\"aug san\",\"dns aug\",\"telephone summary\",\"angus\",\"akhil\",\"dongfeng shi\",\"san linn\"],\"name\":\"goh chi\"},{\"children\":[\"tan kay\",\"goh chi\",\"telephone summary\",\"leigh lapworth\",\"henry palit\",\"mortimer\",\"elf\",\"rubing duan\",\"xiaorong ihpc\",\"steve king\"],\"name\":\"angus\"},{\"children\":[\"fel\",\"ents\",\"slx\",\"hardening\",\"puck\",\"emp\",\"falseness\",\"automod\",\"outer races\",\"abrasive wear\"],\"name\":\"contacts list\"},{\"children\":[\"cruise climb\",\"osys mcd\",\"refrences san\",\"demonstrate extractable\",\"landing airline\",\"overhauling induction\",\"aug san\",\"dns aug\",\"oct san\",\"borescope imaging\"],\"name\":\"telephone summary\"},{\"children\":[\"yong\",\"liaison\",\"provincial\",\"submission deadline\",\"guished\",\"internship\",\"scholarships\",\"tracy\",\"toc\",\"anil\"],\"name\":\"oral qualifying\"}],\"name\":\"partha dutta\"}"
       ]
      }
     ],
     "prompt_number": 104
    },
    {
     "cell_type": "code",
     "collapsed": false,
     "input": [],
     "language": "python",
     "metadata": {},
     "outputs": []
    },
    {
     "cell_type": "code",
     "collapsed": false,
     "input": [
      "r = word2vec_query(\"partha dutta\", 10)"
     ],
     "language": "python",
     "metadata": {},
     "outputs": [
      {
       "metadata": {},
       "output_type": "pyout",
       "prompt_number": 83,
       "text": [
        "10-element Array{ASCIIString,1}:\n",
        " \"goh partha\"    \n",
        " \"tan kay\"       \n",
        " \"leigh lapworth\"\n",
        " \"exams\"         \n",
        " \"dongfeng shi\"  \n",
        " \"chi keong\"     \n",
        " \"bicky bhangu\"  \n",
        " \"steve king\"    \n",
        " \"erwin leonardi\"\n",
        " \"yellow belt\"   "
       ]
      }
     ],
     "prompt_number": 83
    },
    {
     "cell_type": "code",
     "collapsed": false,
     "input": [
      "@manipulate for q = textbox(\"\", label = \"your query:\")\n",
      "    html(\"$(word2vec_query(q))\")\n",
      "end"
     ],
     "language": "python",
     "metadata": {},
     "outputs": [
      {
       "html": [],
       "metadata": {},
       "output_type": "display_data",
       "text": [
        "Textbox{ASCIIString}([Input{ASCIIString}] ,\"your query:\",nothing,\"\")"
       ]
      },
      {
       "html": [],
       "metadata": {},
       "output_type": "pyout",
       "prompt_number": 84,
       "text": [
        "HTML(\"\",\"SubString{UTF8String}[]\")"
       ]
      }
     ],
     "prompt_number": 84
    },
    {
     "cell_type": "code",
     "collapsed": false,
     "input": [
      "using Morsel\n",
      "\n",
      "app = Morsel.app()\n",
      "\n",
      "route(app, GET | POST | PUT, \"/\") do req, res\n",
      "    \"This is the root\"\n",
      "end\n",
      "\n",
      "get(app, \"/about\") do req, res\n",
      "    \"This app is running on Morsel\"\n",
      "end\n",
      "\n",
      "start(app, 8000)"
     ],
     "language": "python",
     "metadata": {},
     "outputs": []
    },
    {
     "cell_type": "code",
     "collapsed": false,
     "input": [],
     "language": "python",
     "metadata": {},
     "outputs": []
    }
   ],
   "metadata": {}
  }
 ]
}