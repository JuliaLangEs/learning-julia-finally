{
 "metadata": {
  "name": "",
  "signature": "sha256:406835976a25cee6f1f3c05cabeb7eb8c133c039f685c670e91f323dd8cafacf"
 },
 "nbformat": 3,
 "nbformat_minor": 0,
 "worksheets": []
}