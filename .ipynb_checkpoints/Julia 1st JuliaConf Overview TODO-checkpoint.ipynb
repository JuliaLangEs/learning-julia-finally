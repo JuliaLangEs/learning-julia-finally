{
 "metadata": {
  "language": "Julia",
  "name": "",
  "signature": "sha256:7388280b831772c1653bbce7fc24f0ab4f48e94e05443f2ef3f19a497d281e53"
 },
 "nbformat": 3,
 "nbformat_minor": 0,
 "worksheets": [
  {
   "cells": [
    {
     "cell_type": "markdown",
     "metadata": {},
     "source": [
      "## Resources\n",
      "- [John Myles White's article](http://www.johnmyleswhite.com/notebook/2014/06/30/my-experience-at-juliacon/)\n",
      "- [Offical Website](http://juliacon.org/)\n",
      "- [github website](https://github.com/JuliaCon)"
     ]
    },
    {
     "cell_type": "code",
     "collapsed": false,
     "input": [],
     "language": "python",
     "metadata": {},
     "outputs": []
    }
   ],
   "metadata": {}
  }
 ]
}