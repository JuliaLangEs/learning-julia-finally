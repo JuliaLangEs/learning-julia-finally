{
 "metadata": {
  "language": "Julia",
  "name": "",
  "signature": "sha256:d330b668d7f04cea763dfb05c29741b8cc2b5ee9c62437864858a9b1b52a458f"
 },
 "nbformat": 3,
 "nbformat_minor": 0,
 "worksheets": [
  {
   "cells": [
    {
     "cell_type": "code",
     "collapsed": false,
     "input": [
      "using DataFrames, RDatasets, GLM"
     ],
     "language": "python",
     "metadata": {},
     "outputs": [],
     "prompt_number": 2
    },
    {
     "cell_type": "markdown",
     "metadata": {},
     "source": [
      "## GLM\n",
      "- [main resource](https://github.com/JuliaStats/GLM.jl)\n",
      "- one of the [JuliaStats](http://juliastats.github.io/) packages"
     ]
    },
    {
     "cell_type": "markdown",
     "metadata": {},
     "source": [
      "### fitting a model \n",
      "\n",
      "`glm(formula, data, family, link)`\n",
      "\n",
      "- `formula`: uses column symbols from the DataFrame data, for example, if names(data)=[:Y,:X1,:X2], then a valid formula is Y~X1+X2\n",
      "- `data`: a DataFrame which may contain NA values, any rows with NA values are ignored\n",
      "- `family`: chosen from Binomial(), Gamma(), Normal(), or Poisson()\n",
      "- `link`: chosen from the list below, for example, LogitLink() is a valid link for the Binomial() family\n",
      "\n",
      "```\n",
      "CauchitLink\n",
      "CloglogLink\n",
      "IdentityLink\n",
      "InverseLink\n",
      "LogitLink\n",
      "LogLink\n",
      "ProbitLink\n",
      "SqrtLink\n",
      "```\n",
      "\n",
      "distributions and link functions\n",
      "```\n",
      "Binomial (LogitLink)\n",
      "Gamma (InverseLink)\n",
      "Normal (IdentityLink)\n",
      "Poisson (LogLink)\n",
      "```\n",
      "\n",
      "An intercept is included in any GLM by default.\n",
      "\n",
      "### Methods applied to fitted models\n",
      "\n",
      "- `coef`: extract the estimates of the coefficients in the model\n",
      "- `deviance`: measure of the model fit, weighted residual sum of squares for lm's\n",
      "- `df_residual`: degrees of freedom for residuals, when meaningful\n",
      "- `glm`: fit a generalized linear model (an alias for fit(GeneralizedLinearModel, ...))\n",
      "- `lm`: fit a linear model (an alias for fit(LinearModel, ...))\n",
      "- `stderr`: standard errors of the coefficients\n",
      "- `vcov`: estimated variance-covariance matrix of the coefficient estimates\n",
      "- `predict` : obtain predicted values of the dependent variable from the fitted model"
     ]
    },
    {
     "cell_type": "code",
     "collapsed": false,
     "input": [
      "iris = dataset(\"datasets\", \"iris\")\n",
      "iris[:SpeciesIsSetosa] = int(iris[:Species] == \"setosa\")\n",
      "head(iris, 3)"
     ],
     "language": "python",
     "metadata": {},
     "outputs": [
      {
       "html": [
        "<table class=\"data-frame\"><tr><th></th><th>SepalLength</th><th>SepalWidth</th><th>PetalLength</th><th>PetalWidth</th><th>Species</th><th>SpeciesIsSetosa</th></tr><tr><th>1</th><td>5.1</td><td>3.5</td><td>1.4</td><td>0.2</td><td>setosa</td><td>0</td></tr><tr><th>2</th><td>4.9</td><td>3.0</td><td>1.4</td><td>0.2</td><td>setosa</td><td>0</td></tr><tr><th>3</th><td>4.7</td><td>3.2</td><td>1.3</td><td>0.2</td><td>setosa</td><td>0</td></tr></table>"
       ],
       "metadata": {},
       "output_type": "pyout",
       "prompt_number": 47,
       "text": [
        "3x6 DataFrame\n",
        "| Row | SepalLength | SepalWidth | PetalLength | PetalWidth | Species  |\n",
        "|-----|-------------|------------|-------------|------------|----------|\n",
        "| 1   | 5.1         | 3.5        | 1.4         | 0.2        | \"setosa\" |\n",
        "| 2   | 4.9         | 3.0        | 1.4         | 0.2        | \"setosa\" |\n",
        "| 3   | 4.7         | 3.2        | 1.3         | 0.2        | \"setosa\" |\n",
        "\n",
        "| Row | SpeciesIsSetosa |\n",
        "|-----|-----------------|\n",
        "| 1   | 0               |\n",
        "| 2   | 0               |\n",
        "| 3   | 0               |"
       ]
      }
     ],
     "prompt_number": 47
    },
    {
     "cell_type": "code",
     "collapsed": false,
     "input": [
      "model = glm(SpeciesIsSetosa~SepalLength+SepalWidth+PetalLength+PetalWidth, \n",
      "iris, Binomial(), LogitLink())"
     ],
     "language": "python",
     "metadata": {},
     "outputs": [
      {
       "ename": "LoadError",
       "evalue": "failure to converge in 30 iterations\nwhile loading In[49], in expression starting on line 1",
       "output_type": "pyerr",
       "traceback": [
        "failure to converge in 30 iterations\nwhile loading In[49], in expression starting on line 1",
        "",
        " in error at error.jl:21",
        " in fit at /home/dola/.julia/v0.3/GLM/src/glmfit.jl:126",
        " in fit at /home/dola/.julia/v0.3/GLM/src/glmfit.jl:163",
        " in fit at /home/dola/.julia/v0.3/GLM/src/glmfit.jl:166",
        " in fit at /home/dola/.julia/v0.3/DataFrames/src/statsmodels/statsmodel.jl:55",
        " in glm at /home/dola/.julia/v0.3/GLM/src/glmfit.jl:170"
       ]
      }
     ],
     "prompt_number": 49
    },
    {
     "cell_type": "markdown",
     "metadata": {},
     "source": [
      "### examples"
     ]
    },
    {
     "cell_type": "code",
     "collapsed": false,
     "input": [
      "X1 = [1, 2, 3] \n",
      "X2 = [2, 4, 7]\n",
      "Y = X1 * 7 - X2 + randn(3)*0.1 + 5.\n",
      "df = DataFrame(X1 = X1, X2 = X2, Y = Y)"
     ],
     "language": "python",
     "metadata": {},
     "outputs": [
      {
       "html": [
        "<table class=\"data-frame\"><tr><th></th><th>X1</th><th>X2</th><th>Y</th></tr><tr><th>1</th><td>1</td><td>2</td><td>10.034710754918986</td></tr><tr><th>2</th><td>2</td><td>4</td><td>15.110987308708145</td></tr><tr><th>3</th><td>3</td><td>7</td><td>19.09000657088722</td></tr></table>"
       ],
       "metadata": {},
       "output_type": "pyout",
       "prompt_number": 24,
       "text": [
        "3x3 DataFrame\n",
        "| Row | X1 | X2 | Y       |\n",
        "|-----|----|----|---------|\n",
        "| 1   | 1  | 2  | 10.0347 |\n",
        "| 2   | 2  | 4  | 15.111  |\n",
        "| 3   | 3  | 7  | 19.09   |"
       ]
      }
     ],
     "prompt_number": 24
    },
    {
     "cell_type": "code",
     "collapsed": false,
     "input": [
      "ols = glm(Y ~ X1 + X2, df , Normal(), IdentityLink())"
     ],
     "language": "python",
     "metadata": {},
     "outputs": [
      {
       "metadata": {},
       "output_type": "pyout",
       "prompt_number": 25,
       "text": [
        "DataFrameRegressionModel{GeneralizedLinearModel,Float64}:\n",
        "\n",
        "Coefficients:\n",
        "             Estimate Std.Error z value Pr(>|z|)\n",
        "(Intercept)   4.95843       Inf     0.0   1.0000\n",
        "X1            7.27079       Inf     0.0   1.0000\n",
        "X2           -1.09726       Inf    -0.0   1.0000\n"
       ]
      }
     ],
     "prompt_number": 25
    },
    {
     "cell_type": "code",
     "collapsed": false,
     "input": [
      "sum( (predict(ols, df) - df[:Y]) .^ 2) == deviance(ols, )"
     ],
     "language": "python",
     "metadata": {},
     "outputs": [
      {
       "metadata": {},
       "output_type": "pyout",
       "prompt_number": 42,
       "text": [
        "true"
       ]
      }
     ],
     "prompt_number": 42
    },
    {
     "cell_type": "code",
     "collapsed": false,
     "input": [
      "stderr(ols)"
     ],
     "language": "python",
     "metadata": {},
     "outputs": [
      {
       "metadata": {},
       "output_type": "pyout",
       "prompt_number": 43,
       "text": [
        "3-element Array{Float64,1}:\n",
        " Inf\n",
        " Inf\n",
        " Inf"
       ]
      }
     ],
     "prompt_number": 43
    },
    {
     "cell_type": "code",
     "collapsed": false,
     "input": [
      "glm()"
     ],
     "language": "python",
     "metadata": {},
     "outputs": []
    }
   ],
   "metadata": {}
  }
 ]
}