{
 "metadata": {
  "language": "Julia",
  "name": "",
  "signature": "sha256:814ea6894a5fd1b2de2b026f8ffeb3bb66201ed8ee130727b0541b649d5b858e"
 },
 "nbformat": 3,
 "nbformat_minor": 0,
 "worksheets": [
  {
   "cells": [
    {
     "cell_type": "markdown",
     "metadata": {},
     "source": [
      "## Resources\n",
      "1. [Scipy 2014 Julia Tutorials](https://github.com/dpsanders/scipy_2014_julia)"
     ]
    },
    {
     "cell_type": "markdown",
     "metadata": {},
     "source": [
      "## Get familiar with the REPL"
     ]
    },
    {
     "cell_type": "code",
     "collapsed": false,
     "input": [
      "## for help using ?"
     ],
     "language": "python",
     "metadata": {},
     "outputs": [],
     "prompt_number": 9
    },
    {
     "cell_type": "code",
     "collapsed": false,
     "input": [
      "?pwd"
     ],
     "language": "python",
     "metadata": {},
     "outputs": [
      {
       "output_type": "stream",
       "stream": "stdout",
       "text": [
        "Base.pwd() -> String\n",
        "\n",
        "   Get the current working directory.\n"
       ]
      }
     ],
     "prompt_number": 8
    },
    {
     "cell_type": "code",
     "collapsed": false,
     "input": [
      "## command line using ;"
     ],
     "language": "python",
     "metadata": {},
     "outputs": [],
     "prompt_number": 12
    },
    {
     "cell_type": "code",
     "collapsed": false,
     "input": [
      ";ls"
     ],
     "language": "python",
     "metadata": {},
     "outputs": [
      {
       "output_type": "stream",
       "stream": "stdout",
       "text": [
        "ABC - v1.ipynb\n",
        "README.md\n"
       ]
      }
     ],
     "prompt_number": 11
    },
    {
     "cell_type": "markdown",
     "metadata": {},
     "source": [
      "## Syntex - with a focus on difference with python"
     ]
    },
    {
     "cell_type": "code",
     "collapsed": false,
     "input": [
      "## you can use markdown unicode as variable names - \\alpha ->\n",
      "\u03b1 = 1\n",
      "\u03b1"
     ],
     "language": "python",
     "metadata": {},
     "outputs": [
      {
       "metadata": {},
       "output_type": "pyout",
       "prompt_number": 15,
       "text": [
        "1"
       ]
      }
     ],
     "prompt_number": 15
    },
    {
     "cell_type": "code",
     "collapsed": false,
     "input": [
      "## there is no command, all are functions, with parenthesis\n",
      "println(\u03b1)"
     ],
     "language": "python",
     "metadata": {},
     "outputs": [
      {
       "output_type": "stream",
       "stream": "stdout",
       "text": [
        "1\n"
       ]
      }
     ],
     "prompt_number": 17
    },
    {
     "cell_type": "code",
     "collapsed": false,
     "input": [
      "## define inline functions by using expressions\n",
      "## julia uses ^ as power\n",
      "f(x) = x^2 + 2*x + 1\n",
      "f(10)"
     ],
     "language": "python",
     "metadata": {},
     "outputs": [
      {
       "metadata": {},
       "output_type": "pyout",
       "prompt_number": 18,
       "text": [
        "121"
       ]
      }
     ],
     "prompt_number": 18
    },
    {
     "cell_type": "code",
     "collapsed": false,
     "input": [
      "## they are the same\n",
      "function g(x)\n",
      "    return x*2\n",
      "end\n",
      "g(11)"
     ],
     "language": "python",
     "metadata": {},
     "outputs": [
      {
       "metadata": {},
       "output_type": "pyout",
       "prompt_number": 19,
       "text": [
        "22"
       ]
      }
     ],
     "prompt_number": 19
    },
    {
     "cell_type": "code",
     "collapsed": false,
     "input": [
      "f"
     ],
     "language": "python",
     "metadata": {},
     "outputs": [
      {
       "metadata": {},
       "output_type": "pyout",
       "prompt_number": 24,
       "text": [
        "f (generic function with 1 method)"
       ]
      }
     ],
     "prompt_number": 24
    },
    {
     "cell_type": "code",
     "collapsed": false,
     "input": [
      "g"
     ],
     "language": "python",
     "metadata": {},
     "outputs": [
      {
       "metadata": {},
       "output_type": "pyout",
       "prompt_number": 25,
       "text": [
        "g (generic function with 1 method)"
       ]
      }
     ],
     "prompt_number": 25
    },
    {
     "cell_type": "code",
     "collapsed": false,
     "input": [
      "## variable substitution\n",
      "println(\"alpha = $\u03b1\")\n",
      "println(\"sin(pi/2) = $(sin(pi/2))\")"
     ],
     "language": "python",
     "metadata": {},
     "outputs": [
      {
       "output_type": "stream",
       "stream": "stdout",
       "text": [
        "alpha = 1\n"
       ]
      },
      {
       "output_type": "stream",
       "stream": "stdout",
       "text": [
        "sin(pi/2) = 1.0\n"
       ]
      }
     ],
     "prompt_number": 36
    },
    {
     "cell_type": "code",
     "collapsed": false,
     "input": [
      "## use big to represent maximum (but NOT arbitrary) precision intergers, as the default integers are just machine intergers, so\n",
      "x = 3\n",
      "println(typeof(x))"
     ],
     "language": "python",
     "metadata": {},
     "outputs": [
      {
       "output_type": "stream",
       "stream": "stdout",
       "text": [
        "Int64\n"
       ]
      }
     ],
     "prompt_number": 40
    },
    {
     "cell_type": "code",
     "collapsed": false,
     "input": [
      "## so,\n",
      "x = int(2^62)\n",
      "println(x*6)\n",
      "## the solution is,\n",
      "x = big(2)^62\n",
      "println(x*6)\n",
      "println(typeof(x))"
     ],
     "language": "python",
     "metadata": {},
     "outputs": [
      {
       "output_type": "stream",
       "stream": "stdout",
       "text": [
        "-9223372036854775808\n"
       ]
      },
      {
       "output_type": "stream",
       "stream": "stdout",
       "text": [
        "27670116110564327424\n",
        "BigInt\n"
       ]
      }
     ],
     "prompt_number": 65
    },
    {
     "cell_type": "code",
     "collapsed": false,
     "input": [
      "## but,\n",
      "x = big(10)^27\n",
      "println(x)\n",
      "## not\n",
      "x = big(10^27)\n",
      "println(x)"
     ],
     "language": "python",
     "metadata": {},
     "outputs": [
      {
       "output_type": "stream",
       "stream": "stdout",
       "text": [
        "1000000000000000000000000000\n"
       ]
      },
      {
       "output_type": "stream",
       "stream": "stdout",
       "text": [
        "-6930898827444486144\n"
       ]
      }
     ],
     "prompt_number": 67
    },
    {
     "cell_type": "code",
     "collapsed": false,
     "input": [
      "typemax(Int64)"
     ],
     "language": "python",
     "metadata": {},
     "outputs": [
      {
       "metadata": {},
       "output_type": "pyout",
       "prompt_number": 71,
       "text": [
        "9223372036854775807"
       ]
      }
     ],
     "prompt_number": 71
    },
    {
     "cell_type": "code",
     "collapsed": false,
     "input": [
      "## Rational numbers\n",
      "x = 3//4 + 1//2\n",
      "typeof(x)"
     ],
     "language": "python",
     "metadata": {},
     "outputs": [
      {
       "metadata": {},
       "output_type": "pyout",
       "prompt_number": 75,
       "text": [
        "Rational{Int64} (constructor with 1 method)"
       ]
      }
     ],
     "prompt_number": 75
    },
    {
     "cell_type": "code",
     "collapsed": false,
     "input": [
      "## by the way the operators are just syntax sugar of functions\n",
      "/(3, 4)"
     ],
     "language": "python",
     "metadata": {},
     "outputs": [
      {
       "metadata": {},
       "output_type": "pyout",
       "prompt_number": 73,
       "text": [
        "0.75"
       ]
      }
     ],
     "prompt_number": 73
    },
    {
     "cell_type": "code",
     "collapsed": false,
     "input": [
      "## methods and functions - or methods of generic functions\n",
      "## MULTIPLE DISPATCH\n",
      "methods(//)"
     ],
     "language": "python",
     "metadata": {},
     "outputs": [
      {
       "html": [
        "8 methods for generic function <b>//</b>:<ul><li> //(n::<b>Integer</b>,d::<b>Integer</b>) at <a href=\"https://github.com/JuliaLang/julia/tree/768187890c2709bf2ff06818f40e1cdc79bd44b0/base/rational.jl#L15\" target=\"_blank\">rational.jl:15</a><li> //(x::<b>Rational{T<:Integer}</b>,y::<b>Integer</b>) at <a href=\"https://github.com/JuliaLang/julia/tree/768187890c2709bf2ff06818f40e1cdc79bd44b0/base/rational.jl#L16\" target=\"_blank\">rational.jl:16</a><li> //(x::<b>Integer</b>,y::<b>Rational{T<:Integer}</b>) at <a href=\"https://github.com/JuliaLang/julia/tree/768187890c2709bf2ff06818f40e1cdc79bd44b0/base/rational.jl#L17\" target=\"_blank\">rational.jl:17</a><li> //(x::<b>Rational{T<:Integer}</b>,y::<b>Rational{T<:Integer}</b>) at <a href=\"https://github.com/JuliaLang/julia/tree/768187890c2709bf2ff06818f40e1cdc79bd44b0/base/rational.jl#L18\" target=\"_blank\">rational.jl:18</a><li> //(x::<b>Complex{T<:Real}</b>,y::<b>Real</b>) at <a href=\"https://github.com/JuliaLang/julia/tree/768187890c2709bf2ff06818f40e1cdc79bd44b0/base/rational.jl#L19\" target=\"_blank\">rational.jl:19</a><li> //(x::<b>Real</b>,y::<b>Complex{T<:Real}</b>) at <a href=\"https://github.com/JuliaLang/julia/tree/768187890c2709bf2ff06818f40e1cdc79bd44b0/base/rational.jl#L20\" target=\"_blank\">rational.jl:20</a><li> //(x::<b>Complex{T<:Real}</b>,y::<b>Complex{T<:Real}</b>) at <a href=\"https://github.com/JuliaLang/julia/tree/768187890c2709bf2ff06818f40e1cdc79bd44b0/base/rational.jl#L23\" target=\"_blank\">rational.jl:23</a><li> //(X::<b>AbstractArray{T,N}</b>,y::<b>Number</b>) at <a href=\"https://github.com/JuliaLang/julia/tree/768187890c2709bf2ff06818f40e1cdc79bd44b0/base/rational.jl#L28\" target=\"_blank\">rational.jl:28</a></ul>"
       ],
       "metadata": {},
       "output_type": "pyout",
       "prompt_number": 77,
       "text": [
        "# 8 methods for generic function \"//\":\n",
        "//(n::Integer,d::Integer) at rational.jl:15\n",
        "//(x::Rational{T<:Integer},y::Integer) at rational.jl:16\n",
        "//(x::Integer,y::Rational{T<:Integer}) at rational.jl:17\n",
        "//(x::Rational{T<:Integer},y::Rational{T<:Integer}) at rational.jl:18\n",
        "//(x::Complex{T<:Real},y::Real) at rational.jl:19\n",
        "//(x::Real,y::Complex{T<:Real}) at rational.jl:20\n",
        "//(x::Complex{T<:Real},y::Complex{T<:Real}) at rational.jl:23\n",
        "//(X::AbstractArray{T,N},y::Number) at rational.jl:28"
       ]
      }
     ],
     "prompt_number": 77
    },
    {
     "cell_type": "markdown",
     "metadata": {},
     "source": [
      "## vectors"
     ]
    },
    {
     "cell_type": "code",
     "collapsed": false,
     "input": [
      "xs = [1, 2, 3]\n",
      "typeof(xs)"
     ],
     "language": "python",
     "metadata": {},
     "outputs": [
      {
       "metadata": {},
       "output_type": "pyout",
       "prompt_number": 80,
       "text": [
        "Array{Int64,1}"
       ]
      }
     ],
     "prompt_number": 80
    },
    {
     "cell_type": "code",
     "collapsed": false,
     "input": [
      "xs[0]"
     ],
     "language": "python",
     "metadata": {},
     "outputs": [
      {
       "ename": "LoadError",
       "evalue": "BoundsError()\nwhile loading In[83], in expression starting on line 1",
       "output_type": "pyerr",
       "traceback": [
        "BoundsError()\nwhile loading In[83], in expression starting on line 1",
        " in getindex_3B_376 at /usr/bin/../lib/x86_64-linux-gnu/julia/sys.so"
       ]
      }
     ],
     "prompt_number": 83
    },
    {
     "cell_type": "code",
     "collapsed": false,
     "input": [
      "xs[[3, 1]]"
     ],
     "language": "python",
     "metadata": {},
     "outputs": [
      {
       "metadata": {},
       "output_type": "pyout",
       "prompt_number": 87,
       "text": [
        "2-element Array{Int64,1}:\n",
        " 3\n",
        " 1"
       ]
      }
     ],
     "prompt_number": 87
    },
    {
     "cell_type": "code",
     "collapsed": false,
     "input": [
      "xs[-1]"
     ],
     "language": "python",
     "metadata": {},
     "outputs": [
      {
       "ename": "LoadError",
       "evalue": "BoundsError()\nwhile loading In[85], in expression starting on line 1",
       "output_type": "pyerr",
       "traceback": [
        "BoundsError()\nwhile loading In[85], in expression starting on line 1",
        " in getindex_3B_376 at /usr/bin/../lib/x86_64-linux-gnu/julia/sys.so"
       ]
      }
     ],
     "prompt_number": 85
    },
    {
     "cell_type": "code",
     "collapsed": false,
     "input": [
      "xs = [1, 2, 3]\n",
      "println(xs *2)"
     ],
     "language": "python",
     "metadata": {},
     "outputs": [
      {
       "output_type": "stream",
       "stream": "stdout",
       "text": [
        "[2"
       ]
      },
      {
       "output_type": "stream",
       "stream": "stdout",
       "text": [
        ",4,6]\n"
       ]
      }
     ],
     "prompt_number": 91
    },
    {
     "cell_type": "code",
     "collapsed": false,
     "input": [
      "xs = [1, \"hi\", 2]"
     ],
     "language": "python",
     "metadata": {},
     "outputs": [
      {
       "metadata": {},
       "output_type": "pyout",
       "prompt_number": 93,
       "text": [
        "3-element Array{Any,1}:\n",
        " 1    \n",
        "  \"hi\"\n",
        " 2    "
       ]
      }
     ],
     "prompt_number": 93
    },
    {
     "cell_type": "code",
     "collapsed": false,
     "input": [
      "## in julia, a char and a string are different\n",
      "xs = [1., 'a', ]"
     ],
     "language": "python",
     "metadata": {},
     "outputs": [
      {
       "metadata": {},
       "output_type": "pyout",
       "prompt_number": 96,
       "text": [
        "2-element Array{Float64,1}:\n",
        "  1.0\n",
        " 97.0"
       ]
      }
     ],
     "prompt_number": 96
    },
    {
     "cell_type": "code",
     "collapsed": false,
     "input": [
      "xs = [1., 2, 3]"
     ],
     "language": "python",
     "metadata": {},
     "outputs": [
      {
       "metadata": {},
       "output_type": "pyout",
       "prompt_number": 99,
       "text": [
        "3-element Array{Float64,1}:\n",
        " 1.0\n",
        " 2.0\n",
        " 3.0"
       ]
      }
     ],
     "prompt_number": 99
    },
    {
     "cell_type": "code",
     "collapsed": false,
     "input": [
      "xs[1:end-1]"
     ],
     "language": "python",
     "metadata": {},
     "outputs": [
      {
       "metadata": {},
       "output_type": "pyout",
       "prompt_number": 101,
       "text": [
        "2-element Array{Float64,1}:\n",
        " 1.0\n",
        " 2.0"
       ]
      }
     ],
     "prompt_number": 101
    },
    {
     "cell_type": "markdown",
     "metadata": {},
     "source": [
      "***So unlike python where lists can be heterogeneous, arrays in julia are homogeneous***"
     ]
    },
    {
     "cell_type": "code",
     "collapsed": false,
     "input": [
      "## more about Julia.Arrays - similiar to python.list and numpy.ndarray\n",
      "\n",
      "xs = [1, 2, 3]\n",
      "push!(xs, 5)\n",
      "println(xs)"
     ],
     "language": "python",
     "metadata": {},
     "outputs": [
      {
       "output_type": "stream",
       "stream": "stdout",
       "text": [
        "[1"
       ]
      },
      {
       "output_type": "stream",
       "stream": "stdout",
       "text": [
        ",2,3,5]\n"
       ]
      }
     ],
     "prompt_number": 104
    },
    {
     "cell_type": "code",
     "collapsed": false,
     "input": [
      "xs = [1, 2, 3]\n",
      "append!(xs, [6])\n",
      "println(xs)"
     ],
     "language": "python",
     "metadata": {},
     "outputs": [
      {
       "output_type": "stream",
       "stream": "stdout",
       "text": [
        "[1"
       ]
      },
      {
       "output_type": "stream",
       "stream": "stdout",
       "text": [
        ",2,3,6]\n"
       ]
      }
     ],
     "prompt_number": 107
    },
    {
     "cell_type": "code",
     "collapsed": false,
     "input": [
      "xs * 2"
     ],
     "language": "python",
     "metadata": {},
     "outputs": [
      {
       "metadata": {},
       "output_type": "pyout",
       "prompt_number": 109,
       "text": [
        "3-element Array{Int64,1}:\n",
        " 2\n",
        " 4\n",
        " 6"
       ]
      }
     ],
     "prompt_number": 109
    },
    {
     "cell_type": "markdown",
     "metadata": {},
     "source": [
      "***Different from python where lists and arrays have internal functions to that type, Julia objects don't have any methods. There are only functions that can be applied to certain objects***"
     ]
    },
    {
     "cell_type": "code",
     "collapsed": false,
     "input": [
      "methodswith(Array)[1:5]"
     ],
     "language": "python",
     "metadata": {},
     "outputs": [
      {
       "html": [
        "5-element Array{Method,1}:<ul><li> getindex(a::<b>Array{T,N}</b>) at <a href=\"https://github.com/JuliaLang/julia/tree/768187890c2709bf2ff06818f40e1cdc79bd44b0/base/array.jl#L244\" target=\"_blank\">array.jl:244</a><li> getindex(A::<b>Array{T,N}</b>,i0::<b>Real</b>) at <a href=\"https://github.com/JuliaLang/julia/tree/768187890c2709bf2ff06818f40e1cdc79bd44b0/base/array.jl#L246\" target=\"_blank\">array.jl:246</a><li> getindex(A::<b>Array{T,N}</b>,i0::<b>Real</b>,i1::<b>Real</b>) at <a href=\"https://github.com/JuliaLang/julia/tree/768187890c2709bf2ff06818f40e1cdc79bd44b0/base/array.jl#L247\" target=\"_blank\">array.jl:247</a><li> getindex(A::<b>Array{T,N}</b>,i0::<b>Real</b>,i1::<b>Real</b>,i2::<b>Real</b>) at <a href=\"https://github.com/JuliaLang/julia/tree/768187890c2709bf2ff06818f40e1cdc79bd44b0/base/array.jl#L248\" target=\"_blank\">array.jl:248</a><li> getindex(A::<b>Array{T,N}</b>,i0::<b>Real</b>,i1::<b>Real</b>,i2::<b>Real</b>,i3::<b>Real</b>) at <a href=\"https://github.com/JuliaLang/julia/tree/768187890c2709bf2ff06818f40e1cdc79bd44b0/base/array.jl#L250\" target=\"_blank\">array.jl:250</a></ul>"
       ],
       "metadata": {},
       "output_type": "pyout",
       "prompt_number": 114,
       "text": [
        "5-element Array{Method,1}:\n",
        " getindex(a::Array{T,N}) at array.jl:244                                    \n",
        " getindex(A::Array{T,N},i0::Real) at array.jl:246                           \n",
        " getindex(A::Array{T,N},i0::Real,i1::Real) at array.jl:247                  \n",
        " getindex(A::Array{T,N},i0::Real,i1::Real,i2::Real) at array.jl:248         \n",
        " getindex(A::Array{T,N},i0::Real,i1::Real,i2::Real,i3::Real) at array.jl:250"
       ]
      }
     ],
     "prompt_number": 114
    },
    {
     "cell_type": "code",
     "collapsed": false,
     "input": [
      "xs = [1, 2, 3]\n",
      "xs[xs .== 2]"
     ],
     "language": "python",
     "metadata": {},
     "outputs": [
      {
       "metadata": {},
       "output_type": "pyout",
       "prompt_number": 118,
       "text": [
        "1-element Array{Int64,1}:\n",
        " 2"
       ]
      }
     ],
     "prompt_number": 118
    },
    {
     "cell_type": "code",
     "collapsed": false,
     "input": [
      "xs = [1, 2, 3]\n",
      "ys = [4, 5, 6]\n",
      "println (xs.*ys)\n",
      "println (dot(xs,ys))"
     ],
     "language": "python",
     "metadata": {},
     "outputs": [
      {
       "output_type": "stream",
       "stream": "stdout",
       "text": [
        "[4"
       ]
      },
      {
       "output_type": "stream",
       "stream": "stdout",
       "text": [
        ",10,18]\n",
        "32\n"
       ]
      }
     ],
     "prompt_number": 121
    },
    {
     "cell_type": "code",
     "collapsed": false,
     "input": [
      "transpose(xs) == xs'"
     ],
     "language": "python",
     "metadata": {},
     "outputs": [
      {
       "metadata": {},
       "output_type": "pyout",
       "prompt_number": 123,
       "text": [
        "true"
       ]
      }
     ],
     "prompt_number": 123
    },
    {
     "cell_type": "code",
     "collapsed": false,
     "input": [
      "## How about matrices - BIG suprise to pythonist\n",
      "M = [[1, 2], [3, 4]]"
     ],
     "language": "python",
     "metadata": {},
     "outputs": [
      {
       "metadata": {},
       "output_type": "pyout",
       "prompt_number": 125,
       "text": [
        "4-element Array{Int64,1}:\n",
        " 1\n",
        " 2\n",
        " 3\n",
        " 4"
       ]
      }
     ],
     "prompt_number": 125
    },
    {
     "cell_type": "code",
     "collapsed": false,
     "input": [
      "M = [[1, 2]; [3, 4]]"
     ],
     "language": "python",
     "metadata": {},
     "outputs": [
      {
       "metadata": {},
       "output_type": "pyout",
       "prompt_number": 126,
       "text": [
        "4-element Array{Int64,1}:\n",
        " 1\n",
        " 2\n",
        " 3\n",
        " 4"
       ]
      }
     ],
     "prompt_number": 126
    },
    {
     "cell_type": "code",
     "collapsed": false,
     "input": [
      "# you have to use the matlab style\n",
      "M = [1 2; 3 4]"
     ],
     "language": "python",
     "metadata": {},
     "outputs": [
      {
       "metadata": {},
       "output_type": "pyout",
       "prompt_number": 129,
       "text": [
        "2x2 Array{Int64,2}:\n",
        " 1  2\n",
        " 3  4"
       ]
      }
     ],
     "prompt_number": 129
    },
    {
     "cell_type": "code",
     "collapsed": false,
     "input": [
      "## or even more ugly\n",
      "M = reshape([1, 2, 3, 4], (2, 2))"
     ],
     "language": "python",
     "metadata": {},
     "outputs": [
      {
       "metadata": {},
       "output_type": "pyout",
       "prompt_number": 130,
       "text": [
        "2x2 Array{Int64,2}:\n",
        " 1  3\n",
        " 2  4"
       ]
      }
     ],
     "prompt_number": 130
    },
    {
     "cell_type": "code",
     "collapsed": false,
     "input": [
      "## geeky stuff\n",
      "println(xs, ys)\n",
      "println(xs \u22c5 ys)\n",
      "println(xs \u00d7 ys)"
     ],
     "language": "python",
     "metadata": {},
     "outputs": [
      {
       "output_type": "stream",
       "stream": "stdout",
       "text": [
        "[1"
       ]
      },
      {
       "output_type": "stream",
       "stream": "stdout",
       "text": [
        ",2,3][4,5,6]\n",
        "32\n",
        "[-3,6,-3]\n"
       ]
      }
     ],
     "prompt_number": 134
    },
    {
     "cell_type": "code",
     "collapsed": false,
     "input": [
      "[1:2:10]"
     ],
     "language": "python",
     "metadata": {},
     "outputs": [
      {
       "metadata": {},
       "output_type": "pyout",
       "prompt_number": 137,
       "text": [
        "5-element Array{Int64,1}:\n",
        " 1\n",
        " 3\n",
        " 5\n",
        " 7\n",
        " 9"
       ]
      }
     ],
     "prompt_number": 137
    },
    {
     "cell_type": "code",
     "collapsed": false,
     "input": [],
     "language": "python",
     "metadata": {},
     "outputs": []
    }
   ],
   "metadata": {}
  }
 ]
}