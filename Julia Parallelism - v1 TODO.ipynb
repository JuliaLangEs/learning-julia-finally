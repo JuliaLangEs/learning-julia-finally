{
 "metadata": {
  "language": "Julia",
  "name": "",
  "signature": "sha256:1b93a8b1cf204facc1aed13692f9a4e9813fd2fc1ad9e7c4c8167f2dbbd73eea"
 },
 "nbformat": 3,
 "nbformat_minor": 0,
 "worksheets": [
  {
   "cells": [
    {
     "cell_type": "markdown",
     "metadata": {},
     "source": [
      "Most machine learning tasks are based on **Embarassingly Parallel** mode. Mainly two things are explored in this notebook\n",
      "\n",
      "- distributed array for parallel tasks\n",
      "- shared array for large read-only data to avoid huge data transform overhead\n",
      "\n",
      "\n",
      "Resources"
     ]
    },
    {
     "cell_type": "code",
     "collapsed": false,
     "input": [
      "## start multiple process in notebook\n",
      "addprocs(20)\n"
     ],
     "language": "python",
     "metadata": {},
     "outputs": [
      {
       "metadata": {},
       "output_type": "pyout",
       "prompt_number": 1,
       "text": [
        "21"
       ]
      }
     ],
     "prompt_number": 1
    },
    {
     "cell_type": "code",
     "collapsed": false,
     "input": [
      "nprocs(), nworkers()"
     ],
     "language": "python",
     "metadata": {},
     "outputs": [
      {
       "metadata": {},
       "output_type": "pyout",
       "prompt_number": 3,
       "text": [
        "(21,20)"
       ]
      }
     ],
     "prompt_number": 3
    },
    {
     "cell_type": "code",
     "collapsed": false,
     "input": [
      "## simple test\n",
      "@time @parallel (+) for i in 1:10000000; randn(); end"
     ],
     "language": "python",
     "metadata": {},
     "outputs": [
      {
       "output_type": "stream",
       "stream": "stdout",
       "text": [
        "elapsed time: 0."
       ]
      },
      {
       "output_type": "stream",
       "stream": "stdout",
       "text": [
        "038040522 seconds (457752 bytes allocated)\n"
       ]
      },
      {
       "metadata": {},
       "output_type": "pyout",
       "prompt_number": 7,
       "text": [
        "1007.9371474987297"
       ]
      }
     ],
     "prompt_number": 7
    },
    {
     "cell_type": "code",
     "collapsed": false,
     "input": [],
     "language": "python",
     "metadata": {},
     "outputs": []
    }
   ],
   "metadata": {}
  }
 ]
}