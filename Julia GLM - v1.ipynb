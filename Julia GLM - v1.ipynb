{
 "metadata": {
  "name": "",
  "signature": "sha256:ef9364bdab27ffd41e23c9fd9246b91009fd7c26a6081ecab6bf7511bc29364e"
 },
 "nbformat": 3,
 "nbformat_minor": 0,
 "worksheets": []
}