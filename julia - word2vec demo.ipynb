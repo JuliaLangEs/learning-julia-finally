{
 "metadata": {
  "language": "Julia",
  "name": "",
  "signature": "sha256:ff1510e47754d71700730476d720460b58a23a9eb903de164f49a52d6e76cedb"
 },
 "nbformat": 3,
 "nbformat_minor": 0,
 "worksheets": [
  {
   "cells": [
    {
     "cell_type": "code",
     "collapsed": false,
     "input": [
      "WORD2VEC_PATH = \"/home/dola/opt/word2vec/\"\n",
      "DIST_COMMAND = joinpath(WORD2VEC_PATH, \"distance_command\")\n",
      "BIN_FILE = joinpath(WORD2VEC_PATH, \"shared-folder-phrase.bin\")\n",
      "\n",
      "function word2vec_query(q)\n",
      "    cmd = `$DIST_COMMAND $BIN_FILE $q`\n",
      "    result = readchomp(cmd)\n",
      "    pattern = r\"\\w+\\t\\t[\\d.]+\"\n",
      "    word_wts = map(str -> split(str, \"\\t\\t\"), matchall(pattern, result))\n",
      "    word_wts = map(pair -> (pair[1], float(pair[2])), word_wts)\n",
      "    return word_wts\n",
      "    #words = map(p -> p[1], word_wts)\n",
      "    #return words\n",
      "end"
     ],
     "language": "python",
     "metadata": {},
     "outputs": [
      {
       "metadata": {},
       "output_type": "pyout",
       "prompt_number": 14,
       "text": [
        "word2vec_query (generic function with 1 method)"
       ]
      }
     ],
     "prompt_number": 14
    },
    {
     "cell_type": "code",
     "collapsed": false,
     "input": [
      "r = word2vec_query(\"partha dutta daas\")"
     ],
     "language": "python",
     "metadata": {},
     "outputs": [
      {
       "metadata": {},
       "output_type": "pyout",
       "prompt_number": 15,
       "text": [
        "40-element Array{(SubString{UTF8String},Float64),1}:\n",
        " (\"goh_partha\",0.746121)                  \n",
        " (\"ma_li\",0.737357)                       \n",
        " (\"leigh_lapworth\",0.73008)               \n",
        " (\"web_tier\",0.730008)                    \n",
        " (\"chi_keong\",0.698656)                   \n",
        " (\"erwin_leonardi\",0.694426)              \n",
        " (\"exams\",0.690431)                       \n",
        " (\"diagrams_prototyping\",0.689024)        \n",
        " (\"dongfeng_shi\",0.682231)                \n",
        " (\"marine_services\",0.681836)             \n",
        " (\"fantb\",0.678363)                       \n",
        " (\"poc\",0.677481)                         \n",
        " (\"presentation_fulfills\",0.677056)       \n",
        " \u22ee                                        \n",
        " (\"angus\",0.648656)                       \n",
        " (\"fyp\",0.648145)                         \n",
        " (\"texture_descriptor\",0.647156)          \n",
        " (\"sandpit_environment\",0.646831)         \n",
        " (\"ruoxu\",0.639795)                       \n",
        " (\"circulate\",0.639274)                   \n",
        " (\"your_yours\",0.638932)                  \n",
        " (\"presentation_templateproject\",0.638112)\n",
        " (\"restful_web\",0.635046)                 \n",
        " (\"sincerely_kurichi\",0.633297)           \n",
        " (\"asrc_env\",0.630808)                    \n",
        " (\"blogs\",0.630385)                       "
       ]
      }
     ],
     "prompt_number": 15
    },
    {
     "cell_type": "code",
     "collapsed": false,
     "input": [
      "using Graphs\n",
      "g = simple_graph(4,is_directed = false)"
     ],
     "language": "python",
     "metadata": {},
     "outputs": [
      {
       "metadata": {},
       "output_type": "pyout",
       "prompt_number": 91,
       "text": [
        "Undirected Graph (4 vertices, 0 edges)"
       ]
      }
     ],
     "prompt_number": 91
    },
    {
     "cell_type": "code",
     "collapsed": false,
     "input": [
      "#@graph_implements g edge_map incidence_list"
     ],
     "language": "python",
     "metadata": {},
     "outputs": [],
     "prompt_number": 89
    },
    {
     "cell_type": "code",
     "collapsed": false,
     "input": [
      "add_edge!(g, 1, 2)\n",
      "add_edge!(g, 1, 4)\n",
      "add_edge!(g, 2, 4)\n",
      "add_edge!(g, 3, 1)\n",
      "add_edge!(g, 3, 2)\n",
      "add_edge!(g, 4, 3)"
     ],
     "language": "python",
     "metadata": {},
     "outputs": [
      {
       "metadata": {},
       "output_type": "pyout",
       "prompt_number": 93,
       "text": [
        "edge [6]: 4 -- 3"
       ]
      }
     ],
     "prompt_number": 93
    },
    {
     "cell_type": "code",
     "collapsed": false,
     "input": [
      "test_cyclic_by_dfs(g)"
     ],
     "language": "python",
     "metadata": {},
     "outputs": [
      {
       "metadata": {},
       "output_type": "pyout",
       "prompt_number": 98,
       "text": [
        "true"
       ]
      }
     ],
     "prompt_number": 98
    },
    {
     "cell_type": "code",
     "collapsed": false,
     "input": [
      "@graph_implements edge_map incidence_list"
     ],
     "language": "python",
     "metadata": {},
     "outputs": [
      {
       "ename": "LoadError",
       "evalue": "error in method definition: function Graphs.implements_incidence_list must be explicitly imported to be extended\nwhile loading In[100], in expression starting on line 1",
       "output_type": "pyerr",
       "traceback": [
        "error in method definition: function Graphs.implements_incidence_list must be explicitly imported to be extended\nwhile loading In[100], in expression starting on line 1",
        ""
       ]
      }
     ],
     "prompt_number": 100
    },
    {
     "cell_type": "code",
     "collapsed": false,
     "input": [
      "implements_incidence_list"
     ],
     "language": "python",
     "metadata": {},
     "outputs": [
      {
       "metadata": {},
       "output_type": "pyout",
       "prompt_number": 104,
       "text": [
        "implements_incidence_list (generic function with 2 methods)"
       ]
      }
     ],
     "prompt_number": 104
    },
    {
     "cell_type": "code",
     "collapsed": false,
     "input": [],
     "language": "python",
     "metadata": {},
     "outputs": []
    }
   ],
   "metadata": {}
  }
 ]
}