{
 "metadata": {
  "language": "Julia",
  "name": "",
  "signature": "sha256:1327c502595c395906864b5158911d926439d502b307fcd9e1cbc4b445b20222"
 },
 "nbformat": 3,
 "nbformat_minor": 0,
 "worksheets": [
  {
   "cells": [
    {
     "cell_type": "code",
     "collapsed": false,
     "input": [
      "using Interact, Reactive, JSON"
     ],
     "language": "python",
     "metadata": {},
     "outputs": [],
     "prompt_number": 87
    },
    {
     "cell_type": "code",
     "collapsed": false,
     "input": [
      "WORD2VEC_PATH = \"/home/dola/opt/word2vec/\"\n",
      "DIST_COMMAND = joinpath(WORD2VEC_PATH, \"distance_command\")\n",
      "BIN_FILE = joinpath(WORD2VEC_PATH, \"shared-folder-phrase.bin\")\n",
      "\n",
      "function word2vec_query(q, n = 40)\n",
      "    cmd = `$DIST_COMMAND $BIN_FILE $q`\n",
      "    result = readchomp(cmd)\n",
      "    pattern = r\"\\w+\\t\\t[\\d.]+\"\n",
      "    word_wts = map(str -> split(str, \"\\t\\t\"), matchall(pattern, result))\n",
      "    word_wts = map(pair -> (replace(pair[1], \"_\", \" \"), float(pair[2])), word_wts)\n",
      "    words = map(p -> p[1], word_wts)\n",
      "    if length(words) >= n\n",
      "        return words[1:n]\n",
      "    else\n",
      "        return words\n",
      "    end\n",
      "end\n",
      "\n",
      "function word2vec_tree(q, n = 10, d = 4)\n",
      "    \"\"\"\n",
      "    n: number of nodes per level\n",
      "    d: depth of levels\n",
      "    \"\"\"\n",
      "    if d == 1\n",
      "        tree = {:name => q, \n",
      "            :children => [{:name => qq} for qq in word2vec_query(q, n)]}\n",
      "    else\n",
      "        tree = {:name => q, \n",
      "                :children => [word2vec_tree(qq, 10, d-1) \n",
      "                for qq in word2vec_query(q, n)]}\n",
      "    end\n",
      "    tree\n",
      "end"
     ],
     "language": "python",
     "metadata": {},
     "outputs": [
      {
       "metadata": {},
       "output_type": "pyout",
       "prompt_number": 108,
       "text": [
        "word2vec_tree (generic function with 3 methods)"
       ]
      }
     ],
     "prompt_number": 108
    },
    {
     "cell_type": "code",
     "collapsed": false,
     "input": [
      "r = word2vec_tree(\"partha dutta\", 20, 2)"
     ],
     "language": "python",
     "metadata": {},
     "outputs": [
      {
       "metadata": {},
       "output_type": "pyout",
       "prompt_number": 109,
       "text": [
        "Dict{Any,Any} with 2 entries:\n",
        "  :children => [{:children=>[{:name=>\"san linn\"},{:name=>\"chi keong\"},{:name=>\"\u2026\n",
        "  :name     => \"partha dutta\""
       ]
      }
     ],
     "prompt_number": 109
    },
    {
     "cell_type": "code",
     "collapsed": false,
     "input": [
      "r[:children][1]"
     ],
     "language": "python",
     "metadata": {},
     "outputs": [
      {
       "metadata": {},
       "output_type": "pyout",
       "prompt_number": 110,
       "text": [
        "Dict{Any,Any} with 2 entries:\n",
        "  :children => [{:name=>\"san linn\"},{:name=>\"chi keong\"},{:name=>\"oct san\"},{:n\u2026\n",
        "  :name     => \"goh partha\""
       ]
      }
     ],
     "prompt_number": 110
    },
    {
     "cell_type": "code",
     "collapsed": false,
     "input": [
      "print(json(r))"
     ],
     "language": "python",
     "metadata": {},
     "outputs": [
      {
       "output_type": "stream",
       "stream": "stdout",
       "text": [
        "{\"children\":[{\"children\":[{\"name\":\"san linn\"},{\"name\":\"chi keong\"},{\"name\":\"oct san\"},{\"name\":\"dns aug\"},{\"name\":\"partha dutta\"},{\"name\":\"steve king\"},{\"name\":\"aug san\"},{\"name\":\"dongfeng shi\"},{\"name\":\"linn goh\"},{\"name\":\"ma li\"}],\"name\":\"goh partha\"},{\"children\":[{\"name\":\"tuller\"},{\"name\":\"munhall\"},{\"name\":\"arm movements\"},{\"name\":\"schmldt\"},{\"name\":\"scholz\"},{\"name\":\"zelazmk\"},{\"name\":\"hawkins\"},{\"name\":\"physws\"},{\"name\":\"kelso\"},{\"name\":\"keiso\"}],\"name\":\"tan kay\"},{\"children\":[{\"name\":\"xiaorong\"},{\"name\":\"rubing\"},{\"name\":\"scalable analytics\"},{\"name\":\"tuesday erwin\"},{\"name\":\"atc erwin\"},{\"name\":\"rachmawati rr\"},{\"name\":\"tuesday lily\"},{\"name\":\"claudio\"},{\"name\":\"leonardi rr\"},{\"name\":\"opined\"}],\"name\":\"leigh lapworth\"},{\"children\":[{\"name\":\"yellow belt\"},{\"name\":\"presentation templateproject\"},{\"name\":\"monthly meeting\"},{\"name\":\"ruoxu\"},{\"name\":\"postgraduate programme\"},{\"name\":\"ipp\"},{\"name\":\"pang chee\"},{\"name\":\"leigh lapworth\"},{\"name\":\"khiang justin\"},{\"name\":\"gse\"}],\"name\":\"exams\"},{\"children\":[],\"name\":\"dongfeng shi\"},{\"children\":[{\"name\":\"kwoh\"},{\"name\":\"wen\"},{\"name\":\"chee\"},{\"name\":\"clement\"},{\"name\":\"lin feng\"},{\"name\":\"yew soon\"},{\"name\":\"chia\"},{\"name\":\"seung\"},{\"name\":\"maswood\"},{\"name\":\"hung\"}],\"name\":\"chi keong\"},{\"children\":[],\"name\":\"bicky bhangu\"},{\"children\":[{\"name\":\"kansas\"},{\"name\":\"edinburgh edinburgh\"},{\"name\":\"nicolas\"},{\"name\":\"gilpin\"},{\"name\":\"stevan\"},{\"name\":\"david thompson\"},{\"name\":\"western ontario\"},{\"name\":\"henrik\"},{\"name\":\"guangyu xia\"},{\"name\":\"mamei\"}],\"name\":\"steve king\"},{\"children\":[{\"name\":\"rrspl rrpls\"},{\"name\":\"erwin leonardi\"},{\"name\":\"liaison\"},{\"name\":\"duly executed\"},{\"name\":\"scholarships\"},{\"name\":\"yew\"},{\"name\":\"tan kay\"},{\"name\":\"rrspl master\"},{\"name\":\"invention disclosure\"},{\"name\":\"total academia\"}],\"name\":\"erwin leonardi\"},{\"children\":[{\"name\":\"cyan\"},{\"name\":\"exercise layout\"},{\"name\":\"belt conveyor\"},{\"name\":\"fanblade\"},{\"name\":\"roller conveyor\"},{\"name\":\"emptying\"},{\"name\":\"xe conveyor\"},{\"name\":\"transporting\"},{\"name\":\"labeler\"},{\"name\":\"ink cartridges\"}],\"name\":\"yellow belt\"},{\"children\":[{\"name\":\"tuesday\"},{\"name\":\"xiaorong\"},{\"name\":\"tuesday erwin\"},{\"name\":\"wang yi\"},{\"name\":\"atc erwin\"},{\"name\":\"leonardi rr\"},{\"name\":\"tuesday lily\"},{\"name\":\"rachmawati rr\"},{\"name\":\"welcomed\"},{\"name\":\"xiaorong ihpc\"}],\"name\":\"dave knott\"},{\"children\":[{\"name\":\"xiaorong ihpc\"},{\"name\":\"tuesday\"},{\"name\":\"welcomed\"},{\"name\":\"henry palit\"},{\"name\":\"scalable analytics\"},{\"name\":\"rubing\"},{\"name\":\"tuesday erwin\"},{\"name\":\"tuesday lily\"},{\"name\":\"duan rubing\"},{\"name\":\"leonardi rr\"}],\"name\":\"xiaorong ihpc\"},{\"children\":[],\"name\":\"presentation templateproject\"},{\"children\":[{\"name\":\"counseling\"},{\"name\":\"disclosed\"},{\"name\":\"conceptualizing\"},{\"name\":\"inventor\"},{\"name\":\"competitor\"},{\"name\":\"pleasure\"},{\"name\":\"endeavors\"},{\"name\":\"sachie\"},{\"name\":\"appointment\"},{\"name\":\"liked\"}],\"name\":\"invention disclosure\"},{\"children\":[{\"name\":\"gary lim\"},{\"name\":\"bather\"},{\"name\":\"steve king\"},{\"name\":\"lsp lim\"},{\"name\":\"refines lsp\"},{\"name\":\"hu jun\"},{\"name\":\"frederic\"},{\"name\":\"goenaga\"},{\"name\":\"chi keong\"},{\"name\":\"steve brown\"}],\"name\":\"gary lim\"},{\"children\":[{\"name\":\"steve king\"},{\"name\":\"tan kay\"},{\"name\":\"oct san\"},{\"name\":\"aug san\"},{\"name\":\"dns aug\"},{\"name\":\"telephone summary\"},{\"name\":\"angus\"},{\"name\":\"akhil\"},{\"name\":\"dongfeng shi\"},{\"name\":\"san linn\"}],\"name\":\"goh chi\"},{\"children\":[{\"name\":\"tan kay\"},{\"name\":\"goh chi\"},{\"name\":\"telephone summary\"},{\"name\":\"leigh lapworth\"},{\"name\":\"henry palit\"},{\"name\":\"mortimer\"},{\"name\":\"elf\"},{\"name\":\"rubing duan\"},{\"name\":\"xiaorong ihpc\"},{\"name\":\"steve king\"}],\"name\":\"angus\"},{\"children\":[{\"name\":\"fel\"},{\"name\":\"ents\"},{\"name\":\"slx\"},{\"name\":\"hardening\"},{\"name\":\"puck\"},{\"name\":\"emp\"},{\"name\":\"falseness\"},{\"name\":\"automod\"},{\"name\":\"outer races\"},{\"name\":\"abrasive wear\"}],\"name\":\"contacts list\"},{\"children\":[{\"name\":\"cruise climb\"},{\"name\":\"osys mcd\"},{\"name\":\"refrences san\"},{\"name\":\"demonstrate extractable\"},{\"name\":\"landing airline\"},{\"name\":\"overhauling induction\"},{\"name\":\"aug san\"},{\"name\":\"dns aug\"},{\"name\":\"oct san\"},{\"name\":\"borescope imaging\"}],\"name\":\"telephone summary\"},{\"children\":[{\"name\":\"yong\"},{\"name\":\"liaison\"},{\"name\":\"provincial\"},{\"name\":\"submission deadline\"},{\"name\":\"guished\"},{\"name\":\"internship\"},{\"name\":\"scholarships\"},{\"name\":\"tracy\"},{\"name\":\"toc\"},{\"name\":\"anil\"}],\"name\":\"oral qualifying\"}],\"name\":\"partha dutta\"}"
       ]
      }
     ],
     "prompt_number": 111
    },
    {
     "cell_type": "code",
     "collapsed": false,
     "input": [],
     "language": "python",
     "metadata": {},
     "outputs": []
    },
    {
     "cell_type": "code",
     "collapsed": false,
     "input": [
      "r = word2vec_query(\"partha dutta\", 10)"
     ],
     "language": "python",
     "metadata": {},
     "outputs": [
      {
       "metadata": {},
       "output_type": "pyout",
       "prompt_number": 83,
       "text": [
        "10-element Array{ASCIIString,1}:\n",
        " \"goh partha\"    \n",
        " \"tan kay\"       \n",
        " \"leigh lapworth\"\n",
        " \"exams\"         \n",
        " \"dongfeng shi\"  \n",
        " \"chi keong\"     \n",
        " \"bicky bhangu\"  \n",
        " \"steve king\"    \n",
        " \"erwin leonardi\"\n",
        " \"yellow belt\"   "
       ]
      }
     ],
     "prompt_number": 83
    },
    {
     "cell_type": "code",
     "collapsed": false,
     "input": [
      "@manipulate for q = textbox(\"\", label = \"your query:\")\n",
      "    html(\"$(word2vec_query(q))\")\n",
      "end"
     ],
     "language": "python",
     "metadata": {},
     "outputs": [
      {
       "html": [],
       "metadata": {},
       "output_type": "display_data",
       "text": [
        "Textbox{ASCIIString}([Input{ASCIIString}] ,\"your query:\",nothing,\"\")"
       ]
      },
      {
       "html": [],
       "metadata": {},
       "output_type": "pyout",
       "prompt_number": 84,
       "text": [
        "HTML(\"\",\"SubString{UTF8String}[]\")"
       ]
      }
     ],
     "prompt_number": 84
    },
    {
     "cell_type": "code",
     "collapsed": false,
     "input": [
      "using Morsel\n",
      "\n",
      "app = Morsel.app()\n",
      "\n",
      "route(app, GET | POST | PUT, \"/\") do req, res\n",
      "    \"This is the root\"\n",
      "end\n",
      "\n",
      "get(app, \"/about\") do req, res\n",
      "    \"This app is running on Morsel\"\n",
      "end\n",
      "\n",
      "start(app, 8000)"
     ],
     "language": "python",
     "metadata": {},
     "outputs": []
    },
    {
     "cell_type": "code",
     "collapsed": false,
     "input": [],
     "language": "python",
     "metadata": {},
     "outputs": []
    }
   ],
   "metadata": {}
  }
 ]
}